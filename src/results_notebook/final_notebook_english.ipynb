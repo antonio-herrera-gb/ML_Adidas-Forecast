{
 "cells": [
  {
   "cell_type": "markdown",
   "metadata": {},
   "source": [
    "# Imports for the project:"
   ]
  },
  {
   "cell_type": "code",
   "execution_count": 1,
   "metadata": {},
   "outputs": [
    {
     "name": "stdout",
     "output_type": "stream",
     "text": [
      "c:\\Users\\Usuario\\REPO_BOOTCAMP\\ML_Adidas-Forecast\\src\\results_notebook\n"
     ]
    }
   ],
   "source": [
    "import sys\n",
    "import os\n",
    "print(os.getcwd())\n",
    "sys.path.append(os.path.abspath(\"../\"))"
   ]
  },
  {
   "cell_type": "code",
   "execution_count": 2,
   "metadata": {},
   "outputs": [
    {
     "name": "stdout",
     "output_type": "stream",
     "text": [
      "Paquete utils cargado correctamente\n"
     ]
    }
   ],
   "source": [
    "import matplotlib.pyplot as plt\n",
    "import numpy as np\n",
    "import pandas as pd\n",
    "import seaborn as sns\n",
    "\n",
    "from catboost import CatBoostRegressor\n",
    "from scipy.special import inv_boxcox\n",
    "from scipy.stats import boxcox\n",
    "from sklearn.compose import ColumnTransformer\n",
    "from sklearn.ensemble import RandomForestRegressor\n",
    "from sklearn.linear_model import LinearRegression\n",
    "from sklearn.neural_network import MLPRegressor\n",
    "from sklearn.metrics import mean_absolute_error, mean_squared_error, r2_score, make_scorer\n",
    "from sklearn.model_selection import GridSearchCV, KFold, RandomizedSearchCV, train_test_split, cross_val_score\n",
    "from sklearn.preprocessing import OneHotEncoder\n",
    "from xgboost import XGBRegressor\n",
    "\n",
    "import utils.bootcampviztools as bt\n",
    "import utils.funciones_eda as fe\n",
    "import utils.toolbox_ML as tb\n"
   ]
  },
  {
   "cell_type": "markdown",
   "metadata": {},
   "source": [
    "# ✅ Step 1: Objective of the project.\n"
   ]
  },
  {
   "cell_type": "markdown",
   "metadata": {},
   "source": [
    "### ADIDAS AND ITS RETAILERS IN THE UNITED STATES 🔎\n",
    "\n",
    "Adidas wants to know a reasonable prediction of how much the retailer shops will be selling in order to know if the products they are ordering are appropriate for their level of turnover. It is very important that the product is in the most efficient place possible and for that we have to predict it.\n",
    "\n",
    "At the same time, they want to set up a logistics system for the US states where there is more demand for the product. This would prevent stock-outs and improve costs, as the best-selling product in each state would be closer to these distribution shops.\n",
    "\n",
    "🤔 QUESTIONS WE ASK OURSELVES 🤔.\n",
    "\n",
    "A. PREDICTING THE BILLING OF DISTRIBUTING STORES 💵 (pt. I)\n",
    "\n",
    "B. PREVENTING STOCK-OUT AND MARKET RESEARCH 🚛 (pt. II)\n",
    "- Which market is the booming market for these years?\n",
    "- Are there any markets we should be aware of that are declining?\n",
    "- Will shops meet the minimum desired turnover?\n",
    "- Does turnover vary with seasonality?\n",
    "- In which regions should we have a stronger logistics centre for the future?\n",
    "- How much stock per category should be available in each region?\n",
    "\n",
    "🙋‍♂️ *The project contains **two parts**. As it is a large project, the first part **(A)** will be the one submitted for qualification. Part II **(B)** will be answered in the coming weeks on a personal basis.\n",
    "\n",
    "👁‍🗨 *The role of ‘Business’ is very important in this project. There are many nuances that depending on what ‘Business’ sees fit, it would be done one way or another."
   ]
  },
  {
   "cell_type": "markdown",
   "metadata": {},
   "source": [
    "# ✅ Step 2: Obtaining data.\n"
   ]
  },
  {
   "cell_type": "code",
   "execution_count": 3,
   "metadata": {},
   "outputs": [],
   "source": [
    "file_path = \"../data/adidas_sales.csv\""
   ]
  },
  {
   "cell_type": "code",
   "execution_count": 4,
   "metadata": {},
   "outputs": [
    {
     "data": {
      "text/html": [
       "<div>\n",
       "<style scoped>\n",
       "    .dataframe tbody tr th:only-of-type {\n",
       "        vertical-align: middle;\n",
       "    }\n",
       "\n",
       "    .dataframe tbody tr th {\n",
       "        vertical-align: top;\n",
       "    }\n",
       "\n",
       "    .dataframe thead th {\n",
       "        text-align: right;\n",
       "    }\n",
       "</style>\n",
       "<table border=\"1\" class=\"dataframe\">\n",
       "  <thead>\n",
       "    <tr style=\"text-align: right;\">\n",
       "      <th></th>\n",
       "      <th>Retailer</th>\n",
       "      <th>Retailer ID</th>\n",
       "      <th>Invoice Date</th>\n",
       "      <th>Region</th>\n",
       "      <th>State</th>\n",
       "      <th>City</th>\n",
       "      <th>Product</th>\n",
       "      <th>Price per Unit</th>\n",
       "      <th>Units Sold</th>\n",
       "      <th>Total Sales</th>\n",
       "      <th>Operating Profit</th>\n",
       "      <th>Sales Method</th>\n",
       "    </tr>\n",
       "  </thead>\n",
       "  <tbody>\n",
       "    <tr>\n",
       "      <th>0</th>\n",
       "      <td>Walmart</td>\n",
       "      <td>1128299</td>\n",
       "      <td>6/17/2021</td>\n",
       "      <td>Southeast</td>\n",
       "      <td>Florida</td>\n",
       "      <td>Orlando</td>\n",
       "      <td>Women's Apparel</td>\n",
       "      <td>$103.00</td>\n",
       "      <td>218</td>\n",
       "      <td>2,245</td>\n",
       "      <td>$1,257</td>\n",
       "      <td>Online</td>\n",
       "    </tr>\n",
       "    <tr>\n",
       "      <th>1</th>\n",
       "      <td>West Gear</td>\n",
       "      <td>1128299</td>\n",
       "      <td>7/16/2021</td>\n",
       "      <td>South</td>\n",
       "      <td>Louisiana</td>\n",
       "      <td>New Orleans</td>\n",
       "      <td>Women's Apparel</td>\n",
       "      <td>$103.00</td>\n",
       "      <td>163</td>\n",
       "      <td>1,679</td>\n",
       "      <td>$806</td>\n",
       "      <td>Online</td>\n",
       "    </tr>\n",
       "    <tr>\n",
       "      <th>2</th>\n",
       "      <td>Sports Direct</td>\n",
       "      <td>1197831</td>\n",
       "      <td>8/25/2021</td>\n",
       "      <td>South</td>\n",
       "      <td>Alabama</td>\n",
       "      <td>Birmingham</td>\n",
       "      <td>Men's Street Footwear</td>\n",
       "      <td>$10.00</td>\n",
       "      <td>700</td>\n",
       "      <td>7,000</td>\n",
       "      <td>$3,150</td>\n",
       "      <td>Outlet</td>\n",
       "    </tr>\n",
       "    <tr>\n",
       "      <th>3</th>\n",
       "      <td>Sports Direct</td>\n",
       "      <td>1197831</td>\n",
       "      <td>8/27/2021</td>\n",
       "      <td>South</td>\n",
       "      <td>Alabama</td>\n",
       "      <td>Birmingham</td>\n",
       "      <td>Women's Street Footwear</td>\n",
       "      <td>$15.00</td>\n",
       "      <td>575</td>\n",
       "      <td>8,625</td>\n",
       "      <td>$3,881</td>\n",
       "      <td>Outlet</td>\n",
       "    </tr>\n",
       "    <tr>\n",
       "      <th>4</th>\n",
       "      <td>Sports Direct</td>\n",
       "      <td>1197831</td>\n",
       "      <td>8/21/2021</td>\n",
       "      <td>South</td>\n",
       "      <td>Alabama</td>\n",
       "      <td>Birmingham</td>\n",
       "      <td>Women's Street Footwear</td>\n",
       "      <td>$15.00</td>\n",
       "      <td>475</td>\n",
       "      <td>7,125</td>\n",
       "      <td>$3,206</td>\n",
       "      <td>Outlet</td>\n",
       "    </tr>\n",
       "  </tbody>\n",
       "</table>\n",
       "</div>"
      ],
      "text/plain": [
       "        Retailer  Retailer ID Invoice Date     Region      State         City  \\\n",
       "0        Walmart      1128299    6/17/2021  Southeast    Florida      Orlando   \n",
       "1      West Gear      1128299    7/16/2021      South  Louisiana  New Orleans   \n",
       "2  Sports Direct      1197831    8/25/2021      South    Alabama   Birmingham   \n",
       "3  Sports Direct      1197831    8/27/2021      South    Alabama   Birmingham   \n",
       "4  Sports Direct      1197831    8/21/2021      South    Alabama   Birmingham   \n",
       "\n",
       "                   Product Price per Unit Units Sold Total Sales  \\\n",
       "0          Women's Apparel       $103.00         218       2,245   \n",
       "1          Women's Apparel       $103.00         163       1,679   \n",
       "2    Men's Street Footwear        $10.00         700       7,000   \n",
       "3  Women's Street Footwear        $15.00         575       8,625   \n",
       "4  Women's Street Footwear        $15.00         475       7,125   \n",
       "\n",
       "  Operating Profit Sales Method  \n",
       "0          $1,257        Online  \n",
       "1            $806        Online  \n",
       "2          $3,150        Outlet  \n",
       "3          $3,881        Outlet  \n",
       "4          $3,206        Outlet  "
      ]
     },
     "execution_count": 4,
     "metadata": {},
     "output_type": "execute_result"
    }
   ],
   "source": [
    "df = pd.read_csv(file_path)\n",
    "df.head(5)"
   ]
  },
  {
   "cell_type": "markdown",
   "metadata": {},
   "source": [
    "---------\n",
    "At a quick view we see:\n",
    "- Spaced columns.\n",
    "- Error in the calculation of ***\"Total Sales ’***.\n",
    "- Columns that we are going to clean to have the DataFrame as functional as possible.\n",
    "\n",
    "And more things that we will see in the next step"
   ]
  },
  {
   "cell_type": "markdown",
   "metadata": {},
   "source": [
    "# ✅ Step 3: Data cleansing - Corrections - Target.\n"
   ]
  },
  {
   "cell_type": "markdown",
   "metadata": {},
   "source": [
    "- We solve the spaced columns:"
   ]
  },
  {
   "cell_type": "code",
   "execution_count": 5,
   "metadata": {},
   "outputs": [],
   "source": [
    "df.columns = df.columns.str.lower()\n",
    "df.columns = df.columns.str.replace(\" \", \"_\")"
   ]
  },
  {
   "cell_type": "code",
   "execution_count": 6,
   "metadata": {},
   "outputs": [
    {
     "name": "stdout",
     "output_type": "stream",
     "text": [
      "<class 'pandas.core.frame.DataFrame'>\n",
      "RangeIndex: 9641 entries, 0 to 9640\n",
      "Data columns (total 12 columns):\n",
      " #   Column            Non-Null Count  Dtype \n",
      "---  ------            --------------  ----- \n",
      " 0   retailer          9641 non-null   object\n",
      " 1   retailer_id       9641 non-null   int64 \n",
      " 2   invoice_date      9641 non-null   object\n",
      " 3   region            9641 non-null   object\n",
      " 4   state             9641 non-null   object\n",
      " 5   city              9641 non-null   object\n",
      " 6   product           9641 non-null   object\n",
      " 7   price_per_unit    9639 non-null   object\n",
      " 8   units_sold        9641 non-null   object\n",
      " 9   total_sales       9641 non-null   object\n",
      " 10  operating_profit  9641 non-null   object\n",
      " 11  sales_method      9641 non-null   object\n",
      "dtypes: int64(1), object(11)\n",
      "memory usage: 904.0+ KB\n"
     ]
    }
   ],
   "source": [
    "df.info()"
   ]
  },
  {
   "cell_type": "markdown",
   "metadata": {},
   "source": [
    "- Missing values in ***\"price_per_unit “*** but first we will fix the calculation error in ***”total_sales ’***.\n",
    "- We have object type in all columns, we need to transform some of them to numeric.\n",
    "- We want to transform ***\"invoice_date ’*** to datetime.\n",
    "- Let's remove columns not relevant to the project."
   ]
  },
  {
   "cell_type": "code",
   "execution_count": 7,
   "metadata": {},
   "outputs": [
    {
     "data": {
      "text/html": [
       "<div>\n",
       "<style scoped>\n",
       "    .dataframe tbody tr th:only-of-type {\n",
       "        vertical-align: middle;\n",
       "    }\n",
       "\n",
       "    .dataframe tbody tr th {\n",
       "        vertical-align: top;\n",
       "    }\n",
       "\n",
       "    .dataframe thead th {\n",
       "        text-align: right;\n",
       "    }\n",
       "</style>\n",
       "<table border=\"1\" class=\"dataframe\">\n",
       "  <thead>\n",
       "    <tr style=\"text-align: right;\">\n",
       "      <th></th>\n",
       "      <th>retailer</th>\n",
       "      <th>retailer_id</th>\n",
       "      <th>invoice_date</th>\n",
       "      <th>region</th>\n",
       "      <th>state</th>\n",
       "      <th>city</th>\n",
       "      <th>product</th>\n",
       "      <th>price_per_unit</th>\n",
       "      <th>units_sold</th>\n",
       "      <th>total_sales</th>\n",
       "      <th>operating_profit</th>\n",
       "      <th>sales_method</th>\n",
       "    </tr>\n",
       "  </thead>\n",
       "  <tbody>\n",
       "    <tr>\n",
       "      <th>78</th>\n",
       "      <td>West Gear</td>\n",
       "      <td>1128299</td>\n",
       "      <td>1/12/2021</td>\n",
       "      <td>West</td>\n",
       "      <td>California</td>\n",
       "      <td>San Francisco</td>\n",
       "      <td>Men's Street Footwear</td>\n",
       "      <td>$41.00</td>\n",
       "      <td>338</td>\n",
       "      <td>1,386</td>\n",
       "      <td>$527</td>\n",
       "      <td>Outlet</td>\n",
       "    </tr>\n",
       "  </tbody>\n",
       "</table>\n",
       "</div>"
      ],
      "text/plain": [
       "     retailer  retailer_id invoice_date region       state           city  \\\n",
       "78  West Gear      1128299    1/12/2021   West  California  San Francisco   \n",
       "\n",
       "                  product price_per_unit units_sold total_sales  \\\n",
       "78  Men's Street Footwear        $41.00         338       1,386   \n",
       "\n",
       "   operating_profit sales_method  \n",
       "78            $527        Outlet  "
      ]
     },
     "execution_count": 7,
     "metadata": {},
     "output_type": "execute_result"
    }
   ],
   "source": [
    "df[df.index == 78]"
   ]
  },
  {
   "cell_type": "markdown",
   "metadata": {},
   "source": [
    "- If we look at the *sample* we can see that the multiplication in ***\"total_sales ’*** (*price_per_unit* and *units_sold*) is not correct. Let's do it again and correct the dollar sign. We will make it a numeric type. Finally we will add two decimals in the columns."
   ]
  },
  {
   "cell_type": "code",
   "execution_count": 8,
   "metadata": {},
   "outputs": [],
   "source": [
    "df[\"price_per_unit\"] = df[\"price_per_unit\"].str.replace(\"$\", \"\")\n",
    "df[\"price_per_unit\"] = pd.to_numeric(df[\"price_per_unit\"], errors=\"coerce\")"
   ]
  },
  {
   "cell_type": "code",
   "execution_count": 9,
   "metadata": {},
   "outputs": [
    {
     "data": {
      "text/html": [
       "<div>\n",
       "<style scoped>\n",
       "    .dataframe tbody tr th:only-of-type {\n",
       "        vertical-align: middle;\n",
       "    }\n",
       "\n",
       "    .dataframe tbody tr th {\n",
       "        vertical-align: top;\n",
       "    }\n",
       "\n",
       "    .dataframe thead th {\n",
       "        text-align: right;\n",
       "    }\n",
       "</style>\n",
       "<table border=\"1\" class=\"dataframe\">\n",
       "  <thead>\n",
       "    <tr style=\"text-align: right;\">\n",
       "      <th></th>\n",
       "      <th>retailer</th>\n",
       "      <th>retailer_id</th>\n",
       "      <th>invoice_date</th>\n",
       "      <th>region</th>\n",
       "      <th>state</th>\n",
       "      <th>city</th>\n",
       "      <th>product</th>\n",
       "      <th>price_per_unit</th>\n",
       "      <th>units_sold</th>\n",
       "      <th>total_sales</th>\n",
       "      <th>operating_profit</th>\n",
       "      <th>sales_method</th>\n",
       "    </tr>\n",
       "  </thead>\n",
       "  <tbody>\n",
       "    <tr>\n",
       "      <th>9541</th>\n",
       "      <td>Foot Locker</td>\n",
       "      <td>1185732</td>\n",
       "      <td>7/25/2021</td>\n",
       "      <td>Midwest</td>\n",
       "      <td>Nebraska</td>\n",
       "      <td>Omaha</td>\n",
       "      <td>Women's Apparel</td>\n",
       "      <td>55.0</td>\n",
       "      <td>200</td>\n",
       "      <td>11,000</td>\n",
       "      <td>$5,500</td>\n",
       "      <td>Outlet</td>\n",
       "    </tr>\n",
       "    <tr>\n",
       "      <th>6386</th>\n",
       "      <td>Foot Locker</td>\n",
       "      <td>1185732</td>\n",
       "      <td>11/21/2021</td>\n",
       "      <td>Northeast</td>\n",
       "      <td>Maryland</td>\n",
       "      <td>Baltimore</td>\n",
       "      <td>Men's Apparel</td>\n",
       "      <td>56.0</td>\n",
       "      <td>31</td>\n",
       "      <td>174</td>\n",
       "      <td>$76</td>\n",
       "      <td>Online</td>\n",
       "    </tr>\n",
       "    <tr>\n",
       "      <th>8551</th>\n",
       "      <td>West Gear</td>\n",
       "      <td>1128299</td>\n",
       "      <td>5/18/2021</td>\n",
       "      <td>South</td>\n",
       "      <td>Louisiana</td>\n",
       "      <td>New Orleans</td>\n",
       "      <td>Women's Street Footwear</td>\n",
       "      <td>50.0</td>\n",
       "      <td>400</td>\n",
       "      <td>20,000</td>\n",
       "      <td>$8,000</td>\n",
       "      <td>In-store</td>\n",
       "    </tr>\n",
       "    <tr>\n",
       "      <th>5911</th>\n",
       "      <td>Foot Locker</td>\n",
       "      <td>1185732</td>\n",
       "      <td>12/9/2020</td>\n",
       "      <td>Midwest</td>\n",
       "      <td>Minnesota</td>\n",
       "      <td>Minneapolis</td>\n",
       "      <td>Women's Apparel</td>\n",
       "      <td>39.0</td>\n",
       "      <td>52</td>\n",
       "      <td>203</td>\n",
       "      <td>$116</td>\n",
       "      <td>Online</td>\n",
       "    </tr>\n",
       "    <tr>\n",
       "      <th>4308</th>\n",
       "      <td>Amazon</td>\n",
       "      <td>1185732</td>\n",
       "      <td>6/22/2021</td>\n",
       "      <td>Southeast</td>\n",
       "      <td>Kentucky</td>\n",
       "      <td>Louisville</td>\n",
       "      <td>Women's Apparel</td>\n",
       "      <td>52.0</td>\n",
       "      <td>101</td>\n",
       "      <td>525</td>\n",
       "      <td>$273</td>\n",
       "      <td>Online</td>\n",
       "    </tr>\n",
       "    <tr>\n",
       "      <th>3381</th>\n",
       "      <td>Amazon</td>\n",
       "      <td>1185732</td>\n",
       "      <td>10/22/2021</td>\n",
       "      <td>Southeast</td>\n",
       "      <td>Kentucky</td>\n",
       "      <td>Louisville</td>\n",
       "      <td>Men's Street Footwear</td>\n",
       "      <td>53.0</td>\n",
       "      <td>126</td>\n",
       "      <td>668</td>\n",
       "      <td>$367</td>\n",
       "      <td>Online</td>\n",
       "    </tr>\n",
       "  </tbody>\n",
       "</table>\n",
       "</div>"
      ],
      "text/plain": [
       "         retailer  retailer_id invoice_date     region      state  \\\n",
       "9541  Foot Locker      1185732    7/25/2021    Midwest   Nebraska   \n",
       "6386  Foot Locker      1185732   11/21/2021  Northeast   Maryland   \n",
       "8551    West Gear      1128299    5/18/2021      South  Louisiana   \n",
       "5911  Foot Locker      1185732    12/9/2020    Midwest  Minnesota   \n",
       "4308       Amazon      1185732    6/22/2021  Southeast   Kentucky   \n",
       "3381       Amazon      1185732   10/22/2021  Southeast   Kentucky   \n",
       "\n",
       "             city                  product  price_per_unit units_sold  \\\n",
       "9541        Omaha          Women's Apparel            55.0        200   \n",
       "6386    Baltimore            Men's Apparel            56.0         31   \n",
       "8551  New Orleans  Women's Street Footwear            50.0        400   \n",
       "5911  Minneapolis          Women's Apparel            39.0         52   \n",
       "4308   Louisville          Women's Apparel            52.0        101   \n",
       "3381   Louisville    Men's Street Footwear            53.0        126   \n",
       "\n",
       "     total_sales operating_profit sales_method  \n",
       "9541      11,000          $5,500        Outlet  \n",
       "6386         174             $76        Online  \n",
       "8551      20,000          $8,000      In-store  \n",
       "5911         203            $116        Online  \n",
       "4308         525            $273        Online  \n",
       "3381         668            $367        Online  "
      ]
     },
     "execution_count": 9,
     "metadata": {},
     "output_type": "execute_result"
    }
   ],
   "source": [
    "# Visión general de los datos\n",
    "df.sample(6)"
   ]
  },
  {
   "cell_type": "code",
   "execution_count": 10,
   "metadata": {},
   "outputs": [],
   "source": [
    "df[\"units_sold\"] = pd.to_numeric(df[\"units_sold\"].str.replace(\",\", \"\"),errors=\"coerce\")"
   ]
  },
  {
   "cell_type": "code",
   "execution_count": 11,
   "metadata": {},
   "outputs": [
    {
     "name": "stdout",
     "output_type": "stream",
     "text": [
      "<class 'pandas.core.frame.DataFrame'>\n",
      "RangeIndex: 9641 entries, 0 to 9640\n",
      "Data columns (total 12 columns):\n",
      " #   Column            Non-Null Count  Dtype  \n",
      "---  ------            --------------  -----  \n",
      " 0   retailer          9641 non-null   object \n",
      " 1   retailer_id       9641 non-null   int64  \n",
      " 2   invoice_date      9641 non-null   object \n",
      " 3   region            9641 non-null   object \n",
      " 4   state             9641 non-null   object \n",
      " 5   city              9641 non-null   object \n",
      " 6   product           9641 non-null   object \n",
      " 7   price_per_unit    9639 non-null   float64\n",
      " 8   units_sold        9641 non-null   int64  \n",
      " 9   total_sales       9641 non-null   object \n",
      " 10  operating_profit  9641 non-null   object \n",
      " 11  sales_method      9641 non-null   object \n",
      "dtypes: float64(1), int64(2), object(9)\n",
      "memory usage: 904.0+ KB\n"
     ]
    }
   ],
   "source": [
    "df.info()"
   ]
  },
  {
   "cell_type": "markdown",
   "metadata": {},
   "source": [
    "Being numeric columns we could already calculate the correct ‘total_sales’ but let's visualise the nulls first before touching the data."
   ]
  },
  {
   "cell_type": "code",
   "execution_count": 12,
   "metadata": {},
   "outputs": [
    {
     "data": {
      "text/html": [
       "<div>\n",
       "<style scoped>\n",
       "    .dataframe tbody tr th:only-of-type {\n",
       "        vertical-align: middle;\n",
       "    }\n",
       "\n",
       "    .dataframe tbody tr th {\n",
       "        vertical-align: top;\n",
       "    }\n",
       "\n",
       "    .dataframe thead th {\n",
       "        text-align: right;\n",
       "    }\n",
       "</style>\n",
       "<table border=\"1\" class=\"dataframe\">\n",
       "  <thead>\n",
       "    <tr style=\"text-align: right;\">\n",
       "      <th></th>\n",
       "      <th>retailer</th>\n",
       "      <th>retailer_id</th>\n",
       "      <th>invoice_date</th>\n",
       "      <th>region</th>\n",
       "      <th>state</th>\n",
       "      <th>city</th>\n",
       "      <th>product</th>\n",
       "      <th>price_per_unit</th>\n",
       "      <th>units_sold</th>\n",
       "      <th>total_sales</th>\n",
       "      <th>operating_profit</th>\n",
       "      <th>sales_method</th>\n",
       "    </tr>\n",
       "  </thead>\n",
       "  <tbody>\n",
       "    <tr>\n",
       "      <th>6725</th>\n",
       "      <td>Foot Locker</td>\n",
       "      <td>1185732</td>\n",
       "      <td>1/29/2020</td>\n",
       "      <td>Northeast</td>\n",
       "      <td>New York</td>\n",
       "      <td>New York</td>\n",
       "      <td>Men's Apparel</td>\n",
       "      <td>NaN</td>\n",
       "      <td>850</td>\n",
       "      <td>51,000</td>\n",
       "      <td>$15,300</td>\n",
       "      <td>Outlet</td>\n",
       "    </tr>\n",
       "    <tr>\n",
       "      <th>7882</th>\n",
       "      <td>Sports Direct</td>\n",
       "      <td>1197831</td>\n",
       "      <td>7/29/2020</td>\n",
       "      <td>South</td>\n",
       "      <td>Texas</td>\n",
       "      <td>Houston</td>\n",
       "      <td>Men's Apparel</td>\n",
       "      <td>NaN</td>\n",
       "      <td>500</td>\n",
       "      <td>20,000</td>\n",
       "      <td>$6,000</td>\n",
       "      <td>Outlet</td>\n",
       "    </tr>\n",
       "  </tbody>\n",
       "</table>\n",
       "</div>"
      ],
      "text/plain": [
       "           retailer  retailer_id invoice_date     region     state      city  \\\n",
       "6725    Foot Locker      1185732    1/29/2020  Northeast  New York  New York   \n",
       "7882  Sports Direct      1197831    7/29/2020      South     Texas   Houston   \n",
       "\n",
       "            product  price_per_unit  units_sold total_sales operating_profit  \\\n",
       "6725  Men's Apparel             NaN         850      51,000         $15,300    \n",
       "7882  Men's Apparel             NaN         500      20,000          $6,000    \n",
       "\n",
       "     sales_method  \n",
       "6725       Outlet  \n",
       "7882       Outlet  "
      ]
     },
     "execution_count": 12,
     "metadata": {},
     "output_type": "execute_result"
    }
   ],
   "source": [
    "df[df.isnull().any(axis=1)]"
   ]
  },
  {
   "cell_type": "markdown",
   "metadata": {},
   "source": [
    "---------\n",
    "🤔 This would be a question for ‘Business’ because we have two solutions to deal with these nulls.\n",
    "1. We understand that the division of ***\"total_sales “*** / ***”units_sold “*** give the result of ***”price_per_unit ’***.\n",
    "2. We have seen that there are values of ***\"total_sales ’*** that were not well calculated and they all have in common the missing last digit.\n",
    "\n",
    "Since there are two missing values, let's rely on the values we have from the dataset and do option 1."
   ]
  },
  {
   "cell_type": "code",
   "execution_count": 13,
   "metadata": {},
   "outputs": [],
   "source": [
    "df[\"total_sales\"] = pd.to_numeric(df[\"total_sales\"].str.replace(\",\", \"\"),errors=\"coerce\")\n"
   ]
  },
  {
   "cell_type": "code",
   "execution_count": 14,
   "metadata": {},
   "outputs": [],
   "source": [
    "df[\"price_per_unit\"] = df[\"price_per_unit\"].fillna(df[\"total_sales\"] / df[\"units_sold\"])"
   ]
  },
  {
   "cell_type": "code",
   "execution_count": 15,
   "metadata": {},
   "outputs": [
    {
     "name": "stdout",
     "output_type": "stream",
     "text": [
      "<class 'pandas.core.frame.DataFrame'>\n",
      "RangeIndex: 9641 entries, 0 to 9640\n",
      "Data columns (total 12 columns):\n",
      " #   Column            Non-Null Count  Dtype  \n",
      "---  ------            --------------  -----  \n",
      " 0   retailer          9641 non-null   object \n",
      " 1   retailer_id       9641 non-null   int64  \n",
      " 2   invoice_date      9641 non-null   object \n",
      " 3   region            9641 non-null   object \n",
      " 4   state             9641 non-null   object \n",
      " 5   city              9641 non-null   object \n",
      " 6   product           9641 non-null   object \n",
      " 7   price_per_unit    9641 non-null   float64\n",
      " 8   units_sold        9641 non-null   int64  \n",
      " 9   total_sales       9641 non-null   int64  \n",
      " 10  operating_profit  9641 non-null   object \n",
      " 11  sales_method      9641 non-null   object \n",
      "dtypes: float64(1), int64(3), object(8)\n",
      "memory usage: 904.0+ KB\n"
     ]
    }
   ],
   "source": [
    "df.info()"
   ]
  },
  {
   "cell_type": "markdown",
   "metadata": {},
   "source": [
    "- We calculate the correct values of ***\"total_sales ’***."
   ]
  },
  {
   "cell_type": "code",
   "execution_count": 16,
   "metadata": {},
   "outputs": [],
   "source": [
    "df[\"total_sales\"] = df[\"price_per_unit\"] * df[\"units_sold\"]"
   ]
  },
  {
   "cell_type": "code",
   "execution_count": 17,
   "metadata": {},
   "outputs": [
    {
     "data": {
      "text/html": [
       "<div>\n",
       "<style scoped>\n",
       "    .dataframe tbody tr th:only-of-type {\n",
       "        vertical-align: middle;\n",
       "    }\n",
       "\n",
       "    .dataframe tbody tr th {\n",
       "        vertical-align: top;\n",
       "    }\n",
       "\n",
       "    .dataframe thead th {\n",
       "        text-align: right;\n",
       "    }\n",
       "</style>\n",
       "<table border=\"1\" class=\"dataframe\">\n",
       "  <thead>\n",
       "    <tr style=\"text-align: right;\">\n",
       "      <th></th>\n",
       "      <th>retailer</th>\n",
       "      <th>retailer_id</th>\n",
       "      <th>invoice_date</th>\n",
       "      <th>region</th>\n",
       "      <th>state</th>\n",
       "      <th>city</th>\n",
       "      <th>product</th>\n",
       "      <th>price_per_unit</th>\n",
       "      <th>units_sold</th>\n",
       "      <th>total_sales</th>\n",
       "      <th>operating_profit</th>\n",
       "      <th>sales_method</th>\n",
       "    </tr>\n",
       "  </thead>\n",
       "  <tbody>\n",
       "    <tr>\n",
       "      <th>8470</th>\n",
       "      <td>West Gear</td>\n",
       "      <td>1128299</td>\n",
       "      <td>1/16/2020</td>\n",
       "      <td>West</td>\n",
       "      <td>Nevada</td>\n",
       "      <td>Las Vegas</td>\n",
       "      <td>Women's Street Footwear</td>\n",
       "      <td>55.0</td>\n",
       "      <td>400</td>\n",
       "      <td>22000.0</td>\n",
       "      <td>$8,800</td>\n",
       "      <td>Outlet</td>\n",
       "    </tr>\n",
       "    <tr>\n",
       "      <th>6693</th>\n",
       "      <td>Sports Direct</td>\n",
       "      <td>1185732</td>\n",
       "      <td>7/15/2021</td>\n",
       "      <td>Midwest</td>\n",
       "      <td>Michigan</td>\n",
       "      <td>Detroit</td>\n",
       "      <td>Men's Street Footwear</td>\n",
       "      <td>60.0</td>\n",
       "      <td>900</td>\n",
       "      <td>54000.0</td>\n",
       "      <td>$27,000</td>\n",
       "      <td>In-store</td>\n",
       "    </tr>\n",
       "    <tr>\n",
       "      <th>393</th>\n",
       "      <td>Foot Locker</td>\n",
       "      <td>1185732</td>\n",
       "      <td>3/7/2020</td>\n",
       "      <td>Northeast</td>\n",
       "      <td>New York</td>\n",
       "      <td>New York</td>\n",
       "      <td>Women's Athletic Footwear</td>\n",
       "      <td>47.0</td>\n",
       "      <td>261</td>\n",
       "      <td>12267.0</td>\n",
       "      <td>$552</td>\n",
       "      <td>Online</td>\n",
       "    </tr>\n",
       "    <tr>\n",
       "      <th>9008</th>\n",
       "      <td>Amazon</td>\n",
       "      <td>1185732</td>\n",
       "      <td>6/19/2021</td>\n",
       "      <td>Northeast</td>\n",
       "      <td>New Hampshire</td>\n",
       "      <td>Manchester</td>\n",
       "      <td>Men's Apparel</td>\n",
       "      <td>65.0</td>\n",
       "      <td>325</td>\n",
       "      <td>21125.0</td>\n",
       "      <td>$6,338</td>\n",
       "      <td>In-store</td>\n",
       "    </tr>\n",
       "    <tr>\n",
       "      <th>7763</th>\n",
       "      <td>Sports Direct</td>\n",
       "      <td>1197831</td>\n",
       "      <td>9/25/2021</td>\n",
       "      <td>South</td>\n",
       "      <td>Alabama</td>\n",
       "      <td>Birmingham</td>\n",
       "      <td>Men's Athletic Footwear</td>\n",
       "      <td>30.0</td>\n",
       "      <td>525</td>\n",
       "      <td>15750.0</td>\n",
       "      <td>$7,875</td>\n",
       "      <td>Outlet</td>\n",
       "    </tr>\n",
       "  </tbody>\n",
       "</table>\n",
       "</div>"
      ],
      "text/plain": [
       "           retailer  retailer_id invoice_date     region          state  \\\n",
       "8470      West Gear      1128299    1/16/2020       West         Nevada   \n",
       "6693  Sports Direct      1185732    7/15/2021    Midwest       Michigan   \n",
       "393     Foot Locker      1185732     3/7/2020  Northeast       New York   \n",
       "9008         Amazon      1185732    6/19/2021  Northeast  New Hampshire   \n",
       "7763  Sports Direct      1197831    9/25/2021      South        Alabama   \n",
       "\n",
       "            city                    product  price_per_unit  units_sold  \\\n",
       "8470   Las Vegas    Women's Street Footwear            55.0         400   \n",
       "6693     Detroit      Men's Street Footwear            60.0         900   \n",
       "393     New York  Women's Athletic Footwear            47.0         261   \n",
       "9008  Manchester              Men's Apparel            65.0         325   \n",
       "7763  Birmingham    Men's Athletic Footwear            30.0         525   \n",
       "\n",
       "      total_sales operating_profit sales_method  \n",
       "8470      22000.0          $8,800        Outlet  \n",
       "6693      54000.0         $27,000      In-store  \n",
       "393       12267.0            $552        Online  \n",
       "9008      21125.0          $6,338      In-store  \n",
       "7763      15750.0          $7,875        Outlet  "
      ]
     },
     "execution_count": 17,
     "metadata": {},
     "output_type": "execute_result"
    }
   ],
   "source": [
    "df.sample(5)"
   ]
  },
  {
   "cell_type": "markdown",
   "metadata": {},
   "source": [
    "- Delete rows with result 0 in total_sales"
   ]
  },
  {
   "cell_type": "code",
   "execution_count": 18,
   "metadata": {},
   "outputs": [],
   "source": [
    "df = df[df[\"total_sales\"] != 0]"
   ]
  },
  {
   "cell_type": "markdown",
   "metadata": {},
   "source": [
    "- DateTime for ***\"invoice_date ’*** and we order the DataFrame"
   ]
  },
  {
   "cell_type": "code",
   "execution_count": 19,
   "metadata": {},
   "outputs": [],
   "source": [
    "df[\"invoice_date\"] = pd.to_datetime(df[\"invoice_date\"])"
   ]
  },
  {
   "cell_type": "code",
   "execution_count": 20,
   "metadata": {},
   "outputs": [
    {
     "data": {
      "text/html": [
       "<div>\n",
       "<style scoped>\n",
       "    .dataframe tbody tr th:only-of-type {\n",
       "        vertical-align: middle;\n",
       "    }\n",
       "\n",
       "    .dataframe tbody tr th {\n",
       "        vertical-align: top;\n",
       "    }\n",
       "\n",
       "    .dataframe thead th {\n",
       "        text-align: right;\n",
       "    }\n",
       "</style>\n",
       "<table border=\"1\" class=\"dataframe\">\n",
       "  <thead>\n",
       "    <tr style=\"text-align: right;\">\n",
       "      <th></th>\n",
       "      <th>retailer</th>\n",
       "      <th>retailer_id</th>\n",
       "      <th>invoice_date</th>\n",
       "      <th>region</th>\n",
       "      <th>state</th>\n",
       "      <th>city</th>\n",
       "      <th>product</th>\n",
       "      <th>price_per_unit</th>\n",
       "      <th>units_sold</th>\n",
       "      <th>total_sales</th>\n",
       "      <th>operating_profit</th>\n",
       "      <th>sales_method</th>\n",
       "    </tr>\n",
       "  </thead>\n",
       "  <tbody>\n",
       "    <tr>\n",
       "      <th>9189</th>\n",
       "      <td>Foot Locker</td>\n",
       "      <td>1185732</td>\n",
       "      <td>2020-01-01</td>\n",
       "      <td>Northeast</td>\n",
       "      <td>Pennsylvania</td>\n",
       "      <td>Philadelphia</td>\n",
       "      <td>Women's Apparel</td>\n",
       "      <td>75.0</td>\n",
       "      <td>275</td>\n",
       "      <td>20625.0</td>\n",
       "      <td>$6,188</td>\n",
       "      <td>Outlet</td>\n",
       "    </tr>\n",
       "    <tr>\n",
       "      <th>4937</th>\n",
       "      <td>Foot Locker</td>\n",
       "      <td>1185732</td>\n",
       "      <td>2020-01-01</td>\n",
       "      <td>Northeast</td>\n",
       "      <td>Pennsylvania</td>\n",
       "      <td>Philadelphia</td>\n",
       "      <td>Women's Apparel</td>\n",
       "      <td>53.0</td>\n",
       "      <td>83</td>\n",
       "      <td>4399.0</td>\n",
       "      <td>$141</td>\n",
       "      <td>Outlet</td>\n",
       "    </tr>\n",
       "    <tr>\n",
       "      <th>30</th>\n",
       "      <td>Foot Locker</td>\n",
       "      <td>1185732</td>\n",
       "      <td>2020-01-01</td>\n",
       "      <td>Northeast</td>\n",
       "      <td>New York</td>\n",
       "      <td>New York</td>\n",
       "      <td>Men's Street Footwear</td>\n",
       "      <td>34.0</td>\n",
       "      <td>384</td>\n",
       "      <td>13056.0</td>\n",
       "      <td>$679</td>\n",
       "      <td>Outlet</td>\n",
       "    </tr>\n",
       "    <tr>\n",
       "      <th>4908</th>\n",
       "      <td>Foot Locker</td>\n",
       "      <td>1185732</td>\n",
       "      <td>2020-01-01</td>\n",
       "      <td>Northeast</td>\n",
       "      <td>Pennsylvania</td>\n",
       "      <td>Philadelphia</td>\n",
       "      <td>Women's Apparel</td>\n",
       "      <td>68.0</td>\n",
       "      <td>83</td>\n",
       "      <td>5644.0</td>\n",
       "      <td>$243</td>\n",
       "      <td>Online</td>\n",
       "    </tr>\n",
       "    <tr>\n",
       "      <th>79</th>\n",
       "      <td>Foot Locker</td>\n",
       "      <td>1185732</td>\n",
       "      <td>2020-01-01</td>\n",
       "      <td>Northeast</td>\n",
       "      <td>New York</td>\n",
       "      <td>New York</td>\n",
       "      <td>Men's Street Footwear</td>\n",
       "      <td>47.0</td>\n",
       "      <td>336</td>\n",
       "      <td>15792.0</td>\n",
       "      <td>$963</td>\n",
       "      <td>Online</td>\n",
       "    </tr>\n",
       "    <tr>\n",
       "      <th>6562</th>\n",
       "      <td>Foot Locker</td>\n",
       "      <td>1185732</td>\n",
       "      <td>2020-01-01</td>\n",
       "      <td>Northeast</td>\n",
       "      <td>New York</td>\n",
       "      <td>New York</td>\n",
       "      <td>Men's Street Footwear</td>\n",
       "      <td>50.0</td>\n",
       "      <td>1200</td>\n",
       "      <td>60000.0</td>\n",
       "      <td>$30,000</td>\n",
       "      <td>In-store</td>\n",
       "    </tr>\n",
       "    <tr>\n",
       "      <th>6588</th>\n",
       "      <td>Foot Locker</td>\n",
       "      <td>1185732</td>\n",
       "      <td>2020-01-02</td>\n",
       "      <td>Northeast</td>\n",
       "      <td>New York</td>\n",
       "      <td>New York</td>\n",
       "      <td>Men's Athletic Footwear</td>\n",
       "      <td>50.0</td>\n",
       "      <td>1000</td>\n",
       "      <td>50000.0</td>\n",
       "      <td>$15,000</td>\n",
       "      <td>In-store</td>\n",
       "    </tr>\n",
       "    <tr>\n",
       "      <th>117</th>\n",
       "      <td>Foot Locker</td>\n",
       "      <td>1185732</td>\n",
       "      <td>2020-01-02</td>\n",
       "      <td>Northeast</td>\n",
       "      <td>New York</td>\n",
       "      <td>New York</td>\n",
       "      <td>Men's Athletic Footwear</td>\n",
       "      <td>36.0</td>\n",
       "      <td>320</td>\n",
       "      <td>11520.0</td>\n",
       "      <td>$403</td>\n",
       "      <td>Outlet</td>\n",
       "    </tr>\n",
       "  </tbody>\n",
       "</table>\n",
       "</div>"
      ],
      "text/plain": [
       "         retailer  retailer_id invoice_date     region         state  \\\n",
       "9189  Foot Locker      1185732   2020-01-01  Northeast  Pennsylvania   \n",
       "4937  Foot Locker      1185732   2020-01-01  Northeast  Pennsylvania   \n",
       "30    Foot Locker      1185732   2020-01-01  Northeast      New York   \n",
       "4908  Foot Locker      1185732   2020-01-01  Northeast  Pennsylvania   \n",
       "79    Foot Locker      1185732   2020-01-01  Northeast      New York   \n",
       "6562  Foot Locker      1185732   2020-01-01  Northeast      New York   \n",
       "6588  Foot Locker      1185732   2020-01-02  Northeast      New York   \n",
       "117   Foot Locker      1185732   2020-01-02  Northeast      New York   \n",
       "\n",
       "              city                  product  price_per_unit  units_sold  \\\n",
       "9189  Philadelphia          Women's Apparel            75.0         275   \n",
       "4937  Philadelphia          Women's Apparel            53.0          83   \n",
       "30        New York    Men's Street Footwear            34.0         384   \n",
       "4908  Philadelphia          Women's Apparel            68.0          83   \n",
       "79        New York    Men's Street Footwear            47.0         336   \n",
       "6562      New York    Men's Street Footwear            50.0        1200   \n",
       "6588      New York  Men's Athletic Footwear            50.0        1000   \n",
       "117       New York  Men's Athletic Footwear            36.0         320   \n",
       "\n",
       "      total_sales operating_profit sales_method  \n",
       "9189      20625.0          $6,188        Outlet  \n",
       "4937       4399.0            $141        Outlet  \n",
       "30        13056.0            $679        Outlet  \n",
       "4908       5644.0            $243        Online  \n",
       "79        15792.0            $963        Online  \n",
       "6562      60000.0         $30,000      In-store  \n",
       "6588      50000.0         $15,000      In-store  \n",
       "117       11520.0            $403        Outlet  "
      ]
     },
     "execution_count": 20,
     "metadata": {},
     "output_type": "execute_result"
    }
   ],
   "source": [
    "df = df.sort_values(by=\"invoice_date\")\n",
    "df.head(8)"
   ]
  },
  {
   "cell_type": "code",
   "execution_count": 21,
   "metadata": {},
   "outputs": [
    {
     "data": {
      "text/plain": [
       "retailer            0\n",
       "retailer_id         0\n",
       "invoice_date        0\n",
       "region              0\n",
       "state               0\n",
       "city                0\n",
       "product             0\n",
       "price_per_unit      0\n",
       "units_sold          0\n",
       "total_sales         0\n",
       "operating_profit    0\n",
       "sales_method        0\n",
       "dtype: int64"
      ]
     },
     "execution_count": 21,
     "metadata": {},
     "output_type": "execute_result"
    }
   ],
   "source": [
    "df.isnull().sum()"
   ]
  },
  {
   "cell_type": "markdown",
   "metadata": {},
   "source": [
    "- We remove irrelevant columns and make a backup copy of the dataset."
   ]
  },
  {
   "cell_type": "code",
   "execution_count": 22,
   "metadata": {},
   "outputs": [],
   "source": [
    "df = df.drop(columns=[\"retailer_id\", \"operating_profit\", \"sales_method\"], errors=\"ignore\")\n",
    "\n",
    "# ‘retailer_id’ is removed because we already have a ‘retailer’ column.\n",
    "# ‘operation_profit’ is removed because we have no context on the expenses to really understand the profit.\n",
    "# ‘sales_method’ is removed because we have understood that they are all physical shops."
   ]
  },
  {
   "cell_type": "markdown",
   "metadata": {},
   "source": [
    "- A quick check to see if everything is in order"
   ]
  },
  {
   "cell_type": "code",
   "execution_count": 23,
   "metadata": {},
   "outputs": [
    {
     "name": "stdout",
     "output_type": "stream",
     "text": [
      "<class 'pandas.core.frame.DataFrame'>\n",
      "Index: 9637 entries, 9189 to 9605\n",
      "Data columns (total 9 columns):\n",
      " #   Column          Non-Null Count  Dtype         \n",
      "---  ------          --------------  -----         \n",
      " 0   retailer        9637 non-null   object        \n",
      " 1   invoice_date    9637 non-null   datetime64[ns]\n",
      " 2   region          9637 non-null   object        \n",
      " 3   state           9637 non-null   object        \n",
      " 4   city            9637 non-null   object        \n",
      " 5   product         9637 non-null   object        \n",
      " 6   price_per_unit  9637 non-null   float64       \n",
      " 7   units_sold      9637 non-null   int64         \n",
      " 8   total_sales     9637 non-null   float64       \n",
      "dtypes: datetime64[ns](1), float64(2), int64(1), object(5)\n",
      "memory usage: 752.9+ KB\n"
     ]
    }
   ],
   "source": [
    "df.info()"
   ]
  },
  {
   "cell_type": "code",
   "execution_count": 24,
   "metadata": {},
   "outputs": [
    {
     "data": {
      "text/plain": [
       "region\n",
       "West         2446\n",
       "Northeast    2376\n",
       "Midwest      1865\n",
       "South        1726\n",
       "Southeast    1224\n",
       "Name: count, dtype: int64"
      ]
     },
     "execution_count": 24,
     "metadata": {},
     "output_type": "execute_result"
    }
   ],
   "source": [
    "df.region.value_counts()"
   ]
  },
  {
   "cell_type": "code",
   "execution_count": 25,
   "metadata": {},
   "outputs": [
    {
     "data": {
      "text/plain": [
       "state\n",
       "Texas             430\n",
       "California        430\n",
       "Florida           360\n",
       "New York          360\n",
       "Pennsylvania      216\n",
       "Arkansas          216\n",
       "Oklahoma          216\n",
       "Rhode Island      216\n",
       "Oregon            216\n",
       "Virginia          216\n",
       "Vermont           216\n",
       "Mississippi       216\n",
       "Idaho             216\n",
       "Utah              216\n",
       "New Hampshire     216\n",
       "Arizona           216\n",
       "Tennessee         216\n",
       "Massachusetts     216\n",
       "New Mexico        216\n",
       "Alabama           216\n",
       "Nevada            216\n",
       "Connecticut       216\n",
       "Georgia           216\n",
       "Louisiana         216\n",
       "Kentucky          144\n",
       "Colorado          144\n",
       "Washington        144\n",
       "West Virginia     144\n",
       "Wyoming           144\n",
       "Minnesota         144\n",
       "Montana           144\n",
       "Iowa              144\n",
       "Ohio              144\n",
       "North Dakota      144\n",
       "Alaska            144\n",
       "Wisconsin         144\n",
       "Michigan          144\n",
       "Maryland          144\n",
       "New Jersey        144\n",
       "Indiana           144\n",
       "Hawaii            144\n",
       "South Dakota      144\n",
       "Maine             144\n",
       "North Carolina    144\n",
       "Kansas            144\n",
       "Missouri          144\n",
       "Delaware          144\n",
       "South Carolina    144\n",
       "Illinois          141\n",
       "Nebraska          140\n",
       "Name: count, dtype: int64"
      ]
     },
     "execution_count": 25,
     "metadata": {},
     "output_type": "execute_result"
    }
   ],
   "source": [
    "df.state.value_counts()"
   ]
  },
  {
   "cell_type": "code",
   "execution_count": 26,
   "metadata": {},
   "outputs": [
    {
     "data": {
      "text/plain": [
       "city\n",
       "Portland          360\n",
       "Charleston        288\n",
       "Little Rock       216\n",
       "New York          216\n",
       "Boston            216\n",
       "Oklahoma City     216\n",
       "Providence        216\n",
       "Richmond          216\n",
       "Burlington        216\n",
       "Philadelphia      216\n",
       "Orlando           216\n",
       "Jackson           216\n",
       "Salt Lake City    216\n",
       "Manchester        216\n",
       "Phoenix           216\n",
       "Los Angeles       216\n",
       "Knoxville         216\n",
       "Birmingham        216\n",
       "Boise             216\n",
       "Albuquerque       216\n",
       "Dallas            216\n",
       "Las Vegas         216\n",
       "Hartford          216\n",
       "Atlanta           216\n",
       "New Orleans       216\n",
       "Houston           214\n",
       "San Francisco     214\n",
       "Wilmington        144\n",
       "Denver            144\n",
       "Miami             144\n",
       "Seattle           144\n",
       "Cheyenne          144\n",
       "Minneapolis       144\n",
       "Billings          144\n",
       "Des Moines        144\n",
       "Columbus          144\n",
       "Milwaukee         144\n",
       "Fargo             144\n",
       "Detroit           144\n",
       "Baltimore         144\n",
       "Indianapolis      144\n",
       "Newark            144\n",
       "Honolulu          144\n",
       "Albany            144\n",
       "Sioux Falls       144\n",
       "Charlotte         144\n",
       "Anchorage         144\n",
       "Wichita           144\n",
       "St. Louis         144\n",
       "Louisville        144\n",
       "Chicago           141\n",
       "Omaha             140\n",
       "Name: count, dtype: int64"
      ]
     },
     "execution_count": 26,
     "metadata": {},
     "output_type": "execute_result"
    }
   ],
   "source": [
    "df.city.value_counts()"
   ]
  },
  {
   "cell_type": "code",
   "execution_count": 27,
   "metadata": {},
   "outputs": [
    {
     "data": {
      "text/plain": [
       "product\n",
       "Men's Street Footwear        1610\n",
       "Men's Athletic Footwear      1608\n",
       "Women's Apparel              1607\n",
       "Women's Street Footwear      1606\n",
       "Men's Apparel                1604\n",
       "Women's Athletic Footwear    1601\n",
       "Men's aparel                    1\n",
       "Name: count, dtype: int64"
      ]
     },
     "execution_count": 27,
     "metadata": {},
     "output_type": "execute_result"
    }
   ],
   "source": [
    "df[\"product\"].value_counts()"
   ]
  },
  {
   "cell_type": "code",
   "execution_count": 28,
   "metadata": {},
   "outputs": [
    {
     "data": {
      "text/plain": [
       "product\n",
       "Men's Street Footwear        1610\n",
       "Men's Athletic Footwear      1608\n",
       "Women's Apparel              1607\n",
       "Women's Street Footwear      1606\n",
       "Men's Apparel                1605\n",
       "Women's Athletic Footwear    1601\n",
       "Name: count, dtype: int64"
      ]
     },
     "execution_count": 28,
     "metadata": {},
     "output_type": "execute_result"
    }
   ],
   "source": [
    "# Spelling mistake\n",
    "df[\"product\"] = df[\"product\"].replace({\"Men's aparel\": \"Men's Apparel\"})\n",
    "df[\"product\"].value_counts()"
   ]
  },
  {
   "cell_type": "code",
   "execution_count": 29,
   "metadata": {},
   "outputs": [
    {
     "data": {
      "text/plain": [
       "retailer\n",
       "Foot Locker      2630\n",
       "West Gear        2372\n",
       "Sports Direct    2030\n",
       "Kohl's           1030\n",
       "Amazon            949\n",
       "Walmart           626\n",
       "Name: count, dtype: int64"
      ]
     },
     "execution_count": 29,
     "metadata": {},
     "output_type": "execute_result"
    }
   ],
   "source": [
    "df.retailer.value_counts()"
   ]
  },
  {
   "cell_type": "markdown",
   "metadata": {},
   "source": [
    "----------"
   ]
  },
  {
   "cell_type": "markdown",
   "metadata": {},
   "source": [
    "- We see our target having already cleared our nulls and recalculated the **\"total_sales ’**.\n"
   ]
  },
  {
   "cell_type": "code",
   "execution_count": 30,
   "metadata": {},
   "outputs": [
    {
     "data": {
      "text/plain": [
       "<Axes: xlabel='total_sales', ylabel='Count'>"
      ]
     },
     "execution_count": 30,
     "metadata": {},
     "output_type": "execute_result"
    },
    {
     "data": {
      "image/png": "[encoded data removed]",
      "text/plain": [
       "<Figure size 640x480 with 1 Axes>"
      ]
     },
     "metadata": {},
     "output_type": "display_data"
    }
   ],
   "source": [
    "sns.histplot(df[\"total_sales\"], kde = True)"
   ]
  },
  {
   "cell_type": "code",
   "execution_count": 31,
   "metadata": {},
   "outputs": [
    {
     "data": {
      "text/plain": [
       "<Axes: xlabel='total_sales'>"
      ]
     },
     "execution_count": 31,
     "metadata": {},
     "output_type": "execute_result"
    },
    {
     "data": {
      "image/png": "[encoded data removed]",
      "text/plain": [
       "<Figure size 640x480 with 1 Axes>"
      ]
     },
     "metadata": {},
     "output_type": "display_data"
    }
   ],
   "source": [
    "sns.boxplot(x=df[\"total_sales\"])"
   ]
  },
  {
   "cell_type": "markdown",
   "metadata": {},
   "source": [
    "- It is good that before we start to dig deeper, we look at the type of target we have. There is an asymmetric distribution because there will be many shops that have low or moderate levels. Few shops achieve high turnover or rarely achieve high turnover."
   ]
  },
  {
   "cell_type": "markdown",
   "metadata": {},
   "source": [
    "- Our model may be affected by this asymmetric distribution, so we need to do a logarithmic or box-cox transformation later."
   ]
  },
  {
   "cell_type": "markdown",
   "metadata": {},
   "source": [
    "---------"
   ]
  },
  {
   "cell_type": "markdown",
   "metadata": {},
   "source": [
    "Creation of datasets by retailer"
   ]
  },
  {
   "cell_type": "code",
   "execution_count": 32,
   "metadata": {},
   "outputs": [
    {
     "data": {
      "text/plain": [
       "retailer\n",
       "Foot Locker      2630\n",
       "West Gear        2372\n",
       "Sports Direct    2030\n",
       "Kohl's           1030\n",
       "Amazon            949\n",
       "Walmart           626\n",
       "Name: count, dtype: int64"
      ]
     },
     "execution_count": 32,
     "metadata": {},
     "output_type": "execute_result"
    }
   ],
   "source": [
    "df[\"retailer\"].value_counts()"
   ]
  },
  {
   "cell_type": "code",
   "execution_count": 33,
   "metadata": {},
   "outputs": [],
   "source": [
    "df_footlocker = df[df[\"retailer\"] == \"Foot Locker\"]\n",
    "df_westgear = df[df[\"retailer\"] == \"West Gear\"]\n",
    "df_sportsdirect = df[df[\"retailer\"] == \"Sports Direct\"]\n",
    "df_kohls = df[df[\"retailer\"] == \"Kohl's\"]\n",
    "df_amazon = df[df[\"retailer\"] == \"Amazon\"]\n",
    "df_walmart = df[df[\"retailer\"] == \"Walmart\"]"
   ]
  },
  {
   "cell_type": "code",
   "execution_count": null,
   "metadata": {},
   "outputs": [],
   "source": [
    "# We comment the code so as not to run it again, but this would be the cleaned dataset\n",
    "df.to_csv(\"../data/adidas_sales_cleaned_last4.csv\", index=False)"
   ]
  },
  {
   "cell_type": "code",
   "execution_count": 35,
   "metadata": {},
   "outputs": [
    {
     "name": "stdout",
     "output_type": "stream",
     "text": [
      "---Foot Locker---\n",
      "count     2630.000000\n",
      "mean     11028.496198\n",
      "std      12328.590997\n",
      "min        160.000000\n",
      "25%       3185.250000\n",
      "50%       6689.500000\n",
      "75%      13500.000000\n",
      "max      76500.000000\n",
      "Name: total_sales, dtype: float64\n",
      "---West Gear---\n",
      "count     2372.000000\n",
      "mean     13624.708263\n",
      "std      14074.800399\n",
      "min        203.000000\n",
      "25%       4263.750000\n",
      "50%       8537.000000\n",
      "75%      16855.500000\n",
      "max      82500.000000\n",
      "Name: total_sales, dtype: float64\n",
      "---Sports Direct---\n",
      "count     2030.000000\n",
      "mean     12097.535468\n",
      "std      11682.592391\n",
      "min        528.000000\n",
      "25%       4224.000000\n",
      "50%       7522.000000\n",
      "75%      15750.000000\n",
      "max      69875.000000\n",
      "Name: total_sales, dtype: float64\n",
      "---Kohl's---\n",
      "count     1030.000000\n",
      "mean     13118.886408\n",
      "std      11122.789865\n",
      "min        520.000000\n",
      "25%       5336.750000\n",
      "50%       8243.000000\n",
      "75%      20000.000000\n",
      "max      52000.000000\n",
      "Name: total_sales, dtype: float64\n",
      "---Amazon---\n",
      "count      949.000000\n",
      "mean     10639.606955\n",
      "std       9957.157975\n",
      "min        416.000000\n",
      "25%       3731.000000\n",
      "50%       6875.000000\n",
      "75%      14375.000000\n",
      "max      61875.000000\n",
      "Name: total_sales, dtype: float64\n",
      "---Walmart---\n",
      "count      626.000000\n",
      "mean     16782.883387\n",
      "std      16223.607566\n",
      "min        880.000000\n",
      "25%       6240.000000\n",
      "50%      10477.000000\n",
      "75%      21093.750000\n",
      "max      82500.000000\n",
      "Name: total_sales, dtype: float64\n"
     ]
    }
   ],
   "source": [
    "print(\"---Foot Locker---\")\n",
    "print(df_footlocker[\"total_sales\"].describe())\n",
    "print(\"---West Gear---\")\n",
    "print(df_westgear[\"total_sales\"].describe())\n",
    "print(\"---Sports Direct---\")\n",
    "print(df_sportsdirect[\"total_sales\"].describe())\n",
    "print(\"---Kohl's---\")\n",
    "print(df_kohls[\"total_sales\"].describe())\n",
    "print(\"---Amazon---\")\n",
    "print(df_amazon[\"total_sales\"].describe())\n",
    "print(\"---Walmart---\")\n",
    "print(df_walmart[\"total_sales\"].describe())\n"
   ]
  },
  {
   "cell_type": "markdown",
   "metadata": {},
   "source": [
    "# ✅ Step 4: Train and Test.\n"
   ]
  },
  {
   "cell_type": "code",
   "execution_count": 37,
   "metadata": {},
   "outputs": [],
   "source": [
    "df_cleaned = pd.read_csv(\"../data/adidas_sales_cleaned_last4.csv\", parse_dates=[\"invoice_date\"], index_col=False)"
   ]
  },
  {
   "cell_type": "code",
   "execution_count": 38,
   "metadata": {},
   "outputs": [
    {
     "data": {
      "text/html": [
       "<div>\n",
       "<style scoped>\n",
       "    .dataframe tbody tr th:only-of-type {\n",
       "        vertical-align: middle;\n",
       "    }\n",
       "\n",
       "    .dataframe tbody tr th {\n",
       "        vertical-align: top;\n",
       "    }\n",
       "\n",
       "    .dataframe thead th {\n",
       "        text-align: right;\n",
       "    }\n",
       "</style>\n",
       "<table border=\"1\" class=\"dataframe\">\n",
       "  <thead>\n",
       "    <tr style=\"text-align: right;\">\n",
       "      <th></th>\n",
       "      <th>retailer</th>\n",
       "      <th>invoice_date</th>\n",
       "      <th>region</th>\n",
       "      <th>state</th>\n",
       "      <th>city</th>\n",
       "      <th>product</th>\n",
       "      <th>price_per_unit</th>\n",
       "      <th>units_sold</th>\n",
       "      <th>total_sales</th>\n",
       "    </tr>\n",
       "  </thead>\n",
       "  <tbody>\n",
       "    <tr>\n",
       "      <th>0</th>\n",
       "      <td>Foot Locker</td>\n",
       "      <td>2020-01-01</td>\n",
       "      <td>Northeast</td>\n",
       "      <td>Pennsylvania</td>\n",
       "      <td>Philadelphia</td>\n",
       "      <td>Women's Apparel</td>\n",
       "      <td>75.0</td>\n",
       "      <td>275</td>\n",
       "      <td>20625.0</td>\n",
       "    </tr>\n",
       "    <tr>\n",
       "      <th>1</th>\n",
       "      <td>Foot Locker</td>\n",
       "      <td>2020-01-01</td>\n",
       "      <td>Northeast</td>\n",
       "      <td>Pennsylvania</td>\n",
       "      <td>Philadelphia</td>\n",
       "      <td>Women's Apparel</td>\n",
       "      <td>53.0</td>\n",
       "      <td>83</td>\n",
       "      <td>4399.0</td>\n",
       "    </tr>\n",
       "    <tr>\n",
       "      <th>2</th>\n",
       "      <td>Foot Locker</td>\n",
       "      <td>2020-01-01</td>\n",
       "      <td>Northeast</td>\n",
       "      <td>New York</td>\n",
       "      <td>New York</td>\n",
       "      <td>Men's Street Footwear</td>\n",
       "      <td>34.0</td>\n",
       "      <td>384</td>\n",
       "      <td>13056.0</td>\n",
       "    </tr>\n",
       "    <tr>\n",
       "      <th>3</th>\n",
       "      <td>Foot Locker</td>\n",
       "      <td>2020-01-01</td>\n",
       "      <td>Northeast</td>\n",
       "      <td>Pennsylvania</td>\n",
       "      <td>Philadelphia</td>\n",
       "      <td>Women's Apparel</td>\n",
       "      <td>68.0</td>\n",
       "      <td>83</td>\n",
       "      <td>5644.0</td>\n",
       "    </tr>\n",
       "    <tr>\n",
       "      <th>4</th>\n",
       "      <td>Foot Locker</td>\n",
       "      <td>2020-01-01</td>\n",
       "      <td>Northeast</td>\n",
       "      <td>New York</td>\n",
       "      <td>New York</td>\n",
       "      <td>Men's Street Footwear</td>\n",
       "      <td>47.0</td>\n",
       "      <td>336</td>\n",
       "      <td>15792.0</td>\n",
       "    </tr>\n",
       "    <tr>\n",
       "      <th>...</th>\n",
       "      <td>...</td>\n",
       "      <td>...</td>\n",
       "      <td>...</td>\n",
       "      <td>...</td>\n",
       "      <td>...</td>\n",
       "      <td>...</td>\n",
       "      <td>...</td>\n",
       "      <td>...</td>\n",
       "      <td>...</td>\n",
       "    </tr>\n",
       "    <tr>\n",
       "      <th>9632</th>\n",
       "      <td>Foot Locker</td>\n",
       "      <td>2021-12-31</td>\n",
       "      <td>Northeast</td>\n",
       "      <td>Pennsylvania</td>\n",
       "      <td>Philadelphia</td>\n",
       "      <td>Men's Apparel</td>\n",
       "      <td>63.0</td>\n",
       "      <td>47</td>\n",
       "      <td>2961.0</td>\n",
       "    </tr>\n",
       "    <tr>\n",
       "      <th>9633</th>\n",
       "      <td>Amazon</td>\n",
       "      <td>2021-12-31</td>\n",
       "      <td>Northeast</td>\n",
       "      <td>Maine</td>\n",
       "      <td>Portland</td>\n",
       "      <td>Men's Apparel</td>\n",
       "      <td>55.0</td>\n",
       "      <td>125</td>\n",
       "      <td>6875.0</td>\n",
       "    </tr>\n",
       "    <tr>\n",
       "      <th>9634</th>\n",
       "      <td>Foot Locker</td>\n",
       "      <td>2021-12-31</td>\n",
       "      <td>Northeast</td>\n",
       "      <td>Pennsylvania</td>\n",
       "      <td>Philadelphia</td>\n",
       "      <td>Men's Apparel</td>\n",
       "      <td>46.0</td>\n",
       "      <td>56</td>\n",
       "      <td>2576.0</td>\n",
       "    </tr>\n",
       "    <tr>\n",
       "      <th>9635</th>\n",
       "      <td>Amazon</td>\n",
       "      <td>2021-12-31</td>\n",
       "      <td>Northeast</td>\n",
       "      <td>Maine</td>\n",
       "      <td>Portland</td>\n",
       "      <td>Men's Apparel</td>\n",
       "      <td>52.0</td>\n",
       "      <td>36</td>\n",
       "      <td>1872.0</td>\n",
       "    </tr>\n",
       "    <tr>\n",
       "      <th>9636</th>\n",
       "      <td>Foot Locker</td>\n",
       "      <td>2021-12-31</td>\n",
       "      <td>Northeast</td>\n",
       "      <td>Pennsylvania</td>\n",
       "      <td>Philadelphia</td>\n",
       "      <td>Men's Apparel</td>\n",
       "      <td>70.0</td>\n",
       "      <td>175</td>\n",
       "      <td>12250.0</td>\n",
       "    </tr>\n",
       "  </tbody>\n",
       "</table>\n",
       "<p>9637 rows × 9 columns</p>\n",
       "</div>"
      ],
      "text/plain": [
       "         retailer invoice_date     region         state          city  \\\n",
       "0     Foot Locker   2020-01-01  Northeast  Pennsylvania  Philadelphia   \n",
       "1     Foot Locker   2020-01-01  Northeast  Pennsylvania  Philadelphia   \n",
       "2     Foot Locker   2020-01-01  Northeast      New York      New York   \n",
       "3     Foot Locker   2020-01-01  Northeast  Pennsylvania  Philadelphia   \n",
       "4     Foot Locker   2020-01-01  Northeast      New York      New York   \n",
       "...           ...          ...        ...           ...           ...   \n",
       "9632  Foot Locker   2021-12-31  Northeast  Pennsylvania  Philadelphia   \n",
       "9633       Amazon   2021-12-31  Northeast         Maine      Portland   \n",
       "9634  Foot Locker   2021-12-31  Northeast  Pennsylvania  Philadelphia   \n",
       "9635       Amazon   2021-12-31  Northeast         Maine      Portland   \n",
       "9636  Foot Locker   2021-12-31  Northeast  Pennsylvania  Philadelphia   \n",
       "\n",
       "                    product  price_per_unit  units_sold  total_sales  \n",
       "0           Women's Apparel            75.0         275      20625.0  \n",
       "1           Women's Apparel            53.0          83       4399.0  \n",
       "2     Men's Street Footwear            34.0         384      13056.0  \n",
       "3           Women's Apparel            68.0          83       5644.0  \n",
       "4     Men's Street Footwear            47.0         336      15792.0  \n",
       "...                     ...             ...         ...          ...  \n",
       "9632          Men's Apparel            63.0          47       2961.0  \n",
       "9633          Men's Apparel            55.0         125       6875.0  \n",
       "9634          Men's Apparel            46.0          56       2576.0  \n",
       "9635          Men's Apparel            52.0          36       1872.0  \n",
       "9636          Men's Apparel            70.0         175      12250.0  \n",
       "\n",
       "[9637 rows x 9 columns]"
      ]
     },
     "execution_count": 38,
     "metadata": {},
     "output_type": "execute_result"
    }
   ],
   "source": [
    "df_cleaned"
   ]
  },
  {
   "cell_type": "code",
   "execution_count": 39,
   "metadata": {},
   "outputs": [
    {
     "name": "stdout",
     "output_type": "stream",
     "text": [
      "<class 'pandas.core.frame.DataFrame'>\n",
      "RangeIndex: 9637 entries, 0 to 9636\n",
      "Data columns (total 9 columns):\n",
      " #   Column          Non-Null Count  Dtype         \n",
      "---  ------          --------------  -----         \n",
      " 0   retailer        9637 non-null   object        \n",
      " 1   invoice_date    9637 non-null   datetime64[ns]\n",
      " 2   region          9637 non-null   object        \n",
      " 3   state           9637 non-null   object        \n",
      " 4   city            9637 non-null   object        \n",
      " 5   product         9637 non-null   object        \n",
      " 6   price_per_unit  9637 non-null   float64       \n",
      " 7   units_sold      9637 non-null   int64         \n",
      " 8   total_sales     9637 non-null   float64       \n",
      "dtypes: datetime64[ns](1), float64(2), int64(1), object(5)\n",
      "memory usage: 677.7+ KB\n"
     ]
    }
   ],
   "source": [
    "df_cleaned.info()"
   ]
  },
  {
   "cell_type": "markdown",
   "metadata": {},
   "source": [
    "A. PREDICTING THE BILLING OF DISTRIBUTING STORES 💵 (pt. I)"
   ]
  },
  {
   "cell_type": "code",
   "execution_count": 40,
   "metadata": {},
   "outputs": [],
   "source": [
    "X = df_cleaned.drop(columns=[\"total_sales\", \"units_sold\"])\n",
    "y = df_cleaned[\"total_sales\"]\n",
    "\n",
    "X_train, X_test, y_train, y_test = train_test_split(X, y, test_size=0.2, random_state=42)"
   ]
  },
  {
   "cell_type": "markdown",
   "metadata": {},
   "source": [
    "- We have removed the target and ***\"units_sold ’*** from our **X** because we will not know the units sold. I have decided to leave ‘price_per_unit’ because we do know the price per unit."
   ]
  },
  {
   "cell_type": "markdown",
   "metadata": {},
   "source": [
    "----------------"
   ]
  },
  {
   "cell_type": "markdown",
   "metadata": {},
   "source": [
    "# ✅ Step 5: Mini Eda + Dataset preparation\n"
   ]
  },
  {
   "cell_type": "markdown",
   "metadata": {},
   "source": [
    "A. PREDICTING THE BILLING OF DISTRIBUTING STORES 💵 (pt. I)"
   ]
  },
  {
   "cell_type": "code",
   "execution_count": 41,
   "metadata": {},
   "outputs": [
    {
     "data": {
      "text/plain": [
       "Index(['retailer', 'invoice_date', 'region', 'state', 'city', 'product',\n",
       "       'price_per_unit'],\n",
       "      dtype='object')"
      ]
     },
     "execution_count": 41,
     "metadata": {},
     "output_type": "execute_result"
    }
   ],
   "source": [
    "X_train.columns"
   ]
  },
  {
   "cell_type": "markdown",
   "metadata": {},
   "source": [
    "- We know the columns of **X_train**.\n",
    "- We add some new columns like ***\"month “*** and ***”day_of_week ’***.\n",
    "- We remove non-relevant columns"
   ]
  },
  {
   "cell_type": "code",
   "execution_count": 42,
   "metadata": {},
   "outputs": [],
   "source": [
    "X_train[\"month\"] = X_train[\"invoice_date\"].dt.month\n",
    "X_train[\"day_of_week\"] = X_train[\"invoice_date\"].dt.dayofweek  # Monday=0, Sunday=6\n",
    "\n",
    "X_test[\"month\"] = X_test[\"invoice_date\"].dt.month\n",
    "X_test[\"day_of_week\"] = X_test[\"invoice_date\"].dt.dayofweek  # Monday=0, Sunday=6"
   ]
  },
  {
   "cell_type": "code",
   "execution_count": 43,
   "metadata": {},
   "outputs": [],
   "source": [
    "X_train = X_train.drop(columns=[\"invoice_date\", \"city\", \"units_sold\"], errors=\"ignore\")\n",
    "X_test = X_test.drop(columns=[\"invoice_date\", \"city\", \"units_sold\"], errors=\"ignore\")"
   ]
  },
  {
   "cell_type": "code",
   "execution_count": 44,
   "metadata": {},
   "outputs": [
    {
     "data": {
      "text/html": [
       "<div>\n",
       "<style scoped>\n",
       "    .dataframe tbody tr th:only-of-type {\n",
       "        vertical-align: middle;\n",
       "    }\n",
       "\n",
       "    .dataframe tbody tr th {\n",
       "        vertical-align: top;\n",
       "    }\n",
       "\n",
       "    .dataframe thead th {\n",
       "        text-align: right;\n",
       "    }\n",
       "</style>\n",
       "<table border=\"1\" class=\"dataframe\">\n",
       "  <thead>\n",
       "    <tr style=\"text-align: right;\">\n",
       "      <th></th>\n",
       "      <th>retailer</th>\n",
       "      <th>region</th>\n",
       "      <th>state</th>\n",
       "      <th>product</th>\n",
       "      <th>price_per_unit</th>\n",
       "      <th>month</th>\n",
       "      <th>day_of_week</th>\n",
       "    </tr>\n",
       "  </thead>\n",
       "  <tbody>\n",
       "    <tr>\n",
       "      <th>485</th>\n",
       "      <td>West Gear</td>\n",
       "      <td>Southeast</td>\n",
       "      <td>Florida</td>\n",
       "      <td>Men's Apparel</td>\n",
       "      <td>60.0</td>\n",
       "      <td>4</td>\n",
       "      <td>4</td>\n",
       "    </tr>\n",
       "    <tr>\n",
       "      <th>6472</th>\n",
       "      <td>Sports Direct</td>\n",
       "      <td>South</td>\n",
       "      <td>Texas</td>\n",
       "      <td>Men's Apparel</td>\n",
       "      <td>26.0</td>\n",
       "      <td>8</td>\n",
       "      <td>6</td>\n",
       "    </tr>\n",
       "    <tr>\n",
       "      <th>1222</th>\n",
       "      <td>Foot Locker</td>\n",
       "      <td>Midwest</td>\n",
       "      <td>Minnesota</td>\n",
       "      <td>Men's Apparel</td>\n",
       "      <td>35.0</td>\n",
       "      <td>12</td>\n",
       "      <td>1</td>\n",
       "    </tr>\n",
       "    <tr>\n",
       "      <th>5608</th>\n",
       "      <td>West Gear</td>\n",
       "      <td>Northeast</td>\n",
       "      <td>New York</td>\n",
       "      <td>Women's Apparel</td>\n",
       "      <td>66.0</td>\n",
       "      <td>7</td>\n",
       "      <td>3</td>\n",
       "    </tr>\n",
       "    <tr>\n",
       "      <th>2855</th>\n",
       "      <td>Kohl's</td>\n",
       "      <td>Midwest</td>\n",
       "      <td>Montana</td>\n",
       "      <td>Women's Apparel</td>\n",
       "      <td>55.0</td>\n",
       "      <td>3</td>\n",
       "      <td>1</td>\n",
       "    </tr>\n",
       "    <tr>\n",
       "      <th>...</th>\n",
       "      <td>...</td>\n",
       "      <td>...</td>\n",
       "      <td>...</td>\n",
       "      <td>...</td>\n",
       "      <td>...</td>\n",
       "      <td>...</td>\n",
       "      <td>...</td>\n",
       "    </tr>\n",
       "    <tr>\n",
       "      <th>5734</th>\n",
       "      <td>Kohl's</td>\n",
       "      <td>Midwest</td>\n",
       "      <td>Kansas</td>\n",
       "      <td>Men's Athletic Footwear</td>\n",
       "      <td>49.0</td>\n",
       "      <td>7</td>\n",
       "      <td>0</td>\n",
       "    </tr>\n",
       "    <tr>\n",
       "      <th>5191</th>\n",
       "      <td>Sports Direct</td>\n",
       "      <td>Midwest</td>\n",
       "      <td>Michigan</td>\n",
       "      <td>Women's Street Footwear</td>\n",
       "      <td>41.0</td>\n",
       "      <td>6</td>\n",
       "      <td>3</td>\n",
       "    </tr>\n",
       "    <tr>\n",
       "      <th>5390</th>\n",
       "      <td>West Gear</td>\n",
       "      <td>West</td>\n",
       "      <td>Oregon</td>\n",
       "      <td>Men's Apparel</td>\n",
       "      <td>86.0</td>\n",
       "      <td>6</td>\n",
       "      <td>3</td>\n",
       "    </tr>\n",
       "    <tr>\n",
       "      <th>860</th>\n",
       "      <td>Walmart</td>\n",
       "      <td>South</td>\n",
       "      <td>Texas</td>\n",
       "      <td>Men's Apparel</td>\n",
       "      <td>45.0</td>\n",
       "      <td>8</td>\n",
       "      <td>6</td>\n",
       "    </tr>\n",
       "    <tr>\n",
       "      <th>7270</th>\n",
       "      <td>Walmart</td>\n",
       "      <td>Southeast</td>\n",
       "      <td>Florida</td>\n",
       "      <td>Women's Street Footwear</td>\n",
       "      <td>39.0</td>\n",
       "      <td>9</td>\n",
       "      <td>5</td>\n",
       "    </tr>\n",
       "  </tbody>\n",
       "</table>\n",
       "<p>7709 rows × 7 columns</p>\n",
       "</div>"
      ],
      "text/plain": [
       "           retailer     region      state                  product  \\\n",
       "485       West Gear  Southeast    Florida            Men's Apparel   \n",
       "6472  Sports Direct      South      Texas            Men's Apparel   \n",
       "1222    Foot Locker    Midwest  Minnesota            Men's Apparel   \n",
       "5608      West Gear  Northeast   New York          Women's Apparel   \n",
       "2855         Kohl's    Midwest    Montana          Women's Apparel   \n",
       "...             ...        ...        ...                      ...   \n",
       "5734         Kohl's    Midwest     Kansas  Men's Athletic Footwear   \n",
       "5191  Sports Direct    Midwest   Michigan  Women's Street Footwear   \n",
       "5390      West Gear       West     Oregon            Men's Apparel   \n",
       "860         Walmart      South      Texas            Men's Apparel   \n",
       "7270        Walmart  Southeast    Florida  Women's Street Footwear   \n",
       "\n",
       "      price_per_unit  month  day_of_week  \n",
       "485             60.0      4            4  \n",
       "6472            26.0      8            6  \n",
       "1222            35.0     12            1  \n",
       "5608            66.0      7            3  \n",
       "2855            55.0      3            1  \n",
       "...              ...    ...          ...  \n",
       "5734            49.0      7            0  \n",
       "5191            41.0      6            3  \n",
       "5390            86.0      6            3  \n",
       "860             45.0      8            6  \n",
       "7270            39.0      9            5  \n",
       "\n",
       "[7709 rows x 7 columns]"
      ]
     },
     "execution_count": 44,
     "metadata": {},
     "output_type": "execute_result"
    }
   ],
   "source": [
    "X_train"
   ]
  },
  {
   "cell_type": "markdown",
   "metadata": {},
   "source": [
    "- We want to make several **X_train**, in this case we are going to make a *Column Transform* so that our **XGBoost** and **Random Forest** models can work better."
   ]
  },
  {
   "cell_type": "code",
   "execution_count": 45,
   "metadata": {},
   "outputs": [],
   "source": [
    "categorical_features = ['retailer', 'region', 'state', 'product', 'day_of_week', \"month\"]\n",
    "numeric_features = ['price_per_unit']"
   ]
  },
  {
   "cell_type": "code",
   "execution_count": 46,
   "metadata": {},
   "outputs": [],
   "source": [
    "preprocessor = ColumnTransformer(\n",
    "     transformers=[\n",
    "      (\"num\", \"passthrough\", numeric_features),\n",
    "      ('cat', OneHotEncoder(handle_unknown='ignore', sparse_output=False), categorical_features)])\n",
    "\n",
    "X_train_preprocessed = preprocessor.fit_transform(X_train)\n",
    "X_test_preprocessed = preprocessor.transform(X_test)\n",
    "\n",
    "ohe_columns = preprocessor.named_transformers_['cat'].get_feature_names_out(input_features=categorical_features)\n",
    "ohe_columns_clean = np.char.replace(ohe_columns.astype(str), ' ', '_')\n",
    "all_columns_clean = np.concatenate([numeric_features, ohe_columns_clean])\n",
    "\n",
    "X_train_df = pd.DataFrame(X_train_preprocessed, columns=all_columns_clean, index=X_train.index)\n",
    "X_test_df = pd.DataFrame(X_test_preprocessed, columns=all_columns_clean, index=X_test.index)"
   ]
  },
  {
   "cell_type": "code",
   "execution_count": 47,
   "metadata": {},
   "outputs": [
    {
     "data": {
      "text/html": [
       "<div>\n",
       "<style scoped>\n",
       "    .dataframe tbody tr th:only-of-type {\n",
       "        vertical-align: middle;\n",
       "    }\n",
       "\n",
       "    .dataframe tbody tr th {\n",
       "        vertical-align: top;\n",
       "    }\n",
       "\n",
       "    .dataframe thead th {\n",
       "        text-align: right;\n",
       "    }\n",
       "</style>\n",
       "<table border=\"1\" class=\"dataframe\">\n",
       "  <thead>\n",
       "    <tr style=\"text-align: right;\">\n",
       "      <th></th>\n",
       "      <th>price_per_unit</th>\n",
       "      <th>retailer_Amazon</th>\n",
       "      <th>retailer_Foot_Locker</th>\n",
       "      <th>retailer_Kohl's</th>\n",
       "      <th>retailer_Sports_Direct</th>\n",
       "      <th>retailer_Walmart</th>\n",
       "      <th>retailer_West_Gear</th>\n",
       "      <th>region_Midwest</th>\n",
       "      <th>region_Northeast</th>\n",
       "      <th>region_South</th>\n",
       "      <th>...</th>\n",
       "      <th>month_3</th>\n",
       "      <th>month_4</th>\n",
       "      <th>month_5</th>\n",
       "      <th>month_6</th>\n",
       "      <th>month_7</th>\n",
       "      <th>month_8</th>\n",
       "      <th>month_9</th>\n",
       "      <th>month_10</th>\n",
       "      <th>month_11</th>\n",
       "      <th>month_12</th>\n",
       "    </tr>\n",
       "  </thead>\n",
       "  <tbody>\n",
       "    <tr>\n",
       "      <th>485</th>\n",
       "      <td>60.0</td>\n",
       "      <td>0.0</td>\n",
       "      <td>0.0</td>\n",
       "      <td>0.0</td>\n",
       "      <td>0.0</td>\n",
       "      <td>0.0</td>\n",
       "      <td>1.0</td>\n",
       "      <td>0.0</td>\n",
       "      <td>0.0</td>\n",
       "      <td>0.0</td>\n",
       "      <td>...</td>\n",
       "      <td>0.0</td>\n",
       "      <td>1.0</td>\n",
       "      <td>0.0</td>\n",
       "      <td>0.0</td>\n",
       "      <td>0.0</td>\n",
       "      <td>0.0</td>\n",
       "      <td>0.0</td>\n",
       "      <td>0.0</td>\n",
       "      <td>0.0</td>\n",
       "      <td>0.0</td>\n",
       "    </tr>\n",
       "    <tr>\n",
       "      <th>6472</th>\n",
       "      <td>26.0</td>\n",
       "      <td>0.0</td>\n",
       "      <td>0.0</td>\n",
       "      <td>0.0</td>\n",
       "      <td>1.0</td>\n",
       "      <td>0.0</td>\n",
       "      <td>0.0</td>\n",
       "      <td>0.0</td>\n",
       "      <td>0.0</td>\n",
       "      <td>1.0</td>\n",
       "      <td>...</td>\n",
       "      <td>0.0</td>\n",
       "      <td>0.0</td>\n",
       "      <td>0.0</td>\n",
       "      <td>0.0</td>\n",
       "      <td>0.0</td>\n",
       "      <td>1.0</td>\n",
       "      <td>0.0</td>\n",
       "      <td>0.0</td>\n",
       "      <td>0.0</td>\n",
       "      <td>0.0</td>\n",
       "    </tr>\n",
       "    <tr>\n",
       "      <th>1222</th>\n",
       "      <td>35.0</td>\n",
       "      <td>0.0</td>\n",
       "      <td>1.0</td>\n",
       "      <td>0.0</td>\n",
       "      <td>0.0</td>\n",
       "      <td>0.0</td>\n",
       "      <td>0.0</td>\n",
       "      <td>1.0</td>\n",
       "      <td>0.0</td>\n",
       "      <td>0.0</td>\n",
       "      <td>...</td>\n",
       "      <td>0.0</td>\n",
       "      <td>0.0</td>\n",
       "      <td>0.0</td>\n",
       "      <td>0.0</td>\n",
       "      <td>0.0</td>\n",
       "      <td>0.0</td>\n",
       "      <td>0.0</td>\n",
       "      <td>0.0</td>\n",
       "      <td>0.0</td>\n",
       "      <td>1.0</td>\n",
       "    </tr>\n",
       "    <tr>\n",
       "      <th>5608</th>\n",
       "      <td>66.0</td>\n",
       "      <td>0.0</td>\n",
       "      <td>0.0</td>\n",
       "      <td>0.0</td>\n",
       "      <td>0.0</td>\n",
       "      <td>0.0</td>\n",
       "      <td>1.0</td>\n",
       "      <td>0.0</td>\n",
       "      <td>1.0</td>\n",
       "      <td>0.0</td>\n",
       "      <td>...</td>\n",
       "      <td>0.0</td>\n",
       "      <td>0.0</td>\n",
       "      <td>0.0</td>\n",
       "      <td>0.0</td>\n",
       "      <td>1.0</td>\n",
       "      <td>0.0</td>\n",
       "      <td>0.0</td>\n",
       "      <td>0.0</td>\n",
       "      <td>0.0</td>\n",
       "      <td>0.0</td>\n",
       "    </tr>\n",
       "    <tr>\n",
       "      <th>2855</th>\n",
       "      <td>55.0</td>\n",
       "      <td>0.0</td>\n",
       "      <td>0.0</td>\n",
       "      <td>1.0</td>\n",
       "      <td>0.0</td>\n",
       "      <td>0.0</td>\n",
       "      <td>0.0</td>\n",
       "      <td>1.0</td>\n",
       "      <td>0.0</td>\n",
       "      <td>0.0</td>\n",
       "      <td>...</td>\n",
       "      <td>1.0</td>\n",
       "      <td>0.0</td>\n",
       "      <td>0.0</td>\n",
       "      <td>0.0</td>\n",
       "      <td>0.0</td>\n",
       "      <td>0.0</td>\n",
       "      <td>0.0</td>\n",
       "      <td>0.0</td>\n",
       "      <td>0.0</td>\n",
       "      <td>0.0</td>\n",
       "    </tr>\n",
       "    <tr>\n",
       "      <th>...</th>\n",
       "      <td>...</td>\n",
       "      <td>...</td>\n",
       "      <td>...</td>\n",
       "      <td>...</td>\n",
       "      <td>...</td>\n",
       "      <td>...</td>\n",
       "      <td>...</td>\n",
       "      <td>...</td>\n",
       "      <td>...</td>\n",
       "      <td>...</td>\n",
       "      <td>...</td>\n",
       "      <td>...</td>\n",
       "      <td>...</td>\n",
       "      <td>...</td>\n",
       "      <td>...</td>\n",
       "      <td>...</td>\n",
       "      <td>...</td>\n",
       "      <td>...</td>\n",
       "      <td>...</td>\n",
       "      <td>...</td>\n",
       "      <td>...</td>\n",
       "    </tr>\n",
       "    <tr>\n",
       "      <th>5734</th>\n",
       "      <td>49.0</td>\n",
       "      <td>0.0</td>\n",
       "      <td>0.0</td>\n",
       "      <td>1.0</td>\n",
       "      <td>0.0</td>\n",
       "      <td>0.0</td>\n",
       "      <td>0.0</td>\n",
       "      <td>1.0</td>\n",
       "      <td>0.0</td>\n",
       "      <td>0.0</td>\n",
       "      <td>...</td>\n",
       "      <td>0.0</td>\n",
       "      <td>0.0</td>\n",
       "      <td>0.0</td>\n",
       "      <td>0.0</td>\n",
       "      <td>1.0</td>\n",
       "      <td>0.0</td>\n",
       "      <td>0.0</td>\n",
       "      <td>0.0</td>\n",
       "      <td>0.0</td>\n",
       "      <td>0.0</td>\n",
       "    </tr>\n",
       "    <tr>\n",
       "      <th>5191</th>\n",
       "      <td>41.0</td>\n",
       "      <td>0.0</td>\n",
       "      <td>0.0</td>\n",
       "      <td>0.0</td>\n",
       "      <td>1.0</td>\n",
       "      <td>0.0</td>\n",
       "      <td>0.0</td>\n",
       "      <td>1.0</td>\n",
       "      <td>0.0</td>\n",
       "      <td>0.0</td>\n",
       "      <td>...</td>\n",
       "      <td>0.0</td>\n",
       "      <td>0.0</td>\n",
       "      <td>0.0</td>\n",
       "      <td>1.0</td>\n",
       "      <td>0.0</td>\n",
       "      <td>0.0</td>\n",
       "      <td>0.0</td>\n",
       "      <td>0.0</td>\n",
       "      <td>0.0</td>\n",
       "      <td>0.0</td>\n",
       "    </tr>\n",
       "    <tr>\n",
       "      <th>5390</th>\n",
       "      <td>86.0</td>\n",
       "      <td>0.0</td>\n",
       "      <td>0.0</td>\n",
       "      <td>0.0</td>\n",
       "      <td>0.0</td>\n",
       "      <td>0.0</td>\n",
       "      <td>1.0</td>\n",
       "      <td>0.0</td>\n",
       "      <td>0.0</td>\n",
       "      <td>0.0</td>\n",
       "      <td>...</td>\n",
       "      <td>0.0</td>\n",
       "      <td>0.0</td>\n",
       "      <td>0.0</td>\n",
       "      <td>1.0</td>\n",
       "      <td>0.0</td>\n",
       "      <td>0.0</td>\n",
       "      <td>0.0</td>\n",
       "      <td>0.0</td>\n",
       "      <td>0.0</td>\n",
       "      <td>0.0</td>\n",
       "    </tr>\n",
       "    <tr>\n",
       "      <th>860</th>\n",
       "      <td>45.0</td>\n",
       "      <td>0.0</td>\n",
       "      <td>0.0</td>\n",
       "      <td>0.0</td>\n",
       "      <td>0.0</td>\n",
       "      <td>1.0</td>\n",
       "      <td>0.0</td>\n",
       "      <td>0.0</td>\n",
       "      <td>0.0</td>\n",
       "      <td>1.0</td>\n",
       "      <td>...</td>\n",
       "      <td>0.0</td>\n",
       "      <td>0.0</td>\n",
       "      <td>0.0</td>\n",
       "      <td>0.0</td>\n",
       "      <td>0.0</td>\n",
       "      <td>1.0</td>\n",
       "      <td>0.0</td>\n",
       "      <td>0.0</td>\n",
       "      <td>0.0</td>\n",
       "      <td>0.0</td>\n",
       "    </tr>\n",
       "    <tr>\n",
       "      <th>7270</th>\n",
       "      <td>39.0</td>\n",
       "      <td>0.0</td>\n",
       "      <td>0.0</td>\n",
       "      <td>0.0</td>\n",
       "      <td>0.0</td>\n",
       "      <td>1.0</td>\n",
       "      <td>0.0</td>\n",
       "      <td>0.0</td>\n",
       "      <td>0.0</td>\n",
       "      <td>0.0</td>\n",
       "      <td>...</td>\n",
       "      <td>0.0</td>\n",
       "      <td>0.0</td>\n",
       "      <td>0.0</td>\n",
       "      <td>0.0</td>\n",
       "      <td>0.0</td>\n",
       "      <td>0.0</td>\n",
       "      <td>1.0</td>\n",
       "      <td>0.0</td>\n",
       "      <td>0.0</td>\n",
       "      <td>0.0</td>\n",
       "    </tr>\n",
       "  </tbody>\n",
       "</table>\n",
       "<p>7709 rows × 87 columns</p>\n",
       "</div>"
      ],
      "text/plain": [
       "      price_per_unit  retailer_Amazon  retailer_Foot_Locker  retailer_Kohl's  \\\n",
       "485             60.0              0.0                   0.0              0.0   \n",
       "6472            26.0              0.0                   0.0              0.0   \n",
       "1222            35.0              0.0                   1.0              0.0   \n",
       "5608            66.0              0.0                   0.0              0.0   \n",
       "2855            55.0              0.0                   0.0              1.0   \n",
       "...              ...              ...                   ...              ...   \n",
       "5734            49.0              0.0                   0.0              1.0   \n",
       "5191            41.0              0.0                   0.0              0.0   \n",
       "5390            86.0              0.0                   0.0              0.0   \n",
       "860             45.0              0.0                   0.0              0.0   \n",
       "7270            39.0              0.0                   0.0              0.0   \n",
       "\n",
       "      retailer_Sports_Direct  retailer_Walmart  retailer_West_Gear  \\\n",
       "485                      0.0               0.0                 1.0   \n",
       "6472                     1.0               0.0                 0.0   \n",
       "1222                     0.0               0.0                 0.0   \n",
       "5608                     0.0               0.0                 1.0   \n",
       "2855                     0.0               0.0                 0.0   \n",
       "...                      ...               ...                 ...   \n",
       "5734                     0.0               0.0                 0.0   \n",
       "5191                     1.0               0.0                 0.0   \n",
       "5390                     0.0               0.0                 1.0   \n",
       "860                      0.0               1.0                 0.0   \n",
       "7270                     0.0               1.0                 0.0   \n",
       "\n",
       "      region_Midwest  region_Northeast  region_South  ...  month_3  month_4  \\\n",
       "485              0.0               0.0           0.0  ...      0.0      1.0   \n",
       "6472             0.0               0.0           1.0  ...      0.0      0.0   \n",
       "1222             1.0               0.0           0.0  ...      0.0      0.0   \n",
       "5608             0.0               1.0           0.0  ...      0.0      0.0   \n",
       "2855             1.0               0.0           0.0  ...      1.0      0.0   \n",
       "...              ...               ...           ...  ...      ...      ...   \n",
       "5734             1.0               0.0           0.0  ...      0.0      0.0   \n",
       "5191             1.0               0.0           0.0  ...      0.0      0.0   \n",
       "5390             0.0               0.0           0.0  ...      0.0      0.0   \n",
       "860              0.0               0.0           1.0  ...      0.0      0.0   \n",
       "7270             0.0               0.0           0.0  ...      0.0      0.0   \n",
       "\n",
       "      month_5  month_6  month_7  month_8  month_9  month_10  month_11  \\\n",
       "485       0.0      0.0      0.0      0.0      0.0       0.0       0.0   \n",
       "6472      0.0      0.0      0.0      1.0      0.0       0.0       0.0   \n",
       "1222      0.0      0.0      0.0      0.0      0.0       0.0       0.0   \n",
       "5608      0.0      0.0      1.0      0.0      0.0       0.0       0.0   \n",
       "2855      0.0      0.0      0.0      0.0      0.0       0.0       0.0   \n",
       "...       ...      ...      ...      ...      ...       ...       ...   \n",
       "5734      0.0      0.0      1.0      0.0      0.0       0.0       0.0   \n",
       "5191      0.0      1.0      0.0      0.0      0.0       0.0       0.0   \n",
       "5390      0.0      1.0      0.0      0.0      0.0       0.0       0.0   \n",
       "860       0.0      0.0      0.0      1.0      0.0       0.0       0.0   \n",
       "7270      0.0      0.0      0.0      0.0      1.0       0.0       0.0   \n",
       "\n",
       "      month_12  \n",
       "485        0.0  \n",
       "6472       0.0  \n",
       "1222       1.0  \n",
       "5608       0.0  \n",
       "2855       0.0  \n",
       "...        ...  \n",
       "5734       0.0  \n",
       "5191       0.0  \n",
       "5390       0.0  \n",
       "860        0.0  \n",
       "7270       0.0  \n",
       "\n",
       "[7709 rows x 87 columns]"
      ]
     },
     "execution_count": 47,
     "metadata": {},
     "output_type": "execute_result"
    }
   ],
   "source": [
    "X_train_df"
   ]
  },
  {
   "cell_type": "markdown",
   "metadata": {},
   "source": [
    "- We visualise our target in **y_train**."
   ]
  },
  {
   "cell_type": "code",
   "execution_count": 48,
   "metadata": {},
   "outputs": [
    {
     "data": {
      "text/plain": [
       "count     7709.000000\n",
       "mean     12378.403035\n",
       "std      12626.345755\n",
       "min        160.000000\n",
       "25%       4080.000000\n",
       "50%       7791.000000\n",
       "75%      15750.000000\n",
       "max      82500.000000\n",
       "Name: total_sales, dtype: float64"
      ]
     },
     "execution_count": 48,
     "metadata": {},
     "output_type": "execute_result"
    }
   ],
   "source": [
    "y_train.describe()"
   ]
  },
  {
   "cell_type": "code",
   "execution_count": 49,
   "metadata": {},
   "outputs": [
    {
     "data": {
      "text/plain": [
       "<Axes: xlabel='total_sales'>"
      ]
     },
     "execution_count": 49,
     "metadata": {},
     "output_type": "execute_result"
    },
    {
     "data": {
      "image/png": "[encoded data removed]",
      "text/plain": [
       "<Figure size 640x480 with 1 Axes>"
      ]
     },
     "metadata": {},
     "output_type": "display_data"
    }
   ],
   "source": [
    "sns.boxplot(x=y_train)"
   ]
  },
  {
   "cell_type": "code",
   "execution_count": 50,
   "metadata": {},
   "outputs": [
    {
     "data": {
      "text/plain": [
       "<Axes: xlabel='total_sales', ylabel='Count'>"
      ]
     },
     "execution_count": 50,
     "metadata": {},
     "output_type": "execute_result"
    },
    {
     "data": {
      "image/png": "[encoded data removed]",
      "text/plain": [
       "<Figure size 640x480 with 1 Axes>"
      ]
     },
     "metadata": {},
     "output_type": "display_data"
    }
   ],
   "source": [
    "# Histplot from 0 to 10000\n",
    "sns.histplot(y_train[y_train < 10000], bins=50, kde=True)"
   ]
  },
  {
   "cell_type": "markdown",
   "metadata": {},
   "source": [
    "- I was visualising the values of my target. I realised that I had a lot of outliers. **Business** is important here, because my decision was to keep as much data as possible but I still tried every way."
   ]
  },
  {
   "cell_type": "markdown",
   "metadata": {},
   "source": [
    "-------------------"
   ]
  },
  {
   "cell_type": "markdown",
   "metadata": {},
   "source": [
    "- I thought about imputing the median to the target so that I would have more concentrated values and not so dispersed. I had a long tail at the end and that could be bad for me."
   ]
  },
  {
   "cell_type": "code",
   "execution_count": 54,
   "metadata": {},
   "outputs": [
    {
     "name": "stdout",
     "output_type": "stream",
     "text": [
      "La mediana es de 7000.0\n"
     ]
    }
   ],
   "source": [
    "Q1 = y_train.quantile(0.25)\n",
    "Q3 = y_train.quantile(0.75)\n",
    "IQR = Q3 - Q1\n",
    "\n",
    "lower_bound = Q1 - 1.5 * IQR\n",
    "upper_bound = Q3 + 1.5 * IQR\n",
    "\n",
    "median_no_outliers = y_train[(y_train >= lower_bound) & (y_train <= upper_bound)].median()\n",
    "print(f\"La mediana es de {median_no_outliers}\")\n",
    "\n",
    "y_train_imputed = y_train.copy()\n",
    "y_train_imputed[(y_train < lower_bound) | (y_train > upper_bound)] = median_no_outliers\n",
    "\n",
    "y_test_imputed = y_test.copy()\n",
    "y_test_imputed[(y_test < lower_bound) | (y_test > upper_bound)] = median_no_outliers"
   ]
  },
  {
   "cell_type": "code",
   "execution_count": 55,
   "metadata": {},
   "outputs": [
    {
     "data": {
      "text/plain": [
       "count     7709.000000\n",
       "mean      9265.476586\n",
       "std       7304.726214\n",
       "min        160.000000\n",
       "25%       4080.000000\n",
       "50%       7000.000000\n",
       "75%      12000.000000\n",
       "max      33250.000000\n",
       "Name: total_sales, dtype: float64"
      ]
     },
     "execution_count": 55,
     "metadata": {},
     "output_type": "execute_result"
    }
   ],
   "source": [
    "y_train_imputed.describe()\n"
   ]
  },
  {
   "cell_type": "code",
   "execution_count": 56,
   "metadata": {},
   "outputs": [
    {
     "data": {
      "text/plain": [
       "<Axes: xlabel='total_sales', ylabel='Count'>"
      ]
     },
     "execution_count": 56,
     "metadata": {},
     "output_type": "execute_result"
    },
    {
     "data": {
      "image/png": "[encoded data removed]",
      "text/plain": [
       "<Figure size 640x480 with 1 Axes>"
      ]
     },
     "metadata": {},
     "output_type": "display_data"
    }
   ],
   "source": [
    "sns.histplot(y_train_imputed, kde = True)"
   ]
  },
  {
   "cell_type": "markdown",
   "metadata": {},
   "source": [
    "- When I saw this, I thought it was a negative thing for any model. I don't want it to have excess values in an area that I have imputed myself."
   ]
  },
  {
   "cell_type": "markdown",
   "metadata": {},
   "source": [
    "🙋‍♂️ Option rejected"
   ]
  },
  {
   "cell_type": "markdown",
   "metadata": {},
   "source": [
    "----------"
   ]
  },
  {
   "cell_type": "markdown",
   "metadata": {},
   "source": [
    "- Capping / Windsorizing was my next proposal. "
   ]
  },
  {
   "cell_type": "code",
   "execution_count": 57,
   "metadata": {},
   "outputs": [],
   "source": [
    "upper_cap = y_train.quantile(0.95)\n",
    "y_train_capped = y_train.copy()\n",
    "y_train_capped[y_train_capped > upper_cap] = upper_cap\n",
    "\n",
    "y_test_capped = y_test.copy()\n",
    "y_test_capped[y_test_capped > upper_cap] = upper_cap"
   ]
  },
  {
   "cell_type": "code",
   "execution_count": 58,
   "metadata": {},
   "outputs": [
    {
     "data": {
      "text/plain": [
       "count     7709.000000\n",
       "mean     11829.161889\n",
       "std      10853.102480\n",
       "min        160.000000\n",
       "25%       4080.000000\n",
       "50%       7791.000000\n",
       "75%      15750.000000\n",
       "max      40450.000000\n",
       "Name: total_sales, dtype: float64"
      ]
     },
     "execution_count": 58,
     "metadata": {},
     "output_type": "execute_result"
    }
   ],
   "source": [
    "y_train_capped.describe()"
   ]
  },
  {
   "cell_type": "code",
   "execution_count": 59,
   "metadata": {},
   "outputs": [
    {
     "data": {
      "text/plain": [
       "<Axes: xlabel='total_sales', ylabel='Count'>"
      ]
     },
     "execution_count": 59,
     "metadata": {},
     "output_type": "execute_result"
    },
    {
     "data": {
      "image/png": "[encoded data removed]",
      "text/plain": [
       "<Figure size 640x480 with 1 Axes>"
      ]
     },
     "metadata": {},
     "output_type": "display_data"
    }
   ],
   "source": [
    "sns.histplot(y_train_capped, kde = True)"
   ]
  },
  {
   "cell_type": "markdown",
   "metadata": {},
   "source": [
    "- I had good hopes for this method but it does something similar to the previous one. It generates a zone with a number of values imputed by me and that does not follow the nature of the graph."
   ]
  },
  {
   "cell_type": "markdown",
   "metadata": {},
   "source": [
    "🙋‍♂️ Option rejected"
   ]
  },
  {
   "cell_type": "markdown",
   "metadata": {},
   "source": [
    "---------------"
   ]
  },
  {
   "cell_type": "markdown",
   "metadata": {},
   "source": [
    "🔎 AFTER SO MANY TESTS:\n",
    "\n",
    "I performed numerous tests, I thought that the values above 45k euros which are 260 rows and represented 3% of the dataset.... were the ones generating noise. But when I tested the model I could see that the improvement was very small and I didn't think it was necessary to lose information and then not improve significantly.\n",
    "\n",
    "*You always have to have a real context and in the real environment these same decisions arise.*"
   ]
  },
  {
   "cell_type": "markdown",
   "metadata": {},
   "source": [
    "BUSINESS MOMENT\n",
    "\n",
    "- I think that the values that did make noise were the most extreme ones. Still, this would be something to discuss with team leaders."
   ]
  },
  {
   "cell_type": "code",
   "execution_count": 60,
   "metadata": {},
   "outputs": [],
   "source": [
    "# Remove extreme outliers\n",
    "mask = (y_train >= 300) & (y_train <= 80000)\n",
    "\n",
    "X_train_filtered = X_train[mask]\n",
    "y_train_filtered = y_train[mask]"
   ]
  },
  {
   "cell_type": "code",
   "execution_count": 61,
   "metadata": {},
   "outputs": [
    {
     "data": {
      "text/plain": [
       "count     7697.000000\n",
       "mean     12344.566065\n",
       "std      12507.313632\n",
       "min        320.000000\n",
       "25%       4092.000000\n",
       "50%       7791.000000\n",
       "75%      15750.000000\n",
       "max      78000.000000\n",
       "Name: total_sales, dtype: float64"
      ]
     },
     "execution_count": 61,
     "metadata": {},
     "output_type": "execute_result"
    }
   ],
   "source": [
    "y_train_filtered.describe()"
   ]
  },
  {
   "cell_type": "code",
   "execution_count": 62,
   "metadata": {},
   "outputs": [],
   "source": [
    "# Remove the outliers from the X_train_df where I had the Column Transform\n",
    "X_train_df_mask = X_train_df[mask]"
   ]
  },
  {
   "cell_type": "code",
   "execution_count": 63,
   "metadata": {},
   "outputs": [
    {
     "data": {
      "text/html": [
       "<div>\n",
       "<style scoped>\n",
       "    .dataframe tbody tr th:only-of-type {\n",
       "        vertical-align: middle;\n",
       "    }\n",
       "\n",
       "    .dataframe tbody tr th {\n",
       "        vertical-align: top;\n",
       "    }\n",
       "\n",
       "    .dataframe thead th {\n",
       "        text-align: right;\n",
       "    }\n",
       "</style>\n",
       "<table border=\"1\" class=\"dataframe\">\n",
       "  <thead>\n",
       "    <tr style=\"text-align: right;\">\n",
       "      <th></th>\n",
       "      <th>retailer</th>\n",
       "      <th>region</th>\n",
       "      <th>state</th>\n",
       "      <th>product</th>\n",
       "      <th>price_per_unit</th>\n",
       "      <th>month</th>\n",
       "      <th>day_of_week</th>\n",
       "    </tr>\n",
       "  </thead>\n",
       "  <tbody>\n",
       "    <tr>\n",
       "      <th>485</th>\n",
       "      <td>West Gear</td>\n",
       "      <td>Southeast</td>\n",
       "      <td>Florida</td>\n",
       "      <td>Men's Apparel</td>\n",
       "      <td>60.0</td>\n",
       "      <td>4</td>\n",
       "      <td>4</td>\n",
       "    </tr>\n",
       "    <tr>\n",
       "      <th>6472</th>\n",
       "      <td>Sports Direct</td>\n",
       "      <td>South</td>\n",
       "      <td>Texas</td>\n",
       "      <td>Men's Apparel</td>\n",
       "      <td>26.0</td>\n",
       "      <td>8</td>\n",
       "      <td>6</td>\n",
       "    </tr>\n",
       "    <tr>\n",
       "      <th>1222</th>\n",
       "      <td>Foot Locker</td>\n",
       "      <td>Midwest</td>\n",
       "      <td>Minnesota</td>\n",
       "      <td>Men's Apparel</td>\n",
       "      <td>35.0</td>\n",
       "      <td>12</td>\n",
       "      <td>1</td>\n",
       "    </tr>\n",
       "    <tr>\n",
       "      <th>5608</th>\n",
       "      <td>West Gear</td>\n",
       "      <td>Northeast</td>\n",
       "      <td>New York</td>\n",
       "      <td>Women's Apparel</td>\n",
       "      <td>66.0</td>\n",
       "      <td>7</td>\n",
       "      <td>3</td>\n",
       "    </tr>\n",
       "    <tr>\n",
       "      <th>2855</th>\n",
       "      <td>Kohl's</td>\n",
       "      <td>Midwest</td>\n",
       "      <td>Montana</td>\n",
       "      <td>Women's Apparel</td>\n",
       "      <td>55.0</td>\n",
       "      <td>3</td>\n",
       "      <td>1</td>\n",
       "    </tr>\n",
       "    <tr>\n",
       "      <th>...</th>\n",
       "      <td>...</td>\n",
       "      <td>...</td>\n",
       "      <td>...</td>\n",
       "      <td>...</td>\n",
       "      <td>...</td>\n",
       "      <td>...</td>\n",
       "      <td>...</td>\n",
       "    </tr>\n",
       "    <tr>\n",
       "      <th>5734</th>\n",
       "      <td>Kohl's</td>\n",
       "      <td>Midwest</td>\n",
       "      <td>Kansas</td>\n",
       "      <td>Men's Athletic Footwear</td>\n",
       "      <td>49.0</td>\n",
       "      <td>7</td>\n",
       "      <td>0</td>\n",
       "    </tr>\n",
       "    <tr>\n",
       "      <th>5191</th>\n",
       "      <td>Sports Direct</td>\n",
       "      <td>Midwest</td>\n",
       "      <td>Michigan</td>\n",
       "      <td>Women's Street Footwear</td>\n",
       "      <td>41.0</td>\n",
       "      <td>6</td>\n",
       "      <td>3</td>\n",
       "    </tr>\n",
       "    <tr>\n",
       "      <th>5390</th>\n",
       "      <td>West Gear</td>\n",
       "      <td>West</td>\n",
       "      <td>Oregon</td>\n",
       "      <td>Men's Apparel</td>\n",
       "      <td>86.0</td>\n",
       "      <td>6</td>\n",
       "      <td>3</td>\n",
       "    </tr>\n",
       "    <tr>\n",
       "      <th>860</th>\n",
       "      <td>Walmart</td>\n",
       "      <td>South</td>\n",
       "      <td>Texas</td>\n",
       "      <td>Men's Apparel</td>\n",
       "      <td>45.0</td>\n",
       "      <td>8</td>\n",
       "      <td>6</td>\n",
       "    </tr>\n",
       "    <tr>\n",
       "      <th>7270</th>\n",
       "      <td>Walmart</td>\n",
       "      <td>Southeast</td>\n",
       "      <td>Florida</td>\n",
       "      <td>Women's Street Footwear</td>\n",
       "      <td>39.0</td>\n",
       "      <td>9</td>\n",
       "      <td>5</td>\n",
       "    </tr>\n",
       "  </tbody>\n",
       "</table>\n",
       "<p>7697 rows × 7 columns</p>\n",
       "</div>"
      ],
      "text/plain": [
       "           retailer     region      state                  product  \\\n",
       "485       West Gear  Southeast    Florida            Men's Apparel   \n",
       "6472  Sports Direct      South      Texas            Men's Apparel   \n",
       "1222    Foot Locker    Midwest  Minnesota            Men's Apparel   \n",
       "5608      West Gear  Northeast   New York          Women's Apparel   \n",
       "2855         Kohl's    Midwest    Montana          Women's Apparel   \n",
       "...             ...        ...        ...                      ...   \n",
       "5734         Kohl's    Midwest     Kansas  Men's Athletic Footwear   \n",
       "5191  Sports Direct    Midwest   Michigan  Women's Street Footwear   \n",
       "5390      West Gear       West     Oregon            Men's Apparel   \n",
       "860         Walmart      South      Texas            Men's Apparel   \n",
       "7270        Walmart  Southeast    Florida  Women's Street Footwear   \n",
       "\n",
       "      price_per_unit  month  day_of_week  \n",
       "485             60.0      4            4  \n",
       "6472            26.0      8            6  \n",
       "1222            35.0     12            1  \n",
       "5608            66.0      7            3  \n",
       "2855            55.0      3            1  \n",
       "...              ...    ...          ...  \n",
       "5734            49.0      7            0  \n",
       "5191            41.0      6            3  \n",
       "5390            86.0      6            3  \n",
       "860             45.0      8            6  \n",
       "7270            39.0      9            5  \n",
       "\n",
       "[7697 rows x 7 columns]"
      ]
     },
     "execution_count": 63,
     "metadata": {},
     "output_type": "execute_result"
    }
   ],
   "source": [
    "X_train_filtered"
   ]
  },
  {
   "cell_type": "code",
   "execution_count": 64,
   "metadata": {},
   "outputs": [
    {
     "data": {
      "text/html": [
       "<div>\n",
       "<style scoped>\n",
       "    .dataframe tbody tr th:only-of-type {\n",
       "        vertical-align: middle;\n",
       "    }\n",
       "\n",
       "    .dataframe tbody tr th {\n",
       "        vertical-align: top;\n",
       "    }\n",
       "\n",
       "    .dataframe thead th {\n",
       "        text-align: right;\n",
       "    }\n",
       "</style>\n",
       "<table border=\"1\" class=\"dataframe\">\n",
       "  <thead>\n",
       "    <tr style=\"text-align: right;\">\n",
       "      <th></th>\n",
       "      <th>price_per_unit</th>\n",
       "      <th>retailer_Amazon</th>\n",
       "      <th>retailer_Foot_Locker</th>\n",
       "      <th>retailer_Kohl's</th>\n",
       "      <th>retailer_Sports_Direct</th>\n",
       "      <th>retailer_Walmart</th>\n",
       "      <th>retailer_West_Gear</th>\n",
       "      <th>region_Midwest</th>\n",
       "      <th>region_Northeast</th>\n",
       "      <th>region_South</th>\n",
       "      <th>...</th>\n",
       "      <th>month_3</th>\n",
       "      <th>month_4</th>\n",
       "      <th>month_5</th>\n",
       "      <th>month_6</th>\n",
       "      <th>month_7</th>\n",
       "      <th>month_8</th>\n",
       "      <th>month_9</th>\n",
       "      <th>month_10</th>\n",
       "      <th>month_11</th>\n",
       "      <th>month_12</th>\n",
       "    </tr>\n",
       "  </thead>\n",
       "  <tbody>\n",
       "    <tr>\n",
       "      <th>485</th>\n",
       "      <td>60.0</td>\n",
       "      <td>0.0</td>\n",
       "      <td>0.0</td>\n",
       "      <td>0.0</td>\n",
       "      <td>0.0</td>\n",
       "      <td>0.0</td>\n",
       "      <td>1.0</td>\n",
       "      <td>0.0</td>\n",
       "      <td>0.0</td>\n",
       "      <td>0.0</td>\n",
       "      <td>...</td>\n",
       "      <td>0.0</td>\n",
       "      <td>1.0</td>\n",
       "      <td>0.0</td>\n",
       "      <td>0.0</td>\n",
       "      <td>0.0</td>\n",
       "      <td>0.0</td>\n",
       "      <td>0.0</td>\n",
       "      <td>0.0</td>\n",
       "      <td>0.0</td>\n",
       "      <td>0.0</td>\n",
       "    </tr>\n",
       "    <tr>\n",
       "      <th>6472</th>\n",
       "      <td>26.0</td>\n",
       "      <td>0.0</td>\n",
       "      <td>0.0</td>\n",
       "      <td>0.0</td>\n",
       "      <td>1.0</td>\n",
       "      <td>0.0</td>\n",
       "      <td>0.0</td>\n",
       "      <td>0.0</td>\n",
       "      <td>0.0</td>\n",
       "      <td>1.0</td>\n",
       "      <td>...</td>\n",
       "      <td>0.0</td>\n",
       "      <td>0.0</td>\n",
       "      <td>0.0</td>\n",
       "      <td>0.0</td>\n",
       "      <td>0.0</td>\n",
       "      <td>1.0</td>\n",
       "      <td>0.0</td>\n",
       "      <td>0.0</td>\n",
       "      <td>0.0</td>\n",
       "      <td>0.0</td>\n",
       "    </tr>\n",
       "    <tr>\n",
       "      <th>1222</th>\n",
       "      <td>35.0</td>\n",
       "      <td>0.0</td>\n",
       "      <td>1.0</td>\n",
       "      <td>0.0</td>\n",
       "      <td>0.0</td>\n",
       "      <td>0.0</td>\n",
       "      <td>0.0</td>\n",
       "      <td>1.0</td>\n",
       "      <td>0.0</td>\n",
       "      <td>0.0</td>\n",
       "      <td>...</td>\n",
       "      <td>0.0</td>\n",
       "      <td>0.0</td>\n",
       "      <td>0.0</td>\n",
       "      <td>0.0</td>\n",
       "      <td>0.0</td>\n",
       "      <td>0.0</td>\n",
       "      <td>0.0</td>\n",
       "      <td>0.0</td>\n",
       "      <td>0.0</td>\n",
       "      <td>1.0</td>\n",
       "    </tr>\n",
       "    <tr>\n",
       "      <th>5608</th>\n",
       "      <td>66.0</td>\n",
       "      <td>0.0</td>\n",
       "      <td>0.0</td>\n",
       "      <td>0.0</td>\n",
       "      <td>0.0</td>\n",
       "      <td>0.0</td>\n",
       "      <td>1.0</td>\n",
       "      <td>0.0</td>\n",
       "      <td>1.0</td>\n",
       "      <td>0.0</td>\n",
       "      <td>...</td>\n",
       "      <td>0.0</td>\n",
       "      <td>0.0</td>\n",
       "      <td>0.0</td>\n",
       "      <td>0.0</td>\n",
       "      <td>1.0</td>\n",
       "      <td>0.0</td>\n",
       "      <td>0.0</td>\n",
       "      <td>0.0</td>\n",
       "      <td>0.0</td>\n",
       "      <td>0.0</td>\n",
       "    </tr>\n",
       "    <tr>\n",
       "      <th>2855</th>\n",
       "      <td>55.0</td>\n",
       "      <td>0.0</td>\n",
       "      <td>0.0</td>\n",
       "      <td>1.0</td>\n",
       "      <td>0.0</td>\n",
       "      <td>0.0</td>\n",
       "      <td>0.0</td>\n",
       "      <td>1.0</td>\n",
       "      <td>0.0</td>\n",
       "      <td>0.0</td>\n",
       "      <td>...</td>\n",
       "      <td>1.0</td>\n",
       "      <td>0.0</td>\n",
       "      <td>0.0</td>\n",
       "      <td>0.0</td>\n",
       "      <td>0.0</td>\n",
       "      <td>0.0</td>\n",
       "      <td>0.0</td>\n",
       "      <td>0.0</td>\n",
       "      <td>0.0</td>\n",
       "      <td>0.0</td>\n",
       "    </tr>\n",
       "    <tr>\n",
       "      <th>...</th>\n",
       "      <td>...</td>\n",
       "      <td>...</td>\n",
       "      <td>...</td>\n",
       "      <td>...</td>\n",
       "      <td>...</td>\n",
       "      <td>...</td>\n",
       "      <td>...</td>\n",
       "      <td>...</td>\n",
       "      <td>...</td>\n",
       "      <td>...</td>\n",
       "      <td>...</td>\n",
       "      <td>...</td>\n",
       "      <td>...</td>\n",
       "      <td>...</td>\n",
       "      <td>...</td>\n",
       "      <td>...</td>\n",
       "      <td>...</td>\n",
       "      <td>...</td>\n",
       "      <td>...</td>\n",
       "      <td>...</td>\n",
       "      <td>...</td>\n",
       "    </tr>\n",
       "    <tr>\n",
       "      <th>5734</th>\n",
       "      <td>49.0</td>\n",
       "      <td>0.0</td>\n",
       "      <td>0.0</td>\n",
       "      <td>1.0</td>\n",
       "      <td>0.0</td>\n",
       "      <td>0.0</td>\n",
       "      <td>0.0</td>\n",
       "      <td>1.0</td>\n",
       "      <td>0.0</td>\n",
       "      <td>0.0</td>\n",
       "      <td>...</td>\n",
       "      <td>0.0</td>\n",
       "      <td>0.0</td>\n",
       "      <td>0.0</td>\n",
       "      <td>0.0</td>\n",
       "      <td>1.0</td>\n",
       "      <td>0.0</td>\n",
       "      <td>0.0</td>\n",
       "      <td>0.0</td>\n",
       "      <td>0.0</td>\n",
       "      <td>0.0</td>\n",
       "    </tr>\n",
       "    <tr>\n",
       "      <th>5191</th>\n",
       "      <td>41.0</td>\n",
       "      <td>0.0</td>\n",
       "      <td>0.0</td>\n",
       "      <td>0.0</td>\n",
       "      <td>1.0</td>\n",
       "      <td>0.0</td>\n",
       "      <td>0.0</td>\n",
       "      <td>1.0</td>\n",
       "      <td>0.0</td>\n",
       "      <td>0.0</td>\n",
       "      <td>...</td>\n",
       "      <td>0.0</td>\n",
       "      <td>0.0</td>\n",
       "      <td>0.0</td>\n",
       "      <td>1.0</td>\n",
       "      <td>0.0</td>\n",
       "      <td>0.0</td>\n",
       "      <td>0.0</td>\n",
       "      <td>0.0</td>\n",
       "      <td>0.0</td>\n",
       "      <td>0.0</td>\n",
       "    </tr>\n",
       "    <tr>\n",
       "      <th>5390</th>\n",
       "      <td>86.0</td>\n",
       "      <td>0.0</td>\n",
       "      <td>0.0</td>\n",
       "      <td>0.0</td>\n",
       "      <td>0.0</td>\n",
       "      <td>0.0</td>\n",
       "      <td>1.0</td>\n",
       "      <td>0.0</td>\n",
       "      <td>0.0</td>\n",
       "      <td>0.0</td>\n",
       "      <td>...</td>\n",
       "      <td>0.0</td>\n",
       "      <td>0.0</td>\n",
       "      <td>0.0</td>\n",
       "      <td>1.0</td>\n",
       "      <td>0.0</td>\n",
       "      <td>0.0</td>\n",
       "      <td>0.0</td>\n",
       "      <td>0.0</td>\n",
       "      <td>0.0</td>\n",
       "      <td>0.0</td>\n",
       "    </tr>\n",
       "    <tr>\n",
       "      <th>860</th>\n",
       "      <td>45.0</td>\n",
       "      <td>0.0</td>\n",
       "      <td>0.0</td>\n",
       "      <td>0.0</td>\n",
       "      <td>0.0</td>\n",
       "      <td>1.0</td>\n",
       "      <td>0.0</td>\n",
       "      <td>0.0</td>\n",
       "      <td>0.0</td>\n",
       "      <td>1.0</td>\n",
       "      <td>...</td>\n",
       "      <td>0.0</td>\n",
       "      <td>0.0</td>\n",
       "      <td>0.0</td>\n",
       "      <td>0.0</td>\n",
       "      <td>0.0</td>\n",
       "      <td>1.0</td>\n",
       "      <td>0.0</td>\n",
       "      <td>0.0</td>\n",
       "      <td>0.0</td>\n",
       "      <td>0.0</td>\n",
       "    </tr>\n",
       "    <tr>\n",
       "      <th>7270</th>\n",
       "      <td>39.0</td>\n",
       "      <td>0.0</td>\n",
       "      <td>0.0</td>\n",
       "      <td>0.0</td>\n",
       "      <td>0.0</td>\n",
       "      <td>1.0</td>\n",
       "      <td>0.0</td>\n",
       "      <td>0.0</td>\n",
       "      <td>0.0</td>\n",
       "      <td>0.0</td>\n",
       "      <td>...</td>\n",
       "      <td>0.0</td>\n",
       "      <td>0.0</td>\n",
       "      <td>0.0</td>\n",
       "      <td>0.0</td>\n",
       "      <td>0.0</td>\n",
       "      <td>0.0</td>\n",
       "      <td>1.0</td>\n",
       "      <td>0.0</td>\n",
       "      <td>0.0</td>\n",
       "      <td>0.0</td>\n",
       "    </tr>\n",
       "  </tbody>\n",
       "</table>\n",
       "<p>7697 rows × 87 columns</p>\n",
       "</div>"
      ],
      "text/plain": [
       "      price_per_unit  retailer_Amazon  retailer_Foot_Locker  retailer_Kohl's  \\\n",
       "485             60.0              0.0                   0.0              0.0   \n",
       "6472            26.0              0.0                   0.0              0.0   \n",
       "1222            35.0              0.0                   1.0              0.0   \n",
       "5608            66.0              0.0                   0.0              0.0   \n",
       "2855            55.0              0.0                   0.0              1.0   \n",
       "...              ...              ...                   ...              ...   \n",
       "5734            49.0              0.0                   0.0              1.0   \n",
       "5191            41.0              0.0                   0.0              0.0   \n",
       "5390            86.0              0.0                   0.0              0.0   \n",
       "860             45.0              0.0                   0.0              0.0   \n",
       "7270            39.0              0.0                   0.0              0.0   \n",
       "\n",
       "      retailer_Sports_Direct  retailer_Walmart  retailer_West_Gear  \\\n",
       "485                      0.0               0.0                 1.0   \n",
       "6472                     1.0               0.0                 0.0   \n",
       "1222                     0.0               0.0                 0.0   \n",
       "5608                     0.0               0.0                 1.0   \n",
       "2855                     0.0               0.0                 0.0   \n",
       "...                      ...               ...                 ...   \n",
       "5734                     0.0               0.0                 0.0   \n",
       "5191                     1.0               0.0                 0.0   \n",
       "5390                     0.0               0.0                 1.0   \n",
       "860                      0.0               1.0                 0.0   \n",
       "7270                     0.0               1.0                 0.0   \n",
       "\n",
       "      region_Midwest  region_Northeast  region_South  ...  month_3  month_4  \\\n",
       "485              0.0               0.0           0.0  ...      0.0      1.0   \n",
       "6472             0.0               0.0           1.0  ...      0.0      0.0   \n",
       "1222             1.0               0.0           0.0  ...      0.0      0.0   \n",
       "5608             0.0               1.0           0.0  ...      0.0      0.0   \n",
       "2855             1.0               0.0           0.0  ...      1.0      0.0   \n",
       "...              ...               ...           ...  ...      ...      ...   \n",
       "5734             1.0               0.0           0.0  ...      0.0      0.0   \n",
       "5191             1.0               0.0           0.0  ...      0.0      0.0   \n",
       "5390             0.0               0.0           0.0  ...      0.0      0.0   \n",
       "860              0.0               0.0           1.0  ...      0.0      0.0   \n",
       "7270             0.0               0.0           0.0  ...      0.0      0.0   \n",
       "\n",
       "      month_5  month_6  month_7  month_8  month_9  month_10  month_11  \\\n",
       "485       0.0      0.0      0.0      0.0      0.0       0.0       0.0   \n",
       "6472      0.0      0.0      0.0      1.0      0.0       0.0       0.0   \n",
       "1222      0.0      0.0      0.0      0.0      0.0       0.0       0.0   \n",
       "5608      0.0      0.0      1.0      0.0      0.0       0.0       0.0   \n",
       "2855      0.0      0.0      0.0      0.0      0.0       0.0       0.0   \n",
       "...       ...      ...      ...      ...      ...       ...       ...   \n",
       "5734      0.0      0.0      1.0      0.0      0.0       0.0       0.0   \n",
       "5191      0.0      1.0      0.0      0.0      0.0       0.0       0.0   \n",
       "5390      0.0      1.0      0.0      0.0      0.0       0.0       0.0   \n",
       "860       0.0      0.0      0.0      1.0      0.0       0.0       0.0   \n",
       "7270      0.0      0.0      0.0      0.0      1.0       0.0       0.0   \n",
       "\n",
       "      month_12  \n",
       "485        0.0  \n",
       "6472       0.0  \n",
       "1222       1.0  \n",
       "5608       0.0  \n",
       "2855       0.0  \n",
       "...        ...  \n",
       "5734       0.0  \n",
       "5191       0.0  \n",
       "5390       0.0  \n",
       "860        0.0  \n",
       "7270       0.0  \n",
       "\n",
       "[7697 rows x 87 columns]"
      ]
     },
     "execution_count": 64,
     "metadata": {},
     "output_type": "execute_result"
    }
   ],
   "source": [
    "X_train_df_mask"
   ]
  },
  {
   "cell_type": "markdown",
   "metadata": {},
   "source": [
    "- We have two training sets: **X_train_df_mask** (7697 x 87) and **X_train_filtered** (7697 x 7)"
   ]
  },
  {
   "cell_type": "markdown",
   "metadata": {},
   "source": [
    "- To transform the target, I thought of a logarithmic but I read about Box-Cox and liked it better because it tried to make the data look as close as possible to a Gaussian distribution."
   ]
  },
  {
   "cell_type": "code",
   "execution_count": 65,
   "metadata": {},
   "outputs": [
    {
     "name": "stdout",
     "output_type": "stream",
     "text": [
      "Lambda óptima: 0.028619666115049194\n"
     ]
    }
   ],
   "source": [
    "# box-cox transformation\n",
    "y_train_boxcox, lambda_val = boxcox(y_train_filtered)\n",
    "\n",
    "# lambda_val is the optimal parameter calculated for the transformation.\n",
    "print(f\"Lambda óptima: {lambda_val}\")"
   ]
  },
  {
   "cell_type": "code",
   "execution_count": 66,
   "metadata": {},
   "outputs": [],
   "source": [
    "# in test we apply the same boxcox as in train\n",
    "y_test_boxcox = boxcox(y_test, lmbda=lambda_val)\n"
   ]
  },
  {
   "cell_type": "code",
   "execution_count": 67,
   "metadata": {},
   "outputs": [
    {
     "data": {
      "text/plain": [
       "<Axes: ylabel='Count'>"
      ]
     },
     "execution_count": 67,
     "metadata": {},
     "output_type": "execute_result"
    },
    {
     "data": {
      "image/png": "[encoded data removed]",
      "text/plain": [
       "<Figure size 640x480 with 1 Axes>"
      ]
     },
     "metadata": {},
     "output_type": "display_data"
    }
   ],
   "source": [
    "sns.histplot(y_train_boxcox)"
   ]
  },
  {
   "cell_type": "markdown",
   "metadata": {},
   "source": [
    "- It does indeed look a lot better. We'll stick with the Box-Cox"
   ]
  },
  {
   "cell_type": "markdown",
   "metadata": {},
   "source": [
    "- Here is an example of the logarithmic:"
   ]
  },
  {
   "cell_type": "code",
   "execution_count": 68,
   "metadata": {},
   "outputs": [],
   "source": [
    "y_train_log = np.log1p(y_train_filtered)\n",
    "y_test_log = np.log1p(y_test)"
   ]
  },
  {
   "cell_type": "code",
   "execution_count": 69,
   "metadata": {},
   "outputs": [
    {
     "data": {
      "text/plain": [
       "<Axes: xlabel='total_sales', ylabel='Count'>"
      ]
     },
     "execution_count": 69,
     "metadata": {},
     "output_type": "execute_result"
    },
    {
     "data": {
      "image/png": "[encoded data removed]",
      "text/plain": [
       "<Figure size 640x480 with 1 Axes>"
      ]
     },
     "metadata": {},
     "output_type": "display_data"
    }
   ],
   "source": [
    "sns.histplot(y_train_log, kde = True)"
   ]
  },
  {
   "cell_type": "markdown",
   "metadata": {},
   "source": [
    "- It was not a bad option at all but in a test I did the Box-Cox gave me a better result."
   ]
  },
  {
   "cell_type": "markdown",
   "metadata": {},
   "source": [
    "# ✅ Step 6: Model selection and instantiation. Baseline.\n"
   ]
  },
  {
   "cell_type": "markdown",
   "metadata": {},
   "source": [
    "- We leave some loaded functions to be used in the following steps:"
   ]
  },
  {
   "cell_type": "code",
   "execution_count": 70,
   "metadata": {},
   "outputs": [],
   "source": [
    "def rmse_boxcox_inverse(y_true_boxcox, y_pred_boxcox):\n",
    "    y_true_original = inv_boxcox(y_true_boxcox, lambda_val)\n",
    "    y_pred_original = inv_boxcox(y_pred_boxcox, lambda_val)\n",
    "    \n",
    "    return np.sqrt(mean_squared_error(y_true_original, y_pred_original))\n",
    "\n",
    "scorer = make_scorer(rmse_boxcox_inverse, greater_is_better=False)"
   ]
  },
  {
   "cell_type": "code",
   "execution_count": 71,
   "metadata": {},
   "outputs": [],
   "source": [
    "def rmse(y_true, y_pred):\n",
    "    return np.sqrt(mean_squared_error(y_true, y_pred))\n",
    "\n",
    "rmse_scorer_tradi = make_scorer(rmse, greater_is_better=False)"
   ]
  },
  {
   "cell_type": "code",
   "execution_count": 72,
   "metadata": {},
   "outputs": [],
   "source": [
    "kf = KFold(n_splits=5, shuffle=True, random_state=42)"
   ]
  },
  {
   "cell_type": "markdown",
   "metadata": {},
   "source": [
    "**LINEAR REGRESSION**"
   ]
  },
  {
   "cell_type": "code",
   "execution_count": 73,
   "metadata": {},
   "outputs": [
    {
     "name": "stdout",
     "output_type": "stream",
     "text": [
      "\n",
      "Cross-validation (Baseline LINEAR REGRESSION):\n",
      "RMSE por fold: [9490.701291428159, 9806.525237720127, 10106.995422759615, 9102.039206207794, 9031.854564894737]\n",
      "MAE por fold: [6325.768005273795, 6527.418274350297, 6821.144866960746, 6220.00708918769, 6214.420534459016]\n",
      "R2 por fold: [0.44240673915692963, 0.37200331862620295, 0.3663832595266193, 0.4244890641574931, 0.4957168785782796]\n",
      "RMSE Promedio: 9507.623144602087\n",
      "MAE Promedio: 6421.751754046309\n",
      "R2 Promedio: 0.4201998520091049\n"
     ]
    }
   ],
   "source": [
    "# Training the linear regression model\n",
    "baseline_lr = LinearRegression()\n",
    "\n",
    "# Cross-validation scores\n",
    "cv_rmse_scores_lr_baseline = []\n",
    "cv_mae_scores_lr_baseline = []\n",
    "cv_r2_scores_lr_baseline = []\n",
    "\n",
    "# Manually to keep track of folds\n",
    "for train_index, val_index in kf.split(X_train_df_mask):\n",
    "    X_train_fold = X_train_df_mask.iloc[train_index]\n",
    "    X_val_fold = X_train_df_mask.iloc[val_index]\n",
    "    y_train_fold = y_train_boxcox[train_index]\n",
    "    y_val_fold = y_train_boxcox[val_index]\n",
    "\n",
    "    # Create the model\n",
    "    fold_model = baseline_lr\n",
    "    fold_model.fit(X_train_fold, y_train_fold)\n",
    "\n",
    "    # Predit Box Cox\n",
    "    y_val_pred_boxcox_lr = fold_model.predict(X_val_fold)\n",
    "\n",
    "    # Invert Box-Cox\n",
    "    y_val_pred_original = inv_boxcox(y_val_pred_boxcox_lr, lambda_val)\n",
    "    y_val_original = inv_boxcox(y_val_fold, lambda_val)\n",
    "\n",
    "    # Calculate metrics\n",
    "    rmse_fold = np.sqrt(mean_squared_error(y_val_original, y_val_pred_original))\n",
    "    mae_fold = mean_absolute_error(y_val_original, y_val_pred_original)\n",
    "    r2_fold = r2_score(y_val_original, y_val_pred_original)\n",
    "\n",
    "    cv_rmse_scores_lr_baseline.append(rmse_fold)\n",
    "    cv_mae_scores_lr_baseline.append(mae_fold)\n",
    "    cv_r2_scores_lr_baseline.append(r2_fold)\n",
    "\n",
    "print(\"\\nCross-validation (Baseline LINEAR REGRESSION):\")\n",
    "print(\"RMSE por fold:\", (cv_rmse_scores_lr_baseline))\n",
    "print(\"MAE por fold:\", (cv_mae_scores_lr_baseline))\n",
    "print(\"R2 por fold:\", (cv_r2_scores_lr_baseline))\n",
    "print(\"RMSE Promedio:\", np.mean(cv_rmse_scores_lr_baseline))\n",
    "print(\"MAE Promedio:\", np.mean(cv_mae_scores_lr_baseline))\n",
    "print(\"R2 Promedio:\", np.mean(cv_r2_scores_lr_baseline))"
   ]
  },
  {
   "cell_type": "markdown",
   "metadata": {},
   "source": [
    "- I had a result with quite a lot of error and wanted to continue testing other models."
   ]
  },
  {
   "cell_type": "markdown",
   "metadata": {},
   "source": [
    "**MLP REGRESSOR**"
   ]
  },
  {
   "cell_type": "code",
   "execution_count": 74,
   "metadata": {},
   "outputs": [
    {
     "name": "stdout",
     "output_type": "stream",
     "text": [
      "\n",
      "Validación Cruzada (Baseline NEURAL NETWORK):\n",
      "RMSE por fold: [9563.135339407509, 9465.006536450637, 9534.006070715668, 8844.054455680225, 9182.596666413616]\n",
      "MAE por fold: [6494.966237613399, 6713.205217085639, 6837.557680745695, 6365.685285568549, 6483.743283330764]\n",
      "R2 por fold: [0.43386303699085815, 0.41498246382522985, 0.43618924862784014, 0.45665084901130104, 0.4787433858892288]\n",
      "RMSE Promedio: 9317.759813733532\n",
      "MAE Promedio: 6579.031540868808\n",
      "R2 Promedio: 0.4440857968688916\n"
     ]
    }
   ],
   "source": [
    "import warnings\n",
    "warnings.filterwarnings(\"ignore\", category=UserWarning)\n",
    "\n",
    "# Entrenar el modelo de red neuronal\n",
    "nn_model = MLPRegressor(random_state=42)\n",
    "\n",
    "# Scores de validación cruzada\n",
    "cv_rmse_scores_nn_baseline = []\n",
    "cv_mae_scores_nn_baseline = []\n",
    "cv_r2_scores_nn_baseline = []\n",
    "\n",
    "# De forma manual para no perder el control de los folds\n",
    "for train_index, val_index in kf.split(X_train_df_mask):\n",
    "    X_train_fold = X_train_df_mask.iloc[train_index]\n",
    "    X_val_fold = X_train_df_mask.iloc[val_index]\n",
    "    y_train_fold = y_train_boxcox[train_index]\n",
    "    y_val_fold = y_train_boxcox[val_index]\n",
    "\n",
    "    # Crear el modelo\n",
    "    fold_model = nn_model\n",
    "    fold_model.fit(X_train_fold, y_train_fold)\n",
    "\n",
    "    # Predit Box Cox\n",
    "    y_val_pred_boxcox_nn = fold_model.predict(X_val_fold)\n",
    "\n",
    "    # Invertir Box-Cox\n",
    "    y_val_pred_original = inv_boxcox(y_val_pred_boxcox_nn, lambda_val)\n",
    "    y_val_original = inv_boxcox(y_val_fold, lambda_val)\n",
    "\n",
    "    # Calcular métricas\n",
    "    rmse_fold = np.sqrt(mean_squared_error(y_val_original, y_val_pred_original))\n",
    "    mae_fold = mean_absolute_error(y_val_original, y_val_pred_original)\n",
    "    r2_fold = r2_score(y_val_original, y_val_pred_original)\n",
    "\n",
    "    cv_rmse_scores_nn_baseline.append(rmse_fold)\n",
    "    cv_mae_scores_nn_baseline.append(mae_fold)\n",
    "    cv_r2_scores_nn_baseline.append(r2_fold)\n",
    "\n",
    "print(\"\\nValidación Cruzada (Baseline NEURAL NETWORK):\")\n",
    "print(\"RMSE por fold:\", (cv_rmse_scores_nn_baseline))\n",
    "print(\"MAE por fold:\", (cv_mae_scores_nn_baseline))\n",
    "print(\"R2 por fold:\", (cv_r2_scores_nn_baseline))\n",
    "print(\"RMSE Promedio:\", np.mean(cv_rmse_scores_nn_baseline))\n",
    "print(\"MAE Promedio:\", np.mean(cv_mae_scores_nn_baseline))\n",
    "print(\"R2 Promedio:\", np.mean(cv_r2_scores_nn_baseline))\n"
   ]
  },
  {
   "cell_type": "markdown",
   "metadata": {},
   "source": [
    "- The result is very similar to the previous one, but falls far short of expectations."
   ]
  },
  {
   "cell_type": "markdown",
   "metadata": {},
   "source": [
    "**CATBOOST**"
   ]
  },
  {
   "cell_type": "markdown",
   "metadata": {},
   "source": [
    "Our train here is **X_train_filtered** which contains 7 columns. **CatBoost** is a good model when we have categorical features."
   ]
  },
  {
   "cell_type": "code",
   "execution_count": 75,
   "metadata": {},
   "outputs": [
    {
     "name": "stdout",
     "output_type": "stream",
     "text": [
      "\n",
      "Validación Cruzada (Baseline CATBOOST):\n",
      "RMSE por fold: [5712.441671010984, 5497.454683952111, 5936.052155155879, 5649.039600027918, 5480.557270504938]\n",
      "MAE por fold: [3300.3806788800234, 3179.210826379288, 3529.7023001073667, 3233.7828572265385, 3278.9536261208914]\n",
      "R2 por fold: [0.797993909382689, 0.8026439863964582, 0.7814363568614278, 0.7783205602819568, 0.8143179160675793]\n",
      "RMSE Promedio: 5655.109076130366\n",
      "MAE Promedio: 3304.4060577428218\n",
      "R2 Promedio: 0.7949425457980223\n"
     ]
    }
   ],
   "source": [
    "# Construir el modelo\n",
    "cat_model = CatBoostRegressor(verbose=0, random_state=42)\n",
    "\n",
    "# Scores de validación cruzada\n",
    "cv_rmse_scores_cat_baseline = []\n",
    "cv_mae_scores_cat_baseline = []\n",
    "cv_r2_scores_cat_baseline = []\n",
    "\n",
    "# De forma manual para no perder el control de los folds\n",
    "for train_index, val_index in kf.split(X_train_filtered):\n",
    "    X_train_fold = X_train_filtered.iloc[train_index]\n",
    "    X_val_fold = X_train_filtered.iloc[val_index]\n",
    "    y_train_fold = y_train_boxcox[train_index]\n",
    "    y_val_fold = y_train_boxcox[val_index]\n",
    "\n",
    "    # Crear el modelo\n",
    "    fold_model = cat_model\n",
    "    fold_model.fit(X_train_fold, y_train_fold, cat_features=categorical_features)\n",
    "\n",
    "    # Predit Box Cox\n",
    "    y_val_pred_boxcox_cat = fold_model.predict(X_val_fold)\n",
    "\n",
    "    # Invertir Box-Cox\n",
    "    y_val_pred_original = inv_boxcox(y_val_pred_boxcox_cat, lambda_val)\n",
    "    y_val_original = inv_boxcox(y_val_fold, lambda_val)\n",
    "\n",
    "    # Calcular métricas\n",
    "    rmse_fold = np.sqrt(mean_squared_error(y_val_original, y_val_pred_original))\n",
    "    mae_fold = mean_absolute_error(y_val_original, y_val_pred_original)\n",
    "    r2_fold = r2_score(y_val_original, y_val_pred_original)\n",
    "\n",
    "    cv_rmse_scores_cat_baseline.append(rmse_fold)\n",
    "    cv_mae_scores_cat_baseline.append(mae_fold)\n",
    "    cv_r2_scores_cat_baseline.append(r2_fold)\n",
    "\n",
    "print(\"\\nValidación Cruzada (Baseline CATBOOST):\")\n",
    "print(\"RMSE por fold:\", (cv_rmse_scores_cat_baseline))\n",
    "print(\"MAE por fold:\", (cv_mae_scores_cat_baseline))\n",
    "print(\"R2 por fold:\", (cv_r2_scores_cat_baseline))\n",
    "print(\"RMSE Promedio:\", np.mean(cv_rmse_scores_cat_baseline))\n",
    "print(\"MAE Promedio:\", np.mean(cv_mae_scores_cat_baseline))\n",
    "print(\"R2 Promedio:\", np.mean(cv_r2_scores_cat_baseline))"
   ]
  },
  {
   "cell_type": "markdown",
   "metadata": {},
   "source": [
    "🧠 GOOD to go forward with this model."
   ]
  },
  {
   "cell_type": "markdown",
   "metadata": {},
   "source": [
    "**RANDOM FOREST**"
   ]
  },
  {
   "cell_type": "markdown",
   "metadata": {},
   "source": [
    "- Here we have **X_train_df_mask** contains 87 columns because it had the OneHotEncoder of our Column Transform."
   ]
  },
  {
   "cell_type": "code",
   "execution_count": 76,
   "metadata": {},
   "outputs": [
    {
     "name": "stdout",
     "output_type": "stream",
     "text": [
      "\n",
      "Validación Cruzada (Baseline RF):\n",
      "RMSE por fold: [6967.818701101362, 6035.852254890726, 6743.0224662859655, 6216.350294189921, 6013.949257765285]\n",
      "MAE por fold: [3712.7204882661217, 3447.3570656253296, 3828.2161770553207, 3437.919048032129, 3448.446404842048]\n",
      "R2 por fold: [0.6994514819855915, 0.7620946277040466, 0.7179723307575232, 0.7315600587288726, 0.7764163304206954]\n",
      "RMSE Promedio: 6395.3985948466525\n",
      "MAE Promedio: 3574.93183676419\n",
      "R2 Promedio: 0.7374989659193458\n"
     ]
    }
   ],
   "source": [
    "# Construir el modelo\n",
    "rf_model = RandomForestRegressor(random_state=42)\n",
    "\n",
    "# Scores de validación cruzada\n",
    "cv_rmse_scores_rf_baseline = []\n",
    "cv_mae_scores_rf_baseline = []\n",
    "cv_r2_scores_rf_baseline = []\n",
    "\n",
    "# De forma manual para no perder el control de los folds\n",
    "for train_index, val_index in kf.split(X_train_df_mask):\n",
    "    X_train_fold = X_train_df_mask.iloc[train_index]\n",
    "    X_val_fold = X_train_df_mask.iloc[val_index]\n",
    "    y_train_fold = y_train_boxcox[train_index]\n",
    "    y_val_fold = y_train_boxcox[val_index]\n",
    "\n",
    "    # Crear el modelo\n",
    "    fold_model = rf_model\n",
    "    fold_model.fit(X_train_fold, y_train_fold)\n",
    "\n",
    "    # Predit Box Cox\n",
    "    y_val_pred_boxcox_rf = fold_model.predict(X_val_fold)\n",
    "\n",
    "    # Invertir Box-Cox\n",
    "    y_val_pred_original = inv_boxcox(y_val_pred_boxcox_rf, lambda_val)\n",
    "    y_val_original = inv_boxcox(y_val_fold, lambda_val)\n",
    "\n",
    "    # Calcular métricas\n",
    "    rmse_fold = np.sqrt(mean_squared_error(y_val_original, y_val_pred_original))\n",
    "    mae_fold = mean_absolute_error(y_val_original, y_val_pred_original)\n",
    "    r2_fold = r2_score(y_val_original, y_val_pred_original)\n",
    "\n",
    "    cv_rmse_scores_rf_baseline.append(rmse_fold)\n",
    "    cv_mae_scores_rf_baseline.append(mae_fold)\n",
    "    cv_r2_scores_rf_baseline.append(r2_fold)\n",
    "\n",
    "print(\"\\nValidación Cruzada (Baseline RF):\")\n",
    "print(\"RMSE por fold:\", (cv_rmse_scores_rf_baseline))\n",
    "print(\"MAE por fold:\", (cv_mae_scores_rf_baseline))\n",
    "print(\"R2 por fold:\", (cv_r2_scores_rf_baseline))\n",
    "print(\"RMSE Promedio:\", np.mean(cv_rmse_scores_rf_baseline))\n",
    "print(\"MAE Promedio:\", np.mean(cv_mae_scores_rf_baseline))\n",
    "print(\"R2 Promedio:\", np.mean(cv_r2_scores_rf_baseline))"
   ]
  },
  {
   "cell_type": "markdown",
   "metadata": {},
   "source": [
    "🧠 GOOD to go forward with this model."
   ]
  },
  {
   "cell_type": "markdown",
   "metadata": {},
   "source": [
    "**XGBOOST**"
   ]
  },
  {
   "cell_type": "markdown",
   "metadata": {},
   "source": [
    "- Here we have **X_train_df_mask** contains 87 columns because it had the OneHotEncoder of our Column Transform."
   ]
  },
  {
   "cell_type": "code",
   "execution_count": 77,
   "metadata": {},
   "outputs": [
    {
     "name": "stdout",
     "output_type": "stream",
     "text": [
      "\n",
      "Validación Cruzada (Baseline XGBoost):\n",
      "RMSE por fold: [6084.825527060639, 5573.785834855297, 6188.660126599135, 5962.432215378943, 5642.104618366732]\n",
      "MAE por fold: [3331.660552304752, 3203.5689923274062, 3529.2728994864015, 3283.88728456454, 3192.313886636259]\n",
      "R2 por fold: [0.7707986523756917, 0.7971254343298141, 0.7624386580596149, 0.7530420074273938, 0.8032100885098392]\n",
      "RMSE Promedio: 5890.361664452149\n",
      "MAE Promedio: 3308.1407230638715\n",
      "R2 Promedio: 0.7773229681404707\n"
     ]
    }
   ],
   "source": [
    "# Entrenar el modelo XGBoost\n",
    "xgb_model = XGBRegressor(random_state=42)\n",
    "\n",
    "# Scores de validación cruzada\n",
    "cv_rmse_scores_xgb_baseline = []\n",
    "cv_mae_scores_xgb_baseline = []\n",
    "cv_r2_scores_xgb_baseline = []\n",
    "\n",
    "# De forma manual para no perder el control de los folds\n",
    "for train_index, val_index in kf.split(X_train_df_mask):\n",
    "    X_train_fold = X_train_df_mask.iloc[train_index]\n",
    "    X_val_fold = X_train_df_mask.iloc[val_index]\n",
    "    y_train_fold = y_train_boxcox[train_index]\n",
    "    y_val_fold = y_train_boxcox[val_index]\n",
    "\n",
    "    # Crear el modelo\n",
    "    fold_model = xgb_model\n",
    "    fold_model.fit(X_train_fold, y_train_fold)\n",
    "\n",
    "    # Predit Box Cox\n",
    "    y_val_pred_boxcox_xgb = fold_model.predict(X_val_fold)\n",
    "\n",
    "    # Invertir Box-Cox\n",
    "    y_val_pred_original = inv_boxcox(y_val_pred_boxcox_xgb, lambda_val)\n",
    "    y_val_original = inv_boxcox(y_val_fold, lambda_val)\n",
    "\n",
    "    # Calcular métricas\n",
    "    rmse_fold = np.sqrt(mean_squared_error(y_val_original, y_val_pred_original))\n",
    "    mae_fold = mean_absolute_error(y_val_original, y_val_pred_original)\n",
    "    r2_fold = r2_score(y_val_original, y_val_pred_original)\n",
    "\n",
    "    cv_rmse_scores_xgb_baseline.append(rmse_fold)\n",
    "    cv_mae_scores_xgb_baseline.append(mae_fold)\n",
    "    cv_r2_scores_xgb_baseline.append(r2_fold)\n",
    "\n",
    "print(\"\\nValidación Cruzada (Baseline XGBoost):\")\n",
    "print(\"RMSE por fold:\", (cv_rmse_scores_xgb_baseline))\n",
    "print(\"MAE por fold:\", (cv_mae_scores_xgb_baseline))\n",
    "print(\"R2 por fold:\", (cv_r2_scores_xgb_baseline))\n",
    "print(\"RMSE Promedio:\", np.mean(cv_rmse_scores_xgb_baseline))\n",
    "print(\"MAE Promedio:\", np.mean(cv_mae_scores_xgb_baseline))\n",
    "print(\"R2 Promedio:\", np.mean(cv_r2_scores_xgb_baseline))"
   ]
  },
  {
   "cell_type": "markdown",
   "metadata": {},
   "source": [
    "🧠 GOOD to go forward with this model."
   ]
  },
  {
   "cell_type": "markdown",
   "metadata": {},
   "source": [
    "# ✅ Step 7: Model Comparison - Hyperparameters.\n"
   ]
  },
  {
   "cell_type": "code",
   "execution_count": 78,
   "metadata": {},
   "outputs": [
    {
     "name": "stdout",
     "output_type": "stream",
     "text": [
      "              Modelo  RMSE Promedio  MAE Promedio  R2 Promedio\n",
      "0  Linear Regression       9507.623      6421.752        0.420\n",
      "1     MLP Regression       9317.760      6579.032        0.444\n",
      "2           CatBoost       5655.109      3304.406        0.795\n",
      "3      Random Forest       6395.399      3574.932        0.737\n",
      "4            XGBoost       5890.362      3308.141        0.777\n"
     ]
    }
   ],
   "source": [
    "resultados_basics = pd.DataFrame({\n",
    "    \"Modelo\": [\n",
    "        \"Linear Regression\",\n",
    "        \"MLP Regression\",\n",
    "        \"CatBoost\",\n",
    "        \"Random Forest\",\n",
    "        \"XGBoost\",\n",
    "    ],\n",
    "    \"RMSE Promedio\": [\n",
    "        np.mean(cv_rmse_scores_lr_baseline),\n",
    "        np.mean(cv_rmse_scores_nn_baseline),\n",
    "        np.mean(cv_rmse_scores_cat_baseline),\n",
    "        np.mean(cv_rmse_scores_rf_baseline),\n",
    "        np.mean(cv_rmse_scores_xgb_baseline)\n",
    "    ],\n",
    "    \"MAE Promedio\": [\n",
    "        np.mean(cv_mae_scores_lr_baseline),\n",
    "        np.mean(cv_mae_scores_nn_baseline),\n",
    "        np.mean(cv_mae_scores_cat_baseline),\n",
    "        np.mean(cv_mae_scores_rf_baseline),\n",
    "        np.mean(cv_mae_scores_xgb_baseline)\n",
    "    ],\n",
    "    \"R2 Promedio\": [\n",
    "        np.mean(cv_r2_scores_lr_baseline),\n",
    "        np.mean(cv_r2_scores_nn_baseline),\n",
    "        np.mean(cv_r2_scores_cat_baseline),\n",
    "        np.mean(cv_r2_scores_rf_baseline),\n",
    "        np.mean(cv_r2_scores_xgb_baseline)\n",
    "    ]\n",
    "})\n",
    "\n",
    "resultados_basics[[\"RMSE Promedio\", \"MAE Promedio\", \"R2 Promedio\"]] = resultados_basics[[\"RMSE Promedio\", \"MAE Promedio\", \"R2 Promedio\"]].round(3)\n",
    "\n",
    "# Vista rápida de la tabla\n",
    "print(resultados_basics)\n"
   ]
  },
  {
   "cell_type": "code",
   "execution_count": 79,
   "metadata": {},
   "outputs": [
    {
     "data": {
      "image/png": "[encoded data removed]",
      "text/plain": [
       "<Figure size 1200x600 with 1 Axes>"
      ]
     },
     "metadata": {},
     "output_type": "display_data"
    },
    {
     "data": {
      "image/png": "[encoded data removed]",
      "text/plain": [
       "<Figure size 1200x600 with 1 Axes>"
      ]
     },
     "metadata": {},
     "output_type": "display_data"
    },
    {
     "data": {
      "image/png": "[encoded data removed]",
      "text/plain": [
       "<Figure size 1200x600 with 1 Axes>"
      ]
     },
     "metadata": {},
     "output_type": "display_data"
    }
   ],
   "source": [
    "# Pintamos para ver los resultados\n",
    "best_rmse_idx = resultados_basics[\"RMSE Promedio\"].idxmin()\n",
    "best_mae_idx = resultados_basics[\"MAE Promedio\"].idxmin()\n",
    "best_r2_idx = resultados_basics[\"R2 Promedio\"].idxmax()\n",
    "\n",
    "plt.figure(figsize=(12, 6))\n",
    "colors = ['#FF9999' if i == best_rmse_idx else '#66B3FF' for i in range(len(resultados_basics))]\n",
    "plt.barh(resultados_basics[\"Modelo\"], resultados_basics[\"RMSE Promedio\"], color=colors)\n",
    "plt.xlabel(\"RMSE Promedio\")\n",
    "plt.title(\"Comparación de modelos básicos - RMSE\")\n",
    "plt.grid(axis='x')\n",
    "plt.tight_layout()\n",
    "plt.show()\n",
    "\n",
    "plt.figure(figsize=(12, 6))\n",
    "colors = ['#FF9999' if i == best_mae_idx else '#66B3FF' for i in range(len(resultados_basics))]\n",
    "plt.barh(resultados_basics[\"Modelo\"], resultados_basics[\"MAE Promedio\"], color=colors)\n",
    "plt.xlabel(\"MAE Promedio\")\n",
    "plt.title(\"Comparación de modelos básicos - MAE\")\n",
    "plt.grid(axis='x')\n",
    "plt.tight_layout()\n",
    "plt.show()\n",
    "\n",
    "plt.figure(figsize=(12, 6))\n",
    "colors = ['#FF9999' if i == best_r2_idx else '#66B3FF' for i in range(len(resultados_basics))]\n",
    "plt.barh(resultados_basics[\"Modelo\"], resultados_basics[\"R2 Promedio\"], color=colors)\n",
    "plt.xlabel(\"R² Promedio\")\n",
    "plt.title(\"Comparación de modelos básicos - R²\")\n",
    "plt.grid(axis='x')\n",
    "plt.tight_layout()\n",
    "plt.show()"
   ]
  },
  {
   "cell_type": "markdown",
   "metadata": {},
   "source": [
    "- Looking at the comparison. It looks like **CATBOOST** was the best baseline-basic model. **XGBOOST** has great potential and **RF** is a bit behind but we will give it a try."
   ]
  },
  {
   "cell_type": "markdown",
   "metadata": {},
   "source": [
    "---------"
   ]
  },
  {
   "cell_type": "markdown",
   "metadata": {},
   "source": [
    "- Search for hyperparameters **GRIDSEARCH** and **RANDOMIZEDSEARCH**."
   ]
  },
  {
   "cell_type": "markdown",
   "metadata": {},
   "source": [
    "**CATBOOST**"
   ]
  },
  {
   "cell_type": "code",
   "execution_count": 80,
   "metadata": {},
   "outputs": [
    {
     "name": "stdout",
     "output_type": "stream",
     "text": [
      "Mejores hiperparametros: {'depth': 3, 'iterations': 500, 'l2_leaf_reg': 5, 'learning_rate': 0.5}\n",
      "Mejor score RMSE: 5472.713596670264\n"
     ]
    }
   ],
   "source": [
    "# CATBOOST GRIDSEARCH\n",
    "\n",
    "param_grid = {\n",
    "    \"depth\": [3, 5, 7],\n",
    "    \"learning_rate\": [0.01, 0.1, 0.5],\n",
    "    \"iterations\": [300, 500, 700],\n",
    "    \"l2_leaf_reg\": [1, 3, 5]\n",
    "}\n",
    "\n",
    "grid_cat = GridSearchCV(\n",
    "    estimator=CatBoostRegressor(verbose=0, random_state=42),\n",
    "    param_grid=param_grid,\n",
    "    cv=5,\n",
    "    scoring=scorer,\n",
    "    n_jobs=-1\n",
    ")\n",
    "\n",
    "grid_cat.fit(X_train_filtered, y_train_boxcox, cat_features=categorical_features)\n",
    "\n",
    "best_model_cat = grid_cat.best_estimator_\n",
    "\n",
    "# Mejores hiperparametros\n",
    "print(f\"Mejores hiperparametros: {grid_cat.best_params_}\")\n",
    "print(f\"Mejor score RMSE: {-grid_cat.best_score_}\")"
   ]
  },
  {
   "cell_type": "markdown",
   "metadata": {},
   "source": [
    "We have obtained for **CATBOOST** the hyperparameters of our GridSearch. It looks like the model has improved. Let's collect these hyperparameters and reuse the code to see the cross validation in detail:"
   ]
  },
  {
   "cell_type": "code",
   "execution_count": 81,
   "metadata": {},
   "outputs": [
    {
     "name": "stdout",
     "output_type": "stream",
     "text": [
      "\n",
      "Validación Cruzada (GRIDSEARCH CATBOOST):\n",
      "RMSE por fold: [5788.8694795577585, 5413.8676697803, 5743.834775200887, 5449.391118928253, 5311.018815527692]\n",
      "MAE por fold: [3247.690047292906, 3080.5296506169325, 3438.981820168298, 3134.5497556187424, 3170.417505647456]\n",
      "R2 por fold: [0.7925523964389998, 0.8085998294707365, 0.7953619530273177, 0.7937128689054365, 0.825628203943759]\n",
      "RMSE Promedio: 5541.396371798978\n",
      "MAE Promedio: 3214.4337558688667\n",
      "R2 Promedio: 0.8031710503572498\n"
     ]
    }
   ],
   "source": [
    "# Scores de validacion cruzada despues del GridSearch CATBOOST\n",
    "cv_rmse_scores_cat_grid = []\n",
    "cv_mae_scores_cat_grid = []\n",
    "cv_r2_scores_cat_grid = []\n",
    "\n",
    "# De forma manual para no perder el control de los folds\n",
    "for train_index, val_index in kf.split(X_train_filtered):\n",
    "    X_train_fold = X_train_filtered.iloc[train_index]\n",
    "    X_val_fold = X_train_filtered.iloc[val_index]\n",
    "    y_train_fold = y_train_boxcox[train_index]\n",
    "    y_val_fold = y_train_boxcox[val_index]\n",
    "\n",
    "    # Crear el modelo\n",
    "    fold_model = best_model_cat # Usar el mejor modelo encontrado en el GridSearch\n",
    "    fold_model.fit(X_train_fold, y_train_fold, cat_features=categorical_features)\n",
    "\n",
    "    # Predit Box Cox\n",
    "    y_val_pred_boxcox_cat_grid = fold_model.predict(X_val_fold)\n",
    "\n",
    "    # Invertir Box-Cox\n",
    "    y_val_pred_original = inv_boxcox(y_val_pred_boxcox_cat_grid, lambda_val)\n",
    "    y_val_original = inv_boxcox(y_val_fold, lambda_val)\n",
    "\n",
    "    # Calcular métricas\n",
    "    rmse_fold = np.sqrt(mean_squared_error(y_val_original, y_val_pred_original))\n",
    "    mae_fold = mean_absolute_error(y_val_original, y_val_pred_original)\n",
    "    r2_fold = r2_score(y_val_original, y_val_pred_original)\n",
    "\n",
    "    cv_rmse_scores_cat_grid.append(rmse_fold)\n",
    "    cv_mae_scores_cat_grid.append(mae_fold)\n",
    "    cv_r2_scores_cat_grid.append(r2_fold)\n",
    "\n",
    "print(\"\\nValidación Cruzada (GRIDSEARCH CATBOOST):\")\n",
    "print(\"RMSE por fold:\", (cv_rmse_scores_cat_grid))\n",
    "print(\"MAE por fold:\", (cv_mae_scores_cat_grid))\n",
    "print(\"R2 por fold:\", (cv_r2_scores_cat_grid))\n",
    "print(\"RMSE Promedio:\", np.mean(cv_rmse_scores_cat_grid))\n",
    "print(\"MAE Promedio:\", np.mean(cv_mae_scores_cat_grid))\n",
    "print(\"R2 Promedio:\", np.mean(cv_r2_scores_cat_grid))"
   ]
  },
  {
   "cell_type": "code",
   "execution_count": 82,
   "metadata": {},
   "outputs": [
    {
     "name": "stdout",
     "output_type": "stream",
     "text": [
      "Mejores hiperparametros: {'learning_rate': 0.3, 'l2_leaf_reg': 7, 'iterations': 500, 'depth': 6}\n",
      "Mejor score RMSE: 5512.113412613679\n"
     ]
    }
   ],
   "source": [
    "# CATBOOST RANDOMIZEDSEARCH\n",
    "param_dist_cat = {\n",
    "    \"depth\": [3,4,5,6,7],\n",
    "    \"learning_rate\": [0.01, 0.05, 0.1, 0.3, 0.5],\n",
    "    \"iterations\": [300, 500,700, 1000],\n",
    "    \"l2_leaf_reg\": [1, 3, 5, 7]\n",
    "}\n",
    "\n",
    "random_search = RandomizedSearchCV(\n",
    "    estimator=CatBoostRegressor(verbose=0, random_state=42),\n",
    "    param_distributions=param_dist_cat,\n",
    "    n_iter=30,\n",
    "    cv=5,\n",
    "    scoring=scorer,\n",
    "    n_jobs=-1,\n",
    "    random_state=42\n",
    ")\n",
    "\n",
    "random_search.fit(X_train_filtered, y_train_boxcox, cat_features=categorical_features)\n",
    "\n",
    "best_model_random_cat = random_search.best_estimator_\n",
    "\n",
    "# Mejores hiperparámetros\n",
    "print(f\"Mejores hiperparametros: {random_search.best_params_}\")\n",
    "print(f\"Mejor score RMSE: {-random_search.best_score_}\")"
   ]
  },
  {
   "cell_type": "markdown",
   "metadata": {},
   "source": [
    "It seems that the **CATBOOST** model is better with the hyperparameters in GridSearch (RMSE 5472). Let's check these RandomizedSearch hyperparameters with a cross-validation:"
   ]
  },
  {
   "cell_type": "code",
   "execution_count": 83,
   "metadata": {},
   "outputs": [
    {
     "name": "stdout",
     "output_type": "stream",
     "text": [
      "\n",
      "Validación Cruzada (RANDOMIZEDSEARCH CATBOOST):\n",
      "RMSE por fold: [5729.847491559282, 5523.102028262718, 5792.255329998656, 5586.90433827296, 5453.567345432827]\n",
      "MAE por fold: [3205.0174839476085, 3105.37679673969, 3390.7379399801553, 3127.1587688689406, 3228.601506210273]\n",
      "R2 por fold: [0.7967610080351966, 0.8007982359421983, 0.7918972109867242, 0.7831703607669812, 0.816142258077648]\n",
      "RMSE Promedio: 5617.135306705289\n",
      "MAE Promedio: 3211.3784991493335\n",
      "R2 Promedio: 0.7977538147617496\n"
     ]
    }
   ],
   "source": [
    "# Scores de validacion cruzada despues del RandomizedSearch CATBOOST\n",
    "cv_rmse_scores_cat_random = []\n",
    "cv_mae_scores_cat_random = []\n",
    "cv_r2_scores_cat_random = []\n",
    "\n",
    "# De forma manual para no perder el control de los folds\n",
    "for train_index, val_index in kf.split(X_train_filtered):\n",
    "    X_train_fold = X_train_filtered.iloc[train_index]\n",
    "    X_val_fold = X_train_filtered.iloc[val_index]\n",
    "    y_train_fold = y_train_boxcox[train_index]\n",
    "    y_val_fold = y_train_boxcox[val_index]\n",
    "\n",
    "    # Crear el modelo\n",
    "    fold_model = best_model_random_cat # Usar el mejor modelo encontrado en el RandomizedSearch\n",
    "    fold_model.fit(X_train_fold, y_train_fold, cat_features=categorical_features)\n",
    "\n",
    "    # Predit Box Cox\n",
    "    y_val_pred_boxcox_cat_random = fold_model.predict(X_val_fold)\n",
    "\n",
    "    # Invertir Box-Cox\n",
    "    y_val_pred_original = inv_boxcox(y_val_pred_boxcox_cat_random, lambda_val)\n",
    "    y_val_original = inv_boxcox(y_val_fold, lambda_val)\n",
    "\n",
    "    # Calcular métricas\n",
    "    rmse_fold = np.sqrt(mean_squared_error(y_val_original, y_val_pred_original))\n",
    "    mae_fold = mean_absolute_error(y_val_original, y_val_pred_original)\n",
    "    r2_fold = r2_score(y_val_original, y_val_pred_original)\n",
    "\n",
    "    cv_rmse_scores_cat_random.append(rmse_fold)\n",
    "    cv_mae_scores_cat_random.append(mae_fold)\n",
    "    cv_r2_scores_cat_random.append(r2_fold)\n",
    "\n",
    "print(\"\\nValidación Cruzada (RANDOMIZEDSEARCH CATBOOST):\")\n",
    "print(\"RMSE por fold:\", (cv_rmse_scores_cat_random))\n",
    "print(\"MAE por fold:\", (cv_mae_scores_cat_random))\n",
    "print(\"R2 por fold:\", (cv_r2_scores_cat_random))\n",
    "print(\"RMSE Promedio:\", np.mean(cv_rmse_scores_cat_random))\n",
    "print(\"MAE Promedio:\", np.mean(cv_mae_scores_cat_random))\n",
    "print(\"R2 Promedio:\", np.mean(cv_r2_scores_cat_random))"
   ]
  },
  {
   "cell_type": "markdown",
   "metadata": {},
   "source": [
    "⭐ Exactly, our **CATBOOST** is better with the hyperparameters in **GRIDSEARCH**."
   ]
  },
  {
   "cell_type": "markdown",
   "metadata": {},
   "source": [
    "**RANDOM FOREST**"
   ]
  },
  {
   "cell_type": "code",
   "execution_count": 84,
   "metadata": {},
   "outputs": [
    {
     "name": "stdout",
     "output_type": "stream",
     "text": [
      "Mejores hiperparámetros: {'max_depth': None, 'min_samples_leaf': 1, 'min_samples_split': 2, 'n_estimators': 300}\n",
      "Mejor score RMSE: 6208.17\n"
     ]
    }
   ],
   "source": [
    "# RF GRIDSEARCH\n",
    "\n",
    "param_grid = {\n",
    "    'n_estimators': [100, 200, 300],\n",
    "    'max_depth': [None, 10, 20, 30],\n",
    "    'min_samples_split': [2, 5, 7],\n",
    "    'min_samples_leaf': [1, 2, 4]\n",
    "}\n",
    "\n",
    "grid_search = GridSearchCV(\n",
    "    estimator=RandomForestRegressor(random_state=42),\n",
    "    param_grid=param_grid,\n",
    "    scoring=scorer,\n",
    "    cv=5,\n",
    "    n_jobs=-1\n",
    ")\n",
    "\n",
    "grid_search.fit(X_train_df_mask, y_train_boxcox)\n",
    "best_model_rf = grid_search.best_estimator_\n",
    "\n",
    "# Mejores hiperparámetros\n",
    "best_params = grid_search.best_params_\n",
    "print(f\"Mejores hiperparámetros: {best_params}\")\n",
    "print(f\"Mejor score RMSE: {-grid_search.best_score_:.2f}\")"
   ]
  },
  {
   "cell_type": "code",
   "execution_count": 85,
   "metadata": {},
   "outputs": [
    {
     "name": "stdout",
     "output_type": "stream",
     "text": [
      "\n",
      "Validación Cruzada (GRIDSEARCH RF):\n",
      "RMSE por fold: [6924.377130655238, 6042.920367026969, 6667.413777329697, 6192.208157542981, 6054.4682525602975]\n",
      "MAE por fold: [3689.3333772776964, 3437.112165375206, 3784.7022185487185, 3422.1162148114427, 3465.867117638873]\n",
      "R2 por fold: [0.7031873998577014, 0.76153711690395, 0.7242615555569862, 0.7336410641489386, 0.7733933902633476]\n",
      "RMSE Promedio: 6376.2775370230365\n",
      "MAE Promedio: 3559.826218730387\n",
      "R2 Promedio: 0.7392041053461847\n"
     ]
    }
   ],
   "source": [
    "# Scores de validacion cruzada despues del GridSearch RF\n",
    "cv_rmse_scores_rf_grid = []\n",
    "cv_mae_scores_rf_grid = []\n",
    "cv_r2_scores_rf_grid = []\n",
    "\n",
    "# De forma manual para no perder el control de los folds\n",
    "for train_index, val_index in kf.split(X_train_df_mask):\n",
    "    X_train_fold = X_train_df_mask.iloc[train_index]\n",
    "    X_val_fold = X_train_df_mask.iloc[val_index]\n",
    "    y_train_fold = y_train_boxcox[train_index]\n",
    "    y_val_fold = y_train_boxcox[val_index]\n",
    "\n",
    "    # Crear el modelo\n",
    "    fold_model = best_model_rf # Usar el mejor modelo encontrado en el GridSearch\n",
    "    fold_model.fit(X_train_fold, y_train_fold)\n",
    "\n",
    "    # Predit Box Cox\n",
    "    y_val_pred_boxcox_rf_grid = fold_model.predict(X_val_fold)\n",
    "\n",
    "    # Invertir Box-Cox\n",
    "    y_val_pred_original = inv_boxcox(y_val_pred_boxcox_rf_grid, lambda_val)\n",
    "    y_val_original = inv_boxcox(y_val_fold, lambda_val)\n",
    "\n",
    "    # Calcular métricas\n",
    "    rmse_fold = np.sqrt(mean_squared_error(y_val_original, y_val_pred_original))\n",
    "    mae_fold = mean_absolute_error(y_val_original, y_val_pred_original)\n",
    "    r2_fold = r2_score(y_val_original, y_val_pred_original)\n",
    "\n",
    "    cv_rmse_scores_rf_grid.append(rmse_fold)\n",
    "    cv_mae_scores_rf_grid.append(mae_fold)\n",
    "    cv_r2_scores_rf_grid.append(r2_fold)\n",
    "\n",
    "print(\"\\nValidación Cruzada (GRIDSEARCH RF):\")\n",
    "print(\"RMSE por fold:\", (cv_rmse_scores_rf_grid))\n",
    "print(\"MAE por fold:\", (cv_mae_scores_rf_grid))\n",
    "print(\"R2 por fold:\", (cv_r2_scores_rf_grid))\n",
    "print(\"RMSE Promedio:\", np.mean(cv_rmse_scores_rf_grid))\n",
    "print(\"MAE Promedio:\", np.mean(cv_mae_scores_rf_grid))\n",
    "print(\"R2 Promedio:\", np.mean(cv_r2_scores_rf_grid))"
   ]
  },
  {
   "cell_type": "code",
   "execution_count": 86,
   "metadata": {},
   "outputs": [
    {
     "name": "stdout",
     "output_type": "stream",
     "text": [
      "Mejores hiperparámetros RF (RandomizedSearch): {'n_estimators': 300, 'min_samples_split': 2, 'min_samples_leaf': 1, 'max_depth': 30}\n",
      "Mejor score RMSE RF (RandomizedSearch): 6210.70\n"
     ]
    }
   ],
   "source": [
    "# RF RandomizedSearch\n",
    "\n",
    "param_dist_rf = {\n",
    "    'n_estimators': [100, 200, 300, 400],\n",
    "    'max_depth': [None, 10, 20, 30],\n",
    "    'min_samples_split': [2, 5, 7],\n",
    "    'min_samples_leaf': [1, 2, 4]\n",
    "}\n",
    "\n",
    "random_search_rf = RandomizedSearchCV(\n",
    "    estimator=RandomForestRegressor(random_state=42),\n",
    "    param_distributions=param_dist_rf,\n",
    "    n_iter=30,\n",
    "    scoring=scorer,\n",
    "    cv=5,\n",
    "    n_jobs=-1,\n",
    "    random_state=42\n",
    ")\n",
    "random_search_rf.fit(X_train_df_mask, y_train_boxcox)\n",
    "best_model_rf_random = random_search_rf.best_estimator_\n",
    "best_params_rf_random = random_search_rf.best_params_\n",
    "print(f\"Mejores hiperparámetros RF (RandomizedSearch): {best_params_rf_random}\")\n",
    "print(f\"Mejor score RMSE RF (RandomizedSearch): {-random_search_rf.best_score_:.2f}\")"
   ]
  },
  {
   "cell_type": "markdown",
   "metadata": {},
   "source": [
    "Results from **RANDOM FOREST** are a bit poor. We will not CV the hyperparameters obtained from your RandomizedSearch because it is not interesting to advance with this model. We will probably leave it aside for the next phase."
   ]
  },
  {
   "cell_type": "markdown",
   "metadata": {},
   "source": [
    "**XGBOOST**"
   ]
  },
  {
   "cell_type": "code",
   "execution_count": 87,
   "metadata": {},
   "outputs": [
    {
     "name": "stdout",
     "output_type": "stream",
     "text": [
      "Mejores hiperparámetros: {'learning_rate': 0.25, 'max_depth': 4, 'n_estimators': 300}\n",
      "Mejor score RMSE: 5386.97\n"
     ]
    }
   ],
   "source": [
    "# XGBOOST GRIDSEARCH\n",
    "\n",
    "param_grid = {\n",
    "    'n_estimators': [100, 150, 200, 300],\n",
    "    'learning_rate': [0.01, 0.10, 0.25, 0.30],\n",
    "    'max_depth': [4, 5, 6, 7]\n",
    "}\n",
    "\n",
    "# Búsqueda de hiperparámetros\n",
    "grid_search = GridSearchCV(\n",
    "    estimator= XGBRegressor(random_state=42),\n",
    "    param_grid=param_grid,\n",
    "    cv=5,\n",
    "    scoring=scorer,\n",
    "    n_jobs=-1\n",
    ")\n",
    "grid_search.fit(X_train_df_mask, y_train_boxcox)\n",
    "\n",
    "best_model_xgb = grid_search.best_estimator_\n",
    "\n",
    "# Mejores hiperparámetros\n",
    "print(f\"Mejores hiperparámetros: {grid_search.best_params_}\")\n",
    "print(f\"Mejor score RMSE: {-grid_search.best_score_:.2f}\")"
   ]
  },
  {
   "cell_type": "code",
   "execution_count": 88,
   "metadata": {},
   "outputs": [
    {
     "name": "stdout",
     "output_type": "stream",
     "text": [
      "\n",
      "Validación Cruzada (GRIDSEARCH XGBOOST):\n",
      "RMSE por fold: [5915.672579398177, 5354.872204181995, 5824.9451787302705, 5546.181841584083, 5279.5780069141065]\n",
      "MAE por fold: [3211.8528435050684, 3062.7600227653206, 3308.7928938342056, 3144.201076653813, 3013.756083091255]\n",
      "R2 por fold: [0.7833647303346644, 0.8127485154861913, 0.7895416361784529, 0.7863197485926721, 0.8276866273085743]\n",
      "RMSE Promedio: 5584.249962161726\n",
      "MAE Promedio: 3148.2725839699324\n",
      "R2 Promedio: 0.7999322515801109\n"
     ]
    }
   ],
   "source": [
    "# Scores de validacion cruzada despues del GridSearch XGBOOST\n",
    "cv_rmse_scores_xgb_grid = []\n",
    "cv_mae_scores_xgb_grid = []\n",
    "cv_r2_scores_xgb_grid = []\n",
    "\n",
    "# De forma manual para no perder el control de los folds\n",
    "for train_index, val_index in kf.split(X_train_df_mask):\n",
    "    X_train_fold = X_train_df_mask.iloc[train_index]\n",
    "    X_val_fold = X_train_df_mask.iloc[val_index]\n",
    "    y_train_fold = y_train_boxcox[train_index]\n",
    "    y_val_fold = y_train_boxcox[val_index]\n",
    "\n",
    "    # Crear el modelo\n",
    "    fold_model = best_model_xgb # Usar el mejor modelo encontrado en el GridSearch\n",
    "    fold_model.fit(X_train_fold, y_train_fold)\n",
    "\n",
    "    # Predit Box Cox\n",
    "    y_val_pred_boxcox_xgb_grid = fold_model.predict(X_val_fold)\n",
    "\n",
    "    # Invertir Box-Cox\n",
    "    y_val_pred_original = inv_boxcox(y_val_pred_boxcox_xgb_grid, lambda_val)\n",
    "    y_val_original = inv_boxcox(y_val_fold, lambda_val)\n",
    "\n",
    "    # Calcular métricas\n",
    "    rmse_fold = np.sqrt(mean_squared_error(y_val_original, y_val_pred_original))\n",
    "    mae_fold = mean_absolute_error(y_val_original, y_val_pred_original)\n",
    "    r2_fold = r2_score(y_val_original, y_val_pred_original)\n",
    "\n",
    "    cv_rmse_scores_xgb_grid.append(rmse_fold)\n",
    "    cv_mae_scores_xgb_grid.append(mae_fold)\n",
    "    cv_r2_scores_xgb_grid.append(r2_fold)\n",
    "\n",
    "print(\"\\nValidación Cruzada (GRIDSEARCH XGBOOST):\")\n",
    "print(\"RMSE por fold:\", (cv_rmse_scores_xgb_grid))\n",
    "print(\"MAE por fold:\", (cv_mae_scores_xgb_grid))\n",
    "print(\"R2 por fold:\", (cv_r2_scores_xgb_grid))\n",
    "print(\"RMSE Promedio:\", np.mean(cv_rmse_scores_xgb_grid))\n",
    "print(\"MAE Promedio:\", np.mean(cv_mae_scores_xgb_grid))\n",
    "print(\"R2 Promedio:\", np.mean(cv_r2_scores_xgb_grid))"
   ]
  },
  {
   "cell_type": "code",
   "execution_count": 89,
   "metadata": {},
   "outputs": [
    {
     "name": "stdout",
     "output_type": "stream",
     "text": [
      "Mejores hiperparámetros XGBoost (RandomizedSearch): {'n_estimators': 300, 'max_depth': 4, 'learning_rate': 0.3}\n",
      "Mejor score RMSE XGBoost (RandomizedSearch): 5446.50\n"
     ]
    }
   ],
   "source": [
    "# XGBOOST RANDOMIZEDSEARCH\n",
    "\n",
    "param_dist_xgb = {\n",
    "    'n_estimators': [100, 200, 300, 400],\n",
    "    'learning_rate': [0.01, 0.1, 0.15, 0.3],\n",
    "    'max_depth': [4, 5, 6, 7]\n",
    "}\n",
    "\n",
    "random_search_xgb = RandomizedSearchCV(\n",
    "    estimator=XGBRegressor(random_state=42),\n",
    "    param_distributions=param_dist_xgb,\n",
    "    n_iter=30,\n",
    "    scoring=scorer,\n",
    "    cv=5,\n",
    "    n_jobs=-1,\n",
    "    random_state=42\n",
    ")\n",
    "\n",
    "random_search_xgb.fit(X_train_df_mask, y_train_boxcox)\n",
    "\n",
    "best_model_xgb_random = random_search_xgb.best_estimator_\n",
    "best_params_xgb_random = random_search_xgb.best_params_\n",
    "\n",
    "print(f\"Mejores hiperparámetros XGBoost (RandomizedSearch): {best_params_xgb_random}\")\n",
    "print(f\"Mejor score RMSE XGBoost (RandomizedSearch): {-random_search_xgb.best_score_:.2f}\")"
   ]
  },
  {
   "cell_type": "code",
   "execution_count": 90,
   "metadata": {},
   "outputs": [
    {
     "name": "stdout",
     "output_type": "stream",
     "text": [
      "\n",
      "Validación Cruzada (RANDOMIZEDSEARCH XGBOOST):\n",
      "RMSE por fold: [5756.451751279859, 5455.834085496214, 5902.056861224635, 5507.761014542338, 5348.041313818823]\n",
      "MAE por fold: [3125.221829976665, 3082.0921251569475, 3331.2423002901146, 3082.194626875712, 3038.749815665103]\n",
      "R2 por fold: [0.7948693082606664, 0.8056209937405672, 0.7839325813565976, 0.7892700073021258, 0.8231886793838169]\n",
      "RMSE Promedio: 5594.029005272374\n",
      "MAE Promedio: 3131.9001395929085\n",
      "R2 Promedio: 0.7993763140087548\n"
     ]
    }
   ],
   "source": [
    "# Scores de validacion cruzada despues del RandomizedSearch XGBOOST\n",
    "cv_rmse_scores_xgb_random = []\n",
    "cv_mae_scores_xgb_random = []\n",
    "cv_r2_scores_xgb_random = []\n",
    "\n",
    "# De forma manual para no perder el control de los folds\n",
    "for train_index, val_index in kf.split(X_train_df_mask):\n",
    "    X_train_fold = X_train_df_mask.iloc[train_index]\n",
    "    X_val_fold = X_train_df_mask.iloc[val_index]\n",
    "    y_train_fold = y_train_boxcox[train_index]\n",
    "    y_val_fold = y_train_boxcox[val_index]\n",
    "\n",
    "    # Crear el modelo\n",
    "    fold_model = best_model_xgb_random # Usar el mejor modelo encontrado en el RandomizedSearch\n",
    "    fold_model.fit(X_train_fold, y_train_fold)\n",
    "\n",
    "    # Predit Box Cox\n",
    "    y_val_pred_boxcox_xgb_random = fold_model.predict(X_val_fold)\n",
    "\n",
    "    # Invertir Box-Cox\n",
    "    y_val_pred_original = inv_boxcox(y_val_pred_boxcox_xgb_random, lambda_val)\n",
    "    y_val_original = inv_boxcox(y_val_fold, lambda_val)\n",
    "\n",
    "    # Calcular métricas\n",
    "    rmse_fold = np.sqrt(mean_squared_error(y_val_original, y_val_pred_original))\n",
    "    mae_fold = mean_absolute_error(y_val_original, y_val_pred_original)\n",
    "    r2_fold = r2_score(y_val_original, y_val_pred_original)\n",
    "\n",
    "    cv_rmse_scores_xgb_random.append(rmse_fold)\n",
    "    cv_mae_scores_xgb_random.append(mae_fold)\n",
    "    cv_r2_scores_xgb_random.append(r2_fold)\n",
    "\n",
    "print(\"\\nValidación Cruzada (RANDOMIZEDSEARCH XGBOOST):\")\n",
    "print(\"RMSE por fold:\", (cv_rmse_scores_xgb_random))\n",
    "print(\"MAE por fold:\", (cv_mae_scores_xgb_random))\n",
    "print(\"R2 por fold:\", (cv_r2_scores_xgb_random))\n",
    "print(\"RMSE Promedio:\", np.mean(cv_rmse_scores_xgb_random))\n",
    "print(\"MAE Promedio:\", np.mean(cv_mae_scores_xgb_random))\n",
    "print(\"R2 Promedio:\", np.mean(cv_r2_scores_xgb_random))"
   ]
  },
  {
   "cell_type": "code",
   "execution_count": 91,
   "metadata": {},
   "outputs": [
    {
     "name": "stdout",
     "output_type": "stream",
     "text": [
      "                  Modelos  RMSE Promedio  MAE Promedio  R2 Promedio\n",
      "0  CatBoost GridSearch CV       5541.396      3214.434        0.803\n",
      "1    Xboost GridSearch CV       5584.250      3148.273        0.800\n"
     ]
    }
   ],
   "source": [
    "resultados_hiperparametros = pd.DataFrame({\n",
    "    \"Modelos\": [\n",
    "        \"CatBoost GridSearch CV\",\n",
    "        \"Xboost GridSearch CV\"\n",
    "    ],\n",
    "    \"RMSE Promedio\": [\n",
    "        np.mean(cv_rmse_scores_cat_grid),\n",
    "        np.mean(cv_rmse_scores_xgb_grid)\n",
    "    ],\n",
    "    \"MAE Promedio\": [\n",
    "        np.mean(cv_mae_scores_cat_grid),\n",
    "        np.mean(cv_mae_scores_xgb_grid)\n",
    "    ],\n",
    "    \"R2 Promedio\": [\n",
    "        np.mean(cv_r2_scores_cat_grid),\n",
    "        np.mean(cv_r2_scores_xgb_grid)\n",
    "    ]\n",
    "})\n",
    "\n",
    "\n",
    "# Redondeamos\n",
    "resultados_hiperparametros[[\"RMSE Promedio\", \"MAE Promedio\", \"R2 Promedio\"]] = resultados_hiperparametros[[\"RMSE Promedio\", \"MAE Promedio\", \"R2 Promedio\"]].round(3)\n",
    "# Vista rápida de la tabla\n",
    "print(resultados_hiperparametros)"
   ]
  },
  {
   "cell_type": "code",
   "execution_count": 92,
   "metadata": {},
   "outputs": [
    {
     "data": {
      "image/png": "[encoded data removed]",
      "text/plain": [
       "<Figure size 1200x600 with 1 Axes>"
      ]
     },
     "metadata": {},
     "output_type": "display_data"
    },
    {
     "data": {
      "image/png": "[encoded data removed]",
      "text/plain": [
       "<Figure size 1200x600 with 1 Axes>"
      ]
     },
     "metadata": {},
     "output_type": "display_data"
    },
    {
     "data": {
      "image/png": "[encoded data removed]",
      "text/plain": [
       "<Figure size 1200x600 with 1 Axes>"
      ]
     },
     "metadata": {},
     "output_type": "display_data"
    }
   ],
   "source": [
    "# Pintamos para ver los resultados\n",
    "\n",
    "best_rmse_idx_hiper = resultados_hiperparametros[\"RMSE Promedio\"].idxmin()\n",
    "best_mae_idx_hiper = resultados_hiperparametros[\"MAE Promedio\"].idxmin()\n",
    "best_r2_idx_hiper = resultados_hiperparametros[\"R2 Promedio\"].idxmax()\n",
    "\n",
    "plt.figure(figsize=(12, 6))\n",
    "colors = ['#FF9999' if i == best_rmse_idx_hiper else '#66B3FF' for i in range(len(resultados_hiperparametros))]\n",
    "plt.barh(resultados_hiperparametros[\"Modelos\"], resultados_hiperparametros[\"RMSE Promedio\"], color=colors)\n",
    "plt.xlabel(\"RMSE Promedio\")\n",
    "plt.title(\"Comparación de modelos hiperparámetros - RMSE\")\n",
    "plt.grid(axis='x')\n",
    "plt.tight_layout()\n",
    "plt.show()\n",
    "\n",
    "plt.figure(figsize=(12, 6))\n",
    "colors = ['#FF9999' if i == best_mae_idx_hiper else '#66B3FF' for i in range(len(resultados_hiperparametros))]\n",
    "plt.barh(resultados_hiperparametros[\"Modelos\"], resultados_hiperparametros[\"MAE Promedio\"], color=colors)\n",
    "plt.xlabel(\"MAE Promedio\")\n",
    "plt.title(\"Comparación de modelos hiperparámetros - MAE\")\n",
    "plt.grid(axis='x')\n",
    "plt.tight_layout()\n",
    "plt.show()\n",
    "\n",
    "plt.figure(figsize=(12, 6))\n",
    "colors = ['#FF9999' if i == best_r2_idx_hiper else '#66B3FF' for i in range(len(resultados_hiperparametros))]\n",
    "plt.barh(resultados_hiperparametros[\"Modelos\"], resultados_hiperparametros[\"R2 Promedio\"], color=colors)\n",
    "plt.xlabel(\"R² Promedio\")\n",
    "plt.title(\"Comparación de modelos hiperparámetros - R²\")\n",
    "plt.grid(axis='x')\n",
    "plt.tight_layout()\n",
    "plt.show()\n"
   ]
  },
  {
   "cell_type": "markdown",
   "metadata": {},
   "source": [
    "- Seeing that our GridSearch in **CATBOOST** performed better, we will implement it in the model and evaluate it finally.\n",
    "- **RANDOM FOREST** did not perform and will be discarded for the next step.\n",
    "- **XGBOOST** is very interesting, fast and has improved on its baseline. We will use the hyperparameters of Gridsearch."
   ]
  },
  {
   "cell_type": "markdown",
   "metadata": {},
   "source": [
    "# ✅ Step 8: Final evaluation - CATBOOST vs XGBOOST.\n"
   ]
  },
  {
   "cell_type": "markdown",
   "metadata": {},
   "source": [
    "--------"
   ]
  },
  {
   "cell_type": "markdown",
   "metadata": {},
   "source": [
    "**CATBOOST - FINAL EVALUATION**"
   ]
  },
  {
   "cell_type": "code",
   "execution_count": 93,
   "metadata": {},
   "outputs": [
    {
     "name": "stdout",
     "output_type": "stream",
     "text": [
      "Score CatBoost Inicial R2 (BoxCox no invertido): 0.8629\n",
      "Entrenamiento (Box-Cox): RMSE = 0.46\n",
      "Entrenamiento (Original): RMSE = 5080.58, MAE = 3134.64, R2 = 0.8350\n",
      "\n",
      "Validación Cruzada (Original):\n",
      "RMSE por fold: [5788.8694795577585, 5413.8676697803, 5743.834775200887, 5449.391118928253, 5311.018815527692]\n",
      "MAE por fold: [3247.690047292906, 3080.5296506169325, 3438.981820168298, 3134.5497556187424, 3170.417505647456]\n",
      "R2 por fold: [0.7925523964389998, 0.8085998294707365, 0.7953619530273177, 0.7937128689054365, 0.825628203943759]\n",
      "RMSE Promedio: 5541.396371798978\n",
      "MAE Promedio: 3214.4337558688667\n",
      "R2 Promedio: 0.8031710503572498\n",
      "\n",
      "Test Set (Original):\n",
      "RMSE: 5260.050513\n",
      "MAE: 3136.047537\n",
      "R2: 0.8369\n"
     ]
    }
   ],
   "source": [
    "# Evaluacion final\n",
    "\n",
    "#KFold\n",
    "kf = KFold(n_splits=5, shuffle=True, random_state=42)\n",
    "\n",
    "# Entrenamos el modelo con los datos transformados\n",
    "cat_model_final = CatBoostRegressor(depth= 3, iterations=500, l2_leaf_reg= 5, learning_rate=0.5, verbose=0, random_state=42)\n",
    "cat_model_final.fit(X_train_filtered, y_train_boxcox, cat_features=categorical_features)\n",
    "\n",
    "# Realizamos score en el conjunto de entrenamiento\n",
    "score_cat_model = cat_model_final.score(X_train_filtered, y_train_boxcox)\n",
    "print(f\"Score CatBoost Inicial R2 (BoxCox no invertido): {score_cat_model:.4f}\")\n",
    "\n",
    "y_train_pred_boxcox_cat = cat_model_final.predict(X_train_filtered)\n",
    "\n",
    "# Métricas en el espacio Box-Cox\n",
    "train_rmse_boxcox = np.sqrt(mean_squared_error(y_train_boxcox, y_train_pred_boxcox_cat))\n",
    "print(f\"Entrenamiento (Box-Cox): RMSE = {train_rmse_boxcox:.2f}\")\n",
    "\n",
    "# Invertimos\n",
    "y_train_pred_original = inv_boxcox(y_train_pred_boxcox_cat, lambda_val)\n",
    "y_train_original = inv_boxcox(y_train_boxcox, lambda_val)\n",
    "\n",
    "train_rmse = np.sqrt(mean_squared_error(y_train_original, y_train_pred_original))\n",
    "train_mae = mean_absolute_error(y_train_original, y_train_pred_original)\n",
    "train_r2 = r2_score(y_train_original, y_train_pred_original)\n",
    "print(f\"Entrenamiento (Original): RMSE = {train_rmse:.2f}, MAE = {train_mae:.2f}, R2 = {train_r2:.4f}\")\n",
    "\n",
    "# Realizamos score en el conjunto de validación manualmente\n",
    "# porque kfold al hacer split, no tiene en cuenta categorical_features\n",
    "cv_rmse_scores = []\n",
    "cv_mae_scores = []\n",
    "cv_r2_scores = []\n",
    "for train_index, val_index in kf.split(X_train_filtered):\n",
    "    X_train_fold = X_train_filtered.iloc[train_index]\n",
    "    X_val_fold = X_train_filtered.iloc[val_index]\n",
    "    y_train_fold = y_train_boxcox[train_index]\n",
    "    y_val_fold = y_train_boxcox[val_index]\n",
    "\n",
    "    # Crear el modelo\n",
    "    fold_model = CatBoostRegressor(depth= 3, iterations=500, l2_leaf_reg= 5, learning_rate=0.5, verbose=0, random_state=42)\n",
    "    fold_model.fit(X_train_fold, y_train_fold, cat_features=categorical_features)\n",
    "\n",
    "    # Predit Box Cox\n",
    "    y_val_pred_boxcox_cat = fold_model.predict(X_val_fold)\n",
    "\n",
    "    # Invertir Box-Cox\n",
    "    y_val_pred_original = inv_boxcox(y_val_pred_boxcox_cat, lambda_val)\n",
    "    y_val_original = inv_boxcox(y_val_fold, lambda_val)\n",
    "\n",
    "    # Calcular métricas\n",
    "    rmse_fold = np.sqrt(mean_squared_error(y_val_original, y_val_pred_original))\n",
    "    mae_fold = mean_absolute_error(y_val_original, y_val_pred_original)\n",
    "    r2_fold = r2_score(y_val_original, y_val_pred_original)\n",
    "\n",
    "    cv_rmse_scores.append(rmse_fold)\n",
    "    cv_mae_scores.append(mae_fold)\n",
    "    cv_r2_scores.append(r2_fold)\n",
    "\n",
    "print(\"\\nValidación Cruzada (Original):\")\n",
    "print(\"RMSE por fold:\", (cv_rmse_scores))\n",
    "print(\"MAE por fold:\", (cv_mae_scores))\n",
    "print(\"R2 por fold:\", (cv_r2_scores))\n",
    "print(\"RMSE Promedio:\", np.mean(cv_rmse_scores))\n",
    "print(\"MAE Promedio:\", np.mean(cv_mae_scores))\n",
    "print(\"R2 Promedio:\", np.mean(cv_r2_scores))\n",
    "\n",
    "# Realizamos score en el conjunto de prueba\n",
    "y_pred_boxcox_cat = cat_model_final.predict(X_test)\n",
    "y_pred = inv_boxcox(y_pred_boxcox_cat, lambda_val)\n",
    "\n",
    "mse_cat_test = mean_squared_error(y_test, y_pred)\n",
    "rmse_cat_test = np.sqrt(mse_cat_test)\n",
    "mae_cat_test = mean_absolute_error(y_test, y_pred)\n",
    "r2_cat_test = r2_score(y_test, y_pred)\n",
    "\n",
    "print(\"\\nTest Set (Original):\")\n",
    "print(f\"RMSE: {rmse_cat_test:2f}\")\n",
    "print(f\"MAE: {mae_cat_test:2f}\")\n",
    "print(f\"R2: {r2_cat_test:.4f}\")"
   ]
  },
  {
   "cell_type": "markdown",
   "metadata": {},
   "source": [
    "**XGBOOST - FINAL EVALUATION**"
   ]
  },
  {
   "cell_type": "code",
   "execution_count": 94,
   "metadata": {},
   "outputs": [
    {
     "name": "stdout",
     "output_type": "stream",
     "text": [
      "Score XGBoost Inicial R2 (BoxCox no invertido): 0.9121\n",
      "Entrenamiento (Box-Cox): RMSE = 0.37\n",
      "Entrenamiento (Original): RMSE = 3979.64, MAE = 2327.32, R2 = 0.8987\n",
      "\n",
      "Validación Cruzada (Original):\n",
      "RMSE por fold: [5915.672579398177, 5354.872204181995, 5824.9451787302705, 5546.181841584083, 5279.5780069141065]\n",
      "MAE por fold: [3211.8528435050684, 3062.7600227653206, 3308.7928938342056, 3144.201076653813, 3013.756083091255]\n",
      "R2 por fold: [0.7833647303346644, 0.8127485154861913, 0.7895416361784529, 0.7863197485926721, 0.8276866273085743]\n",
      "RMSE Promedio: 5584.249962161726\n",
      "MAE Promedio: 3148.2725839699324\n",
      "R2 Promedio: 0.7999322515801109\n",
      "\n",
      "Test Set (Original):\n",
      "RMSE: 5185.20\n",
      "MAE: 3067.25\n",
      "R2: 0.8415\n"
     ]
    }
   ],
   "source": [
    "# Evaluacion final\n",
    "\n",
    "# Kfold\n",
    "kf_xgb = KFold(n_splits=5, shuffle=True, random_state=42)\n",
    "\n",
    "# Entrenamos el modelo con los datos transformados\n",
    "xgb_model_final = XGBRegressor(learning_rate = 0.25, max_depth = 4, n_estimators = 300, verbose=0, random_state=42)\n",
    "xgb_model_final.fit(X_train_df_mask, y_train_boxcox)\n",
    "\n",
    "# Realizamos score en el conjunto de entrenamiento\n",
    "score_xgb_model = xgb_model_final.score(X_train_df_mask, y_train_boxcox)\n",
    "print(f\"Score XGBoost Inicial R2 (BoxCox no invertido): {score_xgb_model:.4f}\")\n",
    "\n",
    "y_train_pred_boxcox_xgb = xgb_model_final.predict(X_train_df_mask)\n",
    "\n",
    "# Métricas en el espacio Box-Cox\n",
    "train_rmse_boxcox_xgb = np.sqrt(mean_squared_error(y_train_boxcox, y_train_pred_boxcox_xgb))\n",
    "print(f\"Entrenamiento (Box-Cox): RMSE = {train_rmse_boxcox_xgb:.2f}\")\n",
    "\n",
    "# Invertimos\n",
    "y_train_pred_original_xgb = inv_boxcox(y_train_pred_boxcox_xgb, lambda_val)\n",
    "y_train_original_xgb = inv_boxcox(y_train_boxcox, lambda_val)\n",
    "\n",
    "train_rmse_xgb = np.sqrt(mean_squared_error(y_train_original_xgb, y_train_pred_original_xgb))\n",
    "train_mae_xgb = mean_absolute_error(y_train_original_xgb, y_train_pred_original_xgb)\n",
    "train_r2_xgb = r2_score(y_train_original_xgb, y_train_pred_original_xgb)\n",
    "print(f\"Entrenamiento (Original): RMSE = {train_rmse_xgb:.2f}, MAE = {train_mae_xgb:.2f}, R2 = {train_r2_xgb:.4f}\")\n",
    "\n",
    "# Realizamos score en el conjunto de validación manualmente\n",
    "# simplemente por seguir la misma guia que en CATBOOST\n",
    "\n",
    "cv_rmse_scores_xgb = []\n",
    "cv_mae_scores_xgb = []\n",
    "cv_r2_scores_xgb = []\n",
    "\n",
    "for train_index, val_index in kf_xgb.split(X_train_df_mask):\n",
    "    X_train_fold = X_train_df_mask.iloc[train_index]\n",
    "    X_val_fold = X_train_df_mask.iloc[val_index]\n",
    "    y_train_fold = y_train_boxcox[train_index]\n",
    "    y_val_fold = y_train_boxcox[val_index]\n",
    "\n",
    "    # Crear el modelo\n",
    "    fold_model_xgb = XGBRegressor(learning_rate = 0.25, max_depth = 4, n_estimators = 300, verbosity=0, random_state=42)\n",
    "    fold_model_xgb.fit(X_train_fold, y_train_fold)\n",
    "\n",
    "    # Predit Box Cox\n",
    "    y_val_pred_boxcox_xgb = fold_model_xgb.predict(X_val_fold)\n",
    "\n",
    "    # Invertir Box-Cox\n",
    "    y_val_pred_original_xgb = inv_boxcox(y_val_pred_boxcox_xgb, lambda_val)\n",
    "    y_val_original_xgb = inv_boxcox(y_val_fold, lambda_val)\n",
    "\n",
    "    # Calcular métricas\n",
    "    rmse_fold_xgb = np.sqrt(mean_squared_error(y_val_original_xgb, y_val_pred_original_xgb))\n",
    "    mae_fold_xgb = mean_absolute_error(y_val_original_xgb, y_val_pred_original_xgb)\n",
    "    r2_fold_xgb = r2_score(y_val_original_xgb, y_val_pred_original_xgb)\n",
    "\n",
    "    cv_rmse_scores_xgb.append(rmse_fold_xgb)\n",
    "    cv_mae_scores_xgb.append(mae_fold_xgb)\n",
    "    cv_r2_scores_xgb.append(r2_fold_xgb)\n",
    "\n",
    "print(\"\\nValidación Cruzada (Original):\")\n",
    "print(\"RMSE por fold:\", (cv_rmse_scores_xgb))\n",
    "print(\"MAE por fold:\", (cv_mae_scores_xgb))\n",
    "print(\"R2 por fold:\", (cv_r2_scores_xgb))\n",
    "print(\"RMSE Promedio:\", np.mean(cv_rmse_scores_xgb))\n",
    "print(\"MAE Promedio:\", np.mean(cv_mae_scores_xgb))\n",
    "print(\"R2 Promedio:\", np.mean(cv_r2_scores_xgb))\n",
    "\n",
    "# Realizamos score en el conjunto de prueba\n",
    "y_pred_boxcox_xgb = xgb_model_final.predict(X_test_df)\n",
    "y_pred_xgb = inv_boxcox(y_pred_boxcox_xgb, lambda_val)\n",
    "\n",
    "mse_xgb_test = mean_squared_error(y_test, y_pred_xgb)\n",
    "rmse_xgb_test = np.sqrt(mse_xgb_test)\n",
    "mae_xgb_test = mean_absolute_error(y_test, y_pred_xgb)\n",
    "r2_xgb_test = r2_score(y_test, y_pred_xgb)\n",
    "\n",
    "print(\"\\nTest Set (Original):\")\n",
    "print(f\"RMSE: {rmse_xgb_test:.2f}\")\n",
    "print(f\"MAE: {mae_xgb_test:.2f}\")\n",
    "print(f\"R2: {r2_xgb_test:.4f}\")\n"
   ]
  },
  {
   "cell_type": "markdown",
   "metadata": {},
   "source": [
    "---------"
   ]
  },
  {
   "cell_type": "markdown",
   "metadata": {},
   "source": [
    "Evolution of **CATBOOST** and **XGBOOST**"
   ]
  },
  {
   "cell_type": "code",
   "execution_count": 95,
   "metadata": {},
   "outputs": [
    {
     "name": "stdout",
     "output_type": "stream",
     "text": [
      "---CATBOOST---\n",
      "  Métrica  Entrenamiento   Validación         Test\n",
      "0    RMSE    5080.578684  5541.396372  5260.050513\n",
      "1     MAE    3134.637553  3214.433756  3136.047537\n",
      "2       R       0.834973     0.803171     0.836928\n",
      "---XGBOOST---\n",
      "  Métrica  Entrenamiento   Validación         Test\n",
      "0    RMSE    3979.642015  5584.249962  5185.203407\n",
      "1     MAE    2327.322940  3148.272584  3067.247314\n",
      "2       R       0.898745     0.799932     0.841536\n"
     ]
    }
   ],
   "source": [
    "resultados_finales_cat = pd.DataFrame({\n",
    "    \"Entrenamiento\": [train_rmse, train_mae, train_r2],\n",
    "    \"Validación\": [np.mean(cv_rmse_scores), np.mean(cv_mae_scores), np.mean(cv_r2_scores)],\n",
    "    \"Test\": [rmse_cat_test, mae_cat_test, r2_cat_test]\n",
    "}, index=[\"RMSE\", \"MAE\", \"R\"]).reset_index().rename(columns={\"index\": \"Métrica\"})\n",
    "\n",
    "resultados_finales_xgb = pd.DataFrame({\n",
    "    \"Entrenamiento\": [train_rmse_xgb, train_mae_xgb, train_r2_xgb],\n",
    "    \"Validación\": [np.mean(cv_rmse_scores_xgb),np.mean(cv_mae_scores_xgb),np.mean(cv_r2_scores_xgb)],\n",
    "    \"Test\": [rmse_xgb_test, mae_xgb_test, r2_xgb_test]\n",
    "}, index=[\"RMSE\", \"MAE\", \"R\"]).reset_index().rename(columns={\"index\": \"Métrica\"})\n",
    "\n",
    "print(f\"---CATBOOST---\")\n",
    "print(resultados_finales_cat)\n",
    "print(f\"---XGBOOST---\")\n",
    "print(resultados_finales_xgb)"
   ]
  },
  {
   "cell_type": "markdown",
   "metadata": {},
   "source": [
    "We can see that the results in **VALIDATION** are very similar. In **TEST** the **XGBOOST** model is superior although its training is far superior."
   ]
  },
  {
   "cell_type": "markdown",
   "metadata": {},
   "source": [
    "😉 THE WINNER: **CATBOOST**"
   ]
  },
  {
   "cell_type": "markdown",
   "metadata": {},
   "source": [
    "WHY?"
   ]
  },
  {
   "cell_type": "markdown",
   "metadata": {},
   "source": [
    "- There could be a risk of overfitting given the training that **XGBOOST** has done. We know that **XGBOOST** is better in tests but it is very important for me to choose **CATBOOST** because it generalises better and is very stable."
   ]
  },
  {
   "cell_type": "markdown",
   "metadata": {},
   "source": [
    "------------"
   ]
  },
  {
   "cell_type": "code",
   "execution_count": 96,
   "metadata": {},
   "outputs": [
    {
     "name": "stdout",
     "output_type": "stream",
     "text": [
      "retailer\n",
      "Amazon           10502.045193\n",
      "Foot Locker      10138.156817\n",
      "Kohl's           13099.345710\n",
      "Sports Direct    11825.228959\n",
      "Walmart          14908.531948\n",
      "West Gear        12821.301978\n",
      "Name: prediccion, dtype: float64\n"
     ]
    }
   ],
   "source": [
    "df_result = X_test.copy()\n",
    "df_result[\"prediccion\"] = y_pred\n",
    "\n",
    "predicciones_por_tienda = df_result.groupby(\"retailer\")[\"prediccion\"].mean()\n",
    "print(predicciones_por_tienda)"
   ]
  },
  {
   "cell_type": "markdown",
   "metadata": {},
   "source": [
    "⭐ We now have our model that predicts the turnover of our retail outlets."
   ]
  },
  {
   "cell_type": "markdown",
   "metadata": {},
   "source": [
    "# ✅ Step 10: Save the model."
   ]
  },
  {
   "cell_type": "code",
   "execution_count": 97,
   "metadata": {},
   "outputs": [
    {
     "data": {
      "text/plain": [
       "['../models/cat_model_final.pkl']"
      ]
     },
     "execution_count": 97,
     "metadata": {},
     "output_type": "execute_result"
    }
   ],
   "source": [
    "import joblib\n",
    "joblib.dump(cat_model_final, \"../models/cat_model_final.pkl\")"
   ]
  },
  {
   "cell_type": "code",
   "execution_count": null,
   "metadata": {},
   "outputs": [],
   "source": []
  }
 ],
 "metadata": {
  "kernelspec": {
   "display_name": "Python 3",
   "language": "python",
   "name": "python3"
  },
  "language_info": {
   "codemirror_mode": {
    "name": "ipython",
    "version": 3
   },
   "file_extension": ".py",
   "mimetype": "text/x-python",
   "name": "python",
   "nbconvert_exporter": "python",
   "pygments_lexer": "ipython3",
   "version": "3.12.7"
  }
 },
 "nbformat": 4,
 "nbformat_minor": 2
}

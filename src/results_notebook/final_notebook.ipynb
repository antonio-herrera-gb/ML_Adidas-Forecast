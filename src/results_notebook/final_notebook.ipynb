{
 "cells": [
  {
   "cell_type": "markdown",
   "metadata": {},
   "source": [
    "# Importaciones para el proyecto:"
   ]
  },
  {
   "cell_type": "code",
   "execution_count": null,
   "metadata": {},
   "outputs": [
    {
     "data": {
      "text/plain": [
       "'c:\\\\Users\\\\Usuario\\\\REPO_BOOTCAMP\\\\ML_Adidas-Forecast\\\\src\\\\results_notebook'"
      ]
     },
     "execution_count": 4,
     "metadata": {},
     "output_type": "execute_result"
    }
   ],
   "source": [
    "import sys\n",
    "import os\n",
    "# os.getcwd()\n",
    "sys.path.append(os.path.abspath(\"..\"))"
   ]
  },
  {
   "cell_type": "code",
   "execution_count": 7,
   "metadata": {},
   "outputs": [],
   "source": [
    "import pandas as pd\n",
    "import numpy as np\n",
    "import matplotlib.pyplot as plt\n",
    "import seaborn as sns\n",
    "\n",
    "import utils.bootcampviztools as bt\n",
    "import utils.funciones_eda as fe"
   ]
  },
  {
   "cell_type": "markdown",
   "metadata": {},
   "source": [
    "# Step 1: Objetivo del proyecto.\n"
   ]
  },
  {
   "cell_type": "markdown",
   "metadata": {},
   "source": [
    "### ADIDAS Y SUS DISTRIBUIDORES EN UNITED STATES. 🔎\n",
    "\n",
    "Adidas quiere saber una predicción razonable de cuánto facturarán las tiendas distribuidoras para asi saber si los productos que solicitan son adecuados a su nivel de facturación. Es muy importante que el producto esté en el lugar más eficiente posible para ello debemos predecirlo.\n",
    "\n",
    "A su vez, quieren plantear un sistema logístico para los Estados de USA donde haya más demanda de producto. Considerando asi una prevención a la rotura de stock y a la mejora en costes ya que el producto más vendido en cada Estado estaría más cerca de dichas tiendas distribuidoras.\n",
    "\n",
    "🤔 PREGUNTAS QUE NOS HACEMOS 🤔\n",
    "\n",
    "A. PREDECIR LA FACTURACIÓN DE LAS TIENDAS DISTRIBUIDORAS 💵\n",
    "- ¿Qué mercado es el que está en auge para estos años?\n",
    "- ¿Hay algún mercado que debamos activarnos porque va en declive?\n",
    "- ¿Cumplirán las tiendas con el mínimo de facturación deseable?\n",
    "- ¿Varía la facturación con la estacionalidad?\n",
    "\n",
    "B. PREVENCIÓN A LA ROTURA DE STOCK Y MEJORA EN COSTES 🚛\n",
    "- ¿En qué regiones debemos tener un centro logístico más potente para el futuro?\n",
    "- ¿Cuánto stock por categoría deberá estar disponible en cada región?"
   ]
  },
  {
   "cell_type": "markdown",
   "metadata": {},
   "source": []
  }
 ],
 "metadata": {
  "kernelspec": {
   "display_name": "Python 3",
   "language": "python",
   "name": "python3"
  },
  "language_info": {
   "codemirror_mode": {
    "name": "ipython",
    "version": 3
   },
   "file_extension": ".py",
   "mimetype": "text/x-python",
   "name": "python",
   "nbconvert_exporter": "python",
   "pygments_lexer": "ipython3",
   "version": "3.12.7"
  }
 },
 "nbformat": 4,
 "nbformat_minor": 2
}

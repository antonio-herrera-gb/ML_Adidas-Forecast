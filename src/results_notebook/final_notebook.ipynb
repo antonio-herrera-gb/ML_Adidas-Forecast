{
 "cells": [
  {
   "cell_type": "markdown",
   "metadata": {},
   "source": [
    "# Importaciones para el proyecto:"
   ]
  },
  {
   "cell_type": "code",
   "execution_count": 2,
   "metadata": {},
   "outputs": [
    {
     "name": "stdout",
     "output_type": "stream",
     "text": [
      "c:\\Users\\lukat\\BOOTCAMPASUS\\ML_Adidas-Forecast\\src\\results_notebook\n"
     ]
    }
   ],
   "source": [
    "import sys\n",
    "import os\n",
    "print(os.getcwd())\n",
    "sys.path.append(os.path.abspath(\"../\"))"
   ]
  },
  {
   "cell_type": "code",
   "execution_count": 3,
   "metadata": {},
   "outputs": [
    {
     "name": "stdout",
     "output_type": "stream",
     "text": [
      "Paquete utils cargado correctamente\n"
     ]
    }
   ],
   "source": [
    "import joblib\n",
    "import matplotlib.pyplot as plt\n",
    "import numpy as np\n",
    "import pandas as pd\n",
    "import seaborn as sns\n",
    "\n",
    "from catboost import CatBoostRegressor\n",
    "from scipy.special import inv_boxcox\n",
    "from scipy.stats import boxcox\n",
    "from sklearn.compose import ColumnTransformer\n",
    "from sklearn.ensemble import RandomForestRegressor\n",
    "from sklearn.linear_model import LinearRegression\n",
    "from sklearn.metrics import mean_absolute_error, mean_squared_error, r2_score, make_scorer\n",
    "from sklearn.model_selection import GridSearchCV, KFold, RandomizedSearchCV, train_test_split\n",
    "from sklearn.preprocessing import OneHotEncoder\n",
    "from xgboost import XGBRegressor\n",
    "\n",
    "import utils.bootcampviztools as bt\n",
    "import utils.funciones_eda as fe\n",
    "import utils.toolbox_ML as tb\n"
   ]
  },
  {
   "cell_type": "markdown",
   "metadata": {},
   "source": [
    "# ✅ Step 1: Objetivo del proyecto.\n"
   ]
  },
  {
   "cell_type": "markdown",
   "metadata": {},
   "source": [
    "### ADIDAS Y SUS DISTRIBUIDORES EN UNITED STATES. 🔎\n",
    "\n",
    "Adidas quiere saber una predicción razonable de cuánto facturarán las tiendas distribuidoras para asi saber si los productos que solicitan son adecuados a su nivel de facturación. Es muy importante que el producto esté en el lugar más eficiente posible y para ello debemos predecirlo.\n",
    "\n",
    "A su vez, quieren plantear un sistema logístico para los Estados de USA donde haya más demanda de producto. Considerando asi una prevención a la rotura de stock y a la mejora en costes ya que el producto más vendido en cada Estado estaría más cerca de dichas tiendas distribuidoras.\n",
    "\n",
    "🤔 PREGUNTAS QUE NOS HACEMOS 🤔\n",
    "\n",
    "A. PREDECIR LA FACTURACIÓN DE LAS TIENDAS DISTRIBUIDORAS 💵 (pt. I)\n",
    "\n",
    "B. PREVENCIÓN A LA ROTURA DE STOCK E INVESTIGACIÓN DE MERCADO 🚛 (pt. II)\n",
    "- ¿Qué mercado es el que está en auge para estos años?\n",
    "- ¿Hay algún mercado que debamos conocer que vaya en declive?\n",
    "- ¿Cumplirán las tiendas con el mínimo de facturación deseable?\n",
    "- ¿Varía la facturación con la estacionalidad?\n",
    "- ¿En qué regiones debemos tener un centro logístico más potente para el futuro?\n",
    "- ¿Cuánto stock por categoría deberá estar disponible en cada región?\n",
    "\n",
    "🙋‍♂️ *El proyecto contiene **dos partes**. Al ser un proyecto extenso, la primera parte **(A)** será la entregada para calificar. La parte II **(B)** se contestará en las próximas semanas de forma personal.*\n",
    "\n",
    "👁‍🗨 *El papel de \"Negocio\" es muy importante en este proyecto. Hay muchos matices que dependiendo de lo que \"Negocio\" crea conveniente, se haría de una forma u otra.*"
   ]
  },
  {
   "cell_type": "markdown",
   "metadata": {},
   "source": [
    "# ✅ Step 2: Obtener datos.\n"
   ]
  },
  {
   "cell_type": "code",
   "execution_count": 4,
   "metadata": {},
   "outputs": [],
   "source": [
    "file_path = \"../data/adidas_sales.csv\""
   ]
  },
  {
   "cell_type": "code",
   "execution_count": 5,
   "metadata": {},
   "outputs": [
    {
     "data": {
      "text/html": [
       "<div>\n",
       "<style scoped>\n",
       "    .dataframe tbody tr th:only-of-type {\n",
       "        vertical-align: middle;\n",
       "    }\n",
       "\n",
       "    .dataframe tbody tr th {\n",
       "        vertical-align: top;\n",
       "    }\n",
       "\n",
       "    .dataframe thead th {\n",
       "        text-align: right;\n",
       "    }\n",
       "</style>\n",
       "<table border=\"1\" class=\"dataframe\">\n",
       "  <thead>\n",
       "    <tr style=\"text-align: right;\">\n",
       "      <th></th>\n",
       "      <th>Retailer</th>\n",
       "      <th>Retailer ID</th>\n",
       "      <th>Invoice Date</th>\n",
       "      <th>Region</th>\n",
       "      <th>State</th>\n",
       "      <th>City</th>\n",
       "      <th>Product</th>\n",
       "      <th>Price per Unit</th>\n",
       "      <th>Units Sold</th>\n",
       "      <th>Total Sales</th>\n",
       "      <th>Operating Profit</th>\n",
       "      <th>Sales Method</th>\n",
       "    </tr>\n",
       "  </thead>\n",
       "  <tbody>\n",
       "    <tr>\n",
       "      <th>0</th>\n",
       "      <td>Walmart</td>\n",
       "      <td>1128299</td>\n",
       "      <td>6/17/2021</td>\n",
       "      <td>Southeast</td>\n",
       "      <td>Florida</td>\n",
       "      <td>Orlando</td>\n",
       "      <td>Women's Apparel</td>\n",
       "      <td>$103.00</td>\n",
       "      <td>218</td>\n",
       "      <td>2,245</td>\n",
       "      <td>$1,257</td>\n",
       "      <td>Online</td>\n",
       "    </tr>\n",
       "    <tr>\n",
       "      <th>1</th>\n",
       "      <td>West Gear</td>\n",
       "      <td>1128299</td>\n",
       "      <td>7/16/2021</td>\n",
       "      <td>South</td>\n",
       "      <td>Louisiana</td>\n",
       "      <td>New Orleans</td>\n",
       "      <td>Women's Apparel</td>\n",
       "      <td>$103.00</td>\n",
       "      <td>163</td>\n",
       "      <td>1,679</td>\n",
       "      <td>$806</td>\n",
       "      <td>Online</td>\n",
       "    </tr>\n",
       "    <tr>\n",
       "      <th>2</th>\n",
       "      <td>Sports Direct</td>\n",
       "      <td>1197831</td>\n",
       "      <td>8/25/2021</td>\n",
       "      <td>South</td>\n",
       "      <td>Alabama</td>\n",
       "      <td>Birmingham</td>\n",
       "      <td>Men's Street Footwear</td>\n",
       "      <td>$10.00</td>\n",
       "      <td>700</td>\n",
       "      <td>7,000</td>\n",
       "      <td>$3,150</td>\n",
       "      <td>Outlet</td>\n",
       "    </tr>\n",
       "    <tr>\n",
       "      <th>3</th>\n",
       "      <td>Sports Direct</td>\n",
       "      <td>1197831</td>\n",
       "      <td>8/27/2021</td>\n",
       "      <td>South</td>\n",
       "      <td>Alabama</td>\n",
       "      <td>Birmingham</td>\n",
       "      <td>Women's Street Footwear</td>\n",
       "      <td>$15.00</td>\n",
       "      <td>575</td>\n",
       "      <td>8,625</td>\n",
       "      <td>$3,881</td>\n",
       "      <td>Outlet</td>\n",
       "    </tr>\n",
       "    <tr>\n",
       "      <th>4</th>\n",
       "      <td>Sports Direct</td>\n",
       "      <td>1197831</td>\n",
       "      <td>8/21/2021</td>\n",
       "      <td>South</td>\n",
       "      <td>Alabama</td>\n",
       "      <td>Birmingham</td>\n",
       "      <td>Women's Street Footwear</td>\n",
       "      <td>$15.00</td>\n",
       "      <td>475</td>\n",
       "      <td>7,125</td>\n",
       "      <td>$3,206</td>\n",
       "      <td>Outlet</td>\n",
       "    </tr>\n",
       "  </tbody>\n",
       "</table>\n",
       "</div>"
      ],
      "text/plain": [
       "        Retailer  Retailer ID Invoice Date     Region      State         City  \\\n",
       "0        Walmart      1128299    6/17/2021  Southeast    Florida      Orlando   \n",
       "1      West Gear      1128299    7/16/2021      South  Louisiana  New Orleans   \n",
       "2  Sports Direct      1197831    8/25/2021      South    Alabama   Birmingham   \n",
       "3  Sports Direct      1197831    8/27/2021      South    Alabama   Birmingham   \n",
       "4  Sports Direct      1197831    8/21/2021      South    Alabama   Birmingham   \n",
       "\n",
       "                   Product Price per Unit Units Sold Total Sales  \\\n",
       "0          Women's Apparel       $103.00         218       2,245   \n",
       "1          Women's Apparel       $103.00         163       1,679   \n",
       "2    Men's Street Footwear        $10.00         700       7,000   \n",
       "3  Women's Street Footwear        $15.00         575       8,625   \n",
       "4  Women's Street Footwear        $15.00         475       7,125   \n",
       "\n",
       "  Operating Profit Sales Method  \n",
       "0          $1,257        Online  \n",
       "1            $806        Online  \n",
       "2          $3,150        Outlet  \n",
       "3          $3,881        Outlet  \n",
       "4          $3,206        Outlet  "
      ]
     },
     "execution_count": 5,
     "metadata": {},
     "output_type": "execute_result"
    }
   ],
   "source": [
    "df = pd.read_csv(file_path)\n",
    "df.head(5)"
   ]
  },
  {
   "cell_type": "markdown",
   "metadata": {},
   "source": [
    "---------\n",
    "A simple vista vemos:\n",
    "- Columnas espaciadas.\n",
    "- Error en el cálculo de ***\"Total Sales\"***\n",
    "- Columnas que vamos a limpiar para tener el DataFrame lo más funcional posible.\n",
    "\n",
    "Y más cosas que veremos en el siguiente paso"
   ]
  },
  {
   "cell_type": "markdown",
   "metadata": {},
   "source": [
    "# ✅ Step 3: Limpieza de datos - Correcciones - Target.\n"
   ]
  },
  {
   "cell_type": "markdown",
   "metadata": {},
   "source": [
    "- Solucionamos las columnas espaciadas:"
   ]
  },
  {
   "cell_type": "code",
   "execution_count": 6,
   "metadata": {},
   "outputs": [],
   "source": [
    "df.columns = df.columns.str.lower()\n",
    "df.columns = df.columns.str.replace(\" \", \"_\")"
   ]
  },
  {
   "cell_type": "code",
   "execution_count": 7,
   "metadata": {},
   "outputs": [
    {
     "name": "stdout",
     "output_type": "stream",
     "text": [
      "<class 'pandas.core.frame.DataFrame'>\n",
      "RangeIndex: 9641 entries, 0 to 9640\n",
      "Data columns (total 12 columns):\n",
      " #   Column            Non-Null Count  Dtype \n",
      "---  ------            --------------  ----- \n",
      " 0   retailer          9641 non-null   object\n",
      " 1   retailer_id       9641 non-null   int64 \n",
      " 2   invoice_date      9641 non-null   object\n",
      " 3   region            9641 non-null   object\n",
      " 4   state             9641 non-null   object\n",
      " 5   city              9641 non-null   object\n",
      " 6   product           9641 non-null   object\n",
      " 7   price_per_unit    9639 non-null   object\n",
      " 8   units_sold        9641 non-null   object\n",
      " 9   total_sales       9641 non-null   object\n",
      " 10  operating_profit  9641 non-null   object\n",
      " 11  sales_method      9641 non-null   object\n",
      "dtypes: int64(1), object(11)\n",
      "memory usage: 904.0+ KB\n"
     ]
    }
   ],
   "source": [
    "df.info()"
   ]
  },
  {
   "cell_type": "markdown",
   "metadata": {},
   "source": [
    "- Valores faltantes en ***\"price_per_unit\"*** pero antes solucionaremos el error de cálculo en ***\"total_sales\"***\n",
    "- Tenemos tipo object en todas las columnas, debemos transformar a númericas algunas.\n",
    "- Queremos transformar ***\"invoice_date\"*** en datetime.\n",
    "- Vamos a eliminar columnas no relevantes al proyecto."
   ]
  },
  {
   "cell_type": "code",
   "execution_count": 8,
   "metadata": {},
   "outputs": [
    {
     "data": {
      "text/html": [
       "<div>\n",
       "<style scoped>\n",
       "    .dataframe tbody tr th:only-of-type {\n",
       "        vertical-align: middle;\n",
       "    }\n",
       "\n",
       "    .dataframe tbody tr th {\n",
       "        vertical-align: top;\n",
       "    }\n",
       "\n",
       "    .dataframe thead th {\n",
       "        text-align: right;\n",
       "    }\n",
       "</style>\n",
       "<table border=\"1\" class=\"dataframe\">\n",
       "  <thead>\n",
       "    <tr style=\"text-align: right;\">\n",
       "      <th></th>\n",
       "      <th>retailer</th>\n",
       "      <th>retailer_id</th>\n",
       "      <th>invoice_date</th>\n",
       "      <th>region</th>\n",
       "      <th>state</th>\n",
       "      <th>city</th>\n",
       "      <th>product</th>\n",
       "      <th>price_per_unit</th>\n",
       "      <th>units_sold</th>\n",
       "      <th>total_sales</th>\n",
       "      <th>operating_profit</th>\n",
       "      <th>sales_method</th>\n",
       "    </tr>\n",
       "  </thead>\n",
       "  <tbody>\n",
       "    <tr>\n",
       "      <th>78</th>\n",
       "      <td>West Gear</td>\n",
       "      <td>1128299</td>\n",
       "      <td>1/12/2021</td>\n",
       "      <td>West</td>\n",
       "      <td>California</td>\n",
       "      <td>San Francisco</td>\n",
       "      <td>Men's Street Footwear</td>\n",
       "      <td>$41.00</td>\n",
       "      <td>338</td>\n",
       "      <td>1,386</td>\n",
       "      <td>$527</td>\n",
       "      <td>Outlet</td>\n",
       "    </tr>\n",
       "  </tbody>\n",
       "</table>\n",
       "</div>"
      ],
      "text/plain": [
       "     retailer  retailer_id invoice_date region       state           city  \\\n",
       "78  West Gear      1128299    1/12/2021   West  California  San Francisco   \n",
       "\n",
       "                  product price_per_unit units_sold total_sales  \\\n",
       "78  Men's Street Footwear        $41.00         338       1,386   \n",
       "\n",
       "   operating_profit sales_method  \n",
       "78            $527        Outlet  "
      ]
     },
     "execution_count": 8,
     "metadata": {},
     "output_type": "execute_result"
    }
   ],
   "source": [
    "df[df.index == 78]"
   ]
  },
  {
   "cell_type": "markdown",
   "metadata": {},
   "source": [
    "- Si vemos el *sample* podemos ver que la multiplicación en ***\"total_sales\"*** (*price_per_unit* y *units_sold*) no es correcta. Vamos a hacerla de nuevo y corregiremos el símbolo del dollar. La haremos tipo numérica. Por último añadiremos dos decimales en las columnas."
   ]
  },
  {
   "cell_type": "code",
   "execution_count": 9,
   "metadata": {},
   "outputs": [],
   "source": [
    "df[\"price_per_unit\"] = df[\"price_per_unit\"].str.replace(\"$\", \"\")\n",
    "df[\"price_per_unit\"] = pd.to_numeric(df[\"price_per_unit\"], errors=\"coerce\")"
   ]
  },
  {
   "cell_type": "code",
   "execution_count": 10,
   "metadata": {},
   "outputs": [
    {
     "data": {
      "text/html": [
       "<div>\n",
       "<style scoped>\n",
       "    .dataframe tbody tr th:only-of-type {\n",
       "        vertical-align: middle;\n",
       "    }\n",
       "\n",
       "    .dataframe tbody tr th {\n",
       "        vertical-align: top;\n",
       "    }\n",
       "\n",
       "    .dataframe thead th {\n",
       "        text-align: right;\n",
       "    }\n",
       "</style>\n",
       "<table border=\"1\" class=\"dataframe\">\n",
       "  <thead>\n",
       "    <tr style=\"text-align: right;\">\n",
       "      <th></th>\n",
       "      <th>retailer</th>\n",
       "      <th>retailer_id</th>\n",
       "      <th>invoice_date</th>\n",
       "      <th>region</th>\n",
       "      <th>state</th>\n",
       "      <th>city</th>\n",
       "      <th>product</th>\n",
       "      <th>price_per_unit</th>\n",
       "      <th>units_sold</th>\n",
       "      <th>total_sales</th>\n",
       "      <th>operating_profit</th>\n",
       "      <th>sales_method</th>\n",
       "    </tr>\n",
       "  </thead>\n",
       "  <tbody>\n",
       "    <tr>\n",
       "      <th>1004</th>\n",
       "      <td>Kohl's</td>\n",
       "      <td>1189833</td>\n",
       "      <td>4/15/2021</td>\n",
       "      <td>West</td>\n",
       "      <td>California</td>\n",
       "      <td>Los Angeles</td>\n",
       "      <td>Women's Street Footwear</td>\n",
       "      <td>36.0</td>\n",
       "      <td>215</td>\n",
       "      <td>774</td>\n",
       "      <td>$348</td>\n",
       "      <td>Outlet</td>\n",
       "    </tr>\n",
       "    <tr>\n",
       "      <th>2577</th>\n",
       "      <td>Amazon</td>\n",
       "      <td>1185732</td>\n",
       "      <td>2/12/2021</td>\n",
       "      <td>Northeast</td>\n",
       "      <td>Vermont</td>\n",
       "      <td>Burlington</td>\n",
       "      <td>Women's Athletic Footwear</td>\n",
       "      <td>40.0</td>\n",
       "      <td>150</td>\n",
       "      <td>6,000</td>\n",
       "      <td>$2,100</td>\n",
       "      <td>In-store</td>\n",
       "    </tr>\n",
       "    <tr>\n",
       "      <th>7872</th>\n",
       "      <td>Amazon</td>\n",
       "      <td>1185732</td>\n",
       "      <td>9/10/2021</td>\n",
       "      <td>Northeast</td>\n",
       "      <td>Vermont</td>\n",
       "      <td>Burlington</td>\n",
       "      <td>Men's Street Footwear</td>\n",
       "      <td>60.0</td>\n",
       "      <td>525</td>\n",
       "      <td>31,500</td>\n",
       "      <td>$14,175</td>\n",
       "      <td>In-store</td>\n",
       "    </tr>\n",
       "    <tr>\n",
       "      <th>8582</th>\n",
       "      <td>Walmart</td>\n",
       "      <td>1197831</td>\n",
       "      <td>4/20/2021</td>\n",
       "      <td>South</td>\n",
       "      <td>Arkansas</td>\n",
       "      <td>Little Rock</td>\n",
       "      <td>Women's Apparel</td>\n",
       "      <td>30.0</td>\n",
       "      <td>400</td>\n",
       "      <td>12,000</td>\n",
       "      <td>$4,800</td>\n",
       "      <td>Online</td>\n",
       "    </tr>\n",
       "    <tr>\n",
       "      <th>7631</th>\n",
       "      <td>Kohl's</td>\n",
       "      <td>1189833</td>\n",
       "      <td>1/29/2021</td>\n",
       "      <td>Midwest</td>\n",
       "      <td>Montana</td>\n",
       "      <td>Billings</td>\n",
       "      <td>Women's Street Footwear</td>\n",
       "      <td>45.0</td>\n",
       "      <td>550</td>\n",
       "      <td>24,750</td>\n",
       "      <td>$11,138</td>\n",
       "      <td>Outlet</td>\n",
       "    </tr>\n",
       "    <tr>\n",
       "      <th>8488</th>\n",
       "      <td>West Gear</td>\n",
       "      <td>1128299</td>\n",
       "      <td>6/21/2020</td>\n",
       "      <td>West</td>\n",
       "      <td>Washington</td>\n",
       "      <td>Seattle</td>\n",
       "      <td>Women's Street Footwear</td>\n",
       "      <td>65.0</td>\n",
       "      <td>400</td>\n",
       "      <td>26,000</td>\n",
       "      <td>$6,500</td>\n",
       "      <td>In-store</td>\n",
       "    </tr>\n",
       "  </tbody>\n",
       "</table>\n",
       "</div>"
      ],
      "text/plain": [
       "       retailer  retailer_id invoice_date     region       state         city  \\\n",
       "1004     Kohl's      1189833    4/15/2021       West  California  Los Angeles   \n",
       "2577     Amazon      1185732    2/12/2021  Northeast     Vermont   Burlington   \n",
       "7872     Amazon      1185732    9/10/2021  Northeast     Vermont   Burlington   \n",
       "8582    Walmart      1197831    4/20/2021      South    Arkansas  Little Rock   \n",
       "7631     Kohl's      1189833    1/29/2021    Midwest     Montana     Billings   \n",
       "8488  West Gear      1128299    6/21/2020       West  Washington      Seattle   \n",
       "\n",
       "                        product  price_per_unit units_sold total_sales  \\\n",
       "1004    Women's Street Footwear            36.0        215         774   \n",
       "2577  Women's Athletic Footwear            40.0        150       6,000   \n",
       "7872      Men's Street Footwear            60.0        525      31,500   \n",
       "8582            Women's Apparel            30.0        400      12,000   \n",
       "7631    Women's Street Footwear            45.0        550      24,750   \n",
       "8488    Women's Street Footwear            65.0        400      26,000   \n",
       "\n",
       "     operating_profit sales_method  \n",
       "1004            $348        Outlet  \n",
       "2577          $2,100      In-store  \n",
       "7872         $14,175      In-store  \n",
       "8582          $4,800        Online  \n",
       "7631         $11,138        Outlet  \n",
       "8488          $6,500      In-store  "
      ]
     },
     "execution_count": 10,
     "metadata": {},
     "output_type": "execute_result"
    }
   ],
   "source": [
    "# Visión general de los datos\n",
    "df.sample(6)"
   ]
  },
  {
   "cell_type": "code",
   "execution_count": 11,
   "metadata": {},
   "outputs": [],
   "source": [
    "df[\"units_sold\"] = pd.to_numeric(df[\"units_sold\"].str.replace(\",\", \"\"),errors=\"coerce\")"
   ]
  },
  {
   "cell_type": "code",
   "execution_count": 12,
   "metadata": {},
   "outputs": [
    {
     "name": "stdout",
     "output_type": "stream",
     "text": [
      "<class 'pandas.core.frame.DataFrame'>\n",
      "RangeIndex: 9641 entries, 0 to 9640\n",
      "Data columns (total 12 columns):\n",
      " #   Column            Non-Null Count  Dtype  \n",
      "---  ------            --------------  -----  \n",
      " 0   retailer          9641 non-null   object \n",
      " 1   retailer_id       9641 non-null   int64  \n",
      " 2   invoice_date      9641 non-null   object \n",
      " 3   region            9641 non-null   object \n",
      " 4   state             9641 non-null   object \n",
      " 5   city              9641 non-null   object \n",
      " 6   product           9641 non-null   object \n",
      " 7   price_per_unit    9639 non-null   float64\n",
      " 8   units_sold        9641 non-null   int64  \n",
      " 9   total_sales       9641 non-null   object \n",
      " 10  operating_profit  9641 non-null   object \n",
      " 11  sales_method      9641 non-null   object \n",
      "dtypes: float64(1), int64(2), object(9)\n",
      "memory usage: 904.0+ KB\n"
     ]
    }
   ],
   "source": [
    "df.info()"
   ]
  },
  {
   "cell_type": "markdown",
   "metadata": {},
   "source": [
    "Siendo columnas numéricas ya podríamos calcular el correcto \"total_sales\" pero vamos a visualizar los nulos primero antes de tocar los datos."
   ]
  },
  {
   "cell_type": "code",
   "execution_count": 13,
   "metadata": {},
   "outputs": [
    {
     "data": {
      "text/html": [
       "<div>\n",
       "<style scoped>\n",
       "    .dataframe tbody tr th:only-of-type {\n",
       "        vertical-align: middle;\n",
       "    }\n",
       "\n",
       "    .dataframe tbody tr th {\n",
       "        vertical-align: top;\n",
       "    }\n",
       "\n",
       "    .dataframe thead th {\n",
       "        text-align: right;\n",
       "    }\n",
       "</style>\n",
       "<table border=\"1\" class=\"dataframe\">\n",
       "  <thead>\n",
       "    <tr style=\"text-align: right;\">\n",
       "      <th></th>\n",
       "      <th>retailer</th>\n",
       "      <th>retailer_id</th>\n",
       "      <th>invoice_date</th>\n",
       "      <th>region</th>\n",
       "      <th>state</th>\n",
       "      <th>city</th>\n",
       "      <th>product</th>\n",
       "      <th>price_per_unit</th>\n",
       "      <th>units_sold</th>\n",
       "      <th>total_sales</th>\n",
       "      <th>operating_profit</th>\n",
       "      <th>sales_method</th>\n",
       "    </tr>\n",
       "  </thead>\n",
       "  <tbody>\n",
       "    <tr>\n",
       "      <th>6725</th>\n",
       "      <td>Foot Locker</td>\n",
       "      <td>1185732</td>\n",
       "      <td>1/29/2020</td>\n",
       "      <td>Northeast</td>\n",
       "      <td>New York</td>\n",
       "      <td>New York</td>\n",
       "      <td>Men's Apparel</td>\n",
       "      <td>NaN</td>\n",
       "      <td>850</td>\n",
       "      <td>51,000</td>\n",
       "      <td>$15,300</td>\n",
       "      <td>Outlet</td>\n",
       "    </tr>\n",
       "    <tr>\n",
       "      <th>7882</th>\n",
       "      <td>Sports Direct</td>\n",
       "      <td>1197831</td>\n",
       "      <td>7/29/2020</td>\n",
       "      <td>South</td>\n",
       "      <td>Texas</td>\n",
       "      <td>Houston</td>\n",
       "      <td>Men's Apparel</td>\n",
       "      <td>NaN</td>\n",
       "      <td>500</td>\n",
       "      <td>20,000</td>\n",
       "      <td>$6,000</td>\n",
       "      <td>Outlet</td>\n",
       "    </tr>\n",
       "  </tbody>\n",
       "</table>\n",
       "</div>"
      ],
      "text/plain": [
       "           retailer  retailer_id invoice_date     region     state      city  \\\n",
       "6725    Foot Locker      1185732    1/29/2020  Northeast  New York  New York   \n",
       "7882  Sports Direct      1197831    7/29/2020      South     Texas   Houston   \n",
       "\n",
       "            product  price_per_unit  units_sold total_sales operating_profit  \\\n",
       "6725  Men's Apparel             NaN         850      51,000         $15,300    \n",
       "7882  Men's Apparel             NaN         500      20,000          $6,000    \n",
       "\n",
       "     sales_method  \n",
       "6725       Outlet  \n",
       "7882       Outlet  "
      ]
     },
     "execution_count": 13,
     "metadata": {},
     "output_type": "execute_result"
    }
   ],
   "source": [
    "df[df.isnull().any(axis=1)]"
   ]
  },
  {
   "cell_type": "markdown",
   "metadata": {},
   "source": [
    "---------\n",
    "🤔 Esto seria una pregunta para \"Negocio\" porque tenemos dos soluciones para afrontar estos nulos.\n",
    "1. Entendemos que la división de ***\"total_sales\"*** / ***\"units_sold\"*** dan el resultado de ***\"price_per_unit\"***\n",
    "2. Hemos visto que hay valores de ***\"total_sales\"*** que no fueron bien calculados y todos tienen en común la falta del último dígito.\n",
    "\n",
    "Ya que son dos valores faltantes, vamos a confiar en los valores que tenemos del dataset y haremos la opción 1"
   ]
  },
  {
   "cell_type": "code",
   "execution_count": 14,
   "metadata": {},
   "outputs": [],
   "source": [
    "df[\"total_sales\"] = pd.to_numeric(df[\"total_sales\"].str.replace(\",\", \"\"),errors=\"coerce\")\n"
   ]
  },
  {
   "cell_type": "code",
   "execution_count": 15,
   "metadata": {},
   "outputs": [],
   "source": [
    "df[\"price_per_unit\"] = df[\"price_per_unit\"].fillna(df[\"total_sales\"] / df[\"units_sold\"])"
   ]
  },
  {
   "cell_type": "code",
   "execution_count": 16,
   "metadata": {},
   "outputs": [
    {
     "name": "stdout",
     "output_type": "stream",
     "text": [
      "<class 'pandas.core.frame.DataFrame'>\n",
      "RangeIndex: 9641 entries, 0 to 9640\n",
      "Data columns (total 12 columns):\n",
      " #   Column            Non-Null Count  Dtype  \n",
      "---  ------            --------------  -----  \n",
      " 0   retailer          9641 non-null   object \n",
      " 1   retailer_id       9641 non-null   int64  \n",
      " 2   invoice_date      9641 non-null   object \n",
      " 3   region            9641 non-null   object \n",
      " 4   state             9641 non-null   object \n",
      " 5   city              9641 non-null   object \n",
      " 6   product           9641 non-null   object \n",
      " 7   price_per_unit    9641 non-null   float64\n",
      " 8   units_sold        9641 non-null   int64  \n",
      " 9   total_sales       9641 non-null   int64  \n",
      " 10  operating_profit  9641 non-null   object \n",
      " 11  sales_method      9641 non-null   object \n",
      "dtypes: float64(1), int64(3), object(8)\n",
      "memory usage: 904.0+ KB\n"
     ]
    }
   ],
   "source": [
    "df.info()"
   ]
  },
  {
   "cell_type": "markdown",
   "metadata": {},
   "source": [
    "- Calculamos los valores correctos de ***\"total_sales\"***"
   ]
  },
  {
   "cell_type": "code",
   "execution_count": 17,
   "metadata": {},
   "outputs": [],
   "source": [
    "df[\"total_sales\"] = df[\"price_per_unit\"] * df[\"units_sold\"]"
   ]
  },
  {
   "cell_type": "code",
   "execution_count": 18,
   "metadata": {},
   "outputs": [
    {
     "data": {
      "text/html": [
       "<div>\n",
       "<style scoped>\n",
       "    .dataframe tbody tr th:only-of-type {\n",
       "        vertical-align: middle;\n",
       "    }\n",
       "\n",
       "    .dataframe tbody tr th {\n",
       "        vertical-align: top;\n",
       "    }\n",
       "\n",
       "    .dataframe thead th {\n",
       "        text-align: right;\n",
       "    }\n",
       "</style>\n",
       "<table border=\"1\" class=\"dataframe\">\n",
       "  <thead>\n",
       "    <tr style=\"text-align: right;\">\n",
       "      <th></th>\n",
       "      <th>retailer</th>\n",
       "      <th>retailer_id</th>\n",
       "      <th>invoice_date</th>\n",
       "      <th>region</th>\n",
       "      <th>state</th>\n",
       "      <th>city</th>\n",
       "      <th>product</th>\n",
       "      <th>price_per_unit</th>\n",
       "      <th>units_sold</th>\n",
       "      <th>total_sales</th>\n",
       "      <th>operating_profit</th>\n",
       "      <th>sales_method</th>\n",
       "    </tr>\n",
       "  </thead>\n",
       "  <tbody>\n",
       "    <tr>\n",
       "      <th>1391</th>\n",
       "      <td>Sports Direct</td>\n",
       "      <td>1185732</td>\n",
       "      <td>10/4/2021</td>\n",
       "      <td>Southeast</td>\n",
       "      <td>North Carolina</td>\n",
       "      <td>Charlotte</td>\n",
       "      <td>Men's Athletic Footwear</td>\n",
       "      <td>33.0</td>\n",
       "      <td>196</td>\n",
       "      <td>6468.0</td>\n",
       "      <td>$298</td>\n",
       "      <td>Online</td>\n",
       "    </tr>\n",
       "    <tr>\n",
       "      <th>6670</th>\n",
       "      <td>Walmart</td>\n",
       "      <td>1185732</td>\n",
       "      <td>4/22/2020</td>\n",
       "      <td>Northeast</td>\n",
       "      <td>New York</td>\n",
       "      <td>New York</td>\n",
       "      <td>Women's Athletic Footwear</td>\n",
       "      <td>50.0</td>\n",
       "      <td>900</td>\n",
       "      <td>45000.0</td>\n",
       "      <td>$15,750</td>\n",
       "      <td>Outlet</td>\n",
       "    </tr>\n",
       "    <tr>\n",
       "      <th>2236</th>\n",
       "      <td>West Gear</td>\n",
       "      <td>1185732</td>\n",
       "      <td>3/8/2021</td>\n",
       "      <td>Northeast</td>\n",
       "      <td>New York</td>\n",
       "      <td>Albany</td>\n",
       "      <td>Women's Street Footwear</td>\n",
       "      <td>33.0</td>\n",
       "      <td>161</td>\n",
       "      <td>5313.0</td>\n",
       "      <td>$191</td>\n",
       "      <td>Online</td>\n",
       "    </tr>\n",
       "    <tr>\n",
       "      <th>2781</th>\n",
       "      <td>Foot Locker</td>\n",
       "      <td>1185732</td>\n",
       "      <td>1/24/2021</td>\n",
       "      <td>Northeast</td>\n",
       "      <td>New Hampshire</td>\n",
       "      <td>Manchester</td>\n",
       "      <td>Men's Street Footwear</td>\n",
       "      <td>52.0</td>\n",
       "      <td>145</td>\n",
       "      <td>7540.0</td>\n",
       "      <td>$347</td>\n",
       "      <td>Online</td>\n",
       "    </tr>\n",
       "    <tr>\n",
       "      <th>7532</th>\n",
       "      <td>West Gear</td>\n",
       "      <td>1185732</td>\n",
       "      <td>3/8/2021</td>\n",
       "      <td>Northeast</td>\n",
       "      <td>New York</td>\n",
       "      <td>Albany</td>\n",
       "      <td>Women's Street Footwear</td>\n",
       "      <td>35.0</td>\n",
       "      <td>575</td>\n",
       "      <td>20125.0</td>\n",
       "      <td>$5,031</td>\n",
       "      <td>In-store</td>\n",
       "    </tr>\n",
       "  </tbody>\n",
       "</table>\n",
       "</div>"
      ],
      "text/plain": [
       "           retailer  retailer_id invoice_date     region           state  \\\n",
       "1391  Sports Direct      1185732    10/4/2021  Southeast  North Carolina   \n",
       "6670        Walmart      1185732    4/22/2020  Northeast        New York   \n",
       "2236      West Gear      1185732     3/8/2021  Northeast        New York   \n",
       "2781    Foot Locker      1185732    1/24/2021  Northeast   New Hampshire   \n",
       "7532      West Gear      1185732     3/8/2021  Northeast        New York   \n",
       "\n",
       "            city                    product  price_per_unit  units_sold  \\\n",
       "1391   Charlotte    Men's Athletic Footwear            33.0         196   \n",
       "6670    New York  Women's Athletic Footwear            50.0         900   \n",
       "2236      Albany    Women's Street Footwear            33.0         161   \n",
       "2781  Manchester      Men's Street Footwear            52.0         145   \n",
       "7532      Albany    Women's Street Footwear            35.0         575   \n",
       "\n",
       "      total_sales operating_profit sales_method  \n",
       "1391       6468.0            $298        Online  \n",
       "6670      45000.0         $15,750        Outlet  \n",
       "2236       5313.0            $191        Online  \n",
       "2781       7540.0            $347        Online  \n",
       "7532      20125.0          $5,031      In-store  "
      ]
     },
     "execution_count": 18,
     "metadata": {},
     "output_type": "execute_result"
    }
   ],
   "source": [
    "df.sample(5)"
   ]
  },
  {
   "cell_type": "markdown",
   "metadata": {},
   "source": [
    "- Eliminamos las filas con resultado 0 en total_sales\n"
   ]
  },
  {
   "cell_type": "code",
   "execution_count": 19,
   "metadata": {},
   "outputs": [],
   "source": [
    "df = df[df[\"total_sales\"] != 0]"
   ]
  },
  {
   "cell_type": "markdown",
   "metadata": {},
   "source": [
    "- DateTime para ***\"invoice_date\"*** y ordenamos el DataFrame"
   ]
  },
  {
   "cell_type": "code",
   "execution_count": 20,
   "metadata": {},
   "outputs": [],
   "source": [
    "df[\"invoice_date\"] = pd.to_datetime(df[\"invoice_date\"])"
   ]
  },
  {
   "cell_type": "code",
   "execution_count": 21,
   "metadata": {},
   "outputs": [
    {
     "data": {
      "text/html": [
       "<div>\n",
       "<style scoped>\n",
       "    .dataframe tbody tr th:only-of-type {\n",
       "        vertical-align: middle;\n",
       "    }\n",
       "\n",
       "    .dataframe tbody tr th {\n",
       "        vertical-align: top;\n",
       "    }\n",
       "\n",
       "    .dataframe thead th {\n",
       "        text-align: right;\n",
       "    }\n",
       "</style>\n",
       "<table border=\"1\" class=\"dataframe\">\n",
       "  <thead>\n",
       "    <tr style=\"text-align: right;\">\n",
       "      <th></th>\n",
       "      <th>retailer</th>\n",
       "      <th>retailer_id</th>\n",
       "      <th>invoice_date</th>\n",
       "      <th>region</th>\n",
       "      <th>state</th>\n",
       "      <th>city</th>\n",
       "      <th>product</th>\n",
       "      <th>price_per_unit</th>\n",
       "      <th>units_sold</th>\n",
       "      <th>total_sales</th>\n",
       "      <th>operating_profit</th>\n",
       "      <th>sales_method</th>\n",
       "    </tr>\n",
       "  </thead>\n",
       "  <tbody>\n",
       "    <tr>\n",
       "      <th>9189</th>\n",
       "      <td>Foot Locker</td>\n",
       "      <td>1185732</td>\n",
       "      <td>2020-01-01</td>\n",
       "      <td>Northeast</td>\n",
       "      <td>Pennsylvania</td>\n",
       "      <td>Philadelphia</td>\n",
       "      <td>Women's Apparel</td>\n",
       "      <td>75.0</td>\n",
       "      <td>275</td>\n",
       "      <td>20625.0</td>\n",
       "      <td>$6,188</td>\n",
       "      <td>Outlet</td>\n",
       "    </tr>\n",
       "    <tr>\n",
       "      <th>4937</th>\n",
       "      <td>Foot Locker</td>\n",
       "      <td>1185732</td>\n",
       "      <td>2020-01-01</td>\n",
       "      <td>Northeast</td>\n",
       "      <td>Pennsylvania</td>\n",
       "      <td>Philadelphia</td>\n",
       "      <td>Women's Apparel</td>\n",
       "      <td>53.0</td>\n",
       "      <td>83</td>\n",
       "      <td>4399.0</td>\n",
       "      <td>$141</td>\n",
       "      <td>Outlet</td>\n",
       "    </tr>\n",
       "    <tr>\n",
       "      <th>30</th>\n",
       "      <td>Foot Locker</td>\n",
       "      <td>1185732</td>\n",
       "      <td>2020-01-01</td>\n",
       "      <td>Northeast</td>\n",
       "      <td>New York</td>\n",
       "      <td>New York</td>\n",
       "      <td>Men's Street Footwear</td>\n",
       "      <td>34.0</td>\n",
       "      <td>384</td>\n",
       "      <td>13056.0</td>\n",
       "      <td>$679</td>\n",
       "      <td>Outlet</td>\n",
       "    </tr>\n",
       "    <tr>\n",
       "      <th>4908</th>\n",
       "      <td>Foot Locker</td>\n",
       "      <td>1185732</td>\n",
       "      <td>2020-01-01</td>\n",
       "      <td>Northeast</td>\n",
       "      <td>Pennsylvania</td>\n",
       "      <td>Philadelphia</td>\n",
       "      <td>Women's Apparel</td>\n",
       "      <td>68.0</td>\n",
       "      <td>83</td>\n",
       "      <td>5644.0</td>\n",
       "      <td>$243</td>\n",
       "      <td>Online</td>\n",
       "    </tr>\n",
       "    <tr>\n",
       "      <th>79</th>\n",
       "      <td>Foot Locker</td>\n",
       "      <td>1185732</td>\n",
       "      <td>2020-01-01</td>\n",
       "      <td>Northeast</td>\n",
       "      <td>New York</td>\n",
       "      <td>New York</td>\n",
       "      <td>Men's Street Footwear</td>\n",
       "      <td>47.0</td>\n",
       "      <td>336</td>\n",
       "      <td>15792.0</td>\n",
       "      <td>$963</td>\n",
       "      <td>Online</td>\n",
       "    </tr>\n",
       "    <tr>\n",
       "      <th>6562</th>\n",
       "      <td>Foot Locker</td>\n",
       "      <td>1185732</td>\n",
       "      <td>2020-01-01</td>\n",
       "      <td>Northeast</td>\n",
       "      <td>New York</td>\n",
       "      <td>New York</td>\n",
       "      <td>Men's Street Footwear</td>\n",
       "      <td>50.0</td>\n",
       "      <td>1200</td>\n",
       "      <td>60000.0</td>\n",
       "      <td>$30,000</td>\n",
       "      <td>In-store</td>\n",
       "    </tr>\n",
       "    <tr>\n",
       "      <th>6588</th>\n",
       "      <td>Foot Locker</td>\n",
       "      <td>1185732</td>\n",
       "      <td>2020-01-02</td>\n",
       "      <td>Northeast</td>\n",
       "      <td>New York</td>\n",
       "      <td>New York</td>\n",
       "      <td>Men's Athletic Footwear</td>\n",
       "      <td>50.0</td>\n",
       "      <td>1000</td>\n",
       "      <td>50000.0</td>\n",
       "      <td>$15,000</td>\n",
       "      <td>In-store</td>\n",
       "    </tr>\n",
       "    <tr>\n",
       "      <th>117</th>\n",
       "      <td>Foot Locker</td>\n",
       "      <td>1185732</td>\n",
       "      <td>2020-01-02</td>\n",
       "      <td>Northeast</td>\n",
       "      <td>New York</td>\n",
       "      <td>New York</td>\n",
       "      <td>Men's Athletic Footwear</td>\n",
       "      <td>36.0</td>\n",
       "      <td>320</td>\n",
       "      <td>11520.0</td>\n",
       "      <td>$403</td>\n",
       "      <td>Outlet</td>\n",
       "    </tr>\n",
       "  </tbody>\n",
       "</table>\n",
       "</div>"
      ],
      "text/plain": [
       "         retailer  retailer_id invoice_date     region         state  \\\n",
       "9189  Foot Locker      1185732   2020-01-01  Northeast  Pennsylvania   \n",
       "4937  Foot Locker      1185732   2020-01-01  Northeast  Pennsylvania   \n",
       "30    Foot Locker      1185732   2020-01-01  Northeast      New York   \n",
       "4908  Foot Locker      1185732   2020-01-01  Northeast  Pennsylvania   \n",
       "79    Foot Locker      1185732   2020-01-01  Northeast      New York   \n",
       "6562  Foot Locker      1185732   2020-01-01  Northeast      New York   \n",
       "6588  Foot Locker      1185732   2020-01-02  Northeast      New York   \n",
       "117   Foot Locker      1185732   2020-01-02  Northeast      New York   \n",
       "\n",
       "              city                  product  price_per_unit  units_sold  \\\n",
       "9189  Philadelphia          Women's Apparel            75.0         275   \n",
       "4937  Philadelphia          Women's Apparel            53.0          83   \n",
       "30        New York    Men's Street Footwear            34.0         384   \n",
       "4908  Philadelphia          Women's Apparel            68.0          83   \n",
       "79        New York    Men's Street Footwear            47.0         336   \n",
       "6562      New York    Men's Street Footwear            50.0        1200   \n",
       "6588      New York  Men's Athletic Footwear            50.0        1000   \n",
       "117       New York  Men's Athletic Footwear            36.0         320   \n",
       "\n",
       "      total_sales operating_profit sales_method  \n",
       "9189      20625.0          $6,188        Outlet  \n",
       "4937       4399.0            $141        Outlet  \n",
       "30        13056.0            $679        Outlet  \n",
       "4908       5644.0            $243        Online  \n",
       "79        15792.0            $963        Online  \n",
       "6562      60000.0         $30,000      In-store  \n",
       "6588      50000.0         $15,000      In-store  \n",
       "117       11520.0            $403        Outlet  "
      ]
     },
     "execution_count": 21,
     "metadata": {},
     "output_type": "execute_result"
    }
   ],
   "source": [
    "df = df.sort_values(by=\"invoice_date\")\n",
    "df.head(8)"
   ]
  },
  {
   "cell_type": "code",
   "execution_count": 22,
   "metadata": {},
   "outputs": [
    {
     "data": {
      "text/plain": [
       "retailer            0\n",
       "retailer_id         0\n",
       "invoice_date        0\n",
       "region              0\n",
       "state               0\n",
       "city                0\n",
       "product             0\n",
       "price_per_unit      0\n",
       "units_sold          0\n",
       "total_sales         0\n",
       "operating_profit    0\n",
       "sales_method        0\n",
       "dtype: int64"
      ]
     },
     "execution_count": 22,
     "metadata": {},
     "output_type": "execute_result"
    }
   ],
   "source": [
    "df.isnull().sum()"
   ]
  },
  {
   "cell_type": "markdown",
   "metadata": {},
   "source": [
    "- Eliminamos columnas irrelevantes y hacemos una copia de seguridad del dataset"
   ]
  },
  {
   "cell_type": "code",
   "execution_count": 23,
   "metadata": {},
   "outputs": [],
   "source": [
    "df = df.drop(columns=[\"retailer_id\", \"operating_profit\", \"sales_method\"], errors=\"ignore\")\n",
    "\n",
    "# \"retailer_id\" se elimina porque ya tenemos una columna \"retailer\"\n",
    "# \"operation_profit\" se elimina porque no tenemos contexto sobre los gastos para entender realmente el profit\n",
    "# \"sales_method\" se elimina porque hemos entendido que son tiendas fisicas todas"
   ]
  },
  {
   "cell_type": "markdown",
   "metadata": {},
   "source": [
    "- Una vista rápida para saber si está todo en orden"
   ]
  },
  {
   "cell_type": "code",
   "execution_count": 24,
   "metadata": {},
   "outputs": [
    {
     "name": "stdout",
     "output_type": "stream",
     "text": [
      "<class 'pandas.core.frame.DataFrame'>\n",
      "Index: 9637 entries, 9189 to 9605\n",
      "Data columns (total 9 columns):\n",
      " #   Column          Non-Null Count  Dtype         \n",
      "---  ------          --------------  -----         \n",
      " 0   retailer        9637 non-null   object        \n",
      " 1   invoice_date    9637 non-null   datetime64[ns]\n",
      " 2   region          9637 non-null   object        \n",
      " 3   state           9637 non-null   object        \n",
      " 4   city            9637 non-null   object        \n",
      " 5   product         9637 non-null   object        \n",
      " 6   price_per_unit  9637 non-null   float64       \n",
      " 7   units_sold      9637 non-null   int64         \n",
      " 8   total_sales     9637 non-null   float64       \n",
      "dtypes: datetime64[ns](1), float64(2), int64(1), object(5)\n",
      "memory usage: 752.9+ KB\n"
     ]
    }
   ],
   "source": [
    "df.info()"
   ]
  },
  {
   "cell_type": "code",
   "execution_count": 25,
   "metadata": {},
   "outputs": [
    {
     "data": {
      "text/plain": [
       "region\n",
       "West         2446\n",
       "Northeast    2376\n",
       "Midwest      1865\n",
       "South        1726\n",
       "Southeast    1224\n",
       "Name: count, dtype: int64"
      ]
     },
     "execution_count": 25,
     "metadata": {},
     "output_type": "execute_result"
    }
   ],
   "source": [
    "df.region.value_counts()"
   ]
  },
  {
   "cell_type": "code",
   "execution_count": 26,
   "metadata": {},
   "outputs": [
    {
     "data": {
      "text/plain": [
       "state\n",
       "Texas             430\n",
       "California        430\n",
       "Florida           360\n",
       "New York          360\n",
       "Pennsylvania      216\n",
       "Arkansas          216\n",
       "Oklahoma          216\n",
       "Rhode Island      216\n",
       "Oregon            216\n",
       "Virginia          216\n",
       "Vermont           216\n",
       "Mississippi       216\n",
       "Idaho             216\n",
       "Utah              216\n",
       "New Hampshire     216\n",
       "Arizona           216\n",
       "Tennessee         216\n",
       "Massachusetts     216\n",
       "New Mexico        216\n",
       "Alabama           216\n",
       "Nevada            216\n",
       "Connecticut       216\n",
       "Georgia           216\n",
       "Louisiana         216\n",
       "Kentucky          144\n",
       "Colorado          144\n",
       "Washington        144\n",
       "West Virginia     144\n",
       "Wyoming           144\n",
       "Minnesota         144\n",
       "Montana           144\n",
       "Iowa              144\n",
       "Ohio              144\n",
       "North Dakota      144\n",
       "Alaska            144\n",
       "Wisconsin         144\n",
       "Michigan          144\n",
       "Maryland          144\n",
       "New Jersey        144\n",
       "Indiana           144\n",
       "Hawaii            144\n",
       "South Dakota      144\n",
       "Maine             144\n",
       "North Carolina    144\n",
       "Kansas            144\n",
       "Missouri          144\n",
       "Delaware          144\n",
       "South Carolina    144\n",
       "Illinois          141\n",
       "Nebraska          140\n",
       "Name: count, dtype: int64"
      ]
     },
     "execution_count": 26,
     "metadata": {},
     "output_type": "execute_result"
    }
   ],
   "source": [
    "df.state.value_counts()"
   ]
  },
  {
   "cell_type": "code",
   "execution_count": 27,
   "metadata": {},
   "outputs": [
    {
     "data": {
      "text/plain": [
       "city\n",
       "Portland          360\n",
       "Charleston        288\n",
       "Little Rock       216\n",
       "New York          216\n",
       "Boston            216\n",
       "Oklahoma City     216\n",
       "Providence        216\n",
       "Richmond          216\n",
       "Burlington        216\n",
       "Philadelphia      216\n",
       "Orlando           216\n",
       "Jackson           216\n",
       "Salt Lake City    216\n",
       "Manchester        216\n",
       "Phoenix           216\n",
       "Los Angeles       216\n",
       "Knoxville         216\n",
       "Birmingham        216\n",
       "Boise             216\n",
       "Albuquerque       216\n",
       "Dallas            216\n",
       "Las Vegas         216\n",
       "Hartford          216\n",
       "Atlanta           216\n",
       "New Orleans       216\n",
       "Houston           214\n",
       "San Francisco     214\n",
       "Wilmington        144\n",
       "Denver            144\n",
       "Miami             144\n",
       "Seattle           144\n",
       "Cheyenne          144\n",
       "Minneapolis       144\n",
       "Billings          144\n",
       "Des Moines        144\n",
       "Columbus          144\n",
       "Milwaukee         144\n",
       "Fargo             144\n",
       "Detroit           144\n",
       "Baltimore         144\n",
       "Indianapolis      144\n",
       "Newark            144\n",
       "Honolulu          144\n",
       "Albany            144\n",
       "Sioux Falls       144\n",
       "Charlotte         144\n",
       "Anchorage         144\n",
       "Wichita           144\n",
       "St. Louis         144\n",
       "Louisville        144\n",
       "Chicago           141\n",
       "Omaha             140\n",
       "Name: count, dtype: int64"
      ]
     },
     "execution_count": 27,
     "metadata": {},
     "output_type": "execute_result"
    }
   ],
   "source": [
    "df.city.value_counts()"
   ]
  },
  {
   "cell_type": "code",
   "execution_count": 28,
   "metadata": {},
   "outputs": [
    {
     "data": {
      "text/plain": [
       "product\n",
       "Men's Street Footwear        1610\n",
       "Men's Athletic Footwear      1608\n",
       "Women's Apparel              1607\n",
       "Women's Street Footwear      1606\n",
       "Men's Apparel                1604\n",
       "Women's Athletic Footwear    1601\n",
       "Men's aparel                    1\n",
       "Name: count, dtype: int64"
      ]
     },
     "execution_count": 28,
     "metadata": {},
     "output_type": "execute_result"
    }
   ],
   "source": [
    "df[\"product\"].value_counts()"
   ]
  },
  {
   "cell_type": "code",
   "execution_count": 29,
   "metadata": {},
   "outputs": [
    {
     "data": {
      "text/plain": [
       "product\n",
       "Men's Street Footwear        1610\n",
       "Men's Athletic Footwear      1608\n",
       "Women's Apparel              1607\n",
       "Women's Street Footwear      1606\n",
       "Men's Apparel                1605\n",
       "Women's Athletic Footwear    1601\n",
       "Name: count, dtype: int64"
      ]
     },
     "execution_count": 29,
     "metadata": {},
     "output_type": "execute_result"
    }
   ],
   "source": [
    "# Error de ortografía\n",
    "df[\"product\"] = df[\"product\"].replace({\"Men's aparel\": \"Men's Apparel\"})\n",
    "df[\"product\"].value_counts()"
   ]
  },
  {
   "cell_type": "code",
   "execution_count": 30,
   "metadata": {},
   "outputs": [
    {
     "data": {
      "text/plain": [
       "retailer\n",
       "Foot Locker      2630\n",
       "West Gear        2372\n",
       "Sports Direct    2030\n",
       "Kohl's           1030\n",
       "Amazon            949\n",
       "Walmart           626\n",
       "Name: count, dtype: int64"
      ]
     },
     "execution_count": 30,
     "metadata": {},
     "output_type": "execute_result"
    }
   ],
   "source": [
    "df.retailer.value_counts()"
   ]
  },
  {
   "cell_type": "markdown",
   "metadata": {},
   "source": [
    "----------"
   ]
  },
  {
   "cell_type": "markdown",
   "metadata": {},
   "source": [
    "- Vemos nuestro target ya habiendo limpiado nuestros nulos y recalculado el **\"total_sales\"**\n"
   ]
  },
  {
   "cell_type": "code",
   "execution_count": 31,
   "metadata": {},
   "outputs": [
    {
     "data": {
      "text/plain": [
       "<Axes: xlabel='total_sales', ylabel='Count'>"
      ]
     },
     "execution_count": 31,
     "metadata": {},
     "output_type": "execute_result"
    },
    {
     "data": {
      "image/png": "[encoded data removed]",
      "text/plain": [
       "<Figure size 640x480 with 1 Axes>"
      ]
     },
     "metadata": {},
     "output_type": "display_data"
    }
   ],
   "source": [
    "sns.histplot(df[\"total_sales\"], kde = True)"
   ]
  },
  {
   "cell_type": "code",
   "execution_count": 32,
   "metadata": {},
   "outputs": [
    {
     "data": {
      "text/plain": [
       "<Axes: xlabel='total_sales'>"
      ]
     },
     "execution_count": 32,
     "metadata": {},
     "output_type": "execute_result"
    },
    {
     "data": {
      "image/png": "[encoded data removed]",
      "text/plain": [
       "<Figure size 640x480 with 1 Axes>"
      ]
     },
     "metadata": {},
     "output_type": "display_data"
    }
   ],
   "source": [
    "sns.boxplot(x=df[\"total_sales\"])"
   ]
  },
  {
   "cell_type": "markdown",
   "metadata": {},
   "source": [
    "- Esta bien que antes de comenzar a profundizar, veamos el tipo de target que tenemos. Hay una distribución asimétrica porque habrán muchas tiendas que tengan niveles bajos o moderados. Pocas tiendas logran grandes facturaciones o en pocas ocasiones lo logran."
   ]
  },
  {
   "cell_type": "markdown",
   "metadata": {},
   "source": [
    "- Nuestro modelo puede verse afectado por esta distribución asimetrica, debemos hacer una transformación logaritmica o box-cox más adelante."
   ]
  },
  {
   "cell_type": "markdown",
   "metadata": {},
   "source": [
    "---------"
   ]
  },
  {
   "cell_type": "markdown",
   "metadata": {},
   "source": [
    "CREACION DE LOS DATASETS POR RETAILER"
   ]
  },
  {
   "cell_type": "code",
   "execution_count": 33,
   "metadata": {},
   "outputs": [
    {
     "data": {
      "text/plain": [
       "retailer\n",
       "Foot Locker      2630\n",
       "West Gear        2372\n",
       "Sports Direct    2030\n",
       "Kohl's           1030\n",
       "Amazon            949\n",
       "Walmart           626\n",
       "Name: count, dtype: int64"
      ]
     },
     "execution_count": 33,
     "metadata": {},
     "output_type": "execute_result"
    }
   ],
   "source": [
    "df[\"retailer\"].value_counts()"
   ]
  },
  {
   "cell_type": "code",
   "execution_count": 34,
   "metadata": {},
   "outputs": [],
   "source": [
    "df_footlocker = df[df[\"retailer\"] == \"Foot Locker\"]\n",
    "df_westgear = df[df[\"retailer\"] == \"West Gear\"]\n",
    "df_sportsdirect = df[df[\"retailer\"] == \"Sports Direct\"]\n",
    "df_kohls = df[df[\"retailer\"] == \"Kohl's\"]\n",
    "df_amazon = df[df[\"retailer\"] == \"Amazon\"]\n",
    "df_walmart = df[df[\"retailer\"] == \"Walmart\"]"
   ]
  },
  {
   "cell_type": "code",
   "execution_count": 35,
   "metadata": {},
   "outputs": [],
   "source": [
    "# Comentamos el código para no ejecutarlo de nuevo, pero este sería el dataset limpiado\n",
    "# df.to_csv(\"../data/adidas_sales_cleaned_last4.csv\", index=False)"
   ]
  },
  {
   "cell_type": "code",
   "execution_count": 36,
   "metadata": {},
   "outputs": [
    {
     "name": "stdout",
     "output_type": "stream",
     "text": [
      "---Foot Locker---\n",
      "count     2630.000000\n",
      "mean     11028.496198\n",
      "std      12328.590997\n",
      "min        160.000000\n",
      "25%       3185.250000\n",
      "50%       6689.500000\n",
      "75%      13500.000000\n",
      "max      76500.000000\n",
      "Name: total_sales, dtype: float64\n",
      "---West Gear---\n",
      "count     2372.000000\n",
      "mean     13624.708263\n",
      "std      14074.800399\n",
      "min        203.000000\n",
      "25%       4263.750000\n",
      "50%       8537.000000\n",
      "75%      16855.500000\n",
      "max      82500.000000\n",
      "Name: total_sales, dtype: float64\n",
      "---Sports Direct---\n",
      "count     2030.000000\n",
      "mean     12097.535468\n",
      "std      11682.592391\n",
      "min        528.000000\n",
      "25%       4224.000000\n",
      "50%       7522.000000\n",
      "75%      15750.000000\n",
      "max      69875.000000\n",
      "Name: total_sales, dtype: float64\n",
      "---Kohl's---\n",
      "count     1030.000000\n",
      "mean     13118.886408\n",
      "std      11122.789865\n",
      "min        520.000000\n",
      "25%       5336.750000\n",
      "50%       8243.000000\n",
      "75%      20000.000000\n",
      "max      52000.000000\n",
      "Name: total_sales, dtype: float64\n",
      "---Amazon---\n",
      "count      949.000000\n",
      "mean     10639.606955\n",
      "std       9957.157975\n",
      "min        416.000000\n",
      "25%       3731.000000\n",
      "50%       6875.000000\n",
      "75%      14375.000000\n",
      "max      61875.000000\n",
      "Name: total_sales, dtype: float64\n",
      "---Walmart---\n",
      "count      626.000000\n",
      "mean     16782.883387\n",
      "std      16223.607566\n",
      "min        880.000000\n",
      "25%       6240.000000\n",
      "50%      10477.000000\n",
      "75%      21093.750000\n",
      "max      82500.000000\n",
      "Name: total_sales, dtype: float64\n"
     ]
    }
   ],
   "source": [
    "print(\"---Foot Locker---\")\n",
    "print(df_footlocker[\"total_sales\"].describe())\n",
    "print(\"---West Gear---\")\n",
    "print(df_westgear[\"total_sales\"].describe())\n",
    "print(\"---Sports Direct---\")\n",
    "print(df_sportsdirect[\"total_sales\"].describe())\n",
    "print(\"---Kohl's---\")\n",
    "print(df_kohls[\"total_sales\"].describe())\n",
    "print(\"---Amazon---\")\n",
    "print(df_amazon[\"total_sales\"].describe())\n",
    "print(\"---Walmart---\")\n",
    "print(df_walmart[\"total_sales\"].describe())\n"
   ]
  },
  {
   "cell_type": "markdown",
   "metadata": {},
   "source": [
    "- Todas las tiendas con su Dataset por si hay que utilizarlo:"
   ]
  },
  {
   "cell_type": "code",
   "execution_count": 37,
   "metadata": {},
   "outputs": [],
   "source": [
    "# df_footlocker.to_csv(\"../data/adidas_sales_footlocker.csv\", index=False)\n",
    "# df_westgear.to_csv(\"../data/adidas_sales_westgear.csv\", index=False)\n",
    "# df_sportsdirect.to_csv(\"../data/adidas_sales_sportsdirect.csv\", index=False)\n",
    "# df_kohls.to_csv(\"../data/adidas_sales_kohls.csv\", index=False)\n",
    "# df_amazon.to_csv(\"../data/adidas_sales_amazon.csv\", index=False)\n",
    "# df_walmart.to_csv(\"../data/adidas_sales_walmart.csv\", index=False)"
   ]
  },
  {
   "cell_type": "markdown",
   "metadata": {},
   "source": [
    "# ✅ Step 4: Train y Test.\n"
   ]
  },
  {
   "cell_type": "code",
   "execution_count": 38,
   "metadata": {},
   "outputs": [],
   "source": [
    "df_cleaned = pd.read_csv(\"../data/adidas_sales_cleaned_last4.csv\", parse_dates=[\"invoice_date\"], index_col=False)"
   ]
  },
  {
   "cell_type": "code",
   "execution_count": 39,
   "metadata": {},
   "outputs": [
    {
     "data": {
      "text/html": [
       "<div>\n",
       "<style scoped>\n",
       "    .dataframe tbody tr th:only-of-type {\n",
       "        vertical-align: middle;\n",
       "    }\n",
       "\n",
       "    .dataframe tbody tr th {\n",
       "        vertical-align: top;\n",
       "    }\n",
       "\n",
       "    .dataframe thead th {\n",
       "        text-align: right;\n",
       "    }\n",
       "</style>\n",
       "<table border=\"1\" class=\"dataframe\">\n",
       "  <thead>\n",
       "    <tr style=\"text-align: right;\">\n",
       "      <th></th>\n",
       "      <th>retailer</th>\n",
       "      <th>invoice_date</th>\n",
       "      <th>region</th>\n",
       "      <th>state</th>\n",
       "      <th>city</th>\n",
       "      <th>product</th>\n",
       "      <th>price_per_unit</th>\n",
       "      <th>units_sold</th>\n",
       "      <th>total_sales</th>\n",
       "    </tr>\n",
       "  </thead>\n",
       "  <tbody>\n",
       "    <tr>\n",
       "      <th>0</th>\n",
       "      <td>Foot Locker</td>\n",
       "      <td>2020-01-01</td>\n",
       "      <td>Northeast</td>\n",
       "      <td>Pennsylvania</td>\n",
       "      <td>Philadelphia</td>\n",
       "      <td>Women's Apparel</td>\n",
       "      <td>75.0</td>\n",
       "      <td>275</td>\n",
       "      <td>20625.0</td>\n",
       "    </tr>\n",
       "    <tr>\n",
       "      <th>1</th>\n",
       "      <td>Foot Locker</td>\n",
       "      <td>2020-01-01</td>\n",
       "      <td>Northeast</td>\n",
       "      <td>Pennsylvania</td>\n",
       "      <td>Philadelphia</td>\n",
       "      <td>Women's Apparel</td>\n",
       "      <td>53.0</td>\n",
       "      <td>83</td>\n",
       "      <td>4399.0</td>\n",
       "    </tr>\n",
       "    <tr>\n",
       "      <th>2</th>\n",
       "      <td>Foot Locker</td>\n",
       "      <td>2020-01-01</td>\n",
       "      <td>Northeast</td>\n",
       "      <td>New York</td>\n",
       "      <td>New York</td>\n",
       "      <td>Men's Street Footwear</td>\n",
       "      <td>34.0</td>\n",
       "      <td>384</td>\n",
       "      <td>13056.0</td>\n",
       "    </tr>\n",
       "    <tr>\n",
       "      <th>3</th>\n",
       "      <td>Foot Locker</td>\n",
       "      <td>2020-01-01</td>\n",
       "      <td>Northeast</td>\n",
       "      <td>Pennsylvania</td>\n",
       "      <td>Philadelphia</td>\n",
       "      <td>Women's Apparel</td>\n",
       "      <td>68.0</td>\n",
       "      <td>83</td>\n",
       "      <td>5644.0</td>\n",
       "    </tr>\n",
       "    <tr>\n",
       "      <th>4</th>\n",
       "      <td>Foot Locker</td>\n",
       "      <td>2020-01-01</td>\n",
       "      <td>Northeast</td>\n",
       "      <td>New York</td>\n",
       "      <td>New York</td>\n",
       "      <td>Men's Street Footwear</td>\n",
       "      <td>47.0</td>\n",
       "      <td>336</td>\n",
       "      <td>15792.0</td>\n",
       "    </tr>\n",
       "    <tr>\n",
       "      <th>...</th>\n",
       "      <td>...</td>\n",
       "      <td>...</td>\n",
       "      <td>...</td>\n",
       "      <td>...</td>\n",
       "      <td>...</td>\n",
       "      <td>...</td>\n",
       "      <td>...</td>\n",
       "      <td>...</td>\n",
       "      <td>...</td>\n",
       "    </tr>\n",
       "    <tr>\n",
       "      <th>9632</th>\n",
       "      <td>Foot Locker</td>\n",
       "      <td>2021-12-31</td>\n",
       "      <td>Northeast</td>\n",
       "      <td>Pennsylvania</td>\n",
       "      <td>Philadelphia</td>\n",
       "      <td>Men's Apparel</td>\n",
       "      <td>63.0</td>\n",
       "      <td>47</td>\n",
       "      <td>2961.0</td>\n",
       "    </tr>\n",
       "    <tr>\n",
       "      <th>9633</th>\n",
       "      <td>Amazon</td>\n",
       "      <td>2021-12-31</td>\n",
       "      <td>Northeast</td>\n",
       "      <td>Maine</td>\n",
       "      <td>Portland</td>\n",
       "      <td>Men's Apparel</td>\n",
       "      <td>55.0</td>\n",
       "      <td>125</td>\n",
       "      <td>6875.0</td>\n",
       "    </tr>\n",
       "    <tr>\n",
       "      <th>9634</th>\n",
       "      <td>Foot Locker</td>\n",
       "      <td>2021-12-31</td>\n",
       "      <td>Northeast</td>\n",
       "      <td>Pennsylvania</td>\n",
       "      <td>Philadelphia</td>\n",
       "      <td>Men's Apparel</td>\n",
       "      <td>46.0</td>\n",
       "      <td>56</td>\n",
       "      <td>2576.0</td>\n",
       "    </tr>\n",
       "    <tr>\n",
       "      <th>9635</th>\n",
       "      <td>Amazon</td>\n",
       "      <td>2021-12-31</td>\n",
       "      <td>Northeast</td>\n",
       "      <td>Maine</td>\n",
       "      <td>Portland</td>\n",
       "      <td>Men's Apparel</td>\n",
       "      <td>52.0</td>\n",
       "      <td>36</td>\n",
       "      <td>1872.0</td>\n",
       "    </tr>\n",
       "    <tr>\n",
       "      <th>9636</th>\n",
       "      <td>Foot Locker</td>\n",
       "      <td>2021-12-31</td>\n",
       "      <td>Northeast</td>\n",
       "      <td>Pennsylvania</td>\n",
       "      <td>Philadelphia</td>\n",
       "      <td>Men's Apparel</td>\n",
       "      <td>70.0</td>\n",
       "      <td>175</td>\n",
       "      <td>12250.0</td>\n",
       "    </tr>\n",
       "  </tbody>\n",
       "</table>\n",
       "<p>9637 rows × 9 columns</p>\n",
       "</div>"
      ],
      "text/plain": [
       "         retailer invoice_date     region         state          city  \\\n",
       "0     Foot Locker   2020-01-01  Northeast  Pennsylvania  Philadelphia   \n",
       "1     Foot Locker   2020-01-01  Northeast  Pennsylvania  Philadelphia   \n",
       "2     Foot Locker   2020-01-01  Northeast      New York      New York   \n",
       "3     Foot Locker   2020-01-01  Northeast  Pennsylvania  Philadelphia   \n",
       "4     Foot Locker   2020-01-01  Northeast      New York      New York   \n",
       "...           ...          ...        ...           ...           ...   \n",
       "9632  Foot Locker   2021-12-31  Northeast  Pennsylvania  Philadelphia   \n",
       "9633       Amazon   2021-12-31  Northeast         Maine      Portland   \n",
       "9634  Foot Locker   2021-12-31  Northeast  Pennsylvania  Philadelphia   \n",
       "9635       Amazon   2021-12-31  Northeast         Maine      Portland   \n",
       "9636  Foot Locker   2021-12-31  Northeast  Pennsylvania  Philadelphia   \n",
       "\n",
       "                    product  price_per_unit  units_sold  total_sales  \n",
       "0           Women's Apparel            75.0         275      20625.0  \n",
       "1           Women's Apparel            53.0          83       4399.0  \n",
       "2     Men's Street Footwear            34.0         384      13056.0  \n",
       "3           Women's Apparel            68.0          83       5644.0  \n",
       "4     Men's Street Footwear            47.0         336      15792.0  \n",
       "...                     ...             ...         ...          ...  \n",
       "9632          Men's Apparel            63.0          47       2961.0  \n",
       "9633          Men's Apparel            55.0         125       6875.0  \n",
       "9634          Men's Apparel            46.0          56       2576.0  \n",
       "9635          Men's Apparel            52.0          36       1872.0  \n",
       "9636          Men's Apparel            70.0         175      12250.0  \n",
       "\n",
       "[9637 rows x 9 columns]"
      ]
     },
     "execution_count": 39,
     "metadata": {},
     "output_type": "execute_result"
    }
   ],
   "source": [
    "df_cleaned"
   ]
  },
  {
   "cell_type": "code",
   "execution_count": 40,
   "metadata": {},
   "outputs": [
    {
     "name": "stdout",
     "output_type": "stream",
     "text": [
      "<class 'pandas.core.frame.DataFrame'>\n",
      "RangeIndex: 9637 entries, 0 to 9636\n",
      "Data columns (total 9 columns):\n",
      " #   Column          Non-Null Count  Dtype         \n",
      "---  ------          --------------  -----         \n",
      " 0   retailer        9637 non-null   object        \n",
      " 1   invoice_date    9637 non-null   datetime64[ns]\n",
      " 2   region          9637 non-null   object        \n",
      " 3   state           9637 non-null   object        \n",
      " 4   city            9637 non-null   object        \n",
      " 5   product         9637 non-null   object        \n",
      " 6   price_per_unit  9637 non-null   float64       \n",
      " 7   units_sold      9637 non-null   int64         \n",
      " 8   total_sales     9637 non-null   float64       \n",
      "dtypes: datetime64[ns](1), float64(2), int64(1), object(5)\n",
      "memory usage: 677.7+ KB\n"
     ]
    }
   ],
   "source": [
    "df_cleaned.info()"
   ]
  },
  {
   "cell_type": "markdown",
   "metadata": {},
   "source": [
    "A. PREDECIR LA FACTURACIÓN DE LAS TIENDAS DISTRIBUIDORAS"
   ]
  },
  {
   "cell_type": "code",
   "execution_count": 41,
   "metadata": {},
   "outputs": [],
   "source": [
    "X = df_cleaned.drop(columns=[\"total_sales\", \"units_sold\"])\n",
    "y = df_cleaned[\"total_sales\"]\n",
    "\n",
    "X_train, X_test, y_train, y_test = train_test_split(X, y, test_size=0.2, random_state=42)"
   ]
  },
  {
   "cell_type": "markdown",
   "metadata": {},
   "source": [
    "- A nuestra **X** le hemos quitado el target y ***\"units_sold\"*** porque no sabremos las unidades vendidas. He decidido dejar \"price_per_unit\" porque el precio por unidad si lo conocemos."
   ]
  },
  {
   "cell_type": "markdown",
   "metadata": {},
   "source": [
    "----------------"
   ]
  },
  {
   "cell_type": "markdown",
   "metadata": {},
   "source": [
    "# ✅ Step 5: Mini Eda + Preparación del dataset\n"
   ]
  },
  {
   "cell_type": "markdown",
   "metadata": {},
   "source": [
    "A. PREDECIR LA FACTURACIÓN DE LAS TIENDAS DISTRIBUIDORAS"
   ]
  },
  {
   "cell_type": "code",
   "execution_count": 42,
   "metadata": {},
   "outputs": [
    {
     "data": {
      "text/plain": [
       "Index(['retailer', 'invoice_date', 'region', 'state', 'city', 'product',\n",
       "       'price_per_unit'],\n",
       "      dtype='object')"
      ]
     },
     "execution_count": 42,
     "metadata": {},
     "output_type": "execute_result"
    }
   ],
   "source": [
    "X_train.columns"
   ]
  },
  {
   "cell_type": "markdown",
   "metadata": {},
   "source": [
    "- Conocemos las columnas de **X_train**\n",
    "- Sumamos algunas columnas nuevas como ***\"month\"*** y ***\"day_of_week\"***\n",
    "- Eliminamos columnas no relevantes"
   ]
  },
  {
   "cell_type": "code",
   "execution_count": 43,
   "metadata": {},
   "outputs": [],
   "source": [
    "X_train[\"month\"] = X_train[\"invoice_date\"].dt.month\n",
    "X_train[\"day_of_week\"] = X_train[\"invoice_date\"].dt.dayofweek  # Lunes=0, Domingo=6\n",
    "\n",
    "X_test[\"month\"] = X_test[\"invoice_date\"].dt.month\n",
    "X_test[\"day_of_week\"] = X_test[\"invoice_date\"].dt.dayofweek  # Lunes=0, Domingo=6"
   ]
  },
  {
   "cell_type": "code",
   "execution_count": 44,
   "metadata": {},
   "outputs": [],
   "source": [
    "X_train = X_train.drop(columns=[\"invoice_date\", \"city\", \"units_sold\"], errors=\"ignore\")\n",
    "X_test = X_test.drop(columns=[\"invoice_date\", \"city\", \"units_sold\"], errors=\"ignore\")"
   ]
  },
  {
   "cell_type": "code",
   "execution_count": 45,
   "metadata": {},
   "outputs": [
    {
     "data": {
      "text/html": [
       "<div>\n",
       "<style scoped>\n",
       "    .dataframe tbody tr th:only-of-type {\n",
       "        vertical-align: middle;\n",
       "    }\n",
       "\n",
       "    .dataframe tbody tr th {\n",
       "        vertical-align: top;\n",
       "    }\n",
       "\n",
       "    .dataframe thead th {\n",
       "        text-align: right;\n",
       "    }\n",
       "</style>\n",
       "<table border=\"1\" class=\"dataframe\">\n",
       "  <thead>\n",
       "    <tr style=\"text-align: right;\">\n",
       "      <th></th>\n",
       "      <th>retailer</th>\n",
       "      <th>region</th>\n",
       "      <th>state</th>\n",
       "      <th>product</th>\n",
       "      <th>price_per_unit</th>\n",
       "      <th>month</th>\n",
       "      <th>day_of_week</th>\n",
       "    </tr>\n",
       "  </thead>\n",
       "  <tbody>\n",
       "    <tr>\n",
       "      <th>485</th>\n",
       "      <td>West Gear</td>\n",
       "      <td>Southeast</td>\n",
       "      <td>Florida</td>\n",
       "      <td>Men's Apparel</td>\n",
       "      <td>60.0</td>\n",
       "      <td>4</td>\n",
       "      <td>4</td>\n",
       "    </tr>\n",
       "    <tr>\n",
       "      <th>6472</th>\n",
       "      <td>Sports Direct</td>\n",
       "      <td>South</td>\n",
       "      <td>Texas</td>\n",
       "      <td>Men's Apparel</td>\n",
       "      <td>26.0</td>\n",
       "      <td>8</td>\n",
       "      <td>6</td>\n",
       "    </tr>\n",
       "    <tr>\n",
       "      <th>1222</th>\n",
       "      <td>Foot Locker</td>\n",
       "      <td>Midwest</td>\n",
       "      <td>Minnesota</td>\n",
       "      <td>Men's Apparel</td>\n",
       "      <td>35.0</td>\n",
       "      <td>12</td>\n",
       "      <td>1</td>\n",
       "    </tr>\n",
       "    <tr>\n",
       "      <th>5608</th>\n",
       "      <td>West Gear</td>\n",
       "      <td>Northeast</td>\n",
       "      <td>New York</td>\n",
       "      <td>Women's Apparel</td>\n",
       "      <td>66.0</td>\n",
       "      <td>7</td>\n",
       "      <td>3</td>\n",
       "    </tr>\n",
       "    <tr>\n",
       "      <th>2855</th>\n",
       "      <td>Kohl's</td>\n",
       "      <td>Midwest</td>\n",
       "      <td>Montana</td>\n",
       "      <td>Women's Apparel</td>\n",
       "      <td>55.0</td>\n",
       "      <td>3</td>\n",
       "      <td>1</td>\n",
       "    </tr>\n",
       "    <tr>\n",
       "      <th>...</th>\n",
       "      <td>...</td>\n",
       "      <td>...</td>\n",
       "      <td>...</td>\n",
       "      <td>...</td>\n",
       "      <td>...</td>\n",
       "      <td>...</td>\n",
       "      <td>...</td>\n",
       "    </tr>\n",
       "    <tr>\n",
       "      <th>5734</th>\n",
       "      <td>Kohl's</td>\n",
       "      <td>Midwest</td>\n",
       "      <td>Kansas</td>\n",
       "      <td>Men's Athletic Footwear</td>\n",
       "      <td>49.0</td>\n",
       "      <td>7</td>\n",
       "      <td>0</td>\n",
       "    </tr>\n",
       "    <tr>\n",
       "      <th>5191</th>\n",
       "      <td>Sports Direct</td>\n",
       "      <td>Midwest</td>\n",
       "      <td>Michigan</td>\n",
       "      <td>Women's Street Footwear</td>\n",
       "      <td>41.0</td>\n",
       "      <td>6</td>\n",
       "      <td>3</td>\n",
       "    </tr>\n",
       "    <tr>\n",
       "      <th>5390</th>\n",
       "      <td>West Gear</td>\n",
       "      <td>West</td>\n",
       "      <td>Oregon</td>\n",
       "      <td>Men's Apparel</td>\n",
       "      <td>86.0</td>\n",
       "      <td>6</td>\n",
       "      <td>3</td>\n",
       "    </tr>\n",
       "    <tr>\n",
       "      <th>860</th>\n",
       "      <td>Walmart</td>\n",
       "      <td>South</td>\n",
       "      <td>Texas</td>\n",
       "      <td>Men's Apparel</td>\n",
       "      <td>45.0</td>\n",
       "      <td>8</td>\n",
       "      <td>6</td>\n",
       "    </tr>\n",
       "    <tr>\n",
       "      <th>7270</th>\n",
       "      <td>Walmart</td>\n",
       "      <td>Southeast</td>\n",
       "      <td>Florida</td>\n",
       "      <td>Women's Street Footwear</td>\n",
       "      <td>39.0</td>\n",
       "      <td>9</td>\n",
       "      <td>5</td>\n",
       "    </tr>\n",
       "  </tbody>\n",
       "</table>\n",
       "<p>7709 rows × 7 columns</p>\n",
       "</div>"
      ],
      "text/plain": [
       "           retailer     region      state                  product  \\\n",
       "485       West Gear  Southeast    Florida            Men's Apparel   \n",
       "6472  Sports Direct      South      Texas            Men's Apparel   \n",
       "1222    Foot Locker    Midwest  Minnesota            Men's Apparel   \n",
       "5608      West Gear  Northeast   New York          Women's Apparel   \n",
       "2855         Kohl's    Midwest    Montana          Women's Apparel   \n",
       "...             ...        ...        ...                      ...   \n",
       "5734         Kohl's    Midwest     Kansas  Men's Athletic Footwear   \n",
       "5191  Sports Direct    Midwest   Michigan  Women's Street Footwear   \n",
       "5390      West Gear       West     Oregon            Men's Apparel   \n",
       "860         Walmart      South      Texas            Men's Apparel   \n",
       "7270        Walmart  Southeast    Florida  Women's Street Footwear   \n",
       "\n",
       "      price_per_unit  month  day_of_week  \n",
       "485             60.0      4            4  \n",
       "6472            26.0      8            6  \n",
       "1222            35.0     12            1  \n",
       "5608            66.0      7            3  \n",
       "2855            55.0      3            1  \n",
       "...              ...    ...          ...  \n",
       "5734            49.0      7            0  \n",
       "5191            41.0      6            3  \n",
       "5390            86.0      6            3  \n",
       "860             45.0      8            6  \n",
       "7270            39.0      9            5  \n",
       "\n",
       "[7709 rows x 7 columns]"
      ]
     },
     "execution_count": 45,
     "metadata": {},
     "output_type": "execute_result"
    }
   ],
   "source": [
    "X_train"
   ]
  },
  {
   "cell_type": "markdown",
   "metadata": {},
   "source": [
    "- Queremos hacer varios **X_train**, en este caso vamos a hacer un *Column Transform* para que nuestros modelos de **XGBoost** y **Random Forest** puedan trabajar mejor."
   ]
  },
  {
   "cell_type": "code",
   "execution_count": 77,
   "metadata": {},
   "outputs": [],
   "source": [
    "categorical_features = ['retailer', 'region', 'state', 'product', 'day_of_week', \"month\"]\n",
    "numeric_features = ['price_per_unit']"
   ]
  },
  {
   "cell_type": "code",
   "execution_count": 47,
   "metadata": {},
   "outputs": [],
   "source": [
    "preprocessor = ColumnTransformer(\n",
    "     transformers=[\n",
    "      (\"num\", \"passthrough\", numeric_features),\n",
    "      ('cat', OneHotEncoder(handle_unknown='ignore', sparse_output=False), categorical_features)])\n",
    "\n",
    "X_train_preprocessed = preprocessor.fit_transform(X_train)\n",
    "X_test_preprocessed = preprocessor.transform(X_test)\n",
    "\n",
    "ohe_columns = preprocessor.named_transformers_['cat'].get_feature_names_out(input_features=categorical_features)\n",
    "ohe_columns_clean = np.char.replace(ohe_columns.astype(str), ' ', '_')\n",
    "all_columns_clean = np.concatenate([numeric_features, ohe_columns_clean])\n",
    "\n",
    "X_train_df = pd.DataFrame(X_train_preprocessed, columns=all_columns_clean, index=X_train.index)\n",
    "X_test_df = pd.DataFrame(X_test_preprocessed, columns=all_columns_clean, index=X_test.index)"
   ]
  },
  {
   "cell_type": "code",
   "execution_count": 48,
   "metadata": {},
   "outputs": [
    {
     "data": {
      "text/html": [
       "<div>\n",
       "<style scoped>\n",
       "    .dataframe tbody tr th:only-of-type {\n",
       "        vertical-align: middle;\n",
       "    }\n",
       "\n",
       "    .dataframe tbody tr th {\n",
       "        vertical-align: top;\n",
       "    }\n",
       "\n",
       "    .dataframe thead th {\n",
       "        text-align: right;\n",
       "    }\n",
       "</style>\n",
       "<table border=\"1\" class=\"dataframe\">\n",
       "  <thead>\n",
       "    <tr style=\"text-align: right;\">\n",
       "      <th></th>\n",
       "      <th>price_per_unit</th>\n",
       "      <th>retailer_Amazon</th>\n",
       "      <th>retailer_Foot_Locker</th>\n",
       "      <th>retailer_Kohl's</th>\n",
       "      <th>retailer_Sports_Direct</th>\n",
       "      <th>retailer_Walmart</th>\n",
       "      <th>retailer_West_Gear</th>\n",
       "      <th>region_Midwest</th>\n",
       "      <th>region_Northeast</th>\n",
       "      <th>region_South</th>\n",
       "      <th>...</th>\n",
       "      <th>month_3</th>\n",
       "      <th>month_4</th>\n",
       "      <th>month_5</th>\n",
       "      <th>month_6</th>\n",
       "      <th>month_7</th>\n",
       "      <th>month_8</th>\n",
       "      <th>month_9</th>\n",
       "      <th>month_10</th>\n",
       "      <th>month_11</th>\n",
       "      <th>month_12</th>\n",
       "    </tr>\n",
       "  </thead>\n",
       "  <tbody>\n",
       "    <tr>\n",
       "      <th>485</th>\n",
       "      <td>60.0</td>\n",
       "      <td>0.0</td>\n",
       "      <td>0.0</td>\n",
       "      <td>0.0</td>\n",
       "      <td>0.0</td>\n",
       "      <td>0.0</td>\n",
       "      <td>1.0</td>\n",
       "      <td>0.0</td>\n",
       "      <td>0.0</td>\n",
       "      <td>0.0</td>\n",
       "      <td>...</td>\n",
       "      <td>0.0</td>\n",
       "      <td>1.0</td>\n",
       "      <td>0.0</td>\n",
       "      <td>0.0</td>\n",
       "      <td>0.0</td>\n",
       "      <td>0.0</td>\n",
       "      <td>0.0</td>\n",
       "      <td>0.0</td>\n",
       "      <td>0.0</td>\n",
       "      <td>0.0</td>\n",
       "    </tr>\n",
       "    <tr>\n",
       "      <th>6472</th>\n",
       "      <td>26.0</td>\n",
       "      <td>0.0</td>\n",
       "      <td>0.0</td>\n",
       "      <td>0.0</td>\n",
       "      <td>1.0</td>\n",
       "      <td>0.0</td>\n",
       "      <td>0.0</td>\n",
       "      <td>0.0</td>\n",
       "      <td>0.0</td>\n",
       "      <td>1.0</td>\n",
       "      <td>...</td>\n",
       "      <td>0.0</td>\n",
       "      <td>0.0</td>\n",
       "      <td>0.0</td>\n",
       "      <td>0.0</td>\n",
       "      <td>0.0</td>\n",
       "      <td>1.0</td>\n",
       "      <td>0.0</td>\n",
       "      <td>0.0</td>\n",
       "      <td>0.0</td>\n",
       "      <td>0.0</td>\n",
       "    </tr>\n",
       "    <tr>\n",
       "      <th>1222</th>\n",
       "      <td>35.0</td>\n",
       "      <td>0.0</td>\n",
       "      <td>1.0</td>\n",
       "      <td>0.0</td>\n",
       "      <td>0.0</td>\n",
       "      <td>0.0</td>\n",
       "      <td>0.0</td>\n",
       "      <td>1.0</td>\n",
       "      <td>0.0</td>\n",
       "      <td>0.0</td>\n",
       "      <td>...</td>\n",
       "      <td>0.0</td>\n",
       "      <td>0.0</td>\n",
       "      <td>0.0</td>\n",
       "      <td>0.0</td>\n",
       "      <td>0.0</td>\n",
       "      <td>0.0</td>\n",
       "      <td>0.0</td>\n",
       "      <td>0.0</td>\n",
       "      <td>0.0</td>\n",
       "      <td>1.0</td>\n",
       "    </tr>\n",
       "    <tr>\n",
       "      <th>5608</th>\n",
       "      <td>66.0</td>\n",
       "      <td>0.0</td>\n",
       "      <td>0.0</td>\n",
       "      <td>0.0</td>\n",
       "      <td>0.0</td>\n",
       "      <td>0.0</td>\n",
       "      <td>1.0</td>\n",
       "      <td>0.0</td>\n",
       "      <td>1.0</td>\n",
       "      <td>0.0</td>\n",
       "      <td>...</td>\n",
       "      <td>0.0</td>\n",
       "      <td>0.0</td>\n",
       "      <td>0.0</td>\n",
       "      <td>0.0</td>\n",
       "      <td>1.0</td>\n",
       "      <td>0.0</td>\n",
       "      <td>0.0</td>\n",
       "      <td>0.0</td>\n",
       "      <td>0.0</td>\n",
       "      <td>0.0</td>\n",
       "    </tr>\n",
       "    <tr>\n",
       "      <th>2855</th>\n",
       "      <td>55.0</td>\n",
       "      <td>0.0</td>\n",
       "      <td>0.0</td>\n",
       "      <td>1.0</td>\n",
       "      <td>0.0</td>\n",
       "      <td>0.0</td>\n",
       "      <td>0.0</td>\n",
       "      <td>1.0</td>\n",
       "      <td>0.0</td>\n",
       "      <td>0.0</td>\n",
       "      <td>...</td>\n",
       "      <td>1.0</td>\n",
       "      <td>0.0</td>\n",
       "      <td>0.0</td>\n",
       "      <td>0.0</td>\n",
       "      <td>0.0</td>\n",
       "      <td>0.0</td>\n",
       "      <td>0.0</td>\n",
       "      <td>0.0</td>\n",
       "      <td>0.0</td>\n",
       "      <td>0.0</td>\n",
       "    </tr>\n",
       "    <tr>\n",
       "      <th>...</th>\n",
       "      <td>...</td>\n",
       "      <td>...</td>\n",
       "      <td>...</td>\n",
       "      <td>...</td>\n",
       "      <td>...</td>\n",
       "      <td>...</td>\n",
       "      <td>...</td>\n",
       "      <td>...</td>\n",
       "      <td>...</td>\n",
       "      <td>...</td>\n",
       "      <td>...</td>\n",
       "      <td>...</td>\n",
       "      <td>...</td>\n",
       "      <td>...</td>\n",
       "      <td>...</td>\n",
       "      <td>...</td>\n",
       "      <td>...</td>\n",
       "      <td>...</td>\n",
       "      <td>...</td>\n",
       "      <td>...</td>\n",
       "      <td>...</td>\n",
       "    </tr>\n",
       "    <tr>\n",
       "      <th>5734</th>\n",
       "      <td>49.0</td>\n",
       "      <td>0.0</td>\n",
       "      <td>0.0</td>\n",
       "      <td>1.0</td>\n",
       "      <td>0.0</td>\n",
       "      <td>0.0</td>\n",
       "      <td>0.0</td>\n",
       "      <td>1.0</td>\n",
       "      <td>0.0</td>\n",
       "      <td>0.0</td>\n",
       "      <td>...</td>\n",
       "      <td>0.0</td>\n",
       "      <td>0.0</td>\n",
       "      <td>0.0</td>\n",
       "      <td>0.0</td>\n",
       "      <td>1.0</td>\n",
       "      <td>0.0</td>\n",
       "      <td>0.0</td>\n",
       "      <td>0.0</td>\n",
       "      <td>0.0</td>\n",
       "      <td>0.0</td>\n",
       "    </tr>\n",
       "    <tr>\n",
       "      <th>5191</th>\n",
       "      <td>41.0</td>\n",
       "      <td>0.0</td>\n",
       "      <td>0.0</td>\n",
       "      <td>0.0</td>\n",
       "      <td>1.0</td>\n",
       "      <td>0.0</td>\n",
       "      <td>0.0</td>\n",
       "      <td>1.0</td>\n",
       "      <td>0.0</td>\n",
       "      <td>0.0</td>\n",
       "      <td>...</td>\n",
       "      <td>0.0</td>\n",
       "      <td>0.0</td>\n",
       "      <td>0.0</td>\n",
       "      <td>1.0</td>\n",
       "      <td>0.0</td>\n",
       "      <td>0.0</td>\n",
       "      <td>0.0</td>\n",
       "      <td>0.0</td>\n",
       "      <td>0.0</td>\n",
       "      <td>0.0</td>\n",
       "    </tr>\n",
       "    <tr>\n",
       "      <th>5390</th>\n",
       "      <td>86.0</td>\n",
       "      <td>0.0</td>\n",
       "      <td>0.0</td>\n",
       "      <td>0.0</td>\n",
       "      <td>0.0</td>\n",
       "      <td>0.0</td>\n",
       "      <td>1.0</td>\n",
       "      <td>0.0</td>\n",
       "      <td>0.0</td>\n",
       "      <td>0.0</td>\n",
       "      <td>...</td>\n",
       "      <td>0.0</td>\n",
       "      <td>0.0</td>\n",
       "      <td>0.0</td>\n",
       "      <td>1.0</td>\n",
       "      <td>0.0</td>\n",
       "      <td>0.0</td>\n",
       "      <td>0.0</td>\n",
       "      <td>0.0</td>\n",
       "      <td>0.0</td>\n",
       "      <td>0.0</td>\n",
       "    </tr>\n",
       "    <tr>\n",
       "      <th>860</th>\n",
       "      <td>45.0</td>\n",
       "      <td>0.0</td>\n",
       "      <td>0.0</td>\n",
       "      <td>0.0</td>\n",
       "      <td>0.0</td>\n",
       "      <td>1.0</td>\n",
       "      <td>0.0</td>\n",
       "      <td>0.0</td>\n",
       "      <td>0.0</td>\n",
       "      <td>1.0</td>\n",
       "      <td>...</td>\n",
       "      <td>0.0</td>\n",
       "      <td>0.0</td>\n",
       "      <td>0.0</td>\n",
       "      <td>0.0</td>\n",
       "      <td>0.0</td>\n",
       "      <td>1.0</td>\n",
       "      <td>0.0</td>\n",
       "      <td>0.0</td>\n",
       "      <td>0.0</td>\n",
       "      <td>0.0</td>\n",
       "    </tr>\n",
       "    <tr>\n",
       "      <th>7270</th>\n",
       "      <td>39.0</td>\n",
       "      <td>0.0</td>\n",
       "      <td>0.0</td>\n",
       "      <td>0.0</td>\n",
       "      <td>0.0</td>\n",
       "      <td>1.0</td>\n",
       "      <td>0.0</td>\n",
       "      <td>0.0</td>\n",
       "      <td>0.0</td>\n",
       "      <td>0.0</td>\n",
       "      <td>...</td>\n",
       "      <td>0.0</td>\n",
       "      <td>0.0</td>\n",
       "      <td>0.0</td>\n",
       "      <td>0.0</td>\n",
       "      <td>0.0</td>\n",
       "      <td>0.0</td>\n",
       "      <td>1.0</td>\n",
       "      <td>0.0</td>\n",
       "      <td>0.0</td>\n",
       "      <td>0.0</td>\n",
       "    </tr>\n",
       "  </tbody>\n",
       "</table>\n",
       "<p>7709 rows × 87 columns</p>\n",
       "</div>"
      ],
      "text/plain": [
       "      price_per_unit  retailer_Amazon  retailer_Foot_Locker  retailer_Kohl's  \\\n",
       "485             60.0              0.0                   0.0              0.0   \n",
       "6472            26.0              0.0                   0.0              0.0   \n",
       "1222            35.0              0.0                   1.0              0.0   \n",
       "5608            66.0              0.0                   0.0              0.0   \n",
       "2855            55.0              0.0                   0.0              1.0   \n",
       "...              ...              ...                   ...              ...   \n",
       "5734            49.0              0.0                   0.0              1.0   \n",
       "5191            41.0              0.0                   0.0              0.0   \n",
       "5390            86.0              0.0                   0.0              0.0   \n",
       "860             45.0              0.0                   0.0              0.0   \n",
       "7270            39.0              0.0                   0.0              0.0   \n",
       "\n",
       "      retailer_Sports_Direct  retailer_Walmart  retailer_West_Gear  \\\n",
       "485                      0.0               0.0                 1.0   \n",
       "6472                     1.0               0.0                 0.0   \n",
       "1222                     0.0               0.0                 0.0   \n",
       "5608                     0.0               0.0                 1.0   \n",
       "2855                     0.0               0.0                 0.0   \n",
       "...                      ...               ...                 ...   \n",
       "5734                     0.0               0.0                 0.0   \n",
       "5191                     1.0               0.0                 0.0   \n",
       "5390                     0.0               0.0                 1.0   \n",
       "860                      0.0               1.0                 0.0   \n",
       "7270                     0.0               1.0                 0.0   \n",
       "\n",
       "      region_Midwest  region_Northeast  region_South  ...  month_3  month_4  \\\n",
       "485              0.0               0.0           0.0  ...      0.0      1.0   \n",
       "6472             0.0               0.0           1.0  ...      0.0      0.0   \n",
       "1222             1.0               0.0           0.0  ...      0.0      0.0   \n",
       "5608             0.0               1.0           0.0  ...      0.0      0.0   \n",
       "2855             1.0               0.0           0.0  ...      1.0      0.0   \n",
       "...              ...               ...           ...  ...      ...      ...   \n",
       "5734             1.0               0.0           0.0  ...      0.0      0.0   \n",
       "5191             1.0               0.0           0.0  ...      0.0      0.0   \n",
       "5390             0.0               0.0           0.0  ...      0.0      0.0   \n",
       "860              0.0               0.0           1.0  ...      0.0      0.0   \n",
       "7270             0.0               0.0           0.0  ...      0.0      0.0   \n",
       "\n",
       "      month_5  month_6  month_7  month_8  month_9  month_10  month_11  \\\n",
       "485       0.0      0.0      0.0      0.0      0.0       0.0       0.0   \n",
       "6472      0.0      0.0      0.0      1.0      0.0       0.0       0.0   \n",
       "1222      0.0      0.0      0.0      0.0      0.0       0.0       0.0   \n",
       "5608      0.0      0.0      1.0      0.0      0.0       0.0       0.0   \n",
       "2855      0.0      0.0      0.0      0.0      0.0       0.0       0.0   \n",
       "...       ...      ...      ...      ...      ...       ...       ...   \n",
       "5734      0.0      0.0      1.0      0.0      0.0       0.0       0.0   \n",
       "5191      0.0      1.0      0.0      0.0      0.0       0.0       0.0   \n",
       "5390      0.0      1.0      0.0      0.0      0.0       0.0       0.0   \n",
       "860       0.0      0.0      0.0      1.0      0.0       0.0       0.0   \n",
       "7270      0.0      0.0      0.0      0.0      1.0       0.0       0.0   \n",
       "\n",
       "      month_12  \n",
       "485        0.0  \n",
       "6472       0.0  \n",
       "1222       1.0  \n",
       "5608       0.0  \n",
       "2855       0.0  \n",
       "...        ...  \n",
       "5734       0.0  \n",
       "5191       0.0  \n",
       "5390       0.0  \n",
       "860        0.0  \n",
       "7270       0.0  \n",
       "\n",
       "[7709 rows x 87 columns]"
      ]
     },
     "execution_count": 48,
     "metadata": {},
     "output_type": "execute_result"
    }
   ],
   "source": [
    "X_train_df"
   ]
  },
  {
   "cell_type": "markdown",
   "metadata": {},
   "source": [
    "- Visualizamos nuestro target en **y_train**"
   ]
  },
  {
   "cell_type": "code",
   "execution_count": 49,
   "metadata": {},
   "outputs": [
    {
     "data": {
      "text/plain": [
       "count     7709.000000\n",
       "mean     12378.403035\n",
       "std      12626.345755\n",
       "min        160.000000\n",
       "25%       4080.000000\n",
       "50%       7791.000000\n",
       "75%      15750.000000\n",
       "max      82500.000000\n",
       "Name: total_sales, dtype: float64"
      ]
     },
     "execution_count": 49,
     "metadata": {},
     "output_type": "execute_result"
    }
   ],
   "source": [
    "y_train.describe()"
   ]
  },
  {
   "cell_type": "code",
   "execution_count": 50,
   "metadata": {},
   "outputs": [
    {
     "data": {
      "text/plain": [
       "<Axes: xlabel='total_sales'>"
      ]
     },
     "execution_count": 50,
     "metadata": {},
     "output_type": "execute_result"
    },
    {
     "data": {
      "image/png": "[encoded data removed]",
      "text/plain": [
       "<Figure size 640x480 with 1 Axes>"
      ]
     },
     "metadata": {},
     "output_type": "display_data"
    }
   ],
   "source": [
    "sns.boxplot(x=y_train)"
   ]
  },
  {
   "cell_type": "code",
   "execution_count": 51,
   "metadata": {},
   "outputs": [
    {
     "data": {
      "text/plain": [
       "<Axes: xlabel='total_sales', ylabel='Count'>"
      ]
     },
     "execution_count": 51,
     "metadata": {},
     "output_type": "execute_result"
    },
    {
     "data": {
      "image/png": "[encoded data removed]",
      "text/plain": [
       "<Figure size 640x480 with 1 Axes>"
      ]
     },
     "metadata": {},
     "output_type": "display_data"
    }
   ],
   "source": [
    "# Grafico hist desde los 0 a 10000\n",
    "sns.histplot(y_train[y_train < 10000], bins=50, kde=True)"
   ]
  },
  {
   "cell_type": "code",
   "execution_count": 52,
   "metadata": {},
   "outputs": [
    {
     "data": {
      "text/plain": [
       "7709"
      ]
     },
     "execution_count": 52,
     "metadata": {},
     "output_type": "execute_result"
    }
   ],
   "source": [
    "len(y_train)"
   ]
  },
  {
   "cell_type": "code",
   "execution_count": 53,
   "metadata": {},
   "outputs": [
    {
     "data": {
      "text/plain": [
       "260"
      ]
     },
     "execution_count": 53,
     "metadata": {},
     "output_type": "execute_result"
    }
   ],
   "source": [
    "len(y_train[y_train > 45000])"
   ]
  },
  {
   "cell_type": "code",
   "execution_count": 54,
   "metadata": {},
   "outputs": [
    {
     "data": {
      "text/plain": [
       "27"
      ]
     },
     "execution_count": 54,
     "metadata": {},
     "output_type": "execute_result"
    }
   ],
   "source": [
    "len(y_train[y_train < 500])"
   ]
  },
  {
   "cell_type": "markdown",
   "metadata": {},
   "source": [
    "- Estuve visualizando los valores de mi target. Me di cuenta de que tenia muchos valores extremos. **Negocio** aqui es importante, porque mi decisión fue quedarme con los máximos datos posibles pero aún asi probé de todas las formas."
   ]
  },
  {
   "cell_type": "markdown",
   "metadata": {},
   "source": [
    "-------------------"
   ]
  },
  {
   "cell_type": "markdown",
   "metadata": {},
   "source": [
    "- Pensé en imputar la mediana al target para que tuviera unos valores mas concentrados y no tan dispersos. Tenía una larga cola al final y eso podría perjudicarme."
   ]
  },
  {
   "cell_type": "code",
   "execution_count": 55,
   "metadata": {},
   "outputs": [
    {
     "name": "stdout",
     "output_type": "stream",
     "text": [
      "La mediana es de 7000.0\n"
     ]
    }
   ],
   "source": [
    "Q1 = y_train.quantile(0.25)\n",
    "Q3 = y_train.quantile(0.75)\n",
    "IQR = Q3 - Q1\n",
    "\n",
    "lower_bound = Q1 - 1.5 * IQR\n",
    "upper_bound = Q3 + 1.5 * IQR\n",
    "\n",
    "median_no_outliers = y_train[(y_train >= lower_bound) & (y_train <= upper_bound)].median()\n",
    "print(f\"La mediana es de {median_no_outliers}\")\n",
    "\n",
    "y_train_imputed = y_train.copy()\n",
    "y_train_imputed[(y_train < lower_bound) | (y_train > upper_bound)] = median_no_outliers\n",
    "\n",
    "y_test_imputed = y_test.copy()\n",
    "y_test_imputed[(y_test < lower_bound) | (y_test > upper_bound)] = median_no_outliers"
   ]
  },
  {
   "cell_type": "code",
   "execution_count": 56,
   "metadata": {},
   "outputs": [
    {
     "data": {
      "text/plain": [
       "count     7709.000000\n",
       "mean      9265.476586\n",
       "std       7304.726214\n",
       "min        160.000000\n",
       "25%       4080.000000\n",
       "50%       7000.000000\n",
       "75%      12000.000000\n",
       "max      33250.000000\n",
       "Name: total_sales, dtype: float64"
      ]
     },
     "execution_count": 56,
     "metadata": {},
     "output_type": "execute_result"
    }
   ],
   "source": [
    "y_train_imputed.describe()\n"
   ]
  },
  {
   "cell_type": "code",
   "execution_count": 57,
   "metadata": {},
   "outputs": [
    {
     "data": {
      "text/plain": [
       "<Axes: xlabel='total_sales', ylabel='Count'>"
      ]
     },
     "execution_count": 57,
     "metadata": {},
     "output_type": "execute_result"
    },
    {
     "data": {
      "image/png": "[encoded data removed]",
      "text/plain": [
       "<Figure size 640x480 with 1 Axes>"
      ]
     },
     "metadata": {},
     "output_type": "display_data"
    }
   ],
   "source": [
    "sns.histplot(y_train_imputed, kde = True)"
   ]
  },
  {
   "cell_type": "markdown",
   "metadata": {},
   "source": [
    "- Cuando vi esto, pensé que era algo negativo para cualquier modelo. No quiero que tenga exceso de valores en una zona que yo mismo he imputado."
   ]
  },
  {
   "cell_type": "markdown",
   "metadata": {},
   "source": [
    "🙋‍♂️ Opción rechazada"
   ]
  },
  {
   "cell_type": "markdown",
   "metadata": {},
   "source": [
    "----------"
   ]
  },
  {
   "cell_type": "markdown",
   "metadata": {},
   "source": [
    "- Capping / Windsorizing era mi siguiente propuesta. "
   ]
  },
  {
   "cell_type": "code",
   "execution_count": 58,
   "metadata": {},
   "outputs": [],
   "source": [
    "upper_cap = y_train.quantile(0.95)\n",
    "y_train_capped = y_train.copy()\n",
    "y_train_capped[y_train_capped > upper_cap] = upper_cap\n",
    "\n",
    "y_test_capped = y_test.copy()\n",
    "y_test_capped[y_test_capped > upper_cap] = upper_cap"
   ]
  },
  {
   "cell_type": "code",
   "execution_count": 59,
   "metadata": {},
   "outputs": [
    {
     "data": {
      "text/plain": [
       "count     7709.000000\n",
       "mean     11829.161889\n",
       "std      10853.102480\n",
       "min        160.000000\n",
       "25%       4080.000000\n",
       "50%       7791.000000\n",
       "75%      15750.000000\n",
       "max      40450.000000\n",
       "Name: total_sales, dtype: float64"
      ]
     },
     "execution_count": 59,
     "metadata": {},
     "output_type": "execute_result"
    }
   ],
   "source": [
    "y_train_capped.describe()"
   ]
  },
  {
   "cell_type": "code",
   "execution_count": 60,
   "metadata": {},
   "outputs": [
    {
     "data": {
      "text/plain": [
       "<Axes: xlabel='total_sales', ylabel='Count'>"
      ]
     },
     "execution_count": 60,
     "metadata": {},
     "output_type": "execute_result"
    },
    {
     "data": {
      "image/png": "[encoded data removed]",
      "text/plain": [
       "<Figure size 640x480 with 1 Axes>"
      ]
     },
     "metadata": {},
     "output_type": "display_data"
    }
   ],
   "source": [
    "sns.histplot(y_train_capped, kde = True)"
   ]
  },
  {
   "cell_type": "markdown",
   "metadata": {},
   "source": [
    "- Tenía buena esperanza en este método pero me hace algo parecido al anterior. Me genera una zona con una cantidad de valores imputados por mi y que no sigue la naturaleza del gráfico."
   ]
  },
  {
   "cell_type": "markdown",
   "metadata": {},
   "source": [
    "🙋‍♂️ Opción rechazada"
   ]
  },
  {
   "cell_type": "markdown",
   "metadata": {},
   "source": [
    "---------------"
   ]
  },
  {
   "cell_type": "markdown",
   "metadata": {},
   "source": [
    "🔎 DESPUÉS DE TANTAS PRUEBAS:\n",
    "\n",
    "Realicé numerosas pruebas, pensé que los valores por encima de 45k euros que son 260 filas y representaban el 3% del dataset... eran los que generaban ruido. Pero cuando realicé las pruebas del modelo pude ver que la mejora era muy pequeña y no consideraba necesario perder información para luego no mejorar de forma notable.\n",
    "\n",
    "*Siempre hay que tener un contexto real y en el entorno real surgen estas mismas decisiones*"
   ]
  },
  {
   "cell_type": "markdown",
   "metadata": {},
   "source": [
    "MOMENTO NEGOCIO\n",
    "\n",
    "- Considero que los valores que si hacían ruido eran los más extremos. Aun asi, esto seria algo para comentar con los jefes de equipo."
   ]
  },
  {
   "cell_type": "code",
   "execution_count": 61,
   "metadata": {},
   "outputs": [],
   "source": [
    "# Eliminamos los outliers\n",
    "mask_train = y_train <= 80000\n",
    "X_train_filtered = X_train[mask_train]\n",
    "y_train_filtered = y_train[mask_train]"
   ]
  },
  {
   "cell_type": "code",
   "execution_count": 62,
   "metadata": {},
   "outputs": [
    {
     "name": "stderr",
     "output_type": "stream",
     "text": [
      "C:\\Users\\lukat\\AppData\\Local\\Temp\\ipykernel_7376\\3718196299.py:2: UserWarning: Boolean Series key will be reindexed to match DataFrame index.\n",
      "  X_train_filtered = X_train_filtered[mask_train_2]\n"
     ]
    }
   ],
   "source": [
    "mask_train_2 = y_train >= 300\n",
    "X_train_filtered = X_train_filtered[mask_train_2]\n",
    "y_train_filtered = y_train_filtered[mask_train_2]"
   ]
  },
  {
   "cell_type": "code",
   "execution_count": 63,
   "metadata": {},
   "outputs": [
    {
     "data": {
      "text/plain": [
       "count     7697.000000\n",
       "mean     12344.566065\n",
       "std      12507.313632\n",
       "min        320.000000\n",
       "25%       4092.000000\n",
       "50%       7791.000000\n",
       "75%      15750.000000\n",
       "max      78000.000000\n",
       "Name: total_sales, dtype: float64"
      ]
     },
     "execution_count": 63,
     "metadata": {},
     "output_type": "execute_result"
    }
   ],
   "source": [
    "y_train_filtered.describe()"
   ]
  },
  {
   "cell_type": "code",
   "execution_count": 64,
   "metadata": {},
   "outputs": [
    {
     "name": "stderr",
     "output_type": "stream",
     "text": [
      "C:\\Users\\lukat\\AppData\\Local\\Temp\\ipykernel_7376\\1898312544.py:3: UserWarning: Boolean Series key will be reindexed to match DataFrame index.\n",
      "  X_train_df_mask = X_train_df_mask[mask_train_2]\n"
     ]
    }
   ],
   "source": [
    "# Eliminamos los outliers del X_train_df donde tenia el Column Transform\n",
    "X_train_df_mask = X_train_df[mask_train]\n",
    "X_train_df_mask = X_train_df_mask[mask_train_2]"
   ]
  },
  {
   "cell_type": "code",
   "execution_count": 65,
   "metadata": {},
   "outputs": [
    {
     "data": {
      "text/html": [
       "<div>\n",
       "<style scoped>\n",
       "    .dataframe tbody tr th:only-of-type {\n",
       "        vertical-align: middle;\n",
       "    }\n",
       "\n",
       "    .dataframe tbody tr th {\n",
       "        vertical-align: top;\n",
       "    }\n",
       "\n",
       "    .dataframe thead th {\n",
       "        text-align: right;\n",
       "    }\n",
       "</style>\n",
       "<table border=\"1\" class=\"dataframe\">\n",
       "  <thead>\n",
       "    <tr style=\"text-align: right;\">\n",
       "      <th></th>\n",
       "      <th>retailer</th>\n",
       "      <th>region</th>\n",
       "      <th>state</th>\n",
       "      <th>product</th>\n",
       "      <th>price_per_unit</th>\n",
       "      <th>month</th>\n",
       "      <th>day_of_week</th>\n",
       "    </tr>\n",
       "  </thead>\n",
       "  <tbody>\n",
       "    <tr>\n",
       "      <th>485</th>\n",
       "      <td>West Gear</td>\n",
       "      <td>Southeast</td>\n",
       "      <td>Florida</td>\n",
       "      <td>Men's Apparel</td>\n",
       "      <td>60.0</td>\n",
       "      <td>4</td>\n",
       "      <td>4</td>\n",
       "    </tr>\n",
       "    <tr>\n",
       "      <th>6472</th>\n",
       "      <td>Sports Direct</td>\n",
       "      <td>South</td>\n",
       "      <td>Texas</td>\n",
       "      <td>Men's Apparel</td>\n",
       "      <td>26.0</td>\n",
       "      <td>8</td>\n",
       "      <td>6</td>\n",
       "    </tr>\n",
       "    <tr>\n",
       "      <th>1222</th>\n",
       "      <td>Foot Locker</td>\n",
       "      <td>Midwest</td>\n",
       "      <td>Minnesota</td>\n",
       "      <td>Men's Apparel</td>\n",
       "      <td>35.0</td>\n",
       "      <td>12</td>\n",
       "      <td>1</td>\n",
       "    </tr>\n",
       "    <tr>\n",
       "      <th>5608</th>\n",
       "      <td>West Gear</td>\n",
       "      <td>Northeast</td>\n",
       "      <td>New York</td>\n",
       "      <td>Women's Apparel</td>\n",
       "      <td>66.0</td>\n",
       "      <td>7</td>\n",
       "      <td>3</td>\n",
       "    </tr>\n",
       "    <tr>\n",
       "      <th>2855</th>\n",
       "      <td>Kohl's</td>\n",
       "      <td>Midwest</td>\n",
       "      <td>Montana</td>\n",
       "      <td>Women's Apparel</td>\n",
       "      <td>55.0</td>\n",
       "      <td>3</td>\n",
       "      <td>1</td>\n",
       "    </tr>\n",
       "    <tr>\n",
       "      <th>...</th>\n",
       "      <td>...</td>\n",
       "      <td>...</td>\n",
       "      <td>...</td>\n",
       "      <td>...</td>\n",
       "      <td>...</td>\n",
       "      <td>...</td>\n",
       "      <td>...</td>\n",
       "    </tr>\n",
       "    <tr>\n",
       "      <th>5734</th>\n",
       "      <td>Kohl's</td>\n",
       "      <td>Midwest</td>\n",
       "      <td>Kansas</td>\n",
       "      <td>Men's Athletic Footwear</td>\n",
       "      <td>49.0</td>\n",
       "      <td>7</td>\n",
       "      <td>0</td>\n",
       "    </tr>\n",
       "    <tr>\n",
       "      <th>5191</th>\n",
       "      <td>Sports Direct</td>\n",
       "      <td>Midwest</td>\n",
       "      <td>Michigan</td>\n",
       "      <td>Women's Street Footwear</td>\n",
       "      <td>41.0</td>\n",
       "      <td>6</td>\n",
       "      <td>3</td>\n",
       "    </tr>\n",
       "    <tr>\n",
       "      <th>5390</th>\n",
       "      <td>West Gear</td>\n",
       "      <td>West</td>\n",
       "      <td>Oregon</td>\n",
       "      <td>Men's Apparel</td>\n",
       "      <td>86.0</td>\n",
       "      <td>6</td>\n",
       "      <td>3</td>\n",
       "    </tr>\n",
       "    <tr>\n",
       "      <th>860</th>\n",
       "      <td>Walmart</td>\n",
       "      <td>South</td>\n",
       "      <td>Texas</td>\n",
       "      <td>Men's Apparel</td>\n",
       "      <td>45.0</td>\n",
       "      <td>8</td>\n",
       "      <td>6</td>\n",
       "    </tr>\n",
       "    <tr>\n",
       "      <th>7270</th>\n",
       "      <td>Walmart</td>\n",
       "      <td>Southeast</td>\n",
       "      <td>Florida</td>\n",
       "      <td>Women's Street Footwear</td>\n",
       "      <td>39.0</td>\n",
       "      <td>9</td>\n",
       "      <td>5</td>\n",
       "    </tr>\n",
       "  </tbody>\n",
       "</table>\n",
       "<p>7697 rows × 7 columns</p>\n",
       "</div>"
      ],
      "text/plain": [
       "           retailer     region      state                  product  \\\n",
       "485       West Gear  Southeast    Florida            Men's Apparel   \n",
       "6472  Sports Direct      South      Texas            Men's Apparel   \n",
       "1222    Foot Locker    Midwest  Minnesota            Men's Apparel   \n",
       "5608      West Gear  Northeast   New York          Women's Apparel   \n",
       "2855         Kohl's    Midwest    Montana          Women's Apparel   \n",
       "...             ...        ...        ...                      ...   \n",
       "5734         Kohl's    Midwest     Kansas  Men's Athletic Footwear   \n",
       "5191  Sports Direct    Midwest   Michigan  Women's Street Footwear   \n",
       "5390      West Gear       West     Oregon            Men's Apparel   \n",
       "860         Walmart      South      Texas            Men's Apparel   \n",
       "7270        Walmart  Southeast    Florida  Women's Street Footwear   \n",
       "\n",
       "      price_per_unit  month  day_of_week  \n",
       "485             60.0      4            4  \n",
       "6472            26.0      8            6  \n",
       "1222            35.0     12            1  \n",
       "5608            66.0      7            3  \n",
       "2855            55.0      3            1  \n",
       "...              ...    ...          ...  \n",
       "5734            49.0      7            0  \n",
       "5191            41.0      6            3  \n",
       "5390            86.0      6            3  \n",
       "860             45.0      8            6  \n",
       "7270            39.0      9            5  \n",
       "\n",
       "[7697 rows x 7 columns]"
      ]
     },
     "execution_count": 65,
     "metadata": {},
     "output_type": "execute_result"
    }
   ],
   "source": [
    "X_train_filtered"
   ]
  },
  {
   "cell_type": "code",
   "execution_count": 66,
   "metadata": {},
   "outputs": [
    {
     "data": {
      "text/html": [
       "<div>\n",
       "<style scoped>\n",
       "    .dataframe tbody tr th:only-of-type {\n",
       "        vertical-align: middle;\n",
       "    }\n",
       "\n",
       "    .dataframe tbody tr th {\n",
       "        vertical-align: top;\n",
       "    }\n",
       "\n",
       "    .dataframe thead th {\n",
       "        text-align: right;\n",
       "    }\n",
       "</style>\n",
       "<table border=\"1\" class=\"dataframe\">\n",
       "  <thead>\n",
       "    <tr style=\"text-align: right;\">\n",
       "      <th></th>\n",
       "      <th>price_per_unit</th>\n",
       "      <th>retailer_Amazon</th>\n",
       "      <th>retailer_Foot_Locker</th>\n",
       "      <th>retailer_Kohl's</th>\n",
       "      <th>retailer_Sports_Direct</th>\n",
       "      <th>retailer_Walmart</th>\n",
       "      <th>retailer_West_Gear</th>\n",
       "      <th>region_Midwest</th>\n",
       "      <th>region_Northeast</th>\n",
       "      <th>region_South</th>\n",
       "      <th>...</th>\n",
       "      <th>month_3</th>\n",
       "      <th>month_4</th>\n",
       "      <th>month_5</th>\n",
       "      <th>month_6</th>\n",
       "      <th>month_7</th>\n",
       "      <th>month_8</th>\n",
       "      <th>month_9</th>\n",
       "      <th>month_10</th>\n",
       "      <th>month_11</th>\n",
       "      <th>month_12</th>\n",
       "    </tr>\n",
       "  </thead>\n",
       "  <tbody>\n",
       "    <tr>\n",
       "      <th>485</th>\n",
       "      <td>60.0</td>\n",
       "      <td>0.0</td>\n",
       "      <td>0.0</td>\n",
       "      <td>0.0</td>\n",
       "      <td>0.0</td>\n",
       "      <td>0.0</td>\n",
       "      <td>1.0</td>\n",
       "      <td>0.0</td>\n",
       "      <td>0.0</td>\n",
       "      <td>0.0</td>\n",
       "      <td>...</td>\n",
       "      <td>0.0</td>\n",
       "      <td>1.0</td>\n",
       "      <td>0.0</td>\n",
       "      <td>0.0</td>\n",
       "      <td>0.0</td>\n",
       "      <td>0.0</td>\n",
       "      <td>0.0</td>\n",
       "      <td>0.0</td>\n",
       "      <td>0.0</td>\n",
       "      <td>0.0</td>\n",
       "    </tr>\n",
       "    <tr>\n",
       "      <th>6472</th>\n",
       "      <td>26.0</td>\n",
       "      <td>0.0</td>\n",
       "      <td>0.0</td>\n",
       "      <td>0.0</td>\n",
       "      <td>1.0</td>\n",
       "      <td>0.0</td>\n",
       "      <td>0.0</td>\n",
       "      <td>0.0</td>\n",
       "      <td>0.0</td>\n",
       "      <td>1.0</td>\n",
       "      <td>...</td>\n",
       "      <td>0.0</td>\n",
       "      <td>0.0</td>\n",
       "      <td>0.0</td>\n",
       "      <td>0.0</td>\n",
       "      <td>0.0</td>\n",
       "      <td>1.0</td>\n",
       "      <td>0.0</td>\n",
       "      <td>0.0</td>\n",
       "      <td>0.0</td>\n",
       "      <td>0.0</td>\n",
       "    </tr>\n",
       "    <tr>\n",
       "      <th>1222</th>\n",
       "      <td>35.0</td>\n",
       "      <td>0.0</td>\n",
       "      <td>1.0</td>\n",
       "      <td>0.0</td>\n",
       "      <td>0.0</td>\n",
       "      <td>0.0</td>\n",
       "      <td>0.0</td>\n",
       "      <td>1.0</td>\n",
       "      <td>0.0</td>\n",
       "      <td>0.0</td>\n",
       "      <td>...</td>\n",
       "      <td>0.0</td>\n",
       "      <td>0.0</td>\n",
       "      <td>0.0</td>\n",
       "      <td>0.0</td>\n",
       "      <td>0.0</td>\n",
       "      <td>0.0</td>\n",
       "      <td>0.0</td>\n",
       "      <td>0.0</td>\n",
       "      <td>0.0</td>\n",
       "      <td>1.0</td>\n",
       "    </tr>\n",
       "    <tr>\n",
       "      <th>5608</th>\n",
       "      <td>66.0</td>\n",
       "      <td>0.0</td>\n",
       "      <td>0.0</td>\n",
       "      <td>0.0</td>\n",
       "      <td>0.0</td>\n",
       "      <td>0.0</td>\n",
       "      <td>1.0</td>\n",
       "      <td>0.0</td>\n",
       "      <td>1.0</td>\n",
       "      <td>0.0</td>\n",
       "      <td>...</td>\n",
       "      <td>0.0</td>\n",
       "      <td>0.0</td>\n",
       "      <td>0.0</td>\n",
       "      <td>0.0</td>\n",
       "      <td>1.0</td>\n",
       "      <td>0.0</td>\n",
       "      <td>0.0</td>\n",
       "      <td>0.0</td>\n",
       "      <td>0.0</td>\n",
       "      <td>0.0</td>\n",
       "    </tr>\n",
       "    <tr>\n",
       "      <th>2855</th>\n",
       "      <td>55.0</td>\n",
       "      <td>0.0</td>\n",
       "      <td>0.0</td>\n",
       "      <td>1.0</td>\n",
       "      <td>0.0</td>\n",
       "      <td>0.0</td>\n",
       "      <td>0.0</td>\n",
       "      <td>1.0</td>\n",
       "      <td>0.0</td>\n",
       "      <td>0.0</td>\n",
       "      <td>...</td>\n",
       "      <td>1.0</td>\n",
       "      <td>0.0</td>\n",
       "      <td>0.0</td>\n",
       "      <td>0.0</td>\n",
       "      <td>0.0</td>\n",
       "      <td>0.0</td>\n",
       "      <td>0.0</td>\n",
       "      <td>0.0</td>\n",
       "      <td>0.0</td>\n",
       "      <td>0.0</td>\n",
       "    </tr>\n",
       "    <tr>\n",
       "      <th>...</th>\n",
       "      <td>...</td>\n",
       "      <td>...</td>\n",
       "      <td>...</td>\n",
       "      <td>...</td>\n",
       "      <td>...</td>\n",
       "      <td>...</td>\n",
       "      <td>...</td>\n",
       "      <td>...</td>\n",
       "      <td>...</td>\n",
       "      <td>...</td>\n",
       "      <td>...</td>\n",
       "      <td>...</td>\n",
       "      <td>...</td>\n",
       "      <td>...</td>\n",
       "      <td>...</td>\n",
       "      <td>...</td>\n",
       "      <td>...</td>\n",
       "      <td>...</td>\n",
       "      <td>...</td>\n",
       "      <td>...</td>\n",
       "      <td>...</td>\n",
       "    </tr>\n",
       "    <tr>\n",
       "      <th>5734</th>\n",
       "      <td>49.0</td>\n",
       "      <td>0.0</td>\n",
       "      <td>0.0</td>\n",
       "      <td>1.0</td>\n",
       "      <td>0.0</td>\n",
       "      <td>0.0</td>\n",
       "      <td>0.0</td>\n",
       "      <td>1.0</td>\n",
       "      <td>0.0</td>\n",
       "      <td>0.0</td>\n",
       "      <td>...</td>\n",
       "      <td>0.0</td>\n",
       "      <td>0.0</td>\n",
       "      <td>0.0</td>\n",
       "      <td>0.0</td>\n",
       "      <td>1.0</td>\n",
       "      <td>0.0</td>\n",
       "      <td>0.0</td>\n",
       "      <td>0.0</td>\n",
       "      <td>0.0</td>\n",
       "      <td>0.0</td>\n",
       "    </tr>\n",
       "    <tr>\n",
       "      <th>5191</th>\n",
       "      <td>41.0</td>\n",
       "      <td>0.0</td>\n",
       "      <td>0.0</td>\n",
       "      <td>0.0</td>\n",
       "      <td>1.0</td>\n",
       "      <td>0.0</td>\n",
       "      <td>0.0</td>\n",
       "      <td>1.0</td>\n",
       "      <td>0.0</td>\n",
       "      <td>0.0</td>\n",
       "      <td>...</td>\n",
       "      <td>0.0</td>\n",
       "      <td>0.0</td>\n",
       "      <td>0.0</td>\n",
       "      <td>1.0</td>\n",
       "      <td>0.0</td>\n",
       "      <td>0.0</td>\n",
       "      <td>0.0</td>\n",
       "      <td>0.0</td>\n",
       "      <td>0.0</td>\n",
       "      <td>0.0</td>\n",
       "    </tr>\n",
       "    <tr>\n",
       "      <th>5390</th>\n",
       "      <td>86.0</td>\n",
       "      <td>0.0</td>\n",
       "      <td>0.0</td>\n",
       "      <td>0.0</td>\n",
       "      <td>0.0</td>\n",
       "      <td>0.0</td>\n",
       "      <td>1.0</td>\n",
       "      <td>0.0</td>\n",
       "      <td>0.0</td>\n",
       "      <td>0.0</td>\n",
       "      <td>...</td>\n",
       "      <td>0.0</td>\n",
       "      <td>0.0</td>\n",
       "      <td>0.0</td>\n",
       "      <td>1.0</td>\n",
       "      <td>0.0</td>\n",
       "      <td>0.0</td>\n",
       "      <td>0.0</td>\n",
       "      <td>0.0</td>\n",
       "      <td>0.0</td>\n",
       "      <td>0.0</td>\n",
       "    </tr>\n",
       "    <tr>\n",
       "      <th>860</th>\n",
       "      <td>45.0</td>\n",
       "      <td>0.0</td>\n",
       "      <td>0.0</td>\n",
       "      <td>0.0</td>\n",
       "      <td>0.0</td>\n",
       "      <td>1.0</td>\n",
       "      <td>0.0</td>\n",
       "      <td>0.0</td>\n",
       "      <td>0.0</td>\n",
       "      <td>1.0</td>\n",
       "      <td>...</td>\n",
       "      <td>0.0</td>\n",
       "      <td>0.0</td>\n",
       "      <td>0.0</td>\n",
       "      <td>0.0</td>\n",
       "      <td>0.0</td>\n",
       "      <td>1.0</td>\n",
       "      <td>0.0</td>\n",
       "      <td>0.0</td>\n",
       "      <td>0.0</td>\n",
       "      <td>0.0</td>\n",
       "    </tr>\n",
       "    <tr>\n",
       "      <th>7270</th>\n",
       "      <td>39.0</td>\n",
       "      <td>0.0</td>\n",
       "      <td>0.0</td>\n",
       "      <td>0.0</td>\n",
       "      <td>0.0</td>\n",
       "      <td>1.0</td>\n",
       "      <td>0.0</td>\n",
       "      <td>0.0</td>\n",
       "      <td>0.0</td>\n",
       "      <td>0.0</td>\n",
       "      <td>...</td>\n",
       "      <td>0.0</td>\n",
       "      <td>0.0</td>\n",
       "      <td>0.0</td>\n",
       "      <td>0.0</td>\n",
       "      <td>0.0</td>\n",
       "      <td>0.0</td>\n",
       "      <td>1.0</td>\n",
       "      <td>0.0</td>\n",
       "      <td>0.0</td>\n",
       "      <td>0.0</td>\n",
       "    </tr>\n",
       "  </tbody>\n",
       "</table>\n",
       "<p>7697 rows × 87 columns</p>\n",
       "</div>"
      ],
      "text/plain": [
       "      price_per_unit  retailer_Amazon  retailer_Foot_Locker  retailer_Kohl's  \\\n",
       "485             60.0              0.0                   0.0              0.0   \n",
       "6472            26.0              0.0                   0.0              0.0   \n",
       "1222            35.0              0.0                   1.0              0.0   \n",
       "5608            66.0              0.0                   0.0              0.0   \n",
       "2855            55.0              0.0                   0.0              1.0   \n",
       "...              ...              ...                   ...              ...   \n",
       "5734            49.0              0.0                   0.0              1.0   \n",
       "5191            41.0              0.0                   0.0              0.0   \n",
       "5390            86.0              0.0                   0.0              0.0   \n",
       "860             45.0              0.0                   0.0              0.0   \n",
       "7270            39.0              0.0                   0.0              0.0   \n",
       "\n",
       "      retailer_Sports_Direct  retailer_Walmart  retailer_West_Gear  \\\n",
       "485                      0.0               0.0                 1.0   \n",
       "6472                     1.0               0.0                 0.0   \n",
       "1222                     0.0               0.0                 0.0   \n",
       "5608                     0.0               0.0                 1.0   \n",
       "2855                     0.0               0.0                 0.0   \n",
       "...                      ...               ...                 ...   \n",
       "5734                     0.0               0.0                 0.0   \n",
       "5191                     1.0               0.0                 0.0   \n",
       "5390                     0.0               0.0                 1.0   \n",
       "860                      0.0               1.0                 0.0   \n",
       "7270                     0.0               1.0                 0.0   \n",
       "\n",
       "      region_Midwest  region_Northeast  region_South  ...  month_3  month_4  \\\n",
       "485              0.0               0.0           0.0  ...      0.0      1.0   \n",
       "6472             0.0               0.0           1.0  ...      0.0      0.0   \n",
       "1222             1.0               0.0           0.0  ...      0.0      0.0   \n",
       "5608             0.0               1.0           0.0  ...      0.0      0.0   \n",
       "2855             1.0               0.0           0.0  ...      1.0      0.0   \n",
       "...              ...               ...           ...  ...      ...      ...   \n",
       "5734             1.0               0.0           0.0  ...      0.0      0.0   \n",
       "5191             1.0               0.0           0.0  ...      0.0      0.0   \n",
       "5390             0.0               0.0           0.0  ...      0.0      0.0   \n",
       "860              0.0               0.0           1.0  ...      0.0      0.0   \n",
       "7270             0.0               0.0           0.0  ...      0.0      0.0   \n",
       "\n",
       "      month_5  month_6  month_7  month_8  month_9  month_10  month_11  \\\n",
       "485       0.0      0.0      0.0      0.0      0.0       0.0       0.0   \n",
       "6472      0.0      0.0      0.0      1.0      0.0       0.0       0.0   \n",
       "1222      0.0      0.0      0.0      0.0      0.0       0.0       0.0   \n",
       "5608      0.0      0.0      1.0      0.0      0.0       0.0       0.0   \n",
       "2855      0.0      0.0      0.0      0.0      0.0       0.0       0.0   \n",
       "...       ...      ...      ...      ...      ...       ...       ...   \n",
       "5734      0.0      0.0      1.0      0.0      0.0       0.0       0.0   \n",
       "5191      0.0      1.0      0.0      0.0      0.0       0.0       0.0   \n",
       "5390      0.0      1.0      0.0      0.0      0.0       0.0       0.0   \n",
       "860       0.0      0.0      0.0      1.0      0.0       0.0       0.0   \n",
       "7270      0.0      0.0      0.0      0.0      1.0       0.0       0.0   \n",
       "\n",
       "      month_12  \n",
       "485        0.0  \n",
       "6472       0.0  \n",
       "1222       1.0  \n",
       "5608       0.0  \n",
       "2855       0.0  \n",
       "...        ...  \n",
       "5734       0.0  \n",
       "5191       0.0  \n",
       "5390       0.0  \n",
       "860        0.0  \n",
       "7270       0.0  \n",
       "\n",
       "[7697 rows x 87 columns]"
      ]
     },
     "execution_count": 66,
     "metadata": {},
     "output_type": "execute_result"
    }
   ],
   "source": [
    "X_train_df_mask"
   ]
  },
  {
   "cell_type": "markdown",
   "metadata": {},
   "source": [
    "- Tenemos dos conjuntos de entrenamientos: **X_train_df_mask** (7697 x 87) y **X_train_filtered** (7697 x 7)"
   ]
  },
  {
   "cell_type": "markdown",
   "metadata": {},
   "source": [
    "- Para transformar el target, pensé en una logarítmica pero leí sobre Box-Cox y me gustó más porque intentaba que los datos se parecieran lo más posible a una distribución gaussiana."
   ]
  },
  {
   "cell_type": "code",
   "execution_count": 67,
   "metadata": {},
   "outputs": [
    {
     "name": "stdout",
     "output_type": "stream",
     "text": [
      "Lambda óptima: 0.0286196604600691\n"
     ]
    }
   ],
   "source": [
    "# box-cox transformation\n",
    "y_train_boxcox, lambda_val = boxcox(y_train_filtered)\n",
    "\n",
    "# lambda_val es el parámetro óptimo calculado para la transformación.\n",
    "print(f\"Lambda óptima: {lambda_val}\")"
   ]
  },
  {
   "cell_type": "code",
   "execution_count": 68,
   "metadata": {},
   "outputs": [],
   "source": [
    "# en test aplicamos el mismo boxcox que en train\n",
    "y_test_boxcox = boxcox(y_test, lmbda=lambda_val)\n"
   ]
  },
  {
   "cell_type": "code",
   "execution_count": 69,
   "metadata": {},
   "outputs": [
    {
     "data": {
      "text/plain": [
       "<Axes: ylabel='Count'>"
      ]
     },
     "execution_count": 69,
     "metadata": {},
     "output_type": "execute_result"
    },
    {
     "data": {
      "image/png": "[encoded data removed]",
      "text/plain": [
       "<Figure size 640x480 with 1 Axes>"
      ]
     },
     "metadata": {},
     "output_type": "display_data"
    }
   ],
   "source": [
    "sns.histplot(y_train_boxcox)"
   ]
  },
  {
   "cell_type": "markdown",
   "metadata": {},
   "source": [
    "- Efectivamente se ve bastante mejor. Nos quedamos con el Box-Cox"
   ]
  },
  {
   "cell_type": "markdown",
   "metadata": {},
   "source": [
    "- Aquí el ejemplo de la logaritmica:"
   ]
  },
  {
   "cell_type": "code",
   "execution_count": 70,
   "metadata": {},
   "outputs": [],
   "source": [
    "y_train_log = np.log1p(y_train_filtered)\n",
    "y_test_log = np.log1p(y_test)"
   ]
  },
  {
   "cell_type": "code",
   "execution_count": 71,
   "metadata": {},
   "outputs": [
    {
     "data": {
      "text/plain": [
       "<Axes: xlabel='total_sales', ylabel='Count'>"
      ]
     },
     "execution_count": 71,
     "metadata": {},
     "output_type": "execute_result"
    },
    {
     "data": {
      "image/png": "[encoded data removed]",
      "text/plain": [
       "<Figure size 640x480 with 1 Axes>"
      ]
     },
     "metadata": {},
     "output_type": "display_data"
    }
   ],
   "source": [
    "sns.histplot(y_train_log, kde = True)"
   ]
  },
  {
   "cell_type": "markdown",
   "metadata": {},
   "source": [
    "- No era mala opción del todo pero en una prueba que hice el Box-Cox me dio mejor resultado"
   ]
  },
  {
   "cell_type": "markdown",
   "metadata": {},
   "source": [
    "# ✅ Step 6: Selección e instanciación de modelos. Baseline.\n"
   ]
  },
  {
   "cell_type": "markdown",
   "metadata": {},
   "source": [
    "- Dejamos unas funciones cargadas para utilizar en los siguientes pasos:"
   ]
  },
  {
   "cell_type": "code",
   "execution_count": 76,
   "metadata": {},
   "outputs": [],
   "source": [
    "def rmse_boxcox_inverse(y_true_boxcox, y_pred_boxcox):\n",
    "    y_true_original = inv_boxcox(y_true_boxcox, lambda_val)\n",
    "    y_pred_original = inv_boxcox(y_pred_boxcox, lambda_val)\n",
    "    \n",
    "    return np.sqrt(mean_squared_error(y_true_original, y_pred_original))\n",
    "\n",
    "scorer = make_scorer(rmse_boxcox_inverse, greater_is_better=False)"
   ]
  },
  {
   "cell_type": "code",
   "execution_count": 73,
   "metadata": {},
   "outputs": [],
   "source": [
    "def rmse(y_true, y_pred):\n",
    "    return np.sqrt(mean_squared_error(y_true, y_pred))\n",
    "\n",
    "rmse_scorer_tradi = make_scorer(rmse, greater_is_better=False)"
   ]
  },
  {
   "cell_type": "markdown",
   "metadata": {},
   "source": [
    "**LINEAR REGRESSION**"
   ]
  },
  {
   "cell_type": "code",
   "execution_count": null,
   "metadata": {},
   "outputs": [
    {
     "name": "stdout",
     "output_type": "stream",
     "text": [
      "RMSE: 9567.018616260499\n",
      "MAE: 6526.151476851045\n",
      "R2: 0.4605487539505192\n"
     ]
    }
   ],
   "source": [
    "# Entrenar el modelo de regresión lineal\n",
    "baseline_model = LinearRegression()\n",
    "baseline_model.fit(X_train_df_mask, y_train_boxcox)\n",
    "\n",
    "# Predecir en el conjunto de prueba\n",
    "y_pred_boxcox_baseline = baseline_model.predict(X_test_df)\n",
    "\n",
    "y_pred_baseline = inv_boxcox(y_pred_boxcox_baseline, lambda_val)\n",
    "\n",
    "# Evaluar el modelo\n",
    "mse_baseline = mean_squared_error(y_test, y_pred_baseline)\n",
    "rmse_baseline = np.sqrt(mse_baseline)\n",
    "mae_baseline = mean_absolute_error(y_test, y_pred_baseline)\n",
    "r2_baseline = r2_score(y_test, y_pred_baseline)\n",
    "\n",
    "print(f\"RMSE: {rmse_baseline}\")\n",
    "print(f\"MAE: {mae_baseline}\")\n",
    "print(f\"R2: {r2_baseline}\")"
   ]
  },
  {
   "cell_type": "markdown",
   "metadata": {},
   "source": [
    "- Tuve un resultado con bastante error y quise seguir probando otros modelos."
   ]
  },
  {
   "cell_type": "markdown",
   "metadata": {},
   "source": [
    "**MLP REGRESSOR**"
   ]
  },
  {
   "cell_type": "code",
   "execution_count": 104,
   "metadata": {},
   "outputs": [
    {
     "name": "stdout",
     "output_type": "stream",
     "text": [
      "Neural Network - RMSE: 9204.82\n",
      "Neural Network - MAE: 6488.44\n",
      "Neural Network - R2: 0.5006\n"
     ]
    }
   ],
   "source": [
    "from sklearn.neural_network import MLPRegressor\n",
    "\n",
    "# Entrenar el modelo de red neuronal\n",
    "nn_model = MLPRegressor(hidden_layer_sizes=(100, 50), max_iter=500, random_state=42)\n",
    "nn_model.fit(X_train_df_mask, y_train_boxcox)\n",
    "\n",
    "# Predecir en el conjunto de prueba\n",
    "y_pred_nn = nn_model.predict(X_test_df)\n",
    "y_pred_nn = inv_boxcox(y_pred_nn, lambda_val)\n",
    "\n",
    "# Evaluar el modelo\n",
    "mse_nn = mean_squared_error(y_test, y_pred_nn)\n",
    "rmse_nn = np.sqrt(mse_nn)\n",
    "mae_nn = mean_absolute_error(y_test, y_pred_nn)\n",
    "r2_nn = r2_score(y_test, y_pred_nn)\n",
    "\n",
    "print(f\"Neural Network - RMSE: {rmse_nn:.2f}\")\n",
    "print(f\"Neural Network - MAE: {mae_nn:.2f}\")\n",
    "print(f\"Neural Network - R2: {r2_nn:.4f}\")"
   ]
  },
  {
   "cell_type": "markdown",
   "metadata": {},
   "source": [
    "- Resultado muy parecido al anterior aunque mejoramos algo de R2."
   ]
  },
  {
   "cell_type": "markdown",
   "metadata": {},
   "source": [
    "**CATBOOST**"
   ]
  },
  {
   "cell_type": "markdown",
   "metadata": {},
   "source": [
    "Nuestro train aqui es **X_train_filtered** que contiene 7 columnas. **CatBoost** es un buen modelo cuando tenemos features categoricas."
   ]
  },
  {
   "cell_type": "code",
   "execution_count": 74,
   "metadata": {},
   "outputs": [
    {
     "name": "stdout",
     "output_type": "stream",
     "text": [
      "RMSE: 5370.497427175011\n",
      "MAE: 3174.3682626004233\n",
      "R2: 0.8300081938668566\n"
     ]
    }
   ],
   "source": [
    "# Entrenamos el modelo con los datos transformados\n",
    "cat_model = CatBoostRegressor(verbose=0, random_state=42)\n",
    "cat_model.fit(X_train_filtered, y_train_boxcox, cat_features=categorical_features)\n",
    "\n",
    "# Realizamos predicciones en el conjunto de prueba\n",
    "y_pred_boxcox_cat = cat_model.predict(X_test)\n",
    "y_pred = inv_boxcox(y_pred_boxcox_cat, lambda_val)\n",
    "\n",
    "mse = mean_squared_error(y_test, y_pred)\n",
    "rmse = np.sqrt(mse)\n",
    "mae = mean_absolute_error(y_test, y_pred)\n",
    "r2 = r2_score(y_test, y_pred)\n",
    "\n",
    "print(f\"RMSE: {rmse}\")\n",
    "print(f\"MAE: {mae}\")\n",
    "print(f\"R2: {r2}\")"
   ]
  },
  {
   "cell_type": "markdown",
   "metadata": {},
   "source": [
    "- Gran resultado. Buen R2. El RMSE queda alto en parte por nuestro target que tiene valores con mucha distancia. "
   ]
  },
  {
   "cell_type": "markdown",
   "metadata": {},
   "source": [
    "🧠 APTO para avanzar con este modelo"
   ]
  },
  {
   "cell_type": "markdown",
   "metadata": {},
   "source": [
    "**RANDOM FOREST**"
   ]
  },
  {
   "cell_type": "markdown",
   "metadata": {},
   "source": [
    "- Aqui tenemos **X_train_df_mask** contiene 87 columnas porque tenia el OneHotEncoder de nuestro Column Transform"
   ]
  },
  {
   "cell_type": "code",
   "execution_count": 106,
   "metadata": {},
   "outputs": [
    {
     "name": "stdout",
     "output_type": "stream",
     "text": [
      "Random Forest - RMSE: 5781.40\n",
      "Random Forest - MAE: 3381.82\n",
      "Random Forest - R2: 0.8030\n"
     ]
    }
   ],
   "source": [
    "# Entrenar el modelo Random Forest\n",
    "rf_model = RandomForestRegressor(random_state=42)\n",
    "rf_model.fit(X_train_df_mask, y_train_boxcox)\n",
    "\n",
    "# Predecir en el conjunto de prueba\n",
    "y_pred_boxcox_rf = rf_model.predict(X_test_df)\n",
    "y_pred_rf = inv_boxcox(y_pred_boxcox_rf, lambda_val)\n",
    "\n",
    "# Evaluar el modelo\n",
    "mse_rf = mean_squared_error(y_test, y_pred_rf)\n",
    "rmse_rf = np.sqrt(mse_rf)\n",
    "mae_rf = mean_absolute_error(y_test, y_pred_rf)\n",
    "r2_rf = r2_score(y_test, y_pred_rf)\n",
    "\n",
    "print(f\"Random Forest - RMSE: {rmse_rf:.2f}\")\n",
    "print(f\"Random Forest - MAE: {mae_rf:.2f}\")\n",
    "print(f\"Random Forest - R2: {r2_rf:.4f}\")"
   ]
  },
  {
   "cell_type": "markdown",
   "metadata": {},
   "source": [
    "- Tenemos buen R2 pero el RMSE es más alto comparandolo con **CATBOOST**"
   ]
  },
  {
   "cell_type": "markdown",
   "metadata": {},
   "source": [
    "🧠 APTO para avanzar con este modelo"
   ]
  },
  {
   "cell_type": "markdown",
   "metadata": {},
   "source": [
    "**XGBOOST**"
   ]
  },
  {
   "cell_type": "markdown",
   "metadata": {},
   "source": [
    "- Aqui tenemos **X_train_df_mask** contiene 87 columnas porque tenia el OneHotEncoder de nuestro Column Transform"
   ]
  },
  {
   "cell_type": "code",
   "execution_count": 102,
   "metadata": {},
   "outputs": [
    {
     "name": "stdout",
     "output_type": "stream",
     "text": [
      "XGBoost - RMSE: 5581.70\n",
      "XGBoost - MAE: 3226.56\n",
      "XGBoost - R2: 0.8164\n"
     ]
    }
   ],
   "source": [
    "xgb_model = XGBRegressor(random_state=42)\n",
    "xgb_model.fit(X_train_df_mask, y_train_boxcox)\n",
    "\n",
    "y_pred_boxcox_xgb = xgb_model.predict(X_test_df)\n",
    "y_pred_xgb = inv_boxcox(y_pred_boxcox_xgb, lambda_val)\n",
    "\n",
    "mse_xgb = mean_squared_error(y_test, y_pred_xgb)\n",
    "rmse_xgb = np.sqrt(mse_xgb)\n",
    "mae_xgb = mean_absolute_error(y_test, y_pred_xgb)\n",
    "r2_xgb = r2_score(y_test, y_pred_xgb)\n",
    "\n",
    "print(f\"XGBoost - RMSE: {rmse_xgb:.2f}\")\n",
    "print(f\"XGBoost - MAE: {mae_xgb:.2f}\")\n",
    "print(f\"XGBoost - R2: {r2_xgb:.4f}\")"
   ]
  },
  {
   "cell_type": "markdown",
   "metadata": {},
   "source": [
    "- Buen resultado en general. Muy similar al **CATBOOST**"
   ]
  },
  {
   "cell_type": "markdown",
   "metadata": {},
   "source": [
    "🧠 APTO para avanzar con este modelo"
   ]
  },
  {
   "cell_type": "markdown",
   "metadata": {},
   "source": [
    "# ✅ Step 7: Comparación de modelos - Hiperparametros.\n"
   ]
  },
  {
   "cell_type": "code",
   "execution_count": 109,
   "metadata": {},
   "outputs": [
    {
     "name": "stdout",
     "output_type": "stream",
     "text": [
      "              Modelo      RMSE       MAE     R2\n",
      "0  Linear Regression  9567.019  6526.151  0.461\n",
      "1     MLP Regression  9204.822  6488.441  0.501\n",
      "2           CatBoost  5356.213  3168.824  0.831\n",
      "3      Random Forest  5781.401  3381.815  0.803\n",
      "4            XGBoost  5581.703  3226.555  0.816\n"
     ]
    }
   ],
   "source": [
    "resultados_basics = pd.DataFrame({\n",
    "    \"Modelo\": [\n",
    "        \"Linear Regression\",\n",
    "        \"MLP Regression\",\n",
    "        \"CatBoost\",\n",
    "        \"Random Forest\",\n",
    "        \"XGBoost\",\n",
    "    ],\n",
    "    \"RMSE\": [\n",
    "        rmse_baseline,\n",
    "        rmse_nn,\n",
    "        rmse,\n",
    "        rmse_rf,\n",
    "        rmse_xgb,\n",
    "    ],\n",
    "    \"MAE\": [\n",
    "        mae_baseline,\n",
    "        mae_nn,\n",
    "        mae,\n",
    "        mae_rf,\n",
    "        mae_xgb,\n",
    "    ],\n",
    "    \"R2\": [\n",
    "        r2_baseline,\n",
    "        r2_nn,\n",
    "        r2,\n",
    "        r2_rf,\n",
    "        r2_xgb,\n",
    "    ]\n",
    "})\n",
    "\n",
    "resultados_basics[[\"RMSE\", \"MAE\", \"R2\"]] = resultados_basics[[\"RMSE\", \"MAE\", \"R2\"]].round(3)\n",
    "\n",
    "# Vista rápida de la tabla\n",
    "print(resultados_basics)\n"
   ]
  },
  {
   "cell_type": "code",
   "execution_count": 110,
   "metadata": {},
   "outputs": [
    {
     "data": {
      "image/png": "[encoded data removed]",
      "text/plain": [
       "<Figure size 1200x600 with 1 Axes>"
      ]
     },
     "metadata": {},
     "output_type": "display_data"
    },
    {
     "data": {
      "image/png": "[encoded data removed]",
      "text/plain": [
       "<Figure size 1200x600 with 1 Axes>"
      ]
     },
     "metadata": {},
     "output_type": "display_data"
    },
    {
     "data": {
      "image/png": "[encoded data removed]",
      "text/plain": [
       "<Figure size 1200x600 with 1 Axes>"
      ]
     },
     "metadata": {},
     "output_type": "display_data"
    }
   ],
   "source": [
    "# Pintamos para ver los resultados\n",
    "best_rmse_idx = resultados_basics[\"RMSE\"].idxmin()\n",
    "best_mae_idx = resultados_basics[\"MAE\"].idxmin()\n",
    "best_r2_idx = resultados_basics[\"R2\"].idxmax()\n",
    "\n",
    "plt.figure(figsize=(12, 6))\n",
    "colors = ['#FF9999' if i == best_rmse_idx else '#66B3FF' for i in range(len(resultados_basics))]\n",
    "plt.barh(resultados_basics[\"Modelo\"], resultados_basics[\"RMSE\"], color=colors)\n",
    "plt.xlabel(\"RMSE\")\n",
    "plt.title(\"Comparación de modelos básicos - RMSE\")\n",
    "plt.grid(axis='x')\n",
    "plt.tight_layout()\n",
    "plt.show()\n",
    "\n",
    "plt.figure(figsize=(12, 6))\n",
    "colors = ['#FF9999' if i == best_mae_idx else '#66B3FF' for i in range(len(resultados_basics))]\n",
    "plt.barh(resultados_basics[\"Modelo\"], resultados_basics[\"MAE\"], color=colors)\n",
    "plt.xlabel(\"MAE\")\n",
    "plt.title(\"Comparación de modelos básicos - MAE\")\n",
    "plt.grid(axis='x')\n",
    "plt.tight_layout()\n",
    "plt.show()\n",
    "\n",
    "plt.figure(figsize=(12, 6))\n",
    "colors = ['#FF9999' if i == best_r2_idx else '#66B3FF' for i in range(len(resultados_basics))]\n",
    "plt.barh(resultados_basics[\"Modelo\"], resultados_basics[\"R2\"], color=colors)\n",
    "plt.xlabel(\"R²\")\n",
    "plt.title(\"Comparación de modelos básicos - R²\")\n",
    "plt.grid(axis='x')\n",
    "plt.tight_layout()\n",
    "plt.show()"
   ]
  },
  {
   "cell_type": "markdown",
   "metadata": {},
   "source": [
    "- Viendo la comparativa. Se ve que **CATBOOST** fue el mejor modelo baseline-basico. **XGBOOST** tiene gran potencial y **RF** se queda algo atrás pero le daremos una oportunidad."
   ]
  },
  {
   "cell_type": "markdown",
   "metadata": {},
   "source": [
    "---------"
   ]
  },
  {
   "cell_type": "markdown",
   "metadata": {},
   "source": [
    "- Búsqueda de hiperparametros **GRIDSEARCH** y **RANDOMIZEDSEARCH**"
   ]
  },
  {
   "cell_type": "markdown",
   "metadata": {},
   "source": [
    "**CATBOOST**"
   ]
  },
  {
   "cell_type": "code",
   "execution_count": 79,
   "metadata": {},
   "outputs": [
    {
     "ename": "KeyboardInterrupt",
     "evalue": "",
     "output_type": "error",
     "traceback": [
      "\u001b[1;31m---------------------------------------------------------------------------\u001b[0m",
      "\u001b[1;31mKeyboardInterrupt\u001b[0m                         Traceback (most recent call last)",
      "Cell \u001b[1;32mIn[79], line 18\u001b[0m\n\u001b[0;32m      3\u001b[0m param_grid \u001b[38;5;241m=\u001b[39m {\n\u001b[0;32m      4\u001b[0m     \u001b[38;5;124m\"\u001b[39m\u001b[38;5;124mdepth\u001b[39m\u001b[38;5;124m\"\u001b[39m: [\u001b[38;5;241m3\u001b[39m, \u001b[38;5;241m5\u001b[39m, \u001b[38;5;241m7\u001b[39m],\n\u001b[0;32m      5\u001b[0m     \u001b[38;5;124m\"\u001b[39m\u001b[38;5;124mlearning_rate\u001b[39m\u001b[38;5;124m\"\u001b[39m: [\u001b[38;5;241m0.01\u001b[39m, \u001b[38;5;241m0.1\u001b[39m, \u001b[38;5;241m0.5\u001b[39m],\n\u001b[0;32m      6\u001b[0m     \u001b[38;5;124m\"\u001b[39m\u001b[38;5;124miterations\u001b[39m\u001b[38;5;124m\"\u001b[39m: [\u001b[38;5;241m300\u001b[39m, \u001b[38;5;241m500\u001b[39m, \u001b[38;5;241m700\u001b[39m],\n\u001b[0;32m      7\u001b[0m     \u001b[38;5;124m\"\u001b[39m\u001b[38;5;124ml2_leaf_reg\u001b[39m\u001b[38;5;124m\"\u001b[39m: [\u001b[38;5;241m1\u001b[39m, \u001b[38;5;241m3\u001b[39m, \u001b[38;5;241m5\u001b[39m]\n\u001b[0;32m      8\u001b[0m }\n\u001b[0;32m     10\u001b[0m grid_cat \u001b[38;5;241m=\u001b[39m GridSearchCV(\n\u001b[0;32m     11\u001b[0m     estimator\u001b[38;5;241m=\u001b[39mCatBoostRegressor(verbose\u001b[38;5;241m=\u001b[39m\u001b[38;5;241m0\u001b[39m, random_state\u001b[38;5;241m=\u001b[39m\u001b[38;5;241m42\u001b[39m),\n\u001b[0;32m     12\u001b[0m     param_grid\u001b[38;5;241m=\u001b[39mparam_grid,\n\u001b[1;32m   (...)\u001b[0m\n\u001b[0;32m     15\u001b[0m     n_jobs\u001b[38;5;241m=\u001b[39m\u001b[38;5;241m1\u001b[39m\n\u001b[0;32m     16\u001b[0m )\n\u001b[1;32m---> 18\u001b[0m \u001b[43mgrid_cat\u001b[49m\u001b[38;5;241;43m.\u001b[39;49m\u001b[43mfit\u001b[49m\u001b[43m(\u001b[49m\u001b[43mX_train_filtered\u001b[49m\u001b[43m,\u001b[49m\u001b[43m \u001b[49m\u001b[43my_train_boxcox\u001b[49m\u001b[43m,\u001b[49m\u001b[43m \u001b[49m\u001b[43mcat_features\u001b[49m\u001b[38;5;241;43m=\u001b[39;49m\u001b[43mcategorical_features\u001b[49m\u001b[43m)\u001b[49m\n\u001b[0;32m     20\u001b[0m best_model_cat \u001b[38;5;241m=\u001b[39m grid_cat\u001b[38;5;241m.\u001b[39mbest_estimator_\n\u001b[0;32m     22\u001b[0m \u001b[38;5;66;03m# Mejores hiperparametros\u001b[39;00m\n",
      "File \u001b[1;32mc:\\Users\\lukat\\AppData\\Local\\Programs\\Python\\Python312\\Lib\\site-packages\\sklearn\\base.py:1389\u001b[0m, in \u001b[0;36m_fit_context.<locals>.decorator.<locals>.wrapper\u001b[1;34m(estimator, *args, **kwargs)\u001b[0m\n\u001b[0;32m   1382\u001b[0m     estimator\u001b[38;5;241m.\u001b[39m_validate_params()\n\u001b[0;32m   1384\u001b[0m \u001b[38;5;28;01mwith\u001b[39;00m config_context(\n\u001b[0;32m   1385\u001b[0m     skip_parameter_validation\u001b[38;5;241m=\u001b[39m(\n\u001b[0;32m   1386\u001b[0m         prefer_skip_nested_validation \u001b[38;5;129;01mor\u001b[39;00m global_skip_validation\n\u001b[0;32m   1387\u001b[0m     )\n\u001b[0;32m   1388\u001b[0m ):\n\u001b[1;32m-> 1389\u001b[0m     \u001b[38;5;28;01mreturn\u001b[39;00m \u001b[43mfit_method\u001b[49m\u001b[43m(\u001b[49m\u001b[43mestimator\u001b[49m\u001b[43m,\u001b[49m\u001b[43m \u001b[49m\u001b[38;5;241;43m*\u001b[39;49m\u001b[43margs\u001b[49m\u001b[43m,\u001b[49m\u001b[43m \u001b[49m\u001b[38;5;241;43m*\u001b[39;49m\u001b[38;5;241;43m*\u001b[39;49m\u001b[43mkwargs\u001b[49m\u001b[43m)\u001b[49m\n",
      "File \u001b[1;32mc:\\Users\\lukat\\AppData\\Local\\Programs\\Python\\Python312\\Lib\\site-packages\\sklearn\\model_selection\\_search.py:1023\u001b[0m, in \u001b[0;36mBaseSearchCV.fit\u001b[1;34m(self, X, y, **params)\u001b[0m\n\u001b[0;32m   1017\u001b[0m     results \u001b[38;5;241m=\u001b[39m \u001b[38;5;28mself\u001b[39m\u001b[38;5;241m.\u001b[39m_format_results(\n\u001b[0;32m   1018\u001b[0m         all_candidate_params, n_splits, all_out, all_more_results\n\u001b[0;32m   1019\u001b[0m     )\n\u001b[0;32m   1021\u001b[0m     \u001b[38;5;28;01mreturn\u001b[39;00m results\n\u001b[1;32m-> 1023\u001b[0m \u001b[38;5;28;43mself\u001b[39;49m\u001b[38;5;241;43m.\u001b[39;49m\u001b[43m_run_search\u001b[49m\u001b[43m(\u001b[49m\u001b[43mevaluate_candidates\u001b[49m\u001b[43m)\u001b[49m\n\u001b[0;32m   1025\u001b[0m \u001b[38;5;66;03m# multimetric is determined here because in the case of a callable\u001b[39;00m\n\u001b[0;32m   1026\u001b[0m \u001b[38;5;66;03m# self.scoring the return type is only known after calling\u001b[39;00m\n\u001b[0;32m   1027\u001b[0m first_test_score \u001b[38;5;241m=\u001b[39m all_out[\u001b[38;5;241m0\u001b[39m][\u001b[38;5;124m\"\u001b[39m\u001b[38;5;124mtest_scores\u001b[39m\u001b[38;5;124m\"\u001b[39m]\n",
      "File \u001b[1;32mc:\\Users\\lukat\\AppData\\Local\\Programs\\Python\\Python312\\Lib\\site-packages\\sklearn\\model_selection\\_search.py:1570\u001b[0m, in \u001b[0;36mGridSearchCV._run_search\u001b[1;34m(self, evaluate_candidates)\u001b[0m\n\u001b[0;32m   1568\u001b[0m \u001b[38;5;28;01mdef\u001b[39;00m \u001b[38;5;21m_run_search\u001b[39m(\u001b[38;5;28mself\u001b[39m, evaluate_candidates):\n\u001b[0;32m   1569\u001b[0m \u001b[38;5;250m    \u001b[39m\u001b[38;5;124;03m\"\"\"Search all candidates in param_grid\"\"\"\u001b[39;00m\n\u001b[1;32m-> 1570\u001b[0m     \u001b[43mevaluate_candidates\u001b[49m\u001b[43m(\u001b[49m\u001b[43mParameterGrid\u001b[49m\u001b[43m(\u001b[49m\u001b[38;5;28;43mself\u001b[39;49m\u001b[38;5;241;43m.\u001b[39;49m\u001b[43mparam_grid\u001b[49m\u001b[43m)\u001b[49m\u001b[43m)\u001b[49m\n",
      "File \u001b[1;32mc:\\Users\\lukat\\AppData\\Local\\Programs\\Python\\Python312\\Lib\\site-packages\\sklearn\\model_selection\\_search.py:969\u001b[0m, in \u001b[0;36mBaseSearchCV.fit.<locals>.evaluate_candidates\u001b[1;34m(candidate_params, cv, more_results)\u001b[0m\n\u001b[0;32m    961\u001b[0m \u001b[38;5;28;01mif\u001b[39;00m \u001b[38;5;28mself\u001b[39m\u001b[38;5;241m.\u001b[39mverbose \u001b[38;5;241m>\u001b[39m \u001b[38;5;241m0\u001b[39m:\n\u001b[0;32m    962\u001b[0m     \u001b[38;5;28mprint\u001b[39m(\n\u001b[0;32m    963\u001b[0m         \u001b[38;5;124m\"\u001b[39m\u001b[38;5;124mFitting \u001b[39m\u001b[38;5;132;01m{0}\u001b[39;00m\u001b[38;5;124m folds for each of \u001b[39m\u001b[38;5;132;01m{1}\u001b[39;00m\u001b[38;5;124m candidates,\u001b[39m\u001b[38;5;124m\"\u001b[39m\n\u001b[0;32m    964\u001b[0m         \u001b[38;5;124m\"\u001b[39m\u001b[38;5;124m totalling \u001b[39m\u001b[38;5;132;01m{2}\u001b[39;00m\u001b[38;5;124m fits\u001b[39m\u001b[38;5;124m\"\u001b[39m\u001b[38;5;241m.\u001b[39mformat(\n\u001b[0;32m    965\u001b[0m             n_splits, n_candidates, n_candidates \u001b[38;5;241m*\u001b[39m n_splits\n\u001b[0;32m    966\u001b[0m         )\n\u001b[0;32m    967\u001b[0m     )\n\u001b[1;32m--> 969\u001b[0m out \u001b[38;5;241m=\u001b[39m \u001b[43mparallel\u001b[49m\u001b[43m(\u001b[49m\n\u001b[0;32m    970\u001b[0m \u001b[43m    \u001b[49m\u001b[43mdelayed\u001b[49m\u001b[43m(\u001b[49m\u001b[43m_fit_and_score\u001b[49m\u001b[43m)\u001b[49m\u001b[43m(\u001b[49m\n\u001b[0;32m    971\u001b[0m \u001b[43m        \u001b[49m\u001b[43mclone\u001b[49m\u001b[43m(\u001b[49m\u001b[43mbase_estimator\u001b[49m\u001b[43m)\u001b[49m\u001b[43m,\u001b[49m\n\u001b[0;32m    972\u001b[0m \u001b[43m        \u001b[49m\u001b[43mX\u001b[49m\u001b[43m,\u001b[49m\n\u001b[0;32m    973\u001b[0m \u001b[43m        \u001b[49m\u001b[43my\u001b[49m\u001b[43m,\u001b[49m\n\u001b[0;32m    974\u001b[0m \u001b[43m        \u001b[49m\u001b[43mtrain\u001b[49m\u001b[38;5;241;43m=\u001b[39;49m\u001b[43mtrain\u001b[49m\u001b[43m,\u001b[49m\n\u001b[0;32m    975\u001b[0m \u001b[43m        \u001b[49m\u001b[43mtest\u001b[49m\u001b[38;5;241;43m=\u001b[39;49m\u001b[43mtest\u001b[49m\u001b[43m,\u001b[49m\n\u001b[0;32m    976\u001b[0m \u001b[43m        \u001b[49m\u001b[43mparameters\u001b[49m\u001b[38;5;241;43m=\u001b[39;49m\u001b[43mparameters\u001b[49m\u001b[43m,\u001b[49m\n\u001b[0;32m    977\u001b[0m \u001b[43m        \u001b[49m\u001b[43msplit_progress\u001b[49m\u001b[38;5;241;43m=\u001b[39;49m\u001b[43m(\u001b[49m\u001b[43msplit_idx\u001b[49m\u001b[43m,\u001b[49m\u001b[43m \u001b[49m\u001b[43mn_splits\u001b[49m\u001b[43m)\u001b[49m\u001b[43m,\u001b[49m\n\u001b[0;32m    978\u001b[0m \u001b[43m        \u001b[49m\u001b[43mcandidate_progress\u001b[49m\u001b[38;5;241;43m=\u001b[39;49m\u001b[43m(\u001b[49m\u001b[43mcand_idx\u001b[49m\u001b[43m,\u001b[49m\u001b[43m \u001b[49m\u001b[43mn_candidates\u001b[49m\u001b[43m)\u001b[49m\u001b[43m,\u001b[49m\n\u001b[0;32m    979\u001b[0m \u001b[43m        \u001b[49m\u001b[38;5;241;43m*\u001b[39;49m\u001b[38;5;241;43m*\u001b[39;49m\u001b[43mfit_and_score_kwargs\u001b[49m\u001b[43m,\u001b[49m\n\u001b[0;32m    980\u001b[0m \u001b[43m    \u001b[49m\u001b[43m)\u001b[49m\n\u001b[0;32m    981\u001b[0m \u001b[43m    \u001b[49m\u001b[38;5;28;43;01mfor\u001b[39;49;00m\u001b[43m \u001b[49m\u001b[43m(\u001b[49m\u001b[43mcand_idx\u001b[49m\u001b[43m,\u001b[49m\u001b[43m \u001b[49m\u001b[43mparameters\u001b[49m\u001b[43m)\u001b[49m\u001b[43m,\u001b[49m\u001b[43m \u001b[49m\u001b[43m(\u001b[49m\u001b[43msplit_idx\u001b[49m\u001b[43m,\u001b[49m\u001b[43m \u001b[49m\u001b[43m(\u001b[49m\u001b[43mtrain\u001b[49m\u001b[43m,\u001b[49m\u001b[43m \u001b[49m\u001b[43mtest\u001b[49m\u001b[43m)\u001b[49m\u001b[43m)\u001b[49m\u001b[43m \u001b[49m\u001b[38;5;129;43;01min\u001b[39;49;00m\u001b[43m \u001b[49m\u001b[43mproduct\u001b[49m\u001b[43m(\u001b[49m\n\u001b[0;32m    982\u001b[0m \u001b[43m        \u001b[49m\u001b[38;5;28;43menumerate\u001b[39;49m\u001b[43m(\u001b[49m\u001b[43mcandidate_params\u001b[49m\u001b[43m)\u001b[49m\u001b[43m,\u001b[49m\n\u001b[0;32m    983\u001b[0m \u001b[43m        \u001b[49m\u001b[38;5;28;43menumerate\u001b[39;49m\u001b[43m(\u001b[49m\u001b[43mcv\u001b[49m\u001b[38;5;241;43m.\u001b[39;49m\u001b[43msplit\u001b[49m\u001b[43m(\u001b[49m\u001b[43mX\u001b[49m\u001b[43m,\u001b[49m\u001b[43m \u001b[49m\u001b[43my\u001b[49m\u001b[43m,\u001b[49m\u001b[43m \u001b[49m\u001b[38;5;241;43m*\u001b[39;49m\u001b[38;5;241;43m*\u001b[39;49m\u001b[43mrouted_params\u001b[49m\u001b[38;5;241;43m.\u001b[39;49m\u001b[43msplitter\u001b[49m\u001b[38;5;241;43m.\u001b[39;49m\u001b[43msplit\u001b[49m\u001b[43m)\u001b[49m\u001b[43m)\u001b[49m\u001b[43m,\u001b[49m\n\u001b[0;32m    984\u001b[0m \u001b[43m    \u001b[49m\u001b[43m)\u001b[49m\n\u001b[0;32m    985\u001b[0m \u001b[43m\u001b[49m\u001b[43m)\u001b[49m\n\u001b[0;32m    987\u001b[0m \u001b[38;5;28;01mif\u001b[39;00m \u001b[38;5;28mlen\u001b[39m(out) \u001b[38;5;241m<\u001b[39m \u001b[38;5;241m1\u001b[39m:\n\u001b[0;32m    988\u001b[0m     \u001b[38;5;28;01mraise\u001b[39;00m \u001b[38;5;167;01mValueError\u001b[39;00m(\n\u001b[0;32m    989\u001b[0m         \u001b[38;5;124m\"\u001b[39m\u001b[38;5;124mNo fits were performed. \u001b[39m\u001b[38;5;124m\"\u001b[39m\n\u001b[0;32m    990\u001b[0m         \u001b[38;5;124m\"\u001b[39m\u001b[38;5;124mWas the CV iterator empty? \u001b[39m\u001b[38;5;124m\"\u001b[39m\n\u001b[0;32m    991\u001b[0m         \u001b[38;5;124m\"\u001b[39m\u001b[38;5;124mWere there no candidates?\u001b[39m\u001b[38;5;124m\"\u001b[39m\n\u001b[0;32m    992\u001b[0m     )\n",
      "File \u001b[1;32mc:\\Users\\lukat\\AppData\\Local\\Programs\\Python\\Python312\\Lib\\site-packages\\sklearn\\utils\\parallel.py:77\u001b[0m, in \u001b[0;36mParallel.__call__\u001b[1;34m(self, iterable)\u001b[0m\n\u001b[0;32m     72\u001b[0m config \u001b[38;5;241m=\u001b[39m get_config()\n\u001b[0;32m     73\u001b[0m iterable_with_config \u001b[38;5;241m=\u001b[39m (\n\u001b[0;32m     74\u001b[0m     (_with_config(delayed_func, config), args, kwargs)\n\u001b[0;32m     75\u001b[0m     \u001b[38;5;28;01mfor\u001b[39;00m delayed_func, args, kwargs \u001b[38;5;129;01min\u001b[39;00m iterable\n\u001b[0;32m     76\u001b[0m )\n\u001b[1;32m---> 77\u001b[0m \u001b[38;5;28;01mreturn\u001b[39;00m \u001b[38;5;28;43msuper\u001b[39;49m\u001b[43m(\u001b[49m\u001b[43m)\u001b[49m\u001b[38;5;241;43m.\u001b[39;49m\u001b[38;5;21;43m__call__\u001b[39;49m\u001b[43m(\u001b[49m\u001b[43miterable_with_config\u001b[49m\u001b[43m)\u001b[49m\n",
      "File \u001b[1;32mc:\\Users\\lukat\\AppData\\Local\\Programs\\Python\\Python312\\Lib\\site-packages\\joblib\\parallel.py:1918\u001b[0m, in \u001b[0;36mParallel.__call__\u001b[1;34m(self, iterable)\u001b[0m\n\u001b[0;32m   1916\u001b[0m     output \u001b[38;5;241m=\u001b[39m \u001b[38;5;28mself\u001b[39m\u001b[38;5;241m.\u001b[39m_get_sequential_output(iterable)\n\u001b[0;32m   1917\u001b[0m     \u001b[38;5;28mnext\u001b[39m(output)\n\u001b[1;32m-> 1918\u001b[0m     \u001b[38;5;28;01mreturn\u001b[39;00m output \u001b[38;5;28;01mif\u001b[39;00m \u001b[38;5;28mself\u001b[39m\u001b[38;5;241m.\u001b[39mreturn_generator \u001b[38;5;28;01melse\u001b[39;00m \u001b[38;5;28;43mlist\u001b[39;49m\u001b[43m(\u001b[49m\u001b[43moutput\u001b[49m\u001b[43m)\u001b[49m\n\u001b[0;32m   1920\u001b[0m \u001b[38;5;66;03m# Let's create an ID that uniquely identifies the current call. If the\u001b[39;00m\n\u001b[0;32m   1921\u001b[0m \u001b[38;5;66;03m# call is interrupted early and that the same instance is immediately\u001b[39;00m\n\u001b[0;32m   1922\u001b[0m \u001b[38;5;66;03m# re-used, this id will be used to prevent workers that were\u001b[39;00m\n\u001b[0;32m   1923\u001b[0m \u001b[38;5;66;03m# concurrently finalizing a task from the previous call to run the\u001b[39;00m\n\u001b[0;32m   1924\u001b[0m \u001b[38;5;66;03m# callback.\u001b[39;00m\n\u001b[0;32m   1925\u001b[0m \u001b[38;5;28;01mwith\u001b[39;00m \u001b[38;5;28mself\u001b[39m\u001b[38;5;241m.\u001b[39m_lock:\n",
      "File \u001b[1;32mc:\\Users\\lukat\\AppData\\Local\\Programs\\Python\\Python312\\Lib\\site-packages\\joblib\\parallel.py:1847\u001b[0m, in \u001b[0;36mParallel._get_sequential_output\u001b[1;34m(self, iterable)\u001b[0m\n\u001b[0;32m   1845\u001b[0m \u001b[38;5;28mself\u001b[39m\u001b[38;5;241m.\u001b[39mn_dispatched_batches \u001b[38;5;241m+\u001b[39m\u001b[38;5;241m=\u001b[39m \u001b[38;5;241m1\u001b[39m\n\u001b[0;32m   1846\u001b[0m \u001b[38;5;28mself\u001b[39m\u001b[38;5;241m.\u001b[39mn_dispatched_tasks \u001b[38;5;241m+\u001b[39m\u001b[38;5;241m=\u001b[39m \u001b[38;5;241m1\u001b[39m\n\u001b[1;32m-> 1847\u001b[0m res \u001b[38;5;241m=\u001b[39m \u001b[43mfunc\u001b[49m\u001b[43m(\u001b[49m\u001b[38;5;241;43m*\u001b[39;49m\u001b[43margs\u001b[49m\u001b[43m,\u001b[49m\u001b[43m \u001b[49m\u001b[38;5;241;43m*\u001b[39;49m\u001b[38;5;241;43m*\u001b[39;49m\u001b[43mkwargs\u001b[49m\u001b[43m)\u001b[49m\n\u001b[0;32m   1848\u001b[0m \u001b[38;5;28mself\u001b[39m\u001b[38;5;241m.\u001b[39mn_completed_tasks \u001b[38;5;241m+\u001b[39m\u001b[38;5;241m=\u001b[39m \u001b[38;5;241m1\u001b[39m\n\u001b[0;32m   1849\u001b[0m \u001b[38;5;28mself\u001b[39m\u001b[38;5;241m.\u001b[39mprint_progress()\n",
      "File \u001b[1;32mc:\\Users\\lukat\\AppData\\Local\\Programs\\Python\\Python312\\Lib\\site-packages\\sklearn\\utils\\parallel.py:139\u001b[0m, in \u001b[0;36m_FuncWrapper.__call__\u001b[1;34m(self, *args, **kwargs)\u001b[0m\n\u001b[0;32m    137\u001b[0m     config \u001b[38;5;241m=\u001b[39m {}\n\u001b[0;32m    138\u001b[0m \u001b[38;5;28;01mwith\u001b[39;00m config_context(\u001b[38;5;241m*\u001b[39m\u001b[38;5;241m*\u001b[39mconfig):\n\u001b[1;32m--> 139\u001b[0m     \u001b[38;5;28;01mreturn\u001b[39;00m \u001b[38;5;28;43mself\u001b[39;49m\u001b[38;5;241;43m.\u001b[39;49m\u001b[43mfunction\u001b[49m\u001b[43m(\u001b[49m\u001b[38;5;241;43m*\u001b[39;49m\u001b[43margs\u001b[49m\u001b[43m,\u001b[49m\u001b[43m \u001b[49m\u001b[38;5;241;43m*\u001b[39;49m\u001b[38;5;241;43m*\u001b[39;49m\u001b[43mkwargs\u001b[49m\u001b[43m)\u001b[49m\n",
      "File \u001b[1;32mc:\\Users\\lukat\\AppData\\Local\\Programs\\Python\\Python312\\Lib\\site-packages\\sklearn\\model_selection\\_validation.py:866\u001b[0m, in \u001b[0;36m_fit_and_score\u001b[1;34m(estimator, X, y, scorer, train, test, verbose, parameters, fit_params, score_params, return_train_score, return_parameters, return_n_test_samples, return_times, return_estimator, split_progress, candidate_progress, error_score)\u001b[0m\n\u001b[0;32m    864\u001b[0m         estimator\u001b[38;5;241m.\u001b[39mfit(X_train, \u001b[38;5;241m*\u001b[39m\u001b[38;5;241m*\u001b[39mfit_params)\n\u001b[0;32m    865\u001b[0m     \u001b[38;5;28;01melse\u001b[39;00m:\n\u001b[1;32m--> 866\u001b[0m         \u001b[43mestimator\u001b[49m\u001b[38;5;241;43m.\u001b[39;49m\u001b[43mfit\u001b[49m\u001b[43m(\u001b[49m\u001b[43mX_train\u001b[49m\u001b[43m,\u001b[49m\u001b[43m \u001b[49m\u001b[43my_train\u001b[49m\u001b[43m,\u001b[49m\u001b[43m \u001b[49m\u001b[38;5;241;43m*\u001b[39;49m\u001b[38;5;241;43m*\u001b[39;49m\u001b[43mfit_params\u001b[49m\u001b[43m)\u001b[49m\n\u001b[0;32m    868\u001b[0m \u001b[38;5;28;01mexcept\u001b[39;00m \u001b[38;5;167;01mException\u001b[39;00m:\n\u001b[0;32m    869\u001b[0m     \u001b[38;5;66;03m# Note fit time as time until error\u001b[39;00m\n\u001b[0;32m    870\u001b[0m     fit_time \u001b[38;5;241m=\u001b[39m time\u001b[38;5;241m.\u001b[39mtime() \u001b[38;5;241m-\u001b[39m start_time\n",
      "File \u001b[1;32mc:\\Users\\lukat\\AppData\\Local\\Programs\\Python\\Python312\\Lib\\site-packages\\catboost\\core.py:5873\u001b[0m, in \u001b[0;36mCatBoostRegressor.fit\u001b[1;34m(self, X, y, cat_features, text_features, embedding_features, graph, sample_weight, baseline, use_best_model, eval_set, verbose, logging_level, plot, plot_file, column_description, verbose_eval, metric_period, silent, early_stopping_rounds, save_snapshot, snapshot_file, snapshot_interval, init_model, callbacks, log_cout, log_cerr)\u001b[0m\n\u001b[0;32m   5871\u001b[0m \u001b[38;5;28;01mif\u001b[39;00m \u001b[38;5;124m'\u001b[39m\u001b[38;5;124mloss_function\u001b[39m\u001b[38;5;124m'\u001b[39m \u001b[38;5;129;01min\u001b[39;00m params:\n\u001b[0;32m   5872\u001b[0m     CatBoostRegressor\u001b[38;5;241m.\u001b[39m_check_is_compatible_loss(params[\u001b[38;5;124m'\u001b[39m\u001b[38;5;124mloss_function\u001b[39m\u001b[38;5;124m'\u001b[39m])\n\u001b[1;32m-> 5873\u001b[0m \u001b[38;5;28;01mreturn\u001b[39;00m \u001b[38;5;28;43mself\u001b[39;49m\u001b[38;5;241;43m.\u001b[39;49m\u001b[43m_fit\u001b[49m\u001b[43m(\u001b[49m\u001b[43mX\u001b[49m\u001b[43m,\u001b[49m\u001b[43m \u001b[49m\u001b[43my\u001b[49m\u001b[43m,\u001b[49m\u001b[43m \u001b[49m\u001b[43mcat_features\u001b[49m\u001b[43m,\u001b[49m\u001b[43m \u001b[49m\u001b[43mtext_features\u001b[49m\u001b[43m,\u001b[49m\u001b[43m \u001b[49m\u001b[43membedding_features\u001b[49m\u001b[43m,\u001b[49m\u001b[43m \u001b[49m\u001b[38;5;28;43;01mNone\u001b[39;49;00m\u001b[43m,\u001b[49m\u001b[43m \u001b[49m\u001b[43mgraph\u001b[49m\u001b[43m,\u001b[49m\u001b[43m \u001b[49m\u001b[43msample_weight\u001b[49m\u001b[43m,\u001b[49m\u001b[43m \u001b[49m\u001b[38;5;28;43;01mNone\u001b[39;49;00m\u001b[43m,\u001b[49m\u001b[43m \u001b[49m\u001b[38;5;28;43;01mNone\u001b[39;49;00m\u001b[43m,\u001b[49m\u001b[43m \u001b[49m\u001b[38;5;28;43;01mNone\u001b[39;49;00m\u001b[43m,\u001b[49m\u001b[43m \u001b[49m\u001b[38;5;28;43;01mNone\u001b[39;49;00m\u001b[43m,\u001b[49m\u001b[43m \u001b[49m\u001b[43mbaseline\u001b[49m\u001b[43m,\u001b[49m\n\u001b[0;32m   5874\u001b[0m \u001b[43m                 \u001b[49m\u001b[43muse_best_model\u001b[49m\u001b[43m,\u001b[49m\u001b[43m \u001b[49m\u001b[43meval_set\u001b[49m\u001b[43m,\u001b[49m\u001b[43m \u001b[49m\u001b[43mverbose\u001b[49m\u001b[43m,\u001b[49m\u001b[43m \u001b[49m\u001b[43mlogging_level\u001b[49m\u001b[43m,\u001b[49m\u001b[43m \u001b[49m\u001b[43mplot\u001b[49m\u001b[43m,\u001b[49m\u001b[43m \u001b[49m\u001b[43mplot_file\u001b[49m\u001b[43m,\u001b[49m\u001b[43m \u001b[49m\u001b[43mcolumn_description\u001b[49m\u001b[43m,\u001b[49m\n\u001b[0;32m   5875\u001b[0m \u001b[43m                 \u001b[49m\u001b[43mverbose_eval\u001b[49m\u001b[43m,\u001b[49m\u001b[43m \u001b[49m\u001b[43mmetric_period\u001b[49m\u001b[43m,\u001b[49m\u001b[43m \u001b[49m\u001b[43msilent\u001b[49m\u001b[43m,\u001b[49m\u001b[43m \u001b[49m\u001b[43mearly_stopping_rounds\u001b[49m\u001b[43m,\u001b[49m\n\u001b[0;32m   5876\u001b[0m \u001b[43m                 \u001b[49m\u001b[43msave_snapshot\u001b[49m\u001b[43m,\u001b[49m\u001b[43m \u001b[49m\u001b[43msnapshot_file\u001b[49m\u001b[43m,\u001b[49m\u001b[43m \u001b[49m\u001b[43msnapshot_interval\u001b[49m\u001b[43m,\u001b[49m\u001b[43m \u001b[49m\u001b[43minit_model\u001b[49m\u001b[43m,\u001b[49m\u001b[43m \u001b[49m\u001b[43mcallbacks\u001b[49m\u001b[43m,\u001b[49m\u001b[43m \u001b[49m\u001b[43mlog_cout\u001b[49m\u001b[43m,\u001b[49m\u001b[43m \u001b[49m\u001b[43mlog_cerr\u001b[49m\u001b[43m)\u001b[49m\n",
      "File \u001b[1;32mc:\\Users\\lukat\\AppData\\Local\\Programs\\Python\\Python312\\Lib\\site-packages\\catboost\\core.py:2410\u001b[0m, in \u001b[0;36mCatBoost._fit\u001b[1;34m(self, X, y, cat_features, text_features, embedding_features, pairs, graph, sample_weight, group_id, group_weight, subgroup_id, pairs_weight, baseline, use_best_model, eval_set, verbose, logging_level, plot, plot_file, column_description, verbose_eval, metric_period, silent, early_stopping_rounds, save_snapshot, snapshot_file, snapshot_interval, init_model, callbacks, log_cout, log_cerr)\u001b[0m\n\u001b[0;32m   2407\u001b[0m allow_clear_pool \u001b[38;5;241m=\u001b[39m train_params[\u001b[38;5;124m\"\u001b[39m\u001b[38;5;124mallow_clear_pool\u001b[39m\u001b[38;5;124m\"\u001b[39m]\n\u001b[0;32m   2409\u001b[0m \u001b[38;5;28;01mwith\u001b[39;00m plot_wrapper(plot, plot_file, \u001b[38;5;124m'\u001b[39m\u001b[38;5;124mTraining plots\u001b[39m\u001b[38;5;124m'\u001b[39m, [_get_train_dir(\u001b[38;5;28mself\u001b[39m\u001b[38;5;241m.\u001b[39mget_params())]):\n\u001b[1;32m-> 2410\u001b[0m     \u001b[38;5;28;43mself\u001b[39;49m\u001b[38;5;241;43m.\u001b[39;49m\u001b[43m_train\u001b[49m\u001b[43m(\u001b[49m\n\u001b[0;32m   2411\u001b[0m \u001b[43m        \u001b[49m\u001b[43mtrain_pool\u001b[49m\u001b[43m,\u001b[49m\n\u001b[0;32m   2412\u001b[0m \u001b[43m        \u001b[49m\u001b[43mtrain_params\u001b[49m\u001b[43m[\u001b[49m\u001b[38;5;124;43m\"\u001b[39;49m\u001b[38;5;124;43meval_sets\u001b[39;49m\u001b[38;5;124;43m\"\u001b[39;49m\u001b[43m]\u001b[49m\u001b[43m,\u001b[49m\n\u001b[0;32m   2413\u001b[0m \u001b[43m        \u001b[49m\u001b[43mparams\u001b[49m\u001b[43m,\u001b[49m\n\u001b[0;32m   2414\u001b[0m \u001b[43m        \u001b[49m\u001b[43mallow_clear_pool\u001b[49m\u001b[43m,\u001b[49m\n\u001b[0;32m   2415\u001b[0m \u001b[43m        \u001b[49m\u001b[43mtrain_params\u001b[49m\u001b[43m[\u001b[49m\u001b[38;5;124;43m\"\u001b[39;49m\u001b[38;5;124;43minit_model\u001b[39;49m\u001b[38;5;124;43m\"\u001b[39;49m\u001b[43m]\u001b[49m\n\u001b[0;32m   2416\u001b[0m \u001b[43m    \u001b[49m\u001b[43m)\u001b[49m\n\u001b[0;32m   2418\u001b[0m \u001b[38;5;66;03m# Have property feature_importance possibly set\u001b[39;00m\n\u001b[0;32m   2419\u001b[0m loss \u001b[38;5;241m=\u001b[39m \u001b[38;5;28mself\u001b[39m\u001b[38;5;241m.\u001b[39m_object\u001b[38;5;241m.\u001b[39m_get_loss_function_name()\n",
      "File \u001b[1;32mc:\\Users\\lukat\\AppData\\Local\\Programs\\Python\\Python312\\Lib\\site-packages\\catboost\\core.py:1790\u001b[0m, in \u001b[0;36m_CatBoostBase._train\u001b[1;34m(self, train_pool, test_pool, params, allow_clear_pool, init_model)\u001b[0m\n\u001b[0;32m   1789\u001b[0m \u001b[38;5;28;01mdef\u001b[39;00m \u001b[38;5;21m_train\u001b[39m(\u001b[38;5;28mself\u001b[39m, train_pool, test_pool, params, allow_clear_pool, init_model):\n\u001b[1;32m-> 1790\u001b[0m     \u001b[38;5;28;43mself\u001b[39;49m\u001b[38;5;241;43m.\u001b[39;49m\u001b[43m_object\u001b[49m\u001b[38;5;241;43m.\u001b[39;49m\u001b[43m_train\u001b[49m\u001b[43m(\u001b[49m\u001b[43mtrain_pool\u001b[49m\u001b[43m,\u001b[49m\u001b[43m \u001b[49m\u001b[43mtest_pool\u001b[49m\u001b[43m,\u001b[49m\u001b[43m \u001b[49m\u001b[43mparams\u001b[49m\u001b[43m,\u001b[49m\u001b[43m \u001b[49m\u001b[43mallow_clear_pool\u001b[49m\u001b[43m,\u001b[49m\u001b[43m \u001b[49m\u001b[43minit_model\u001b[49m\u001b[38;5;241;43m.\u001b[39;49m\u001b[43m_object\u001b[49m\u001b[43m \u001b[49m\u001b[38;5;28;43;01mif\u001b[39;49;00m\u001b[43m \u001b[49m\u001b[43minit_model\u001b[49m\u001b[43m \u001b[49m\u001b[38;5;28;43;01melse\u001b[39;49;00m\u001b[43m \u001b[49m\u001b[38;5;28;43;01mNone\u001b[39;49;00m\u001b[43m)\u001b[49m\n\u001b[0;32m   1791\u001b[0m     \u001b[38;5;28mself\u001b[39m\u001b[38;5;241m.\u001b[39m_set_trained_model_attributes()\n",
      "File \u001b[1;32m_catboost.pyx:5017\u001b[0m, in \u001b[0;36m_catboost._CatBoost._train\u001b[1;34m()\u001b[0m\n",
      "File \u001b[1;32m_catboost.pyx:5066\u001b[0m, in \u001b[0;36m_catboost._CatBoost._train\u001b[1;34m()\u001b[0m\n",
      "\u001b[1;31mKeyboardInterrupt\u001b[0m: "
     ]
    }
   ],
   "source": [
    "# CATBOOST GRIDSEARCH\n",
    "\n",
    "param_grid = {\n",
    "    \"depth\": [3, 5, 7],\n",
    "    \"learning_rate\": [0.01, 0.1, 0.5],\n",
    "    \"iterations\": [300, 500, 700],\n",
    "    \"l2_leaf_reg\": [1, 3, 5]\n",
    "}\n",
    "\n",
    "grid_cat = GridSearchCV(\n",
    "    estimator=CatBoostRegressor(verbose=0, random_state=42),\n",
    "    param_grid=param_grid,\n",
    "    cv=5,\n",
    "    scoring=scorer,\n",
    "    n_jobs=1 # en portatil tenia que utilizar 1, en mi PC podia utilizar -1\n",
    ")\n",
    "\n",
    "grid_cat.fit(X_train_filtered, y_train_boxcox, cat_features=categorical_features)\n",
    "\n",
    "best_model_cat = grid_cat.best_estimator_\n",
    "\n",
    "# Mejores hiperparametros\n",
    "print(f\"Mejores hiperparametros: {grid_cat.best_params_}\")\n",
    "print(f\"Mejor score RMSE: {-grid_cat.best_score_}\")\n",
    "\n",
    "# Predecir en el conjunto de prueba\n",
    "y_pred_boxcox_gridcat = best_model_cat.predict(X_test)\n",
    "y_pred_grid_cat = inv_boxcox(y_pred_boxcox_gridcat, lambda_val)\n",
    "\n",
    "# Evaluar el modelo\n",
    "mse_grid_cat = mean_squared_error(y_test, y_pred_grid_cat)\n",
    "rmse_grid_cat = np.sqrt(mse_grid_cat)\n",
    "mae_grid_cat = mean_absolute_error(y_test, y_pred_grid_cat)\n",
    "r2_grid_cat = r2_score(y_test, y_pred_grid_cat)\n",
    "\n",
    "print(f\"RMSE GridSearch CatBoost: {rmse_grid_cat:2f}\")\n",
    "print(f\"MAE GridSearch CatBoost: {mae_grid_cat:.2f}\")\n",
    "print(f\"R2 GridSearch CatBoost: {r2_grid_cat:4f}\")"
   ]
  },
  {
   "cell_type": "code",
   "execution_count": 113,
   "metadata": {},
   "outputs": [
    {
     "name": "stdout",
     "output_type": "stream",
     "text": [
      "Mejores hiperparametros: {'learning_rate': 0.3, 'l2_leaf_reg': 7, 'iterations': 500, 'depth': 6}\n",
      "Mejor score RMSE: 5512.113412613679\n",
      "RMSE RandomSearch CatBoost: 5290.786938\n",
      "MAE RandomSearch CatBoost: 3058.74\n",
      "R2 RandomSearch CatBoost: 0.835017\n"
     ]
    }
   ],
   "source": [
    "# CATBOOST RANDOMIZEDSEARCH\n",
    "param_dist_cat = {\n",
    "    \"depth\": [3,4,5,6,7],\n",
    "    \"learning_rate\": [0.01, 0.05, 0.1, 0.3, 0.5],\n",
    "    \"iterations\": [300, 500,700, 1000],\n",
    "    \"l2_leaf_reg\": [1, 3, 5, 7]\n",
    "}\n",
    "\n",
    "random_search = RandomizedSearchCV(\n",
    "    estimator=CatBoostRegressor(verbose=0, random_state=42),\n",
    "    param_distributions=param_dist_cat,\n",
    "    n_iter=30,\n",
    "    cv=5,\n",
    "    scoring=scorer,\n",
    "    n_jobs=-1,\n",
    "    random_state=42\n",
    ")\n",
    "\n",
    "random_search.fit(X_train_filtered, y_train_boxcox, cat_features=categorical_features)\n",
    "\n",
    "best_model_random = random_search.best_estimator_\n",
    "\n",
    "# Mejores hiperparámetros\n",
    "print(f\"Mejores hiperparametros: {random_search.best_params_}\")\n",
    "print(f\"Mejor score RMSE: {-random_search.best_score_}\")\n",
    "\n",
    "# Predecir en el conjunto de prueba\n",
    "y_pred_boxcox_random = best_model_random.predict(X_test)\n",
    "y_pred_random = inv_boxcox(y_pred_boxcox_random, lambda_val)\n",
    "\n",
    "# Evaluar el modelo\n",
    "mse_random = mean_squared_error(y_test, y_pred_random)\n",
    "rmse_random = np.sqrt(mse_random)\n",
    "mae_random = mean_absolute_error(y_test, y_pred_random)\n",
    "r2_random = r2_score(y_test, y_pred_random)\n",
    "\n",
    "print(f\"RMSE RandomSearch CatBoost: {rmse_random:2f}\")\n",
    "print(f\"MAE RandomSearch CatBoost: {mae_random:.2f}\")\n",
    "print(f\"R2 RandomSearch CatBoost: {r2_random:4f}\")\n",
    "\n"
   ]
  },
  {
   "cell_type": "markdown",
   "metadata": {},
   "source": [
    "**RANDOM FOREST**"
   ]
  },
  {
   "cell_type": "code",
   "execution_count": 114,
   "metadata": {},
   "outputs": [
    {
     "name": "stdout",
     "output_type": "stream",
     "text": [
      "Mejores hiperparámetros: {'max_depth': None, 'min_samples_leaf': 1, 'min_samples_split': 2, 'n_estimators': 300}\n",
      "Mejor score RMSE: 6208.17\n",
      "Random Forest (GridSearch)\n",
      "RMSE: 5786.688137892891\n",
      "MAE: 3382.628031980468\n",
      "R2: 0.8026400085818901\n"
     ]
    }
   ],
   "source": [
    "# RF GRIDSEARCH\n",
    "\n",
    "param_grid = {\n",
    "    'n_estimators': [100, 200, 300],\n",
    "    'max_depth': [None, 10, 20, 30],\n",
    "    'min_samples_split': [2, 5, 7],\n",
    "    'min_samples_leaf': [1, 2, 4]\n",
    "}\n",
    "\n",
    "model = RandomForestRegressor(random_state=42)\n",
    "\n",
    "grid_search = GridSearchCV(\n",
    "    estimator=RandomForestRegressor(random_state=42),\n",
    "    param_grid=param_grid,\n",
    "    scoring=scorer,\n",
    "    cv=5,\n",
    "    n_jobs=-1\n",
    ")\n",
    "\n",
    "grid_search.fit(X_train_df_mask, y_train_boxcox)\n",
    "best_model_rf = grid_search.best_estimator_\n",
    "\n",
    "# Mejores hiperparámetros\n",
    "best_params = grid_search.best_params_\n",
    "print(f\"Mejores hiperparámetros: {best_params}\")\n",
    "print(f\"Mejor score RMSE: {-grid_search.best_score_:.2f}\")\n",
    "\n",
    "# Predecir en el conjunto de prueba\n",
    "y_pred_boxcox_grid_rf = grid_search.predict(X_test_df)\n",
    "y_pred_grid_rf = inv_boxcox(y_pred_boxcox_grid_rf, lambda_val)\n",
    "\n",
    "# Evaluar el modelo\n",
    "mse_grid_rf = mean_squared_error(y_test, y_pred_grid_rf)\n",
    "rmse_grid_rf = np.sqrt(mse_grid_rf)\n",
    "mae_grid_rf = mean_absolute_error(y_test, y_pred_grid_rf)\n",
    "r2_grid_rf = r2_score(y_test, y_pred_grid_rf)\n",
    "\n",
    "print(f\"Random Forest (GridSearch)\")\n",
    "print(f\"RMSE: {rmse_grid_rf}\")\n",
    "print(f\"MAE: {mae_grid_rf}\")\n",
    "print(f\"R2: {r2_grid_rf}\")\n"
   ]
  },
  {
   "cell_type": "code",
   "execution_count": 115,
   "metadata": {},
   "outputs": [
    {
     "name": "stdout",
     "output_type": "stream",
     "text": [
      "Mejores hiperparámetros RF (RandomizedSearch): {'n_estimators': 300, 'min_samples_split': 2, 'min_samples_leaf': 1, 'max_depth': 30}\n",
      "Mejor score RMSE RF (RandomizedSearch): 6210.70\n",
      "Random Forest (RandomizedSearch)\n",
      "RMSE: 5800.95\n",
      "MAE: 3390.54\n",
      "R2: 0.8017\n"
     ]
    }
   ],
   "source": [
    "# RF RandomizedSearch\n",
    "\n",
    "param_dist_rf = {\n",
    "    'n_estimators': [100, 200, 300, 400],\n",
    "    'max_depth': [None, 10, 20, 30],\n",
    "    'min_samples_split': [2, 5, 7],\n",
    "    'min_samples_leaf': [1, 2, 4]\n",
    "}\n",
    "\n",
    "random_search_rf = RandomizedSearchCV(\n",
    "    estimator=RandomForestRegressor(random_state=42),\n",
    "    param_distributions=param_dist_rf,\n",
    "    n_iter=30,\n",
    "    scoring=scorer,\n",
    "    cv=5,\n",
    "    n_jobs=-1,\n",
    "    random_state=42\n",
    ")\n",
    "random_search_rf.fit(X_train_df_mask, y_train_boxcox)\n",
    "best_model_rf_random = random_search_rf.best_estimator_\n",
    "best_params_rf_random = random_search_rf.best_params_\n",
    "print(f\"Mejores hiperparámetros RF (RandomizedSearch): {best_params_rf_random}\")\n",
    "print(f\"Mejor score RMSE RF (RandomizedSearch): {-random_search_rf.best_score_:.2f}\")\n",
    "\n",
    "# Predecir en el conjunto de prueba\n",
    "y_pred_boxcox_rf_random = random_search_rf.predict(X_test_df)\n",
    "y_pred_rf_random = inv_boxcox(y_pred_boxcox_rf_random, lambda_val)\n",
    "\n",
    "# Evaluar el modelo\n",
    "mse_rf_random = mean_squared_error(y_test, y_pred_rf_random)\n",
    "rmse_rf_random = np.sqrt(mse_rf_random)\n",
    "mae_rf_random = mean_absolute_error(y_test, y_pred_rf_random)\n",
    "r2_rf_random = r2_score(y_test, y_pred_rf_random)\n",
    "\n",
    "print(f\"Random Forest (RandomizedSearch)\")\n",
    "print(f\"RMSE: {rmse_rf_random:.2f}\")\n",
    "print(f\"MAE: {mae_rf_random:.2f}\")\n",
    "print(f\"R2: {r2_rf_random:.4f}\")"
   ]
  },
  {
   "cell_type": "markdown",
   "metadata": {},
   "source": [
    "**XGBOOST**"
   ]
  },
  {
   "cell_type": "code",
   "execution_count": 116,
   "metadata": {},
   "outputs": [
    {
     "name": "stdout",
     "output_type": "stream",
     "text": [
      "Mejores hiperparámetros: {'learning_rate': 0.2, 'max_depth': 4, 'n_estimators': 300}\n",
      "Mejor score RMSE: 5422.98\n",
      "XGBoost (GridSearch)\n",
      "RMSE: 5230.24\n",
      "MAE: 3103.95\n",
      "R2: 0.8388\n"
     ]
    }
   ],
   "source": [
    "# XGBOOST GRIDSEARCH\n",
    "\n",
    "param_grid = {\n",
    "    'n_estimators': [100, 200, 300],\n",
    "    'learning_rate': [0.01, 0.2, 0.3],\n",
    "    'max_depth': [4, 5, 6]\n",
    "}\n",
    "\n",
    "# Búsqueda de hiperparámetros\n",
    "grid_search = GridSearchCV(\n",
    "    estimator= XGBRegressor(random_state=42),\n",
    "    param_grid=param_grid,\n",
    "    cv=5,\n",
    "    scoring=scorer,\n",
    "    n_jobs=-1\n",
    ")\n",
    "grid_search.fit(X_train_df_mask, y_train_boxcox)\n",
    "\n",
    "best_model_xgb = grid_search.best_estimator_\n",
    "\n",
    "# Mejores hiperparámetros\n",
    "print(f\"Mejores hiperparámetros: {grid_search.best_params_}\")\n",
    "print(f\"Mejor score RMSE: {-grid_search.best_score_:.2f}\")\n",
    "\n",
    "# Predecir con el mejor modelo\n",
    "y_pred_boxcox_grid_xgb = grid_search.predict(X_test_df)\n",
    "y_pred_grid_xgb = inv_boxcox(y_pred_boxcox_grid_xgb, lambda_val)\n",
    "\n",
    "# Evaluar el modelo\n",
    "mse_grid_xgb = mean_squared_error(y_test, y_pred_grid_xgb)\n",
    "rmse_grid_xgb = np.sqrt(mse_grid_xgb)\n",
    "mae_grid_xgb = mean_absolute_error(y_test, y_pred_grid_xgb)\n",
    "r2_grid_xgb = r2_score(y_test, y_pred_grid_xgb)\n",
    "\n",
    "print(f\"XGBoost (GridSearch)\")\n",
    "print(f\"RMSE: {rmse_grid_xgb:.2f}\")\n",
    "print(f\"MAE: {mae_grid_xgb:.2f}\")\n",
    "print(f\"R2: {r2_grid_xgb:.4f}\")"
   ]
  },
  {
   "cell_type": "code",
   "execution_count": 117,
   "metadata": {},
   "outputs": [
    {
     "name": "stdout",
     "output_type": "stream",
     "text": [
      "Mejores hiperparámetros XGBoost (RandomizedSearch): {'n_estimators': 300, 'max_depth': 4, 'learning_rate': 0.3}\n",
      "Mejor score RMSE XGBoost (RandomizedSearch): 5446.50\n",
      "XGBoost (RandomizedSearch)\n",
      "RMSE: 5242.99\n",
      "MAE: 3054.34\n",
      "R2: 0.8380\n"
     ]
    }
   ],
   "source": [
    "# XGBOOST RANDOMIZEDSEARCH\n",
    "\n",
    "param_dist_xgb = {\n",
    "    'n_estimators': [100, 200, 300, 400],\n",
    "    'learning_rate': [0.01, 0.05, 0.1, 0.3],\n",
    "    'max_depth': [4, 5, 6, 7]\n",
    "}\n",
    "\n",
    "random_search_xgb = RandomizedSearchCV(\n",
    "    estimator=XGBRegressor(random_state=42),\n",
    "    param_distributions=param_dist_xgb,\n",
    "    n_iter=30,\n",
    "    scoring=scorer,\n",
    "    cv=5,\n",
    "    n_jobs=-1,\n",
    "    random_state=42\n",
    ")\n",
    "\n",
    "random_search_xgb.fit(X_train_df_mask, y_train_boxcox)\n",
    "\n",
    "best_model_xgb_random = random_search_xgb.best_estimator_\n",
    "best_params_xgb_random = random_search_xgb.best_params_\n",
    "\n",
    "print(f\"Mejores hiperparámetros XGBoost (RandomizedSearch): {best_params_xgb_random}\")\n",
    "print(f\"Mejor score RMSE XGBoost (RandomizedSearch): {-random_search_xgb.best_score_:.2f}\")\n",
    "\n",
    "# Predecir en el conjunto de prueba\n",
    "y_pred_boxcox_xgb_random = random_search_xgb.predict(X_test_df)\n",
    "y_pred_xgb_random = inv_boxcox(y_pred_boxcox_xgb_random, lambda_val)\n",
    "\n",
    "# Evaluar el modelo\n",
    "mse_xgb_random = mean_squared_error(y_test, y_pred_xgb_random)\n",
    "rmse_xgb_random = np.sqrt(mse_xgb_random)\n",
    "mae_xgb_random = mean_absolute_error(y_test, y_pred_xgb_random)\n",
    "r2_xgb_random = r2_score(y_test, y_pred_xgb_random)\n",
    "\n",
    "print(f\"XGBoost (RandomizedSearch)\")\n",
    "print(f\"RMSE: {rmse_xgb_random:.2f}\")\n",
    "print(f\"MAE: {mae_xgb_random:.2f}\")\n",
    "print(f\"R2: {r2_xgb_random:.4f}\")"
   ]
  },
  {
   "cell_type": "code",
   "execution_count": 118,
   "metadata": {},
   "outputs": [
    {
     "name": "stdout",
     "output_type": "stream",
     "text": [
      "                           Modelo      RMSE       MAE     R2\n",
      "0             CatBoost GridSearch  5260.051  3136.048  0.837\n",
      "1       CatBoost RandomizedSearch  5290.787  3058.736  0.835\n",
      "2        Random Forest GridSearch  5786.688  3382.628  0.803\n",
      "3  Random Forest RandomizedSearch  5800.952  3390.540  0.802\n",
      "4               Xboost GridSearch  5230.238  3103.951  0.839\n",
      "5         Xboost RandomizedSearch  5242.992  3054.339  0.838\n"
     ]
    }
   ],
   "source": [
    "resultados_hiperparametros = pd.DataFrame({\n",
    "    \"Modelo\": [\n",
    "        \"CatBoost GridSearch\",\n",
    "        \"CatBoost RandomizedSearch\",\n",
    "        \"Random Forest GridSearch\",\n",
    "        \"Random Forest RandomizedSearch\",\n",
    "        \"Xboost GridSearch\",\n",
    "        \"Xboost RandomizedSearch\",\n",
    "    ],\n",
    "    \"RMSE\": [\n",
    "        rmse_grid_cat,\n",
    "        rmse_random,\n",
    "        rmse_grid_rf,\n",
    "        rmse_rf_random,\n",
    "        rmse_grid_xgb,\n",
    "        rmse_xgb_random\n",
    "    ],\n",
    "    \"MAE\": [\n",
    "        mae_grid_cat,\n",
    "        mae_random,\n",
    "        mae_grid_rf,\n",
    "        mae_rf_random,\n",
    "        mae_grid_xgb,\n",
    "        mae_xgb_random\n",
    "    ],\n",
    "    \"R2\": [\n",
    "        r2_grid_cat,\n",
    "        r2_random,\n",
    "        r2_grid_rf,\n",
    "        r2_rf_random,\n",
    "        r2_grid_xgb,\n",
    "        r2_xgb_random\n",
    "    ]\n",
    "})\n",
    "# Redondeamos\n",
    "resultados_hiperparametros[[\"RMSE\", \"MAE\", \"R2\"]] = resultados_hiperparametros[[\"RMSE\", \"MAE\", \"R2\"]].round(3)\n",
    "# Vista rápida de la tabla\n",
    "print(resultados_hiperparametros)"
   ]
  },
  {
   "cell_type": "code",
   "execution_count": 119,
   "metadata": {},
   "outputs": [
    {
     "data": {
      "image/png": "[encoded data removed]",
      "text/plain": [
       "<Figure size 1200x600 with 1 Axes>"
      ]
     },
     "metadata": {},
     "output_type": "display_data"
    },
    {
     "data": {
      "image/png": "[encoded data removed]",
      "text/plain": [
       "<Figure size 1200x600 with 1 Axes>"
      ]
     },
     "metadata": {},
     "output_type": "display_data"
    },
    {
     "data": {
      "image/png": "[encoded data removed]",
      "text/plain": [
       "<Figure size 1200x600 with 1 Axes>"
      ]
     },
     "metadata": {},
     "output_type": "display_data"
    }
   ],
   "source": [
    "# Pintamos para ver los resultados\n",
    "\n",
    "best_rmse_idx_hiper = resultados_hiperparametros[\"RMSE\"].idxmin()\n",
    "best_mae_idx_hiper = resultados_hiperparametros[\"MAE\"].idxmin()\n",
    "best_r2_idx_hiper = resultados_hiperparametros[\"R2\"].idxmax()\n",
    "\n",
    "plt.figure(figsize=(12, 6))\n",
    "colors = ['#FF9999' if i == best_rmse_idx_hiper else '#66B3FF' for i in range(len(resultados_hiperparametros))]\n",
    "plt.barh(resultados_hiperparametros[\"Modelo\"], resultados_hiperparametros[\"RMSE\"], color=colors)\n",
    "plt.xlabel(\"RMSE\")\n",
    "plt.title(\"Comparación de modelos hiperparámetros - RMSE\")\n",
    "plt.grid(axis='x')\n",
    "plt.tight_layout()\n",
    "plt.show()\n",
    "\n",
    "plt.figure(figsize=(12, 6))\n",
    "colors = ['#FF9999' if i == best_mae_idx_hiper else '#66B3FF' for i in range(len(resultados_hiperparametros))]\n",
    "plt.barh(resultados_hiperparametros[\"Modelo\"], resultados_hiperparametros[\"MAE\"], color=colors)\n",
    "plt.xlabel(\"MAE\")\n",
    "plt.title(\"Comparación de modelos hiperparámetros - MAE\")\n",
    "plt.grid(axis='x')\n",
    "plt.tight_layout()\n",
    "plt.show()\n",
    "\n",
    "plt.figure(figsize=(12, 6))\n",
    "colors = ['#FF9999' if i == best_r2_idx_hiper else '#66B3FF' for i in range(len(resultados_hiperparametros))]\n",
    "plt.barh(resultados_hiperparametros[\"Modelo\"], resultados_hiperparametros[\"R2\"], color=colors)\n",
    "plt.xlabel(\"R²\")\n",
    "plt.title(\"Comparación de modelos hiperparámetros - R²\")\n",
    "plt.grid(axis='x')\n",
    "plt.tight_layout()\n",
    "plt.show()\n"
   ]
  },
  {
   "cell_type": "markdown",
   "metadata": {},
   "source": [
    "- Viendo que nuestro GridSearch en **CATBOOST** obtuvo mejor resultado, vamos a implementarlo en el modelo y lo evaluamos finalmente.\n",
    "- **RANDOM FOREST** no ha cumplido y será descartado para el siguiente paso.\n",
    "- **XGBOOST** muy interesante, rápido y ha mejorado respecto a su basico. Utilizaremos los hiperparametros de Gridsearch."
   ]
  },
  {
   "cell_type": "markdown",
   "metadata": {},
   "source": [
    "# ✅ Step 8: Evaluacion final - CATBOOST vs XGBOOST.\n"
   ]
  },
  {
   "cell_type": "markdown",
   "metadata": {},
   "source": [
    "--------"
   ]
  },
  {
   "cell_type": "markdown",
   "metadata": {},
   "source": [
    "**CATBOOST - EVALUACION FINAL**"
   ]
  },
  {
   "cell_type": "code",
   "execution_count": 122,
   "metadata": {},
   "outputs": [
    {
     "name": "stdout",
     "output_type": "stream",
     "text": [
      "Score CatBoost Inicial R2 (BoxCox no invertido): 0.8629\n",
      "Entrenamiento (Box-Cox): RMSE = 0.46\n",
      "Entrenamiento (Original): RMSE = 5080.58, MAE = 3134.64, R2 = 0.8350\n",
      "\n",
      "Validación Cruzada (Original):\n",
      "RMSE por fold: [5788.8694795577585, 5413.8676697803, 5743.834775200887, 5449.391118928253, 5311.018815527692]\n",
      "MAE por fold: [3247.690047292906, 3080.5296506169325, 3438.981820168298, 3134.5497556187424, 3170.417505647456]\n",
      "R2 por fold: [0.7925523964389998, 0.8085998294707365, 0.7953619530273177, 0.7937128689054365, 0.825628203943759]\n",
      "RMSE Promedio: 5541.396371798978\n",
      "MAE Promedio: 3214.4337558688667\n",
      "R2 Promedio: 0.8031710503572498\n",
      "\n",
      "Test Set (Original):\n",
      "RMSE: 5356.212559\n",
      "MAE: 3136.047537\n",
      "R2: 0.8369\n"
     ]
    }
   ],
   "source": [
    "# Evaluacion final\n",
    "\n",
    "#KFold\n",
    "kf = KFold(n_splits=5, shuffle=True, random_state=42)\n",
    "\n",
    "# Entrenamos el modelo con los datos transformados\n",
    "cat_model = CatBoostRegressor(depth= 3, iterations=500, l2_leaf_reg= 5, learning_rate=0.5, verbose=0, random_state=42)\n",
    "cat_model.fit(X_train_filtered, y_train_boxcox, cat_features=categorical_features)\n",
    "\n",
    "# Realizamos score en el conjunto de entrenamiento\n",
    "score_cat_model = cat_model.score(X_train_filtered, y_train_boxcox)\n",
    "print(f\"Score CatBoost Inicial R2 (BoxCox no invertido): {score_cat_model:.4f}\")\n",
    "\n",
    "y_train_pred_boxcox_cat = cat_model.predict(X_train_filtered)\n",
    "\n",
    "# Métricas en el espacio Box-Cox\n",
    "train_rmse_boxcox = np.sqrt(mean_squared_error(y_train_boxcox, y_train_pred_boxcox_cat))\n",
    "print(f\"Entrenamiento (Box-Cox): RMSE = {train_rmse_boxcox:.2f}\")\n",
    "\n",
    "# Invertimos\n",
    "y_train_pred_original = inv_boxcox(y_train_pred_boxcox_cat, lambda_val)\n",
    "y_train_original = inv_boxcox(y_train_boxcox, lambda_val)\n",
    "\n",
    "train_rmse = np.sqrt(mean_squared_error(y_train_original, y_train_pred_original))\n",
    "train_mae = mean_absolute_error(y_train_original, y_train_pred_original)\n",
    "train_r2 = r2_score(y_train_original, y_train_pred_original)\n",
    "print(f\"Entrenamiento (Original): RMSE = {train_rmse:.2f}, MAE = {train_mae:.2f}, R2 = {train_r2:.4f}\")\n",
    "\n",
    "# Realizamos score en el conjunto de validación manualmente\n",
    "# porque kfold al hacer split, no tiene en cuenta categorical_features\n",
    "cv_rmse_scores = []\n",
    "cv_mae_scores = []\n",
    "cv_r2_scores = []\n",
    "for train_index, val_index in kf.split(X_train_filtered):\n",
    "    X_train_fold = X_train_filtered.iloc[train_index]\n",
    "    X_val_fold = X_train_filtered.iloc[val_index]\n",
    "    y_train_fold = y_train_boxcox[train_index]\n",
    "    y_val_fold = y_train_boxcox[val_index]\n",
    "\n",
    "    # Crear el modelo\n",
    "    fold_model = CatBoostRegressor(depth= 3, iterations=500, l2_leaf_reg= 5, learning_rate=0.5, verbose=0, random_state=42)\n",
    "    fold_model.fit(X_train_fold, y_train_fold, cat_features=categorical_features)\n",
    "\n",
    "    # Predit Box Cox\n",
    "    y_val_pred_boxcox_cat = fold_model.predict(X_val_fold)\n",
    "\n",
    "    # Invertir Box-Cox\n",
    "    y_val_pred_original = inv_boxcox(y_val_pred_boxcox_cat, lambda_val)\n",
    "    y_val_original = inv_boxcox(y_val_fold, lambda_val)\n",
    "\n",
    "    # Calcular métricas\n",
    "    rmse_fold = np.sqrt(mean_squared_error(y_val_original, y_val_pred_original))\n",
    "    mae_fold = mean_absolute_error(y_val_original, y_val_pred_original)\n",
    "    r2_fold = r2_score(y_val_original, y_val_pred_original)\n",
    "\n",
    "    cv_rmse_scores.append(rmse_fold)\n",
    "    cv_mae_scores.append(mae_fold)\n",
    "    cv_r2_scores.append(r2_fold)\n",
    "\n",
    "print(\"\\nValidación Cruzada (Original):\")\n",
    "print(\"RMSE por fold:\", (cv_rmse_scores))\n",
    "print(\"MAE por fold:\", (cv_mae_scores))\n",
    "print(\"R2 por fold:\", (cv_r2_scores))\n",
    "print(\"RMSE Promedio:\", np.mean(cv_rmse_scores))\n",
    "print(\"MAE Promedio:\", np.mean(cv_mae_scores))\n",
    "print(\"R2 Promedio:\", np.mean(cv_r2_scores))\n",
    "\n",
    "# Realizamos score en el conjunto de prueba\n",
    "y_pred_boxcox_cat = cat_model.predict(X_test)\n",
    "y_pred = inv_boxcox(y_pred_boxcox_cat, lambda_val)\n",
    "\n",
    "mse_cat_test = mean_squared_error(y_test, y_pred)\n",
    "rmse_cat_test = np.sqrt(mse)\n",
    "mae_cat_test = mean_absolute_error(y_test, y_pred)\n",
    "r2_cat_test = r2_score(y_test, y_pred)\n",
    "\n",
    "print(\"\\nTest Set (Original):\")\n",
    "print(f\"RMSE: {rmse_cat_test:2f}\")\n",
    "print(f\"MAE: {mae_cat_test:2f}\")\n",
    "print(f\"R2: {r2_cat_test:.4f}\")"
   ]
  },
  {
   "cell_type": "markdown",
   "metadata": {},
   "source": [
    "**XGBOOST - EVALUACION FINAL**"
   ]
  },
  {
   "cell_type": "code",
   "execution_count": 124,
   "metadata": {},
   "outputs": [
    {
     "name": "stdout",
     "output_type": "stream",
     "text": [
      "Score XGBoost Inicial R2 (BoxCox no invertido): 0.9055\n",
      "Entrenamiento (Box-Cox): RMSE = 0.39\n",
      "Entrenamiento (Original): RMSE = 4124.31, MAE = 2430.59, R2 = 0.8912\n",
      "\n",
      "Validación Cruzada (Original):\n",
      "RMSE por fold: [5791.127090719666, 5333.752988790327, 5875.888852827113, 5592.111836491229, 5302.723453065917]\n",
      "MAE por fold: [3216.550428157659, 3087.5354583740236, 3386.413328928016, 3148.351726569164, 3084.0157704294465]\n",
      "R2 por fold: [0.792390559192349, 0.8142226145687974, 0.7858442944899224, 0.7827659628672986, 0.8261724865622171]\n",
      "RMSE Promedio: 5579.120844378851\n",
      "MAE Promedio: 3184.573342491662\n",
      "R2 Promedio: 0.8002791835361169\n",
      "\n",
      "Test Set (Original):\n",
      "RMSE: 5581.70\n",
      "MAE: 3103.95\n",
      "R2: 0.8388\n"
     ]
    }
   ],
   "source": [
    "# Evaluacion final\n",
    "\n",
    "# Kfold\n",
    "kf_xgb = KFold(n_splits=5, shuffle=True, random_state=42)\n",
    "\n",
    "# Entrenamos el modelo con los datos transformados\n",
    "xgb_model = XGBRegressor(learning_rate = 0.2, max_depth = 4, n_estimators = 300, verbosity=0, random_state=42)\n",
    "xgb_model.fit(X_train_df_mask, y_train_boxcox)\n",
    "\n",
    "# Realizamos score en el conjunto de entrenamiento\n",
    "score_xgb_model = xgb_model.score(X_train_df_mask, y_train_boxcox)\n",
    "print(f\"Score XGBoost Inicial R2 (BoxCox no invertido): {score_xgb_model:.4f}\")\n",
    "\n",
    "y_train_pred_boxcox_xgb = xgb_model.predict(X_train_df_mask)\n",
    "\n",
    "# Métricas en el espacio Box-Cox\n",
    "train_rmse_boxcox_xgb = np.sqrt(mean_squared_error(y_train_boxcox, y_train_pred_boxcox_xgb))\n",
    "print(f\"Entrenamiento (Box-Cox): RMSE = {train_rmse_boxcox_xgb:.2f}\")\n",
    "\n",
    "# Invertimos\n",
    "y_train_pred_original_xgb = inv_boxcox(y_train_pred_boxcox_xgb, lambda_val)\n",
    "y_train_original_xgb = inv_boxcox(y_train_boxcox, lambda_val)\n",
    "\n",
    "train_rmse_xgb = np.sqrt(mean_squared_error(y_train_original_xgb, y_train_pred_original_xgb))\n",
    "train_mae_xgb = mean_absolute_error(y_train_original_xgb, y_train_pred_original_xgb)\n",
    "train_r2_xgb = r2_score(y_train_original_xgb, y_train_pred_original_xgb)\n",
    "print(f\"Entrenamiento (Original): RMSE = {train_rmse_xgb:.2f}, MAE = {train_mae_xgb:.2f}, R2 = {train_r2_xgb:.4f}\")\n",
    "\n",
    "# Realizamos score en el conjunto de validación manualmente\n",
    "# simplemente por seguir la misma guia que en CATBOOST\n",
    "\n",
    "cv_rmse_scores_xgb = []\n",
    "cv_mae_scores_xgb = []\n",
    "cv_r2_scores_xgb = []\n",
    "\n",
    "for train_index, val_index in kf_xgb.split(X_train_df_mask):\n",
    "    X_train_fold = X_train_df_mask.iloc[train_index]\n",
    "    X_val_fold = X_train_df_mask.iloc[val_index]\n",
    "    y_train_fold = y_train_boxcox[train_index]\n",
    "    y_val_fold = y_train_boxcox[val_index]\n",
    "\n",
    "    # Crear el modelo\n",
    "    fold_model_xgb = XGBRegressor(learning_rate = 0.2, max_depth = 4, n_estimators = 300, verbosity=0, random_state=42)\n",
    "    fold_model_xgb.fit(X_train_fold, y_train_fold)\n",
    "\n",
    "    # Predit Box Cox\n",
    "    y_val_pred_boxcox_xgb = fold_model_xgb.predict(X_val_fold)\n",
    "\n",
    "    # Invertir Box-Cox\n",
    "    y_val_pred_original_xgb = inv_boxcox(y_val_pred_boxcox_xgb, lambda_val)\n",
    "    y_val_original_xgb = inv_boxcox(y_val_fold, lambda_val)\n",
    "\n",
    "    # Calcular métricas\n",
    "    rmse_fold_xgb = np.sqrt(mean_squared_error(y_val_original_xgb, y_val_pred_original_xgb))\n",
    "    mae_fold_xgb = mean_absolute_error(y_val_original_xgb, y_val_pred_original_xgb)\n",
    "    r2_fold_xgb = r2_score(y_val_original_xgb, y_val_pred_original_xgb)\n",
    "\n",
    "    cv_rmse_scores_xgb.append(rmse_fold_xgb)\n",
    "    cv_mae_scores_xgb.append(mae_fold_xgb)\n",
    "    cv_r2_scores_xgb.append(r2_fold_xgb)\n",
    "\n",
    "print(\"\\nValidación Cruzada (Original):\")\n",
    "print(\"RMSE por fold:\", (cv_rmse_scores_xgb))\n",
    "print(\"MAE por fold:\", (cv_mae_scores_xgb))\n",
    "print(\"R2 por fold:\", (cv_r2_scores_xgb))\n",
    "print(\"RMSE Promedio:\", np.mean(cv_rmse_scores_xgb))\n",
    "print(\"MAE Promedio:\", np.mean(cv_mae_scores_xgb))\n",
    "print(\"R2 Promedio:\", np.mean(cv_r2_scores_xgb))\n",
    "\n",
    "# Realizamos score en el conjunto de prueba\n",
    "y_pred_boxcox_xgb = xgb_model.predict(X_test_df)\n",
    "y_pred_xgb = inv_boxcox(y_pred_boxcox_xgb, lambda_val)\n",
    "\n",
    "mse_xgb_test = mean_squared_error(y_test, y_pred_xgb)\n",
    "rmse_xgb_test = np.sqrt(mse_xgb)\n",
    "mae_xgb_test = mean_absolute_error(y_test, y_pred_xgb)\n",
    "r2_xgb_test = r2_score(y_test, y_pred_xgb)\n",
    "\n",
    "print(\"\\nTest Set (Original):\")\n",
    "print(f\"RMSE: {rmse_xgb_test:.2f}\")\n",
    "print(f\"MAE: {mae_xgb_test:.2f}\")\n",
    "print(f\"R2: {r2_xgb_test:.4f}\")\n"
   ]
  },
  {
   "cell_type": "markdown",
   "metadata": {},
   "source": [
    "---------"
   ]
  },
  {
   "cell_type": "markdown",
   "metadata": {},
   "source": [
    "Evolucion de **CATBOOST** y **XGBOOST**"
   ]
  },
  {
   "cell_type": "code",
   "execution_count": 125,
   "metadata": {},
   "outputs": [
    {
     "name": "stdout",
     "output_type": "stream",
     "text": [
      "--- XGBoost ---\n",
      "RMSE: 5581.70, MAE: 3226.56, R²: 0.8164\n",
      "--- XGBoost GridSearch ---\n",
      "RMSE: 5230.24, MAE: 3103.95, R²: 0.8388\n",
      "--- XGBoost RandomizedSearch ---\n",
      "RMSE: 5242.99, MAE: 3054.34, R²: 0.8380\n",
      "--- CatBoost ---\n",
      "RMSE: 5356.21, MAE: 3168.82, R²: 0.8309\n",
      "--- CatBoost GridSearch ---\n",
      "RMSE: 5260.05, MAE: 3136.05, R²: 0.8369\n",
      "--- CatBoost RandomizedSearch ---\n",
      "RMSE: 5290.79, MAE: 3058.74, R²: 0.8350\n"
     ]
    }
   ],
   "source": [
    "print(f\"--- XGBoost ---\")\n",
    "print(f\"RMSE: {rmse_xgb:.2f}, MAE: {mae_xgb:.2f}, R²: {r2_xgb:.4f}\")\n",
    "\n",
    "print(f\"--- XGBoost GridSearch ---\")\n",
    "print(f\"RMSE: {rmse_grid_xgb:.2f}, MAE: {mae_grid_xgb:.2f}, R²: {r2_grid_xgb:.4f}\")\n",
    "\n",
    "print(f\"--- XGBoost RandomizedSearch ---\")\n",
    "print(f\"RMSE: {rmse_xgb_random:.2f}, MAE: {mae_xgb_random:.2f}, R²: {r2_xgb_random:.4f}\")\n",
    "\n",
    "print(f\"--- CatBoost ---\")\n",
    "print(f\"RMSE: {rmse:.2f}, MAE: {mae:.2f}, R²: {r2:.4f}\")\n",
    "\n",
    "print(f\"--- CatBoost GridSearch ---\")\n",
    "print(f\"RMSE: {rmse_grid_cat:.2f}, MAE: {mae_grid_cat:.2f}, R²: {r2_grid_cat:.4f}\")\n",
    "\n",
    "print(f\"--- CatBoost RandomizedSearch ---\")\n",
    "print(f\"RMSE: {rmse_random:.2f}, MAE: {mae_random:.2f}, R²: {r2_random:.4f}\")"
   ]
  },
  {
   "cell_type": "code",
   "execution_count": 126,
   "metadata": {},
   "outputs": [
    {
     "name": "stdout",
     "output_type": "stream",
     "text": [
      "---CATBOOST---\n",
      "  Métrica  Entrenamiento   Validación         Test\n",
      "0    RMSE    5080.578684  5541.396372  5356.212559\n",
      "1     MAE    3134.637553  3214.433756  3136.047537\n",
      "2       R       0.834973     0.803171     0.836928\n",
      "---XGBOOST---\n",
      "  Métrica  Entrenamiento   Validación         Test\n",
      "0    RMSE    4124.307983  5579.120844  5581.703410\n",
      "1     MAE    2430.585045  3184.573342  3103.950577\n",
      "2       R       0.891250     0.800279     0.838772\n"
     ]
    }
   ],
   "source": [
    "resultados_finales_cat = pd.DataFrame({\n",
    "    \"Entrenamiento\": [train_rmse, train_mae, train_r2],\n",
    "    \"Validación\": [np.mean(cv_rmse_scores), np.mean(cv_mae_scores), np.mean(cv_r2_scores)],\n",
    "    \"Test\": [rmse_cat_test, mae_cat_test, r2_cat_test]\n",
    "}, index=[\"RMSE\", \"MAE\", \"R\"]).reset_index().rename(columns={\"index\": \"Métrica\"})\n",
    "\n",
    "resultados_finales_xgb = pd.DataFrame({\n",
    "    \"Entrenamiento\": [train_rmse_xgb, train_mae_xgb, train_r2_xgb],\n",
    "    \"Validación\": [np.mean(cv_rmse_scores_xgb),np.mean(cv_mae_scores_xgb),np.mean(cv_r2_scores_xgb)],\n",
    "    \"Test\": [rmse_xgb_test, mae_xgb_test, r2_xgb_test]\n",
    "}, index=[\"RMSE\", \"MAE\", \"R\"]).reset_index().rename(columns={\"index\": \"Métrica\"})\n",
    "\n",
    "print(f\"---CATBOOST---\")\n",
    "print(resultados_finales_cat)\n",
    "print(f\"---XGBOOST---\")\n",
    "print(resultados_finales_xgb)"
   ]
  },
  {
   "cell_type": "markdown",
   "metadata": {},
   "source": [
    "Vemos que es super similar los resultados en **VALIDACIÓN** y **TEST**, aunque el entrenamiento de **XGBOOST** resulta muy superior"
   ]
  },
  {
   "cell_type": "markdown",
   "metadata": {},
   "source": [
    "😉 EL GANADOR: **CATBOOST**"
   ]
  },
  {
   "cell_type": "markdown",
   "metadata": {},
   "source": [
    "¿POR QUÉ?"
   ]
  },
  {
   "cell_type": "markdown",
   "metadata": {},
   "source": [
    "- Me hubiese quedado con XGBOOST si no tuviera tanta diferencia entre el Entrenamiento y luego las Validaciones y Test. Es un gap que puede indicar sobreajuste. Esto me explica que no es capaz de generalizar tan bien como **CATBOOST** 😁"
   ]
  },
  {
   "cell_type": "markdown",
   "metadata": {},
   "source": [
    "------------"
   ]
  },
  {
   "cell_type": "code",
   "execution_count": 1,
   "metadata": {},
   "outputs": [
    {
     "ename": "NameError",
     "evalue": "name 'best_model_cat' is not defined",
     "output_type": "error",
     "traceback": [
      "\u001b[1;31m---------------------------------------------------------------------------\u001b[0m",
      "\u001b[1;31mNameError\u001b[0m                                 Traceback (most recent call last)",
      "Cell \u001b[1;32mIn[1], line 1\u001b[0m\n\u001b[1;32m----> 1\u001b[0m y_pred_boxcox_global \u001b[38;5;241m=\u001b[39m \u001b[43mbest_model_cat\u001b[49m\u001b[38;5;241m.\u001b[39mpredict(X_test)\n\u001b[0;32m      2\u001b[0m y_pred_global \u001b[38;5;241m=\u001b[39m inv_boxcox(y_pred_boxcox_global, lambda_val)\n\u001b[0;32m      4\u001b[0m df_result \u001b[38;5;241m=\u001b[39m X_test\u001b[38;5;241m.\u001b[39mcopy()\n",
      "\u001b[1;31mNameError\u001b[0m: name 'best_model_cat' is not defined"
     ]
    }
   ],
   "source": [
    "y_pred_boxcox_global = best_model_cat.predict(X_test)\n",
    "y_pred_global = inv_boxcox(y_pred_boxcox_global, lambda_val)\n",
    "\n",
    "df_result = X_test.copy()\n",
    "df_result[\"prediccion\"] = y_pred_global\n",
    "\n",
    "predicciones_por_tienda = df_result.groupby(\"tienda\")[\"prediccion\"].mean()\n",
    "print(predicciones_por_tienda)"
   ]
  },
  {
   "cell_type": "markdown",
   "metadata": {},
   "source": [
    "# ✅ Step 10: Guardar el modelo."
   ]
  },
  {
   "cell_type": "code",
   "execution_count": null,
   "metadata": {},
   "outputs": [
    {
     "data": {
      "text/plain": [
       "['../models/best_model_xgb.pkl']"
      ]
     },
     "execution_count": 128,
     "metadata": {},
     "output_type": "execute_result"
    }
   ],
   "source": [
    "joblib.dump(best_model_cat, \"../models/best_model_cat.pkl\")"
   ]
  }
 ],
 "metadata": {
  "kernelspec": {
   "display_name": "Python 3",
   "language": "python",
   "name": "python3"
  },
  "language_info": {
   "codemirror_mode": {
    "name": "ipython",
    "version": 3
   },
   "file_extension": ".py",
   "mimetype": "text/x-python",
   "name": "python",
   "nbconvert_exporter": "python",
   "pygments_lexer": "ipython3",
   "version": "3.12.7"
  }
 },
 "nbformat": 4,
 "nbformat_minor": 2
}

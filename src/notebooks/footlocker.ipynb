{
 "cells": [
  {
   "cell_type": "markdown",
   "metadata": {},
   "source": [
    "# Importaciones para el proyecto:"
   ]
  },
  {
   "cell_type": "code",
   "execution_count": 2,
   "metadata": {},
   "outputs": [
    {
     "name": "stdout",
     "output_type": "stream",
     "text": [
      "c:\\Users\\Usuario\\REPO_BOOTCAMP\\ML_Adidas-Forecast\\src\\notebooks\n"
     ]
    }
   ],
   "source": [
    "import sys\n",
    "import os\n",
    "print(os.getcwd())\n",
    "sys.path.append(os.path.abspath(\"../\"))"
   ]
  },
  {
   "cell_type": "code",
   "execution_count": 3,
   "metadata": {},
   "outputs": [
    {
     "name": "stdout",
     "output_type": "stream",
     "text": [
      "Paquete utils cargado correctamente\n"
     ]
    }
   ],
   "source": [
    "import pandas as pd\n",
    "import numpy as np\n",
    "import matplotlib.pyplot as plt\n",
    "import seaborn as sns\n",
    "\n",
    "from sklearn.model_selection import train_test_split\n",
    "from sklearn.linear_model import LinearRegression\n",
    "from sklearn.metrics import mean_squared_error, mean_absolute_error, r2_score, make_scorer\n",
    "from sklearn.model_selection import cross_val_score, KFold, GridSearchCV\n",
    "from sklearn.ensemble import RandomForestRegressor\n",
    "from xgboost import XGBRegressor\n",
    "\n",
    "import utils.bootcampviztools as bt\n",
    "import utils.toolbox_ML as tb\n",
    "import utils.funciones_eda as fe"
   ]
  },
  {
   "cell_type": "markdown",
   "metadata": {},
   "source": [
    "# ✅ Step 1: Objetivo del proyecto.\n"
   ]
  },
  {
   "cell_type": "markdown",
   "metadata": {},
   "source": [
    "### ADIDAS Y SUS DISTRIBUIDORES EN UNITED STATES. 🔎\n",
    "\n",
    "Adidas quiere saber una predicción razonable de cuánto facturarán las tiendas distribuidoras para asi saber si los productos que solicitan son adecuados a su nivel de facturación. Es muy importante que el producto esté en el lugar más eficiente posible y para ello debemos predecirlo.\n",
    "\n",
    "A su vez, quieren plantear un sistema logístico para los Estados de USA donde haya más demanda de producto. Considerando asi una prevención a la rotura de stock y a la mejora en costes ya que el producto más vendido en cada Estado estaría más cerca de dichas tiendas distribuidoras.\n",
    "\n",
    "🤔 PREGUNTAS QUE NOS HACEMOS 🤔\n",
    "\n",
    "A. PREDECIR LA FACTURACIÓN DE LAS TIENDAS DISTRIBUIDORAS 💵\n",
    "- ¿Qué mercado es el que está en auge para estos años?\n",
    "- ¿Hay algún mercado que debamos conocer que vaya en declive?\n",
    "- ¿Cumplirán las tiendas con el mínimo de facturación deseable?\n",
    "- ¿Varía la facturación con la estacionalidad?\n",
    "\n",
    "B. PREVENCIÓN A LA ROTURA DE STOCK Y MEJORA EN COSTES 🚛\n",
    "- ¿En qué regiones debemos tener un centro logístico más potente para el futuro?\n",
    "- ¿Cuánto stock por categoría deberá estar disponible en cada región?"
   ]
  },
  {
   "cell_type": "markdown",
   "metadata": {},
   "source": [
    "# ✅ Step 2: Obtener datos.\n"
   ]
  },
  {
   "cell_type": "code",
   "execution_count": 4,
   "metadata": {},
   "outputs": [],
   "source": [
    "file_path = \"../data/adidas_sales.csv\""
   ]
  },
  {
   "cell_type": "code",
   "execution_count": 5,
   "metadata": {},
   "outputs": [
    {
     "ename": "NameError",
     "evalue": "name 'df' is not defined",
     "output_type": "error",
     "traceback": [
      "\u001b[1;31m---------------------------------------------------------------------------\u001b[0m",
      "\u001b[1;31mNameError\u001b[0m                                 Traceback (most recent call last)",
      "Cell \u001b[1;32mIn[5], line 1\u001b[0m\n\u001b[1;32m----> 1\u001b[0m \u001b[43mdf\u001b[49m\u001b[38;5;241m.\u001b[39mdescribe()\n",
      "\u001b[1;31mNameError\u001b[0m: name 'df' is not defined"
     ]
    }
   ],
   "source": [
    "df.describe()"
   ]
  },
  {
   "cell_type": "code",
   "execution_count": 6,
   "metadata": {},
   "outputs": [
    {
     "data": {
      "text/html": [
       "<div>\n",
       "<style scoped>\n",
       "    .dataframe tbody tr th:only-of-type {\n",
       "        vertical-align: middle;\n",
       "    }\n",
       "\n",
       "    .dataframe tbody tr th {\n",
       "        vertical-align: top;\n",
       "    }\n",
       "\n",
       "    .dataframe thead th {\n",
       "        text-align: right;\n",
       "    }\n",
       "</style>\n",
       "<table border=\"1\" class=\"dataframe\">\n",
       "  <thead>\n",
       "    <tr style=\"text-align: right;\">\n",
       "      <th></th>\n",
       "      <th>Retailer</th>\n",
       "      <th>Retailer ID</th>\n",
       "      <th>Invoice Date</th>\n",
       "      <th>Region</th>\n",
       "      <th>State</th>\n",
       "      <th>City</th>\n",
       "      <th>Product</th>\n",
       "      <th>Price per Unit</th>\n",
       "      <th>Units Sold</th>\n",
       "      <th>Total Sales</th>\n",
       "      <th>Operating Profit</th>\n",
       "      <th>Sales Method</th>\n",
       "    </tr>\n",
       "  </thead>\n",
       "  <tbody>\n",
       "    <tr>\n",
       "      <th>0</th>\n",
       "      <td>Walmart</td>\n",
       "      <td>1128299</td>\n",
       "      <td>6/17/2021</td>\n",
       "      <td>Southeast</td>\n",
       "      <td>Florida</td>\n",
       "      <td>Orlando</td>\n",
       "      <td>Women's Apparel</td>\n",
       "      <td>$103.00</td>\n",
       "      <td>218</td>\n",
       "      <td>2,245</td>\n",
       "      <td>$1,257</td>\n",
       "      <td>Online</td>\n",
       "    </tr>\n",
       "    <tr>\n",
       "      <th>1</th>\n",
       "      <td>West Gear</td>\n",
       "      <td>1128299</td>\n",
       "      <td>7/16/2021</td>\n",
       "      <td>South</td>\n",
       "      <td>Louisiana</td>\n",
       "      <td>New Orleans</td>\n",
       "      <td>Women's Apparel</td>\n",
       "      <td>$103.00</td>\n",
       "      <td>163</td>\n",
       "      <td>1,679</td>\n",
       "      <td>$806</td>\n",
       "      <td>Online</td>\n",
       "    </tr>\n",
       "    <tr>\n",
       "      <th>2</th>\n",
       "      <td>Sports Direct</td>\n",
       "      <td>1197831</td>\n",
       "      <td>8/25/2021</td>\n",
       "      <td>South</td>\n",
       "      <td>Alabama</td>\n",
       "      <td>Birmingham</td>\n",
       "      <td>Men's Street Footwear</td>\n",
       "      <td>$10.00</td>\n",
       "      <td>700</td>\n",
       "      <td>7,000</td>\n",
       "      <td>$3,150</td>\n",
       "      <td>Outlet</td>\n",
       "    </tr>\n",
       "    <tr>\n",
       "      <th>3</th>\n",
       "      <td>Sports Direct</td>\n",
       "      <td>1197831</td>\n",
       "      <td>8/27/2021</td>\n",
       "      <td>South</td>\n",
       "      <td>Alabama</td>\n",
       "      <td>Birmingham</td>\n",
       "      <td>Women's Street Footwear</td>\n",
       "      <td>$15.00</td>\n",
       "      <td>575</td>\n",
       "      <td>8,625</td>\n",
       "      <td>$3,881</td>\n",
       "      <td>Outlet</td>\n",
       "    </tr>\n",
       "    <tr>\n",
       "      <th>4</th>\n",
       "      <td>Sports Direct</td>\n",
       "      <td>1197831</td>\n",
       "      <td>8/21/2021</td>\n",
       "      <td>South</td>\n",
       "      <td>Alabama</td>\n",
       "      <td>Birmingham</td>\n",
       "      <td>Women's Street Footwear</td>\n",
       "      <td>$15.00</td>\n",
       "      <td>475</td>\n",
       "      <td>7,125</td>\n",
       "      <td>$3,206</td>\n",
       "      <td>Outlet</td>\n",
       "    </tr>\n",
       "  </tbody>\n",
       "</table>\n",
       "</div>"
      ],
      "text/plain": [
       "        Retailer  Retailer ID Invoice Date     Region      State         City  \\\n",
       "0        Walmart      1128299    6/17/2021  Southeast    Florida      Orlando   \n",
       "1      West Gear      1128299    7/16/2021      South  Louisiana  New Orleans   \n",
       "2  Sports Direct      1197831    8/25/2021      South    Alabama   Birmingham   \n",
       "3  Sports Direct      1197831    8/27/2021      South    Alabama   Birmingham   \n",
       "4  Sports Direct      1197831    8/21/2021      South    Alabama   Birmingham   \n",
       "\n",
       "                   Product Price per Unit Units Sold Total Sales  \\\n",
       "0          Women's Apparel       $103.00         218       2,245   \n",
       "1          Women's Apparel       $103.00         163       1,679   \n",
       "2    Men's Street Footwear        $10.00         700       7,000   \n",
       "3  Women's Street Footwear        $15.00         575       8,625   \n",
       "4  Women's Street Footwear        $15.00         475       7,125   \n",
       "\n",
       "  Operating Profit Sales Method  \n",
       "0          $1,257        Online  \n",
       "1            $806        Online  \n",
       "2          $3,150        Outlet  \n",
       "3          $3,881        Outlet  \n",
       "4          $3,206        Outlet  "
      ]
     },
     "execution_count": 6,
     "metadata": {},
     "output_type": "execute_result"
    }
   ],
   "source": [
    "df = pd.read_csv(file_path)\n",
    "df.head(5)"
   ]
  },
  {
   "cell_type": "markdown",
   "metadata": {},
   "source": [
    "---------\n",
    "A simple vista vemos:\n",
    "- Columnas espaciadas.\n",
    "- Error en el cálculo de ***\"Total Sales\"***\n",
    "- Columnas que vamos a limpiar para tener el DataFrame lo más funcional posible.\n",
    "\n",
    "Y más cosas que veremos en el siguiente paso"
   ]
  },
  {
   "cell_type": "markdown",
   "metadata": {},
   "source": [
    "# ✅ Step 3: Limpieza de datos - Correcciones - Nuevos datasets.\n"
   ]
  },
  {
   "cell_type": "markdown",
   "metadata": {},
   "source": [
    "- Solucionamos las columnas espaciadas:"
   ]
  },
  {
   "cell_type": "code",
   "execution_count": 7,
   "metadata": {},
   "outputs": [],
   "source": [
    "df.columns = df.columns.str.lower()\n",
    "df.columns = df.columns.str.replace(\" \", \"_\")"
   ]
  },
  {
   "cell_type": "code",
   "execution_count": 8,
   "metadata": {},
   "outputs": [
    {
     "name": "stdout",
     "output_type": "stream",
     "text": [
      "<class 'pandas.core.frame.DataFrame'>\n",
      "RangeIndex: 9641 entries, 0 to 9640\n",
      "Data columns (total 12 columns):\n",
      " #   Column            Non-Null Count  Dtype \n",
      "---  ------            --------------  ----- \n",
      " 0   retailer          9641 non-null   object\n",
      " 1   retailer_id       9641 non-null   int64 \n",
      " 2   invoice_date      9641 non-null   object\n",
      " 3   region            9641 non-null   object\n",
      " 4   state             9641 non-null   object\n",
      " 5   city              9641 non-null   object\n",
      " 6   product           9641 non-null   object\n",
      " 7   price_per_unit    9639 non-null   object\n",
      " 8   units_sold        9641 non-null   object\n",
      " 9   total_sales       9641 non-null   object\n",
      " 10  operating_profit  9641 non-null   object\n",
      " 11  sales_method      9641 non-null   object\n",
      "dtypes: int64(1), object(11)\n",
      "memory usage: 904.0+ KB\n"
     ]
    }
   ],
   "source": [
    "df.info()"
   ]
  },
  {
   "cell_type": "markdown",
   "metadata": {},
   "source": [
    "- Valores faltantes en ***\"price_per_unit\"*** pero antes solucionaremos el error de cálculo en ***\"total_sales\"***\n",
    "- Tenemos tipo object en todas las columnas, debemos transformar a númericas algunas.\n",
    "- Queremos transformar ***\"invoice_date\"*** en datetime.\n",
    "- Vamos a eliminar columnas no relevantes al proyecto."
   ]
  },
  {
   "cell_type": "code",
   "execution_count": 9,
   "metadata": {},
   "outputs": [
    {
     "data": {
      "text/html": [
       "<div>\n",
       "<style scoped>\n",
       "    .dataframe tbody tr th:only-of-type {\n",
       "        vertical-align: middle;\n",
       "    }\n",
       "\n",
       "    .dataframe tbody tr th {\n",
       "        vertical-align: top;\n",
       "    }\n",
       "\n",
       "    .dataframe thead th {\n",
       "        text-align: right;\n",
       "    }\n",
       "</style>\n",
       "<table border=\"1\" class=\"dataframe\">\n",
       "  <thead>\n",
       "    <tr style=\"text-align: right;\">\n",
       "      <th></th>\n",
       "      <th>retailer</th>\n",
       "      <th>retailer_id</th>\n",
       "      <th>invoice_date</th>\n",
       "      <th>region</th>\n",
       "      <th>state</th>\n",
       "      <th>city</th>\n",
       "      <th>product</th>\n",
       "      <th>price_per_unit</th>\n",
       "      <th>units_sold</th>\n",
       "      <th>total_sales</th>\n",
       "      <th>operating_profit</th>\n",
       "      <th>sales_method</th>\n",
       "    </tr>\n",
       "  </thead>\n",
       "  <tbody>\n",
       "    <tr>\n",
       "      <th>0</th>\n",
       "      <td>Walmart</td>\n",
       "      <td>1128299</td>\n",
       "      <td>6/17/2021</td>\n",
       "      <td>Southeast</td>\n",
       "      <td>Florida</td>\n",
       "      <td>Orlando</td>\n",
       "      <td>Women's Apparel</td>\n",
       "      <td>$103.00</td>\n",
       "      <td>218</td>\n",
       "      <td>2,245</td>\n",
       "      <td>$1,257</td>\n",
       "      <td>Online</td>\n",
       "    </tr>\n",
       "  </tbody>\n",
       "</table>\n",
       "</div>"
      ],
      "text/plain": [
       "  retailer  retailer_id invoice_date     region    state     city  \\\n",
       "0  Walmart      1128299    6/17/2021  Southeast  Florida  Orlando   \n",
       "\n",
       "           product price_per_unit units_sold total_sales operating_profit  \\\n",
       "0  Women's Apparel       $103.00         218       2,245          $1,257    \n",
       "\n",
       "  sales_method  \n",
       "0       Online  "
      ]
     },
     "execution_count": 9,
     "metadata": {},
     "output_type": "execute_result"
    }
   ],
   "source": [
    "df.head(1)"
   ]
  },
  {
   "cell_type": "markdown",
   "metadata": {},
   "source": [
    "- Si vemos el *sample* podemos ver que la multiplicación en ***\"total_sales\"*** (*price_per_unit* y *units_sold*) no es correcta. Vamos a hacerla de nuevo y corregiremos el símbolo del dollar. La haremos tipo numérica. Por último añadiremos dos decimales en las columnas."
   ]
  },
  {
   "cell_type": "code",
   "execution_count": 10,
   "metadata": {},
   "outputs": [],
   "source": [
    "df[\"price_per_unit\"] = df[\"price_per_unit\"].str.replace(\"$\", \"\")\n",
    "df[\"price_per_unit\"] = pd.to_numeric(df[\"price_per_unit\"], errors=\"coerce\")"
   ]
  },
  {
   "cell_type": "code",
   "execution_count": 11,
   "metadata": {},
   "outputs": [
    {
     "data": {
      "text/html": [
       "<div>\n",
       "<style scoped>\n",
       "    .dataframe tbody tr th:only-of-type {\n",
       "        vertical-align: middle;\n",
       "    }\n",
       "\n",
       "    .dataframe tbody tr th {\n",
       "        vertical-align: top;\n",
       "    }\n",
       "\n",
       "    .dataframe thead th {\n",
       "        text-align: right;\n",
       "    }\n",
       "</style>\n",
       "<table border=\"1\" class=\"dataframe\">\n",
       "  <thead>\n",
       "    <tr style=\"text-align: right;\">\n",
       "      <th></th>\n",
       "      <th>retailer</th>\n",
       "      <th>retailer_id</th>\n",
       "      <th>invoice_date</th>\n",
       "      <th>region</th>\n",
       "      <th>state</th>\n",
       "      <th>city</th>\n",
       "      <th>product</th>\n",
       "      <th>price_per_unit</th>\n",
       "      <th>units_sold</th>\n",
       "      <th>total_sales</th>\n",
       "      <th>operating_profit</th>\n",
       "      <th>sales_method</th>\n",
       "    </tr>\n",
       "  </thead>\n",
       "  <tbody>\n",
       "    <tr>\n",
       "      <th>4683</th>\n",
       "      <td>Foot Locker</td>\n",
       "      <td>1128299</td>\n",
       "      <td>5/24/2021</td>\n",
       "      <td>West</td>\n",
       "      <td>Arizona</td>\n",
       "      <td>Phoenix</td>\n",
       "      <td>Women's Athletic Footwear</td>\n",
       "      <td>49.0</td>\n",
       "      <td>90</td>\n",
       "      <td>441</td>\n",
       "      <td>$221</td>\n",
       "      <td>Online</td>\n",
       "    </tr>\n",
       "    <tr>\n",
       "      <th>5598</th>\n",
       "      <td>West Gear</td>\n",
       "      <td>1197831</td>\n",
       "      <td>9/19/2021</td>\n",
       "      <td>South</td>\n",
       "      <td>Oklahoma</td>\n",
       "      <td>Oklahoma City</td>\n",
       "      <td>Women's Athletic Footwear</td>\n",
       "      <td>14.0</td>\n",
       "      <td>63</td>\n",
       "      <td>88</td>\n",
       "      <td>$45</td>\n",
       "      <td>Online</td>\n",
       "    </tr>\n",
       "    <tr>\n",
       "      <th>4445</th>\n",
       "      <td>Walmart</td>\n",
       "      <td>1197831</td>\n",
       "      <td>6/21/2021</td>\n",
       "      <td>South</td>\n",
       "      <td>Arkansas</td>\n",
       "      <td>Little Rock</td>\n",
       "      <td>Women's Athletic Footwear</td>\n",
       "      <td>37.0</td>\n",
       "      <td>98</td>\n",
       "      <td>363</td>\n",
       "      <td>$189</td>\n",
       "      <td>Online</td>\n",
       "    </tr>\n",
       "    <tr>\n",
       "      <th>893</th>\n",
       "      <td>Sports Direct</td>\n",
       "      <td>1197831</td>\n",
       "      <td>10/16/2021</td>\n",
       "      <td>South</td>\n",
       "      <td>Texas</td>\n",
       "      <td>Dallas</td>\n",
       "      <td>Men's Street Footwear</td>\n",
       "      <td>59.0</td>\n",
       "      <td>223</td>\n",
       "      <td>1,316</td>\n",
       "      <td>$710</td>\n",
       "      <td>Online</td>\n",
       "    </tr>\n",
       "    <tr>\n",
       "      <th>6315</th>\n",
       "      <td>West Gear</td>\n",
       "      <td>1128299</td>\n",
       "      <td>4/24/2021</td>\n",
       "      <td>West</td>\n",
       "      <td>Oregon</td>\n",
       "      <td>Portland</td>\n",
       "      <td>Men's Apparel</td>\n",
       "      <td>48.0</td>\n",
       "      <td>36</td>\n",
       "      <td>173</td>\n",
       "      <td>$86</td>\n",
       "      <td>Online</td>\n",
       "    </tr>\n",
       "    <tr>\n",
       "      <th>5721</th>\n",
       "      <td>West Gear</td>\n",
       "      <td>1128299</td>\n",
       "      <td>9/25/2021</td>\n",
       "      <td>West</td>\n",
       "      <td>Oregon</td>\n",
       "      <td>Portland</td>\n",
       "      <td>Men's Apparel</td>\n",
       "      <td>58.0</td>\n",
       "      <td>59</td>\n",
       "      <td>342</td>\n",
       "      <td>$181</td>\n",
       "      <td>Online</td>\n",
       "    </tr>\n",
       "  </tbody>\n",
       "</table>\n",
       "</div>"
      ],
      "text/plain": [
       "           retailer  retailer_id invoice_date region     state           city  \\\n",
       "4683    Foot Locker      1128299    5/24/2021   West   Arizona        Phoenix   \n",
       "5598      West Gear      1197831    9/19/2021  South  Oklahoma  Oklahoma City   \n",
       "4445        Walmart      1197831    6/21/2021  South  Arkansas    Little Rock   \n",
       "893   Sports Direct      1197831   10/16/2021  South     Texas         Dallas   \n",
       "6315      West Gear      1128299    4/24/2021   West    Oregon       Portland   \n",
       "5721      West Gear      1128299    9/25/2021   West    Oregon       Portland   \n",
       "\n",
       "                        product  price_per_unit units_sold total_sales  \\\n",
       "4683  Women's Athletic Footwear            49.0         90         441   \n",
       "5598  Women's Athletic Footwear            14.0         63          88   \n",
       "4445  Women's Athletic Footwear            37.0         98         363   \n",
       "893       Men's Street Footwear            59.0        223       1,316   \n",
       "6315              Men's Apparel            48.0         36         173   \n",
       "5721              Men's Apparel            58.0         59         342   \n",
       "\n",
       "     operating_profit sales_method  \n",
       "4683            $221        Online  \n",
       "5598             $45        Online  \n",
       "4445            $189        Online  \n",
       "893             $710        Online  \n",
       "6315             $86        Online  \n",
       "5721            $181        Online  "
      ]
     },
     "execution_count": 11,
     "metadata": {},
     "output_type": "execute_result"
    }
   ],
   "source": [
    "# Visión general de los datos\n",
    "df.sample(6)"
   ]
  },
  {
   "cell_type": "code",
   "execution_count": 12,
   "metadata": {},
   "outputs": [],
   "source": [
    "df[\"units_sold\"] = pd.to_numeric(df[\"units_sold\"].str.replace(\",\", \"\"),errors=\"coerce\")"
   ]
  },
  {
   "cell_type": "code",
   "execution_count": 13,
   "metadata": {},
   "outputs": [
    {
     "name": "stdout",
     "output_type": "stream",
     "text": [
      "<class 'pandas.core.frame.DataFrame'>\n",
      "RangeIndex: 9641 entries, 0 to 9640\n",
      "Data columns (total 12 columns):\n",
      " #   Column            Non-Null Count  Dtype  \n",
      "---  ------            --------------  -----  \n",
      " 0   retailer          9641 non-null   object \n",
      " 1   retailer_id       9641 non-null   int64  \n",
      " 2   invoice_date      9641 non-null   object \n",
      " 3   region            9641 non-null   object \n",
      " 4   state             9641 non-null   object \n",
      " 5   city              9641 non-null   object \n",
      " 6   product           9641 non-null   object \n",
      " 7   price_per_unit    9639 non-null   float64\n",
      " 8   units_sold        9641 non-null   int64  \n",
      " 9   total_sales       9641 non-null   object \n",
      " 10  operating_profit  9641 non-null   object \n",
      " 11  sales_method      9641 non-null   object \n",
      "dtypes: float64(1), int64(2), object(9)\n",
      "memory usage: 904.0+ KB\n"
     ]
    }
   ],
   "source": [
    "df.info()"
   ]
  },
  {
   "cell_type": "markdown",
   "metadata": {},
   "source": [
    "Siendo columnas numéricas ya podríamos calcular el correcto \"total_sales\" pero vamos a visualizar los nulos primero antes de tocar los datos."
   ]
  },
  {
   "cell_type": "code",
   "execution_count": 14,
   "metadata": {},
   "outputs": [
    {
     "data": {
      "text/html": [
       "<div>\n",
       "<style scoped>\n",
       "    .dataframe tbody tr th:only-of-type {\n",
       "        vertical-align: middle;\n",
       "    }\n",
       "\n",
       "    .dataframe tbody tr th {\n",
       "        vertical-align: top;\n",
       "    }\n",
       "\n",
       "    .dataframe thead th {\n",
       "        text-align: right;\n",
       "    }\n",
       "</style>\n",
       "<table border=\"1\" class=\"dataframe\">\n",
       "  <thead>\n",
       "    <tr style=\"text-align: right;\">\n",
       "      <th></th>\n",
       "      <th>retailer</th>\n",
       "      <th>retailer_id</th>\n",
       "      <th>invoice_date</th>\n",
       "      <th>region</th>\n",
       "      <th>state</th>\n",
       "      <th>city</th>\n",
       "      <th>product</th>\n",
       "      <th>price_per_unit</th>\n",
       "      <th>units_sold</th>\n",
       "      <th>total_sales</th>\n",
       "      <th>operating_profit</th>\n",
       "      <th>sales_method</th>\n",
       "    </tr>\n",
       "  </thead>\n",
       "  <tbody>\n",
       "    <tr>\n",
       "      <th>6725</th>\n",
       "      <td>Foot Locker</td>\n",
       "      <td>1185732</td>\n",
       "      <td>1/29/2020</td>\n",
       "      <td>Northeast</td>\n",
       "      <td>New York</td>\n",
       "      <td>New York</td>\n",
       "      <td>Men's Apparel</td>\n",
       "      <td>NaN</td>\n",
       "      <td>850</td>\n",
       "      <td>51,000</td>\n",
       "      <td>$15,300</td>\n",
       "      <td>Outlet</td>\n",
       "    </tr>\n",
       "    <tr>\n",
       "      <th>7882</th>\n",
       "      <td>Sports Direct</td>\n",
       "      <td>1197831</td>\n",
       "      <td>7/29/2020</td>\n",
       "      <td>South</td>\n",
       "      <td>Texas</td>\n",
       "      <td>Houston</td>\n",
       "      <td>Men's Apparel</td>\n",
       "      <td>NaN</td>\n",
       "      <td>500</td>\n",
       "      <td>20,000</td>\n",
       "      <td>$6,000</td>\n",
       "      <td>Outlet</td>\n",
       "    </tr>\n",
       "  </tbody>\n",
       "</table>\n",
       "</div>"
      ],
      "text/plain": [
       "           retailer  retailer_id invoice_date     region     state      city  \\\n",
       "6725    Foot Locker      1185732    1/29/2020  Northeast  New York  New York   \n",
       "7882  Sports Direct      1197831    7/29/2020      South     Texas   Houston   \n",
       "\n",
       "            product  price_per_unit  units_sold total_sales operating_profit  \\\n",
       "6725  Men's Apparel             NaN         850      51,000         $15,300    \n",
       "7882  Men's Apparel             NaN         500      20,000          $6,000    \n",
       "\n",
       "     sales_method  \n",
       "6725       Outlet  \n",
       "7882       Outlet  "
      ]
     },
     "execution_count": 14,
     "metadata": {},
     "output_type": "execute_result"
    }
   ],
   "source": [
    "df[df.isnull().any(axis=1)]"
   ]
  },
  {
   "cell_type": "markdown",
   "metadata": {},
   "source": [
    "---------\n",
    "🤔 Esto seria una pregunta para \"Negocio\" porque tenemos dos soluciones para afrontar estos nulos.\n",
    "1. Entendemos que la división de ***\"total_sales\"*** / ***\"units_sold\"*** dan el resultado de ***\"price_per_unit\"***\n",
    "2. Hemos visto que hay valores de ***\"total_sales\"*** que no fueron bien calculados y todos tienen en común la falta del último dígito.\n",
    "\n",
    "Ya que son dos valores faltantes, vamos a confiar en los valores que tenemos del dataset y haremos la opción 1"
   ]
  },
  {
   "cell_type": "code",
   "execution_count": 15,
   "metadata": {},
   "outputs": [],
   "source": [
    "df[\"total_sales\"] = pd.to_numeric(df[\"total_sales\"].str.replace(\",\", \"\"),errors=\"coerce\")\n"
   ]
  },
  {
   "cell_type": "code",
   "execution_count": 16,
   "metadata": {},
   "outputs": [],
   "source": [
    "df[\"price_per_unit\"] = df[\"price_per_unit\"].fillna(df[\"total_sales\"] / df[\"units_sold\"])"
   ]
  },
  {
   "cell_type": "code",
   "execution_count": 17,
   "metadata": {},
   "outputs": [
    {
     "name": "stdout",
     "output_type": "stream",
     "text": [
      "<class 'pandas.core.frame.DataFrame'>\n",
      "RangeIndex: 9641 entries, 0 to 9640\n",
      "Data columns (total 12 columns):\n",
      " #   Column            Non-Null Count  Dtype  \n",
      "---  ------            --------------  -----  \n",
      " 0   retailer          9641 non-null   object \n",
      " 1   retailer_id       9641 non-null   int64  \n",
      " 2   invoice_date      9641 non-null   object \n",
      " 3   region            9641 non-null   object \n",
      " 4   state             9641 non-null   object \n",
      " 5   city              9641 non-null   object \n",
      " 6   product           9641 non-null   object \n",
      " 7   price_per_unit    9641 non-null   float64\n",
      " 8   units_sold        9641 non-null   int64  \n",
      " 9   total_sales       9641 non-null   int64  \n",
      " 10  operating_profit  9641 non-null   object \n",
      " 11  sales_method      9641 non-null   object \n",
      "dtypes: float64(1), int64(3), object(8)\n",
      "memory usage: 904.0+ KB\n"
     ]
    }
   ],
   "source": [
    "df.info()"
   ]
  },
  {
   "cell_type": "markdown",
   "metadata": {},
   "source": [
    "- Calculamos los valores correctos de ***\"total_sales\"***"
   ]
  },
  {
   "cell_type": "code",
   "execution_count": 18,
   "metadata": {},
   "outputs": [],
   "source": [
    "df['total_sales'] = df['price_per_unit'] * df['units_sold']"
   ]
  },
  {
   "cell_type": "code",
   "execution_count": 19,
   "metadata": {},
   "outputs": [
    {
     "data": {
      "text/html": [
       "<div>\n",
       "<style scoped>\n",
       "    .dataframe tbody tr th:only-of-type {\n",
       "        vertical-align: middle;\n",
       "    }\n",
       "\n",
       "    .dataframe tbody tr th {\n",
       "        vertical-align: top;\n",
       "    }\n",
       "\n",
       "    .dataframe thead th {\n",
       "        text-align: right;\n",
       "    }\n",
       "</style>\n",
       "<table border=\"1\" class=\"dataframe\">\n",
       "  <thead>\n",
       "    <tr style=\"text-align: right;\">\n",
       "      <th></th>\n",
       "      <th>retailer</th>\n",
       "      <th>retailer_id</th>\n",
       "      <th>invoice_date</th>\n",
       "      <th>region</th>\n",
       "      <th>state</th>\n",
       "      <th>city</th>\n",
       "      <th>product</th>\n",
       "      <th>price_per_unit</th>\n",
       "      <th>units_sold</th>\n",
       "      <th>total_sales</th>\n",
       "      <th>operating_profit</th>\n",
       "      <th>sales_method</th>\n",
       "    </tr>\n",
       "  </thead>\n",
       "  <tbody>\n",
       "    <tr>\n",
       "      <th>1842</th>\n",
       "      <td>Foot Locker</td>\n",
       "      <td>1185732</td>\n",
       "      <td>4/6/2021</td>\n",
       "      <td>Midwest</td>\n",
       "      <td>Iowa</td>\n",
       "      <td>Des Moines</td>\n",
       "      <td>Men's Athletic Footwear</td>\n",
       "      <td>20.0</td>\n",
       "      <td>175</td>\n",
       "      <td>3500.0</td>\n",
       "      <td>$1,225</td>\n",
       "      <td>In-store</td>\n",
       "    </tr>\n",
       "    <tr>\n",
       "      <th>5728</th>\n",
       "      <td>Sports Direct</td>\n",
       "      <td>1185732</td>\n",
       "      <td>7/8/2021</td>\n",
       "      <td>Midwest</td>\n",
       "      <td>North Dakota</td>\n",
       "      <td>Fargo</td>\n",
       "      <td>Women's Street Footwear</td>\n",
       "      <td>37.0</td>\n",
       "      <td>59</td>\n",
       "      <td>2183.0</td>\n",
       "      <td>$87</td>\n",
       "      <td>Online</td>\n",
       "    </tr>\n",
       "    <tr>\n",
       "      <th>5729</th>\n",
       "      <td>West Gear</td>\n",
       "      <td>1185732</td>\n",
       "      <td>12/5/2021</td>\n",
       "      <td>Midwest</td>\n",
       "      <td>Iowa</td>\n",
       "      <td>Des Moines</td>\n",
       "      <td>Men's Apparel</td>\n",
       "      <td>59.0</td>\n",
       "      <td>59</td>\n",
       "      <td>3481.0</td>\n",
       "      <td>$212</td>\n",
       "      <td>Online</td>\n",
       "    </tr>\n",
       "    <tr>\n",
       "      <th>7534</th>\n",
       "      <td>West Gear</td>\n",
       "      <td>1185732</td>\n",
       "      <td>5/8/2021</td>\n",
       "      <td>Northeast</td>\n",
       "      <td>New York</td>\n",
       "      <td>Albany</td>\n",
       "      <td>Men's Athletic Footwear</td>\n",
       "      <td>55.0</td>\n",
       "      <td>575</td>\n",
       "      <td>31625.0</td>\n",
       "      <td>$11,069</td>\n",
       "      <td>In-store</td>\n",
       "    </tr>\n",
       "    <tr>\n",
       "      <th>2942</th>\n",
       "      <td>Sports Direct</td>\n",
       "      <td>1197831</td>\n",
       "      <td>3/18/2021</td>\n",
       "      <td>South</td>\n",
       "      <td>Tennessee</td>\n",
       "      <td>Knoxville</td>\n",
       "      <td>Women's Street Footwear</td>\n",
       "      <td>23.0</td>\n",
       "      <td>140</td>\n",
       "      <td>3220.0</td>\n",
       "      <td>$126</td>\n",
       "      <td>Outlet</td>\n",
       "    </tr>\n",
       "  </tbody>\n",
       "</table>\n",
       "</div>"
      ],
      "text/plain": [
       "           retailer  retailer_id invoice_date     region         state  \\\n",
       "1842    Foot Locker      1185732     4/6/2021    Midwest          Iowa   \n",
       "5728  Sports Direct      1185732     7/8/2021    Midwest  North Dakota   \n",
       "5729      West Gear      1185732    12/5/2021    Midwest          Iowa   \n",
       "7534      West Gear      1185732     5/8/2021  Northeast      New York   \n",
       "2942  Sports Direct      1197831    3/18/2021      South     Tennessee   \n",
       "\n",
       "            city                  product  price_per_unit  units_sold  \\\n",
       "1842  Des Moines  Men's Athletic Footwear            20.0         175   \n",
       "5728       Fargo  Women's Street Footwear            37.0          59   \n",
       "5729  Des Moines            Men's Apparel            59.0          59   \n",
       "7534      Albany  Men's Athletic Footwear            55.0         575   \n",
       "2942   Knoxville  Women's Street Footwear            23.0         140   \n",
       "\n",
       "      total_sales operating_profit sales_method  \n",
       "1842       3500.0          $1,225      In-store  \n",
       "5728       2183.0             $87        Online  \n",
       "5729       3481.0            $212        Online  \n",
       "7534      31625.0         $11,069      In-store  \n",
       "2942       3220.0            $126        Outlet  "
      ]
     },
     "execution_count": 19,
     "metadata": {},
     "output_type": "execute_result"
    }
   ],
   "source": [
    "df.sample(5)"
   ]
  },
  {
   "cell_type": "code",
   "execution_count": 20,
   "metadata": {},
   "outputs": [],
   "source": [
    "# Eliminamos las filas con resultado 0 en total_sales\n",
    "df = df[df[\"total_sales\"] != 0]"
   ]
  },
  {
   "cell_type": "markdown",
   "metadata": {},
   "source": [
    "- DateTime para ***\"invoice_date\"*** y ordenamos el DataFrame"
   ]
  },
  {
   "cell_type": "code",
   "execution_count": 21,
   "metadata": {},
   "outputs": [],
   "source": [
    "df[\"invoice_date\"] = pd.to_datetime(df[\"invoice_date\"])"
   ]
  },
  {
   "cell_type": "code",
   "execution_count": 22,
   "metadata": {},
   "outputs": [
    {
     "data": {
      "text/html": [
       "<div>\n",
       "<style scoped>\n",
       "    .dataframe tbody tr th:only-of-type {\n",
       "        vertical-align: middle;\n",
       "    }\n",
       "\n",
       "    .dataframe tbody tr th {\n",
       "        vertical-align: top;\n",
       "    }\n",
       "\n",
       "    .dataframe thead th {\n",
       "        text-align: right;\n",
       "    }\n",
       "</style>\n",
       "<table border=\"1\" class=\"dataframe\">\n",
       "  <thead>\n",
       "    <tr style=\"text-align: right;\">\n",
       "      <th></th>\n",
       "      <th>retailer</th>\n",
       "      <th>retailer_id</th>\n",
       "      <th>invoice_date</th>\n",
       "      <th>region</th>\n",
       "      <th>state</th>\n",
       "      <th>city</th>\n",
       "      <th>product</th>\n",
       "      <th>price_per_unit</th>\n",
       "      <th>units_sold</th>\n",
       "      <th>total_sales</th>\n",
       "      <th>operating_profit</th>\n",
       "      <th>sales_method</th>\n",
       "    </tr>\n",
       "  </thead>\n",
       "  <tbody>\n",
       "    <tr>\n",
       "      <th>9189</th>\n",
       "      <td>Foot Locker</td>\n",
       "      <td>1185732</td>\n",
       "      <td>2020-01-01</td>\n",
       "      <td>Northeast</td>\n",
       "      <td>Pennsylvania</td>\n",
       "      <td>Philadelphia</td>\n",
       "      <td>Women's Apparel</td>\n",
       "      <td>75.0</td>\n",
       "      <td>275</td>\n",
       "      <td>20625.0</td>\n",
       "      <td>$6,188</td>\n",
       "      <td>Outlet</td>\n",
       "    </tr>\n",
       "    <tr>\n",
       "      <th>4937</th>\n",
       "      <td>Foot Locker</td>\n",
       "      <td>1185732</td>\n",
       "      <td>2020-01-01</td>\n",
       "      <td>Northeast</td>\n",
       "      <td>Pennsylvania</td>\n",
       "      <td>Philadelphia</td>\n",
       "      <td>Women's Apparel</td>\n",
       "      <td>53.0</td>\n",
       "      <td>83</td>\n",
       "      <td>4399.0</td>\n",
       "      <td>$141</td>\n",
       "      <td>Outlet</td>\n",
       "    </tr>\n",
       "    <tr>\n",
       "      <th>30</th>\n",
       "      <td>Foot Locker</td>\n",
       "      <td>1185732</td>\n",
       "      <td>2020-01-01</td>\n",
       "      <td>Northeast</td>\n",
       "      <td>New York</td>\n",
       "      <td>New York</td>\n",
       "      <td>Men's Street Footwear</td>\n",
       "      <td>34.0</td>\n",
       "      <td>384</td>\n",
       "      <td>13056.0</td>\n",
       "      <td>$679</td>\n",
       "      <td>Outlet</td>\n",
       "    </tr>\n",
       "    <tr>\n",
       "      <th>4908</th>\n",
       "      <td>Foot Locker</td>\n",
       "      <td>1185732</td>\n",
       "      <td>2020-01-01</td>\n",
       "      <td>Northeast</td>\n",
       "      <td>Pennsylvania</td>\n",
       "      <td>Philadelphia</td>\n",
       "      <td>Women's Apparel</td>\n",
       "      <td>68.0</td>\n",
       "      <td>83</td>\n",
       "      <td>5644.0</td>\n",
       "      <td>$243</td>\n",
       "      <td>Online</td>\n",
       "    </tr>\n",
       "    <tr>\n",
       "      <th>79</th>\n",
       "      <td>Foot Locker</td>\n",
       "      <td>1185732</td>\n",
       "      <td>2020-01-01</td>\n",
       "      <td>Northeast</td>\n",
       "      <td>New York</td>\n",
       "      <td>New York</td>\n",
       "      <td>Men's Street Footwear</td>\n",
       "      <td>47.0</td>\n",
       "      <td>336</td>\n",
       "      <td>15792.0</td>\n",
       "      <td>$963</td>\n",
       "      <td>Online</td>\n",
       "    </tr>\n",
       "    <tr>\n",
       "      <th>6562</th>\n",
       "      <td>Foot Locker</td>\n",
       "      <td>1185732</td>\n",
       "      <td>2020-01-01</td>\n",
       "      <td>Northeast</td>\n",
       "      <td>New York</td>\n",
       "      <td>New York</td>\n",
       "      <td>Men's Street Footwear</td>\n",
       "      <td>50.0</td>\n",
       "      <td>1200</td>\n",
       "      <td>60000.0</td>\n",
       "      <td>$30,000</td>\n",
       "      <td>In-store</td>\n",
       "    </tr>\n",
       "    <tr>\n",
       "      <th>6588</th>\n",
       "      <td>Foot Locker</td>\n",
       "      <td>1185732</td>\n",
       "      <td>2020-01-02</td>\n",
       "      <td>Northeast</td>\n",
       "      <td>New York</td>\n",
       "      <td>New York</td>\n",
       "      <td>Men's Athletic Footwear</td>\n",
       "      <td>50.0</td>\n",
       "      <td>1000</td>\n",
       "      <td>50000.0</td>\n",
       "      <td>$15,000</td>\n",
       "      <td>In-store</td>\n",
       "    </tr>\n",
       "    <tr>\n",
       "      <th>117</th>\n",
       "      <td>Foot Locker</td>\n",
       "      <td>1185732</td>\n",
       "      <td>2020-01-02</td>\n",
       "      <td>Northeast</td>\n",
       "      <td>New York</td>\n",
       "      <td>New York</td>\n",
       "      <td>Men's Athletic Footwear</td>\n",
       "      <td>36.0</td>\n",
       "      <td>320</td>\n",
       "      <td>11520.0</td>\n",
       "      <td>$403</td>\n",
       "      <td>Outlet</td>\n",
       "    </tr>\n",
       "  </tbody>\n",
       "</table>\n",
       "</div>"
      ],
      "text/plain": [
       "         retailer  retailer_id invoice_date     region         state  \\\n",
       "9189  Foot Locker      1185732   2020-01-01  Northeast  Pennsylvania   \n",
       "4937  Foot Locker      1185732   2020-01-01  Northeast  Pennsylvania   \n",
       "30    Foot Locker      1185732   2020-01-01  Northeast      New York   \n",
       "4908  Foot Locker      1185732   2020-01-01  Northeast  Pennsylvania   \n",
       "79    Foot Locker      1185732   2020-01-01  Northeast      New York   \n",
       "6562  Foot Locker      1185732   2020-01-01  Northeast      New York   \n",
       "6588  Foot Locker      1185732   2020-01-02  Northeast      New York   \n",
       "117   Foot Locker      1185732   2020-01-02  Northeast      New York   \n",
       "\n",
       "              city                  product  price_per_unit  units_sold  \\\n",
       "9189  Philadelphia          Women's Apparel            75.0         275   \n",
       "4937  Philadelphia          Women's Apparel            53.0          83   \n",
       "30        New York    Men's Street Footwear            34.0         384   \n",
       "4908  Philadelphia          Women's Apparel            68.0          83   \n",
       "79        New York    Men's Street Footwear            47.0         336   \n",
       "6562      New York    Men's Street Footwear            50.0        1200   \n",
       "6588      New York  Men's Athletic Footwear            50.0        1000   \n",
       "117       New York  Men's Athletic Footwear            36.0         320   \n",
       "\n",
       "      total_sales operating_profit sales_method  \n",
       "9189      20625.0          $6,188        Outlet  \n",
       "4937       4399.0            $141        Outlet  \n",
       "30        13056.0            $679        Outlet  \n",
       "4908       5644.0            $243        Online  \n",
       "79        15792.0            $963        Online  \n",
       "6562      60000.0         $30,000      In-store  \n",
       "6588      50000.0         $15,000      In-store  \n",
       "117       11520.0            $403        Outlet  "
      ]
     },
     "execution_count": 22,
     "metadata": {},
     "output_type": "execute_result"
    }
   ],
   "source": [
    "df = df.sort_values(by=\"invoice_date\")\n",
    "df.head(8)"
   ]
  },
  {
   "cell_type": "code",
   "execution_count": 23,
   "metadata": {},
   "outputs": [
    {
     "data": {
      "text/plain": [
       "retailer            0\n",
       "retailer_id         0\n",
       "invoice_date        0\n",
       "region              0\n",
       "state               0\n",
       "city                0\n",
       "product             0\n",
       "price_per_unit      0\n",
       "units_sold          0\n",
       "total_sales         0\n",
       "operating_profit    0\n",
       "sales_method        0\n",
       "dtype: int64"
      ]
     },
     "execution_count": 23,
     "metadata": {},
     "output_type": "execute_result"
    }
   ],
   "source": [
    "df.isnull().sum()"
   ]
  },
  {
   "cell_type": "markdown",
   "metadata": {},
   "source": [
    "- Eliminamos columnas irrelevantes y hacemos una copia de seguridad del dataset"
   ]
  },
  {
   "cell_type": "code",
   "execution_count": 24,
   "metadata": {},
   "outputs": [],
   "source": [
    "df = df.drop(columns=[\"retailer_id\", \"operating_profit\", \"sales_method\"])\n",
    "\n",
    "# \"operation_profit\" se elimina porque no tenemos contexto sobre los gastos para entender realmente el profit"
   ]
  },
  {
   "cell_type": "markdown",
   "metadata": {},
   "source": [
    "- Una vista rápida para saber si está todo en orden"
   ]
  },
  {
   "cell_type": "code",
   "execution_count": 25,
   "metadata": {},
   "outputs": [
    {
     "name": "stdout",
     "output_type": "stream",
     "text": [
      "<class 'pandas.core.frame.DataFrame'>\n",
      "Index: 9637 entries, 9189 to 9605\n",
      "Data columns (total 9 columns):\n",
      " #   Column          Non-Null Count  Dtype         \n",
      "---  ------          --------------  -----         \n",
      " 0   retailer        9637 non-null   object        \n",
      " 1   invoice_date    9637 non-null   datetime64[ns]\n",
      " 2   region          9637 non-null   object        \n",
      " 3   state           9637 non-null   object        \n",
      " 4   city            9637 non-null   object        \n",
      " 5   product         9637 non-null   object        \n",
      " 6   price_per_unit  9637 non-null   float64       \n",
      " 7   units_sold      9637 non-null   int64         \n",
      " 8   total_sales     9637 non-null   float64       \n",
      "dtypes: datetime64[ns](1), float64(2), int64(1), object(5)\n",
      "memory usage: 752.9+ KB\n"
     ]
    }
   ],
   "source": [
    "df.info()"
   ]
  },
  {
   "cell_type": "code",
   "execution_count": 26,
   "metadata": {},
   "outputs": [
    {
     "data": {
      "text/plain": [
       "region\n",
       "West         2446\n",
       "Northeast    2376\n",
       "Midwest      1865\n",
       "South        1726\n",
       "Southeast    1224\n",
       "Name: count, dtype: int64"
      ]
     },
     "execution_count": 26,
     "metadata": {},
     "output_type": "execute_result"
    }
   ],
   "source": [
    "df.region.value_counts()"
   ]
  },
  {
   "cell_type": "code",
   "execution_count": 27,
   "metadata": {},
   "outputs": [
    {
     "data": {
      "text/plain": [
       "state\n",
       "Texas             430\n",
       "California        430\n",
       "Florida           360\n",
       "New York          360\n",
       "Pennsylvania      216\n",
       "Arkansas          216\n",
       "Oklahoma          216\n",
       "Rhode Island      216\n",
       "Oregon            216\n",
       "Virginia          216\n",
       "Vermont           216\n",
       "Mississippi       216\n",
       "Idaho             216\n",
       "Utah              216\n",
       "New Hampshire     216\n",
       "Arizona           216\n",
       "Tennessee         216\n",
       "Massachusetts     216\n",
       "New Mexico        216\n",
       "Alabama           216\n",
       "Nevada            216\n",
       "Connecticut       216\n",
       "Georgia           216\n",
       "Louisiana         216\n",
       "Kentucky          144\n",
       "Colorado          144\n",
       "Washington        144\n",
       "West Virginia     144\n",
       "Wyoming           144\n",
       "Minnesota         144\n",
       "Montana           144\n",
       "Iowa              144\n",
       "Ohio              144\n",
       "North Dakota      144\n",
       "Alaska            144\n",
       "Wisconsin         144\n",
       "Michigan          144\n",
       "Maryland          144\n",
       "New Jersey        144\n",
       "Indiana           144\n",
       "Hawaii            144\n",
       "South Dakota      144\n",
       "Maine             144\n",
       "North Carolina    144\n",
       "Kansas            144\n",
       "Missouri          144\n",
       "Delaware          144\n",
       "South Carolina    144\n",
       "Illinois          141\n",
       "Nebraska          140\n",
       "Name: count, dtype: int64"
      ]
     },
     "execution_count": 27,
     "metadata": {},
     "output_type": "execute_result"
    }
   ],
   "source": [
    "df.state.value_counts()"
   ]
  },
  {
   "cell_type": "code",
   "execution_count": 28,
   "metadata": {},
   "outputs": [
    {
     "data": {
      "text/plain": [
       "city\n",
       "Portland          360\n",
       "Charleston        288\n",
       "Little Rock       216\n",
       "New York          216\n",
       "Boston            216\n",
       "Oklahoma City     216\n",
       "Providence        216\n",
       "Richmond          216\n",
       "Burlington        216\n",
       "Philadelphia      216\n",
       "Orlando           216\n",
       "Jackson           216\n",
       "Salt Lake City    216\n",
       "Manchester        216\n",
       "Phoenix           216\n",
       "Los Angeles       216\n",
       "Knoxville         216\n",
       "Birmingham        216\n",
       "Boise             216\n",
       "Albuquerque       216\n",
       "Dallas            216\n",
       "Las Vegas         216\n",
       "Hartford          216\n",
       "Atlanta           216\n",
       "New Orleans       216\n",
       "Houston           214\n",
       "San Francisco     214\n",
       "Wilmington        144\n",
       "Denver            144\n",
       "Miami             144\n",
       "Seattle           144\n",
       "Cheyenne          144\n",
       "Minneapolis       144\n",
       "Billings          144\n",
       "Des Moines        144\n",
       "Columbus          144\n",
       "Milwaukee         144\n",
       "Fargo             144\n",
       "Detroit           144\n",
       "Baltimore         144\n",
       "Indianapolis      144\n",
       "Newark            144\n",
       "Honolulu          144\n",
       "Albany            144\n",
       "Sioux Falls       144\n",
       "Charlotte         144\n",
       "Anchorage         144\n",
       "Wichita           144\n",
       "St. Louis         144\n",
       "Louisville        144\n",
       "Chicago           141\n",
       "Omaha             140\n",
       "Name: count, dtype: int64"
      ]
     },
     "execution_count": 28,
     "metadata": {},
     "output_type": "execute_result"
    }
   ],
   "source": [
    "df.city.value_counts()"
   ]
  },
  {
   "cell_type": "code",
   "execution_count": 29,
   "metadata": {},
   "outputs": [
    {
     "data": {
      "text/plain": [
       "product\n",
       "Men's Street Footwear        1610\n",
       "Men's Athletic Footwear      1608\n",
       "Women's Apparel              1607\n",
       "Women's Street Footwear      1606\n",
       "Men's Apparel                1604\n",
       "Women's Athletic Footwear    1601\n",
       "Men's aparel                    1\n",
       "Name: count, dtype: int64"
      ]
     },
     "execution_count": 29,
     "metadata": {},
     "output_type": "execute_result"
    }
   ],
   "source": [
    "df[\"product\"].value_counts()"
   ]
  },
  {
   "cell_type": "code",
   "execution_count": 30,
   "metadata": {},
   "outputs": [
    {
     "data": {
      "text/plain": [
       "product\n",
       "Men's Street Footwear        1610\n",
       "Men's Athletic Footwear      1608\n",
       "Women's Apparel              1607\n",
       "Women's Street Footwear      1606\n",
       "Men's Apparel                1605\n",
       "Women's Athletic Footwear    1601\n",
       "Name: count, dtype: int64"
      ]
     },
     "execution_count": 30,
     "metadata": {},
     "output_type": "execute_result"
    }
   ],
   "source": [
    "# Error de ortografía\n",
    "df[\"product\"] = df[\"product\"].replace({\"Men's aparel\": \"Men's Apparel\"})\n",
    "df[\"product\"].value_counts()"
   ]
  },
  {
   "cell_type": "code",
   "execution_count": 31,
   "metadata": {},
   "outputs": [
    {
     "data": {
      "text/plain": [
       "retailer\n",
       "Foot Locker      2630\n",
       "West Gear        2372\n",
       "Sports Direct    2030\n",
       "Kohl's           1030\n",
       "Amazon            949\n",
       "Walmart           626\n",
       "Name: count, dtype: int64"
      ]
     },
     "execution_count": 31,
     "metadata": {},
     "output_type": "execute_result"
    }
   ],
   "source": [
    "df.retailer.value_counts()"
   ]
  },
  {
   "cell_type": "markdown",
   "metadata": {},
   "source": [
    "Vemos nuestro target\n"
   ]
  },
  {
   "cell_type": "code",
   "execution_count": 32,
   "metadata": {},
   "outputs": [
    {
     "data": {
      "text/plain": [
       "<Axes: xlabel='total_sales', ylabel='Count'>"
      ]
     },
     "execution_count": 32,
     "metadata": {},
     "output_type": "execute_result"
    },
    {
     "data": {
      "image/png": "[encoded data removed]",
      "text/plain": [
       "<Figure size 640x480 with 1 Axes>"
      ]
     },
     "metadata": {},
     "output_type": "display_data"
    }
   ],
   "source": [
    "sns.histplot(df[\"total_sales\"], kde = True)"
   ]
  },
  {
   "cell_type": "code",
   "execution_count": 33,
   "metadata": {},
   "outputs": [
    {
     "data": {
      "text/plain": [
       "<Axes: xlabel='total_sales'>"
      ]
     },
     "execution_count": 33,
     "metadata": {},
     "output_type": "execute_result"
    },
    {
     "data": {
      "image/png": "[encoded data removed]",
      "text/plain": [
       "<Figure size 640x480 with 1 Axes>"
      ]
     },
     "metadata": {},
     "output_type": "display_data"
    }
   ],
   "source": [
    "sns.boxplot(x=df[\"total_sales\"])"
   ]
  },
  {
   "cell_type": "markdown",
   "metadata": {},
   "source": [
    "Hay una distribución asimétrica porque habrán muchas tiendas que tengan niveles bajos o moderados. Pocas tiendas logran grandes facturaciones."
   ]
  },
  {
   "cell_type": "code",
   "execution_count": 34,
   "metadata": {},
   "outputs": [
    {
     "data": {
      "text/html": [
       "<div>\n",
       "<style scoped>\n",
       "    .dataframe tbody tr th:only-of-type {\n",
       "        vertical-align: middle;\n",
       "    }\n",
       "\n",
       "    .dataframe tbody tr th {\n",
       "        vertical-align: top;\n",
       "    }\n",
       "\n",
       "    .dataframe thead th {\n",
       "        text-align: right;\n",
       "    }\n",
       "</style>\n",
       "<table border=\"1\" class=\"dataframe\">\n",
       "  <thead>\n",
       "    <tr style=\"text-align: right;\">\n",
       "      <th></th>\n",
       "      <th>retailer</th>\n",
       "      <th>invoice_date</th>\n",
       "      <th>region</th>\n",
       "      <th>state</th>\n",
       "      <th>city</th>\n",
       "      <th>product</th>\n",
       "      <th>price_per_unit</th>\n",
       "      <th>units_sold</th>\n",
       "      <th>total_sales</th>\n",
       "    </tr>\n",
       "  </thead>\n",
       "  <tbody>\n",
       "    <tr>\n",
       "      <th>6560</th>\n",
       "      <td>Foot Locker</td>\n",
       "      <td>2020-01-07</td>\n",
       "      <td>Northeast</td>\n",
       "      <td>New York</td>\n",
       "      <td>New York</td>\n",
       "      <td>Men's Street Footwear</td>\n",
       "      <td>50.0</td>\n",
       "      <td>1250</td>\n",
       "      <td>62500.0</td>\n",
       "    </tr>\n",
       "    <tr>\n",
       "      <th>6561</th>\n",
       "      <td>Foot Locker</td>\n",
       "      <td>2020-01-25</td>\n",
       "      <td>Northeast</td>\n",
       "      <td>New York</td>\n",
       "      <td>New York</td>\n",
       "      <td>Men's Street Footwear</td>\n",
       "      <td>50.0</td>\n",
       "      <td>1220</td>\n",
       "      <td>61000.0</td>\n",
       "    </tr>\n",
       "    <tr>\n",
       "      <th>6537</th>\n",
       "      <td>Foot Locker</td>\n",
       "      <td>2020-02-06</td>\n",
       "      <td>Northeast</td>\n",
       "      <td>New York</td>\n",
       "      <td>New York</td>\n",
       "      <td>Men's Street Footwear</td>\n",
       "      <td>60.0</td>\n",
       "      <td>1220</td>\n",
       "      <td>73200.0</td>\n",
       "    </tr>\n",
       "    <tr>\n",
       "      <th>6592</th>\n",
       "      <td>Foot Locker</td>\n",
       "      <td>2020-03-03</td>\n",
       "      <td>Northeast</td>\n",
       "      <td>New York</td>\n",
       "      <td>New York</td>\n",
       "      <td>Women's Apparel</td>\n",
       "      <td>65.0</td>\n",
       "      <td>1000</td>\n",
       "      <td>65000.0</td>\n",
       "    </tr>\n",
       "    <tr>\n",
       "      <th>6535</th>\n",
       "      <td>Foot Locker</td>\n",
       "      <td>2020-03-04</td>\n",
       "      <td>Northeast</td>\n",
       "      <td>New York</td>\n",
       "      <td>New York</td>\n",
       "      <td>Men's Street Footwear</td>\n",
       "      <td>60.0</td>\n",
       "      <td>1250</td>\n",
       "      <td>75000.0</td>\n",
       "    </tr>\n",
       "    <tr>\n",
       "      <th>...</th>\n",
       "      <td>...</td>\n",
       "      <td>...</td>\n",
       "      <td>...</td>\n",
       "      <td>...</td>\n",
       "      <td>...</td>\n",
       "      <td>...</td>\n",
       "      <td>...</td>\n",
       "      <td>...</td>\n",
       "      <td>...</td>\n",
       "    </tr>\n",
       "    <tr>\n",
       "      <th>6545</th>\n",
       "      <td>Foot Locker</td>\n",
       "      <td>2021-12-05</td>\n",
       "      <td>Southeast</td>\n",
       "      <td>South Carolina</td>\n",
       "      <td>Charleston</td>\n",
       "      <td>Men's Street Footwear</td>\n",
       "      <td>70.0</td>\n",
       "      <td>1075</td>\n",
       "      <td>75250.0</td>\n",
       "    </tr>\n",
       "    <tr>\n",
       "      <th>6551</th>\n",
       "      <td>Sports Direct</td>\n",
       "      <td>2021-12-05</td>\n",
       "      <td>Southeast</td>\n",
       "      <td>South Carolina</td>\n",
       "      <td>Charleston</td>\n",
       "      <td>Women's Apparel</td>\n",
       "      <td>75.0</td>\n",
       "      <td>875</td>\n",
       "      <td>65625.0</td>\n",
       "    </tr>\n",
       "    <tr>\n",
       "      <th>6803</th>\n",
       "      <td>Amazon</td>\n",
       "      <td>2021-12-09</td>\n",
       "      <td>Midwest</td>\n",
       "      <td>Ohio</td>\n",
       "      <td>Columbus</td>\n",
       "      <td>Men's Street Footwear</td>\n",
       "      <td>75.0</td>\n",
       "      <td>825</td>\n",
       "      <td>61875.0</td>\n",
       "    </tr>\n",
       "    <tr>\n",
       "      <th>6848</th>\n",
       "      <td>West Gear</td>\n",
       "      <td>2021-12-16</td>\n",
       "      <td>South</td>\n",
       "      <td>Louisiana</td>\n",
       "      <td>New Orleans</td>\n",
       "      <td>Men's Athletic Footwear</td>\n",
       "      <td>80.0</td>\n",
       "      <td>800</td>\n",
       "      <td>64000.0</td>\n",
       "    </tr>\n",
       "    <tr>\n",
       "      <th>6836</th>\n",
       "      <td>Walmart</td>\n",
       "      <td>2021-12-16</td>\n",
       "      <td>Southeast</td>\n",
       "      <td>Florida</td>\n",
       "      <td>Orlando</td>\n",
       "      <td>Men's Athletic Footwear</td>\n",
       "      <td>85.0</td>\n",
       "      <td>800</td>\n",
       "      <td>68000.0</td>\n",
       "    </tr>\n",
       "  </tbody>\n",
       "</table>\n",
       "<p>80 rows × 9 columns</p>\n",
       "</div>"
      ],
      "text/plain": [
       "           retailer invoice_date     region           state         city  \\\n",
       "6560    Foot Locker   2020-01-07  Northeast        New York     New York   \n",
       "6561    Foot Locker   2020-01-25  Northeast        New York     New York   \n",
       "6537    Foot Locker   2020-02-06  Northeast        New York     New York   \n",
       "6592    Foot Locker   2020-03-03  Northeast        New York     New York   \n",
       "6535    Foot Locker   2020-03-04  Northeast        New York     New York   \n",
       "...             ...          ...        ...             ...          ...   \n",
       "6545    Foot Locker   2021-12-05  Southeast  South Carolina   Charleston   \n",
       "6551  Sports Direct   2021-12-05  Southeast  South Carolina   Charleston   \n",
       "6803         Amazon   2021-12-09    Midwest            Ohio     Columbus   \n",
       "6848      West Gear   2021-12-16      South       Louisiana  New Orleans   \n",
       "6836        Walmart   2021-12-16  Southeast         Florida      Orlando   \n",
       "\n",
       "                      product  price_per_unit  units_sold  total_sales  \n",
       "6560    Men's Street Footwear            50.0        1250      62500.0  \n",
       "6561    Men's Street Footwear            50.0        1220      61000.0  \n",
       "6537    Men's Street Footwear            60.0        1220      73200.0  \n",
       "6592          Women's Apparel            65.0        1000      65000.0  \n",
       "6535    Men's Street Footwear            60.0        1250      75000.0  \n",
       "...                       ...             ...         ...          ...  \n",
       "6545    Men's Street Footwear            70.0        1075      75250.0  \n",
       "6551          Women's Apparel            75.0         875      65625.0  \n",
       "6803    Men's Street Footwear            75.0         825      61875.0  \n",
       "6848  Men's Athletic Footwear            80.0         800      64000.0  \n",
       "6836  Men's Athletic Footwear            85.0         800      68000.0  \n",
       "\n",
       "[80 rows x 9 columns]"
      ]
     },
     "execution_count": 34,
     "metadata": {},
     "output_type": "execute_result"
    }
   ],
   "source": [
    "df[df[\"total_sales\"] > 60000]"
   ]
  },
  {
   "cell_type": "code",
   "execution_count": 35,
   "metadata": {},
   "outputs": [],
   "source": [
    "# quiero eliminar los outliers de total_sales\n",
    "# df = df[df[\"total_sales\"] < 60000]"
   ]
  },
  {
   "cell_type": "markdown",
   "metadata": {},
   "source": [
    "Nuestro modelo puede verse afectado por esta distribución asimetrica, debemos hacer una transformación logaritmica más adelante."
   ]
  },
  {
   "cell_type": "code",
   "execution_count": 36,
   "metadata": {},
   "outputs": [
    {
     "data": {
      "text/plain": [
       "<Axes: xlabel='total_sales', ylabel='Count'>"
      ]
     },
     "execution_count": 36,
     "metadata": {},
     "output_type": "execute_result"
    },
    {
     "data": {
      "image/png": "[encoded data removed]",
      "text/plain": [
       "<Figure size 640x480 with 1 Axes>"
      ]
     },
     "metadata": {},
     "output_type": "display_data"
    }
   ],
   "source": [
    "sns.histplot(df[\"total_sales\"], kde = True)"
   ]
  },
  {
   "cell_type": "markdown",
   "metadata": {},
   "source": [
    "CREACION DE LOS DATASETS POR RETAILER"
   ]
  },
  {
   "cell_type": "code",
   "execution_count": 37,
   "metadata": {},
   "outputs": [
    {
     "data": {
      "text/plain": [
       "retailer\n",
       "Foot Locker      2630\n",
       "West Gear        2372\n",
       "Sports Direct    2030\n",
       "Kohl's           1030\n",
       "Amazon            949\n",
       "Walmart           626\n",
       "Name: count, dtype: int64"
      ]
     },
     "execution_count": 37,
     "metadata": {},
     "output_type": "execute_result"
    }
   ],
   "source": [
    "df[\"retailer\"].value_counts()"
   ]
  },
  {
   "cell_type": "code",
   "execution_count": 38,
   "metadata": {},
   "outputs": [],
   "source": [
    "df_footlocker = df[df[\"retailer\"] == \"Foot Locker\"]\n",
    "df_westgear = df[df[\"retailer\"] == \"West Gear\"]\n",
    "df_sportsdirect = df[df[\"retailer\"] == \"Sports Direct\"]\n",
    "df_kohls = df[df[\"retailer\"] == \"Kohl's\"]\n",
    "df_amazon = df[df[\"retailer\"] == \"Amazon\"]\n",
    "df_walmart = df[df[\"retailer\"] == \"Walmart\"]"
   ]
  },
  {
   "cell_type": "code",
   "execution_count": 39,
   "metadata": {},
   "outputs": [],
   "source": [
    "# Comentamos el código para no ejecutarlo de nuevo, pero este sería el dataset limpiado\n",
    "# df.to_csv(\"../data/adidas_sales_cleaneddd.csv\", index=False)"
   ]
  },
  {
   "cell_type": "code",
   "execution_count": 40,
   "metadata": {},
   "outputs": [
    {
     "name": "stdout",
     "output_type": "stream",
     "text": [
      "---Foot Locker---\n",
      "count     2630.000000\n",
      "mean     11028.496198\n",
      "std      12328.590997\n",
      "min        160.000000\n",
      "25%       3185.250000\n",
      "50%       6689.500000\n",
      "75%      13500.000000\n",
      "max      76500.000000\n",
      "Name: total_sales, dtype: float64\n",
      "---West Gear---\n",
      "count     2372.000000\n",
      "mean     13624.708263\n",
      "std      14074.800399\n",
      "min        203.000000\n",
      "25%       4263.750000\n",
      "50%       8537.000000\n",
      "75%      16855.500000\n",
      "max      82500.000000\n",
      "Name: total_sales, dtype: float64\n",
      "---Sports Direct---\n",
      "count     2030.000000\n",
      "mean     12097.535468\n",
      "std      11682.592391\n",
      "min        528.000000\n",
      "25%       4224.000000\n",
      "50%       7522.000000\n",
      "75%      15750.000000\n",
      "max      69875.000000\n",
      "Name: total_sales, dtype: float64\n",
      "---Kohl's---\n",
      "count     1030.000000\n",
      "mean     13118.886408\n",
      "std      11122.789865\n",
      "min        520.000000\n",
      "25%       5336.750000\n",
      "50%       8243.000000\n",
      "75%      20000.000000\n",
      "max      52000.000000\n",
      "Name: total_sales, dtype: float64\n",
      "---Amazon---\n",
      "count      949.000000\n",
      "mean     10639.606955\n",
      "std       9957.157975\n",
      "min        416.000000\n",
      "25%       3731.000000\n",
      "50%       6875.000000\n",
      "75%      14375.000000\n",
      "max      61875.000000\n",
      "Name: total_sales, dtype: float64\n",
      "---Walmart---\n",
      "count      626.000000\n",
      "mean     16782.883387\n",
      "std      16223.607566\n",
      "min        880.000000\n",
      "25%       6240.000000\n",
      "50%      10477.000000\n",
      "75%      21093.750000\n",
      "max      82500.000000\n",
      "Name: total_sales, dtype: float64\n"
     ]
    }
   ],
   "source": [
    "print(\"---Foot Locker---\")\n",
    "print(df_footlocker[\"total_sales\"].describe())\n",
    "print(\"---West Gear---\")\n",
    "print(df_westgear[\"total_sales\"].describe())\n",
    "print(\"---Sports Direct---\")\n",
    "print(df_sportsdirect[\"total_sales\"].describe())\n",
    "print(\"---Kohl's---\")\n",
    "print(df_kohls[\"total_sales\"].describe())\n",
    "print(\"---Amazon---\")\n",
    "print(df_amazon[\"total_sales\"].describe())\n",
    "print(\"---Walmart---\")\n",
    "print(df_walmart[\"total_sales\"].describe())\n"
   ]
  },
  {
   "cell_type": "code",
   "execution_count": 41,
   "metadata": {},
   "outputs": [],
   "source": [
    "df_footlocker.to_csv(\"../data/adidas_sales_footlocker.csv\", index=False)\n",
    "df_westgear.to_csv(\"../data/adidas_sales_westgear.csv\", index=False)\n",
    "df_sportsdirect.to_csv(\"../data/adidas_sales_sportsdirect.csv\", index=False)\n",
    "df_kohls.to_csv(\"../data/adidas_sales_kohls.csv\", index=False)\n",
    "df_amazon.to_csv(\"../data/adidas_sales_amazon.csv\", index=False)\n",
    "df_walmart.to_csv(\"../data/adidas_sales_walmart.csv\", index=False)"
   ]
  },
  {
   "cell_type": "markdown",
   "metadata": {},
   "source": [
    "# ✅ Step 4: Train y Test.\n"
   ]
  },
  {
   "cell_type": "code",
   "execution_count": 42,
   "metadata": {},
   "outputs": [],
   "source": [
    "df_footlocker_cleaned = pd.read_csv(\"../data/adidas_sales_footlocker.csv\", parse_dates=[\"invoice_date\"], index_col=False)"
   ]
  },
  {
   "cell_type": "code",
   "execution_count": 43,
   "metadata": {},
   "outputs": [
    {
     "data": {
      "text/html": [
       "<div>\n",
       "<style scoped>\n",
       "    .dataframe tbody tr th:only-of-type {\n",
       "        vertical-align: middle;\n",
       "    }\n",
       "\n",
       "    .dataframe tbody tr th {\n",
       "        vertical-align: top;\n",
       "    }\n",
       "\n",
       "    .dataframe thead th {\n",
       "        text-align: right;\n",
       "    }\n",
       "</style>\n",
       "<table border=\"1\" class=\"dataframe\">\n",
       "  <thead>\n",
       "    <tr style=\"text-align: right;\">\n",
       "      <th></th>\n",
       "      <th>retailer</th>\n",
       "      <th>invoice_date</th>\n",
       "      <th>region</th>\n",
       "      <th>state</th>\n",
       "      <th>city</th>\n",
       "      <th>product</th>\n",
       "      <th>price_per_unit</th>\n",
       "      <th>units_sold</th>\n",
       "      <th>total_sales</th>\n",
       "    </tr>\n",
       "  </thead>\n",
       "  <tbody>\n",
       "    <tr>\n",
       "      <th>0</th>\n",
       "      <td>Foot Locker</td>\n",
       "      <td>2020-01-01</td>\n",
       "      <td>Northeast</td>\n",
       "      <td>Pennsylvania</td>\n",
       "      <td>Philadelphia</td>\n",
       "      <td>Women's Apparel</td>\n",
       "      <td>75.0</td>\n",
       "      <td>275</td>\n",
       "      <td>20625.0</td>\n",
       "    </tr>\n",
       "    <tr>\n",
       "      <th>1</th>\n",
       "      <td>Foot Locker</td>\n",
       "      <td>2020-01-01</td>\n",
       "      <td>Northeast</td>\n",
       "      <td>Pennsylvania</td>\n",
       "      <td>Philadelphia</td>\n",
       "      <td>Women's Apparel</td>\n",
       "      <td>53.0</td>\n",
       "      <td>83</td>\n",
       "      <td>4399.0</td>\n",
       "    </tr>\n",
       "    <tr>\n",
       "      <th>2</th>\n",
       "      <td>Foot Locker</td>\n",
       "      <td>2020-01-01</td>\n",
       "      <td>Northeast</td>\n",
       "      <td>New York</td>\n",
       "      <td>New York</td>\n",
       "      <td>Men's Street Footwear</td>\n",
       "      <td>34.0</td>\n",
       "      <td>384</td>\n",
       "      <td>13056.0</td>\n",
       "    </tr>\n",
       "    <tr>\n",
       "      <th>3</th>\n",
       "      <td>Foot Locker</td>\n",
       "      <td>2020-01-01</td>\n",
       "      <td>Northeast</td>\n",
       "      <td>Pennsylvania</td>\n",
       "      <td>Philadelphia</td>\n",
       "      <td>Women's Apparel</td>\n",
       "      <td>68.0</td>\n",
       "      <td>83</td>\n",
       "      <td>5644.0</td>\n",
       "    </tr>\n",
       "    <tr>\n",
       "      <th>4</th>\n",
       "      <td>Foot Locker</td>\n",
       "      <td>2020-01-01</td>\n",
       "      <td>Northeast</td>\n",
       "      <td>New York</td>\n",
       "      <td>New York</td>\n",
       "      <td>Men's Street Footwear</td>\n",
       "      <td>47.0</td>\n",
       "      <td>336</td>\n",
       "      <td>15792.0</td>\n",
       "    </tr>\n",
       "  </tbody>\n",
       "</table>\n",
       "</div>"
      ],
      "text/plain": [
       "      retailer invoice_date     region         state          city  \\\n",
       "0  Foot Locker   2020-01-01  Northeast  Pennsylvania  Philadelphia   \n",
       "1  Foot Locker   2020-01-01  Northeast  Pennsylvania  Philadelphia   \n",
       "2  Foot Locker   2020-01-01  Northeast      New York      New York   \n",
       "3  Foot Locker   2020-01-01  Northeast  Pennsylvania  Philadelphia   \n",
       "4  Foot Locker   2020-01-01  Northeast      New York      New York   \n",
       "\n",
       "                 product  price_per_unit  units_sold  total_sales  \n",
       "0        Women's Apparel            75.0         275      20625.0  \n",
       "1        Women's Apparel            53.0          83       4399.0  \n",
       "2  Men's Street Footwear            34.0         384      13056.0  \n",
       "3        Women's Apparel            68.0          83       5644.0  \n",
       "4  Men's Street Footwear            47.0         336      15792.0  "
      ]
     },
     "execution_count": 43,
     "metadata": {},
     "output_type": "execute_result"
    }
   ],
   "source": [
    "df_footlocker_cleaned.head(5)"
   ]
  },
  {
   "cell_type": "code",
   "execution_count": 44,
   "metadata": {},
   "outputs": [
    {
     "name": "stdout",
     "output_type": "stream",
     "text": [
      "<class 'pandas.core.frame.DataFrame'>\n",
      "RangeIndex: 2630 entries, 0 to 2629\n",
      "Data columns (total 9 columns):\n",
      " #   Column          Non-Null Count  Dtype         \n",
      "---  ------          --------------  -----         \n",
      " 0   retailer        2630 non-null   object        \n",
      " 1   invoice_date    2630 non-null   datetime64[ns]\n",
      " 2   region          2630 non-null   object        \n",
      " 3   state           2630 non-null   object        \n",
      " 4   city            2630 non-null   object        \n",
      " 5   product         2630 non-null   object        \n",
      " 6   price_per_unit  2630 non-null   float64       \n",
      " 7   units_sold      2630 non-null   int64         \n",
      " 8   total_sales     2630 non-null   float64       \n",
      "dtypes: datetime64[ns](1), float64(2), int64(1), object(5)\n",
      "memory usage: 185.1+ KB\n"
     ]
    }
   ],
   "source": [
    "df_footlocker_cleaned.info()"
   ]
  },
  {
   "cell_type": "markdown",
   "metadata": {},
   "source": [
    "A. PREDECIR LA FACTURACIÓN DE LAS TIENDAS DISTRIBUIDORAS"
   ]
  },
  {
   "cell_type": "code",
   "execution_count": 45,
   "metadata": {},
   "outputs": [],
   "source": [
    "from sklearn.model_selection import train_test_split\n",
    "\n",
    "# Dividir el dataset en train y test\n",
    "X = df_footlocker_cleaned.drop(columns=['total_sales', \"units_sold\"])\n",
    "y = df_footlocker_cleaned['total_sales']\n",
    "\n",
    "X_train, X_test, y_train, y_test = train_test_split(X, y, test_size=0.2, random_state=42)"
   ]
  },
  {
   "cell_type": "markdown",
   "metadata": {},
   "source": [
    "----------------"
   ]
  },
  {
   "cell_type": "markdown",
   "metadata": {},
   "source": [
    "B. PREVENCIÓN A LA ROTURA DE STOCK Y MEJORA EN COSTES"
   ]
  },
  {
   "cell_type": "code",
   "execution_count": null,
   "metadata": {},
   "outputs": [],
   "source": []
  },
  {
   "cell_type": "code",
   "execution_count": null,
   "metadata": {},
   "outputs": [],
   "source": []
  },
  {
   "cell_type": "code",
   "execution_count": null,
   "metadata": {},
   "outputs": [],
   "source": []
  },
  {
   "cell_type": "markdown",
   "metadata": {},
   "source": [
    "# ✅ Step 5: Mini Eda + Preparación del dataset\n"
   ]
  },
  {
   "cell_type": "markdown",
   "metadata": {},
   "source": [
    "A. PREDECIR LA FACTURACIÓN DE LAS TIENDAS DISTRIBUIDORAS"
   ]
  },
  {
   "cell_type": "code",
   "execution_count": 48,
   "metadata": {},
   "outputs": [
    {
     "data": {
      "text/plain": [
       "quarter\n",
       "1    7365686.0\n",
       "2    5855153.0\n",
       "3    7722436.0\n",
       "4    8061670.0\n",
       "Name: total_sales, dtype: float64"
      ]
     },
     "execution_count": 48,
     "metadata": {},
     "output_type": "execute_result"
    }
   ],
   "source": [
    "# quiero ver los trimestres y sus ventas totales para ver cual fue mejor\n",
    "# df_footlocker_cleaned[\"quarter\"] = df_footlocker_cleaned[\"invoice_date\"].dt.quarter\n",
    "df_footlocker_cleaned.groupby(\"quarter\")[\"total_sales\"].sum()\n"
   ]
  },
  {
   "cell_type": "code",
   "execution_count": 47,
   "metadata": {},
   "outputs": [
    {
     "data": {
      "text/plain": [
       "Index(['retailer', 'invoice_date', 'region', 'state', 'city', 'product',\n",
       "       'price_per_unit'],\n",
       "      dtype='object')"
      ]
     },
     "execution_count": 47,
     "metadata": {},
     "output_type": "execute_result"
    }
   ],
   "source": [
    "X_train.columns"
   ]
  },
  {
   "cell_type": "code",
   "execution_count": 49,
   "metadata": {},
   "outputs": [],
   "source": [
    "X_train['month'] = X_train['invoice_date'].dt.month\n",
    "X_train['day_of_week'] = X_train['invoice_date'].dt.dayofweek  # Lunes=0, Domingo=6\n",
    "X_train[\"quarter\"] = X_train[\"invoice_date\"].dt.quarter\n",
    "\n",
    "\n",
    "X_test['month'] = X_test['invoice_date'].dt.month\n",
    "X_test['day_of_week'] = X_test['invoice_date'].dt.dayofweek  # Lunes=0, Domingo=6\n",
    "X_test[\"quarter\"] = X_test[\"invoice_date\"].dt.quarter"
   ]
  },
  {
   "cell_type": "code",
   "execution_count": 50,
   "metadata": {},
   "outputs": [],
   "source": [
    "X_train = X_train.drop(columns=['invoice_date', 'city', \"units_sold\", \"retailer\"], errors=\"ignore\")\n",
    "X_test = X_test.drop(columns=['invoice_date', 'city', \"units_sold\", \"retailer\"], errors=\"ignore\")"
   ]
  },
  {
   "cell_type": "code",
   "execution_count": 51,
   "metadata": {},
   "outputs": [
    {
     "data": {
      "text/html": [
       "<div>\n",
       "<style scoped>\n",
       "    .dataframe tbody tr th:only-of-type {\n",
       "        vertical-align: middle;\n",
       "    }\n",
       "\n",
       "    .dataframe tbody tr th {\n",
       "        vertical-align: top;\n",
       "    }\n",
       "\n",
       "    .dataframe thead th {\n",
       "        text-align: right;\n",
       "    }\n",
       "</style>\n",
       "<table border=\"1\" class=\"dataframe\">\n",
       "  <thead>\n",
       "    <tr style=\"text-align: right;\">\n",
       "      <th></th>\n",
       "      <th>region</th>\n",
       "      <th>state</th>\n",
       "      <th>product</th>\n",
       "      <th>price_per_unit</th>\n",
       "      <th>month</th>\n",
       "      <th>day_of_week</th>\n",
       "      <th>quarter</th>\n",
       "    </tr>\n",
       "  </thead>\n",
       "  <tbody>\n",
       "    <tr>\n",
       "      <th>1208</th>\n",
       "      <td>Southeast</td>\n",
       "      <td>South Carolina</td>\n",
       "      <td>Men's Street Footwear</td>\n",
       "      <td>51.0</td>\n",
       "      <td>6</td>\n",
       "      <td>0</td>\n",
       "      <td>2</td>\n",
       "    </tr>\n",
       "    <tr>\n",
       "      <th>2357</th>\n",
       "      <td>Northeast</td>\n",
       "      <td>Pennsylvania</td>\n",
       "      <td>Men's Athletic Footwear</td>\n",
       "      <td>55.0</td>\n",
       "      <td>11</td>\n",
       "      <td>6</td>\n",
       "      <td>4</td>\n",
       "    </tr>\n",
       "    <tr>\n",
       "      <th>482</th>\n",
       "      <td>Northeast</td>\n",
       "      <td>West Virginia</td>\n",
       "      <td>Women's Street Footwear</td>\n",
       "      <td>25.0</td>\n",
       "      <td>1</td>\n",
       "      <td>6</td>\n",
       "      <td>1</td>\n",
       "    </tr>\n",
       "    <tr>\n",
       "      <th>1199</th>\n",
       "      <td>Midwest</td>\n",
       "      <td>Iowa</td>\n",
       "      <td>Men's Apparel</td>\n",
       "      <td>35.0</td>\n",
       "      <td>6</td>\n",
       "      <td>6</td>\n",
       "      <td>2</td>\n",
       "    </tr>\n",
       "    <tr>\n",
       "      <th>438</th>\n",
       "      <td>Midwest</td>\n",
       "      <td>Michigan</td>\n",
       "      <td>Men's Street Footwear</td>\n",
       "      <td>30.0</td>\n",
       "      <td>1</td>\n",
       "      <td>0</td>\n",
       "      <td>1</td>\n",
       "    </tr>\n",
       "    <tr>\n",
       "      <th>...</th>\n",
       "      <td>...</td>\n",
       "      <td>...</td>\n",
       "      <td>...</td>\n",
       "      <td>...</td>\n",
       "      <td>...</td>\n",
       "      <td>...</td>\n",
       "      <td>...</td>\n",
       "    </tr>\n",
       "    <tr>\n",
       "      <th>1638</th>\n",
       "      <td>Southeast</td>\n",
       "      <td>Virginia</td>\n",
       "      <td>Women's Street Footwear</td>\n",
       "      <td>62.0</td>\n",
       "      <td>7</td>\n",
       "      <td>4</td>\n",
       "      <td>3</td>\n",
       "    </tr>\n",
       "    <tr>\n",
       "      <th>1095</th>\n",
       "      <td>Midwest</td>\n",
       "      <td>Missouri</td>\n",
       "      <td>Women's Apparel</td>\n",
       "      <td>50.0</td>\n",
       "      <td>5</td>\n",
       "      <td>2</td>\n",
       "      <td>2</td>\n",
       "    </tr>\n",
       "    <tr>\n",
       "      <th>1130</th>\n",
       "      <td>Southeast</td>\n",
       "      <td>Virginia</td>\n",
       "      <td>Men's Apparel</td>\n",
       "      <td>34.0</td>\n",
       "      <td>5</td>\n",
       "      <td>1</td>\n",
       "      <td>2</td>\n",
       "    </tr>\n",
       "    <tr>\n",
       "      <th>1294</th>\n",
       "      <td>Northeast</td>\n",
       "      <td>Delaware</td>\n",
       "      <td>Women's Apparel</td>\n",
       "      <td>60.0</td>\n",
       "      <td>6</td>\n",
       "      <td>1</td>\n",
       "      <td>2</td>\n",
       "    </tr>\n",
       "    <tr>\n",
       "      <th>860</th>\n",
       "      <td>Southeast</td>\n",
       "      <td>South Carolina</td>\n",
       "      <td>Women's Athletic Footwear</td>\n",
       "      <td>27.0</td>\n",
       "      <td>4</td>\n",
       "      <td>1</td>\n",
       "      <td>2</td>\n",
       "    </tr>\n",
       "  </tbody>\n",
       "</table>\n",
       "<p>2104 rows × 7 columns</p>\n",
       "</div>"
      ],
      "text/plain": [
       "         region           state                    product  price_per_unit  \\\n",
       "1208  Southeast  South Carolina      Men's Street Footwear            51.0   \n",
       "2357  Northeast    Pennsylvania    Men's Athletic Footwear            55.0   \n",
       "482   Northeast   West Virginia    Women's Street Footwear            25.0   \n",
       "1199    Midwest            Iowa              Men's Apparel            35.0   \n",
       "438     Midwest        Michigan      Men's Street Footwear            30.0   \n",
       "...         ...             ...                        ...             ...   \n",
       "1638  Southeast        Virginia    Women's Street Footwear            62.0   \n",
       "1095    Midwest        Missouri            Women's Apparel            50.0   \n",
       "1130  Southeast        Virginia              Men's Apparel            34.0   \n",
       "1294  Northeast        Delaware            Women's Apparel            60.0   \n",
       "860   Southeast  South Carolina  Women's Athletic Footwear            27.0   \n",
       "\n",
       "      month  day_of_week  quarter  \n",
       "1208      6            0        2  \n",
       "2357     11            6        4  \n",
       "482       1            6        1  \n",
       "1199      6            6        2  \n",
       "438       1            0        1  \n",
       "...     ...          ...      ...  \n",
       "1638      7            4        3  \n",
       "1095      5            2        2  \n",
       "1130      5            1        2  \n",
       "1294      6            1        2  \n",
       "860       4            1        2  \n",
       "\n",
       "[2104 rows x 7 columns]"
      ]
     },
     "execution_count": 51,
     "metadata": {},
     "output_type": "execute_result"
    }
   ],
   "source": [
    "X_train"
   ]
  },
  {
   "cell_type": "code",
   "execution_count": 52,
   "metadata": {},
   "outputs": [],
   "source": [
    "categorical_features = ['region', 'state', 'product', 'day_of_week', \"month\", \"quarter\"]\n",
    "numeric_features = ['price_per_unit']"
   ]
  },
  {
   "cell_type": "code",
   "execution_count": 53,
   "metadata": {},
   "outputs": [],
   "source": [
    "import pandas as pd\n",
    "from sklearn.model_selection import train_test_split\n",
    "from sklearn.preprocessing import OneHotEncoder, StandardScaler\n",
    "from sklearn.compose import ColumnTransformer\n",
    "from sklearn.pipeline import Pipeline\n",
    "from sklearn.metrics import mean_squared_error, r2_score\n",
    "preprocessor = ColumnTransformer(\n",
    "     transformers=[\n",
    "      (\"num\", \"passthrough\", numeric_features),\n",
    "      ('cat', OneHotEncoder(handle_unknown='ignore', sparse_output=False), categorical_features)])\n",
    "\n"
   ]
  },
  {
   "cell_type": "code",
   "execution_count": 54,
   "metadata": {},
   "outputs": [],
   "source": [
    "X_train_preprocessed = preprocessor.fit_transform(X_train)\n",
    "X_test_preprocessed = preprocessor.transform(X_test)"
   ]
  },
  {
   "cell_type": "code",
   "execution_count": 55,
   "metadata": {},
   "outputs": [],
   "source": [
    "# # Esto te da los nombres de columnas después del OneHotEncoder\n",
    "ohe_columns = preprocessor.named_transformers_['cat'].get_feature_names_out(input_features=categorical_features)\n",
    "ohe_columns_clean = np.char.replace(ohe_columns.astype(str), ' ', '_')\n",
    "all_columns_clean = np.concatenate([numeric_features, ohe_columns_clean])\n"
   ]
  },
  {
   "cell_type": "code",
   "execution_count": 56,
   "metadata": {},
   "outputs": [],
   "source": [
    "X_train_df = pd.DataFrame(X_train_preprocessed, columns=all_columns_clean, index=X_train.index)\n",
    "X_test_df = pd.DataFrame(X_test_preprocessed, columns=all_columns_clean, index=X_test.index)"
   ]
  },
  {
   "cell_type": "code",
   "execution_count": 57,
   "metadata": {},
   "outputs": [
    {
     "data": {
      "text/html": [
       "<div>\n",
       "<style scoped>\n",
       "    .dataframe tbody tr th:only-of-type {\n",
       "        vertical-align: middle;\n",
       "    }\n",
       "\n",
       "    .dataframe tbody tr th {\n",
       "        vertical-align: top;\n",
       "    }\n",
       "\n",
       "    .dataframe thead th {\n",
       "        text-align: right;\n",
       "    }\n",
       "</style>\n",
       "<table border=\"1\" class=\"dataframe\">\n",
       "  <thead>\n",
       "    <tr style=\"text-align: right;\">\n",
       "      <th></th>\n",
       "      <th>price_per_unit</th>\n",
       "      <th>region_Midwest</th>\n",
       "      <th>region_Northeast</th>\n",
       "      <th>region_South</th>\n",
       "      <th>region_Southeast</th>\n",
       "      <th>region_West</th>\n",
       "      <th>state_Alaska</th>\n",
       "      <th>state_Arizona</th>\n",
       "      <th>state_California</th>\n",
       "      <th>state_Connecticut</th>\n",
       "      <th>...</th>\n",
       "      <th>month_7</th>\n",
       "      <th>month_8</th>\n",
       "      <th>month_9</th>\n",
       "      <th>month_10</th>\n",
       "      <th>month_11</th>\n",
       "      <th>month_12</th>\n",
       "      <th>quarter_1</th>\n",
       "      <th>quarter_2</th>\n",
       "      <th>quarter_3</th>\n",
       "      <th>quarter_4</th>\n",
       "    </tr>\n",
       "  </thead>\n",
       "  <tbody>\n",
       "    <tr>\n",
       "      <th>1208</th>\n",
       "      <td>51.0</td>\n",
       "      <td>0.0</td>\n",
       "      <td>0.0</td>\n",
       "      <td>0.0</td>\n",
       "      <td>1.0</td>\n",
       "      <td>0.0</td>\n",
       "      <td>0.0</td>\n",
       "      <td>0.0</td>\n",
       "      <td>0.0</td>\n",
       "      <td>0.0</td>\n",
       "      <td>...</td>\n",
       "      <td>0.0</td>\n",
       "      <td>0.0</td>\n",
       "      <td>0.0</td>\n",
       "      <td>0.0</td>\n",
       "      <td>0.0</td>\n",
       "      <td>0.0</td>\n",
       "      <td>0.0</td>\n",
       "      <td>1.0</td>\n",
       "      <td>0.0</td>\n",
       "      <td>0.0</td>\n",
       "    </tr>\n",
       "    <tr>\n",
       "      <th>2357</th>\n",
       "      <td>55.0</td>\n",
       "      <td>0.0</td>\n",
       "      <td>1.0</td>\n",
       "      <td>0.0</td>\n",
       "      <td>0.0</td>\n",
       "      <td>0.0</td>\n",
       "      <td>0.0</td>\n",
       "      <td>0.0</td>\n",
       "      <td>0.0</td>\n",
       "      <td>0.0</td>\n",
       "      <td>...</td>\n",
       "      <td>0.0</td>\n",
       "      <td>0.0</td>\n",
       "      <td>0.0</td>\n",
       "      <td>0.0</td>\n",
       "      <td>1.0</td>\n",
       "      <td>0.0</td>\n",
       "      <td>0.0</td>\n",
       "      <td>0.0</td>\n",
       "      <td>0.0</td>\n",
       "      <td>1.0</td>\n",
       "    </tr>\n",
       "    <tr>\n",
       "      <th>482</th>\n",
       "      <td>25.0</td>\n",
       "      <td>0.0</td>\n",
       "      <td>1.0</td>\n",
       "      <td>0.0</td>\n",
       "      <td>0.0</td>\n",
       "      <td>0.0</td>\n",
       "      <td>0.0</td>\n",
       "      <td>0.0</td>\n",
       "      <td>0.0</td>\n",
       "      <td>0.0</td>\n",
       "      <td>...</td>\n",
       "      <td>0.0</td>\n",
       "      <td>0.0</td>\n",
       "      <td>0.0</td>\n",
       "      <td>0.0</td>\n",
       "      <td>0.0</td>\n",
       "      <td>0.0</td>\n",
       "      <td>1.0</td>\n",
       "      <td>0.0</td>\n",
       "      <td>0.0</td>\n",
       "      <td>0.0</td>\n",
       "    </tr>\n",
       "    <tr>\n",
       "      <th>1199</th>\n",
       "      <td>35.0</td>\n",
       "      <td>1.0</td>\n",
       "      <td>0.0</td>\n",
       "      <td>0.0</td>\n",
       "      <td>0.0</td>\n",
       "      <td>0.0</td>\n",
       "      <td>0.0</td>\n",
       "      <td>0.0</td>\n",
       "      <td>0.0</td>\n",
       "      <td>0.0</td>\n",
       "      <td>...</td>\n",
       "      <td>0.0</td>\n",
       "      <td>0.0</td>\n",
       "      <td>0.0</td>\n",
       "      <td>0.0</td>\n",
       "      <td>0.0</td>\n",
       "      <td>0.0</td>\n",
       "      <td>0.0</td>\n",
       "      <td>1.0</td>\n",
       "      <td>0.0</td>\n",
       "      <td>0.0</td>\n",
       "    </tr>\n",
       "    <tr>\n",
       "      <th>438</th>\n",
       "      <td>30.0</td>\n",
       "      <td>1.0</td>\n",
       "      <td>0.0</td>\n",
       "      <td>0.0</td>\n",
       "      <td>0.0</td>\n",
       "      <td>0.0</td>\n",
       "      <td>0.0</td>\n",
       "      <td>0.0</td>\n",
       "      <td>0.0</td>\n",
       "      <td>0.0</td>\n",
       "      <td>...</td>\n",
       "      <td>0.0</td>\n",
       "      <td>0.0</td>\n",
       "      <td>0.0</td>\n",
       "      <td>0.0</td>\n",
       "      <td>0.0</td>\n",
       "      <td>0.0</td>\n",
       "      <td>1.0</td>\n",
       "      <td>0.0</td>\n",
       "      <td>0.0</td>\n",
       "      <td>0.0</td>\n",
       "    </tr>\n",
       "    <tr>\n",
       "      <th>...</th>\n",
       "      <td>...</td>\n",
       "      <td>...</td>\n",
       "      <td>...</td>\n",
       "      <td>...</td>\n",
       "      <td>...</td>\n",
       "      <td>...</td>\n",
       "      <td>...</td>\n",
       "      <td>...</td>\n",
       "      <td>...</td>\n",
       "      <td>...</td>\n",
       "      <td>...</td>\n",
       "      <td>...</td>\n",
       "      <td>...</td>\n",
       "      <td>...</td>\n",
       "      <td>...</td>\n",
       "      <td>...</td>\n",
       "      <td>...</td>\n",
       "      <td>...</td>\n",
       "      <td>...</td>\n",
       "      <td>...</td>\n",
       "      <td>...</td>\n",
       "    </tr>\n",
       "    <tr>\n",
       "      <th>1638</th>\n",
       "      <td>62.0</td>\n",
       "      <td>0.0</td>\n",
       "      <td>0.0</td>\n",
       "      <td>0.0</td>\n",
       "      <td>1.0</td>\n",
       "      <td>0.0</td>\n",
       "      <td>0.0</td>\n",
       "      <td>0.0</td>\n",
       "      <td>0.0</td>\n",
       "      <td>0.0</td>\n",
       "      <td>...</td>\n",
       "      <td>1.0</td>\n",
       "      <td>0.0</td>\n",
       "      <td>0.0</td>\n",
       "      <td>0.0</td>\n",
       "      <td>0.0</td>\n",
       "      <td>0.0</td>\n",
       "      <td>0.0</td>\n",
       "      <td>0.0</td>\n",
       "      <td>1.0</td>\n",
       "      <td>0.0</td>\n",
       "    </tr>\n",
       "    <tr>\n",
       "      <th>1095</th>\n",
       "      <td>50.0</td>\n",
       "      <td>1.0</td>\n",
       "      <td>0.0</td>\n",
       "      <td>0.0</td>\n",
       "      <td>0.0</td>\n",
       "      <td>0.0</td>\n",
       "      <td>0.0</td>\n",
       "      <td>0.0</td>\n",
       "      <td>0.0</td>\n",
       "      <td>0.0</td>\n",
       "      <td>...</td>\n",
       "      <td>0.0</td>\n",
       "      <td>0.0</td>\n",
       "      <td>0.0</td>\n",
       "      <td>0.0</td>\n",
       "      <td>0.0</td>\n",
       "      <td>0.0</td>\n",
       "      <td>0.0</td>\n",
       "      <td>1.0</td>\n",
       "      <td>0.0</td>\n",
       "      <td>0.0</td>\n",
       "    </tr>\n",
       "    <tr>\n",
       "      <th>1130</th>\n",
       "      <td>34.0</td>\n",
       "      <td>0.0</td>\n",
       "      <td>0.0</td>\n",
       "      <td>0.0</td>\n",
       "      <td>1.0</td>\n",
       "      <td>0.0</td>\n",
       "      <td>0.0</td>\n",
       "      <td>0.0</td>\n",
       "      <td>0.0</td>\n",
       "      <td>0.0</td>\n",
       "      <td>...</td>\n",
       "      <td>0.0</td>\n",
       "      <td>0.0</td>\n",
       "      <td>0.0</td>\n",
       "      <td>0.0</td>\n",
       "      <td>0.0</td>\n",
       "      <td>0.0</td>\n",
       "      <td>0.0</td>\n",
       "      <td>1.0</td>\n",
       "      <td>0.0</td>\n",
       "      <td>0.0</td>\n",
       "    </tr>\n",
       "    <tr>\n",
       "      <th>1294</th>\n",
       "      <td>60.0</td>\n",
       "      <td>0.0</td>\n",
       "      <td>1.0</td>\n",
       "      <td>0.0</td>\n",
       "      <td>0.0</td>\n",
       "      <td>0.0</td>\n",
       "      <td>0.0</td>\n",
       "      <td>0.0</td>\n",
       "      <td>0.0</td>\n",
       "      <td>0.0</td>\n",
       "      <td>...</td>\n",
       "      <td>0.0</td>\n",
       "      <td>0.0</td>\n",
       "      <td>0.0</td>\n",
       "      <td>0.0</td>\n",
       "      <td>0.0</td>\n",
       "      <td>0.0</td>\n",
       "      <td>0.0</td>\n",
       "      <td>1.0</td>\n",
       "      <td>0.0</td>\n",
       "      <td>0.0</td>\n",
       "    </tr>\n",
       "    <tr>\n",
       "      <th>860</th>\n",
       "      <td>27.0</td>\n",
       "      <td>0.0</td>\n",
       "      <td>0.0</td>\n",
       "      <td>0.0</td>\n",
       "      <td>1.0</td>\n",
       "      <td>0.0</td>\n",
       "      <td>0.0</td>\n",
       "      <td>0.0</td>\n",
       "      <td>0.0</td>\n",
       "      <td>0.0</td>\n",
       "      <td>...</td>\n",
       "      <td>0.0</td>\n",
       "      <td>0.0</td>\n",
       "      <td>0.0</td>\n",
       "      <td>0.0</td>\n",
       "      <td>0.0</td>\n",
       "      <td>0.0</td>\n",
       "      <td>0.0</td>\n",
       "      <td>1.0</td>\n",
       "      <td>0.0</td>\n",
       "      <td>0.0</td>\n",
       "    </tr>\n",
       "  </tbody>\n",
       "</table>\n",
       "<p>2104 rows × 68 columns</p>\n",
       "</div>"
      ],
      "text/plain": [
       "      price_per_unit  region_Midwest  region_Northeast  region_South  \\\n",
       "1208            51.0             0.0               0.0           0.0   \n",
       "2357            55.0             0.0               1.0           0.0   \n",
       "482             25.0             0.0               1.0           0.0   \n",
       "1199            35.0             1.0               0.0           0.0   \n",
       "438             30.0             1.0               0.0           0.0   \n",
       "...              ...             ...               ...           ...   \n",
       "1638            62.0             0.0               0.0           0.0   \n",
       "1095            50.0             1.0               0.0           0.0   \n",
       "1130            34.0             0.0               0.0           0.0   \n",
       "1294            60.0             0.0               1.0           0.0   \n",
       "860             27.0             0.0               0.0           0.0   \n",
       "\n",
       "      region_Southeast  region_West  state_Alaska  state_Arizona  \\\n",
       "1208               1.0          0.0           0.0            0.0   \n",
       "2357               0.0          0.0           0.0            0.0   \n",
       "482                0.0          0.0           0.0            0.0   \n",
       "1199               0.0          0.0           0.0            0.0   \n",
       "438                0.0          0.0           0.0            0.0   \n",
       "...                ...          ...           ...            ...   \n",
       "1638               1.0          0.0           0.0            0.0   \n",
       "1095               0.0          0.0           0.0            0.0   \n",
       "1130               1.0          0.0           0.0            0.0   \n",
       "1294               0.0          0.0           0.0            0.0   \n",
       "860                1.0          0.0           0.0            0.0   \n",
       "\n",
       "      state_California  state_Connecticut  ...  month_7  month_8  month_9  \\\n",
       "1208               0.0                0.0  ...      0.0      0.0      0.0   \n",
       "2357               0.0                0.0  ...      0.0      0.0      0.0   \n",
       "482                0.0                0.0  ...      0.0      0.0      0.0   \n",
       "1199               0.0                0.0  ...      0.0      0.0      0.0   \n",
       "438                0.0                0.0  ...      0.0      0.0      0.0   \n",
       "...                ...                ...  ...      ...      ...      ...   \n",
       "1638               0.0                0.0  ...      1.0      0.0      0.0   \n",
       "1095               0.0                0.0  ...      0.0      0.0      0.0   \n",
       "1130               0.0                0.0  ...      0.0      0.0      0.0   \n",
       "1294               0.0                0.0  ...      0.0      0.0      0.0   \n",
       "860                0.0                0.0  ...      0.0      0.0      0.0   \n",
       "\n",
       "      month_10  month_11  month_12  quarter_1  quarter_2  quarter_3  quarter_4  \n",
       "1208       0.0       0.0       0.0        0.0        1.0        0.0        0.0  \n",
       "2357       0.0       1.0       0.0        0.0        0.0        0.0        1.0  \n",
       "482        0.0       0.0       0.0        1.0        0.0        0.0        0.0  \n",
       "1199       0.0       0.0       0.0        0.0        1.0        0.0        0.0  \n",
       "438        0.0       0.0       0.0        1.0        0.0        0.0        0.0  \n",
       "...        ...       ...       ...        ...        ...        ...        ...  \n",
       "1638       0.0       0.0       0.0        0.0        0.0        1.0        0.0  \n",
       "1095       0.0       0.0       0.0        0.0        1.0        0.0        0.0  \n",
       "1130       0.0       0.0       0.0        0.0        1.0        0.0        0.0  \n",
       "1294       0.0       0.0       0.0        0.0        1.0        0.0        0.0  \n",
       "860        0.0       0.0       0.0        0.0        1.0        0.0        0.0  \n",
       "\n",
       "[2104 rows x 68 columns]"
      ]
     },
     "execution_count": 57,
     "metadata": {},
     "output_type": "execute_result"
    }
   ],
   "source": [
    "X_train_df"
   ]
  },
  {
   "cell_type": "markdown",
   "metadata": {},
   "source": [
    "Visualizamos nuestro target - y_train"
   ]
  },
  {
   "cell_type": "code",
   "execution_count": 59,
   "metadata": {},
   "outputs": [
    {
     "data": {
      "text/plain": [
       "count     2104.000000\n",
       "mean     11142.958175\n",
       "std      12529.934171\n",
       "min        160.000000\n",
       "25%       3182.250000\n",
       "50%       6739.500000\n",
       "75%      13500.000000\n",
       "max      75250.000000\n",
       "Name: total_sales, dtype: float64"
      ]
     },
     "execution_count": 59,
     "metadata": {},
     "output_type": "execute_result"
    }
   ],
   "source": [
    "y_train.describe()"
   ]
  },
  {
   "cell_type": "code",
   "execution_count": 60,
   "metadata": {},
   "outputs": [
    {
     "data": {
      "text/plain": [
       "<Axes: xlabel='total_sales'>"
      ]
     },
     "execution_count": 60,
     "metadata": {},
     "output_type": "execute_result"
    },
    {
     "data": {
      "image/png": "[encoded data removed]",
      "text/plain": [
       "<Figure size 640x480 with 1 Axes>"
      ]
     },
     "metadata": {},
     "output_type": "display_data"
    }
   ],
   "source": [
    "sns.boxplot(x=y_train)"
   ]
  },
  {
   "cell_type": "code",
   "execution_count": 61,
   "metadata": {},
   "outputs": [
    {
     "data": {
      "text/plain": [
       "<Axes: xlabel='total_sales', ylabel='Count'>"
      ]
     },
     "execution_count": 61,
     "metadata": {},
     "output_type": "execute_result"
    },
    {
     "data": {
      "image/png": "[encoded data removed]",
      "text/plain": [
       "<Figure size 640x480 with 1 Axes>"
      ]
     },
     "metadata": {},
     "output_type": "display_data"
    }
   ],
   "source": [
    "sns.histplot(y_train, kde = True)"
   ]
  },
  {
   "cell_type": "code",
   "execution_count": 65,
   "metadata": {},
   "outputs": [],
   "source": [
    "# eliminamos los outliers\n",
    "mask_train = y_train <= 70000\n",
    "X_train_filtered_footlocker = X_train[mask_train]\n",
    "y_train_filtered_footlocker = y_train[mask_train]"
   ]
  },
  {
   "cell_type": "code",
   "execution_count": 66,
   "metadata": {},
   "outputs": [
    {
     "name": "stderr",
     "output_type": "stream",
     "text": [
      "C:\\Users\\Usuario\\AppData\\Local\\Temp\\ipykernel_19344\\3095561580.py:2: UserWarning: Boolean Series key will be reindexed to match DataFrame index.\n",
      "  X_train_filtered_footlocker = X_train_filtered_footlocker[mask_train_2]\n"
     ]
    }
   ],
   "source": [
    "mask_train_2 = y_train >= 300\n",
    "X_train_filtered_footlocker = X_train_filtered_footlocker[mask_train_2]\n",
    "y_train_filtered_footlocker = y_train_filtered_footlocker[mask_train_2]"
   ]
  },
  {
   "cell_type": "code",
   "execution_count": 68,
   "metadata": {},
   "outputs": [],
   "source": [
    "# eliminamos los outliers de otros df\n",
    "X_train_df_mask = X_train_df[mask_train]"
   ]
  },
  {
   "cell_type": "code",
   "execution_count": 69,
   "metadata": {},
   "outputs": [
    {
     "name": "stderr",
     "output_type": "stream",
     "text": [
      "C:\\Users\\Usuario\\AppData\\Local\\Temp\\ipykernel_19344\\2466491731.py:1: UserWarning: Boolean Series key will be reindexed to match DataFrame index.\n",
      "  X_train_df_mask = X_train_df_mask[mask_train_2]\n"
     ]
    }
   ],
   "source": [
    "X_train_df_mask = X_train_df_mask[mask_train_2]"
   ]
  },
  {
   "cell_type": "code",
   "execution_count": 67,
   "metadata": {},
   "outputs": [
    {
     "data": {
      "text/plain": [
       "count     2087.000000\n",
       "mean     10915.447053\n",
       "std      11871.325477\n",
       "min        320.000000\n",
       "25%       3200.000000\n",
       "50%       6732.000000\n",
       "75%      13500.000000\n",
       "max      68250.000000\n",
       "Name: total_sales, dtype: float64"
      ]
     },
     "execution_count": 67,
     "metadata": {},
     "output_type": "execute_result"
    }
   ],
   "source": [
    "y_train_filtered_footlocker.describe()"
   ]
  },
  {
   "cell_type": "code",
   "execution_count": 70,
   "metadata": {},
   "outputs": [
    {
     "data": {
      "text/html": [
       "<div>\n",
       "<style scoped>\n",
       "    .dataframe tbody tr th:only-of-type {\n",
       "        vertical-align: middle;\n",
       "    }\n",
       "\n",
       "    .dataframe tbody tr th {\n",
       "        vertical-align: top;\n",
       "    }\n",
       "\n",
       "    .dataframe thead th {\n",
       "        text-align: right;\n",
       "    }\n",
       "</style>\n",
       "<table border=\"1\" class=\"dataframe\">\n",
       "  <thead>\n",
       "    <tr style=\"text-align: right;\">\n",
       "      <th></th>\n",
       "      <th>price_per_unit</th>\n",
       "      <th>region_Midwest</th>\n",
       "      <th>region_Northeast</th>\n",
       "      <th>region_South</th>\n",
       "      <th>region_Southeast</th>\n",
       "      <th>region_West</th>\n",
       "      <th>state_Alaska</th>\n",
       "      <th>state_Arizona</th>\n",
       "      <th>state_California</th>\n",
       "      <th>state_Connecticut</th>\n",
       "      <th>...</th>\n",
       "      <th>month_7</th>\n",
       "      <th>month_8</th>\n",
       "      <th>month_9</th>\n",
       "      <th>month_10</th>\n",
       "      <th>month_11</th>\n",
       "      <th>month_12</th>\n",
       "      <th>quarter_1</th>\n",
       "      <th>quarter_2</th>\n",
       "      <th>quarter_3</th>\n",
       "      <th>quarter_4</th>\n",
       "    </tr>\n",
       "  </thead>\n",
       "  <tbody>\n",
       "    <tr>\n",
       "      <th>1208</th>\n",
       "      <td>51.0</td>\n",
       "      <td>0.0</td>\n",
       "      <td>0.0</td>\n",
       "      <td>0.0</td>\n",
       "      <td>1.0</td>\n",
       "      <td>0.0</td>\n",
       "      <td>0.0</td>\n",
       "      <td>0.0</td>\n",
       "      <td>0.0</td>\n",
       "      <td>0.0</td>\n",
       "      <td>...</td>\n",
       "      <td>0.0</td>\n",
       "      <td>0.0</td>\n",
       "      <td>0.0</td>\n",
       "      <td>0.0</td>\n",
       "      <td>0.0</td>\n",
       "      <td>0.0</td>\n",
       "      <td>0.0</td>\n",
       "      <td>1.0</td>\n",
       "      <td>0.0</td>\n",
       "      <td>0.0</td>\n",
       "    </tr>\n",
       "    <tr>\n",
       "      <th>2357</th>\n",
       "      <td>55.0</td>\n",
       "      <td>0.0</td>\n",
       "      <td>1.0</td>\n",
       "      <td>0.0</td>\n",
       "      <td>0.0</td>\n",
       "      <td>0.0</td>\n",
       "      <td>0.0</td>\n",
       "      <td>0.0</td>\n",
       "      <td>0.0</td>\n",
       "      <td>0.0</td>\n",
       "      <td>...</td>\n",
       "      <td>0.0</td>\n",
       "      <td>0.0</td>\n",
       "      <td>0.0</td>\n",
       "      <td>0.0</td>\n",
       "      <td>1.0</td>\n",
       "      <td>0.0</td>\n",
       "      <td>0.0</td>\n",
       "      <td>0.0</td>\n",
       "      <td>0.0</td>\n",
       "      <td>1.0</td>\n",
       "    </tr>\n",
       "    <tr>\n",
       "      <th>482</th>\n",
       "      <td>25.0</td>\n",
       "      <td>0.0</td>\n",
       "      <td>1.0</td>\n",
       "      <td>0.0</td>\n",
       "      <td>0.0</td>\n",
       "      <td>0.0</td>\n",
       "      <td>0.0</td>\n",
       "      <td>0.0</td>\n",
       "      <td>0.0</td>\n",
       "      <td>0.0</td>\n",
       "      <td>...</td>\n",
       "      <td>0.0</td>\n",
       "      <td>0.0</td>\n",
       "      <td>0.0</td>\n",
       "      <td>0.0</td>\n",
       "      <td>0.0</td>\n",
       "      <td>0.0</td>\n",
       "      <td>1.0</td>\n",
       "      <td>0.0</td>\n",
       "      <td>0.0</td>\n",
       "      <td>0.0</td>\n",
       "    </tr>\n",
       "    <tr>\n",
       "      <th>1199</th>\n",
       "      <td>35.0</td>\n",
       "      <td>1.0</td>\n",
       "      <td>0.0</td>\n",
       "      <td>0.0</td>\n",
       "      <td>0.0</td>\n",
       "      <td>0.0</td>\n",
       "      <td>0.0</td>\n",
       "      <td>0.0</td>\n",
       "      <td>0.0</td>\n",
       "      <td>0.0</td>\n",
       "      <td>...</td>\n",
       "      <td>0.0</td>\n",
       "      <td>0.0</td>\n",
       "      <td>0.0</td>\n",
       "      <td>0.0</td>\n",
       "      <td>0.0</td>\n",
       "      <td>0.0</td>\n",
       "      <td>0.0</td>\n",
       "      <td>1.0</td>\n",
       "      <td>0.0</td>\n",
       "      <td>0.0</td>\n",
       "    </tr>\n",
       "    <tr>\n",
       "      <th>438</th>\n",
       "      <td>30.0</td>\n",
       "      <td>1.0</td>\n",
       "      <td>0.0</td>\n",
       "      <td>0.0</td>\n",
       "      <td>0.0</td>\n",
       "      <td>0.0</td>\n",
       "      <td>0.0</td>\n",
       "      <td>0.0</td>\n",
       "      <td>0.0</td>\n",
       "      <td>0.0</td>\n",
       "      <td>...</td>\n",
       "      <td>0.0</td>\n",
       "      <td>0.0</td>\n",
       "      <td>0.0</td>\n",
       "      <td>0.0</td>\n",
       "      <td>0.0</td>\n",
       "      <td>0.0</td>\n",
       "      <td>1.0</td>\n",
       "      <td>0.0</td>\n",
       "      <td>0.0</td>\n",
       "      <td>0.0</td>\n",
       "    </tr>\n",
       "    <tr>\n",
       "      <th>...</th>\n",
       "      <td>...</td>\n",
       "      <td>...</td>\n",
       "      <td>...</td>\n",
       "      <td>...</td>\n",
       "      <td>...</td>\n",
       "      <td>...</td>\n",
       "      <td>...</td>\n",
       "      <td>...</td>\n",
       "      <td>...</td>\n",
       "      <td>...</td>\n",
       "      <td>...</td>\n",
       "      <td>...</td>\n",
       "      <td>...</td>\n",
       "      <td>...</td>\n",
       "      <td>...</td>\n",
       "      <td>...</td>\n",
       "      <td>...</td>\n",
       "      <td>...</td>\n",
       "      <td>...</td>\n",
       "      <td>...</td>\n",
       "      <td>...</td>\n",
       "    </tr>\n",
       "    <tr>\n",
       "      <th>1638</th>\n",
       "      <td>62.0</td>\n",
       "      <td>0.0</td>\n",
       "      <td>0.0</td>\n",
       "      <td>0.0</td>\n",
       "      <td>1.0</td>\n",
       "      <td>0.0</td>\n",
       "      <td>0.0</td>\n",
       "      <td>0.0</td>\n",
       "      <td>0.0</td>\n",
       "      <td>0.0</td>\n",
       "      <td>...</td>\n",
       "      <td>1.0</td>\n",
       "      <td>0.0</td>\n",
       "      <td>0.0</td>\n",
       "      <td>0.0</td>\n",
       "      <td>0.0</td>\n",
       "      <td>0.0</td>\n",
       "      <td>0.0</td>\n",
       "      <td>0.0</td>\n",
       "      <td>1.0</td>\n",
       "      <td>0.0</td>\n",
       "    </tr>\n",
       "    <tr>\n",
       "      <th>1095</th>\n",
       "      <td>50.0</td>\n",
       "      <td>1.0</td>\n",
       "      <td>0.0</td>\n",
       "      <td>0.0</td>\n",
       "      <td>0.0</td>\n",
       "      <td>0.0</td>\n",
       "      <td>0.0</td>\n",
       "      <td>0.0</td>\n",
       "      <td>0.0</td>\n",
       "      <td>0.0</td>\n",
       "      <td>...</td>\n",
       "      <td>0.0</td>\n",
       "      <td>0.0</td>\n",
       "      <td>0.0</td>\n",
       "      <td>0.0</td>\n",
       "      <td>0.0</td>\n",
       "      <td>0.0</td>\n",
       "      <td>0.0</td>\n",
       "      <td>1.0</td>\n",
       "      <td>0.0</td>\n",
       "      <td>0.0</td>\n",
       "    </tr>\n",
       "    <tr>\n",
       "      <th>1130</th>\n",
       "      <td>34.0</td>\n",
       "      <td>0.0</td>\n",
       "      <td>0.0</td>\n",
       "      <td>0.0</td>\n",
       "      <td>1.0</td>\n",
       "      <td>0.0</td>\n",
       "      <td>0.0</td>\n",
       "      <td>0.0</td>\n",
       "      <td>0.0</td>\n",
       "      <td>0.0</td>\n",
       "      <td>...</td>\n",
       "      <td>0.0</td>\n",
       "      <td>0.0</td>\n",
       "      <td>0.0</td>\n",
       "      <td>0.0</td>\n",
       "      <td>0.0</td>\n",
       "      <td>0.0</td>\n",
       "      <td>0.0</td>\n",
       "      <td>1.0</td>\n",
       "      <td>0.0</td>\n",
       "      <td>0.0</td>\n",
       "    </tr>\n",
       "    <tr>\n",
       "      <th>1294</th>\n",
       "      <td>60.0</td>\n",
       "      <td>0.0</td>\n",
       "      <td>1.0</td>\n",
       "      <td>0.0</td>\n",
       "      <td>0.0</td>\n",
       "      <td>0.0</td>\n",
       "      <td>0.0</td>\n",
       "      <td>0.0</td>\n",
       "      <td>0.0</td>\n",
       "      <td>0.0</td>\n",
       "      <td>...</td>\n",
       "      <td>0.0</td>\n",
       "      <td>0.0</td>\n",
       "      <td>0.0</td>\n",
       "      <td>0.0</td>\n",
       "      <td>0.0</td>\n",
       "      <td>0.0</td>\n",
       "      <td>0.0</td>\n",
       "      <td>1.0</td>\n",
       "      <td>0.0</td>\n",
       "      <td>0.0</td>\n",
       "    </tr>\n",
       "    <tr>\n",
       "      <th>860</th>\n",
       "      <td>27.0</td>\n",
       "      <td>0.0</td>\n",
       "      <td>0.0</td>\n",
       "      <td>0.0</td>\n",
       "      <td>1.0</td>\n",
       "      <td>0.0</td>\n",
       "      <td>0.0</td>\n",
       "      <td>0.0</td>\n",
       "      <td>0.0</td>\n",
       "      <td>0.0</td>\n",
       "      <td>...</td>\n",
       "      <td>0.0</td>\n",
       "      <td>0.0</td>\n",
       "      <td>0.0</td>\n",
       "      <td>0.0</td>\n",
       "      <td>0.0</td>\n",
       "      <td>0.0</td>\n",
       "      <td>0.0</td>\n",
       "      <td>1.0</td>\n",
       "      <td>0.0</td>\n",
       "      <td>0.0</td>\n",
       "    </tr>\n",
       "  </tbody>\n",
       "</table>\n",
       "<p>2087 rows × 68 columns</p>\n",
       "</div>"
      ],
      "text/plain": [
       "      price_per_unit  region_Midwest  region_Northeast  region_South  \\\n",
       "1208            51.0             0.0               0.0           0.0   \n",
       "2357            55.0             0.0               1.0           0.0   \n",
       "482             25.0             0.0               1.0           0.0   \n",
       "1199            35.0             1.0               0.0           0.0   \n",
       "438             30.0             1.0               0.0           0.0   \n",
       "...              ...             ...               ...           ...   \n",
       "1638            62.0             0.0               0.0           0.0   \n",
       "1095            50.0             1.0               0.0           0.0   \n",
       "1130            34.0             0.0               0.0           0.0   \n",
       "1294            60.0             0.0               1.0           0.0   \n",
       "860             27.0             0.0               0.0           0.0   \n",
       "\n",
       "      region_Southeast  region_West  state_Alaska  state_Arizona  \\\n",
       "1208               1.0          0.0           0.0            0.0   \n",
       "2357               0.0          0.0           0.0            0.0   \n",
       "482                0.0          0.0           0.0            0.0   \n",
       "1199               0.0          0.0           0.0            0.0   \n",
       "438                0.0          0.0           0.0            0.0   \n",
       "...                ...          ...           ...            ...   \n",
       "1638               1.0          0.0           0.0            0.0   \n",
       "1095               0.0          0.0           0.0            0.0   \n",
       "1130               1.0          0.0           0.0            0.0   \n",
       "1294               0.0          0.0           0.0            0.0   \n",
       "860                1.0          0.0           0.0            0.0   \n",
       "\n",
       "      state_California  state_Connecticut  ...  month_7  month_8  month_9  \\\n",
       "1208               0.0                0.0  ...      0.0      0.0      0.0   \n",
       "2357               0.0                0.0  ...      0.0      0.0      0.0   \n",
       "482                0.0                0.0  ...      0.0      0.0      0.0   \n",
       "1199               0.0                0.0  ...      0.0      0.0      0.0   \n",
       "438                0.0                0.0  ...      0.0      0.0      0.0   \n",
       "...                ...                ...  ...      ...      ...      ...   \n",
       "1638               0.0                0.0  ...      1.0      0.0      0.0   \n",
       "1095               0.0                0.0  ...      0.0      0.0      0.0   \n",
       "1130               0.0                0.0  ...      0.0      0.0      0.0   \n",
       "1294               0.0                0.0  ...      0.0      0.0      0.0   \n",
       "860                0.0                0.0  ...      0.0      0.0      0.0   \n",
       "\n",
       "      month_10  month_11  month_12  quarter_1  quarter_2  quarter_3  quarter_4  \n",
       "1208       0.0       0.0       0.0        0.0        1.0        0.0        0.0  \n",
       "2357       0.0       1.0       0.0        0.0        0.0        0.0        1.0  \n",
       "482        0.0       0.0       0.0        1.0        0.0        0.0        0.0  \n",
       "1199       0.0       0.0       0.0        0.0        1.0        0.0        0.0  \n",
       "438        0.0       0.0       0.0        1.0        0.0        0.0        0.0  \n",
       "...        ...       ...       ...        ...        ...        ...        ...  \n",
       "1638       0.0       0.0       0.0        0.0        0.0        1.0        0.0  \n",
       "1095       0.0       0.0       0.0        0.0        1.0        0.0        0.0  \n",
       "1130       0.0       0.0       0.0        0.0        1.0        0.0        0.0  \n",
       "1294       0.0       0.0       0.0        0.0        1.0        0.0        0.0  \n",
       "860        0.0       0.0       0.0        0.0        1.0        0.0        0.0  \n",
       "\n",
       "[2087 rows x 68 columns]"
      ]
     },
     "execution_count": 70,
     "metadata": {},
     "output_type": "execute_result"
    }
   ],
   "source": [
    "X_train_df_mask"
   ]
  },
  {
   "cell_type": "code",
   "execution_count": 72,
   "metadata": {},
   "outputs": [
    {
     "data": {
      "text/html": [
       "<div>\n",
       "<style scoped>\n",
       "    .dataframe tbody tr th:only-of-type {\n",
       "        vertical-align: middle;\n",
       "    }\n",
       "\n",
       "    .dataframe tbody tr th {\n",
       "        vertical-align: top;\n",
       "    }\n",
       "\n",
       "    .dataframe thead th {\n",
       "        text-align: right;\n",
       "    }\n",
       "</style>\n",
       "<table border=\"1\" class=\"dataframe\">\n",
       "  <thead>\n",
       "    <tr style=\"text-align: right;\">\n",
       "      <th></th>\n",
       "      <th>region</th>\n",
       "      <th>state</th>\n",
       "      <th>product</th>\n",
       "      <th>price_per_unit</th>\n",
       "      <th>month</th>\n",
       "      <th>day_of_week</th>\n",
       "      <th>quarter</th>\n",
       "    </tr>\n",
       "  </thead>\n",
       "  <tbody>\n",
       "    <tr>\n",
       "      <th>1208</th>\n",
       "      <td>Southeast</td>\n",
       "      <td>South Carolina</td>\n",
       "      <td>Men's Street Footwear</td>\n",
       "      <td>51.0</td>\n",
       "      <td>6</td>\n",
       "      <td>0</td>\n",
       "      <td>2</td>\n",
       "    </tr>\n",
       "    <tr>\n",
       "      <th>2357</th>\n",
       "      <td>Northeast</td>\n",
       "      <td>Pennsylvania</td>\n",
       "      <td>Men's Athletic Footwear</td>\n",
       "      <td>55.0</td>\n",
       "      <td>11</td>\n",
       "      <td>6</td>\n",
       "      <td>4</td>\n",
       "    </tr>\n",
       "    <tr>\n",
       "      <th>482</th>\n",
       "      <td>Northeast</td>\n",
       "      <td>West Virginia</td>\n",
       "      <td>Women's Street Footwear</td>\n",
       "      <td>25.0</td>\n",
       "      <td>1</td>\n",
       "      <td>6</td>\n",
       "      <td>1</td>\n",
       "    </tr>\n",
       "    <tr>\n",
       "      <th>1199</th>\n",
       "      <td>Midwest</td>\n",
       "      <td>Iowa</td>\n",
       "      <td>Men's Apparel</td>\n",
       "      <td>35.0</td>\n",
       "      <td>6</td>\n",
       "      <td>6</td>\n",
       "      <td>2</td>\n",
       "    </tr>\n",
       "    <tr>\n",
       "      <th>438</th>\n",
       "      <td>Midwest</td>\n",
       "      <td>Michigan</td>\n",
       "      <td>Men's Street Footwear</td>\n",
       "      <td>30.0</td>\n",
       "      <td>1</td>\n",
       "      <td>0</td>\n",
       "      <td>1</td>\n",
       "    </tr>\n",
       "    <tr>\n",
       "      <th>...</th>\n",
       "      <td>...</td>\n",
       "      <td>...</td>\n",
       "      <td>...</td>\n",
       "      <td>...</td>\n",
       "      <td>...</td>\n",
       "      <td>...</td>\n",
       "      <td>...</td>\n",
       "    </tr>\n",
       "    <tr>\n",
       "      <th>1638</th>\n",
       "      <td>Southeast</td>\n",
       "      <td>Virginia</td>\n",
       "      <td>Women's Street Footwear</td>\n",
       "      <td>62.0</td>\n",
       "      <td>7</td>\n",
       "      <td>4</td>\n",
       "      <td>3</td>\n",
       "    </tr>\n",
       "    <tr>\n",
       "      <th>1095</th>\n",
       "      <td>Midwest</td>\n",
       "      <td>Missouri</td>\n",
       "      <td>Women's Apparel</td>\n",
       "      <td>50.0</td>\n",
       "      <td>5</td>\n",
       "      <td>2</td>\n",
       "      <td>2</td>\n",
       "    </tr>\n",
       "    <tr>\n",
       "      <th>1130</th>\n",
       "      <td>Southeast</td>\n",
       "      <td>Virginia</td>\n",
       "      <td>Men's Apparel</td>\n",
       "      <td>34.0</td>\n",
       "      <td>5</td>\n",
       "      <td>1</td>\n",
       "      <td>2</td>\n",
       "    </tr>\n",
       "    <tr>\n",
       "      <th>1294</th>\n",
       "      <td>Northeast</td>\n",
       "      <td>Delaware</td>\n",
       "      <td>Women's Apparel</td>\n",
       "      <td>60.0</td>\n",
       "      <td>6</td>\n",
       "      <td>1</td>\n",
       "      <td>2</td>\n",
       "    </tr>\n",
       "    <tr>\n",
       "      <th>860</th>\n",
       "      <td>Southeast</td>\n",
       "      <td>South Carolina</td>\n",
       "      <td>Women's Athletic Footwear</td>\n",
       "      <td>27.0</td>\n",
       "      <td>4</td>\n",
       "      <td>1</td>\n",
       "      <td>2</td>\n",
       "    </tr>\n",
       "  </tbody>\n",
       "</table>\n",
       "<p>2087 rows × 7 columns</p>\n",
       "</div>"
      ],
      "text/plain": [
       "         region           state                    product  price_per_unit  \\\n",
       "1208  Southeast  South Carolina      Men's Street Footwear            51.0   \n",
       "2357  Northeast    Pennsylvania    Men's Athletic Footwear            55.0   \n",
       "482   Northeast   West Virginia    Women's Street Footwear            25.0   \n",
       "1199    Midwest            Iowa              Men's Apparel            35.0   \n",
       "438     Midwest        Michigan      Men's Street Footwear            30.0   \n",
       "...         ...             ...                        ...             ...   \n",
       "1638  Southeast        Virginia    Women's Street Footwear            62.0   \n",
       "1095    Midwest        Missouri            Women's Apparel            50.0   \n",
       "1130  Southeast        Virginia              Men's Apparel            34.0   \n",
       "1294  Northeast        Delaware            Women's Apparel            60.0   \n",
       "860   Southeast  South Carolina  Women's Athletic Footwear            27.0   \n",
       "\n",
       "      month  day_of_week  quarter  \n",
       "1208      6            0        2  \n",
       "2357     11            6        4  \n",
       "482       1            6        1  \n",
       "1199      6            6        2  \n",
       "438       1            0        1  \n",
       "...     ...          ...      ...  \n",
       "1638      7            4        3  \n",
       "1095      5            2        2  \n",
       "1130      5            1        2  \n",
       "1294      6            1        2  \n",
       "860       4            1        2  \n",
       "\n",
       "[2087 rows x 7 columns]"
      ]
     },
     "execution_count": 72,
     "metadata": {},
     "output_type": "execute_result"
    }
   ],
   "source": [
    "X_train_filtered_footlocker"
   ]
  },
  {
   "cell_type": "code",
   "execution_count": 71,
   "metadata": {},
   "outputs": [],
   "source": [
    "from scipy.stats import boxcox\n",
    "y_train_boxcox, lambda_val = boxcox(y_train_filtered_footlocker)"
   ]
  },
  {
   "cell_type": "code",
   "execution_count": 73,
   "metadata": {},
   "outputs": [
    {
     "name": "stdout",
     "output_type": "stream",
     "text": [
      "Lambda óptima: 0.023713566120703498\n"
     ]
    }
   ],
   "source": [
    "# lambda_val es el parámetro óptimo calculado para la transformación.\n",
    "print(f\"Lambda óptima: {lambda_val}\")"
   ]
  },
  {
   "cell_type": "code",
   "execution_count": 74,
   "metadata": {},
   "outputs": [
    {
     "data": {
      "text/plain": [
       "<Axes: ylabel='Count'>"
      ]
     },
     "execution_count": 74,
     "metadata": {},
     "output_type": "execute_result"
    },
    {
     "data": {
      "image/png": "[encoded data removed]",
      "text/plain": [
       "<Figure size 640x480 with 1 Axes>"
      ]
     },
     "metadata": {},
     "output_type": "display_data"
    }
   ],
   "source": [
    "sns.histplot(y_train_boxcox)"
   ]
  },
  {
   "cell_type": "markdown",
   "metadata": {},
   "source": [
    "Nuestro modelo puede verse afectado por esta distribución asimetrica, debemos hacer una transformación logaritmica."
   ]
  },
  {
   "cell_type": "code",
   "execution_count": 62,
   "metadata": {},
   "outputs": [],
   "source": [
    "y_train_log = np.log1p(y_train)\n",
    "y_test_log = np.log1p(y_test)"
   ]
  },
  {
   "cell_type": "code",
   "execution_count": 63,
   "metadata": {},
   "outputs": [
    {
     "data": {
      "text/plain": [
       "<Axes: xlabel='total_sales', ylabel='Count'>"
      ]
     },
     "execution_count": 63,
     "metadata": {},
     "output_type": "execute_result"
    },
    {
     "data": {
      "image/png": "[encoded data removed]",
      "text/plain": [
       "<Figure size 640x480 with 1 Axes>"
      ]
     },
     "metadata": {},
     "output_type": "display_data"
    }
   ],
   "source": [
    "sns.histplot(y_train_log, kde = True)"
   ]
  },
  {
   "cell_type": "markdown",
   "metadata": {},
   "source": []
  },
  {
   "cell_type": "code",
   "execution_count": 75,
   "metadata": {},
   "outputs": [],
   "source": [
    "def rmse_in_original(y_true_log, y_pred_log):\n",
    "    y_true = np.expm1(y_true_log)\n",
    "    y_pred = np.expm1(y_pred_log)\n",
    "    return np.sqrt(mean_squared_error(y_true, y_pred))\n",
    "\n",
    "rmse_scorer = make_scorer(rmse_in_original, greater_is_better=False)"
   ]
  },
  {
   "cell_type": "code",
   "execution_count": 78,
   "metadata": {},
   "outputs": [],
   "source": [
    "from scipy.special import inv_boxcox\n",
    "def rmse_boxcox_inverse(y_true_boxcox, y_pred_boxcox):\n",
    "    y_true_original = inv_boxcox(y_true_boxcox, lambda_val)\n",
    "    y_pred_original = inv_boxcox(y_pred_boxcox, lambda_val)\n",
    "    \n",
    "    return np.sqrt(mean_squared_error(y_true_original, y_pred_original))\n",
    "\n",
    "scorer = make_scorer(rmse_boxcox_inverse, greater_is_better=False)"
   ]
  },
  {
   "cell_type": "code",
   "execution_count": 95,
   "metadata": {},
   "outputs": [
    {
     "name": "stdout",
     "output_type": "stream",
     "text": [
      "RMSE: 5623.776791988093\n",
      "MAE: 3158.4681757748936\n",
      "R2: 0.7598955196866682\n"
     ]
    }
   ],
   "source": [
    "# Probamos CATBOOST\n",
    "from catboost import CatBoostRegressor\n",
    "from scipy.special import inv_boxcox\n",
    "from sklearn.metrics import mean_absolute_error, r2_score\n",
    "\n",
    "cat_model = CatBoostRegressor(verbose=0, random_state=42)\n",
    "cat_model.fit(X_train_filtered_footlocker, y_train_boxcox, cat_features=categorical_features)\n",
    "y_pred_boxcox_cat = cat_model.predict(X_test)\n",
    "y_pred = inv_boxcox(y_pred_boxcox_cat, lambda_val)\n",
    "\n",
    "mse = mean_squared_error(y_test, y_pred)\n",
    "rmse = np.sqrt(mse)\n",
    "mae = mean_absolute_error(y_test, y_pred)\n",
    "r2 = r2_score(y_test, y_pred)\n",
    "\n",
    "print(f\"RMSE: {rmse}\")\n",
    "print(f\"MAE: {mae}\")\n",
    "print(f\"R2: {r2}\")"
   ]
  },
  {
   "cell_type": "code",
   "execution_count": 77,
   "metadata": {},
   "outputs": [
    {
     "data": {
      "text/html": [
       "<div>\n",
       "<style scoped>\n",
       "    .dataframe tbody tr th:only-of-type {\n",
       "        vertical-align: middle;\n",
       "    }\n",
       "\n",
       "    .dataframe tbody tr th {\n",
       "        vertical-align: top;\n",
       "    }\n",
       "\n",
       "    .dataframe thead th {\n",
       "        text-align: right;\n",
       "    }\n",
       "</style>\n",
       "<table border=\"1\" class=\"dataframe\">\n",
       "  <thead>\n",
       "    <tr style=\"text-align: right;\">\n",
       "      <th></th>\n",
       "      <th>Feature Id</th>\n",
       "      <th>Importances</th>\n",
       "    </tr>\n",
       "  </thead>\n",
       "  <tbody>\n",
       "    <tr>\n",
       "      <th>0</th>\n",
       "      <td>price_per_unit</td>\n",
       "      <td>54.749332</td>\n",
       "    </tr>\n",
       "    <tr>\n",
       "      <th>1</th>\n",
       "      <td>state</td>\n",
       "      <td>16.830573</td>\n",
       "    </tr>\n",
       "    <tr>\n",
       "      <th>2</th>\n",
       "      <td>product</td>\n",
       "      <td>12.607398</td>\n",
       "    </tr>\n",
       "    <tr>\n",
       "      <th>3</th>\n",
       "      <td>region</td>\n",
       "      <td>6.220854</td>\n",
       "    </tr>\n",
       "    <tr>\n",
       "      <th>4</th>\n",
       "      <td>quarter</td>\n",
       "      <td>3.552559</td>\n",
       "    </tr>\n",
       "    <tr>\n",
       "      <th>5</th>\n",
       "      <td>month</td>\n",
       "      <td>3.307568</td>\n",
       "    </tr>\n",
       "    <tr>\n",
       "      <th>6</th>\n",
       "      <td>day_of_week</td>\n",
       "      <td>2.731715</td>\n",
       "    </tr>\n",
       "  </tbody>\n",
       "</table>\n",
       "</div>"
      ],
      "text/plain": [
       "       Feature Id  Importances\n",
       "0  price_per_unit    54.749332\n",
       "1           state    16.830573\n",
       "2         product    12.607398\n",
       "3          region     6.220854\n",
       "4         quarter     3.552559\n",
       "5           month     3.307568\n",
       "6     day_of_week     2.731715"
      ]
     },
     "execution_count": 77,
     "metadata": {},
     "output_type": "execute_result"
    }
   ],
   "source": [
    "cat_model.get_feature_importance(prettified=True)"
   ]
  },
  {
   "cell_type": "code",
   "execution_count": 79,
   "metadata": {},
   "outputs": [
    {
     "name": "stdout",
     "output_type": "stream",
     "text": [
      "Mejores hiperparametros: {'depth': 3, 'iterations': 300, 'l2_leaf_reg': 1, 'learning_rate': 0.5}\n",
      "Mejor score RMSE: -5925.433418248437\n"
     ]
    }
   ],
   "source": [
    "param_grid = {\n",
    "    \"depth\": [3, 5, 7],\n",
    "    \"learning_rate\": [0.01, 0.1, 0.5],\n",
    "    \"iterations\": [300, 500, 700],\n",
    "    \"l2_leaf_reg\": [1, 3, 5]\n",
    "}\n",
    "\n",
    "grid_cat = GridSearchCV(\n",
    "    estimator=CatBoostRegressor(verbose=0, random_state=42),\n",
    "    param_grid=param_grid,\n",
    "    cv=3,\n",
    "    scoring=scorer,\n",
    "    n_jobs=-1\n",
    ")\n",
    "\n",
    "grid_cat.fit(X_train_filtered_footlocker, y_train_boxcox, cat_features=categorical_features)\n",
    "\n",
    "best_model_cat = grid_cat.best_estimator_\n",
    "\n",
    "print(f\"Mejores hiperparametros: {grid_cat.best_params_}\")\n",
    "print(f\"Mejor score RMSE: {grid_cat.best_score_}\")"
   ]
  },
  {
   "cell_type": "code",
   "execution_count": 90,
   "metadata": {},
   "outputs": [
    {
     "name": "stdout",
     "output_type": "stream",
     "text": [
      "CATBOOST - GridSearchCV\n",
      "RMSE: 5277.708977459247\n",
      "MAE: 2891.57413656112\n",
      "R2: 0.7885367069070062\n"
     ]
    }
   ],
   "source": [
    "# predecimos catboost gridsearch\n",
    "print(f\"CATBOOST - GridSearchCV\")\n",
    "y_pred_boxcox_cat = best_model_cat.predict(X_test)\n",
    "y_pred = inv_boxcox(y_pred_boxcox_cat, lambda_val)\n",
    "\n",
    "mse_grid_cat = mean_squared_error(y_test, y_pred)\n",
    "rmse_grid_cat = np.sqrt(mse)\n",
    "mae_grid_cat = mean_absolute_error(y_test, y_pred)\n",
    "r2_grid_cat = r2_score(y_test, y_pred)\n",
    "print(f\"RMSE: {rmse_grid_cat}\")\n",
    "print(f\"MAE: {mae_grid_cat}\")\n",
    "print(f\"R2: {r2_grid_cat}\")"
   ]
  },
  {
   "cell_type": "code",
   "execution_count": null,
   "metadata": {},
   "outputs": [],
   "source": []
  },
  {
   "cell_type": "code",
   "execution_count": 248,
   "metadata": {},
   "outputs": [
    {
     "name": "stdout",
     "output_type": "stream",
     "text": [
      "RMSE: 8344.547114980116\n",
      "MAE: 5388.341517280516\n",
      "R2: 0.39531735808729196\n"
     ]
    }
   ],
   "source": [
    "from sklearn.linear_model import LinearRegression\n",
    "\n",
    "# Entrenar el modelo de regresión lineal\n",
    "baseline_model = LinearRegression()\n",
    "baseline_model.fit(X_train_df, y_train_log)\n",
    "\n",
    "# Predecir en el conjunto de prueba\n",
    "y_pred_log_baseline = baseline_model.predict(X_test_df)\n",
    "\n",
    "y_pred = np.expm1(y_pred_log_baseline)\n",
    "y_test = np.expm1(y_test_log)\n",
    "\n",
    "# Evaluar el modelo\n",
    "mse_baseline = mean_squared_error(y_test, y_pred)\n",
    "rmse_baseline = np.sqrt(mse_baseline)\n",
    "mae_baseline = mean_absolute_error(y_test, y_pred)\n",
    "r2_baseline = r2_score(y_test, y_pred)\n",
    "\n",
    "print(f\"RMSE: {rmse_baseline}\")\n",
    "print(f\"MAE: {mae_baseline}\")\n",
    "print(f\"R2: {r2_baseline}\")"
   ]
  },
  {
   "cell_type": "code",
   "execution_count": 80,
   "metadata": {},
   "outputs": [
    {
     "name": "stdout",
     "output_type": "stream",
     "text": [
      "Random Forest - RMSE: 6467.60200133708\n",
      "Random Forest - MAE: 3497.1253985370267\n",
      "Random Forest - R2: 0.6824364215359836\n"
     ]
    }
   ],
   "source": [
    "# rf\n",
    "\n",
    "from sklearn.ensemble import RandomForestRegressor\n",
    "\n",
    "# Entrenar el modelo Random Forest\n",
    "rf_model = RandomForestRegressor(random_state=42)\n",
    "rf_model.fit(X_train_df_mask, y_train_boxcox)\n",
    "\n",
    "# Predecir en el conjunto de prueba\n",
    "y_pred_log_rf = rf_model.predict(X_test_df)\n",
    "y_pred_rf = inv_boxcox(y_pred_log_rf, lambda_val)\n",
    "\n",
    "# Evaluar el modelo\n",
    "mse_rf = mean_squared_error(y_test, y_pred_rf)\n",
    "rmse_rf = np.sqrt(mse_rf)\n",
    "mae_rf = mean_absolute_error(y_test, y_pred_rf)\n",
    "r2_rf = r2_score(y_test, y_pred_rf)\n",
    "\n",
    "print(f\"Random Forest - RMSE: {rmse_rf}\")\n",
    "print(f\"Random Forest - MAE: {mae_rf}\")\n",
    "print(f\"Random Forest - R2: {r2_rf}\")"
   ]
  },
  {
   "cell_type": "code",
   "execution_count": 82,
   "metadata": {},
   "outputs": [
    {
     "name": "stdout",
     "output_type": "stream",
     "text": [
      "XGBoost - RMSE: 5524.5240355447195\n",
      "XGBoost - MAE: 2828.995783700689\n",
      "XGBoost - R2: 0.7682958307779619\n"
     ]
    }
   ],
   "source": [
    "# xgboost\n",
    "\n",
    "xgb_model = XGBRegressor(random_state=42)\n",
    "xgb_model.fit(X_train_df_mask, y_train_boxcox)\n",
    "\n",
    "y_pred_log_xgb = xgb_model.predict(X_test_df)\n",
    "y_pred_xgb = inv_boxcox(y_pred_log_xgb, lambda_val)\n",
    "\n",
    "mse_xgb = mean_squared_error(y_test, y_pred_xgb)\n",
    "rmse_xgb = np.sqrt(mse_xgb)\n",
    "mae_xgb = mean_absolute_error(y_test, y_pred_xgb)\n",
    "r2_xgb = r2_score(y_test, y_pred_xgb)\n",
    "\n",
    "print(f\"XGBoost - RMSE: {rmse_xgb}\")\n",
    "print(f\"XGBoost - MAE: {mae_xgb}\")\n",
    "print(f\"XGBoost - R2: {r2_xgb}\")\n",
    "\n",
    "\n"
   ]
  },
  {
   "cell_type": "code",
   "execution_count": null,
   "metadata": {},
   "outputs": [
    {
     "name": "stdout",
     "output_type": "stream",
     "text": [
      "Neural Network - MSE: 82100964.8826125, R2: 0.5161093576590075\n"
     ]
    },
    {
     "name": "stderr",
     "output_type": "stream",
     "text": [
      "c:\\Users\\Usuario\\AppData\\Local\\Programs\\Python\\Python312\\Lib\\site-packages\\sklearn\\neural_network\\_multilayer_perceptron.py:690: ConvergenceWarning: Stochastic Optimizer: Maximum iterations (500) reached and the optimization hasn't converged yet.\n",
      "  warnings.warn(\n"
     ]
    }
   ],
   "source": [
    "from sklearn.neural_network import MLPRegressor\n",
    "\n",
    "# Entrenar el modelo de red neuronal\n",
    "nn_model = MLPRegressor(hidden_layer_sizes=(100, 50), max_iter=500, random_state=42)\n",
    "nn_model.fit(X_train_preprocessed, y_train)\n",
    "\n",
    "# Predecir en el conjunto de prueba\n",
    "y_pred_nn = nn_model.predict(X_test_preprocessed)\n",
    "\n",
    "# Evaluar el modelo\n",
    "mse_nn = mean_squared_error(y_test, y_pred_nn)\n",
    "r2_nn = r2_score(y_test, y_pred_nn)\n",
    "\n",
    "print(f\"Neural Network - MSE: {mse_nn}, R2: {r2_nn}\")"
   ]
  },
  {
   "cell_type": "code",
   "execution_count": 86,
   "metadata": {},
   "outputs": [],
   "source": [
    "def rmse_in_original(y_true_log, y_pred_log):\n",
    "    y_true = np.expm1(y_true_log)\n",
    "    y_pred = np.expm1(y_pred_log)\n",
    "    return np.sqrt(mean_squared_error(y_true, y_pred))\n",
    "\n",
    "rmse_scorer = make_scorer(rmse_in_original, greater_is_better=False)"
   ]
  },
  {
   "cell_type": "code",
   "execution_count": 87,
   "metadata": {},
   "outputs": [
    {
     "name": "stdout",
     "output_type": "stream",
     "text": [
      "Mejores hiperparámetros: {'learning_rate': 0.3, 'max_depth': 4, 'n_estimators': 200}\n",
      "XGBoost (GridSearch)\n",
      "RMSE: 4923.943468976393\n",
      "MAE: 2599.2994286134667\n",
      "R2: 0.8159354175027943\n"
     ]
    }
   ],
   "source": [
    "from sklearn.model_selection import GridSearchCV\n",
    "\n",
    "# Definir la cuadrícula de hiperparámetros para XGBoost\n",
    "param_grid = {\n",
    "    'n_estimators': [100, 200, 300],\n",
    "    'learning_rate': [0.01, 0.2, 0.3],\n",
    "    'max_depth': [4, 5, 6]\n",
    "}\n",
    "\n",
    "# Búsqueda de hiperparámetros\n",
    "grid_search = GridSearchCV(XGBRegressor(random_state=42), param_grid, cv=3, scoring=scorer)\n",
    "grid_search.fit(X_train_df_mask, y_train_boxcox)\n",
    "\n",
    "best_model_xgb = grid_search.best_estimator_\n",
    "\n",
    "# Mejores hiperparámetros\n",
    "print(f\"Mejores hiperparámetros: {grid_search.best_params_}\")\n",
    "\n",
    "# Predecir con el mejor modelo\n",
    "y_pred_log_grid_xgb = grid_search.predict(X_test_df)\n",
    "y_pred_grid_xgb = inv_boxcox(y_pred_log_grid_xgb, lambda_val)\n",
    "\n",
    "# Evaluar el modelo\n",
    "mse_grid_xgb = mean_squared_error(y_test, y_pred_grid_xgb)\n",
    "rmse_grid_xgb = np.sqrt(mse_grid_xgb)\n",
    "mae_grid_xgb = mean_absolute_error(y_test, y_pred_grid_xgb)\n",
    "r2_grid = r2_score(y_test, y_pred_grid_xgb)\n",
    "\n",
    "print(f\"XGBoost (GridSearch)\")\n",
    "print(f\"RMSE: {rmse_grid_xgb}\")\n",
    "print(f\"MAE: {mae_grid_xgb}\")\n",
    "print(f\"R2: {r2_grid}\")"
   ]
  },
  {
   "cell_type": "code",
   "execution_count": 92,
   "metadata": {},
   "outputs": [
    {
     "name": "stdout",
     "output_type": "stream",
     "text": [
      "Mejores hiperparámetros: {'max_depth': None, 'min_samples_leaf': 2, 'min_samples_split': 2, 'n_estimators': 200}\n",
      "Random Forest (GridSearch)\n",
      "RMSE: 6434.625552969585\n",
      "MAE: 3542.950772785758\n",
      "R2: 0.6856664971591759\n"
     ]
    }
   ],
   "source": [
    "# RF Hiperparametros\n",
    "\n",
    "param_grid = {\n",
    "    'n_estimators': [100, 200],\n",
    "    'max_depth': [None, 10, 20],\n",
    "    'min_samples_split': [2, 5],\n",
    "    'min_samples_leaf': [1, 2]\n",
    "}\n",
    "\n",
    "model = RandomForestRegressor(random_state=42)\n",
    "\n",
    "grid_search = GridSearchCV(\n",
    "    estimator=RandomForestRegressor(random_state=42),\n",
    "    param_grid=param_grid,\n",
    "    scoring=rmse_scorer,\n",
    "    cv=3,\n",
    "    n_jobs=-1\n",
    ")\n",
    "\n",
    "grid_search.fit(X_train_df_mask, y_train_boxcox)\n",
    "best_model_rf = grid_search.best_estimator_\n",
    "\n",
    "# Mejores hiperparámetros\n",
    "best_params = grid_search.best_params_\n",
    "print(f\"Mejores hiperparámetros: {best_params}\")\n",
    "\n",
    "# Predecir en el conjunto de prueba (en escala logarítmica)\n",
    "y_pred_log_grid_rf = grid_search.predict(X_test_df)\n",
    "y_pred_grid_rf = inv_boxcox(y_pred_log_grid_rf, lambda_val)\n",
    "\n",
    "# Evaluar el modelo\n",
    "mse_grid_rf = mean_squared_error(y_test, y_pred_grid_rf)\n",
    "rmse_grid_rf = np.sqrt(mse_grid_rf)\n",
    "mae_grid_rf = mean_absolute_error(y_test, y_pred_grid_rf)\n",
    "r2_grid_rf = r2_score(y_test, y_pred_grid_rf)\n",
    "\n",
    "print(f\"Random Forest (GridSearch)\")\n",
    "print(f\"RMSE: {rmse_grid_rf}\")\n",
    "print(f\"MAE: {mae_grid_rf}\")\n",
    "print(f\"R2: {r2_grid_rf}\")\n"
   ]
  },
  {
   "cell_type": "code",
   "execution_count": 96,
   "metadata": {},
   "outputs": [
    {
     "name": "stdout",
     "output_type": "stream",
     "text": [
      "--- CatBoost ---\n",
      "RMSE: 5623.78, MAE: 3158.47, R²: 0.7599\n",
      "--- CatBoost (GridSearch) ---\n",
      "RMSE: 5277.71, MAE: 2891.57, R²: 0.7885\n",
      "--- XGBoost ---\n",
      "RMSE: 5524.52, MAE: 2829.00, R²: 0.7683\n",
      "--- XGBoost (GridSearch) ---\n",
      "RMSE: 4923.94, MAE: 2599.30, R²: 0.8159\n",
      "--- Random Forest ---\n",
      "RMSE: 6467.60, MAE: 3497.13, R²: 0.6824\n",
      "--- Random Forest (GridSearch) ---\n",
      "RMSE: 6434.63, MAE: 3542.95, R²: 0.6857\n"
     ]
    }
   ],
   "source": [
    "# print(f\"--- Baseline LR ---\")\n",
    "# print(f\"RMSE: {rmse_baseline:.2f}, MAE: {mae_baseline:.2f}, R²: {r2_baseline:.4f}\")\n",
    "print(f\"--- CatBoost ---\")\n",
    "print(f\"RMSE: {rmse:.2f}, MAE: {mae:.2f}, R²: {r2:.4f}\")\n",
    "\n",
    "print(f\"--- CatBoost (GridSearch) ---\")\n",
    "print(f\"RMSE: {rmse_grid_cat:.2f}, MAE: {mae_grid_cat:.2f}, R²: {r2_grid_cat:.4f}\")\n",
    "\n",
    "print(f\"--- XGBoost ---\")\n",
    "print(f\"RMSE: {rmse_xgb:.2f}, MAE: {mae_xgb:.2f}, R²: {r2_xgb:.4f}\")\n",
    "\n",
    "print(f\"--- XGBoost (GridSearch) ---\")\n",
    "print(f\"RMSE: {rmse_grid_xgb:.2f}, MAE: {mae_grid_xgb:.2f}, R²: {r2_grid:.4f}\")\n",
    "\n",
    "print(f\"--- Random Forest ---\")\n",
    "print(f\"RMSE: {rmse_rf:.2f}, MAE: {mae_rf:.2f}, R²: {r2_rf:.4f}\")\n",
    "\n",
    "print(f\"--- Random Forest (GridSearch) ---\")\n",
    "print(f\"RMSE: {rmse_grid_rf:.2f}, MAE: {mae_grid_rf:.2f}, R²: {r2_grid_rf:.4f}\")"
   ]
  },
  {
   "cell_type": "code",
   "execution_count": null,
   "metadata": {},
   "outputs": [],
   "source": []
  },
  {
   "cell_type": "code",
   "execution_count": 258,
   "metadata": {},
   "outputs": [
    {
     "name": "stdout",
     "output_type": "stream",
     "text": [
      "CV RMSE (5-fold): [6103.38100567 5526.45141858 6560.28458874 6238.69981835 6391.25317076]\n",
      "Mean CV RMSE: 6164.01400042015 Std: 353.38602035886686\n"
     ]
    }
   ],
   "source": [
    "# Cross Validation para RF\n",
    "\n",
    "from sklearn.model_selection import cross_val_score, KFold\n",
    "from sklearn.metrics import mean_squared_error, make_scorer\n",
    "import numpy as np\n",
    "\n",
    "rmse_scorer = make_scorer(rmse_in_original, greater_is_better=False)\n",
    "\n",
    "kf = KFold(n_splits=5, shuffle=True, random_state=42)\n",
    "\n",
    "scores = cross_val_score(\n",
    "    best_model_rf,\n",
    "    X_train_preprocessed,\n",
    "    y_train_log,\n",
    "    scoring=rmse_scorer,\n",
    "    cv=kf,\n",
    "    n_jobs=-1\n",
    ")\n",
    "\n",
    "cv_rmse_list_rf = -scores\n",
    "cv_rmse_mean_rf = cv_rmse_list_rf.mean()\n",
    "cv_rmse_std_rf = cv_rmse_list_rf.std()\n",
    "\n",
    "print(\"CV RMSE (5-fold):\", cv_rmse_list_rf)\n",
    "print(\"Mean CV RMSE:\", cv_rmse_mean_rf, \"Std:\", cv_rmse_std_rf)\n",
    "\n"
   ]
  },
  {
   "cell_type": "code",
   "execution_count": 268,
   "metadata": {},
   "outputs": [
    {
     "name": "stdout",
     "output_type": "stream",
     "text": [
      "CV RMSE (5-fold): [4776.36796209 4972.95095997 5348.55625236 4874.70125899 5798.59077511]\n",
      "Mean CV RMSE: 5154.233441702715 Std: 375.9631971066774\n"
     ]
    }
   ],
   "source": [
    "# Cross Validation para XGB\n",
    "\n",
    "rmse_scorer = make_scorer(rmse_in_original, greater_is_better=False)\n",
    "\n",
    "kf = KFold(n_splits=5, shuffle=True, random_state=42)\n",
    "\n",
    "scores = cross_val_score(\n",
    "    best_model_xgb,\n",
    "    X_train_preprocessed,\n",
    "    y_train_log,\n",
    "    scoring=rmse_scorer,\n",
    "    cv=kf,\n",
    "    n_jobs=-1\n",
    ")\n",
    "\n",
    "cv_rmse_list_xgb = -scores\n",
    "cv_rmse_mean_xgb = cv_rmse_list_xgb.mean()\n",
    "cv_rmse_std_xgb = cv_rmse_list_xgb.std()\n",
    "\n",
    "print(\"CV RMSE (5-fold):\", cv_rmse_list_xgb)\n",
    "print(\"Mean CV RMSE:\", cv_rmse_mean_xgb, \"Std:\", cv_rmse_std_xgb)\n",
    "\n"
   ]
  },
  {
   "cell_type": "code",
   "execution_count": 269,
   "metadata": {},
   "outputs": [
    {
     "name": "stdout",
     "output_type": "stream",
     "text": [
      "--- Random Forest ---\n",
      "GridSearch RMSE: 6016.74\n",
      "CV RMSE: 6164.01\n",
      "--- XGBoost ---\n",
      "GridSearch RMSE: 5749.49\n",
      "CV RMSE: 5154.23\n"
     ]
    }
   ],
   "source": [
    "# Comparamos lo obtenido en Grid vs CV de ambos modelos\n",
    "\n",
    "print(f\"--- Random Forest ---\")\n",
    "print(f\"GridSearch RMSE: {rmse_grid_rf:.2f}\")\n",
    "print(f\"CV RMSE: {cv_rmse_mean_rf:.2f}\")\n",
    "\n",
    "print(f\"--- XGBoost ---\")\n",
    "print(f\"GridSearch RMSE: {rmse_grid_xgb:.2f}\")\n",
    "print(f\"CV RMSE: {cv_rmse_mean_xgb:.2f}\")"
   ]
  },
  {
   "cell_type": "code",
   "execution_count": null,
   "metadata": {},
   "outputs": [],
   "source": [
    "import joblib\n",
    "\n",
    "# joblib.dump(best_model_xgb, \"../models/xgb_model.pkl\")"
   ]
  },
  {
   "cell_type": "code",
   "execution_count": null,
   "metadata": {},
   "outputs": [],
   "source": [
    "## de aqui para arriba"
   ]
  },
  {
   "cell_type": "markdown",
   "metadata": {},
   "source": [
    "# ✅ Step 6: Selección e instanciación de modelos. Baseline.\n"
   ]
  },
  {
   "cell_type": "markdown",
   "metadata": {},
   "source": [
    "Baseline:"
   ]
  },
  {
   "cell_type": "code",
   "execution_count": null,
   "metadata": {},
   "outputs": [],
   "source": [
    "y_pred_log_xgb = xgb_model.predict(X_test)\n",
    "y_pred_xgb = np.expm1(y_pred_log_xgb)"
   ]
  },
  {
   "cell_type": "code",
   "execution_count": null,
   "metadata": {},
   "outputs": [
    {
     "name": "stdout",
     "output_type": "stream",
     "text": [
      "XGBoost - RMSE: 5298.727224094555\n",
      "XGBoost - MAE: 3050.661547870447\n",
      "XGBoost - R2: 0.8304386438778383\n"
     ]
    }
   ],
   "source": [
    "mse_xgb = mean_squared_error(y_test, y_pred_xgb)\n",
    "rmse_xgb = np.sqrt(mse_xgb)\n",
    "mae_xgb = mean_absolute_error(y_test, y_pred_xgb)\n",
    "r2_xgb = r2_score(y_test, y_pred_xgb)\n",
    "\n",
    "print(f\"XGBoost - RMSE: {rmse_xgb}\")\n",
    "print(f\"XGBoost - MAE: {mae_xgb}\")\n",
    "print(f\"XGBoost - R2: {r2_xgb}\")"
   ]
  },
  {
   "cell_type": "code",
   "execution_count": null,
   "metadata": {},
   "outputs": [
    {
     "data": {
      "text/html": [
       "<style>#sk-container-id-3 {\n",
       "  /* Definition of color scheme common for light and dark mode */\n",
       "  --sklearn-color-text: black;\n",
       "  --sklearn-color-line: gray;\n",
       "  /* Definition of color scheme for unfitted estimators */\n",
       "  --sklearn-color-unfitted-level-0: #fff5e6;\n",
       "  --sklearn-color-unfitted-level-1: #f6e4d2;\n",
       "  --sklearn-color-unfitted-level-2: #ffe0b3;\n",
       "  --sklearn-color-unfitted-level-3: chocolate;\n",
       "  /* Definition of color scheme for fitted estimators */\n",
       "  --sklearn-color-fitted-level-0: #f0f8ff;\n",
       "  --sklearn-color-fitted-level-1: #d4ebff;\n",
       "  --sklearn-color-fitted-level-2: #b3dbfd;\n",
       "  --sklearn-color-fitted-level-3: cornflowerblue;\n",
       "\n",
       "  /* Specific color for light theme */\n",
       "  --sklearn-color-text-on-default-background: var(--sg-text-color, var(--theme-code-foreground, var(--jp-content-font-color1, black)));\n",
       "  --sklearn-color-background: var(--sg-background-color, var(--theme-background, var(--jp-layout-color0, white)));\n",
       "  --sklearn-color-border-box: var(--sg-text-color, var(--theme-code-foreground, var(--jp-content-font-color1, black)));\n",
       "  --sklearn-color-icon: #696969;\n",
       "\n",
       "  @media (prefers-color-scheme: dark) {\n",
       "    /* Redefinition of color scheme for dark theme */\n",
       "    --sklearn-color-text-on-default-background: var(--sg-text-color, var(--theme-code-foreground, var(--jp-content-font-color1, white)));\n",
       "    --sklearn-color-background: var(--sg-background-color, var(--theme-background, var(--jp-layout-color0, #111)));\n",
       "    --sklearn-color-border-box: var(--sg-text-color, var(--theme-code-foreground, var(--jp-content-font-color1, white)));\n",
       "    --sklearn-color-icon: #878787;\n",
       "  }\n",
       "}\n",
       "\n",
       "#sk-container-id-3 {\n",
       "  color: var(--sklearn-color-text);\n",
       "}\n",
       "\n",
       "#sk-container-id-3 pre {\n",
       "  padding: 0;\n",
       "}\n",
       "\n",
       "#sk-container-id-3 input.sk-hidden--visually {\n",
       "  border: 0;\n",
       "  clip: rect(1px 1px 1px 1px);\n",
       "  clip: rect(1px, 1px, 1px, 1px);\n",
       "  height: 1px;\n",
       "  margin: -1px;\n",
       "  overflow: hidden;\n",
       "  padding: 0;\n",
       "  position: absolute;\n",
       "  width: 1px;\n",
       "}\n",
       "\n",
       "#sk-container-id-3 div.sk-dashed-wrapped {\n",
       "  border: 1px dashed var(--sklearn-color-line);\n",
       "  margin: 0 0.4em 0.5em 0.4em;\n",
       "  box-sizing: border-box;\n",
       "  padding-bottom: 0.4em;\n",
       "  background-color: var(--sklearn-color-background);\n",
       "}\n",
       "\n",
       "#sk-container-id-3 div.sk-container {\n",
       "  /* jupyter's `normalize.less` sets `[hidden] { display: none; }`\n",
       "     but bootstrap.min.css set `[hidden] { display: none !important; }`\n",
       "     so we also need the `!important` here to be able to override the\n",
       "     default hidden behavior on the sphinx rendered scikit-learn.org.\n",
       "     See: https://github.com/scikit-learn/scikit-learn/issues/21755 */\n",
       "  display: inline-block !important;\n",
       "  position: relative;\n",
       "}\n",
       "\n",
       "#sk-container-id-3 div.sk-text-repr-fallback {\n",
       "  display: none;\n",
       "}\n",
       "\n",
       "div.sk-parallel-item,\n",
       "div.sk-serial,\n",
       "div.sk-item {\n",
       "  /* draw centered vertical line to link estimators */\n",
       "  background-image: linear-gradient(var(--sklearn-color-text-on-default-background), var(--sklearn-color-text-on-default-background));\n",
       "  background-size: 2px 100%;\n",
       "  background-repeat: no-repeat;\n",
       "  background-position: center center;\n",
       "}\n",
       "\n",
       "/* Parallel-specific style estimator block */\n",
       "\n",
       "#sk-container-id-3 div.sk-parallel-item::after {\n",
       "  content: \"\";\n",
       "  width: 100%;\n",
       "  border-bottom: 2px solid var(--sklearn-color-text-on-default-background);\n",
       "  flex-grow: 1;\n",
       "}\n",
       "\n",
       "#sk-container-id-3 div.sk-parallel {\n",
       "  display: flex;\n",
       "  align-items: stretch;\n",
       "  justify-content: center;\n",
       "  background-color: var(--sklearn-color-background);\n",
       "  position: relative;\n",
       "}\n",
       "\n",
       "#sk-container-id-3 div.sk-parallel-item {\n",
       "  display: flex;\n",
       "  flex-direction: column;\n",
       "}\n",
       "\n",
       "#sk-container-id-3 div.sk-parallel-item:first-child::after {\n",
       "  align-self: flex-end;\n",
       "  width: 50%;\n",
       "}\n",
       "\n",
       "#sk-container-id-3 div.sk-parallel-item:last-child::after {\n",
       "  align-self: flex-start;\n",
       "  width: 50%;\n",
       "}\n",
       "\n",
       "#sk-container-id-3 div.sk-parallel-item:only-child::after {\n",
       "  width: 0;\n",
       "}\n",
       "\n",
       "/* Serial-specific style estimator block */\n",
       "\n",
       "#sk-container-id-3 div.sk-serial {\n",
       "  display: flex;\n",
       "  flex-direction: column;\n",
       "  align-items: center;\n",
       "  background-color: var(--sklearn-color-background);\n",
       "  padding-right: 1em;\n",
       "  padding-left: 1em;\n",
       "}\n",
       "\n",
       "\n",
       "/* Toggleable style: style used for estimator/Pipeline/ColumnTransformer box that is\n",
       "clickable and can be expanded/collapsed.\n",
       "- Pipeline and ColumnTransformer use this feature and define the default style\n",
       "- Estimators will overwrite some part of the style using the `sk-estimator` class\n",
       "*/\n",
       "\n",
       "/* Pipeline and ColumnTransformer style (default) */\n",
       "\n",
       "#sk-container-id-3 div.sk-toggleable {\n",
       "  /* Default theme specific background. It is overwritten whether we have a\n",
       "  specific estimator or a Pipeline/ColumnTransformer */\n",
       "  background-color: var(--sklearn-color-background);\n",
       "}\n",
       "\n",
       "/* Toggleable label */\n",
       "#sk-container-id-3 label.sk-toggleable__label {\n",
       "  cursor: pointer;\n",
       "  display: block;\n",
       "  width: 100%;\n",
       "  margin-bottom: 0;\n",
       "  padding: 0.5em;\n",
       "  box-sizing: border-box;\n",
       "  text-align: center;\n",
       "}\n",
       "\n",
       "#sk-container-id-3 label.sk-toggleable__label-arrow:before {\n",
       "  /* Arrow on the left of the label */\n",
       "  content: \"▸\";\n",
       "  float: left;\n",
       "  margin-right: 0.25em;\n",
       "  color: var(--sklearn-color-icon);\n",
       "}\n",
       "\n",
       "#sk-container-id-3 label.sk-toggleable__label-arrow:hover:before {\n",
       "  color: var(--sklearn-color-text);\n",
       "}\n",
       "\n",
       "/* Toggleable content - dropdown */\n",
       "\n",
       "#sk-container-id-3 div.sk-toggleable__content {\n",
       "  max-height: 0;\n",
       "  max-width: 0;\n",
       "  overflow: hidden;\n",
       "  text-align: left;\n",
       "  /* unfitted */\n",
       "  background-color: var(--sklearn-color-unfitted-level-0);\n",
       "}\n",
       "\n",
       "#sk-container-id-3 div.sk-toggleable__content.fitted {\n",
       "  /* fitted */\n",
       "  background-color: var(--sklearn-color-fitted-level-0);\n",
       "}\n",
       "\n",
       "#sk-container-id-3 div.sk-toggleable__content pre {\n",
       "  margin: 0.2em;\n",
       "  border-radius: 0.25em;\n",
       "  color: var(--sklearn-color-text);\n",
       "  /* unfitted */\n",
       "  background-color: var(--sklearn-color-unfitted-level-0);\n",
       "}\n",
       "\n",
       "#sk-container-id-3 div.sk-toggleable__content.fitted pre {\n",
       "  /* unfitted */\n",
       "  background-color: var(--sklearn-color-fitted-level-0);\n",
       "}\n",
       "\n",
       "#sk-container-id-3 input.sk-toggleable__control:checked~div.sk-toggleable__content {\n",
       "  /* Expand drop-down */\n",
       "  max-height: 200px;\n",
       "  max-width: 100%;\n",
       "  overflow: auto;\n",
       "}\n",
       "\n",
       "#sk-container-id-3 input.sk-toggleable__control:checked~label.sk-toggleable__label-arrow:before {\n",
       "  content: \"▾\";\n",
       "}\n",
       "\n",
       "/* Pipeline/ColumnTransformer-specific style */\n",
       "\n",
       "#sk-container-id-3 div.sk-label input.sk-toggleable__control:checked~label.sk-toggleable__label {\n",
       "  color: var(--sklearn-color-text);\n",
       "  background-color: var(--sklearn-color-unfitted-level-2);\n",
       "}\n",
       "\n",
       "#sk-container-id-3 div.sk-label.fitted input.sk-toggleable__control:checked~label.sk-toggleable__label {\n",
       "  background-color: var(--sklearn-color-fitted-level-2);\n",
       "}\n",
       "\n",
       "/* Estimator-specific style */\n",
       "\n",
       "/* Colorize estimator box */\n",
       "#sk-container-id-3 div.sk-estimator input.sk-toggleable__control:checked~label.sk-toggleable__label {\n",
       "  /* unfitted */\n",
       "  background-color: var(--sklearn-color-unfitted-level-2);\n",
       "}\n",
       "\n",
       "#sk-container-id-3 div.sk-estimator.fitted input.sk-toggleable__control:checked~label.sk-toggleable__label {\n",
       "  /* fitted */\n",
       "  background-color: var(--sklearn-color-fitted-level-2);\n",
       "}\n",
       "\n",
       "#sk-container-id-3 div.sk-label label.sk-toggleable__label,\n",
       "#sk-container-id-3 div.sk-label label {\n",
       "  /* The background is the default theme color */\n",
       "  color: var(--sklearn-color-text-on-default-background);\n",
       "}\n",
       "\n",
       "/* On hover, darken the color of the background */\n",
       "#sk-container-id-3 div.sk-label:hover label.sk-toggleable__label {\n",
       "  color: var(--sklearn-color-text);\n",
       "  background-color: var(--sklearn-color-unfitted-level-2);\n",
       "}\n",
       "\n",
       "/* Label box, darken color on hover, fitted */\n",
       "#sk-container-id-3 div.sk-label.fitted:hover label.sk-toggleable__label.fitted {\n",
       "  color: var(--sklearn-color-text);\n",
       "  background-color: var(--sklearn-color-fitted-level-2);\n",
       "}\n",
       "\n",
       "/* Estimator label */\n",
       "\n",
       "#sk-container-id-3 div.sk-label label {\n",
       "  font-family: monospace;\n",
       "  font-weight: bold;\n",
       "  display: inline-block;\n",
       "  line-height: 1.2em;\n",
       "}\n",
       "\n",
       "#sk-container-id-3 div.sk-label-container {\n",
       "  text-align: center;\n",
       "}\n",
       "\n",
       "/* Estimator-specific */\n",
       "#sk-container-id-3 div.sk-estimator {\n",
       "  font-family: monospace;\n",
       "  border: 1px dotted var(--sklearn-color-border-box);\n",
       "  border-radius: 0.25em;\n",
       "  box-sizing: border-box;\n",
       "  margin-bottom: 0.5em;\n",
       "  /* unfitted */\n",
       "  background-color: var(--sklearn-color-unfitted-level-0);\n",
       "}\n",
       "\n",
       "#sk-container-id-3 div.sk-estimator.fitted {\n",
       "  /* fitted */\n",
       "  background-color: var(--sklearn-color-fitted-level-0);\n",
       "}\n",
       "\n",
       "/* on hover */\n",
       "#sk-container-id-3 div.sk-estimator:hover {\n",
       "  /* unfitted */\n",
       "  background-color: var(--sklearn-color-unfitted-level-2);\n",
       "}\n",
       "\n",
       "#sk-container-id-3 div.sk-estimator.fitted:hover {\n",
       "  /* fitted */\n",
       "  background-color: var(--sklearn-color-fitted-level-2);\n",
       "}\n",
       "\n",
       "/* Specification for estimator info (e.g. \"i\" and \"?\") */\n",
       "\n",
       "/* Common style for \"i\" and \"?\" */\n",
       "\n",
       ".sk-estimator-doc-link,\n",
       "a:link.sk-estimator-doc-link,\n",
       "a:visited.sk-estimator-doc-link {\n",
       "  float: right;\n",
       "  font-size: smaller;\n",
       "  line-height: 1em;\n",
       "  font-family: monospace;\n",
       "  background-color: var(--sklearn-color-background);\n",
       "  border-radius: 1em;\n",
       "  height: 1em;\n",
       "  width: 1em;\n",
       "  text-decoration: none !important;\n",
       "  margin-left: 1ex;\n",
       "  /* unfitted */\n",
       "  border: var(--sklearn-color-unfitted-level-1) 1pt solid;\n",
       "  color: var(--sklearn-color-unfitted-level-1);\n",
       "}\n",
       "\n",
       ".sk-estimator-doc-link.fitted,\n",
       "a:link.sk-estimator-doc-link.fitted,\n",
       "a:visited.sk-estimator-doc-link.fitted {\n",
       "  /* fitted */\n",
       "  border: var(--sklearn-color-fitted-level-1) 1pt solid;\n",
       "  color: var(--sklearn-color-fitted-level-1);\n",
       "}\n",
       "\n",
       "/* On hover */\n",
       "div.sk-estimator:hover .sk-estimator-doc-link:hover,\n",
       ".sk-estimator-doc-link:hover,\n",
       "div.sk-label-container:hover .sk-estimator-doc-link:hover,\n",
       ".sk-estimator-doc-link:hover {\n",
       "  /* unfitted */\n",
       "  background-color: var(--sklearn-color-unfitted-level-3);\n",
       "  color: var(--sklearn-color-background);\n",
       "  text-decoration: none;\n",
       "}\n",
       "\n",
       "div.sk-estimator.fitted:hover .sk-estimator-doc-link.fitted:hover,\n",
       ".sk-estimator-doc-link.fitted:hover,\n",
       "div.sk-label-container:hover .sk-estimator-doc-link.fitted:hover,\n",
       ".sk-estimator-doc-link.fitted:hover {\n",
       "  /* fitted */\n",
       "  background-color: var(--sklearn-color-fitted-level-3);\n",
       "  color: var(--sklearn-color-background);\n",
       "  text-decoration: none;\n",
       "}\n",
       "\n",
       "/* Span, style for the box shown on hovering the info icon */\n",
       ".sk-estimator-doc-link span {\n",
       "  display: none;\n",
       "  z-index: 9999;\n",
       "  position: relative;\n",
       "  font-weight: normal;\n",
       "  right: .2ex;\n",
       "  padding: .5ex;\n",
       "  margin: .5ex;\n",
       "  width: min-content;\n",
       "  min-width: 20ex;\n",
       "  max-width: 50ex;\n",
       "  color: var(--sklearn-color-text);\n",
       "  box-shadow: 2pt 2pt 4pt #999;\n",
       "  /* unfitted */\n",
       "  background: var(--sklearn-color-unfitted-level-0);\n",
       "  border: .5pt solid var(--sklearn-color-unfitted-level-3);\n",
       "}\n",
       "\n",
       ".sk-estimator-doc-link.fitted span {\n",
       "  /* fitted */\n",
       "  background: var(--sklearn-color-fitted-level-0);\n",
       "  border: var(--sklearn-color-fitted-level-3);\n",
       "}\n",
       "\n",
       ".sk-estimator-doc-link:hover span {\n",
       "  display: block;\n",
       "}\n",
       "\n",
       "/* \"?\"-specific style due to the `<a>` HTML tag */\n",
       "\n",
       "#sk-container-id-3 a.estimator_doc_link {\n",
       "  float: right;\n",
       "  font-size: 1rem;\n",
       "  line-height: 1em;\n",
       "  font-family: monospace;\n",
       "  background-color: var(--sklearn-color-background);\n",
       "  border-radius: 1rem;\n",
       "  height: 1rem;\n",
       "  width: 1rem;\n",
       "  text-decoration: none;\n",
       "  /* unfitted */\n",
       "  color: var(--sklearn-color-unfitted-level-1);\n",
       "  border: var(--sklearn-color-unfitted-level-1) 1pt solid;\n",
       "}\n",
       "\n",
       "#sk-container-id-3 a.estimator_doc_link.fitted {\n",
       "  /* fitted */\n",
       "  border: var(--sklearn-color-fitted-level-1) 1pt solid;\n",
       "  color: var(--sklearn-color-fitted-level-1);\n",
       "}\n",
       "\n",
       "/* On hover */\n",
       "#sk-container-id-3 a.estimator_doc_link:hover {\n",
       "  /* unfitted */\n",
       "  background-color: var(--sklearn-color-unfitted-level-3);\n",
       "  color: var(--sklearn-color-background);\n",
       "  text-decoration: none;\n",
       "}\n",
       "\n",
       "#sk-container-id-3 a.estimator_doc_link.fitted:hover {\n",
       "  /* fitted */\n",
       "  background-color: var(--sklearn-color-fitted-level-3);\n",
       "}\n",
       "</style><div id=\"sk-container-id-3\" class=\"sk-top-container\"><div class=\"sk-text-repr-fallback\"><pre>RandomForestRegressor(random_state=42)</pre><b>In a Jupyter environment, please rerun this cell to show the HTML representation or trust the notebook. <br />On GitHub, the HTML representation is unable to render, please try loading this page with nbviewer.org.</b></div><div class=\"sk-container\" hidden><div class=\"sk-item\"><div class=\"sk-estimator fitted sk-toggleable\"><input class=\"sk-toggleable__control sk-hidden--visually\" id=\"sk-estimator-id-3\" type=\"checkbox\" checked><label for=\"sk-estimator-id-3\" class=\"sk-toggleable__label fitted sk-toggleable__label-arrow fitted\">&nbsp;&nbsp;RandomForestRegressor<a class=\"sk-estimator-doc-link fitted\" rel=\"noreferrer\" target=\"_blank\" href=\"https://scikit-learn.org/1.5/modules/generated/sklearn.ensemble.RandomForestRegressor.html\">?<span>Documentation for RandomForestRegressor</span></a><span class=\"sk-estimator-doc-link fitted\">i<span>Fitted</span></span></label><div class=\"sk-toggleable__content fitted\"><pre>RandomForestRegressor(random_state=42)</pre></div> </div></div></div></div>"
      ],
      "text/plain": [
       "RandomForestRegressor(random_state=42)"
      ]
     },
     "execution_count": 64,
     "metadata": {},
     "output_type": "execute_result"
    }
   ],
   "source": [
    "rf = RandomForestRegressor(random_state=42)\n",
    "rf.fit(X_train, y_train_log)"
   ]
  },
  {
   "cell_type": "code",
   "execution_count": null,
   "metadata": {},
   "outputs": [],
   "source": [
    "y_pred_log = rf.predict(X_test)\n",
    "y_pred_rf = np.expm1(y_pred_log)"
   ]
  },
  {
   "cell_type": "code",
   "execution_count": null,
   "metadata": {},
   "outputs": [
    {
     "name": "stdout",
     "output_type": "stream",
     "text": [
      "Random Forest - RMSE: 5781.170190134396\n",
      "Random Forest - MAE: 3134.29563672731\n",
      "Random Forest - R2: 0.7981562691884041\n"
     ]
    }
   ],
   "source": [
    "mse_rf = mean_squared_error(y_test, y_pred_rf)\n",
    "rmse_rf = np.sqrt(mse_rf)\n",
    "mae_rf = mean_absolute_error(y_test, y_pred_rf)\n",
    "r2_rf = r2_score(y_test, y_pred_rf)\n",
    "\n",
    "print(f\"Random Forest - RMSE: {rmse_rf}\")\n",
    "print(f\"Random Forest - MAE: {mae_rf}\")\n",
    "print(f\"Random Forest - R2: {r2_rf}\")"
   ]
  },
  {
   "cell_type": "code",
   "execution_count": null,
   "metadata": {},
   "outputs": [
    {
     "name": "stdout",
     "output_type": "stream",
     "text": [
      "--- Baseline LR ---\n",
      "RMSE: 9460.38, MAE: 6450.23, R²: 0.4595\n",
      "--- XGBoost ---\n",
      "RMSE: 5298.73, MAE: 3050.66, R²: 0.8304\n",
      "--- Random Forest ---\n",
      "RMSE: 5781.17, MAE: 3134.30, R²: 0.7982\n"
     ]
    }
   ],
   "source": [
    "print(f\"--- Baseline LR ---\")\n",
    "print(f\"RMSE: {rmse_lr:.2f}, MAE: {mae_lr:.2f}, R²: {r2_lr:.4f}\")\n",
    "\n",
    "print(f\"--- XGBoost ---\")\n",
    "print(f\"RMSE: {rmse_xgb:.2f}, MAE: {mae_xgb:.2f}, R²: {r2_xgb:.4f}\")\n",
    "\n",
    "print(f\"--- Random Forest ---\")\n",
    "print(f\"RMSE: {rmse_rf:.2f}, MAE: {mae_rf:.2f}, R²: {r2_rf:.4f}\")"
   ]
  },
  {
   "cell_type": "markdown",
   "metadata": {},
   "source": [
    "- Vamos a comprobar si hay sobreajuste"
   ]
  },
  {
   "cell_type": "code",
   "execution_count": null,
   "metadata": {},
   "outputs": [
    {
     "name": "stdout",
     "output_type": "stream",
     "text": [
      "Train - RMSE: 3060.95, MAE: 1646.63\n",
      "Test  - RMSE: 5781.17, MAE: 3134.30\n"
     ]
    }
   ],
   "source": [
    "# Modelo entrenado, por ejemplo, rf_model\n",
    "# 1) Predicciones en train\n",
    "y_pred_train_log = rf.predict(X_train)\n",
    "y_pred_train = np.expm1(y_pred_train_log)  # volver a escala original\n",
    "mse_train = mean_squared_error(y_train, y_pred_train)\n",
    "rmse_train = np.sqrt(mse_train)\n",
    "mae_train = mean_absolute_error(y_train, y_pred_train)\n",
    "\n",
    "print(f\"Train - RMSE: {rmse_train:.2f}, MAE: {mae_train:.2f}\")\n",
    "\n",
    "# 2) Predicciones en test\n",
    "y_pred_test_log = rf.predict(X_test)\n",
    "y_pred_test = np.expm1(y_pred_test_log)\n",
    "mse_test = mean_squared_error(y_test, y_pred_test)\n",
    "rmse_test = np.sqrt(mse_test)\n",
    "mae_test = mean_absolute_error(y_test, y_pred_test)\n",
    "\n",
    "print(f\"Test  - RMSE: {rmse_test:.2f}, MAE: {mae_test:.2f}\")\n"
   ]
  },
  {
   "cell_type": "code",
   "execution_count": null,
   "metadata": {},
   "outputs": [],
   "source": [
    "def rmse_in_original(y_true_log, y_pred_log):\n",
    "    y_true = np.expm1(y_true_log)\n",
    "    y_pred = np.expm1(y_pred_log)\n",
    "    return np.sqrt(mean_squared_error(y_true, y_pred))\n",
    "\n",
    "rmse_scorer = make_scorer(rmse_in_original, greater_is_better=False)"
   ]
  },
  {
   "cell_type": "code",
   "execution_count": null,
   "metadata": {},
   "outputs": [
    {
     "name": "stdout",
     "output_type": "stream",
     "text": [
      "Fitting 5 folds for each of 324 candidates, totalling 1620 fits\n"
     ]
    },
    {
     "name": "stderr",
     "output_type": "stream",
     "text": [
      "c:\\Users\\Usuario\\AppData\\Local\\Programs\\Python\\Python312\\Lib\\site-packages\\sklearn\\model_selection\\_validation.py:540: FitFailedWarning: \n",
      "540 fits failed out of a total of 1620.\n",
      "The score on these train-test partitions for these parameters will be set to nan.\n",
      "If these failures are not expected, you can try to debug them by setting error_score='raise'.\n",
      "\n",
      "Below are more details about the failures:\n",
      "--------------------------------------------------------------------------------\n",
      "276 fits failed with the following error:\n",
      "Traceback (most recent call last):\n",
      "  File \"c:\\Users\\Usuario\\AppData\\Local\\Programs\\Python\\Python312\\Lib\\site-packages\\sklearn\\model_selection\\_validation.py\", line 888, in _fit_and_score\n",
      "    estimator.fit(X_train, y_train, **fit_params)\n",
      "  File \"c:\\Users\\Usuario\\AppData\\Local\\Programs\\Python\\Python312\\Lib\\site-packages\\sklearn\\base.py\", line 1466, in wrapper\n",
      "    estimator._validate_params()\n",
      "  File \"c:\\Users\\Usuario\\AppData\\Local\\Programs\\Python\\Python312\\Lib\\site-packages\\sklearn\\base.py\", line 666, in _validate_params\n",
      "    validate_parameter_constraints(\n",
      "  File \"c:\\Users\\Usuario\\AppData\\Local\\Programs\\Python\\Python312\\Lib\\site-packages\\sklearn\\utils\\_param_validation.py\", line 95, in validate_parameter_constraints\n",
      "    raise InvalidParameterError(\n",
      "sklearn.utils._param_validation.InvalidParameterError: The 'max_features' parameter of RandomForestRegressor must be an int in the range [1, inf), a float in the range (0.0, 1.0], a str among {'sqrt', 'log2'} or None. Got 'auto' instead.\n",
      "\n",
      "--------------------------------------------------------------------------------\n",
      "264 fits failed with the following error:\n",
      "Traceback (most recent call last):\n",
      "  File \"c:\\Users\\Usuario\\AppData\\Local\\Programs\\Python\\Python312\\Lib\\site-packages\\sklearn\\model_selection\\_validation.py\", line 888, in _fit_and_score\n",
      "    estimator.fit(X_train, y_train, **fit_params)\n",
      "  File \"c:\\Users\\Usuario\\AppData\\Local\\Programs\\Python\\Python312\\Lib\\site-packages\\sklearn\\base.py\", line 1466, in wrapper\n",
      "    estimator._validate_params()\n",
      "  File \"c:\\Users\\Usuario\\AppData\\Local\\Programs\\Python\\Python312\\Lib\\site-packages\\sklearn\\base.py\", line 666, in _validate_params\n",
      "    validate_parameter_constraints(\n",
      "  File \"c:\\Users\\Usuario\\AppData\\Local\\Programs\\Python\\Python312\\Lib\\site-packages\\sklearn\\utils\\_param_validation.py\", line 95, in validate_parameter_constraints\n",
      "    raise InvalidParameterError(\n",
      "sklearn.utils._param_validation.InvalidParameterError: The 'max_features' parameter of RandomForestRegressor must be an int in the range [1, inf), a float in the range (0.0, 1.0], a str among {'log2', 'sqrt'} or None. Got 'auto' instead.\n",
      "\n",
      "  warnings.warn(some_fits_failed_message, FitFailedWarning)\n",
      "c:\\Users\\Usuario\\AppData\\Local\\Programs\\Python\\Python312\\Lib\\site-packages\\sklearn\\model_selection\\_search.py:1103: UserWarning: One or more of the test scores are non-finite: [            nan             nan             nan             nan\n",
      "             nan             nan             nan             nan\n",
      "             nan             nan             nan             nan\n",
      "             nan             nan             nan             nan\n",
      "             nan             nan             nan             nan\n",
      "             nan             nan             nan             nan\n",
      "             nan             nan             nan  -8976.53021253\n",
      "  -8926.4238454   -8909.36349474  -9015.55542603  -8990.18522949\n",
      "  -8976.79501007  -9483.95452637  -9440.11886686  -9435.13206345\n",
      "  -9234.05910474  -9198.47654194  -9194.96769739  -9237.50826166\n",
      "  -9225.24674105  -9222.83981631  -9602.52590289  -9573.45392444\n",
      "  -9564.11112456  -9820.92195157  -9796.77704262  -9781.58169723\n",
      "  -9820.92195157  -9796.77704262  -9781.58169723  -9891.69364088\n",
      "  -9855.846286    -9854.85065554  -9201.1241614   -9157.18646583\n",
      "  -9128.36146     -9213.59742337  -9190.66244565  -9177.08551241\n",
      "  -9687.32963433  -9668.84940306  -9658.48126307  -9461.52988292\n",
      "  -9443.47323071  -9441.17914881  -9480.77679895  -9473.54391759\n",
      "  -9473.86266176  -9873.07231489  -9849.11898584  -9850.07683332\n",
      " -10145.99254121 -10118.25658856 -10109.26534121 -10145.99254121\n",
      " -10118.25658856 -10109.26534121 -10212.67215988 -10201.97215208\n",
      " -10187.22400841             nan             nan             nan\n",
      "             nan             nan             nan             nan\n",
      "             nan             nan             nan             nan\n",
      "             nan             nan             nan             nan\n",
      "             nan             nan             nan             nan\n",
      "             nan             nan             nan             nan\n",
      "             nan             nan             nan             nan\n",
      " -12761.9255715  -12732.2093974  -12724.58548152 -12761.93964375\n",
      " -12732.19880997 -12724.5609616  -12762.22751757 -12732.47582953\n",
      " -12724.80785748 -12762.05555869 -12732.28108797 -12724.60597748\n",
      " -12762.06135846 -12732.27806262 -12724.60403019 -12762.38271494\n",
      " -12732.5643945  -12724.83856515 -12762.74362434 -12732.8360361\n",
      " -12725.0868119  -12762.74362434 -12732.8360361  -12725.0868119\n",
      " -12762.99607538 -12732.99397192 -12725.2287142  -13031.44648868\n",
      " -12963.61856918 -12939.21613643 -13031.37777746 -12963.62439206\n",
      " -12939.21484865 -13031.43785608 -12963.80990231 -12939.41122088\n",
      " -13031.14814526 -12963.54647106 -12939.16617834 -13031.14347158\n",
      " -12963.53913497 -12939.16275174 -13031.29567468 -12963.72409122\n",
      " -12939.33662655 -13031.86705058 -12964.07363372 -12939.61894292\n",
      " -13031.86705058 -12964.07363372 -12939.61894292 -13031.98495667\n",
      " -12964.17262183 -12939.71441803             nan             nan\n",
      "             nan             nan             nan             nan\n",
      "             nan             nan             nan             nan\n",
      "             nan             nan             nan             nan\n",
      "             nan             nan             nan             nan\n",
      "             nan             nan             nan             nan\n",
      "             nan             nan             nan             nan\n",
      "             nan -12310.60340678 -12249.11405291 -12269.70306644\n",
      " -12311.54862233 -12248.17992822 -12270.09553184 -12314.01244964\n",
      " -12257.56180067 -12278.43726291 -12318.16283566 -12252.87134544\n",
      " -12275.39053244 -12316.98058764 -12252.17110477 -12273.99897405\n",
      " -12313.71419953 -12257.79733821 -12279.46589001 -12313.48780413\n",
      " -12250.90817498 -12276.96577924 -12313.48780413 -12250.90817498\n",
      " -12276.96577924 -12309.87124238 -12258.3485111  -12281.81017007\n",
      " -12700.08002719 -12614.40340188 -12599.22073486 -12690.7826033\n",
      " -12610.16080904 -12594.30063381 -12693.29380718 -12621.33811019\n",
      " -12602.94877168 -12698.15640589 -12614.43333564 -12597.35768758\n",
      " -12693.00298012 -12614.09565029 -12596.63496823 -12694.89131383\n",
      " -12621.54189836 -12603.13009495 -12700.52375067 -12627.03621128\n",
      " -12607.61883293 -12700.52375067 -12627.03621128 -12607.61883293\n",
      " -12701.96035761 -12626.6102186  -12607.64276476             nan\n",
      "             nan             nan             nan             nan\n",
      "             nan             nan             nan             nan\n",
      "             nan             nan             nan             nan\n",
      "             nan             nan             nan             nan\n",
      "             nan             nan             nan             nan\n",
      "             nan             nan             nan             nan\n",
      "             nan             nan -11588.82871007 -11503.60216212\n",
      " -11512.10621028 -11583.27243656 -11508.73082063 -11513.536312\n",
      " -11636.64917491 -11552.73405351 -11564.17972116 -11623.47424637\n",
      " -11525.43427823 -11534.99508138 -11606.74104827 -11529.33169112\n",
      " -11534.53306552 -11653.55628116 -11565.18677038 -11579.36896251\n",
      " -11680.08587828 -11593.40662041 -11605.9932298  -11680.08587828\n",
      " -11593.40662041 -11605.9932298  -11669.94540906 -11595.28516463\n",
      " -11608.67418386 -12062.20575001 -12000.74760136 -11961.89479202\n",
      " -12086.38234941 -12018.28887995 -11982.3751746  -12130.92077738\n",
      " -12065.08560596 -12025.8117786  -12090.70786055 -12033.67689616\n",
      " -11995.63504935 -12101.73673302 -12033.3365551  -11998.37212733\n",
      " -12122.57662788 -12062.82002688 -12028.82014708 -12151.65743652\n",
      " -12085.13636556 -12046.60108145 -12151.65743652 -12085.13636556\n",
      " -12046.60108145 -12156.40204725 -12091.71707507 -12052.01959705]\n",
      "  warnings.warn(\n"
     ]
    },
    {
     "name": "stdout",
     "output_type": "stream",
     "text": [
      "Mejores parámetros: {'max_depth': None, 'max_features': 'sqrt', 'min_samples_leaf': 1, 'min_samples_split': 2, 'n_estimators': 300}\n",
      "Mejor score: -8909.363494742267\n",
      "Mejor RMSE en CV escala original: 8909.36\n"
     ]
    }
   ],
   "source": [
    "param_grid = {\n",
    "    \"n_estimators\": [100, 200, 300],\n",
    "    \"max_depth\": [None, 3 ,5, 8],\n",
    "    \"min_samples_split\": [2, 5, 10],\n",
    "    \"min_samples_leaf\": [1, 2, 4],\n",
    "    \"max_features\": [\"auto\", \"sqrt\", \"log2\"],\n",
    "}\n",
    "\n",
    "kf = KFold(n_splits=5, shuffle=True, random_state=42)\n",
    "\n",
    "grid_rf = GridSearchCV(\n",
    "    estimator=rf,\n",
    "    param_grid=param_grid,\n",
    "    scoring=rmse_scorer,\n",
    "    cv=kf,\n",
    "    n_jobs=-1,\n",
    "    verbose=2,\n",
    ")\n",
    "\n",
    "grid_rf.fit(X_train, y_train_log)\n",
    "print(\"Mejores parámetros:\", grid_rf.best_params_)\n",
    "print(\"Mejor score:\", grid_rf.best_score_)\n",
    "rmse_cv_best_rf = -grid_rf.best_score_\n",
    "print(f\"Mejor RMSE en CV escala original: {rmse_cv_best_rf:.2f}\")"
   ]
  },
  {
   "cell_type": "code",
   "execution_count": null,
   "metadata": {},
   "outputs": [
    {
     "name": "stdout",
     "output_type": "stream",
     "text": [
      "RF en test con CV - RMSE: 8812.65, MAE: 5318.45, R²: 0.531\n"
     ]
    }
   ],
   "source": [
    "best_rf = grid_rf.best_estimator_\n",
    "\n",
    "# Predecir en escala log\n",
    "y_pred_log = best_rf.predict(X_test)\n",
    "\n",
    "# Convertir a original\n",
    "y_pred = np.expm1(y_pred_log)\n",
    "\n",
    "# Mides el error en la escala original\n",
    "\n",
    "rmse_test = np.sqrt(mean_squared_error(y_test, y_pred))\n",
    "mae_test  = mean_absolute_error(y_test, y_pred)\n",
    "r2_test   = r2_score(y_test, y_pred)\n",
    "\n",
    "print(f\"RF en test con CV - RMSE: {rmse_test:.2f}, MAE: {mae_test:.2f}, R²: {r2_test:.3f}\")\n"
   ]
  },
  {
   "cell_type": "code",
   "execution_count": null,
   "metadata": {},
   "outputs": [
    {
     "name": "stdout",
     "output_type": "stream",
     "text": [
      "RMSE en CV: [5799.72498295 6187.24183298 5885.48897122]\n",
      "Media RMSE: 5957.485262383864\n"
     ]
    }
   ],
   "source": [
    "scores = cross_val_score(\n",
    "    rf, \n",
    "    X_train, \n",
    "    y_train_log, \n",
    "    scoring=rmse_scorer,\n",
    "    cv=3\n",
    ")\n",
    "\n",
    "# Se obtiene un array de valores negativos\n",
    "scores_rmse = -scores  \n",
    "print(\"RMSE en CV:\", scores_rmse)\n",
    "print(\"Media RMSE:\", scores_rmse.mean())"
   ]
  },
  {
   "cell_type": "code",
   "execution_count": null,
   "metadata": {},
   "outputs": [],
   "source": [
    "param_grid = {\n",
    "    'max_depth': [3, 5],\n",
    "    'learning_rate': [0.01, 0.1],\n",
    "    'subsample': [1.0, 0.8],\n",
    "    'colsample_bytree': [1.0, 0.8]\n",
    "}\n",
    "\n",
    "kf = KFold(n_splits=3, shuffle=True, random_state=42)\n",
    "\n",
    "grid_xgb = GridSearchCV(\n",
    "    estimator=xgb_model,\n",
    "    param_grid=param_grid,\n",
    "    scoring=rmse_scorer,\n",
    "    cv=kf,\n",
    "    n_jobs=-1,\n",
    "    verbose=2\n",
    ")"
   ]
  },
  {
   "cell_type": "code",
   "execution_count": null,
   "metadata": {},
   "outputs": [
    {
     "name": "stdout",
     "output_type": "stream",
     "text": [
      "Fitting 3 folds for each of 16 candidates, totalling 48 fits\n",
      "Mejores parámetros: {'colsample_bytree': 1.0, 'learning_rate': 0.01, 'max_depth': 3, 'subsample': 1.0}\n",
      "Mejor score (neg RMSE): nan\n",
      "Mejor RMSE (positivo) en CV: nan\n"
     ]
    },
    {
     "name": "stderr",
     "output_type": "stream",
     "text": [
      "c:\\Users\\Usuario\\AppData\\Local\\Programs\\Python\\Python312\\Lib\\site-packages\\sklearn\\model_selection\\_search.py:1103: UserWarning: One or more of the test scores are non-finite: [nan nan nan nan nan nan nan nan nan nan nan nan nan nan nan nan]\n",
      "  warnings.warn(\n"
     ]
    }
   ],
   "source": [
    "grid_xgb.fit(X_train, y_train)\n",
    "print(\"Mejores parámetros:\", grid_xgb.best_params_)\n",
    "print(\"Mejor score (neg RMSE):\", grid_xgb.best_score_)\n",
    "best_rmse = -grid_xgb.best_score_\n",
    "print(f\"Mejor RMSE (positivo) en CV: {best_rmse:.2f}\")\n"
   ]
  },
  {
   "cell_type": "code",
   "execution_count": null,
   "metadata": {},
   "outputs": [
    {
     "data": {
      "text/plain": [
       "<function list.index(value, start=0, stop=9223372036854775807, /)>"
      ]
     },
     "execution_count": 90,
     "metadata": {},
     "output_type": "execute_result"
    }
   ],
   "source": []
  },
  {
   "cell_type": "code",
   "execution_count": null,
   "metadata": {},
   "outputs": [],
   "source": []
  },
  {
   "cell_type": "code",
   "execution_count": null,
   "metadata": {},
   "outputs": [],
   "source": []
  },
  {
   "cell_type": "code",
   "execution_count": null,
   "metadata": {},
   "outputs": [
    {
     "name": "stderr",
     "output_type": "stream",
     "text": [
      "C:\\Users\\Usuario\\AppData\\Local\\Temp\\ipykernel_3056\\3207993305.py:5: FutureWarning: \n",
      "\n",
      "Passing `palette` without assigning `hue` is deprecated and will be removed in v0.14.0. Assign the `y` variable to `hue` and set `legend=False` for the same effect.\n",
      "\n",
      "  sns.barplot(x=feature_importances.importance[:20], y=feature_importances.feature[:20], palette=\"viridis\")\n"
     ]
    },
    {
     "data": {
      "image/png": "[encoded data removed]",
      "text/plain": [
       "<Figure size 1000x600 with 1 Axes>"
      ]
     },
     "metadata": {},
     "output_type": "display_data"
    }
   ],
   "source": [
    "feature_importances = pd.DataFrame({\"feature\": X_train.columns, \"importance\": rf.feature_importances_})\n",
    "feature_importances = feature_importances.sort_values(by=\"importance\", ascending=False)\n",
    "\n",
    "plt.figure(figsize=(10, 6))\n",
    "sns.barplot(x=feature_importances.importance[:20], y=feature_importances.feature[:20], palette=\"viridis\")\n",
    "plt.xlabel(\"Importancia\")\n",
    "plt.title(\"Feature Importance - Random Forest\")\n",
    "plt.show()"
   ]
  },
  {
   "cell_type": "code",
   "execution_count": null,
   "metadata": {},
   "outputs": [
    {
     "name": "stderr",
     "output_type": "stream",
     "text": [
      "C:\\Users\\Usuario\\AppData\\Local\\Temp\\ipykernel_3056\\1807826985.py:11: FutureWarning: \n",
      "\n",
      "Passing `palette` without assigning `hue` is deprecated and will be removed in v0.14.0. Assign the `y` variable to `hue` and set `legend=False` for the same effect.\n",
      "\n",
      "  sns.barplot(x=feature_importances_xgb.importance[:20], y=feature_importances_xgb.feature[:20], palette=\"coolwarm\")\n"
     ]
    },
    {
     "data": {
      "image/png": "[encoded data removed]",
      "text/plain": [
       "<Figure size 1000x600 with 1 Axes>"
      ]
     },
     "metadata": {},
     "output_type": "display_data"
    }
   ],
   "source": [
    "# Entrenar un modelo XGBoost\n",
    "xgb = XGBRegressor(n_estimators=100, random_state=42)\n",
    "xgb.fit(X_train, y_train)\n",
    "\n",
    "# Importancia de features\n",
    "feature_importances_xgb = pd.DataFrame({'feature': X_train.columns, 'importance': xgb.feature_importances_})\n",
    "feature_importances_xgb = feature_importances_xgb.sort_values(by='importance', ascending=False)\n",
    "\n",
    "# Graficar\n",
    "plt.figure(figsize=(10, 6))\n",
    "sns.barplot(x=feature_importances_xgb.importance[:20], y=feature_importances_xgb.feature[:20], palette=\"coolwarm\")\n",
    "plt.xlabel(\"Importancia\")\n",
    "plt.title(\"Feature Importance - XGBoost\")\n",
    "plt.show()\n"
   ]
  },
  {
   "cell_type": "markdown",
   "metadata": {},
   "source": [
    "# ✅ Step 6: Selección e instanciación de modelos. Baseline.\n"
   ]
  },
  {
   "cell_type": "code",
   "execution_count": null,
   "metadata": {},
   "outputs": [],
   "source": []
  },
  {
   "cell_type": "code",
   "execution_count": null,
   "metadata": {},
   "outputs": [],
   "source": []
  },
  {
   "cell_type": "code",
   "execution_count": null,
   "metadata": {},
   "outputs": [],
   "source": []
  },
  {
   "cell_type": "code",
   "execution_count": null,
   "metadata": {},
   "outputs": [],
   "source": []
  },
  {
   "cell_type": "markdown",
   "metadata": {},
   "source": [
    "# ✅ Step 8: Comparación de modelos.\n"
   ]
  },
  {
   "cell_type": "code",
   "execution_count": null,
   "metadata": {},
   "outputs": [],
   "source": []
  },
  {
   "cell_type": "code",
   "execution_count": null,
   "metadata": {},
   "outputs": [],
   "source": []
  },
  {
   "cell_type": "markdown",
   "metadata": {},
   "source": [
    "# ✅ Step 9: Selección del modelo - Optimización de hiperparámetros.\n"
   ]
  },
  {
   "cell_type": "code",
   "execution_count": null,
   "metadata": {},
   "outputs": [],
   "source": []
  },
  {
   "cell_type": "code",
   "execution_count": null,
   "metadata": {},
   "outputs": [],
   "source": []
  },
  {
   "cell_type": "markdown",
   "metadata": {},
   "source": [
    "# ✅ Step 10: Evaluación contra test.\n"
   ]
  },
  {
   "cell_type": "code",
   "execution_count": null,
   "metadata": {},
   "outputs": [],
   "source": []
  },
  {
   "cell_type": "code",
   "execution_count": null,
   "metadata": {},
   "outputs": [],
   "source": []
  },
  {
   "cell_type": "markdown",
   "metadata": {},
   "source": [
    "# ✅ Step 11: Análisis de errores.\n"
   ]
  },
  {
   "cell_type": "code",
   "execution_count": null,
   "metadata": {},
   "outputs": [],
   "source": []
  },
  {
   "cell_type": "markdown",
   "metadata": {},
   "source": [
    "# ✅ Step 12: Persistencia del modelo en disco."
   ]
  },
  {
   "cell_type": "code",
   "execution_count": null,
   "metadata": {},
   "outputs": [],
   "source": []
  }
 ],
 "metadata": {
  "kernelspec": {
   "display_name": "Python 3",
   "language": "python",
   "name": "python3"
  },
  "language_info": {
   "codemirror_mode": {
    "name": "ipython",
    "version": 3
   },
   "file_extension": ".py",
   "mimetype": "text/x-python",
   "name": "python",
   "nbconvert_exporter": "python",
   "pygments_lexer": "ipython3",
   "version": "3.12.7"
  }
 },
 "nbformat": 4,
 "nbformat_minor": 2
}

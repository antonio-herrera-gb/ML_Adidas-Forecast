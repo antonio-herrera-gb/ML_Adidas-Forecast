{
 "cells": [
  {
   "cell_type": "markdown",
   "metadata": {},
   "source": [
    "# Importaciones para el proyecto:"
   ]
  },
  {
   "cell_type": "code",
   "execution_count": 1,
   "metadata": {},
   "outputs": [
    {
     "name": "stdout",
     "output_type": "stream",
     "text": [
      "c:\\Users\\lukat\\BOOTCAMPASUS\\ML_Adidas-Forecast\\src\\notebooks\n"
     ]
    }
   ],
   "source": [
    "import sys\n",
    "import os\n",
    "print(os.getcwd())\n",
    "sys.path.append(os.path.abspath(\"../\"))"
   ]
  },
  {
   "cell_type": "code",
   "execution_count": 2,
   "metadata": {},
   "outputs": [
    {
     "name": "stdout",
     "output_type": "stream",
     "text": [
      "Paquete utils cargado correctamente\n"
     ]
    }
   ],
   "source": [
    "import pandas as pd\n",
    "import numpy as np\n",
    "import matplotlib.pyplot as plt\n",
    "import seaborn as sns\n",
    "\n",
    "from sklearn.model_selection import train_test_split\n",
    "from sklearn.linear_model import LinearRegression\n",
    "from sklearn.metrics import mean_squared_error, mean_absolute_error, r2_score, make_scorer\n",
    "from sklearn.model_selection import cross_val_score, KFold, GridSearchCV\n",
    "from sklearn.ensemble import RandomForestRegressor\n",
    "from xgboost import XGBRegressor\n",
    "\n",
    "import utils.bootcampviztools as bt\n",
    "import utils.toolbox_ML as tb\n",
    "import utils.funciones_eda as fe"
   ]
  },
  {
   "cell_type": "markdown",
   "metadata": {},
   "source": [
    "# ✅ Step 1: Objetivo del proyecto.\n"
   ]
  },
  {
   "cell_type": "markdown",
   "metadata": {},
   "source": [
    "### ADIDAS Y SUS DISTRIBUIDORES EN UNITED STATES. 🔎\n",
    "\n",
    "Adidas quiere saber una predicción razonable de cuánto facturarán las tiendas distribuidoras para asi saber si los productos que solicitan son adecuados a su nivel de facturación. Es muy importante que el producto esté en el lugar más eficiente posible y para ello debemos predecirlo.\n",
    "\n",
    "A su vez, quieren plantear un sistema logístico para los Estados de USA donde haya más demanda de producto. Considerando asi una prevención a la rotura de stock y a la mejora en costes ya que el producto más vendido en cada Estado estaría más cerca de dichas tiendas distribuidoras.\n",
    "\n",
    "🤔 PREGUNTAS QUE NOS HACEMOS 🤔\n",
    "\n",
    "A. PREDECIR LA FACTURACIÓN DE LAS TIENDAS DISTRIBUIDORAS 💵\n",
    "- ¿Qué mercado es el que está en auge para estos años?\n",
    "- ¿Hay algún mercado que debamos conocer que vaya en declive?\n",
    "- ¿Cumplirán las tiendas con el mínimo de facturación deseable?\n",
    "- ¿Varía la facturación con la estacionalidad?\n",
    "\n",
    "B. PREVENCIÓN A LA ROTURA DE STOCK Y MEJORA EN COSTES 🚛\n",
    "- ¿En qué regiones debemos tener un centro logístico más potente para el futuro?\n",
    "- ¿Cuánto stock por categoría deberá estar disponible en cada región?"
   ]
  },
  {
   "cell_type": "markdown",
   "metadata": {},
   "source": [
    "# ✅ Step 2: Obtener datos.\n"
   ]
  },
  {
   "cell_type": "code",
   "execution_count": 3,
   "metadata": {},
   "outputs": [],
   "source": [
    "file_path = \"../data/adidas_sales.csv\""
   ]
  },
  {
   "cell_type": "code",
   "execution_count": 4,
   "metadata": {},
   "outputs": [
    {
     "data": {
      "text/html": [
       "<div>\n",
       "<style scoped>\n",
       "    .dataframe tbody tr th:only-of-type {\n",
       "        vertical-align: middle;\n",
       "    }\n",
       "\n",
       "    .dataframe tbody tr th {\n",
       "        vertical-align: top;\n",
       "    }\n",
       "\n",
       "    .dataframe thead th {\n",
       "        text-align: right;\n",
       "    }\n",
       "</style>\n",
       "<table border=\"1\" class=\"dataframe\">\n",
       "  <thead>\n",
       "    <tr style=\"text-align: right;\">\n",
       "      <th></th>\n",
       "      <th>Retailer</th>\n",
       "      <th>Retailer ID</th>\n",
       "      <th>Invoice Date</th>\n",
       "      <th>Region</th>\n",
       "      <th>State</th>\n",
       "      <th>City</th>\n",
       "      <th>Product</th>\n",
       "      <th>Price per Unit</th>\n",
       "      <th>Units Sold</th>\n",
       "      <th>Total Sales</th>\n",
       "      <th>Operating Profit</th>\n",
       "      <th>Sales Method</th>\n",
       "    </tr>\n",
       "  </thead>\n",
       "  <tbody>\n",
       "    <tr>\n",
       "      <th>0</th>\n",
       "      <td>Walmart</td>\n",
       "      <td>1128299</td>\n",
       "      <td>6/17/2021</td>\n",
       "      <td>Southeast</td>\n",
       "      <td>Florida</td>\n",
       "      <td>Orlando</td>\n",
       "      <td>Women's Apparel</td>\n",
       "      <td>$103.00</td>\n",
       "      <td>218</td>\n",
       "      <td>2,245</td>\n",
       "      <td>$1,257</td>\n",
       "      <td>Online</td>\n",
       "    </tr>\n",
       "    <tr>\n",
       "      <th>1</th>\n",
       "      <td>West Gear</td>\n",
       "      <td>1128299</td>\n",
       "      <td>7/16/2021</td>\n",
       "      <td>South</td>\n",
       "      <td>Louisiana</td>\n",
       "      <td>New Orleans</td>\n",
       "      <td>Women's Apparel</td>\n",
       "      <td>$103.00</td>\n",
       "      <td>163</td>\n",
       "      <td>1,679</td>\n",
       "      <td>$806</td>\n",
       "      <td>Online</td>\n",
       "    </tr>\n",
       "    <tr>\n",
       "      <th>2</th>\n",
       "      <td>Sports Direct</td>\n",
       "      <td>1197831</td>\n",
       "      <td>8/25/2021</td>\n",
       "      <td>South</td>\n",
       "      <td>Alabama</td>\n",
       "      <td>Birmingham</td>\n",
       "      <td>Men's Street Footwear</td>\n",
       "      <td>$10.00</td>\n",
       "      <td>700</td>\n",
       "      <td>7,000</td>\n",
       "      <td>$3,150</td>\n",
       "      <td>Outlet</td>\n",
       "    </tr>\n",
       "    <tr>\n",
       "      <th>3</th>\n",
       "      <td>Sports Direct</td>\n",
       "      <td>1197831</td>\n",
       "      <td>8/27/2021</td>\n",
       "      <td>South</td>\n",
       "      <td>Alabama</td>\n",
       "      <td>Birmingham</td>\n",
       "      <td>Women's Street Footwear</td>\n",
       "      <td>$15.00</td>\n",
       "      <td>575</td>\n",
       "      <td>8,625</td>\n",
       "      <td>$3,881</td>\n",
       "      <td>Outlet</td>\n",
       "    </tr>\n",
       "    <tr>\n",
       "      <th>4</th>\n",
       "      <td>Sports Direct</td>\n",
       "      <td>1197831</td>\n",
       "      <td>8/21/2021</td>\n",
       "      <td>South</td>\n",
       "      <td>Alabama</td>\n",
       "      <td>Birmingham</td>\n",
       "      <td>Women's Street Footwear</td>\n",
       "      <td>$15.00</td>\n",
       "      <td>475</td>\n",
       "      <td>7,125</td>\n",
       "      <td>$3,206</td>\n",
       "      <td>Outlet</td>\n",
       "    </tr>\n",
       "  </tbody>\n",
       "</table>\n",
       "</div>"
      ],
      "text/plain": [
       "        Retailer  Retailer ID Invoice Date     Region      State         City  \\\n",
       "0        Walmart      1128299    6/17/2021  Southeast    Florida      Orlando   \n",
       "1      West Gear      1128299    7/16/2021      South  Louisiana  New Orleans   \n",
       "2  Sports Direct      1197831    8/25/2021      South    Alabama   Birmingham   \n",
       "3  Sports Direct      1197831    8/27/2021      South    Alabama   Birmingham   \n",
       "4  Sports Direct      1197831    8/21/2021      South    Alabama   Birmingham   \n",
       "\n",
       "                   Product Price per Unit Units Sold Total Sales  \\\n",
       "0          Women's Apparel       $103.00         218       2,245   \n",
       "1          Women's Apparel       $103.00         163       1,679   \n",
       "2    Men's Street Footwear        $10.00         700       7,000   \n",
       "3  Women's Street Footwear        $15.00         575       8,625   \n",
       "4  Women's Street Footwear        $15.00         475       7,125   \n",
       "\n",
       "  Operating Profit Sales Method  \n",
       "0          $1,257        Online  \n",
       "1            $806        Online  \n",
       "2          $3,150        Outlet  \n",
       "3          $3,881        Outlet  \n",
       "4          $3,206        Outlet  "
      ]
     },
     "execution_count": 4,
     "metadata": {},
     "output_type": "execute_result"
    }
   ],
   "source": [
    "df = pd.read_csv(file_path)\n",
    "df.head(5)"
   ]
  },
  {
   "cell_type": "markdown",
   "metadata": {},
   "source": [
    "---------\n",
    "A simple vista vemos:\n",
    "- Columnas espaciadas.\n",
    "- Error en el cálculo de ***\"Total Sales\"***\n",
    "- Columnas que vamos a limpiar para tener el DataFrame lo más funcional posible.\n",
    "\n",
    "Y más cosas que veremos en el siguiente paso"
   ]
  },
  {
   "cell_type": "markdown",
   "metadata": {},
   "source": [
    "# ✅ Step 3: Limpieza de datos - Correcciones - Nuevos datasets.\n"
   ]
  },
  {
   "cell_type": "markdown",
   "metadata": {},
   "source": [
    "- Solucionamos las columnas espaciadas:"
   ]
  },
  {
   "cell_type": "code",
   "execution_count": 5,
   "metadata": {},
   "outputs": [],
   "source": [
    "df.columns = df.columns.str.lower()\n",
    "df.columns = df.columns.str.replace(\" \", \"_\")"
   ]
  },
  {
   "cell_type": "code",
   "execution_count": 6,
   "metadata": {},
   "outputs": [
    {
     "name": "stdout",
     "output_type": "stream",
     "text": [
      "<class 'pandas.core.frame.DataFrame'>\n",
      "RangeIndex: 9641 entries, 0 to 9640\n",
      "Data columns (total 12 columns):\n",
      " #   Column            Non-Null Count  Dtype \n",
      "---  ------            --------------  ----- \n",
      " 0   retailer          9641 non-null   object\n",
      " 1   retailer_id       9641 non-null   int64 \n",
      " 2   invoice_date      9641 non-null   object\n",
      " 3   region            9641 non-null   object\n",
      " 4   state             9641 non-null   object\n",
      " 5   city              9641 non-null   object\n",
      " 6   product           9641 non-null   object\n",
      " 7   price_per_unit    9639 non-null   object\n",
      " 8   units_sold        9641 non-null   object\n",
      " 9   total_sales       9641 non-null   object\n",
      " 10  operating_profit  9641 non-null   object\n",
      " 11  sales_method      9641 non-null   object\n",
      "dtypes: int64(1), object(11)\n",
      "memory usage: 904.0+ KB\n"
     ]
    }
   ],
   "source": [
    "df.info()"
   ]
  },
  {
   "cell_type": "markdown",
   "metadata": {},
   "source": [
    "- Valores faltantes en ***\"price_per_unit\"*** pero antes solucionaremos el error de cálculo en ***\"total_sales\"***\n",
    "- Tenemos tipo object en todas las columnas, debemos transformar a númericas algunas.\n",
    "- Queremos transformar ***\"invoice_date\"*** en datetime.\n",
    "- Vamos a eliminar columnas no relevantes al proyecto."
   ]
  },
  {
   "cell_type": "code",
   "execution_count": 7,
   "metadata": {},
   "outputs": [
    {
     "data": {
      "text/html": [
       "<div>\n",
       "<style scoped>\n",
       "    .dataframe tbody tr th:only-of-type {\n",
       "        vertical-align: middle;\n",
       "    }\n",
       "\n",
       "    .dataframe tbody tr th {\n",
       "        vertical-align: top;\n",
       "    }\n",
       "\n",
       "    .dataframe thead th {\n",
       "        text-align: right;\n",
       "    }\n",
       "</style>\n",
       "<table border=\"1\" class=\"dataframe\">\n",
       "  <thead>\n",
       "    <tr style=\"text-align: right;\">\n",
       "      <th></th>\n",
       "      <th>retailer</th>\n",
       "      <th>retailer_id</th>\n",
       "      <th>invoice_date</th>\n",
       "      <th>region</th>\n",
       "      <th>state</th>\n",
       "      <th>city</th>\n",
       "      <th>product</th>\n",
       "      <th>price_per_unit</th>\n",
       "      <th>units_sold</th>\n",
       "      <th>total_sales</th>\n",
       "      <th>operating_profit</th>\n",
       "      <th>sales_method</th>\n",
       "    </tr>\n",
       "  </thead>\n",
       "  <tbody>\n",
       "    <tr>\n",
       "      <th>7963</th>\n",
       "      <td>West Gear</td>\n",
       "      <td>1128299</td>\n",
       "      <td>2/17/2021</td>\n",
       "      <td>West</td>\n",
       "      <td>Oregon</td>\n",
       "      <td>Portland</td>\n",
       "      <td>Men's Street Footwear</td>\n",
       "      <td>$35.00</td>\n",
       "      <td>500</td>\n",
       "      <td>17,500</td>\n",
       "      <td>$7,000</td>\n",
       "      <td>In-store</td>\n",
       "    </tr>\n",
       "  </tbody>\n",
       "</table>\n",
       "</div>"
      ],
      "text/plain": [
       "       retailer  retailer_id invoice_date region   state      city  \\\n",
       "7963  West Gear      1128299    2/17/2021   West  Oregon  Portland   \n",
       "\n",
       "                    product price_per_unit units_sold total_sales  \\\n",
       "7963  Men's Street Footwear        $35.00         500      17,500   \n",
       "\n",
       "     operating_profit sales_method  \n",
       "7963          $7,000      In-store  "
      ]
     },
     "execution_count": 7,
     "metadata": {},
     "output_type": "execute_result"
    }
   ],
   "source": [
    "df.sample(1)"
   ]
  },
  {
   "cell_type": "markdown",
   "metadata": {},
   "source": [
    "- Si vemos el *sample* podemos ver que la multiplicación en ***\"total_sales\"*** (*price_per_unit* y *units_sold*) no es correcta. Vamos a hacerla de nuevo y corregiremos el símbolo del dollar. La haremos tipo numérica. Por último añadiremos dos decimales en las columnas."
   ]
  },
  {
   "cell_type": "code",
   "execution_count": 8,
   "metadata": {},
   "outputs": [],
   "source": [
    "df[\"price_per_unit\"] = df[\"price_per_unit\"].str.replace(\"$\", \"\")\n",
    "df[\"price_per_unit\"] = pd.to_numeric(df[\"price_per_unit\"], errors=\"coerce\")"
   ]
  },
  {
   "cell_type": "code",
   "execution_count": 9,
   "metadata": {},
   "outputs": [
    {
     "data": {
      "text/html": [
       "<div>\n",
       "<style scoped>\n",
       "    .dataframe tbody tr th:only-of-type {\n",
       "        vertical-align: middle;\n",
       "    }\n",
       "\n",
       "    .dataframe tbody tr th {\n",
       "        vertical-align: top;\n",
       "    }\n",
       "\n",
       "    .dataframe thead th {\n",
       "        text-align: right;\n",
       "    }\n",
       "</style>\n",
       "<table border=\"1\" class=\"dataframe\">\n",
       "  <thead>\n",
       "    <tr style=\"text-align: right;\">\n",
       "      <th></th>\n",
       "      <th>retailer</th>\n",
       "      <th>retailer_id</th>\n",
       "      <th>invoice_date</th>\n",
       "      <th>region</th>\n",
       "      <th>state</th>\n",
       "      <th>city</th>\n",
       "      <th>product</th>\n",
       "      <th>price_per_unit</th>\n",
       "      <th>units_sold</th>\n",
       "      <th>total_sales</th>\n",
       "      <th>operating_profit</th>\n",
       "      <th>sales_method</th>\n",
       "    </tr>\n",
       "  </thead>\n",
       "  <tbody>\n",
       "    <tr>\n",
       "      <th>9018</th>\n",
       "      <td>Foot Locker</td>\n",
       "      <td>1185732</td>\n",
       "      <td>8/10/2021</td>\n",
       "      <td>Midwest</td>\n",
       "      <td>Illinois</td>\n",
       "      <td>Chicago</td>\n",
       "      <td>Women's Apparel</td>\n",
       "      <td>65.0</td>\n",
       "      <td>300</td>\n",
       "      <td>19,500</td>\n",
       "      <td>$9,750</td>\n",
       "      <td>Outlet</td>\n",
       "    </tr>\n",
       "    <tr>\n",
       "      <th>846</th>\n",
       "      <td>Sports Direct</td>\n",
       "      <td>1185732</td>\n",
       "      <td>7/15/2021</td>\n",
       "      <td>Midwest</td>\n",
       "      <td>Michigan</td>\n",
       "      <td>Detroit</td>\n",
       "      <td>Men's Street Footwear</td>\n",
       "      <td>57.0</td>\n",
       "      <td>225</td>\n",
       "      <td>1,283</td>\n",
       "      <td>$770</td>\n",
       "      <td>Online</td>\n",
       "    </tr>\n",
       "    <tr>\n",
       "      <th>2020</th>\n",
       "      <td>West Gear</td>\n",
       "      <td>1185732</td>\n",
       "      <td>1/12/2021</td>\n",
       "      <td>Southeast</td>\n",
       "      <td>Florida</td>\n",
       "      <td>Orlando</td>\n",
       "      <td>Women's Athletic Footwear</td>\n",
       "      <td>30.0</td>\n",
       "      <td>170</td>\n",
       "      <td>510</td>\n",
       "      <td>$189</td>\n",
       "      <td>Outlet</td>\n",
       "    </tr>\n",
       "    <tr>\n",
       "      <th>6522</th>\n",
       "      <td>Foot Locker</td>\n",
       "      <td>1185732</td>\n",
       "      <td>11/1/2020</td>\n",
       "      <td>Midwest</td>\n",
       "      <td>Minnesota</td>\n",
       "      <td>Minneapolis</td>\n",
       "      <td>Women's Athletic Footwear</td>\n",
       "      <td>32.0</td>\n",
       "      <td>7</td>\n",
       "      <td>22</td>\n",
       "      <td>$11</td>\n",
       "      <td>Online</td>\n",
       "    </tr>\n",
       "    <tr>\n",
       "      <th>4536</th>\n",
       "      <td>West Gear</td>\n",
       "      <td>1128299</td>\n",
       "      <td>7/23/2020</td>\n",
       "      <td>West</td>\n",
       "      <td>Washington</td>\n",
       "      <td>Seattle</td>\n",
       "      <td>Men's Apparel</td>\n",
       "      <td>69.0</td>\n",
       "      <td>94</td>\n",
       "      <td>649</td>\n",
       "      <td>$227</td>\n",
       "      <td>Online</td>\n",
       "    </tr>\n",
       "    <tr>\n",
       "      <th>9103</th>\n",
       "      <td>Sports Direct</td>\n",
       "      <td>1185732</td>\n",
       "      <td>8/9/2021</td>\n",
       "      <td>Midwest</td>\n",
       "      <td>North Dakota</td>\n",
       "      <td>Fargo</td>\n",
       "      <td>Men's Athletic Footwear</td>\n",
       "      <td>45.0</td>\n",
       "      <td>300</td>\n",
       "      <td>13,500</td>\n",
       "      <td>$4,050</td>\n",
       "      <td>In-store</td>\n",
       "    </tr>\n",
       "  </tbody>\n",
       "</table>\n",
       "</div>"
      ],
      "text/plain": [
       "           retailer  retailer_id invoice_date     region         state  \\\n",
       "9018    Foot Locker      1185732    8/10/2021    Midwest      Illinois   \n",
       "846   Sports Direct      1185732    7/15/2021    Midwest      Michigan   \n",
       "2020      West Gear      1185732    1/12/2021  Southeast       Florida   \n",
       "6522    Foot Locker      1185732    11/1/2020    Midwest     Minnesota   \n",
       "4536      West Gear      1128299    7/23/2020       West    Washington   \n",
       "9103  Sports Direct      1185732     8/9/2021    Midwest  North Dakota   \n",
       "\n",
       "             city                    product  price_per_unit units_sold  \\\n",
       "9018      Chicago            Women's Apparel            65.0        300   \n",
       "846       Detroit      Men's Street Footwear            57.0        225   \n",
       "2020      Orlando  Women's Athletic Footwear            30.0        170   \n",
       "6522  Minneapolis  Women's Athletic Footwear            32.0          7   \n",
       "4536      Seattle              Men's Apparel            69.0         94   \n",
       "9103        Fargo    Men's Athletic Footwear            45.0        300   \n",
       "\n",
       "     total_sales operating_profit sales_method  \n",
       "9018      19,500          $9,750        Outlet  \n",
       "846        1,283            $770        Online  \n",
       "2020         510            $189        Outlet  \n",
       "6522          22             $11        Online  \n",
       "4536         649            $227        Online  \n",
       "9103      13,500          $4,050      In-store  "
      ]
     },
     "execution_count": 9,
     "metadata": {},
     "output_type": "execute_result"
    }
   ],
   "source": [
    "# Visión general de los datos\n",
    "df.sample(6)"
   ]
  },
  {
   "cell_type": "code",
   "execution_count": 10,
   "metadata": {},
   "outputs": [],
   "source": [
    "df[\"units_sold\"] = pd.to_numeric(df[\"units_sold\"].str.replace(\",\", \"\"),errors=\"coerce\")"
   ]
  },
  {
   "cell_type": "code",
   "execution_count": 11,
   "metadata": {},
   "outputs": [
    {
     "name": "stdout",
     "output_type": "stream",
     "text": [
      "<class 'pandas.core.frame.DataFrame'>\n",
      "RangeIndex: 9641 entries, 0 to 9640\n",
      "Data columns (total 12 columns):\n",
      " #   Column            Non-Null Count  Dtype  \n",
      "---  ------            --------------  -----  \n",
      " 0   retailer          9641 non-null   object \n",
      " 1   retailer_id       9641 non-null   int64  \n",
      " 2   invoice_date      9641 non-null   object \n",
      " 3   region            9641 non-null   object \n",
      " 4   state             9641 non-null   object \n",
      " 5   city              9641 non-null   object \n",
      " 6   product           9641 non-null   object \n",
      " 7   price_per_unit    9639 non-null   float64\n",
      " 8   units_sold        9641 non-null   int64  \n",
      " 9   total_sales       9641 non-null   object \n",
      " 10  operating_profit  9641 non-null   object \n",
      " 11  sales_method      9641 non-null   object \n",
      "dtypes: float64(1), int64(2), object(9)\n",
      "memory usage: 904.0+ KB\n"
     ]
    }
   ],
   "source": [
    "df.info()"
   ]
  },
  {
   "cell_type": "markdown",
   "metadata": {},
   "source": [
    "Siendo columnas numéricas ya podríamos calcular el correcto \"total_sales\" pero vamos a visualizar los nulos primero antes de tocar los datos."
   ]
  },
  {
   "cell_type": "code",
   "execution_count": 12,
   "metadata": {},
   "outputs": [
    {
     "data": {
      "text/html": [
       "<div>\n",
       "<style scoped>\n",
       "    .dataframe tbody tr th:only-of-type {\n",
       "        vertical-align: middle;\n",
       "    }\n",
       "\n",
       "    .dataframe tbody tr th {\n",
       "        vertical-align: top;\n",
       "    }\n",
       "\n",
       "    .dataframe thead th {\n",
       "        text-align: right;\n",
       "    }\n",
       "</style>\n",
       "<table border=\"1\" class=\"dataframe\">\n",
       "  <thead>\n",
       "    <tr style=\"text-align: right;\">\n",
       "      <th></th>\n",
       "      <th>retailer</th>\n",
       "      <th>retailer_id</th>\n",
       "      <th>invoice_date</th>\n",
       "      <th>region</th>\n",
       "      <th>state</th>\n",
       "      <th>city</th>\n",
       "      <th>product</th>\n",
       "      <th>price_per_unit</th>\n",
       "      <th>units_sold</th>\n",
       "      <th>total_sales</th>\n",
       "      <th>operating_profit</th>\n",
       "      <th>sales_method</th>\n",
       "    </tr>\n",
       "  </thead>\n",
       "  <tbody>\n",
       "    <tr>\n",
       "      <th>6725</th>\n",
       "      <td>Foot Locker</td>\n",
       "      <td>1185732</td>\n",
       "      <td>1/29/2020</td>\n",
       "      <td>Northeast</td>\n",
       "      <td>New York</td>\n",
       "      <td>New York</td>\n",
       "      <td>Men's Apparel</td>\n",
       "      <td>NaN</td>\n",
       "      <td>850</td>\n",
       "      <td>51,000</td>\n",
       "      <td>$15,300</td>\n",
       "      <td>Outlet</td>\n",
       "    </tr>\n",
       "    <tr>\n",
       "      <th>7882</th>\n",
       "      <td>Sports Direct</td>\n",
       "      <td>1197831</td>\n",
       "      <td>7/29/2020</td>\n",
       "      <td>South</td>\n",
       "      <td>Texas</td>\n",
       "      <td>Houston</td>\n",
       "      <td>Men's Apparel</td>\n",
       "      <td>NaN</td>\n",
       "      <td>500</td>\n",
       "      <td>20,000</td>\n",
       "      <td>$6,000</td>\n",
       "      <td>Outlet</td>\n",
       "    </tr>\n",
       "  </tbody>\n",
       "</table>\n",
       "</div>"
      ],
      "text/plain": [
       "           retailer  retailer_id invoice_date     region     state      city  \\\n",
       "6725    Foot Locker      1185732    1/29/2020  Northeast  New York  New York   \n",
       "7882  Sports Direct      1197831    7/29/2020      South     Texas   Houston   \n",
       "\n",
       "            product  price_per_unit  units_sold total_sales operating_profit  \\\n",
       "6725  Men's Apparel             NaN         850      51,000         $15,300    \n",
       "7882  Men's Apparel             NaN         500      20,000          $6,000    \n",
       "\n",
       "     sales_method  \n",
       "6725       Outlet  \n",
       "7882       Outlet  "
      ]
     },
     "execution_count": 12,
     "metadata": {},
     "output_type": "execute_result"
    }
   ],
   "source": [
    "df[df.isnull().any(axis=1)]"
   ]
  },
  {
   "cell_type": "markdown",
   "metadata": {},
   "source": [
    "---------\n",
    "🤔 Esto seria una pregunta para \"Negocio\" porque tenemos dos soluciones para afrontar estos nulos.\n",
    "1. Entendemos que la división de ***\"total_sales\"*** / ***\"units_sold\"*** dan el resultado de ***\"price_per_unit\"***\n",
    "2. Hemos visto que hay valores de ***\"total_sales\"*** que no fueron bien calculados y todos tienen en común la falta del último dígito.\n",
    "\n",
    "Ya que son dos valores faltantes, vamos a confiar en los valores que tenemos del dataset y haremos la opción 1"
   ]
  },
  {
   "cell_type": "code",
   "execution_count": 13,
   "metadata": {},
   "outputs": [],
   "source": [
    "df[\"total_sales\"] = pd.to_numeric(df[\"total_sales\"].str.replace(\",\", \"\"),errors=\"coerce\")\n"
   ]
  },
  {
   "cell_type": "code",
   "execution_count": 14,
   "metadata": {},
   "outputs": [],
   "source": [
    "df[\"price_per_unit\"] = df[\"price_per_unit\"].fillna(df[\"total_sales\"] / df[\"units_sold\"])"
   ]
  },
  {
   "cell_type": "code",
   "execution_count": 15,
   "metadata": {},
   "outputs": [
    {
     "name": "stdout",
     "output_type": "stream",
     "text": [
      "<class 'pandas.core.frame.DataFrame'>\n",
      "RangeIndex: 9641 entries, 0 to 9640\n",
      "Data columns (total 12 columns):\n",
      " #   Column            Non-Null Count  Dtype  \n",
      "---  ------            --------------  -----  \n",
      " 0   retailer          9641 non-null   object \n",
      " 1   retailer_id       9641 non-null   int64  \n",
      " 2   invoice_date      9641 non-null   object \n",
      " 3   region            9641 non-null   object \n",
      " 4   state             9641 non-null   object \n",
      " 5   city              9641 non-null   object \n",
      " 6   product           9641 non-null   object \n",
      " 7   price_per_unit    9641 non-null   float64\n",
      " 8   units_sold        9641 non-null   int64  \n",
      " 9   total_sales       9641 non-null   int64  \n",
      " 10  operating_profit  9641 non-null   object \n",
      " 11  sales_method      9641 non-null   object \n",
      "dtypes: float64(1), int64(3), object(8)\n",
      "memory usage: 904.0+ KB\n"
     ]
    }
   ],
   "source": [
    "df.info()"
   ]
  },
  {
   "cell_type": "markdown",
   "metadata": {},
   "source": [
    "- Calculamos los valores correctos de ***\"total_sales\"***"
   ]
  },
  {
   "cell_type": "code",
   "execution_count": 16,
   "metadata": {},
   "outputs": [],
   "source": [
    "df['total_sales'] = df['price_per_unit'] * df['units_sold']"
   ]
  },
  {
   "cell_type": "code",
   "execution_count": 17,
   "metadata": {},
   "outputs": [
    {
     "data": {
      "text/html": [
       "<div>\n",
       "<style scoped>\n",
       "    .dataframe tbody tr th:only-of-type {\n",
       "        vertical-align: middle;\n",
       "    }\n",
       "\n",
       "    .dataframe tbody tr th {\n",
       "        vertical-align: top;\n",
       "    }\n",
       "\n",
       "    .dataframe thead th {\n",
       "        text-align: right;\n",
       "    }\n",
       "</style>\n",
       "<table border=\"1\" class=\"dataframe\">\n",
       "  <thead>\n",
       "    <tr style=\"text-align: right;\">\n",
       "      <th></th>\n",
       "      <th>retailer</th>\n",
       "      <th>retailer_id</th>\n",
       "      <th>invoice_date</th>\n",
       "      <th>region</th>\n",
       "      <th>state</th>\n",
       "      <th>city</th>\n",
       "      <th>product</th>\n",
       "      <th>price_per_unit</th>\n",
       "      <th>units_sold</th>\n",
       "      <th>total_sales</th>\n",
       "      <th>operating_profit</th>\n",
       "      <th>sales_method</th>\n",
       "    </tr>\n",
       "  </thead>\n",
       "  <tbody>\n",
       "    <tr>\n",
       "      <th>7068</th>\n",
       "      <td>Kohl's</td>\n",
       "      <td>1189833</td>\n",
       "      <td>4/29/2021</td>\n",
       "      <td>West</td>\n",
       "      <td>California</td>\n",
       "      <td>Los Angeles</td>\n",
       "      <td>Men's Apparel</td>\n",
       "      <td>50.0</td>\n",
       "      <td>700</td>\n",
       "      <td>35000.0</td>\n",
       "      <td>$19,250</td>\n",
       "      <td>Outlet</td>\n",
       "    </tr>\n",
       "    <tr>\n",
       "      <th>3836</th>\n",
       "      <td>Foot Locker</td>\n",
       "      <td>1185732</td>\n",
       "      <td>4/17/2021</td>\n",
       "      <td>South</td>\n",
       "      <td>Mississippi</td>\n",
       "      <td>Jackson</td>\n",
       "      <td>Men's Athletic Footwear</td>\n",
       "      <td>20.0</td>\n",
       "      <td>116</td>\n",
       "      <td>2320.0</td>\n",
       "      <td>$93</td>\n",
       "      <td>Outlet</td>\n",
       "    </tr>\n",
       "    <tr>\n",
       "      <th>6079</th>\n",
       "      <td>Amazon</td>\n",
       "      <td>1185732</td>\n",
       "      <td>2/22/2021</td>\n",
       "      <td>West</td>\n",
       "      <td>Alaska</td>\n",
       "      <td>Anchorage</td>\n",
       "      <td>Women's Athletic Footwear</td>\n",
       "      <td>49.0</td>\n",
       "      <td>46</td>\n",
       "      <td>2254.0</td>\n",
       "      <td>$88</td>\n",
       "      <td>Online</td>\n",
       "    </tr>\n",
       "    <tr>\n",
       "      <th>897</th>\n",
       "      <td>Walmart</td>\n",
       "      <td>1128299</td>\n",
       "      <td>6/17/2021</td>\n",
       "      <td>Southeast</td>\n",
       "      <td>Florida</td>\n",
       "      <td>Orlando</td>\n",
       "      <td>Men's Street Footwear</td>\n",
       "      <td>61.0</td>\n",
       "      <td>223</td>\n",
       "      <td>13603.0</td>\n",
       "      <td>$612</td>\n",
       "      <td>Online</td>\n",
       "    </tr>\n",
       "    <tr>\n",
       "      <th>5781</th>\n",
       "      <td>Amazon</td>\n",
       "      <td>1185732</td>\n",
       "      <td>10/12/2021</td>\n",
       "      <td>Northeast</td>\n",
       "      <td>Vermont</td>\n",
       "      <td>Burlington</td>\n",
       "      <td>Men's Apparel</td>\n",
       "      <td>55.0</td>\n",
       "      <td>58</td>\n",
       "      <td>3190.0</td>\n",
       "      <td>$118</td>\n",
       "      <td>Outlet</td>\n",
       "    </tr>\n",
       "  </tbody>\n",
       "</table>\n",
       "</div>"
      ],
      "text/plain": [
       "         retailer  retailer_id invoice_date     region        state  \\\n",
       "7068       Kohl's      1189833    4/29/2021       West   California   \n",
       "3836  Foot Locker      1185732    4/17/2021      South  Mississippi   \n",
       "6079       Amazon      1185732    2/22/2021       West       Alaska   \n",
       "897       Walmart      1128299    6/17/2021  Southeast      Florida   \n",
       "5781       Amazon      1185732   10/12/2021  Northeast      Vermont   \n",
       "\n",
       "             city                    product  price_per_unit  units_sold  \\\n",
       "7068  Los Angeles              Men's Apparel            50.0         700   \n",
       "3836      Jackson    Men's Athletic Footwear            20.0         116   \n",
       "6079    Anchorage  Women's Athletic Footwear            49.0          46   \n",
       "897       Orlando      Men's Street Footwear            61.0         223   \n",
       "5781   Burlington              Men's Apparel            55.0          58   \n",
       "\n",
       "      total_sales operating_profit sales_method  \n",
       "7068      35000.0         $19,250        Outlet  \n",
       "3836       2320.0             $93        Outlet  \n",
       "6079       2254.0             $88        Online  \n",
       "897       13603.0            $612        Online  \n",
       "5781       3190.0            $118        Outlet  "
      ]
     },
     "execution_count": 17,
     "metadata": {},
     "output_type": "execute_result"
    }
   ],
   "source": [
    "df.sample(5)"
   ]
  },
  {
   "cell_type": "code",
   "execution_count": 18,
   "metadata": {},
   "outputs": [],
   "source": [
    "# Eliminamos las filas con resultado 0 en total_sales\n",
    "df = df[df[\"total_sales\"] != 0]"
   ]
  },
  {
   "cell_type": "markdown",
   "metadata": {},
   "source": [
    "- DateTime para ***\"invoice_date\"*** y ordenamos el DataFrame"
   ]
  },
  {
   "cell_type": "code",
   "execution_count": 19,
   "metadata": {},
   "outputs": [],
   "source": [
    "df[\"invoice_date\"] = pd.to_datetime(df[\"invoice_date\"])"
   ]
  },
  {
   "cell_type": "code",
   "execution_count": 20,
   "metadata": {},
   "outputs": [
    {
     "data": {
      "text/html": [
       "<div>\n",
       "<style scoped>\n",
       "    .dataframe tbody tr th:only-of-type {\n",
       "        vertical-align: middle;\n",
       "    }\n",
       "\n",
       "    .dataframe tbody tr th {\n",
       "        vertical-align: top;\n",
       "    }\n",
       "\n",
       "    .dataframe thead th {\n",
       "        text-align: right;\n",
       "    }\n",
       "</style>\n",
       "<table border=\"1\" class=\"dataframe\">\n",
       "  <thead>\n",
       "    <tr style=\"text-align: right;\">\n",
       "      <th></th>\n",
       "      <th>retailer</th>\n",
       "      <th>retailer_id</th>\n",
       "      <th>invoice_date</th>\n",
       "      <th>region</th>\n",
       "      <th>state</th>\n",
       "      <th>city</th>\n",
       "      <th>product</th>\n",
       "      <th>price_per_unit</th>\n",
       "      <th>units_sold</th>\n",
       "      <th>total_sales</th>\n",
       "      <th>operating_profit</th>\n",
       "      <th>sales_method</th>\n",
       "    </tr>\n",
       "  </thead>\n",
       "  <tbody>\n",
       "    <tr>\n",
       "      <th>9189</th>\n",
       "      <td>Foot Locker</td>\n",
       "      <td>1185732</td>\n",
       "      <td>2020-01-01</td>\n",
       "      <td>Northeast</td>\n",
       "      <td>Pennsylvania</td>\n",
       "      <td>Philadelphia</td>\n",
       "      <td>Women's Apparel</td>\n",
       "      <td>75.0</td>\n",
       "      <td>275</td>\n",
       "      <td>20625.0</td>\n",
       "      <td>$6,188</td>\n",
       "      <td>Outlet</td>\n",
       "    </tr>\n",
       "    <tr>\n",
       "      <th>4937</th>\n",
       "      <td>Foot Locker</td>\n",
       "      <td>1185732</td>\n",
       "      <td>2020-01-01</td>\n",
       "      <td>Northeast</td>\n",
       "      <td>Pennsylvania</td>\n",
       "      <td>Philadelphia</td>\n",
       "      <td>Women's Apparel</td>\n",
       "      <td>53.0</td>\n",
       "      <td>83</td>\n",
       "      <td>4399.0</td>\n",
       "      <td>$141</td>\n",
       "      <td>Outlet</td>\n",
       "    </tr>\n",
       "    <tr>\n",
       "      <th>30</th>\n",
       "      <td>Foot Locker</td>\n",
       "      <td>1185732</td>\n",
       "      <td>2020-01-01</td>\n",
       "      <td>Northeast</td>\n",
       "      <td>New York</td>\n",
       "      <td>New York</td>\n",
       "      <td>Men's Street Footwear</td>\n",
       "      <td>34.0</td>\n",
       "      <td>384</td>\n",
       "      <td>13056.0</td>\n",
       "      <td>$679</td>\n",
       "      <td>Outlet</td>\n",
       "    </tr>\n",
       "    <tr>\n",
       "      <th>4908</th>\n",
       "      <td>Foot Locker</td>\n",
       "      <td>1185732</td>\n",
       "      <td>2020-01-01</td>\n",
       "      <td>Northeast</td>\n",
       "      <td>Pennsylvania</td>\n",
       "      <td>Philadelphia</td>\n",
       "      <td>Women's Apparel</td>\n",
       "      <td>68.0</td>\n",
       "      <td>83</td>\n",
       "      <td>5644.0</td>\n",
       "      <td>$243</td>\n",
       "      <td>Online</td>\n",
       "    </tr>\n",
       "    <tr>\n",
       "      <th>79</th>\n",
       "      <td>Foot Locker</td>\n",
       "      <td>1185732</td>\n",
       "      <td>2020-01-01</td>\n",
       "      <td>Northeast</td>\n",
       "      <td>New York</td>\n",
       "      <td>New York</td>\n",
       "      <td>Men's Street Footwear</td>\n",
       "      <td>47.0</td>\n",
       "      <td>336</td>\n",
       "      <td>15792.0</td>\n",
       "      <td>$963</td>\n",
       "      <td>Online</td>\n",
       "    </tr>\n",
       "    <tr>\n",
       "      <th>6562</th>\n",
       "      <td>Foot Locker</td>\n",
       "      <td>1185732</td>\n",
       "      <td>2020-01-01</td>\n",
       "      <td>Northeast</td>\n",
       "      <td>New York</td>\n",
       "      <td>New York</td>\n",
       "      <td>Men's Street Footwear</td>\n",
       "      <td>50.0</td>\n",
       "      <td>1200</td>\n",
       "      <td>60000.0</td>\n",
       "      <td>$30,000</td>\n",
       "      <td>In-store</td>\n",
       "    </tr>\n",
       "    <tr>\n",
       "      <th>6588</th>\n",
       "      <td>Foot Locker</td>\n",
       "      <td>1185732</td>\n",
       "      <td>2020-01-02</td>\n",
       "      <td>Northeast</td>\n",
       "      <td>New York</td>\n",
       "      <td>New York</td>\n",
       "      <td>Men's Athletic Footwear</td>\n",
       "      <td>50.0</td>\n",
       "      <td>1000</td>\n",
       "      <td>50000.0</td>\n",
       "      <td>$15,000</td>\n",
       "      <td>In-store</td>\n",
       "    </tr>\n",
       "    <tr>\n",
       "      <th>117</th>\n",
       "      <td>Foot Locker</td>\n",
       "      <td>1185732</td>\n",
       "      <td>2020-01-02</td>\n",
       "      <td>Northeast</td>\n",
       "      <td>New York</td>\n",
       "      <td>New York</td>\n",
       "      <td>Men's Athletic Footwear</td>\n",
       "      <td>36.0</td>\n",
       "      <td>320</td>\n",
       "      <td>11520.0</td>\n",
       "      <td>$403</td>\n",
       "      <td>Outlet</td>\n",
       "    </tr>\n",
       "  </tbody>\n",
       "</table>\n",
       "</div>"
      ],
      "text/plain": [
       "         retailer  retailer_id invoice_date     region         state  \\\n",
       "9189  Foot Locker      1185732   2020-01-01  Northeast  Pennsylvania   \n",
       "4937  Foot Locker      1185732   2020-01-01  Northeast  Pennsylvania   \n",
       "30    Foot Locker      1185732   2020-01-01  Northeast      New York   \n",
       "4908  Foot Locker      1185732   2020-01-01  Northeast  Pennsylvania   \n",
       "79    Foot Locker      1185732   2020-01-01  Northeast      New York   \n",
       "6562  Foot Locker      1185732   2020-01-01  Northeast      New York   \n",
       "6588  Foot Locker      1185732   2020-01-02  Northeast      New York   \n",
       "117   Foot Locker      1185732   2020-01-02  Northeast      New York   \n",
       "\n",
       "              city                  product  price_per_unit  units_sold  \\\n",
       "9189  Philadelphia          Women's Apparel            75.0         275   \n",
       "4937  Philadelphia          Women's Apparel            53.0          83   \n",
       "30        New York    Men's Street Footwear            34.0         384   \n",
       "4908  Philadelphia          Women's Apparel            68.0          83   \n",
       "79        New York    Men's Street Footwear            47.0         336   \n",
       "6562      New York    Men's Street Footwear            50.0        1200   \n",
       "6588      New York  Men's Athletic Footwear            50.0        1000   \n",
       "117       New York  Men's Athletic Footwear            36.0         320   \n",
       "\n",
       "      total_sales operating_profit sales_method  \n",
       "9189      20625.0          $6,188        Outlet  \n",
       "4937       4399.0            $141        Outlet  \n",
       "30        13056.0            $679        Outlet  \n",
       "4908       5644.0            $243        Online  \n",
       "79        15792.0            $963        Online  \n",
       "6562      60000.0         $30,000      In-store  \n",
       "6588      50000.0         $15,000      In-store  \n",
       "117       11520.0            $403        Outlet  "
      ]
     },
     "execution_count": 20,
     "metadata": {},
     "output_type": "execute_result"
    }
   ],
   "source": [
    "df = df.sort_values(by=\"invoice_date\")\n",
    "df.head(8)"
   ]
  },
  {
   "cell_type": "code",
   "execution_count": 21,
   "metadata": {},
   "outputs": [
    {
     "data": {
      "text/plain": [
       "retailer            0\n",
       "retailer_id         0\n",
       "invoice_date        0\n",
       "region              0\n",
       "state               0\n",
       "city                0\n",
       "product             0\n",
       "price_per_unit      0\n",
       "units_sold          0\n",
       "total_sales         0\n",
       "operating_profit    0\n",
       "sales_method        0\n",
       "dtype: int64"
      ]
     },
     "execution_count": 21,
     "metadata": {},
     "output_type": "execute_result"
    }
   ],
   "source": [
    "df.isnull().sum()"
   ]
  },
  {
   "cell_type": "markdown",
   "metadata": {},
   "source": [
    "- Eliminamos columnas irrelevantes y hacemos una copia de seguridad del dataset"
   ]
  },
  {
   "cell_type": "code",
   "execution_count": 22,
   "metadata": {},
   "outputs": [],
   "source": [
    "df = df.drop(columns=[\"retailer_id\", \"operating_profit\", \"sales_method\"])\n",
    "\n",
    "# \"operation_profit\" se elimina porque no tenemos contexto sobre los gastos para entender realmente el profit"
   ]
  },
  {
   "cell_type": "markdown",
   "metadata": {},
   "source": [
    "- Una vista rápida para saber si está todo en orden"
   ]
  },
  {
   "cell_type": "code",
   "execution_count": 23,
   "metadata": {},
   "outputs": [
    {
     "name": "stdout",
     "output_type": "stream",
     "text": [
      "<class 'pandas.core.frame.DataFrame'>\n",
      "Index: 9637 entries, 9189 to 9605\n",
      "Data columns (total 9 columns):\n",
      " #   Column          Non-Null Count  Dtype         \n",
      "---  ------          --------------  -----         \n",
      " 0   retailer        9637 non-null   object        \n",
      " 1   invoice_date    9637 non-null   datetime64[ns]\n",
      " 2   region          9637 non-null   object        \n",
      " 3   state           9637 non-null   object        \n",
      " 4   city            9637 non-null   object        \n",
      " 5   product         9637 non-null   object        \n",
      " 6   price_per_unit  9637 non-null   float64       \n",
      " 7   units_sold      9637 non-null   int64         \n",
      " 8   total_sales     9637 non-null   float64       \n",
      "dtypes: datetime64[ns](1), float64(2), int64(1), object(5)\n",
      "memory usage: 752.9+ KB\n"
     ]
    }
   ],
   "source": [
    "df.info()"
   ]
  },
  {
   "cell_type": "code",
   "execution_count": 24,
   "metadata": {},
   "outputs": [
    {
     "data": {
      "text/plain": [
       "region\n",
       "West         2446\n",
       "Northeast    2376\n",
       "Midwest      1865\n",
       "South        1726\n",
       "Southeast    1224\n",
       "Name: count, dtype: int64"
      ]
     },
     "execution_count": 24,
     "metadata": {},
     "output_type": "execute_result"
    }
   ],
   "source": [
    "df.region.value_counts()"
   ]
  },
  {
   "cell_type": "code",
   "execution_count": 25,
   "metadata": {},
   "outputs": [
    {
     "data": {
      "text/plain": [
       "state\n",
       "Texas             430\n",
       "California        430\n",
       "Florida           360\n",
       "New York          360\n",
       "Pennsylvania      216\n",
       "Arkansas          216\n",
       "Oklahoma          216\n",
       "Rhode Island      216\n",
       "Oregon            216\n",
       "Virginia          216\n",
       "Vermont           216\n",
       "Mississippi       216\n",
       "Idaho             216\n",
       "Utah              216\n",
       "New Hampshire     216\n",
       "Arizona           216\n",
       "Tennessee         216\n",
       "Massachusetts     216\n",
       "New Mexico        216\n",
       "Alabama           216\n",
       "Nevada            216\n",
       "Connecticut       216\n",
       "Georgia           216\n",
       "Louisiana         216\n",
       "Kentucky          144\n",
       "Colorado          144\n",
       "Washington        144\n",
       "West Virginia     144\n",
       "Wyoming           144\n",
       "Minnesota         144\n",
       "Montana           144\n",
       "Iowa              144\n",
       "Ohio              144\n",
       "North Dakota      144\n",
       "Alaska            144\n",
       "Wisconsin         144\n",
       "Michigan          144\n",
       "Maryland          144\n",
       "New Jersey        144\n",
       "Indiana           144\n",
       "Hawaii            144\n",
       "South Dakota      144\n",
       "Maine             144\n",
       "North Carolina    144\n",
       "Kansas            144\n",
       "Missouri          144\n",
       "Delaware          144\n",
       "South Carolina    144\n",
       "Illinois          141\n",
       "Nebraska          140\n",
       "Name: count, dtype: int64"
      ]
     },
     "execution_count": 25,
     "metadata": {},
     "output_type": "execute_result"
    }
   ],
   "source": [
    "df.state.value_counts()"
   ]
  },
  {
   "cell_type": "code",
   "execution_count": 26,
   "metadata": {},
   "outputs": [
    {
     "data": {
      "text/plain": [
       "city\n",
       "Portland          360\n",
       "Charleston        288\n",
       "Little Rock       216\n",
       "New York          216\n",
       "Boston            216\n",
       "Oklahoma City     216\n",
       "Providence        216\n",
       "Richmond          216\n",
       "Burlington        216\n",
       "Philadelphia      216\n",
       "Orlando           216\n",
       "Jackson           216\n",
       "Salt Lake City    216\n",
       "Manchester        216\n",
       "Phoenix           216\n",
       "Los Angeles       216\n",
       "Knoxville         216\n",
       "Birmingham        216\n",
       "Boise             216\n",
       "Albuquerque       216\n",
       "Dallas            216\n",
       "Las Vegas         216\n",
       "Hartford          216\n",
       "Atlanta           216\n",
       "New Orleans       216\n",
       "Houston           214\n",
       "San Francisco     214\n",
       "Wilmington        144\n",
       "Denver            144\n",
       "Miami             144\n",
       "Seattle           144\n",
       "Cheyenne          144\n",
       "Minneapolis       144\n",
       "Billings          144\n",
       "Des Moines        144\n",
       "Columbus          144\n",
       "Milwaukee         144\n",
       "Fargo             144\n",
       "Detroit           144\n",
       "Baltimore         144\n",
       "Indianapolis      144\n",
       "Newark            144\n",
       "Honolulu          144\n",
       "Albany            144\n",
       "Sioux Falls       144\n",
       "Charlotte         144\n",
       "Anchorage         144\n",
       "Wichita           144\n",
       "St. Louis         144\n",
       "Louisville        144\n",
       "Chicago           141\n",
       "Omaha             140\n",
       "Name: count, dtype: int64"
      ]
     },
     "execution_count": 26,
     "metadata": {},
     "output_type": "execute_result"
    }
   ],
   "source": [
    "df.city.value_counts()"
   ]
  },
  {
   "cell_type": "code",
   "execution_count": 27,
   "metadata": {},
   "outputs": [
    {
     "data": {
      "text/plain": [
       "product\n",
       "Men's Street Footwear        1610\n",
       "Men's Athletic Footwear      1608\n",
       "Women's Apparel              1607\n",
       "Women's Street Footwear      1606\n",
       "Men's Apparel                1604\n",
       "Women's Athletic Footwear    1601\n",
       "Men's aparel                    1\n",
       "Name: count, dtype: int64"
      ]
     },
     "execution_count": 27,
     "metadata": {},
     "output_type": "execute_result"
    }
   ],
   "source": [
    "df[\"product\"].value_counts()"
   ]
  },
  {
   "cell_type": "code",
   "execution_count": 28,
   "metadata": {},
   "outputs": [
    {
     "data": {
      "text/plain": [
       "product\n",
       "Men's Street Footwear        1610\n",
       "Men's Athletic Footwear      1608\n",
       "Women's Apparel              1607\n",
       "Women's Street Footwear      1606\n",
       "Men's Apparel                1605\n",
       "Women's Athletic Footwear    1601\n",
       "Name: count, dtype: int64"
      ]
     },
     "execution_count": 28,
     "metadata": {},
     "output_type": "execute_result"
    }
   ],
   "source": [
    "# Error de ortografía\n",
    "df[\"product\"] = df[\"product\"].replace({\"Men's aparel\": \"Men's Apparel\"})\n",
    "df[\"product\"].value_counts()"
   ]
  },
  {
   "cell_type": "code",
   "execution_count": 29,
   "metadata": {},
   "outputs": [
    {
     "data": {
      "text/plain": [
       "retailer\n",
       "Foot Locker      2630\n",
       "West Gear        2372\n",
       "Sports Direct    2030\n",
       "Kohl's           1030\n",
       "Amazon            949\n",
       "Walmart           626\n",
       "Name: count, dtype: int64"
      ]
     },
     "execution_count": 29,
     "metadata": {},
     "output_type": "execute_result"
    }
   ],
   "source": [
    "df.retailer.value_counts()"
   ]
  },
  {
   "cell_type": "markdown",
   "metadata": {},
   "source": [
    "Vemos nuestro target\n"
   ]
  },
  {
   "cell_type": "code",
   "execution_count": 30,
   "metadata": {},
   "outputs": [
    {
     "data": {
      "text/plain": [
       "<Axes: xlabel='total_sales', ylabel='Count'>"
      ]
     },
     "execution_count": 30,
     "metadata": {},
     "output_type": "execute_result"
    },
    {
     "data": {
      "image/png": "[encoded data removed]",
      "text/plain": [
       "<Figure size 640x480 with 1 Axes>"
      ]
     },
     "metadata": {},
     "output_type": "display_data"
    }
   ],
   "source": [
    "sns.histplot(df[\"total_sales\"], kde = True)"
   ]
  },
  {
   "cell_type": "code",
   "execution_count": 31,
   "metadata": {},
   "outputs": [
    {
     "data": {
      "text/plain": [
       "<Axes: xlabel='total_sales'>"
      ]
     },
     "execution_count": 31,
     "metadata": {},
     "output_type": "execute_result"
    },
    {
     "data": {
      "image/png": "[encoded data removed]",
      "text/plain": [
       "<Figure size 640x480 with 1 Axes>"
      ]
     },
     "metadata": {},
     "output_type": "display_data"
    }
   ],
   "source": [
    "sns.boxplot(x=df[\"total_sales\"])"
   ]
  },
  {
   "cell_type": "markdown",
   "metadata": {},
   "source": [
    "Hay una distribución asimétrica porque habrán muchas tiendas que tengan niveles bajos o moderados. Pocas tiendas logran grandes facturaciones."
   ]
  },
  {
   "cell_type": "code",
   "execution_count": 32,
   "metadata": {},
   "outputs": [],
   "source": [
    "# quiero eliminar los outliers de total_sales\n",
    "df = df[df[\"total_sales\"] < 60000]"
   ]
  },
  {
   "cell_type": "markdown",
   "metadata": {},
   "source": [
    "Nuestro modelo puede verse afectado por esta distribución asimetrica, debemos hacer una transformación logaritmica más adelante."
   ]
  },
  {
   "cell_type": "code",
   "execution_count": 33,
   "metadata": {},
   "outputs": [
    {
     "data": {
      "text/plain": [
       "<Axes: xlabel='total_sales', ylabel='Count'>"
      ]
     },
     "execution_count": 33,
     "metadata": {},
     "output_type": "execute_result"
    },
    {
     "data": {
      "image/png": "[encoded data removed]",
      "text/plain": [
       "<Figure size 640x480 with 1 Axes>"
      ]
     },
     "metadata": {},
     "output_type": "display_data"
    }
   ],
   "source": [
    "sns.histplot(df[\"total_sales\"], kde = True)"
   ]
  },
  {
   "cell_type": "markdown",
   "metadata": {},
   "source": [
    "CREACION DE LOS DATASETS POR RETAILER"
   ]
  },
  {
   "cell_type": "code",
   "execution_count": 34,
   "metadata": {},
   "outputs": [
    {
     "data": {
      "text/plain": [
       "retailer\n",
       "Foot Locker      2603\n",
       "West Gear        2339\n",
       "Sports Direct    2023\n",
       "Kohl's           1030\n",
       "Amazon            948\n",
       "Walmart           608\n",
       "Name: count, dtype: int64"
      ]
     },
     "execution_count": 34,
     "metadata": {},
     "output_type": "execute_result"
    }
   ],
   "source": [
    "df[\"retailer\"].value_counts()"
   ]
  },
  {
   "cell_type": "code",
   "execution_count": 41,
   "metadata": {},
   "outputs": [],
   "source": [
    "df_footlocker = df[df[\"retailer\"] == \"Foot Locker\"]\n",
    "df_westgear = df[df[\"retailer\"] == \"West Gear\"]\n",
    "df_sportsdirect = df[df[\"retailer\"] == \"Sports Direct\"]\n",
    "df_kohls = df[df[\"retailer\"] == \"Kohl's\"]\n",
    "df_amazon = df[df[\"retailer\"] == \"Amazon\"]\n",
    "df_walmart = df[df[\"retailer\"] == \"Walmart\"]"
   ]
  },
  {
   "cell_type": "code",
   "execution_count": 129,
   "metadata": {},
   "outputs": [],
   "source": [
    "# Comentamos el código para no ejecutarlo de nuevo, pero este sería el dataset limpiado\n",
    "df.to_csv(\"../data/adidas_sales_cleaneddd.csv\", index=False)"
   ]
  },
  {
   "cell_type": "code",
   "execution_count": 45,
   "metadata": {},
   "outputs": [
    {
     "name": "stdout",
     "output_type": "stream",
     "text": [
      "---Foot Locker---\n",
      "count     2603.000000\n",
      "mean     10441.507876\n",
      "std      10939.648917\n",
      "min        160.000000\n",
      "25%       3133.500000\n",
      "50%       6574.000000\n",
      "75%      13159.000000\n",
      "max      58500.000000\n",
      "Name: total_sales, dtype: float64\n",
      "---West Gear---\n",
      "count     2339.000000\n",
      "mean     12864.764002\n",
      "std      12603.170589\n",
      "min        203.000000\n",
      "25%       4215.000000\n",
      "50%       8316.000000\n",
      "75%      16252.000000\n",
      "max      59500.000000\n",
      "Name: total_sales, dtype: float64\n",
      "---Sports Direct---\n",
      "count     2023.000000\n",
      "mean     11912.072170\n",
      "std      11266.506143\n",
      "min        528.000000\n",
      "25%       4217.000000\n",
      "50%       7500.000000\n",
      "75%      15625.000000\n",
      "max      59500.000000\n",
      "Name: total_sales, dtype: float64\n",
      "---Kohl's---\n",
      "count     1030.000000\n",
      "mean     13118.886408\n",
      "std      11122.789865\n",
      "min        520.000000\n",
      "25%       5336.750000\n",
      "50%       8243.000000\n",
      "75%      20000.000000\n",
      "max      52000.000000\n",
      "Name: total_sales, dtype: float64\n",
      "---Amazon---\n",
      "count      948.000000\n",
      "mean     10585.561181\n",
      "std       9822.157818\n",
      "min        416.000000\n",
      "25%       3728.250000\n",
      "50%       6875.000000\n",
      "75%      14281.250000\n",
      "max      58500.000000\n",
      "Name: total_sales, dtype: float64\n",
      "---Walmart---\n",
      "count      608.000000\n",
      "mean     15172.425987\n",
      "std      13399.702529\n",
      "min        880.000000\n",
      "25%       6157.500000\n",
      "50%      10063.500000\n",
      "75%      19373.500000\n",
      "max      59500.000000\n",
      "Name: total_sales, dtype: float64\n"
     ]
    }
   ],
   "source": [
    "print(\"---Foot Locker---\")\n",
    "print(df_footlocker[\"total_sales\"].describe())\n",
    "print(\"---West Gear---\")\n",
    "print(df_westgear[\"total_sales\"].describe())\n",
    "print(\"---Sports Direct---\")\n",
    "print(df_sportsdirect[\"total_sales\"].describe())\n",
    "print(\"---Kohl's---\")\n",
    "print(df_kohls[\"total_sales\"].describe())\n",
    "print(\"---Amazon---\")\n",
    "print(df_amazon[\"total_sales\"].describe())\n",
    "print(\"---Walmart---\")\n",
    "print(df_walmart[\"total_sales\"].describe())\n"
   ]
  },
  {
   "cell_type": "code",
   "execution_count": 46,
   "metadata": {},
   "outputs": [],
   "source": [
    "df_footlocker.to_csv(\"../data/adidas_sales_footlocker.csv\", index=False)\n",
    "df_westgear.to_csv(\"../data/adidas_sales_westgear.csv\", index=False)\n",
    "df_sportsdirect.to_csv(\"../data/adidas_sales_sportsdirect.csv\", index=False)\n",
    "df_kohls.to_csv(\"../data/adidas_sales_kohls.csv\", index=False)\n",
    "df_amazon.to_csv(\"../data/adidas_sales_amazon.csv\", index=False)\n",
    "df_walmart.to_csv(\"../data/adidas_sales_walmart.csv\", index=False)"
   ]
  },
  {
   "cell_type": "markdown",
   "metadata": {},
   "source": [
    "# ✅ Step 4: Train y Test.\n"
   ]
  },
  {
   "cell_type": "code",
   "execution_count": 130,
   "metadata": {},
   "outputs": [],
   "source": [
    "df_cleaned = pd.read_csv(\"../data/adidas_sales_cleaneddd.csv\", parse_dates=[\"invoice_date\"], index_col=False)"
   ]
  },
  {
   "cell_type": "code",
   "execution_count": 131,
   "metadata": {},
   "outputs": [
    {
     "data": {
      "text/html": [
       "<div>\n",
       "<style scoped>\n",
       "    .dataframe tbody tr th:only-of-type {\n",
       "        vertical-align: middle;\n",
       "    }\n",
       "\n",
       "    .dataframe tbody tr th {\n",
       "        vertical-align: top;\n",
       "    }\n",
       "\n",
       "    .dataframe thead th {\n",
       "        text-align: right;\n",
       "    }\n",
       "</style>\n",
       "<table border=\"1\" class=\"dataframe\">\n",
       "  <thead>\n",
       "    <tr style=\"text-align: right;\">\n",
       "      <th></th>\n",
       "      <th>retailer</th>\n",
       "      <th>invoice_date</th>\n",
       "      <th>region</th>\n",
       "      <th>state</th>\n",
       "      <th>city</th>\n",
       "      <th>product</th>\n",
       "      <th>price_per_unit</th>\n",
       "      <th>units_sold</th>\n",
       "      <th>total_sales</th>\n",
       "    </tr>\n",
       "  </thead>\n",
       "  <tbody>\n",
       "    <tr>\n",
       "      <th>0</th>\n",
       "      <td>Foot Locker</td>\n",
       "      <td>2020-01-01</td>\n",
       "      <td>Northeast</td>\n",
       "      <td>Pennsylvania</td>\n",
       "      <td>Philadelphia</td>\n",
       "      <td>Women's Apparel</td>\n",
       "      <td>75.0</td>\n",
       "      <td>275</td>\n",
       "      <td>20625.0</td>\n",
       "    </tr>\n",
       "    <tr>\n",
       "      <th>1</th>\n",
       "      <td>Foot Locker</td>\n",
       "      <td>2020-01-01</td>\n",
       "      <td>Northeast</td>\n",
       "      <td>Pennsylvania</td>\n",
       "      <td>Philadelphia</td>\n",
       "      <td>Women's Apparel</td>\n",
       "      <td>53.0</td>\n",
       "      <td>83</td>\n",
       "      <td>4399.0</td>\n",
       "    </tr>\n",
       "    <tr>\n",
       "      <th>2</th>\n",
       "      <td>Foot Locker</td>\n",
       "      <td>2020-01-01</td>\n",
       "      <td>Northeast</td>\n",
       "      <td>New York</td>\n",
       "      <td>New York</td>\n",
       "      <td>Men's Street Footwear</td>\n",
       "      <td>34.0</td>\n",
       "      <td>384</td>\n",
       "      <td>13056.0</td>\n",
       "    </tr>\n",
       "    <tr>\n",
       "      <th>3</th>\n",
       "      <td>Foot Locker</td>\n",
       "      <td>2020-01-01</td>\n",
       "      <td>Northeast</td>\n",
       "      <td>Pennsylvania</td>\n",
       "      <td>Philadelphia</td>\n",
       "      <td>Women's Apparel</td>\n",
       "      <td>68.0</td>\n",
       "      <td>83</td>\n",
       "      <td>5644.0</td>\n",
       "    </tr>\n",
       "    <tr>\n",
       "      <th>4</th>\n",
       "      <td>Foot Locker</td>\n",
       "      <td>2020-01-01</td>\n",
       "      <td>Northeast</td>\n",
       "      <td>New York</td>\n",
       "      <td>New York</td>\n",
       "      <td>Men's Street Footwear</td>\n",
       "      <td>47.0</td>\n",
       "      <td>336</td>\n",
       "      <td>15792.0</td>\n",
       "    </tr>\n",
       "    <tr>\n",
       "      <th>...</th>\n",
       "      <td>...</td>\n",
       "      <td>...</td>\n",
       "      <td>...</td>\n",
       "      <td>...</td>\n",
       "      <td>...</td>\n",
       "      <td>...</td>\n",
       "      <td>...</td>\n",
       "      <td>...</td>\n",
       "      <td>...</td>\n",
       "    </tr>\n",
       "    <tr>\n",
       "      <th>9546</th>\n",
       "      <td>Foot Locker</td>\n",
       "      <td>2021-12-31</td>\n",
       "      <td>Northeast</td>\n",
       "      <td>Pennsylvania</td>\n",
       "      <td>Philadelphia</td>\n",
       "      <td>Men's Apparel</td>\n",
       "      <td>63.0</td>\n",
       "      <td>47</td>\n",
       "      <td>2961.0</td>\n",
       "    </tr>\n",
       "    <tr>\n",
       "      <th>9547</th>\n",
       "      <td>Amazon</td>\n",
       "      <td>2021-12-31</td>\n",
       "      <td>Northeast</td>\n",
       "      <td>Maine</td>\n",
       "      <td>Portland</td>\n",
       "      <td>Men's Apparel</td>\n",
       "      <td>55.0</td>\n",
       "      <td>125</td>\n",
       "      <td>6875.0</td>\n",
       "    </tr>\n",
       "    <tr>\n",
       "      <th>9548</th>\n",
       "      <td>Foot Locker</td>\n",
       "      <td>2021-12-31</td>\n",
       "      <td>Northeast</td>\n",
       "      <td>Pennsylvania</td>\n",
       "      <td>Philadelphia</td>\n",
       "      <td>Men's Apparel</td>\n",
       "      <td>46.0</td>\n",
       "      <td>56</td>\n",
       "      <td>2576.0</td>\n",
       "    </tr>\n",
       "    <tr>\n",
       "      <th>9549</th>\n",
       "      <td>Amazon</td>\n",
       "      <td>2021-12-31</td>\n",
       "      <td>Northeast</td>\n",
       "      <td>Maine</td>\n",
       "      <td>Portland</td>\n",
       "      <td>Men's Apparel</td>\n",
       "      <td>52.0</td>\n",
       "      <td>36</td>\n",
       "      <td>1872.0</td>\n",
       "    </tr>\n",
       "    <tr>\n",
       "      <th>9550</th>\n",
       "      <td>Foot Locker</td>\n",
       "      <td>2021-12-31</td>\n",
       "      <td>Northeast</td>\n",
       "      <td>Pennsylvania</td>\n",
       "      <td>Philadelphia</td>\n",
       "      <td>Men's Apparel</td>\n",
       "      <td>70.0</td>\n",
       "      <td>175</td>\n",
       "      <td>12250.0</td>\n",
       "    </tr>\n",
       "  </tbody>\n",
       "</table>\n",
       "<p>9551 rows × 9 columns</p>\n",
       "</div>"
      ],
      "text/plain": [
       "         retailer invoice_date     region         state          city  \\\n",
       "0     Foot Locker   2020-01-01  Northeast  Pennsylvania  Philadelphia   \n",
       "1     Foot Locker   2020-01-01  Northeast  Pennsylvania  Philadelphia   \n",
       "2     Foot Locker   2020-01-01  Northeast      New York      New York   \n",
       "3     Foot Locker   2020-01-01  Northeast  Pennsylvania  Philadelphia   \n",
       "4     Foot Locker   2020-01-01  Northeast      New York      New York   \n",
       "...           ...          ...        ...           ...           ...   \n",
       "9546  Foot Locker   2021-12-31  Northeast  Pennsylvania  Philadelphia   \n",
       "9547       Amazon   2021-12-31  Northeast         Maine      Portland   \n",
       "9548  Foot Locker   2021-12-31  Northeast  Pennsylvania  Philadelphia   \n",
       "9549       Amazon   2021-12-31  Northeast         Maine      Portland   \n",
       "9550  Foot Locker   2021-12-31  Northeast  Pennsylvania  Philadelphia   \n",
       "\n",
       "                    product  price_per_unit  units_sold  total_sales  \n",
       "0           Women's Apparel            75.0         275      20625.0  \n",
       "1           Women's Apparel            53.0          83       4399.0  \n",
       "2     Men's Street Footwear            34.0         384      13056.0  \n",
       "3           Women's Apparel            68.0          83       5644.0  \n",
       "4     Men's Street Footwear            47.0         336      15792.0  \n",
       "...                     ...             ...         ...          ...  \n",
       "9546          Men's Apparel            63.0          47       2961.0  \n",
       "9547          Men's Apparel            55.0         125       6875.0  \n",
       "9548          Men's Apparel            46.0          56       2576.0  \n",
       "9549          Men's Apparel            52.0          36       1872.0  \n",
       "9550          Men's Apparel            70.0         175      12250.0  \n",
       "\n",
       "[9551 rows x 9 columns]"
      ]
     },
     "execution_count": 131,
     "metadata": {},
     "output_type": "execute_result"
    }
   ],
   "source": [
    "df_cleaned"
   ]
  },
  {
   "cell_type": "code",
   "execution_count": 132,
   "metadata": {},
   "outputs": [
    {
     "name": "stdout",
     "output_type": "stream",
     "text": [
      "<class 'pandas.core.frame.DataFrame'>\n",
      "RangeIndex: 9551 entries, 0 to 9550\n",
      "Data columns (total 9 columns):\n",
      " #   Column          Non-Null Count  Dtype         \n",
      "---  ------          --------------  -----         \n",
      " 0   retailer        9551 non-null   object        \n",
      " 1   invoice_date    9551 non-null   datetime64[ns]\n",
      " 2   region          9551 non-null   object        \n",
      " 3   state           9551 non-null   object        \n",
      " 4   city            9551 non-null   object        \n",
      " 5   product         9551 non-null   object        \n",
      " 6   price_per_unit  9551 non-null   float64       \n",
      " 7   units_sold      9551 non-null   int64         \n",
      " 8   total_sales     9551 non-null   float64       \n",
      "dtypes: datetime64[ns](1), float64(2), int64(1), object(5)\n",
      "memory usage: 671.7+ KB\n"
     ]
    }
   ],
   "source": [
    "df_cleaned.info()"
   ]
  },
  {
   "cell_type": "markdown",
   "metadata": {},
   "source": [
    "A. PREDECIR LA FACTURACIÓN DE LAS TIENDAS DISTRIBUIDORAS"
   ]
  },
  {
   "cell_type": "code",
   "execution_count": 133,
   "metadata": {},
   "outputs": [],
   "source": [
    "from sklearn.model_selection import train_test_split\n",
    "\n",
    "# Dividir el dataset en train y test\n",
    "X = df.drop(columns=['total_sales', \"units_sold\"])\n",
    "y = df['total_sales']\n",
    "\n",
    "X_train, X_test, y_train, y_test = train_test_split(X, y, test_size=0.2, random_state=42)"
   ]
  },
  {
   "cell_type": "markdown",
   "metadata": {},
   "source": [
    "----------------"
   ]
  },
  {
   "cell_type": "markdown",
   "metadata": {},
   "source": [
    "B. PREVENCIÓN A LA ROTURA DE STOCK Y MEJORA EN COSTES"
   ]
  },
  {
   "cell_type": "code",
   "execution_count": null,
   "metadata": {},
   "outputs": [],
   "source": []
  },
  {
   "cell_type": "code",
   "execution_count": null,
   "metadata": {},
   "outputs": [],
   "source": []
  },
  {
   "cell_type": "code",
   "execution_count": null,
   "metadata": {},
   "outputs": [],
   "source": []
  },
  {
   "cell_type": "markdown",
   "metadata": {},
   "source": [
    "# ✅ Step 5: Mini Eda + Preparación del dataset\n"
   ]
  },
  {
   "cell_type": "markdown",
   "metadata": {},
   "source": [
    "A. PREDECIR LA FACTURACIÓN DE LAS TIENDAS DISTRIBUIDORAS"
   ]
  },
  {
   "cell_type": "code",
   "execution_count": 134,
   "metadata": {},
   "outputs": [
    {
     "data": {
      "text/plain": [
       "Index(['retailer', 'invoice_date', 'region', 'state', 'city', 'product',\n",
       "       'price_per_unit'],\n",
       "      dtype='object')"
      ]
     },
     "execution_count": 134,
     "metadata": {},
     "output_type": "execute_result"
    }
   ],
   "source": [
    "X_train.columns"
   ]
  },
  {
   "cell_type": "code",
   "execution_count": 135,
   "metadata": {},
   "outputs": [],
   "source": [
    "X_train['month'] = X_train['invoice_date'].dt.month\n",
    "X_train['day_of_week'] = X_train['invoice_date'].dt.dayofweek  # Lunes=0, Domingo=6\n",
    "#X_train[\"quarter\"] = X_train[\"invoice_date\"].dt.quarter\n",
    "\n",
    "\n",
    "X_test['month'] = X_test['invoice_date'].dt.month\n",
    "X_test['day_of_week'] = X_test['invoice_date'].dt.dayofweek  # Lunes=0, Domingo=6\n",
    "#X_test[\"quarter\"] = X_test[\"invoice_date\"].dt.quarter"
   ]
  },
  {
   "cell_type": "code",
   "execution_count": 136,
   "metadata": {},
   "outputs": [],
   "source": [
    "X_train = X_train.drop(columns=['invoice_date', 'city', \"units_sold\"], errors=\"ignore\")\n",
    "X_test = X_test.drop(columns=['invoice_date', 'city', \"units_sold\"], errors=\"ignore\")"
   ]
  },
  {
   "cell_type": "code",
   "execution_count": 137,
   "metadata": {},
   "outputs": [
    {
     "data": {
      "text/html": [
       "<div>\n",
       "<style scoped>\n",
       "    .dataframe tbody tr th:only-of-type {\n",
       "        vertical-align: middle;\n",
       "    }\n",
       "\n",
       "    .dataframe tbody tr th {\n",
       "        vertical-align: top;\n",
       "    }\n",
       "\n",
       "    .dataframe thead th {\n",
       "        text-align: right;\n",
       "    }\n",
       "</style>\n",
       "<table border=\"1\" class=\"dataframe\">\n",
       "  <thead>\n",
       "    <tr style=\"text-align: right;\">\n",
       "      <th></th>\n",
       "      <th>retailer</th>\n",
       "      <th>region</th>\n",
       "      <th>state</th>\n",
       "      <th>product</th>\n",
       "      <th>price_per_unit</th>\n",
       "      <th>month</th>\n",
       "      <th>day_of_week</th>\n",
       "    </tr>\n",
       "  </thead>\n",
       "  <tbody>\n",
       "    <tr>\n",
       "      <th>8312</th>\n",
       "      <td>Foot Locker</td>\n",
       "      <td>Midwest</td>\n",
       "      <td>Minnesota</td>\n",
       "      <td>Men's Street Footwear</td>\n",
       "      <td>50.0</td>\n",
       "      <td>11</td>\n",
       "      <td>1</td>\n",
       "    </tr>\n",
       "    <tr>\n",
       "      <th>9584</th>\n",
       "      <td>Sports Direct</td>\n",
       "      <td>Northeast</td>\n",
       "      <td>Rhode Island</td>\n",
       "      <td>Women's Apparel</td>\n",
       "      <td>65.0</td>\n",
       "      <td>10</td>\n",
       "      <td>4</td>\n",
       "    </tr>\n",
       "    <tr>\n",
       "      <th>1786</th>\n",
       "      <td>Foot Locker</td>\n",
       "      <td>Northeast</td>\n",
       "      <td>Pennsylvania</td>\n",
       "      <td>Women's Street Footwear</td>\n",
       "      <td>40.0</td>\n",
       "      <td>11</td>\n",
       "      <td>4</td>\n",
       "    </tr>\n",
       "    <tr>\n",
       "      <th>1927</th>\n",
       "      <td>West Gear</td>\n",
       "      <td>South</td>\n",
       "      <td>Louisiana</td>\n",
       "      <td>Men's Street Footwear</td>\n",
       "      <td>33.0</td>\n",
       "      <td>9</td>\n",
       "      <td>5</td>\n",
       "    </tr>\n",
       "    <tr>\n",
       "      <th>1432</th>\n",
       "      <td>Amazon</td>\n",
       "      <td>Midwest</td>\n",
       "      <td>Ohio</td>\n",
       "      <td>Men's Athletic Footwear</td>\n",
       "      <td>58.0</td>\n",
       "      <td>8</td>\n",
       "      <td>1</td>\n",
       "    </tr>\n",
       "    <tr>\n",
       "      <th>...</th>\n",
       "      <td>...</td>\n",
       "      <td>...</td>\n",
       "      <td>...</td>\n",
       "      <td>...</td>\n",
       "      <td>...</td>\n",
       "      <td>...</td>\n",
       "      <td>...</td>\n",
       "    </tr>\n",
       "    <tr>\n",
       "      <th>1707</th>\n",
       "      <td>Sports Direct</td>\n",
       "      <td>Northeast</td>\n",
       "      <td>Massachusetts</td>\n",
       "      <td>Men's Street Footwear</td>\n",
       "      <td>37.0</td>\n",
       "      <td>7</td>\n",
       "      <td>1</td>\n",
       "    </tr>\n",
       "    <tr>\n",
       "      <th>4659</th>\n",
       "      <td>Amazon</td>\n",
       "      <td>Northeast</td>\n",
       "      <td>New Hampshire</td>\n",
       "      <td>Women's Athletic Footwear</td>\n",
       "      <td>52.0</td>\n",
       "      <td>6</td>\n",
       "      <td>5</td>\n",
       "    </tr>\n",
       "    <tr>\n",
       "      <th>5573</th>\n",
       "      <td>Foot Locker</td>\n",
       "      <td>Midwest</td>\n",
       "      <td>Illinois</td>\n",
       "      <td>Women's Apparel</td>\n",
       "      <td>64.0</td>\n",
       "      <td>6</td>\n",
       "      <td>1</td>\n",
       "    </tr>\n",
       "    <tr>\n",
       "      <th>914</th>\n",
       "      <td>Walmart</td>\n",
       "      <td>South</td>\n",
       "      <td>Texas</td>\n",
       "      <td>Men's Apparel</td>\n",
       "      <td>29.0</td>\n",
       "      <td>8</td>\n",
       "      <td>5</td>\n",
       "    </tr>\n",
       "    <tr>\n",
       "      <th>3756</th>\n",
       "      <td>West Gear</td>\n",
       "      <td>South</td>\n",
       "      <td>Oklahoma</td>\n",
       "      <td>Women's Apparel</td>\n",
       "      <td>23.0</td>\n",
       "      <td>9</td>\n",
       "      <td>6</td>\n",
       "    </tr>\n",
       "  </tbody>\n",
       "</table>\n",
       "<p>7640 rows × 7 columns</p>\n",
       "</div>"
      ],
      "text/plain": [
       "           retailer     region          state                    product  \\\n",
       "8312    Foot Locker    Midwest      Minnesota      Men's Street Footwear   \n",
       "9584  Sports Direct  Northeast   Rhode Island            Women's Apparel   \n",
       "1786    Foot Locker  Northeast   Pennsylvania    Women's Street Footwear   \n",
       "1927      West Gear      South      Louisiana      Men's Street Footwear   \n",
       "1432         Amazon    Midwest           Ohio    Men's Athletic Footwear   \n",
       "...             ...        ...            ...                        ...   \n",
       "1707  Sports Direct  Northeast  Massachusetts      Men's Street Footwear   \n",
       "4659         Amazon  Northeast  New Hampshire  Women's Athletic Footwear   \n",
       "5573    Foot Locker    Midwest       Illinois            Women's Apparel   \n",
       "914         Walmart      South          Texas              Men's Apparel   \n",
       "3756      West Gear      South       Oklahoma            Women's Apparel   \n",
       "\n",
       "      price_per_unit  month  day_of_week  \n",
       "8312            50.0     11            1  \n",
       "9584            65.0     10            4  \n",
       "1786            40.0     11            4  \n",
       "1927            33.0      9            5  \n",
       "1432            58.0      8            1  \n",
       "...              ...    ...          ...  \n",
       "1707            37.0      7            1  \n",
       "4659            52.0      6            5  \n",
       "5573            64.0      6            1  \n",
       "914             29.0      8            5  \n",
       "3756            23.0      9            6  \n",
       "\n",
       "[7640 rows x 7 columns]"
      ]
     },
     "execution_count": 137,
     "metadata": {},
     "output_type": "execute_result"
    }
   ],
   "source": [
    "X_train"
   ]
  },
  {
   "cell_type": "code",
   "execution_count": 138,
   "metadata": {},
   "outputs": [],
   "source": [
    "categorical_features = ['retailer', 'region', 'state', 'product', 'day_of_week']\n",
    "numeric_features = ['price_per_unit', \"month\"]"
   ]
  },
  {
   "cell_type": "code",
   "execution_count": 139,
   "metadata": {},
   "outputs": [],
   "source": [
    "import pandas as pd\n",
    "from sklearn.model_selection import train_test_split\n",
    "from sklearn.preprocessing import OneHotEncoder, StandardScaler\n",
    "from sklearn.compose import ColumnTransformer\n",
    "from sklearn.pipeline import Pipeline\n",
    "from sklearn.metrics import mean_squared_error, r2_score\n",
    "preprocessor = ColumnTransformer(\n",
    "     transformers=[\n",
    "      (\"num\", \"passthrough\", numeric_features),\n",
    "      ('cat', OneHotEncoder(handle_unknown='ignore'), categorical_features)])\n",
    "\n"
   ]
  },
  {
   "cell_type": "code",
   "execution_count": 140,
   "metadata": {},
   "outputs": [],
   "source": [
    "X_train_preprocessed = preprocessor.fit_transform(X_train)\n",
    "X_test_preprocessed = preprocessor.transform(X_test)"
   ]
  },
  {
   "cell_type": "code",
   "execution_count": 141,
   "metadata": {},
   "outputs": [],
   "source": [
    "# # Esto te da los nombres de columnas después del OneHotEncoder\n",
    "# ohe_columns = preprocessor.named_transformers_['cat'].get_feature_names_out(input_features=categorical_features)\n",
    "# ohe_columns"
   ]
  },
  {
   "cell_type": "code",
   "execution_count": 142,
   "metadata": {},
   "outputs": [],
   "source": [
    "# # Si tienes columnas numéricas que pasaron sin transformar o fueron escaladas\n",
    "# all_columns = np.concatenate([ohe_columns, numeric_features])\n"
   ]
  },
  {
   "cell_type": "code",
   "execution_count": 143,
   "metadata": {},
   "outputs": [
    {
     "data": {
      "text/plain": [
       "<Compressed Sparse Row sparse matrix of dtype 'float64'\n",
       "\twith 53480 stored elements and shape (7640, 76)>"
      ]
     },
     "execution_count": 143,
     "metadata": {},
     "output_type": "execute_result"
    }
   ],
   "source": [
    "X_train_preprocessed"
   ]
  },
  {
   "cell_type": "markdown",
   "metadata": {},
   "source": [
    "Visualizamos nuestro target - y_train"
   ]
  },
  {
   "cell_type": "code",
   "execution_count": 144,
   "metadata": {},
   "outputs": [
    {
     "data": {
      "text/plain": [
       "count     7640.000000\n",
       "mean     11951.842277\n",
       "std      11567.578827\n",
       "min        160.000000\n",
       "25%       4018.000000\n",
       "50%       7682.000000\n",
       "75%      15606.000000\n",
       "max      59500.000000\n",
       "Name: total_sales, dtype: float64"
      ]
     },
     "execution_count": 144,
     "metadata": {},
     "output_type": "execute_result"
    }
   ],
   "source": [
    "y_train.describe()"
   ]
  },
  {
   "cell_type": "code",
   "execution_count": 145,
   "metadata": {},
   "outputs": [
    {
     "data": {
      "text/plain": [
       "<Axes: xlabel='total_sales'>"
      ]
     },
     "execution_count": 145,
     "metadata": {},
     "output_type": "execute_result"
    },
    {
     "data": {
      "image/png": "[encoded data removed]",
      "text/plain": [
       "<Figure size 640x480 with 1 Axes>"
      ]
     },
     "metadata": {},
     "output_type": "display_data"
    }
   ],
   "source": [
    "sns.boxplot(x=y_train)"
   ]
  },
  {
   "cell_type": "code",
   "execution_count": 146,
   "metadata": {},
   "outputs": [
    {
     "data": {
      "text/plain": [
       "<Axes: xlabel='total_sales', ylabel='Count'>"
      ]
     },
     "execution_count": 146,
     "metadata": {},
     "output_type": "execute_result"
    },
    {
     "data": {
      "image/png": "[encoded data removed]",
      "text/plain": [
       "<Figure size 640x480 with 1 Axes>"
      ]
     },
     "metadata": {},
     "output_type": "display_data"
    }
   ],
   "source": [
    "sns.histplot(y_train, kde = True)"
   ]
  },
  {
   "cell_type": "markdown",
   "metadata": {},
   "source": [
    "Nuestro modelo puede verse afectado por esta distribución asimetrica, debemos hacer una transformación logaritmica."
   ]
  },
  {
   "cell_type": "code",
   "execution_count": 147,
   "metadata": {},
   "outputs": [],
   "source": [
    "y_train_log = np.log1p(y_train)\n",
    "y_test_log = np.log1p(y_test)"
   ]
  },
  {
   "cell_type": "code",
   "execution_count": 148,
   "metadata": {},
   "outputs": [
    {
     "data": {
      "text/plain": [
       "<Axes: xlabel='total_sales', ylabel='Count'>"
      ]
     },
     "execution_count": 148,
     "metadata": {},
     "output_type": "execute_result"
    },
    {
     "data": {
      "image/png": "[encoded data removed]",
      "text/plain": [
       "<Figure size 640x480 with 1 Axes>"
      ]
     },
     "metadata": {},
     "output_type": "display_data"
    }
   ],
   "source": [
    "sns.histplot(y_train_log, kde = True)"
   ]
  },
  {
   "cell_type": "markdown",
   "metadata": {},
   "source": []
  },
  {
   "cell_type": "code",
   "execution_count": 149,
   "metadata": {},
   "outputs": [
    {
     "name": "stdout",
     "output_type": "stream",
     "text": [
      "RMSE: 9216.447295906453\n",
      "MAE: 6282.841498993568\n",
      "R2: 0.38110226960770666\n"
     ]
    }
   ],
   "source": [
    "from sklearn.linear_model import LinearRegression\n",
    "\n",
    "# Entrenar el modelo de regresión lineal\n",
    "baseline_model = LinearRegression()\n",
    "baseline_model.fit(X_train_preprocessed, y_train_log)\n",
    "\n",
    "# Predecir en el conjunto de prueba\n",
    "y_pred_log_baseline = baseline_model.predict(X_test_preprocessed)\n",
    "\n",
    "y_pred = np.expm1(y_pred_log_baseline)\n",
    "y_test = np.expm1(y_test_log)\n",
    "\n",
    "# Evaluar el modelo\n",
    "mse_baseline = mean_squared_error(y_test, y_pred)\n",
    "rmse_baseline = np.sqrt(mse_baseline)\n",
    "mae_baseline = mean_absolute_error(y_test, y_pred)\n",
    "r2_baseline = r2_score(y_test, y_pred)\n",
    "\n",
    "print(f\"RMSE: {rmse_baseline}\")\n",
    "print(f\"MAE: {mae_baseline}\")\n",
    "print(f\"R2: {r2_baseline}\")"
   ]
  },
  {
   "cell_type": "code",
   "execution_count": 150,
   "metadata": {},
   "outputs": [
    {
     "name": "stdout",
     "output_type": "stream",
     "text": [
      "Random Forest - RMSE: 5564.308326251889\n",
      "Random Forest - MAE: 3125.9200744189056\n",
      "Random Forest - R2: 0.7744129443270777\n"
     ]
    }
   ],
   "source": [
    "# rf\n",
    "\n",
    "from sklearn.ensemble import RandomForestRegressor\n",
    "\n",
    "# Entrenar el modelo Random Forest\n",
    "rf_model = RandomForestRegressor(n_estimators=100, random_state=42)\n",
    "rf_model.fit(X_train_preprocessed, y_train_log)\n",
    "\n",
    "# Predecir en el conjunto de prueba\n",
    "y_pred_log_rf = rf_model.predict(X_test_preprocessed)\n",
    "y_pred_rf = np.expm1(y_pred_log_rf)\n",
    "\n",
    "# Evaluar el modelo\n",
    "mse_rf = mean_squared_error(y_test, y_pred_rf)\n",
    "rmse_rf = np.sqrt(mse_rf)\n",
    "mae_rf = mean_absolute_error(y_test, y_pred_rf)\n",
    "r2_rf = r2_score(y_test, y_pred_rf)\n",
    "\n",
    "print(f\"Random Forest - RMSE: {rmse_rf}\")\n",
    "print(f\"Random Forest - MAE: {mae_rf}\")\n",
    "print(f\"Random Forest - R2: {r2_rf}\")"
   ]
  },
  {
   "cell_type": "code",
   "execution_count": 151,
   "metadata": {},
   "outputs": [
    {
     "name": "stdout",
     "output_type": "stream",
     "text": [
      "XGBoost - RMSE: 6052.8540414414865\n",
      "XGBoost - MAE: 3601.247770508067\n",
      "XGBoost - R2: 0.7330608918606145\n"
     ]
    }
   ],
   "source": [
    "# xgboost\n",
    "\n",
    "xgb_model = XGBRegressor(n_estimators=100, learning_rate=0.1, random_state=42)\n",
    "xgb_model.fit(X_train_preprocessed, y_train_log)\n",
    "\n",
    "y_pred_log_xgb = xgb_model.predict(X_test_preprocessed)\n",
    "y_pred_xgb = np.expm1(y_pred_log_xgb)\n",
    "\n",
    "mse_xgb = mean_squared_error(y_test, y_pred_xgb)\n",
    "rmse_xgb = np.sqrt(mse_xgb)\n",
    "mae_xgb = mean_absolute_error(y_test, y_pred_xgb)\n",
    "r2_xgb = r2_score(y_test, y_pred_xgb)\n",
    "\n",
    "print(f\"XGBoost - RMSE: {rmse_xgb}\")\n",
    "print(f\"XGBoost - MAE: {mae_xgb}\")\n",
    "print(f\"XGBoost - R2: {r2_xgb}\")\n",
    "\n",
    "\n"
   ]
  },
  {
   "cell_type": "code",
   "execution_count": 152,
   "metadata": {},
   "outputs": [
    {
     "name": "stdout",
     "output_type": "stream",
     "text": [
      "--- Baseline LR ---\n",
      "RMSE: 9216.45, MAE: 6282.84, R²: 0.3811\n",
      "--- XGBoost ---\n",
      "RMSE: 6052.85, MAE: 3601.25, R²: 0.7331\n",
      "--- Random Forest ---\n",
      "RMSE: 5564.31, MAE: 3125.92, R²: 0.7744\n"
     ]
    }
   ],
   "source": [
    "print(f\"--- Baseline LR ---\")\n",
    "print(f\"RMSE: {rmse_baseline:.2f}, MAE: {mae_baseline:.2f}, R²: {r2_baseline:.4f}\")\n",
    "\n",
    "print(f\"--- XGBoost ---\")\n",
    "print(f\"RMSE: {rmse_xgb:.2f}, MAE: {mae_xgb:.2f}, R²: {r2_xgb:.4f}\")\n",
    "\n",
    "print(f\"--- Random Forest ---\")\n",
    "print(f\"RMSE: {rmse_rf:.2f}, MAE: {mae_rf:.2f}, R²: {r2_rf:.4f}\")"
   ]
  },
  {
   "cell_type": "code",
   "execution_count": 80,
   "metadata": {},
   "outputs": [
    {
     "name": "stdout",
     "output_type": "stream",
     "text": [
      "Neural Network - MSE: 82100964.8826125, R2: 0.5161093576590075\n"
     ]
    },
    {
     "name": "stderr",
     "output_type": "stream",
     "text": [
      "c:\\Users\\Usuario\\AppData\\Local\\Programs\\Python\\Python312\\Lib\\site-packages\\sklearn\\neural_network\\_multilayer_perceptron.py:690: ConvergenceWarning: Stochastic Optimizer: Maximum iterations (500) reached and the optimization hasn't converged yet.\n",
      "  warnings.warn(\n"
     ]
    }
   ],
   "source": [
    "from sklearn.neural_network import MLPRegressor\n",
    "\n",
    "# Entrenar el modelo de red neuronal\n",
    "nn_model = MLPRegressor(hidden_layer_sizes=(100, 50), max_iter=500, random_state=42)\n",
    "nn_model.fit(X_train_preprocessed, y_train)\n",
    "\n",
    "# Predecir en el conjunto de prueba\n",
    "y_pred_nn = nn_model.predict(X_test_preprocessed)\n",
    "\n",
    "# Evaluar el modelo\n",
    "mse_nn = mean_squared_error(y_test, y_pred_nn)\n",
    "r2_nn = r2_score(y_test, y_pred_nn)\n",
    "\n",
    "print(f\"Neural Network - MSE: {mse_nn}, R2: {r2_nn}\")"
   ]
  },
  {
   "cell_type": "code",
   "execution_count": 153,
   "metadata": {},
   "outputs": [
    {
     "data": {
      "text/plain": [
       "<Compressed Sparse Row sparse matrix of dtype 'float64'\n",
       "\twith 53480 stored elements and shape (7640, 76)>"
      ]
     },
     "execution_count": 153,
     "metadata": {},
     "output_type": "execute_result"
    }
   ],
   "source": [
    "X_train_preprocessed"
   ]
  },
  {
   "cell_type": "code",
   "execution_count": 154,
   "metadata": {},
   "outputs": [],
   "source": [
    "def rmse_in_original(y_true_log, y_pred_log):\n",
    "    y_true = np.expm1(y_true_log)\n",
    "    y_pred = np.expm1(y_pred_log)\n",
    "    return np.sqrt(mean_squared_error(y_true, y_pred))\n",
    "\n",
    "rmse_scorer = make_scorer(rmse_in_original, greater_is_better=False)"
   ]
  },
  {
   "cell_type": "code",
   "execution_count": 155,
   "metadata": {},
   "outputs": [
    {
     "name": "stdout",
     "output_type": "stream",
     "text": [
      "Mejores hiperparámetros: {'learning_rate': 0.2, 'max_depth': 4, 'n_estimators': 300}\n",
      "XGBoost (GridSearch)\n",
      "RMSE: 5219.693695634747\n",
      "MAE: 3013.5897845672966\n",
      "R2: 0.80149025165923\n"
     ]
    }
   ],
   "source": [
    "from sklearn.model_selection import GridSearchCV\n",
    "\n",
    "# Definir la cuadrícula de hiperparámetros para XGBoost\n",
    "param_grid = {\n",
    "    'n_estimators': [100, 200, 300],\n",
    "    'learning_rate': [0.01, 0.2, 0.3],\n",
    "    'max_depth': [4, 5, 6]\n",
    "}\n",
    "\n",
    "# Búsqueda de hiperparámetros\n",
    "grid_search = GridSearchCV(XGBRegressor(random_state=42), param_grid, cv=3, scoring=rmse_scorer)\n",
    "grid_search.fit(X_train_preprocessed, y_train_log)\n",
    "\n",
    "best_model_xgb = grid_search.best_estimator_\n",
    "\n",
    "# Mejores hiperparámetros\n",
    "print(f\"Mejores hiperparámetros: {grid_search.best_params_}\")\n",
    "\n",
    "# Predecir con el mejor modelo\n",
    "y_pred_log_grid_xgb = grid_search.predict(X_test_preprocessed)\n",
    "y_pred_grid_xgb = np.expm1(y_pred_log_grid_xgb)\n",
    "\n",
    "# Evaluar el modelo\n",
    "mse_grid_xgb = mean_squared_error(y_test, y_pred_grid_xgb)\n",
    "rmse_grid_xgb = np.sqrt(mse_grid_xgb)\n",
    "mae_grid_xgb = mean_absolute_error(y_test, y_pred_grid_xgb)\n",
    "r2_grid = r2_score(y_test, y_pred_grid_xgb)\n",
    "\n",
    "print(f\"XGBoost (GridSearch)\")\n",
    "print(f\"RMSE: {rmse_grid_xgb}\")\n",
    "print(f\"MAE: {mae_grid_xgb}\")\n",
    "print(f\"R2: {r2_grid}\")"
   ]
  },
  {
   "cell_type": "code",
   "execution_count": 156,
   "metadata": {},
   "outputs": [
    {
     "name": "stdout",
     "output_type": "stream",
     "text": [
      "Mejores hiperparámetros: {'max_depth': None, 'min_samples_leaf': 1, 'min_samples_split': 2, 'n_estimators': 200}\n",
      "Random Forest (GridSearch)\n",
      "RMSE: 5577.031716361745\n",
      "MAE: 3113.7902953164\n",
      "R2: 0.7733801066437708\n"
     ]
    }
   ],
   "source": [
    "# RF Hiperparametros\n",
    "\n",
    "param_grid = {\n",
    "    'n_estimators': [100, 200],\n",
    "    'max_depth': [None, 10, 20],\n",
    "    'min_samples_split': [2, 5],\n",
    "    'min_samples_leaf': [1, 2]\n",
    "}\n",
    "\n",
    "model = RandomForestRegressor(random_state=42)\n",
    "\n",
    "grid_search = GridSearchCV(\n",
    "    estimator=model,\n",
    "    param_grid=param_grid,\n",
    "    scoring=rmse_scorer,\n",
    "    cv=5,\n",
    "    n_jobs=-1\n",
    ")\n",
    "\n",
    "grid_search.fit(X_train_preprocessed, y_train_log)\n",
    "best_model_rf = grid_search.best_estimator_\n",
    "\n",
    "# Mejores hiperparámetros\n",
    "best_params = grid_search.best_params_\n",
    "print(f\"Mejores hiperparámetros: {best_params}\")\n",
    "\n",
    "# Predecir en el conjunto de prueba (en escala logarítmica)\n",
    "y_pred_log_grid_rf = grid_search.predict(X_test_preprocessed)\n",
    "y_pred_grid_rf = np.expm1(y_pred_log_grid_rf)\n",
    "\n",
    "# Evaluar el modelo\n",
    "mse_grid_rf = mean_squared_error(y_test, y_pred_grid_rf)\n",
    "rmse_grid_rf = np.sqrt(mse_grid_rf)\n",
    "mae_grid_rf = mean_absolute_error(y_test, y_pred_grid_rf)\n",
    "r2_grid_rf = r2_score(y_test, y_pred_grid_rf)\n",
    "\n",
    "print(f\"Random Forest (GridSearch)\")\n",
    "print(f\"RMSE: {rmse_grid_rf}\")\n",
    "print(f\"MAE: {mae_grid_rf}\")\n",
    "print(f\"R2: {r2_grid_rf}\")\n"
   ]
  },
  {
   "cell_type": "code",
   "execution_count": 157,
   "metadata": {},
   "outputs": [
    {
     "name": "stdout",
     "output_type": "stream",
     "text": [
      "CV RMSE (5-fold): [5783.13186025 5879.55022204 6017.74545421 5502.86609978 5729.58090005]\n",
      "Mean CV RMSE: 5782.574907265866 Std: 170.7366919028382\n"
     ]
    }
   ],
   "source": [
    "# Cross Validation para RF\n",
    "\n",
    "from sklearn.model_selection import cross_val_score, KFold\n",
    "from sklearn.metrics import mean_squared_error, make_scorer\n",
    "import numpy as np\n",
    "\n",
    "rmse_scorer = make_scorer(rmse_in_original, greater_is_better=False)\n",
    "\n",
    "kf = KFold(n_splits=5, shuffle=True, random_state=42)\n",
    "\n",
    "scores = cross_val_score(\n",
    "    best_model_rf,\n",
    "    X_train_preprocessed,\n",
    "    y_train_log,\n",
    "    scoring=rmse_scorer,\n",
    "    cv=kf,\n",
    "    n_jobs=-1\n",
    ")\n",
    "\n",
    "cv_rmse_list_rf = -scores\n",
    "cv_rmse_mean_rf = cv_rmse_list_rf.mean()\n",
    "cv_rmse_std_rf = cv_rmse_list_rf.std()\n",
    "\n",
    "print(\"CV RMSE (5-fold):\", cv_rmse_list_rf)\n",
    "print(\"Mean CV RMSE:\", cv_rmse_mean_rf, \"Std:\", cv_rmse_std_rf)\n",
    "\n"
   ]
  },
  {
   "cell_type": "code",
   "execution_count": 158,
   "metadata": {},
   "outputs": [
    {
     "name": "stdout",
     "output_type": "stream",
     "text": [
      "CV RMSE (5-fold): [4998.04234533 5618.26711307 5383.47667264 4891.44206608 5343.69940393]\n",
      "Mean CV RMSE: 5246.98552020936 Std: 266.164341446127\n"
     ]
    }
   ],
   "source": [
    "# Cross Validation para XGB\n",
    "\n",
    "rmse_scorer = make_scorer(rmse_in_original, greater_is_better=False)\n",
    "\n",
    "kf = KFold(n_splits=5, shuffle=True, random_state=42)\n",
    "\n",
    "scores = cross_val_score(\n",
    "    best_model_xgb,\n",
    "    X_train_preprocessed,\n",
    "    y_train_log,\n",
    "    scoring=rmse_scorer,\n",
    "    cv=kf,\n",
    "    n_jobs=-1\n",
    ")\n",
    "\n",
    "cv_rmse_list_xgb = -scores\n",
    "cv_rmse_mean_xgb = cv_rmse_list_xgb.mean()\n",
    "cv_rmse_std_xgb = cv_rmse_list_xgb.std()\n",
    "\n",
    "print(\"CV RMSE (5-fold):\", cv_rmse_list_xgb)\n",
    "print(\"Mean CV RMSE:\", cv_rmse_mean_xgb, \"Std:\", cv_rmse_std_xgb)\n",
    "\n"
   ]
  },
  {
   "cell_type": "code",
   "execution_count": 159,
   "metadata": {},
   "outputs": [
    {
     "name": "stdout",
     "output_type": "stream",
     "text": [
      "--- Random Forest ---\n",
      "GridSearch RMSE: 5577.03\n",
      "CV RMSE: 5782.57\n",
      "--- XGBoost ---\n",
      "GridSearch RMSE: 5219.69\n",
      "CV RMSE: 5246.99\n"
     ]
    }
   ],
   "source": [
    "# Comparamos lo obtenido en Grid vs CV de ambos modelos\n",
    "\n",
    "print(f\"--- Random Forest ---\")\n",
    "print(f\"GridSearch RMSE: {rmse_grid_rf:.2f}\")\n",
    "print(f\"CV RMSE: {cv_rmse_mean_rf:.2f}\")\n",
    "\n",
    "print(f\"--- XGBoost ---\")\n",
    "print(f\"GridSearch RMSE: {rmse_grid_xgb:.2f}\")\n",
    "print(f\"CV RMSE: {cv_rmse_mean_xgb:.2f}\")"
   ]
  },
  {
   "cell_type": "code",
   "execution_count": null,
   "metadata": {},
   "outputs": [],
   "source": [
    "import joblib\n",
    "\n",
    "# joblib.dump(best_model_xgb, \"../models/xgb_model.pkl\")"
   ]
  },
  {
   "cell_type": "code",
   "execution_count": 104,
   "metadata": {},
   "outputs": [],
   "source": [
    "## de aqui para arriba"
   ]
  },
  {
   "cell_type": "markdown",
   "metadata": {},
   "source": [
    "# ✅ Step 6: Selección e instanciación de modelos. Baseline.\n"
   ]
  },
  {
   "cell_type": "markdown",
   "metadata": {},
   "source": [
    "Baseline:"
   ]
  },
  {
   "cell_type": "code",
   "execution_count": null,
   "metadata": {},
   "outputs": [],
   "source": [
    "y_pred_log_xgb = xgb_model.predict(X_test)\n",
    "y_pred_xgb = np.expm1(y_pred_log_xgb)"
   ]
  },
  {
   "cell_type": "code",
   "execution_count": null,
   "metadata": {},
   "outputs": [
    {
     "name": "stdout",
     "output_type": "stream",
     "text": [
      "XGBoost - RMSE: 5298.727224094555\n",
      "XGBoost - MAE: 3050.661547870447\n",
      "XGBoost - R2: 0.8304386438778383\n"
     ]
    }
   ],
   "source": [
    "mse_xgb = mean_squared_error(y_test, y_pred_xgb)\n",
    "rmse_xgb = np.sqrt(mse_xgb)\n",
    "mae_xgb = mean_absolute_error(y_test, y_pred_xgb)\n",
    "r2_xgb = r2_score(y_test, y_pred_xgb)\n",
    "\n",
    "print(f\"XGBoost - RMSE: {rmse_xgb}\")\n",
    "print(f\"XGBoost - MAE: {mae_xgb}\")\n",
    "print(f\"XGBoost - R2: {r2_xgb}\")"
   ]
  },
  {
   "cell_type": "code",
   "execution_count": null,
   "metadata": {},
   "outputs": [
    {
     "data": {
      "text/html": [
       "<style>#sk-container-id-3 {\n",
       "  /* Definition of color scheme common for light and dark mode */\n",
       "  --sklearn-color-text: black;\n",
       "  --sklearn-color-line: gray;\n",
       "  /* Definition of color scheme for unfitted estimators */\n",
       "  --sklearn-color-unfitted-level-0: #fff5e6;\n",
       "  --sklearn-color-unfitted-level-1: #f6e4d2;\n",
       "  --sklearn-color-unfitted-level-2: #ffe0b3;\n",
       "  --sklearn-color-unfitted-level-3: chocolate;\n",
       "  /* Definition of color scheme for fitted estimators */\n",
       "  --sklearn-color-fitted-level-0: #f0f8ff;\n",
       "  --sklearn-color-fitted-level-1: #d4ebff;\n",
       "  --sklearn-color-fitted-level-2: #b3dbfd;\n",
       "  --sklearn-color-fitted-level-3: cornflowerblue;\n",
       "\n",
       "  /* Specific color for light theme */\n",
       "  --sklearn-color-text-on-default-background: var(--sg-text-color, var(--theme-code-foreground, var(--jp-content-font-color1, black)));\n",
       "  --sklearn-color-background: var(--sg-background-color, var(--theme-background, var(--jp-layout-color0, white)));\n",
       "  --sklearn-color-border-box: var(--sg-text-color, var(--theme-code-foreground, var(--jp-content-font-color1, black)));\n",
       "  --sklearn-color-icon: #696969;\n",
       "\n",
       "  @media (prefers-color-scheme: dark) {\n",
       "    /* Redefinition of color scheme for dark theme */\n",
       "    --sklearn-color-text-on-default-background: var(--sg-text-color, var(--theme-code-foreground, var(--jp-content-font-color1, white)));\n",
       "    --sklearn-color-background: var(--sg-background-color, var(--theme-background, var(--jp-layout-color0, #111)));\n",
       "    --sklearn-color-border-box: var(--sg-text-color, var(--theme-code-foreground, var(--jp-content-font-color1, white)));\n",
       "    --sklearn-color-icon: #878787;\n",
       "  }\n",
       "}\n",
       "\n",
       "#sk-container-id-3 {\n",
       "  color: var(--sklearn-color-text);\n",
       "}\n",
       "\n",
       "#sk-container-id-3 pre {\n",
       "  padding: 0;\n",
       "}\n",
       "\n",
       "#sk-container-id-3 input.sk-hidden--visually {\n",
       "  border: 0;\n",
       "  clip: rect(1px 1px 1px 1px);\n",
       "  clip: rect(1px, 1px, 1px, 1px);\n",
       "  height: 1px;\n",
       "  margin: -1px;\n",
       "  overflow: hidden;\n",
       "  padding: 0;\n",
       "  position: absolute;\n",
       "  width: 1px;\n",
       "}\n",
       "\n",
       "#sk-container-id-3 div.sk-dashed-wrapped {\n",
       "  border: 1px dashed var(--sklearn-color-line);\n",
       "  margin: 0 0.4em 0.5em 0.4em;\n",
       "  box-sizing: border-box;\n",
       "  padding-bottom: 0.4em;\n",
       "  background-color: var(--sklearn-color-background);\n",
       "}\n",
       "\n",
       "#sk-container-id-3 div.sk-container {\n",
       "  /* jupyter's `normalize.less` sets `[hidden] { display: none; }`\n",
       "     but bootstrap.min.css set `[hidden] { display: none !important; }`\n",
       "     so we also need the `!important` here to be able to override the\n",
       "     default hidden behavior on the sphinx rendered scikit-learn.org.\n",
       "     See: https://github.com/scikit-learn/scikit-learn/issues/21755 */\n",
       "  display: inline-block !important;\n",
       "  position: relative;\n",
       "}\n",
       "\n",
       "#sk-container-id-3 div.sk-text-repr-fallback {\n",
       "  display: none;\n",
       "}\n",
       "\n",
       "div.sk-parallel-item,\n",
       "div.sk-serial,\n",
       "div.sk-item {\n",
       "  /* draw centered vertical line to link estimators */\n",
       "  background-image: linear-gradient(var(--sklearn-color-text-on-default-background), var(--sklearn-color-text-on-default-background));\n",
       "  background-size: 2px 100%;\n",
       "  background-repeat: no-repeat;\n",
       "  background-position: center center;\n",
       "}\n",
       "\n",
       "/* Parallel-specific style estimator block */\n",
       "\n",
       "#sk-container-id-3 div.sk-parallel-item::after {\n",
       "  content: \"\";\n",
       "  width: 100%;\n",
       "  border-bottom: 2px solid var(--sklearn-color-text-on-default-background);\n",
       "  flex-grow: 1;\n",
       "}\n",
       "\n",
       "#sk-container-id-3 div.sk-parallel {\n",
       "  display: flex;\n",
       "  align-items: stretch;\n",
       "  justify-content: center;\n",
       "  background-color: var(--sklearn-color-background);\n",
       "  position: relative;\n",
       "}\n",
       "\n",
       "#sk-container-id-3 div.sk-parallel-item {\n",
       "  display: flex;\n",
       "  flex-direction: column;\n",
       "}\n",
       "\n",
       "#sk-container-id-3 div.sk-parallel-item:first-child::after {\n",
       "  align-self: flex-end;\n",
       "  width: 50%;\n",
       "}\n",
       "\n",
       "#sk-container-id-3 div.sk-parallel-item:last-child::after {\n",
       "  align-self: flex-start;\n",
       "  width: 50%;\n",
       "}\n",
       "\n",
       "#sk-container-id-3 div.sk-parallel-item:only-child::after {\n",
       "  width: 0;\n",
       "}\n",
       "\n",
       "/* Serial-specific style estimator block */\n",
       "\n",
       "#sk-container-id-3 div.sk-serial {\n",
       "  display: flex;\n",
       "  flex-direction: column;\n",
       "  align-items: center;\n",
       "  background-color: var(--sklearn-color-background);\n",
       "  padding-right: 1em;\n",
       "  padding-left: 1em;\n",
       "}\n",
       "\n",
       "\n",
       "/* Toggleable style: style used for estimator/Pipeline/ColumnTransformer box that is\n",
       "clickable and can be expanded/collapsed.\n",
       "- Pipeline and ColumnTransformer use this feature and define the default style\n",
       "- Estimators will overwrite some part of the style using the `sk-estimator` class\n",
       "*/\n",
       "\n",
       "/* Pipeline and ColumnTransformer style (default) */\n",
       "\n",
       "#sk-container-id-3 div.sk-toggleable {\n",
       "  /* Default theme specific background. It is overwritten whether we have a\n",
       "  specific estimator or a Pipeline/ColumnTransformer */\n",
       "  background-color: var(--sklearn-color-background);\n",
       "}\n",
       "\n",
       "/* Toggleable label */\n",
       "#sk-container-id-3 label.sk-toggleable__label {\n",
       "  cursor: pointer;\n",
       "  display: block;\n",
       "  width: 100%;\n",
       "  margin-bottom: 0;\n",
       "  padding: 0.5em;\n",
       "  box-sizing: border-box;\n",
       "  text-align: center;\n",
       "}\n",
       "\n",
       "#sk-container-id-3 label.sk-toggleable__label-arrow:before {\n",
       "  /* Arrow on the left of the label */\n",
       "  content: \"▸\";\n",
       "  float: left;\n",
       "  margin-right: 0.25em;\n",
       "  color: var(--sklearn-color-icon);\n",
       "}\n",
       "\n",
       "#sk-container-id-3 label.sk-toggleable__label-arrow:hover:before {\n",
       "  color: var(--sklearn-color-text);\n",
       "}\n",
       "\n",
       "/* Toggleable content - dropdown */\n",
       "\n",
       "#sk-container-id-3 div.sk-toggleable__content {\n",
       "  max-height: 0;\n",
       "  max-width: 0;\n",
       "  overflow: hidden;\n",
       "  text-align: left;\n",
       "  /* unfitted */\n",
       "  background-color: var(--sklearn-color-unfitted-level-0);\n",
       "}\n",
       "\n",
       "#sk-container-id-3 div.sk-toggleable__content.fitted {\n",
       "  /* fitted */\n",
       "  background-color: var(--sklearn-color-fitted-level-0);\n",
       "}\n",
       "\n",
       "#sk-container-id-3 div.sk-toggleable__content pre {\n",
       "  margin: 0.2em;\n",
       "  border-radius: 0.25em;\n",
       "  color: var(--sklearn-color-text);\n",
       "  /* unfitted */\n",
       "  background-color: var(--sklearn-color-unfitted-level-0);\n",
       "}\n",
       "\n",
       "#sk-container-id-3 div.sk-toggleable__content.fitted pre {\n",
       "  /* unfitted */\n",
       "  background-color: var(--sklearn-color-fitted-level-0);\n",
       "}\n",
       "\n",
       "#sk-container-id-3 input.sk-toggleable__control:checked~div.sk-toggleable__content {\n",
       "  /* Expand drop-down */\n",
       "  max-height: 200px;\n",
       "  max-width: 100%;\n",
       "  overflow: auto;\n",
       "}\n",
       "\n",
       "#sk-container-id-3 input.sk-toggleable__control:checked~label.sk-toggleable__label-arrow:before {\n",
       "  content: \"▾\";\n",
       "}\n",
       "\n",
       "/* Pipeline/ColumnTransformer-specific style */\n",
       "\n",
       "#sk-container-id-3 div.sk-label input.sk-toggleable__control:checked~label.sk-toggleable__label {\n",
       "  color: var(--sklearn-color-text);\n",
       "  background-color: var(--sklearn-color-unfitted-level-2);\n",
       "}\n",
       "\n",
       "#sk-container-id-3 div.sk-label.fitted input.sk-toggleable__control:checked~label.sk-toggleable__label {\n",
       "  background-color: var(--sklearn-color-fitted-level-2);\n",
       "}\n",
       "\n",
       "/* Estimator-specific style */\n",
       "\n",
       "/* Colorize estimator box */\n",
       "#sk-container-id-3 div.sk-estimator input.sk-toggleable__control:checked~label.sk-toggleable__label {\n",
       "  /* unfitted */\n",
       "  background-color: var(--sklearn-color-unfitted-level-2);\n",
       "}\n",
       "\n",
       "#sk-container-id-3 div.sk-estimator.fitted input.sk-toggleable__control:checked~label.sk-toggleable__label {\n",
       "  /* fitted */\n",
       "  background-color: var(--sklearn-color-fitted-level-2);\n",
       "}\n",
       "\n",
       "#sk-container-id-3 div.sk-label label.sk-toggleable__label,\n",
       "#sk-container-id-3 div.sk-label label {\n",
       "  /* The background is the default theme color */\n",
       "  color: var(--sklearn-color-text-on-default-background);\n",
       "}\n",
       "\n",
       "/* On hover, darken the color of the background */\n",
       "#sk-container-id-3 div.sk-label:hover label.sk-toggleable__label {\n",
       "  color: var(--sklearn-color-text);\n",
       "  background-color: var(--sklearn-color-unfitted-level-2);\n",
       "}\n",
       "\n",
       "/* Label box, darken color on hover, fitted */\n",
       "#sk-container-id-3 div.sk-label.fitted:hover label.sk-toggleable__label.fitted {\n",
       "  color: var(--sklearn-color-text);\n",
       "  background-color: var(--sklearn-color-fitted-level-2);\n",
       "}\n",
       "\n",
       "/* Estimator label */\n",
       "\n",
       "#sk-container-id-3 div.sk-label label {\n",
       "  font-family: monospace;\n",
       "  font-weight: bold;\n",
       "  display: inline-block;\n",
       "  line-height: 1.2em;\n",
       "}\n",
       "\n",
       "#sk-container-id-3 div.sk-label-container {\n",
       "  text-align: center;\n",
       "}\n",
       "\n",
       "/* Estimator-specific */\n",
       "#sk-container-id-3 div.sk-estimator {\n",
       "  font-family: monospace;\n",
       "  border: 1px dotted var(--sklearn-color-border-box);\n",
       "  border-radius: 0.25em;\n",
       "  box-sizing: border-box;\n",
       "  margin-bottom: 0.5em;\n",
       "  /* unfitted */\n",
       "  background-color: var(--sklearn-color-unfitted-level-0);\n",
       "}\n",
       "\n",
       "#sk-container-id-3 div.sk-estimator.fitted {\n",
       "  /* fitted */\n",
       "  background-color: var(--sklearn-color-fitted-level-0);\n",
       "}\n",
       "\n",
       "/* on hover */\n",
       "#sk-container-id-3 div.sk-estimator:hover {\n",
       "  /* unfitted */\n",
       "  background-color: var(--sklearn-color-unfitted-level-2);\n",
       "}\n",
       "\n",
       "#sk-container-id-3 div.sk-estimator.fitted:hover {\n",
       "  /* fitted */\n",
       "  background-color: var(--sklearn-color-fitted-level-2);\n",
       "}\n",
       "\n",
       "/* Specification for estimator info (e.g. \"i\" and \"?\") */\n",
       "\n",
       "/* Common style for \"i\" and \"?\" */\n",
       "\n",
       ".sk-estimator-doc-link,\n",
       "a:link.sk-estimator-doc-link,\n",
       "a:visited.sk-estimator-doc-link {\n",
       "  float: right;\n",
       "  font-size: smaller;\n",
       "  line-height: 1em;\n",
       "  font-family: monospace;\n",
       "  background-color: var(--sklearn-color-background);\n",
       "  border-radius: 1em;\n",
       "  height: 1em;\n",
       "  width: 1em;\n",
       "  text-decoration: none !important;\n",
       "  margin-left: 1ex;\n",
       "  /* unfitted */\n",
       "  border: var(--sklearn-color-unfitted-level-1) 1pt solid;\n",
       "  color: var(--sklearn-color-unfitted-level-1);\n",
       "}\n",
       "\n",
       ".sk-estimator-doc-link.fitted,\n",
       "a:link.sk-estimator-doc-link.fitted,\n",
       "a:visited.sk-estimator-doc-link.fitted {\n",
       "  /* fitted */\n",
       "  border: var(--sklearn-color-fitted-level-1) 1pt solid;\n",
       "  color: var(--sklearn-color-fitted-level-1);\n",
       "}\n",
       "\n",
       "/* On hover */\n",
       "div.sk-estimator:hover .sk-estimator-doc-link:hover,\n",
       ".sk-estimator-doc-link:hover,\n",
       "div.sk-label-container:hover .sk-estimator-doc-link:hover,\n",
       ".sk-estimator-doc-link:hover {\n",
       "  /* unfitted */\n",
       "  background-color: var(--sklearn-color-unfitted-level-3);\n",
       "  color: var(--sklearn-color-background);\n",
       "  text-decoration: none;\n",
       "}\n",
       "\n",
       "div.sk-estimator.fitted:hover .sk-estimator-doc-link.fitted:hover,\n",
       ".sk-estimator-doc-link.fitted:hover,\n",
       "div.sk-label-container:hover .sk-estimator-doc-link.fitted:hover,\n",
       ".sk-estimator-doc-link.fitted:hover {\n",
       "  /* fitted */\n",
       "  background-color: var(--sklearn-color-fitted-level-3);\n",
       "  color: var(--sklearn-color-background);\n",
       "  text-decoration: none;\n",
       "}\n",
       "\n",
       "/* Span, style for the box shown on hovering the info icon */\n",
       ".sk-estimator-doc-link span {\n",
       "  display: none;\n",
       "  z-index: 9999;\n",
       "  position: relative;\n",
       "  font-weight: normal;\n",
       "  right: .2ex;\n",
       "  padding: .5ex;\n",
       "  margin: .5ex;\n",
       "  width: min-content;\n",
       "  min-width: 20ex;\n",
       "  max-width: 50ex;\n",
       "  color: var(--sklearn-color-text);\n",
       "  box-shadow: 2pt 2pt 4pt #999;\n",
       "  /* unfitted */\n",
       "  background: var(--sklearn-color-unfitted-level-0);\n",
       "  border: .5pt solid var(--sklearn-color-unfitted-level-3);\n",
       "}\n",
       "\n",
       ".sk-estimator-doc-link.fitted span {\n",
       "  /* fitted */\n",
       "  background: var(--sklearn-color-fitted-level-0);\n",
       "  border: var(--sklearn-color-fitted-level-3);\n",
       "}\n",
       "\n",
       ".sk-estimator-doc-link:hover span {\n",
       "  display: block;\n",
       "}\n",
       "\n",
       "/* \"?\"-specific style due to the `<a>` HTML tag */\n",
       "\n",
       "#sk-container-id-3 a.estimator_doc_link {\n",
       "  float: right;\n",
       "  font-size: 1rem;\n",
       "  line-height: 1em;\n",
       "  font-family: monospace;\n",
       "  background-color: var(--sklearn-color-background);\n",
       "  border-radius: 1rem;\n",
       "  height: 1rem;\n",
       "  width: 1rem;\n",
       "  text-decoration: none;\n",
       "  /* unfitted */\n",
       "  color: var(--sklearn-color-unfitted-level-1);\n",
       "  border: var(--sklearn-color-unfitted-level-1) 1pt solid;\n",
       "}\n",
       "\n",
       "#sk-container-id-3 a.estimator_doc_link.fitted {\n",
       "  /* fitted */\n",
       "  border: var(--sklearn-color-fitted-level-1) 1pt solid;\n",
       "  color: var(--sklearn-color-fitted-level-1);\n",
       "}\n",
       "\n",
       "/* On hover */\n",
       "#sk-container-id-3 a.estimator_doc_link:hover {\n",
       "  /* unfitted */\n",
       "  background-color: var(--sklearn-color-unfitted-level-3);\n",
       "  color: var(--sklearn-color-background);\n",
       "  text-decoration: none;\n",
       "}\n",
       "\n",
       "#sk-container-id-3 a.estimator_doc_link.fitted:hover {\n",
       "  /* fitted */\n",
       "  background-color: var(--sklearn-color-fitted-level-3);\n",
       "}\n",
       "</style><div id=\"sk-container-id-3\" class=\"sk-top-container\"><div class=\"sk-text-repr-fallback\"><pre>RandomForestRegressor(random_state=42)</pre><b>In a Jupyter environment, please rerun this cell to show the HTML representation or trust the notebook. <br />On GitHub, the HTML representation is unable to render, please try loading this page with nbviewer.org.</b></div><div class=\"sk-container\" hidden><div class=\"sk-item\"><div class=\"sk-estimator fitted sk-toggleable\"><input class=\"sk-toggleable__control sk-hidden--visually\" id=\"sk-estimator-id-3\" type=\"checkbox\" checked><label for=\"sk-estimator-id-3\" class=\"sk-toggleable__label fitted sk-toggleable__label-arrow fitted\">&nbsp;&nbsp;RandomForestRegressor<a class=\"sk-estimator-doc-link fitted\" rel=\"noreferrer\" target=\"_blank\" href=\"https://scikit-learn.org/1.5/modules/generated/sklearn.ensemble.RandomForestRegressor.html\">?<span>Documentation for RandomForestRegressor</span></a><span class=\"sk-estimator-doc-link fitted\">i<span>Fitted</span></span></label><div class=\"sk-toggleable__content fitted\"><pre>RandomForestRegressor(random_state=42)</pre></div> </div></div></div></div>"
      ],
      "text/plain": [
       "RandomForestRegressor(random_state=42)"
      ]
     },
     "execution_count": 64,
     "metadata": {},
     "output_type": "execute_result"
    }
   ],
   "source": [
    "rf = RandomForestRegressor(random_state=42)\n",
    "rf.fit(X_train, y_train_log)"
   ]
  },
  {
   "cell_type": "code",
   "execution_count": null,
   "metadata": {},
   "outputs": [],
   "source": [
    "y_pred_log = rf.predict(X_test)\n",
    "y_pred_rf = np.expm1(y_pred_log)"
   ]
  },
  {
   "cell_type": "code",
   "execution_count": null,
   "metadata": {},
   "outputs": [
    {
     "name": "stdout",
     "output_type": "stream",
     "text": [
      "Random Forest - RMSE: 5781.170190134396\n",
      "Random Forest - MAE: 3134.29563672731\n",
      "Random Forest - R2: 0.7981562691884041\n"
     ]
    }
   ],
   "source": [
    "mse_rf = mean_squared_error(y_test, y_pred_rf)\n",
    "rmse_rf = np.sqrt(mse_rf)\n",
    "mae_rf = mean_absolute_error(y_test, y_pred_rf)\n",
    "r2_rf = r2_score(y_test, y_pred_rf)\n",
    "\n",
    "print(f\"Random Forest - RMSE: {rmse_rf}\")\n",
    "print(f\"Random Forest - MAE: {mae_rf}\")\n",
    "print(f\"Random Forest - R2: {r2_rf}\")"
   ]
  },
  {
   "cell_type": "code",
   "execution_count": null,
   "metadata": {},
   "outputs": [
    {
     "name": "stdout",
     "output_type": "stream",
     "text": [
      "--- Baseline LR ---\n",
      "RMSE: 9460.38, MAE: 6450.23, R²: 0.4595\n",
      "--- XGBoost ---\n",
      "RMSE: 5298.73, MAE: 3050.66, R²: 0.8304\n",
      "--- Random Forest ---\n",
      "RMSE: 5781.17, MAE: 3134.30, R²: 0.7982\n"
     ]
    }
   ],
   "source": [
    "print(f\"--- Baseline LR ---\")\n",
    "print(f\"RMSE: {rmse_lr:.2f}, MAE: {mae_lr:.2f}, R²: {r2_lr:.4f}\")\n",
    "\n",
    "print(f\"--- XGBoost ---\")\n",
    "print(f\"RMSE: {rmse_xgb:.2f}, MAE: {mae_xgb:.2f}, R²: {r2_xgb:.4f}\")\n",
    "\n",
    "print(f\"--- Random Forest ---\")\n",
    "print(f\"RMSE: {rmse_rf:.2f}, MAE: {mae_rf:.2f}, R²: {r2_rf:.4f}\")"
   ]
  },
  {
   "cell_type": "markdown",
   "metadata": {},
   "source": [
    "- Vamos a comprobar si hay sobreajuste"
   ]
  },
  {
   "cell_type": "code",
   "execution_count": null,
   "metadata": {},
   "outputs": [
    {
     "name": "stdout",
     "output_type": "stream",
     "text": [
      "Train - RMSE: 3060.95, MAE: 1646.63\n",
      "Test  - RMSE: 5781.17, MAE: 3134.30\n"
     ]
    }
   ],
   "source": [
    "# Modelo entrenado, por ejemplo, rf_model\n",
    "# 1) Predicciones en train\n",
    "y_pred_train_log = rf.predict(X_train)\n",
    "y_pred_train = np.expm1(y_pred_train_log)  # volver a escala original\n",
    "mse_train = mean_squared_error(y_train, y_pred_train)\n",
    "rmse_train = np.sqrt(mse_train)\n",
    "mae_train = mean_absolute_error(y_train, y_pred_train)\n",
    "\n",
    "print(f\"Train - RMSE: {rmse_train:.2f}, MAE: {mae_train:.2f}\")\n",
    "\n",
    "# 2) Predicciones en test\n",
    "y_pred_test_log = rf.predict(X_test)\n",
    "y_pred_test = np.expm1(y_pred_test_log)\n",
    "mse_test = mean_squared_error(y_test, y_pred_test)\n",
    "rmse_test = np.sqrt(mse_test)\n",
    "mae_test = mean_absolute_error(y_test, y_pred_test)\n",
    "\n",
    "print(f\"Test  - RMSE: {rmse_test:.2f}, MAE: {mae_test:.2f}\")\n"
   ]
  },
  {
   "cell_type": "code",
   "execution_count": null,
   "metadata": {},
   "outputs": [],
   "source": [
    "def rmse_in_original(y_true_log, y_pred_log):\n",
    "    y_true = np.expm1(y_true_log)\n",
    "    y_pred = np.expm1(y_pred_log)\n",
    "    return np.sqrt(mean_squared_error(y_true, y_pred))\n",
    "\n",
    "rmse_scorer = make_scorer(rmse_in_original, greater_is_better=False)"
   ]
  },
  {
   "cell_type": "code",
   "execution_count": null,
   "metadata": {},
   "outputs": [
    {
     "name": "stdout",
     "output_type": "stream",
     "text": [
      "Fitting 5 folds for each of 324 candidates, totalling 1620 fits\n"
     ]
    },
    {
     "name": "stderr",
     "output_type": "stream",
     "text": [
      "c:\\Users\\Usuario\\AppData\\Local\\Programs\\Python\\Python312\\Lib\\site-packages\\sklearn\\model_selection\\_validation.py:540: FitFailedWarning: \n",
      "540 fits failed out of a total of 1620.\n",
      "The score on these train-test partitions for these parameters will be set to nan.\n",
      "If these failures are not expected, you can try to debug them by setting error_score='raise'.\n",
      "\n",
      "Below are more details about the failures:\n",
      "--------------------------------------------------------------------------------\n",
      "276 fits failed with the following error:\n",
      "Traceback (most recent call last):\n",
      "  File \"c:\\Users\\Usuario\\AppData\\Local\\Programs\\Python\\Python312\\Lib\\site-packages\\sklearn\\model_selection\\_validation.py\", line 888, in _fit_and_score\n",
      "    estimator.fit(X_train, y_train, **fit_params)\n",
      "  File \"c:\\Users\\Usuario\\AppData\\Local\\Programs\\Python\\Python312\\Lib\\site-packages\\sklearn\\base.py\", line 1466, in wrapper\n",
      "    estimator._validate_params()\n",
      "  File \"c:\\Users\\Usuario\\AppData\\Local\\Programs\\Python\\Python312\\Lib\\site-packages\\sklearn\\base.py\", line 666, in _validate_params\n",
      "    validate_parameter_constraints(\n",
      "  File \"c:\\Users\\Usuario\\AppData\\Local\\Programs\\Python\\Python312\\Lib\\site-packages\\sklearn\\utils\\_param_validation.py\", line 95, in validate_parameter_constraints\n",
      "    raise InvalidParameterError(\n",
      "sklearn.utils._param_validation.InvalidParameterError: The 'max_features' parameter of RandomForestRegressor must be an int in the range [1, inf), a float in the range (0.0, 1.0], a str among {'sqrt', 'log2'} or None. Got 'auto' instead.\n",
      "\n",
      "--------------------------------------------------------------------------------\n",
      "264 fits failed with the following error:\n",
      "Traceback (most recent call last):\n",
      "  File \"c:\\Users\\Usuario\\AppData\\Local\\Programs\\Python\\Python312\\Lib\\site-packages\\sklearn\\model_selection\\_validation.py\", line 888, in _fit_and_score\n",
      "    estimator.fit(X_train, y_train, **fit_params)\n",
      "  File \"c:\\Users\\Usuario\\AppData\\Local\\Programs\\Python\\Python312\\Lib\\site-packages\\sklearn\\base.py\", line 1466, in wrapper\n",
      "    estimator._validate_params()\n",
      "  File \"c:\\Users\\Usuario\\AppData\\Local\\Programs\\Python\\Python312\\Lib\\site-packages\\sklearn\\base.py\", line 666, in _validate_params\n",
      "    validate_parameter_constraints(\n",
      "  File \"c:\\Users\\Usuario\\AppData\\Local\\Programs\\Python\\Python312\\Lib\\site-packages\\sklearn\\utils\\_param_validation.py\", line 95, in validate_parameter_constraints\n",
      "    raise InvalidParameterError(\n",
      "sklearn.utils._param_validation.InvalidParameterError: The 'max_features' parameter of RandomForestRegressor must be an int in the range [1, inf), a float in the range (0.0, 1.0], a str among {'log2', 'sqrt'} or None. Got 'auto' instead.\n",
      "\n",
      "  warnings.warn(some_fits_failed_message, FitFailedWarning)\n",
      "c:\\Users\\Usuario\\AppData\\Local\\Programs\\Python\\Python312\\Lib\\site-packages\\sklearn\\model_selection\\_search.py:1103: UserWarning: One or more of the test scores are non-finite: [            nan             nan             nan             nan\n",
      "             nan             nan             nan             nan\n",
      "             nan             nan             nan             nan\n",
      "             nan             nan             nan             nan\n",
      "             nan             nan             nan             nan\n",
      "             nan             nan             nan             nan\n",
      "             nan             nan             nan  -8976.53021253\n",
      "  -8926.4238454   -8909.36349474  -9015.55542603  -8990.18522949\n",
      "  -8976.79501007  -9483.95452637  -9440.11886686  -9435.13206345\n",
      "  -9234.05910474  -9198.47654194  -9194.96769739  -9237.50826166\n",
      "  -9225.24674105  -9222.83981631  -9602.52590289  -9573.45392444\n",
      "  -9564.11112456  -9820.92195157  -9796.77704262  -9781.58169723\n",
      "  -9820.92195157  -9796.77704262  -9781.58169723  -9891.69364088\n",
      "  -9855.846286    -9854.85065554  -9201.1241614   -9157.18646583\n",
      "  -9128.36146     -9213.59742337  -9190.66244565  -9177.08551241\n",
      "  -9687.32963433  -9668.84940306  -9658.48126307  -9461.52988292\n",
      "  -9443.47323071  -9441.17914881  -9480.77679895  -9473.54391759\n",
      "  -9473.86266176  -9873.07231489  -9849.11898584  -9850.07683332\n",
      " -10145.99254121 -10118.25658856 -10109.26534121 -10145.99254121\n",
      " -10118.25658856 -10109.26534121 -10212.67215988 -10201.97215208\n",
      " -10187.22400841             nan             nan             nan\n",
      "             nan             nan             nan             nan\n",
      "             nan             nan             nan             nan\n",
      "             nan             nan             nan             nan\n",
      "             nan             nan             nan             nan\n",
      "             nan             nan             nan             nan\n",
      "             nan             nan             nan             nan\n",
      " -12761.9255715  -12732.2093974  -12724.58548152 -12761.93964375\n",
      " -12732.19880997 -12724.5609616  -12762.22751757 -12732.47582953\n",
      " -12724.80785748 -12762.05555869 -12732.28108797 -12724.60597748\n",
      " -12762.06135846 -12732.27806262 -12724.60403019 -12762.38271494\n",
      " -12732.5643945  -12724.83856515 -12762.74362434 -12732.8360361\n",
      " -12725.0868119  -12762.74362434 -12732.8360361  -12725.0868119\n",
      " -12762.99607538 -12732.99397192 -12725.2287142  -13031.44648868\n",
      " -12963.61856918 -12939.21613643 -13031.37777746 -12963.62439206\n",
      " -12939.21484865 -13031.43785608 -12963.80990231 -12939.41122088\n",
      " -13031.14814526 -12963.54647106 -12939.16617834 -13031.14347158\n",
      " -12963.53913497 -12939.16275174 -13031.29567468 -12963.72409122\n",
      " -12939.33662655 -13031.86705058 -12964.07363372 -12939.61894292\n",
      " -13031.86705058 -12964.07363372 -12939.61894292 -13031.98495667\n",
      " -12964.17262183 -12939.71441803             nan             nan\n",
      "             nan             nan             nan             nan\n",
      "             nan             nan             nan             nan\n",
      "             nan             nan             nan             nan\n",
      "             nan             nan             nan             nan\n",
      "             nan             nan             nan             nan\n",
      "             nan             nan             nan             nan\n",
      "             nan -12310.60340678 -12249.11405291 -12269.70306644\n",
      " -12311.54862233 -12248.17992822 -12270.09553184 -12314.01244964\n",
      " -12257.56180067 -12278.43726291 -12318.16283566 -12252.87134544\n",
      " -12275.39053244 -12316.98058764 -12252.17110477 -12273.99897405\n",
      " -12313.71419953 -12257.79733821 -12279.46589001 -12313.48780413\n",
      " -12250.90817498 -12276.96577924 -12313.48780413 -12250.90817498\n",
      " -12276.96577924 -12309.87124238 -12258.3485111  -12281.81017007\n",
      " -12700.08002719 -12614.40340188 -12599.22073486 -12690.7826033\n",
      " -12610.16080904 -12594.30063381 -12693.29380718 -12621.33811019\n",
      " -12602.94877168 -12698.15640589 -12614.43333564 -12597.35768758\n",
      " -12693.00298012 -12614.09565029 -12596.63496823 -12694.89131383\n",
      " -12621.54189836 -12603.13009495 -12700.52375067 -12627.03621128\n",
      " -12607.61883293 -12700.52375067 -12627.03621128 -12607.61883293\n",
      " -12701.96035761 -12626.6102186  -12607.64276476             nan\n",
      "             nan             nan             nan             nan\n",
      "             nan             nan             nan             nan\n",
      "             nan             nan             nan             nan\n",
      "             nan             nan             nan             nan\n",
      "             nan             nan             nan             nan\n",
      "             nan             nan             nan             nan\n",
      "             nan             nan -11588.82871007 -11503.60216212\n",
      " -11512.10621028 -11583.27243656 -11508.73082063 -11513.536312\n",
      " -11636.64917491 -11552.73405351 -11564.17972116 -11623.47424637\n",
      " -11525.43427823 -11534.99508138 -11606.74104827 -11529.33169112\n",
      " -11534.53306552 -11653.55628116 -11565.18677038 -11579.36896251\n",
      " -11680.08587828 -11593.40662041 -11605.9932298  -11680.08587828\n",
      " -11593.40662041 -11605.9932298  -11669.94540906 -11595.28516463\n",
      " -11608.67418386 -12062.20575001 -12000.74760136 -11961.89479202\n",
      " -12086.38234941 -12018.28887995 -11982.3751746  -12130.92077738\n",
      " -12065.08560596 -12025.8117786  -12090.70786055 -12033.67689616\n",
      " -11995.63504935 -12101.73673302 -12033.3365551  -11998.37212733\n",
      " -12122.57662788 -12062.82002688 -12028.82014708 -12151.65743652\n",
      " -12085.13636556 -12046.60108145 -12151.65743652 -12085.13636556\n",
      " -12046.60108145 -12156.40204725 -12091.71707507 -12052.01959705]\n",
      "  warnings.warn(\n"
     ]
    },
    {
     "name": "stdout",
     "output_type": "stream",
     "text": [
      "Mejores parámetros: {'max_depth': None, 'max_features': 'sqrt', 'min_samples_leaf': 1, 'min_samples_split': 2, 'n_estimators': 300}\n",
      "Mejor score: -8909.363494742267\n",
      "Mejor RMSE en CV escala original: 8909.36\n"
     ]
    }
   ],
   "source": [
    "param_grid = {\n",
    "    \"n_estimators\": [100, 200, 300],\n",
    "    \"max_depth\": [None, 3 ,5, 8],\n",
    "    \"min_samples_split\": [2, 5, 10],\n",
    "    \"min_samples_leaf\": [1, 2, 4],\n",
    "    \"max_features\": [\"auto\", \"sqrt\", \"log2\"],\n",
    "}\n",
    "\n",
    "kf = KFold(n_splits=5, shuffle=True, random_state=42)\n",
    "\n",
    "grid_rf = GridSearchCV(\n",
    "    estimator=rf,\n",
    "    param_grid=param_grid,\n",
    "    scoring=rmse_scorer,\n",
    "    cv=kf,\n",
    "    n_jobs=-1,\n",
    "    verbose=2,\n",
    ")\n",
    "\n",
    "grid_rf.fit(X_train, y_train_log)\n",
    "print(\"Mejores parámetros:\", grid_rf.best_params_)\n",
    "print(\"Mejor score:\", grid_rf.best_score_)\n",
    "rmse_cv_best_rf = -grid_rf.best_score_\n",
    "print(f\"Mejor RMSE en CV escala original: {rmse_cv_best_rf:.2f}\")"
   ]
  },
  {
   "cell_type": "code",
   "execution_count": null,
   "metadata": {},
   "outputs": [
    {
     "name": "stdout",
     "output_type": "stream",
     "text": [
      "RF en test con CV - RMSE: 8812.65, MAE: 5318.45, R²: 0.531\n"
     ]
    }
   ],
   "source": [
    "best_rf = grid_rf.best_estimator_\n",
    "\n",
    "# Predecir en escala log\n",
    "y_pred_log = best_rf.predict(X_test)\n",
    "\n",
    "# Convertir a original\n",
    "y_pred = np.expm1(y_pred_log)\n",
    "\n",
    "# Mides el error en la escala original\n",
    "\n",
    "rmse_test = np.sqrt(mean_squared_error(y_test, y_pred))\n",
    "mae_test  = mean_absolute_error(y_test, y_pred)\n",
    "r2_test   = r2_score(y_test, y_pred)\n",
    "\n",
    "print(f\"RF en test con CV - RMSE: {rmse_test:.2f}, MAE: {mae_test:.2f}, R²: {r2_test:.3f}\")\n"
   ]
  },
  {
   "cell_type": "code",
   "execution_count": null,
   "metadata": {},
   "outputs": [
    {
     "name": "stdout",
     "output_type": "stream",
     "text": [
      "RMSE en CV: [5799.72498295 6187.24183298 5885.48897122]\n",
      "Media RMSE: 5957.485262383864\n"
     ]
    }
   ],
   "source": [
    "scores = cross_val_score(\n",
    "    rf, \n",
    "    X_train, \n",
    "    y_train_log, \n",
    "    scoring=rmse_scorer,\n",
    "    cv=3\n",
    ")\n",
    "\n",
    "# Se obtiene un array de valores negativos\n",
    "scores_rmse = -scores  \n",
    "print(\"RMSE en CV:\", scores_rmse)\n",
    "print(\"Media RMSE:\", scores_rmse.mean())"
   ]
  },
  {
   "cell_type": "code",
   "execution_count": null,
   "metadata": {},
   "outputs": [],
   "source": [
    "param_grid = {\n",
    "    'max_depth': [3, 5],\n",
    "    'learning_rate': [0.01, 0.1],\n",
    "    'subsample': [1.0, 0.8],\n",
    "    'colsample_bytree': [1.0, 0.8]\n",
    "}\n",
    "\n",
    "kf = KFold(n_splits=3, shuffle=True, random_state=42)\n",
    "\n",
    "grid_xgb = GridSearchCV(\n",
    "    estimator=xgb_model,\n",
    "    param_grid=param_grid,\n",
    "    scoring=rmse_scorer,\n",
    "    cv=kf,\n",
    "    n_jobs=-1,\n",
    "    verbose=2\n",
    ")"
   ]
  },
  {
   "cell_type": "code",
   "execution_count": null,
   "metadata": {},
   "outputs": [
    {
     "name": "stdout",
     "output_type": "stream",
     "text": [
      "Fitting 3 folds for each of 16 candidates, totalling 48 fits\n",
      "Mejores parámetros: {'colsample_bytree': 1.0, 'learning_rate': 0.01, 'max_depth': 3, 'subsample': 1.0}\n",
      "Mejor score (neg RMSE): nan\n",
      "Mejor RMSE (positivo) en CV: nan\n"
     ]
    },
    {
     "name": "stderr",
     "output_type": "stream",
     "text": [
      "c:\\Users\\Usuario\\AppData\\Local\\Programs\\Python\\Python312\\Lib\\site-packages\\sklearn\\model_selection\\_search.py:1103: UserWarning: One or more of the test scores are non-finite: [nan nan nan nan nan nan nan nan nan nan nan nan nan nan nan nan]\n",
      "  warnings.warn(\n"
     ]
    }
   ],
   "source": [
    "grid_xgb.fit(X_train, y_train)\n",
    "print(\"Mejores parámetros:\", grid_xgb.best_params_)\n",
    "print(\"Mejor score (neg RMSE):\", grid_xgb.best_score_)\n",
    "best_rmse = -grid_xgb.best_score_\n",
    "print(f\"Mejor RMSE (positivo) en CV: {best_rmse:.2f}\")\n"
   ]
  },
  {
   "cell_type": "code",
   "execution_count": null,
   "metadata": {},
   "outputs": [
    {
     "data": {
      "text/plain": [
       "<function list.index(value, start=0, stop=9223372036854775807, /)>"
      ]
     },
     "execution_count": 90,
     "metadata": {},
     "output_type": "execute_result"
    }
   ],
   "source": []
  },
  {
   "cell_type": "code",
   "execution_count": null,
   "metadata": {},
   "outputs": [],
   "source": []
  },
  {
   "cell_type": "code",
   "execution_count": null,
   "metadata": {},
   "outputs": [],
   "source": []
  },
  {
   "cell_type": "code",
   "execution_count": null,
   "metadata": {},
   "outputs": [
    {
     "name": "stderr",
     "output_type": "stream",
     "text": [
      "C:\\Users\\Usuario\\AppData\\Local\\Temp\\ipykernel_3056\\3207993305.py:5: FutureWarning: \n",
      "\n",
      "Passing `palette` without assigning `hue` is deprecated and will be removed in v0.14.0. Assign the `y` variable to `hue` and set `legend=False` for the same effect.\n",
      "\n",
      "  sns.barplot(x=feature_importances.importance[:20], y=feature_importances.feature[:20], palette=\"viridis\")\n"
     ]
    },
    {
     "data": {
      "image/png": "[encoded data removed]",
      "text/plain": [
       "<Figure size 1000x600 with 1 Axes>"
      ]
     },
     "metadata": {},
     "output_type": "display_data"
    }
   ],
   "source": [
    "feature_importances = pd.DataFrame({\"feature\": X_train.columns, \"importance\": rf.feature_importances_})\n",
    "feature_importances = feature_importances.sort_values(by=\"importance\", ascending=False)\n",
    "\n",
    "plt.figure(figsize=(10, 6))\n",
    "sns.barplot(x=feature_importances.importance[:20], y=feature_importances.feature[:20], palette=\"viridis\")\n",
    "plt.xlabel(\"Importancia\")\n",
    "plt.title(\"Feature Importance - Random Forest\")\n",
    "plt.show()"
   ]
  },
  {
   "cell_type": "code",
   "execution_count": null,
   "metadata": {},
   "outputs": [
    {
     "name": "stderr",
     "output_type": "stream",
     "text": [
      "C:\\Users\\Usuario\\AppData\\Local\\Temp\\ipykernel_3056\\1807826985.py:11: FutureWarning: \n",
      "\n",
      "Passing `palette` without assigning `hue` is deprecated and will be removed in v0.14.0. Assign the `y` variable to `hue` and set `legend=False` for the same effect.\n",
      "\n",
      "  sns.barplot(x=feature_importances_xgb.importance[:20], y=feature_importances_xgb.feature[:20], palette=\"coolwarm\")\n"
     ]
    },
    {
     "data": {
      "image/png": "[encoded data removed]",
      "text/plain": [
       "<Figure size 1000x600 with 1 Axes>"
      ]
     },
     "metadata": {},
     "output_type": "display_data"
    }
   ],
   "source": [
    "# Entrenar un modelo XGBoost\n",
    "xgb = XGBRegressor(n_estimators=100, random_state=42)\n",
    "xgb.fit(X_train, y_train)\n",
    "\n",
    "# Importancia de features\n",
    "feature_importances_xgb = pd.DataFrame({'feature': X_train.columns, 'importance': xgb.feature_importances_})\n",
    "feature_importances_xgb = feature_importances_xgb.sort_values(by='importance', ascending=False)\n",
    "\n",
    "# Graficar\n",
    "plt.figure(figsize=(10, 6))\n",
    "sns.barplot(x=feature_importances_xgb.importance[:20], y=feature_importances_xgb.feature[:20], palette=\"coolwarm\")\n",
    "plt.xlabel(\"Importancia\")\n",
    "plt.title(\"Feature Importance - XGBoost\")\n",
    "plt.show()\n"
   ]
  },
  {
   "cell_type": "markdown",
   "metadata": {},
   "source": [
    "# ✅ Step 6: Selección e instanciación de modelos. Baseline.\n"
   ]
  },
  {
   "cell_type": "code",
   "execution_count": null,
   "metadata": {},
   "outputs": [],
   "source": []
  },
  {
   "cell_type": "code",
   "execution_count": null,
   "metadata": {},
   "outputs": [],
   "source": []
  },
  {
   "cell_type": "code",
   "execution_count": null,
   "metadata": {},
   "outputs": [],
   "source": []
  },
  {
   "cell_type": "code",
   "execution_count": null,
   "metadata": {},
   "outputs": [],
   "source": []
  },
  {
   "cell_type": "markdown",
   "metadata": {},
   "source": [
    "# ✅ Step 8: Comparación de modelos.\n"
   ]
  },
  {
   "cell_type": "code",
   "execution_count": null,
   "metadata": {},
   "outputs": [],
   "source": []
  },
  {
   "cell_type": "code",
   "execution_count": null,
   "metadata": {},
   "outputs": [],
   "source": []
  },
  {
   "cell_type": "markdown",
   "metadata": {},
   "source": [
    "# ✅ Step 9: Selección del modelo - Optimización de hiperparámetros.\n"
   ]
  },
  {
   "cell_type": "code",
   "execution_count": null,
   "metadata": {},
   "outputs": [],
   "source": []
  },
  {
   "cell_type": "code",
   "execution_count": null,
   "metadata": {},
   "outputs": [],
   "source": []
  },
  {
   "cell_type": "markdown",
   "metadata": {},
   "source": [
    "# ✅ Step 10: Evaluación contra test.\n"
   ]
  },
  {
   "cell_type": "code",
   "execution_count": null,
   "metadata": {},
   "outputs": [],
   "source": []
  },
  {
   "cell_type": "code",
   "execution_count": null,
   "metadata": {},
   "outputs": [],
   "source": []
  },
  {
   "cell_type": "markdown",
   "metadata": {},
   "source": [
    "# ✅ Step 11: Análisis de errores.\n"
   ]
  },
  {
   "cell_type": "code",
   "execution_count": null,
   "metadata": {},
   "outputs": [],
   "source": []
  },
  {
   "cell_type": "markdown",
   "metadata": {},
   "source": [
    "# ✅ Step 12: Persistencia del modelo en disco."
   ]
  },
  {
   "cell_type": "code",
   "execution_count": null,
   "metadata": {},
   "outputs": [],
   "source": []
  }
 ],
 "metadata": {
  "kernelspec": {
   "display_name": "Python 3",
   "language": "python",
   "name": "python3"
  },
  "language_info": {
   "codemirror_mode": {
    "name": "ipython",
    "version": 3
   },
   "file_extension": ".py",
   "mimetype": "text/x-python",
   "name": "python",
   "nbconvert_exporter": "python",
   "pygments_lexer": "ipython3",
   "version": "3.12.7"
  }
 },
 "nbformat": 4,
 "nbformat_minor": 2
}

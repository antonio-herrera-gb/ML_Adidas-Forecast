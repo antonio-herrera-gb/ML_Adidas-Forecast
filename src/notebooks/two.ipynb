{
 "cells": [
  {
   "cell_type": "markdown",
   "metadata": {},
   "source": [
    "# Importaciones para el proyecto:"
   ]
  },
  {
   "cell_type": "code",
   "execution_count": 2,
   "metadata": {},
   "outputs": [
    {
     "name": "stdout",
     "output_type": "stream",
     "text": [
      "c:\\Users\\Usuario\\REPO_BOOTCAMP\\ML_Adidas-Forecast\\src\\notebooks\n"
     ]
    }
   ],
   "source": [
    "import sys\n",
    "import os\n",
    "print(os.getcwd())\n",
    "sys.path.append(os.path.abspath(\"../\"))"
   ]
  },
  {
   "cell_type": "code",
   "execution_count": 3,
   "metadata": {},
   "outputs": [
    {
     "name": "stdout",
     "output_type": "stream",
     "text": [
      "Paquete utils cargado correctamente\n"
     ]
    }
   ],
   "source": [
    "import pandas as pd\n",
    "import numpy as np\n",
    "import matplotlib.pyplot as plt\n",
    "import seaborn as sns\n",
    "\n",
    "from sklearn.model_selection import train_test_split\n",
    "from sklearn.linear_model import LinearRegression\n",
    "from sklearn.metrics import mean_squared_error, mean_absolute_error, r2_score, make_scorer\n",
    "from sklearn.model_selection import cross_val_score, KFold, GridSearchCV\n",
    "from sklearn.ensemble import RandomForestRegressor\n",
    "from xgboost import XGBRegressor\n",
    "\n",
    "import utils.bootcampviztools as bt\n",
    "import utils.toolbox_ML as tb\n",
    "import utils.funciones_eda as fe"
   ]
  },
  {
   "cell_type": "markdown",
   "metadata": {},
   "source": [
    "# ✅ Step 1: Objetivo del proyecto.\n"
   ]
  },
  {
   "cell_type": "markdown",
   "metadata": {},
   "source": [
    "### ADIDAS Y SUS DISTRIBUIDORES EN UNITED STATES. 🔎\n",
    "\n",
    "Adidas quiere saber una predicción razonable de cuánto facturarán las tiendas distribuidoras para asi saber si los productos que solicitan son adecuados a su nivel de facturación. Es muy importante que el producto esté en el lugar más eficiente posible y para ello debemos predecirlo.\n",
    "\n",
    "A su vez, quieren plantear un sistema logístico para los Estados de USA donde haya más demanda de producto. Considerando asi una prevención a la rotura de stock y a la mejora en costes ya que el producto más vendido en cada Estado estaría más cerca de dichas tiendas distribuidoras.\n",
    "\n",
    "🤔 PREGUNTAS QUE NOS HACEMOS 🤔\n",
    "\n",
    "A. PREDECIR LA FACTURACIÓN DE LAS TIENDAS DISTRIBUIDORAS 💵 (pt. I)\n",
    "\n",
    "B. PREVENCIÓN A LA ROTURA DE STOCK E INVESTIGACIÓN DE MERCADO 🚛 (pt. II)\n",
    "- ¿Qué mercado es el que está en auge para estos años?\n",
    "- ¿Hay algún mercado que debamos conocer que vaya en declive?\n",
    "- ¿Cumplirán las tiendas con el mínimo de facturación deseable?\n",
    "- ¿Varía la facturación con la estacionalidad?\n",
    "- ¿En qué regiones debemos tener un centro logístico más potente para el futuro?\n",
    "- ¿Cuánto stock por categoría deberá estar disponible en cada región?\n",
    "\n",
    "🙋‍♂️ *El proyecto contiene **dos partes**. Al ser un proyecto extenso, la primera parte **(A)** será la entregada para calificar. La parte II **(B)** se contestará en las próximas semanas de forma personal.*\n",
    "\n",
    "👁‍🗨 *El papel de \"Negocio\" es muy importante en este proyecto. Hay muchos matices que dependiendo de lo que \"Negocio\" crea conveniente, se haría de una forma u otra.*"
   ]
  },
  {
   "cell_type": "markdown",
   "metadata": {},
   "source": [
    "# ✅ Step 2: Obtener datos.\n"
   ]
  },
  {
   "cell_type": "code",
   "execution_count": 3,
   "metadata": {},
   "outputs": [],
   "source": [
    "file_path = \"../data/adidas_sales.csv\""
   ]
  },
  {
   "cell_type": "code",
   "execution_count": 4,
   "metadata": {},
   "outputs": [
    {
     "data": {
      "text/html": [
       "<div>\n",
       "<style scoped>\n",
       "    .dataframe tbody tr th:only-of-type {\n",
       "        vertical-align: middle;\n",
       "    }\n",
       "\n",
       "    .dataframe tbody tr th {\n",
       "        vertical-align: top;\n",
       "    }\n",
       "\n",
       "    .dataframe thead th {\n",
       "        text-align: right;\n",
       "    }\n",
       "</style>\n",
       "<table border=\"1\" class=\"dataframe\">\n",
       "  <thead>\n",
       "    <tr style=\"text-align: right;\">\n",
       "      <th></th>\n",
       "      <th>Retailer</th>\n",
       "      <th>Retailer ID</th>\n",
       "      <th>Invoice Date</th>\n",
       "      <th>Region</th>\n",
       "      <th>State</th>\n",
       "      <th>City</th>\n",
       "      <th>Product</th>\n",
       "      <th>Price per Unit</th>\n",
       "      <th>Units Sold</th>\n",
       "      <th>Total Sales</th>\n",
       "      <th>Operating Profit</th>\n",
       "      <th>Sales Method</th>\n",
       "    </tr>\n",
       "  </thead>\n",
       "  <tbody>\n",
       "    <tr>\n",
       "      <th>0</th>\n",
       "      <td>Walmart</td>\n",
       "      <td>1128299</td>\n",
       "      <td>6/17/2021</td>\n",
       "      <td>Southeast</td>\n",
       "      <td>Florida</td>\n",
       "      <td>Orlando</td>\n",
       "      <td>Women's Apparel</td>\n",
       "      <td>$103.00</td>\n",
       "      <td>218</td>\n",
       "      <td>2,245</td>\n",
       "      <td>$1,257</td>\n",
       "      <td>Online</td>\n",
       "    </tr>\n",
       "    <tr>\n",
       "      <th>1</th>\n",
       "      <td>West Gear</td>\n",
       "      <td>1128299</td>\n",
       "      <td>7/16/2021</td>\n",
       "      <td>South</td>\n",
       "      <td>Louisiana</td>\n",
       "      <td>New Orleans</td>\n",
       "      <td>Women's Apparel</td>\n",
       "      <td>$103.00</td>\n",
       "      <td>163</td>\n",
       "      <td>1,679</td>\n",
       "      <td>$806</td>\n",
       "      <td>Online</td>\n",
       "    </tr>\n",
       "    <tr>\n",
       "      <th>2</th>\n",
       "      <td>Sports Direct</td>\n",
       "      <td>1197831</td>\n",
       "      <td>8/25/2021</td>\n",
       "      <td>South</td>\n",
       "      <td>Alabama</td>\n",
       "      <td>Birmingham</td>\n",
       "      <td>Men's Street Footwear</td>\n",
       "      <td>$10.00</td>\n",
       "      <td>700</td>\n",
       "      <td>7,000</td>\n",
       "      <td>$3,150</td>\n",
       "      <td>Outlet</td>\n",
       "    </tr>\n",
       "    <tr>\n",
       "      <th>3</th>\n",
       "      <td>Sports Direct</td>\n",
       "      <td>1197831</td>\n",
       "      <td>8/27/2021</td>\n",
       "      <td>South</td>\n",
       "      <td>Alabama</td>\n",
       "      <td>Birmingham</td>\n",
       "      <td>Women's Street Footwear</td>\n",
       "      <td>$15.00</td>\n",
       "      <td>575</td>\n",
       "      <td>8,625</td>\n",
       "      <td>$3,881</td>\n",
       "      <td>Outlet</td>\n",
       "    </tr>\n",
       "    <tr>\n",
       "      <th>4</th>\n",
       "      <td>Sports Direct</td>\n",
       "      <td>1197831</td>\n",
       "      <td>8/21/2021</td>\n",
       "      <td>South</td>\n",
       "      <td>Alabama</td>\n",
       "      <td>Birmingham</td>\n",
       "      <td>Women's Street Footwear</td>\n",
       "      <td>$15.00</td>\n",
       "      <td>475</td>\n",
       "      <td>7,125</td>\n",
       "      <td>$3,206</td>\n",
       "      <td>Outlet</td>\n",
       "    </tr>\n",
       "  </tbody>\n",
       "</table>\n",
       "</div>"
      ],
      "text/plain": [
       "        Retailer  Retailer ID Invoice Date     Region      State         City  \\\n",
       "0        Walmart      1128299    6/17/2021  Southeast    Florida      Orlando   \n",
       "1      West Gear      1128299    7/16/2021      South  Louisiana  New Orleans   \n",
       "2  Sports Direct      1197831    8/25/2021      South    Alabama   Birmingham   \n",
       "3  Sports Direct      1197831    8/27/2021      South    Alabama   Birmingham   \n",
       "4  Sports Direct      1197831    8/21/2021      South    Alabama   Birmingham   \n",
       "\n",
       "                   Product Price per Unit Units Sold Total Sales  \\\n",
       "0          Women's Apparel       $103.00         218       2,245   \n",
       "1          Women's Apparel       $103.00         163       1,679   \n",
       "2    Men's Street Footwear        $10.00         700       7,000   \n",
       "3  Women's Street Footwear        $15.00         575       8,625   \n",
       "4  Women's Street Footwear        $15.00         475       7,125   \n",
       "\n",
       "  Operating Profit Sales Method  \n",
       "0          $1,257        Online  \n",
       "1            $806        Online  \n",
       "2          $3,150        Outlet  \n",
       "3          $3,881        Outlet  \n",
       "4          $3,206        Outlet  "
      ]
     },
     "execution_count": 4,
     "metadata": {},
     "output_type": "execute_result"
    }
   ],
   "source": [
    "df = pd.read_csv(file_path)\n",
    "df.head(5)"
   ]
  },
  {
   "cell_type": "markdown",
   "metadata": {},
   "source": [
    "---------\n",
    "A simple vista vemos:\n",
    "- Columnas espaciadas.\n",
    "- Error en el cálculo de ***\"Total Sales\"***\n",
    "- Columnas que vamos a limpiar para tener el DataFrame lo más funcional posible.\n",
    "\n",
    "Y más cosas que veremos en el siguiente paso"
   ]
  },
  {
   "cell_type": "markdown",
   "metadata": {},
   "source": [
    "# ✅ Step 3: Limpieza de datos - Correcciones - Nuevos datasets.\n"
   ]
  },
  {
   "cell_type": "markdown",
   "metadata": {},
   "source": [
    "- Solucionamos las columnas espaciadas:"
   ]
  },
  {
   "cell_type": "code",
   "execution_count": 5,
   "metadata": {},
   "outputs": [],
   "source": [
    "df.columns = df.columns.str.lower()\n",
    "df.columns = df.columns.str.replace(\" \", \"_\")"
   ]
  },
  {
   "cell_type": "code",
   "execution_count": 6,
   "metadata": {},
   "outputs": [
    {
     "name": "stdout",
     "output_type": "stream",
     "text": [
      "<class 'pandas.core.frame.DataFrame'>\n",
      "RangeIndex: 9641 entries, 0 to 9640\n",
      "Data columns (total 12 columns):\n",
      " #   Column            Non-Null Count  Dtype \n",
      "---  ------            --------------  ----- \n",
      " 0   retailer          9641 non-null   object\n",
      " 1   retailer_id       9641 non-null   int64 \n",
      " 2   invoice_date      9641 non-null   object\n",
      " 3   region            9641 non-null   object\n",
      " 4   state             9641 non-null   object\n",
      " 5   city              9641 non-null   object\n",
      " 6   product           9641 non-null   object\n",
      " 7   price_per_unit    9639 non-null   object\n",
      " 8   units_sold        9641 non-null   object\n",
      " 9   total_sales       9641 non-null   object\n",
      " 10  operating_profit  9641 non-null   object\n",
      " 11  sales_method      9641 non-null   object\n",
      "dtypes: int64(1), object(11)\n",
      "memory usage: 904.0+ KB\n"
     ]
    }
   ],
   "source": [
    "df.info()"
   ]
  },
  {
   "cell_type": "markdown",
   "metadata": {},
   "source": [
    "- Valores faltantes en ***\"price_per_unit\"*** pero antes solucionaremos el error de cálculo en ***\"total_sales\"***\n",
    "- Tenemos tipo object en todas las columnas, debemos transformar a númericas algunas.\n",
    "- Queremos transformar ***\"invoice_date\"*** en datetime.\n",
    "- Vamos a eliminar columnas no relevantes al proyecto."
   ]
  },
  {
   "cell_type": "code",
   "execution_count": 7,
   "metadata": {},
   "outputs": [
    {
     "data": {
      "text/html": [
       "<div>\n",
       "<style scoped>\n",
       "    .dataframe tbody tr th:only-of-type {\n",
       "        vertical-align: middle;\n",
       "    }\n",
       "\n",
       "    .dataframe tbody tr th {\n",
       "        vertical-align: top;\n",
       "    }\n",
       "\n",
       "    .dataframe thead th {\n",
       "        text-align: right;\n",
       "    }\n",
       "</style>\n",
       "<table border=\"1\" class=\"dataframe\">\n",
       "  <thead>\n",
       "    <tr style=\"text-align: right;\">\n",
       "      <th></th>\n",
       "      <th>retailer</th>\n",
       "      <th>retailer_id</th>\n",
       "      <th>invoice_date</th>\n",
       "      <th>region</th>\n",
       "      <th>state</th>\n",
       "      <th>city</th>\n",
       "      <th>product</th>\n",
       "      <th>price_per_unit</th>\n",
       "      <th>units_sold</th>\n",
       "      <th>total_sales</th>\n",
       "      <th>operating_profit</th>\n",
       "      <th>sales_method</th>\n",
       "    </tr>\n",
       "  </thead>\n",
       "  <tbody>\n",
       "    <tr>\n",
       "      <th>1580</th>\n",
       "      <td>Foot Locker</td>\n",
       "      <td>1185732</td>\n",
       "      <td>3/17/2021</td>\n",
       "      <td>Midwest</td>\n",
       "      <td>Missouri</td>\n",
       "      <td>St. Louis</td>\n",
       "      <td>Men's Street Footwear</td>\n",
       "      <td>$34.00</td>\n",
       "      <td>186</td>\n",
       "      <td>632</td>\n",
       "      <td>$323</td>\n",
       "      <td>Online</td>\n",
       "    </tr>\n",
       "  </tbody>\n",
       "</table>\n",
       "</div>"
      ],
      "text/plain": [
       "         retailer  retailer_id invoice_date   region     state       city  \\\n",
       "1580  Foot Locker      1185732    3/17/2021  Midwest  Missouri  St. Louis   \n",
       "\n",
       "                    product price_per_unit units_sold total_sales  \\\n",
       "1580  Men's Street Footwear        $34.00         186         632   \n",
       "\n",
       "     operating_profit sales_method  \n",
       "1580            $323        Online  "
      ]
     },
     "execution_count": 7,
     "metadata": {},
     "output_type": "execute_result"
    }
   ],
   "source": [
    "df.sample(1)"
   ]
  },
  {
   "cell_type": "markdown",
   "metadata": {},
   "source": [
    "- Si vemos el *sample* podemos ver que la multiplicación en ***\"total_sales\"*** (*price_per_unit* y *units_sold*) no es correcta. Vamos a hacerla de nuevo y corregiremos el símbolo del dollar. La haremos tipo numérica. Por último añadiremos dos decimales en las columnas."
   ]
  },
  {
   "cell_type": "code",
   "execution_count": 8,
   "metadata": {},
   "outputs": [],
   "source": [
    "df[\"price_per_unit\"] = df[\"price_per_unit\"].str.replace(\"$\", \"\")\n",
    "df[\"price_per_unit\"] = pd.to_numeric(df[\"price_per_unit\"], errors=\"coerce\")"
   ]
  },
  {
   "cell_type": "code",
   "execution_count": 9,
   "metadata": {},
   "outputs": [
    {
     "data": {
      "text/html": [
       "<div>\n",
       "<style scoped>\n",
       "    .dataframe tbody tr th:only-of-type {\n",
       "        vertical-align: middle;\n",
       "    }\n",
       "\n",
       "    .dataframe tbody tr th {\n",
       "        vertical-align: top;\n",
       "    }\n",
       "\n",
       "    .dataframe thead th {\n",
       "        text-align: right;\n",
       "    }\n",
       "</style>\n",
       "<table border=\"1\" class=\"dataframe\">\n",
       "  <thead>\n",
       "    <tr style=\"text-align: right;\">\n",
       "      <th></th>\n",
       "      <th>retailer</th>\n",
       "      <th>retailer_id</th>\n",
       "      <th>invoice_date</th>\n",
       "      <th>region</th>\n",
       "      <th>state</th>\n",
       "      <th>city</th>\n",
       "      <th>product</th>\n",
       "      <th>price_per_unit</th>\n",
       "      <th>units_sold</th>\n",
       "      <th>total_sales</th>\n",
       "      <th>operating_profit</th>\n",
       "      <th>sales_method</th>\n",
       "    </tr>\n",
       "  </thead>\n",
       "  <tbody>\n",
       "    <tr>\n",
       "      <th>6472</th>\n",
       "      <td>West Gear</td>\n",
       "      <td>1185732</td>\n",
       "      <td>4/3/2021</td>\n",
       "      <td>Midwest</td>\n",
       "      <td>Wisconsin</td>\n",
       "      <td>Milwaukee</td>\n",
       "      <td>Women's Athletic Footwear</td>\n",
       "      <td>15.0</td>\n",
       "      <td>22</td>\n",
       "      <td>33</td>\n",
       "      <td>$14</td>\n",
       "      <td>Online</td>\n",
       "    </tr>\n",
       "    <tr>\n",
       "      <th>5909</th>\n",
       "      <td>West Gear</td>\n",
       "      <td>1128299</td>\n",
       "      <td>1/24/2020</td>\n",
       "      <td>West</td>\n",
       "      <td>Nevada</td>\n",
       "      <td>Las Vegas</td>\n",
       "      <td>Men's Apparel</td>\n",
       "      <td>63.0</td>\n",
       "      <td>52</td>\n",
       "      <td>328</td>\n",
       "      <td>$216</td>\n",
       "      <td>Online</td>\n",
       "    </tr>\n",
       "    <tr>\n",
       "      <th>3663</th>\n",
       "      <td>West Gear</td>\n",
       "      <td>1185732</td>\n",
       "      <td>5/12/2021</td>\n",
       "      <td>West</td>\n",
       "      <td>Utah</td>\n",
       "      <td>Salt Lake City</td>\n",
       "      <td>Women's Apparel</td>\n",
       "      <td>44.0</td>\n",
       "      <td>120</td>\n",
       "      <td>528</td>\n",
       "      <td>$343</td>\n",
       "      <td>Online</td>\n",
       "    </tr>\n",
       "    <tr>\n",
       "      <th>4874</th>\n",
       "      <td>Sports Direct</td>\n",
       "      <td>1185732</td>\n",
       "      <td>8/14/2021</td>\n",
       "      <td>Northeast</td>\n",
       "      <td>Massachusetts</td>\n",
       "      <td>Boston</td>\n",
       "      <td>Women's Street Footwear</td>\n",
       "      <td>29.0</td>\n",
       "      <td>85</td>\n",
       "      <td>247</td>\n",
       "      <td>$76</td>\n",
       "      <td>Outlet</td>\n",
       "    </tr>\n",
       "    <tr>\n",
       "      <th>1677</th>\n",
       "      <td>Foot Locker</td>\n",
       "      <td>1128299</td>\n",
       "      <td>12/22/2021</td>\n",
       "      <td>West</td>\n",
       "      <td>Arizona</td>\n",
       "      <td>Phoenix</td>\n",
       "      <td>Men's Street Footwear</td>\n",
       "      <td>44.0</td>\n",
       "      <td>181</td>\n",
       "      <td>796</td>\n",
       "      <td>$366</td>\n",
       "      <td>Online</td>\n",
       "    </tr>\n",
       "    <tr>\n",
       "      <th>8499</th>\n",
       "      <td>Kohl's</td>\n",
       "      <td>1189833</td>\n",
       "      <td>2/25/2021</td>\n",
       "      <td>Midwest</td>\n",
       "      <td>Montana</td>\n",
       "      <td>Billings</td>\n",
       "      <td>Women's Apparel</td>\n",
       "      <td>60.0</td>\n",
       "      <td>400</td>\n",
       "      <td>24,000</td>\n",
       "      <td>$6,000</td>\n",
       "      <td>Outlet</td>\n",
       "    </tr>\n",
       "  </tbody>\n",
       "</table>\n",
       "</div>"
      ],
      "text/plain": [
       "           retailer  retailer_id invoice_date     region          state  \\\n",
       "6472      West Gear      1185732     4/3/2021    Midwest      Wisconsin   \n",
       "5909      West Gear      1128299    1/24/2020       West         Nevada   \n",
       "3663      West Gear      1185732    5/12/2021       West           Utah   \n",
       "4874  Sports Direct      1185732    8/14/2021  Northeast  Massachusetts   \n",
       "1677    Foot Locker      1128299   12/22/2021       West        Arizona   \n",
       "8499         Kohl's      1189833    2/25/2021    Midwest        Montana   \n",
       "\n",
       "                city                    product  price_per_unit units_sold  \\\n",
       "6472       Milwaukee  Women's Athletic Footwear            15.0         22   \n",
       "5909       Las Vegas              Men's Apparel            63.0         52   \n",
       "3663  Salt Lake City            Women's Apparel            44.0        120   \n",
       "4874          Boston    Women's Street Footwear            29.0         85   \n",
       "1677         Phoenix      Men's Street Footwear            44.0        181   \n",
       "8499        Billings            Women's Apparel            60.0        400   \n",
       "\n",
       "     total_sales operating_profit sales_method  \n",
       "6472          33             $14        Online  \n",
       "5909         328            $216        Online  \n",
       "3663         528            $343        Online  \n",
       "4874         247             $76        Outlet  \n",
       "1677         796            $366        Online  \n",
       "8499      24,000          $6,000        Outlet  "
      ]
     },
     "execution_count": 9,
     "metadata": {},
     "output_type": "execute_result"
    }
   ],
   "source": [
    "# Visión general de los datos\n",
    "df.sample(6)"
   ]
  },
  {
   "cell_type": "code",
   "execution_count": 10,
   "metadata": {},
   "outputs": [],
   "source": [
    "df[\"units_sold\"] = pd.to_numeric(df[\"units_sold\"].str.replace(\",\", \"\"),errors=\"coerce\")"
   ]
  },
  {
   "cell_type": "code",
   "execution_count": 11,
   "metadata": {},
   "outputs": [
    {
     "name": "stdout",
     "output_type": "stream",
     "text": [
      "<class 'pandas.core.frame.DataFrame'>\n",
      "RangeIndex: 9641 entries, 0 to 9640\n",
      "Data columns (total 12 columns):\n",
      " #   Column            Non-Null Count  Dtype  \n",
      "---  ------            --------------  -----  \n",
      " 0   retailer          9641 non-null   object \n",
      " 1   retailer_id       9641 non-null   int64  \n",
      " 2   invoice_date      9641 non-null   object \n",
      " 3   region            9641 non-null   object \n",
      " 4   state             9641 non-null   object \n",
      " 5   city              9641 non-null   object \n",
      " 6   product           9641 non-null   object \n",
      " 7   price_per_unit    9639 non-null   float64\n",
      " 8   units_sold        9641 non-null   int64  \n",
      " 9   total_sales       9641 non-null   object \n",
      " 10  operating_profit  9641 non-null   object \n",
      " 11  sales_method      9641 non-null   object \n",
      "dtypes: float64(1), int64(2), object(9)\n",
      "memory usage: 904.0+ KB\n"
     ]
    }
   ],
   "source": [
    "df.info()"
   ]
  },
  {
   "cell_type": "markdown",
   "metadata": {},
   "source": [
    "Siendo columnas numéricas ya podríamos calcular el correcto \"total_sales\" pero vamos a visualizar los nulos primero antes de tocar los datos."
   ]
  },
  {
   "cell_type": "code",
   "execution_count": 12,
   "metadata": {},
   "outputs": [
    {
     "data": {
      "text/html": [
       "<div>\n",
       "<style scoped>\n",
       "    .dataframe tbody tr th:only-of-type {\n",
       "        vertical-align: middle;\n",
       "    }\n",
       "\n",
       "    .dataframe tbody tr th {\n",
       "        vertical-align: top;\n",
       "    }\n",
       "\n",
       "    .dataframe thead th {\n",
       "        text-align: right;\n",
       "    }\n",
       "</style>\n",
       "<table border=\"1\" class=\"dataframe\">\n",
       "  <thead>\n",
       "    <tr style=\"text-align: right;\">\n",
       "      <th></th>\n",
       "      <th>retailer</th>\n",
       "      <th>retailer_id</th>\n",
       "      <th>invoice_date</th>\n",
       "      <th>region</th>\n",
       "      <th>state</th>\n",
       "      <th>city</th>\n",
       "      <th>product</th>\n",
       "      <th>price_per_unit</th>\n",
       "      <th>units_sold</th>\n",
       "      <th>total_sales</th>\n",
       "      <th>operating_profit</th>\n",
       "      <th>sales_method</th>\n",
       "    </tr>\n",
       "  </thead>\n",
       "  <tbody>\n",
       "    <tr>\n",
       "      <th>6725</th>\n",
       "      <td>Foot Locker</td>\n",
       "      <td>1185732</td>\n",
       "      <td>1/29/2020</td>\n",
       "      <td>Northeast</td>\n",
       "      <td>New York</td>\n",
       "      <td>New York</td>\n",
       "      <td>Men's Apparel</td>\n",
       "      <td>NaN</td>\n",
       "      <td>850</td>\n",
       "      <td>51,000</td>\n",
       "      <td>$15,300</td>\n",
       "      <td>Outlet</td>\n",
       "    </tr>\n",
       "    <tr>\n",
       "      <th>7882</th>\n",
       "      <td>Sports Direct</td>\n",
       "      <td>1197831</td>\n",
       "      <td>7/29/2020</td>\n",
       "      <td>South</td>\n",
       "      <td>Texas</td>\n",
       "      <td>Houston</td>\n",
       "      <td>Men's Apparel</td>\n",
       "      <td>NaN</td>\n",
       "      <td>500</td>\n",
       "      <td>20,000</td>\n",
       "      <td>$6,000</td>\n",
       "      <td>Outlet</td>\n",
       "    </tr>\n",
       "  </tbody>\n",
       "</table>\n",
       "</div>"
      ],
      "text/plain": [
       "           retailer  retailer_id invoice_date     region     state      city  \\\n",
       "6725    Foot Locker      1185732    1/29/2020  Northeast  New York  New York   \n",
       "7882  Sports Direct      1197831    7/29/2020      South     Texas   Houston   \n",
       "\n",
       "            product  price_per_unit  units_sold total_sales operating_profit  \\\n",
       "6725  Men's Apparel             NaN         850      51,000         $15,300    \n",
       "7882  Men's Apparel             NaN         500      20,000          $6,000    \n",
       "\n",
       "     sales_method  \n",
       "6725       Outlet  \n",
       "7882       Outlet  "
      ]
     },
     "execution_count": 12,
     "metadata": {},
     "output_type": "execute_result"
    }
   ],
   "source": [
    "df[df.isnull().any(axis=1)]"
   ]
  },
  {
   "cell_type": "markdown",
   "metadata": {},
   "source": [
    "---------\n",
    "🤔 Esto seria una pregunta para \"Negocio\" porque tenemos dos soluciones para afrontar estos nulos.\n",
    "1. Entendemos que la división de ***\"total_sales\"*** / ***\"units_sold\"*** dan el resultado de ***\"price_per_unit\"***\n",
    "2. Hemos visto que hay valores de ***\"total_sales\"*** que no fueron bien calculados y todos tienen en común la falta del último dígito.\n",
    "\n",
    "Ya que son dos valores faltantes, vamos a confiar en los valores que tenemos del dataset y haremos la opción 1"
   ]
  },
  {
   "cell_type": "code",
   "execution_count": 13,
   "metadata": {},
   "outputs": [],
   "source": [
    "df[\"total_sales\"] = pd.to_numeric(df[\"total_sales\"].str.replace(\",\", \"\"),errors=\"coerce\")\n"
   ]
  },
  {
   "cell_type": "code",
   "execution_count": 14,
   "metadata": {},
   "outputs": [],
   "source": [
    "df[\"price_per_unit\"] = df[\"price_per_unit\"].fillna(df[\"total_sales\"] / df[\"units_sold\"])"
   ]
  },
  {
   "cell_type": "code",
   "execution_count": 15,
   "metadata": {},
   "outputs": [
    {
     "name": "stdout",
     "output_type": "stream",
     "text": [
      "<class 'pandas.core.frame.DataFrame'>\n",
      "RangeIndex: 9641 entries, 0 to 9640\n",
      "Data columns (total 12 columns):\n",
      " #   Column            Non-Null Count  Dtype  \n",
      "---  ------            --------------  -----  \n",
      " 0   retailer          9641 non-null   object \n",
      " 1   retailer_id       9641 non-null   int64  \n",
      " 2   invoice_date      9641 non-null   object \n",
      " 3   region            9641 non-null   object \n",
      " 4   state             9641 non-null   object \n",
      " 5   city              9641 non-null   object \n",
      " 6   product           9641 non-null   object \n",
      " 7   price_per_unit    9641 non-null   float64\n",
      " 8   units_sold        9641 non-null   int64  \n",
      " 9   total_sales       9641 non-null   int64  \n",
      " 10  operating_profit  9641 non-null   object \n",
      " 11  sales_method      9641 non-null   object \n",
      "dtypes: float64(1), int64(3), object(8)\n",
      "memory usage: 904.0+ KB\n"
     ]
    }
   ],
   "source": [
    "df.info()"
   ]
  },
  {
   "cell_type": "markdown",
   "metadata": {},
   "source": [
    "- Calculamos los valores correctos de ***\"total_sales\"***"
   ]
  },
  {
   "cell_type": "code",
   "execution_count": 16,
   "metadata": {},
   "outputs": [],
   "source": [
    "df['total_sales'] = df['price_per_unit'] * df['units_sold']"
   ]
  },
  {
   "cell_type": "code",
   "execution_count": 17,
   "metadata": {},
   "outputs": [
    {
     "data": {
      "text/html": [
       "<div>\n",
       "<style scoped>\n",
       "    .dataframe tbody tr th:only-of-type {\n",
       "        vertical-align: middle;\n",
       "    }\n",
       "\n",
       "    .dataframe tbody tr th {\n",
       "        vertical-align: top;\n",
       "    }\n",
       "\n",
       "    .dataframe thead th {\n",
       "        text-align: right;\n",
       "    }\n",
       "</style>\n",
       "<table border=\"1\" class=\"dataframe\">\n",
       "  <thead>\n",
       "    <tr style=\"text-align: right;\">\n",
       "      <th></th>\n",
       "      <th>retailer</th>\n",
       "      <th>retailer_id</th>\n",
       "      <th>invoice_date</th>\n",
       "      <th>region</th>\n",
       "      <th>state</th>\n",
       "      <th>city</th>\n",
       "      <th>product</th>\n",
       "      <th>price_per_unit</th>\n",
       "      <th>units_sold</th>\n",
       "      <th>total_sales</th>\n",
       "      <th>operating_profit</th>\n",
       "      <th>sales_method</th>\n",
       "    </tr>\n",
       "  </thead>\n",
       "  <tbody>\n",
       "    <tr>\n",
       "      <th>3663</th>\n",
       "      <td>West Gear</td>\n",
       "      <td>1185732</td>\n",
       "      <td>5/12/2021</td>\n",
       "      <td>West</td>\n",
       "      <td>Utah</td>\n",
       "      <td>Salt Lake City</td>\n",
       "      <td>Women's Apparel</td>\n",
       "      <td>44.0</td>\n",
       "      <td>120</td>\n",
       "      <td>5280.0</td>\n",
       "      <td>$343</td>\n",
       "      <td>Online</td>\n",
       "    </tr>\n",
       "    <tr>\n",
       "      <th>8555</th>\n",
       "      <td>West Gear</td>\n",
       "      <td>1197831</td>\n",
       "      <td>3/6/2021</td>\n",
       "      <td>West</td>\n",
       "      <td>Idaho</td>\n",
       "      <td>Boise</td>\n",
       "      <td>Women's Apparel</td>\n",
       "      <td>35.0</td>\n",
       "      <td>400</td>\n",
       "      <td>14000.0</td>\n",
       "      <td>$7,000</td>\n",
       "      <td>Online</td>\n",
       "    </tr>\n",
       "    <tr>\n",
       "      <th>5707</th>\n",
       "      <td>Foot Locker</td>\n",
       "      <td>1185732</td>\n",
       "      <td>5/6/2021</td>\n",
       "      <td>Northeast</td>\n",
       "      <td>Rhode Island</td>\n",
       "      <td>Providence</td>\n",
       "      <td>Women's Street Footwear</td>\n",
       "      <td>32.0</td>\n",
       "      <td>60</td>\n",
       "      <td>1920.0</td>\n",
       "      <td>$81</td>\n",
       "      <td>Outlet</td>\n",
       "    </tr>\n",
       "    <tr>\n",
       "      <th>2975</th>\n",
       "      <td>West Gear</td>\n",
       "      <td>1185732</td>\n",
       "      <td>11/11/2021</td>\n",
       "      <td>Northeast</td>\n",
       "      <td>Vermont</td>\n",
       "      <td>Burlington</td>\n",
       "      <td>Men's Street Footwear</td>\n",
       "      <td>54.0</td>\n",
       "      <td>140</td>\n",
       "      <td>7560.0</td>\n",
       "      <td>$378</td>\n",
       "      <td>Outlet</td>\n",
       "    </tr>\n",
       "    <tr>\n",
       "      <th>8336</th>\n",
       "      <td>West Gear</td>\n",
       "      <td>1128299</td>\n",
       "      <td>6/6/2020</td>\n",
       "      <td>West</td>\n",
       "      <td>Washington</td>\n",
       "      <td>Seattle</td>\n",
       "      <td>Women's Apparel</td>\n",
       "      <td>50.0</td>\n",
       "      <td>425</td>\n",
       "      <td>21250.0</td>\n",
       "      <td>$4,250</td>\n",
       "      <td>In-store</td>\n",
       "    </tr>\n",
       "  </tbody>\n",
       "</table>\n",
       "</div>"
      ],
      "text/plain": [
       "         retailer  retailer_id invoice_date     region         state  \\\n",
       "3663    West Gear      1185732    5/12/2021       West          Utah   \n",
       "8555    West Gear      1197831     3/6/2021       West         Idaho   \n",
       "5707  Foot Locker      1185732     5/6/2021  Northeast  Rhode Island   \n",
       "2975    West Gear      1185732   11/11/2021  Northeast       Vermont   \n",
       "8336    West Gear      1128299     6/6/2020       West    Washington   \n",
       "\n",
       "                city                  product  price_per_unit  units_sold  \\\n",
       "3663  Salt Lake City          Women's Apparel            44.0         120   \n",
       "8555           Boise          Women's Apparel            35.0         400   \n",
       "5707      Providence  Women's Street Footwear            32.0          60   \n",
       "2975      Burlington    Men's Street Footwear            54.0         140   \n",
       "8336         Seattle          Women's Apparel            50.0         425   \n",
       "\n",
       "      total_sales operating_profit sales_method  \n",
       "3663       5280.0            $343        Online  \n",
       "8555      14000.0          $7,000        Online  \n",
       "5707       1920.0             $81        Outlet  \n",
       "2975       7560.0            $378        Outlet  \n",
       "8336      21250.0          $4,250      In-store  "
      ]
     },
     "execution_count": 17,
     "metadata": {},
     "output_type": "execute_result"
    }
   ],
   "source": [
    "df.sample(5)"
   ]
  },
  {
   "cell_type": "code",
   "execution_count": 18,
   "metadata": {},
   "outputs": [],
   "source": [
    "# Eliminamos las filas con resultado 0 en total_sales\n",
    "df = df[df[\"total_sales\"] != 0]"
   ]
  },
  {
   "cell_type": "markdown",
   "metadata": {},
   "source": [
    "- DateTime para ***\"invoice_date\"*** y ordenamos el DataFrame"
   ]
  },
  {
   "cell_type": "code",
   "execution_count": 19,
   "metadata": {},
   "outputs": [],
   "source": [
    "df[\"invoice_date\"] = pd.to_datetime(df[\"invoice_date\"])"
   ]
  },
  {
   "cell_type": "code",
   "execution_count": 20,
   "metadata": {},
   "outputs": [
    {
     "data": {
      "text/html": [
       "<div>\n",
       "<style scoped>\n",
       "    .dataframe tbody tr th:only-of-type {\n",
       "        vertical-align: middle;\n",
       "    }\n",
       "\n",
       "    .dataframe tbody tr th {\n",
       "        vertical-align: top;\n",
       "    }\n",
       "\n",
       "    .dataframe thead th {\n",
       "        text-align: right;\n",
       "    }\n",
       "</style>\n",
       "<table border=\"1\" class=\"dataframe\">\n",
       "  <thead>\n",
       "    <tr style=\"text-align: right;\">\n",
       "      <th></th>\n",
       "      <th>retailer</th>\n",
       "      <th>retailer_id</th>\n",
       "      <th>invoice_date</th>\n",
       "      <th>region</th>\n",
       "      <th>state</th>\n",
       "      <th>city</th>\n",
       "      <th>product</th>\n",
       "      <th>price_per_unit</th>\n",
       "      <th>units_sold</th>\n",
       "      <th>total_sales</th>\n",
       "      <th>operating_profit</th>\n",
       "      <th>sales_method</th>\n",
       "    </tr>\n",
       "  </thead>\n",
       "  <tbody>\n",
       "    <tr>\n",
       "      <th>9189</th>\n",
       "      <td>Foot Locker</td>\n",
       "      <td>1185732</td>\n",
       "      <td>2020-01-01</td>\n",
       "      <td>Northeast</td>\n",
       "      <td>Pennsylvania</td>\n",
       "      <td>Philadelphia</td>\n",
       "      <td>Women's Apparel</td>\n",
       "      <td>75.0</td>\n",
       "      <td>275</td>\n",
       "      <td>20625.0</td>\n",
       "      <td>$6,188</td>\n",
       "      <td>Outlet</td>\n",
       "    </tr>\n",
       "    <tr>\n",
       "      <th>4937</th>\n",
       "      <td>Foot Locker</td>\n",
       "      <td>1185732</td>\n",
       "      <td>2020-01-01</td>\n",
       "      <td>Northeast</td>\n",
       "      <td>Pennsylvania</td>\n",
       "      <td>Philadelphia</td>\n",
       "      <td>Women's Apparel</td>\n",
       "      <td>53.0</td>\n",
       "      <td>83</td>\n",
       "      <td>4399.0</td>\n",
       "      <td>$141</td>\n",
       "      <td>Outlet</td>\n",
       "    </tr>\n",
       "    <tr>\n",
       "      <th>30</th>\n",
       "      <td>Foot Locker</td>\n",
       "      <td>1185732</td>\n",
       "      <td>2020-01-01</td>\n",
       "      <td>Northeast</td>\n",
       "      <td>New York</td>\n",
       "      <td>New York</td>\n",
       "      <td>Men's Street Footwear</td>\n",
       "      <td>34.0</td>\n",
       "      <td>384</td>\n",
       "      <td>13056.0</td>\n",
       "      <td>$679</td>\n",
       "      <td>Outlet</td>\n",
       "    </tr>\n",
       "    <tr>\n",
       "      <th>4908</th>\n",
       "      <td>Foot Locker</td>\n",
       "      <td>1185732</td>\n",
       "      <td>2020-01-01</td>\n",
       "      <td>Northeast</td>\n",
       "      <td>Pennsylvania</td>\n",
       "      <td>Philadelphia</td>\n",
       "      <td>Women's Apparel</td>\n",
       "      <td>68.0</td>\n",
       "      <td>83</td>\n",
       "      <td>5644.0</td>\n",
       "      <td>$243</td>\n",
       "      <td>Online</td>\n",
       "    </tr>\n",
       "    <tr>\n",
       "      <th>79</th>\n",
       "      <td>Foot Locker</td>\n",
       "      <td>1185732</td>\n",
       "      <td>2020-01-01</td>\n",
       "      <td>Northeast</td>\n",
       "      <td>New York</td>\n",
       "      <td>New York</td>\n",
       "      <td>Men's Street Footwear</td>\n",
       "      <td>47.0</td>\n",
       "      <td>336</td>\n",
       "      <td>15792.0</td>\n",
       "      <td>$963</td>\n",
       "      <td>Online</td>\n",
       "    </tr>\n",
       "    <tr>\n",
       "      <th>6562</th>\n",
       "      <td>Foot Locker</td>\n",
       "      <td>1185732</td>\n",
       "      <td>2020-01-01</td>\n",
       "      <td>Northeast</td>\n",
       "      <td>New York</td>\n",
       "      <td>New York</td>\n",
       "      <td>Men's Street Footwear</td>\n",
       "      <td>50.0</td>\n",
       "      <td>1200</td>\n",
       "      <td>60000.0</td>\n",
       "      <td>$30,000</td>\n",
       "      <td>In-store</td>\n",
       "    </tr>\n",
       "    <tr>\n",
       "      <th>6588</th>\n",
       "      <td>Foot Locker</td>\n",
       "      <td>1185732</td>\n",
       "      <td>2020-01-02</td>\n",
       "      <td>Northeast</td>\n",
       "      <td>New York</td>\n",
       "      <td>New York</td>\n",
       "      <td>Men's Athletic Footwear</td>\n",
       "      <td>50.0</td>\n",
       "      <td>1000</td>\n",
       "      <td>50000.0</td>\n",
       "      <td>$15,000</td>\n",
       "      <td>In-store</td>\n",
       "    </tr>\n",
       "    <tr>\n",
       "      <th>117</th>\n",
       "      <td>Foot Locker</td>\n",
       "      <td>1185732</td>\n",
       "      <td>2020-01-02</td>\n",
       "      <td>Northeast</td>\n",
       "      <td>New York</td>\n",
       "      <td>New York</td>\n",
       "      <td>Men's Athletic Footwear</td>\n",
       "      <td>36.0</td>\n",
       "      <td>320</td>\n",
       "      <td>11520.0</td>\n",
       "      <td>$403</td>\n",
       "      <td>Outlet</td>\n",
       "    </tr>\n",
       "  </tbody>\n",
       "</table>\n",
       "</div>"
      ],
      "text/plain": [
       "         retailer  retailer_id invoice_date     region         state  \\\n",
       "9189  Foot Locker      1185732   2020-01-01  Northeast  Pennsylvania   \n",
       "4937  Foot Locker      1185732   2020-01-01  Northeast  Pennsylvania   \n",
       "30    Foot Locker      1185732   2020-01-01  Northeast      New York   \n",
       "4908  Foot Locker      1185732   2020-01-01  Northeast  Pennsylvania   \n",
       "79    Foot Locker      1185732   2020-01-01  Northeast      New York   \n",
       "6562  Foot Locker      1185732   2020-01-01  Northeast      New York   \n",
       "6588  Foot Locker      1185732   2020-01-02  Northeast      New York   \n",
       "117   Foot Locker      1185732   2020-01-02  Northeast      New York   \n",
       "\n",
       "              city                  product  price_per_unit  units_sold  \\\n",
       "9189  Philadelphia          Women's Apparel            75.0         275   \n",
       "4937  Philadelphia          Women's Apparel            53.0          83   \n",
       "30        New York    Men's Street Footwear            34.0         384   \n",
       "4908  Philadelphia          Women's Apparel            68.0          83   \n",
       "79        New York    Men's Street Footwear            47.0         336   \n",
       "6562      New York    Men's Street Footwear            50.0        1200   \n",
       "6588      New York  Men's Athletic Footwear            50.0        1000   \n",
       "117       New York  Men's Athletic Footwear            36.0         320   \n",
       "\n",
       "      total_sales operating_profit sales_method  \n",
       "9189      20625.0          $6,188        Outlet  \n",
       "4937       4399.0            $141        Outlet  \n",
       "30        13056.0            $679        Outlet  \n",
       "4908       5644.0            $243        Online  \n",
       "79        15792.0            $963        Online  \n",
       "6562      60000.0         $30,000      In-store  \n",
       "6588      50000.0         $15,000      In-store  \n",
       "117       11520.0            $403        Outlet  "
      ]
     },
     "execution_count": 20,
     "metadata": {},
     "output_type": "execute_result"
    }
   ],
   "source": [
    "df = df.sort_values(by=\"invoice_date\")\n",
    "df.head(8)"
   ]
  },
  {
   "cell_type": "code",
   "execution_count": 21,
   "metadata": {},
   "outputs": [
    {
     "data": {
      "text/plain": [
       "retailer            0\n",
       "retailer_id         0\n",
       "invoice_date        0\n",
       "region              0\n",
       "state               0\n",
       "city                0\n",
       "product             0\n",
       "price_per_unit      0\n",
       "units_sold          0\n",
       "total_sales         0\n",
       "operating_profit    0\n",
       "sales_method        0\n",
       "dtype: int64"
      ]
     },
     "execution_count": 21,
     "metadata": {},
     "output_type": "execute_result"
    }
   ],
   "source": [
    "df.isnull().sum()"
   ]
  },
  {
   "cell_type": "markdown",
   "metadata": {},
   "source": [
    "- Eliminamos columnas irrelevantes y hacemos una copia de seguridad del dataset"
   ]
  },
  {
   "cell_type": "code",
   "execution_count": 22,
   "metadata": {},
   "outputs": [],
   "source": [
    "df = df.drop(columns=[\"retailer_id\", \"operating_profit\", \"sales_method\"])\n",
    "\n",
    "# \"operation_profit\" se elimina porque no tenemos contexto sobre los gastos para entender realmente el profit"
   ]
  },
  {
   "cell_type": "markdown",
   "metadata": {},
   "source": [
    "- Una vista rápida para saber si está todo en orden"
   ]
  },
  {
   "cell_type": "code",
   "execution_count": 23,
   "metadata": {},
   "outputs": [
    {
     "name": "stdout",
     "output_type": "stream",
     "text": [
      "<class 'pandas.core.frame.DataFrame'>\n",
      "Index: 9637 entries, 9189 to 9605\n",
      "Data columns (total 9 columns):\n",
      " #   Column          Non-Null Count  Dtype         \n",
      "---  ------          --------------  -----         \n",
      " 0   retailer        9637 non-null   object        \n",
      " 1   invoice_date    9637 non-null   datetime64[ns]\n",
      " 2   region          9637 non-null   object        \n",
      " 3   state           9637 non-null   object        \n",
      " 4   city            9637 non-null   object        \n",
      " 5   product         9637 non-null   object        \n",
      " 6   price_per_unit  9637 non-null   float64       \n",
      " 7   units_sold      9637 non-null   int64         \n",
      " 8   total_sales     9637 non-null   float64       \n",
      "dtypes: datetime64[ns](1), float64(2), int64(1), object(5)\n",
      "memory usage: 752.9+ KB\n"
     ]
    }
   ],
   "source": [
    "df.info()"
   ]
  },
  {
   "cell_type": "code",
   "execution_count": 24,
   "metadata": {},
   "outputs": [
    {
     "data": {
      "text/plain": [
       "region\n",
       "West         2446\n",
       "Northeast    2376\n",
       "Midwest      1865\n",
       "South        1726\n",
       "Southeast    1224\n",
       "Name: count, dtype: int64"
      ]
     },
     "execution_count": 24,
     "metadata": {},
     "output_type": "execute_result"
    }
   ],
   "source": [
    "df.region.value_counts()"
   ]
  },
  {
   "cell_type": "code",
   "execution_count": 25,
   "metadata": {},
   "outputs": [
    {
     "data": {
      "text/plain": [
       "state\n",
       "Texas             430\n",
       "California        430\n",
       "Florida           360\n",
       "New York          360\n",
       "Pennsylvania      216\n",
       "Arkansas          216\n",
       "Oklahoma          216\n",
       "Rhode Island      216\n",
       "Oregon            216\n",
       "Virginia          216\n",
       "Vermont           216\n",
       "Mississippi       216\n",
       "Idaho             216\n",
       "Utah              216\n",
       "New Hampshire     216\n",
       "Arizona           216\n",
       "Tennessee         216\n",
       "Massachusetts     216\n",
       "New Mexico        216\n",
       "Alabama           216\n",
       "Nevada            216\n",
       "Connecticut       216\n",
       "Georgia           216\n",
       "Louisiana         216\n",
       "Kentucky          144\n",
       "Colorado          144\n",
       "Washington        144\n",
       "West Virginia     144\n",
       "Wyoming           144\n",
       "Minnesota         144\n",
       "Montana           144\n",
       "Iowa              144\n",
       "Ohio              144\n",
       "North Dakota      144\n",
       "Alaska            144\n",
       "Wisconsin         144\n",
       "Michigan          144\n",
       "Maryland          144\n",
       "New Jersey        144\n",
       "Indiana           144\n",
       "Hawaii            144\n",
       "South Dakota      144\n",
       "Maine             144\n",
       "North Carolina    144\n",
       "Kansas            144\n",
       "Missouri          144\n",
       "Delaware          144\n",
       "South Carolina    144\n",
       "Illinois          141\n",
       "Nebraska          140\n",
       "Name: count, dtype: int64"
      ]
     },
     "execution_count": 25,
     "metadata": {},
     "output_type": "execute_result"
    }
   ],
   "source": [
    "df.state.value_counts()"
   ]
  },
  {
   "cell_type": "code",
   "execution_count": 26,
   "metadata": {},
   "outputs": [
    {
     "data": {
      "text/plain": [
       "city\n",
       "Portland          360\n",
       "Charleston        288\n",
       "Little Rock       216\n",
       "New York          216\n",
       "Boston            216\n",
       "Oklahoma City     216\n",
       "Providence        216\n",
       "Richmond          216\n",
       "Burlington        216\n",
       "Philadelphia      216\n",
       "Orlando           216\n",
       "Jackson           216\n",
       "Salt Lake City    216\n",
       "Manchester        216\n",
       "Phoenix           216\n",
       "Los Angeles       216\n",
       "Knoxville         216\n",
       "Birmingham        216\n",
       "Boise             216\n",
       "Albuquerque       216\n",
       "Dallas            216\n",
       "Las Vegas         216\n",
       "Hartford          216\n",
       "Atlanta           216\n",
       "New Orleans       216\n",
       "Houston           214\n",
       "San Francisco     214\n",
       "Wilmington        144\n",
       "Denver            144\n",
       "Miami             144\n",
       "Seattle           144\n",
       "Cheyenne          144\n",
       "Minneapolis       144\n",
       "Billings          144\n",
       "Des Moines        144\n",
       "Columbus          144\n",
       "Milwaukee         144\n",
       "Fargo             144\n",
       "Detroit           144\n",
       "Baltimore         144\n",
       "Indianapolis      144\n",
       "Newark            144\n",
       "Honolulu          144\n",
       "Albany            144\n",
       "Sioux Falls       144\n",
       "Charlotte         144\n",
       "Anchorage         144\n",
       "Wichita           144\n",
       "St. Louis         144\n",
       "Louisville        144\n",
       "Chicago           141\n",
       "Omaha             140\n",
       "Name: count, dtype: int64"
      ]
     },
     "execution_count": 26,
     "metadata": {},
     "output_type": "execute_result"
    }
   ],
   "source": [
    "df.city.value_counts()"
   ]
  },
  {
   "cell_type": "code",
   "execution_count": 27,
   "metadata": {},
   "outputs": [
    {
     "data": {
      "text/plain": [
       "product\n",
       "Men's Street Footwear        1610\n",
       "Men's Athletic Footwear      1608\n",
       "Women's Apparel              1607\n",
       "Women's Street Footwear      1606\n",
       "Men's Apparel                1604\n",
       "Women's Athletic Footwear    1601\n",
       "Men's aparel                    1\n",
       "Name: count, dtype: int64"
      ]
     },
     "execution_count": 27,
     "metadata": {},
     "output_type": "execute_result"
    }
   ],
   "source": [
    "df[\"product\"].value_counts()"
   ]
  },
  {
   "cell_type": "code",
   "execution_count": 28,
   "metadata": {},
   "outputs": [
    {
     "data": {
      "text/plain": [
       "product\n",
       "Men's Street Footwear        1610\n",
       "Men's Athletic Footwear      1608\n",
       "Women's Apparel              1607\n",
       "Women's Street Footwear      1606\n",
       "Men's Apparel                1605\n",
       "Women's Athletic Footwear    1601\n",
       "Name: count, dtype: int64"
      ]
     },
     "execution_count": 28,
     "metadata": {},
     "output_type": "execute_result"
    }
   ],
   "source": [
    "# Error de ortografía\n",
    "df[\"product\"] = df[\"product\"].replace({\"Men's aparel\": \"Men's Apparel\"})\n",
    "df[\"product\"].value_counts()"
   ]
  },
  {
   "cell_type": "code",
   "execution_count": 29,
   "metadata": {},
   "outputs": [
    {
     "data": {
      "text/plain": [
       "retailer\n",
       "Foot Locker      2630\n",
       "West Gear        2372\n",
       "Sports Direct    2030\n",
       "Kohl's           1030\n",
       "Amazon            949\n",
       "Walmart           626\n",
       "Name: count, dtype: int64"
      ]
     },
     "execution_count": 29,
     "metadata": {},
     "output_type": "execute_result"
    }
   ],
   "source": [
    "df.retailer.value_counts()"
   ]
  },
  {
   "cell_type": "markdown",
   "metadata": {},
   "source": [
    "Vemos nuestro target\n"
   ]
  },
  {
   "cell_type": "code",
   "execution_count": 30,
   "metadata": {},
   "outputs": [
    {
     "data": {
      "text/plain": [
       "<Axes: xlabel='total_sales', ylabel='Count'>"
      ]
     },
     "execution_count": 30,
     "metadata": {},
     "output_type": "execute_result"
    },
    {
     "data": {
      "image/png": "[encoded data removed]",
      "text/plain": [
       "<Figure size 640x480 with 1 Axes>"
      ]
     },
     "metadata": {},
     "output_type": "display_data"
    }
   ],
   "source": [
    "sns.histplot(df[\"total_sales\"], kde = True)"
   ]
  },
  {
   "cell_type": "code",
   "execution_count": 31,
   "metadata": {},
   "outputs": [
    {
     "data": {
      "text/plain": [
       "<Axes: xlabel='total_sales'>"
      ]
     },
     "execution_count": 31,
     "metadata": {},
     "output_type": "execute_result"
    },
    {
     "data": {
      "image/png": "[encoded data removed]",
      "text/plain": [
       "<Figure size 640x480 with 1 Axes>"
      ]
     },
     "metadata": {},
     "output_type": "display_data"
    }
   ],
   "source": [
    "sns.boxplot(x=df[\"total_sales\"])"
   ]
  },
  {
   "cell_type": "markdown",
   "metadata": {},
   "source": [
    "Hay una distribución asimétrica porque habrán muchas tiendas que tengan niveles bajos o moderados. Pocas tiendas logran grandes facturaciones."
   ]
  },
  {
   "cell_type": "markdown",
   "metadata": {},
   "source": [
    "Nuestro modelo puede verse afectado por esta distribución asimetrica, debemos hacer una transformación logaritmica más adelante."
   ]
  },
  {
   "cell_type": "code",
   "execution_count": 32,
   "metadata": {},
   "outputs": [
    {
     "data": {
      "text/plain": [
       "<Axes: xlabel='total_sales', ylabel='Count'>"
      ]
     },
     "execution_count": 32,
     "metadata": {},
     "output_type": "execute_result"
    },
    {
     "data": {
      "image/png": "[encoded data removed]",
      "text/plain": [
       "<Figure size 640x480 with 1 Axes>"
      ]
     },
     "metadata": {},
     "output_type": "display_data"
    }
   ],
   "source": [
    "sns.histplot(df[\"total_sales\"], kde = True)"
   ]
  },
  {
   "cell_type": "markdown",
   "metadata": {},
   "source": [
    "CREACION DE LOS DATASETS POR RETAILER"
   ]
  },
  {
   "cell_type": "code",
   "execution_count": 33,
   "metadata": {},
   "outputs": [
    {
     "data": {
      "text/plain": [
       "retailer\n",
       "Foot Locker      2630\n",
       "West Gear        2372\n",
       "Sports Direct    2030\n",
       "Kohl's           1030\n",
       "Amazon            949\n",
       "Walmart           626\n",
       "Name: count, dtype: int64"
      ]
     },
     "execution_count": 33,
     "metadata": {},
     "output_type": "execute_result"
    }
   ],
   "source": [
    "df[\"retailer\"].value_counts()"
   ]
  },
  {
   "cell_type": "code",
   "execution_count": 34,
   "metadata": {},
   "outputs": [],
   "source": [
    "df_footlocker = df[df[\"retailer\"] == \"Foot Locker\"]\n",
    "df_westgear = df[df[\"retailer\"] == \"West Gear\"]\n",
    "df_sportsdirect = df[df[\"retailer\"] == \"Sports Direct\"]\n",
    "df_kohls = df[df[\"retailer\"] == \"Kohl's\"]\n",
    "df_amazon = df[df[\"retailer\"] == \"Amazon\"]\n",
    "df_walmart = df[df[\"retailer\"] == \"Walmart\"]"
   ]
  },
  {
   "cell_type": "code",
   "execution_count": 35,
   "metadata": {},
   "outputs": [],
   "source": [
    "# Comentamos el código para no ejecutarlo de nuevo, pero este sería el dataset limpiado\n",
    "#df.to_csv(\"../data/adidas_sales_cleaned_last4.csv\", index=False)"
   ]
  },
  {
   "cell_type": "code",
   "execution_count": 36,
   "metadata": {},
   "outputs": [
    {
     "name": "stdout",
     "output_type": "stream",
     "text": [
      "---Foot Locker---\n",
      "count     2630.000000\n",
      "mean     11028.496198\n",
      "std      12328.590997\n",
      "min        160.000000\n",
      "25%       3185.250000\n",
      "50%       6689.500000\n",
      "75%      13500.000000\n",
      "max      76500.000000\n",
      "Name: total_sales, dtype: float64\n",
      "---West Gear---\n",
      "count     2372.000000\n",
      "mean     13624.708263\n",
      "std      14074.800399\n",
      "min        203.000000\n",
      "25%       4263.750000\n",
      "50%       8537.000000\n",
      "75%      16855.500000\n",
      "max      82500.000000\n",
      "Name: total_sales, dtype: float64\n",
      "---Sports Direct---\n",
      "count     2030.000000\n",
      "mean     12097.535468\n",
      "std      11682.592391\n",
      "min        528.000000\n",
      "25%       4224.000000\n",
      "50%       7522.000000\n",
      "75%      15750.000000\n",
      "max      69875.000000\n",
      "Name: total_sales, dtype: float64\n",
      "---Kohl's---\n",
      "count     1030.000000\n",
      "mean     13118.886408\n",
      "std      11122.789865\n",
      "min        520.000000\n",
      "25%       5336.750000\n",
      "50%       8243.000000\n",
      "75%      20000.000000\n",
      "max      52000.000000\n",
      "Name: total_sales, dtype: float64\n",
      "---Amazon---\n",
      "count      949.000000\n",
      "mean     10639.606955\n",
      "std       9957.157975\n",
      "min        416.000000\n",
      "25%       3731.000000\n",
      "50%       6875.000000\n",
      "75%      14375.000000\n",
      "max      61875.000000\n",
      "Name: total_sales, dtype: float64\n",
      "---Walmart---\n",
      "count      626.000000\n",
      "mean     16782.883387\n",
      "std      16223.607566\n",
      "min        880.000000\n",
      "25%       6240.000000\n",
      "50%      10477.000000\n",
      "75%      21093.750000\n",
      "max      82500.000000\n",
      "Name: total_sales, dtype: float64\n"
     ]
    }
   ],
   "source": [
    "print(\"---Foot Locker---\")\n",
    "print(df_footlocker[\"total_sales\"].describe())\n",
    "print(\"---West Gear---\")\n",
    "print(df_westgear[\"total_sales\"].describe())\n",
    "print(\"---Sports Direct---\")\n",
    "print(df_sportsdirect[\"total_sales\"].describe())\n",
    "print(\"---Kohl's---\")\n",
    "print(df_kohls[\"total_sales\"].describe())\n",
    "print(\"---Amazon---\")\n",
    "print(df_amazon[\"total_sales\"].describe())\n",
    "print(\"---Walmart---\")\n",
    "print(df_walmart[\"total_sales\"].describe())\n"
   ]
  },
  {
   "cell_type": "code",
   "execution_count": 37,
   "metadata": {},
   "outputs": [],
   "source": [
    "# df_footlocker.to_csv(\"../data/adidas_sales_footlocker.csv\", index=False)\n",
    "# df_westgear.to_csv(\"../data/adidas_sales_westgear.csv\", index=False)\n",
    "# df_sportsdirect.to_csv(\"../data/adidas_sales_sportsdirect.csv\", index=False)\n",
    "# df_kohls.to_csv(\"../data/adidas_sales_kohls.csv\", index=False)\n",
    "# df_amazon.to_csv(\"../data/adidas_sales_amazon.csv\", index=False)\n",
    "# df_walmart.to_csv(\"../data/adidas_sales_walmart.csv\", index=False)"
   ]
  },
  {
   "cell_type": "markdown",
   "metadata": {},
   "source": [
    "# ✅ Step 4: Train y Test.\n"
   ]
  },
  {
   "cell_type": "code",
   "execution_count": 4,
   "metadata": {},
   "outputs": [],
   "source": [
    "df_cleaned = pd.read_csv(\"../data/adidas_sales_cleaned_last4.csv\", parse_dates=[\"invoice_date\"], index_col=False)"
   ]
  },
  {
   "cell_type": "code",
   "execution_count": 5,
   "metadata": {},
   "outputs": [
    {
     "data": {
      "text/html": [
       "<div>\n",
       "<style scoped>\n",
       "    .dataframe tbody tr th:only-of-type {\n",
       "        vertical-align: middle;\n",
       "    }\n",
       "\n",
       "    .dataframe tbody tr th {\n",
       "        vertical-align: top;\n",
       "    }\n",
       "\n",
       "    .dataframe thead th {\n",
       "        text-align: right;\n",
       "    }\n",
       "</style>\n",
       "<table border=\"1\" class=\"dataframe\">\n",
       "  <thead>\n",
       "    <tr style=\"text-align: right;\">\n",
       "      <th></th>\n",
       "      <th>retailer</th>\n",
       "      <th>invoice_date</th>\n",
       "      <th>region</th>\n",
       "      <th>state</th>\n",
       "      <th>city</th>\n",
       "      <th>product</th>\n",
       "      <th>price_per_unit</th>\n",
       "      <th>units_sold</th>\n",
       "      <th>total_sales</th>\n",
       "    </tr>\n",
       "  </thead>\n",
       "  <tbody>\n",
       "    <tr>\n",
       "      <th>0</th>\n",
       "      <td>Foot Locker</td>\n",
       "      <td>2020-01-01</td>\n",
       "      <td>Northeast</td>\n",
       "      <td>Pennsylvania</td>\n",
       "      <td>Philadelphia</td>\n",
       "      <td>Women's Apparel</td>\n",
       "      <td>75.0</td>\n",
       "      <td>275</td>\n",
       "      <td>20625.0</td>\n",
       "    </tr>\n",
       "    <tr>\n",
       "      <th>1</th>\n",
       "      <td>Foot Locker</td>\n",
       "      <td>2020-01-01</td>\n",
       "      <td>Northeast</td>\n",
       "      <td>Pennsylvania</td>\n",
       "      <td>Philadelphia</td>\n",
       "      <td>Women's Apparel</td>\n",
       "      <td>53.0</td>\n",
       "      <td>83</td>\n",
       "      <td>4399.0</td>\n",
       "    </tr>\n",
       "    <tr>\n",
       "      <th>2</th>\n",
       "      <td>Foot Locker</td>\n",
       "      <td>2020-01-01</td>\n",
       "      <td>Northeast</td>\n",
       "      <td>New York</td>\n",
       "      <td>New York</td>\n",
       "      <td>Men's Street Footwear</td>\n",
       "      <td>34.0</td>\n",
       "      <td>384</td>\n",
       "      <td>13056.0</td>\n",
       "    </tr>\n",
       "    <tr>\n",
       "      <th>3</th>\n",
       "      <td>Foot Locker</td>\n",
       "      <td>2020-01-01</td>\n",
       "      <td>Northeast</td>\n",
       "      <td>Pennsylvania</td>\n",
       "      <td>Philadelphia</td>\n",
       "      <td>Women's Apparel</td>\n",
       "      <td>68.0</td>\n",
       "      <td>83</td>\n",
       "      <td>5644.0</td>\n",
       "    </tr>\n",
       "    <tr>\n",
       "      <th>4</th>\n",
       "      <td>Foot Locker</td>\n",
       "      <td>2020-01-01</td>\n",
       "      <td>Northeast</td>\n",
       "      <td>New York</td>\n",
       "      <td>New York</td>\n",
       "      <td>Men's Street Footwear</td>\n",
       "      <td>47.0</td>\n",
       "      <td>336</td>\n",
       "      <td>15792.0</td>\n",
       "    </tr>\n",
       "    <tr>\n",
       "      <th>...</th>\n",
       "      <td>...</td>\n",
       "      <td>...</td>\n",
       "      <td>...</td>\n",
       "      <td>...</td>\n",
       "      <td>...</td>\n",
       "      <td>...</td>\n",
       "      <td>...</td>\n",
       "      <td>...</td>\n",
       "      <td>...</td>\n",
       "    </tr>\n",
       "    <tr>\n",
       "      <th>9632</th>\n",
       "      <td>Foot Locker</td>\n",
       "      <td>2021-12-31</td>\n",
       "      <td>Northeast</td>\n",
       "      <td>Pennsylvania</td>\n",
       "      <td>Philadelphia</td>\n",
       "      <td>Men's Apparel</td>\n",
       "      <td>63.0</td>\n",
       "      <td>47</td>\n",
       "      <td>2961.0</td>\n",
       "    </tr>\n",
       "    <tr>\n",
       "      <th>9633</th>\n",
       "      <td>Amazon</td>\n",
       "      <td>2021-12-31</td>\n",
       "      <td>Northeast</td>\n",
       "      <td>Maine</td>\n",
       "      <td>Portland</td>\n",
       "      <td>Men's Apparel</td>\n",
       "      <td>55.0</td>\n",
       "      <td>125</td>\n",
       "      <td>6875.0</td>\n",
       "    </tr>\n",
       "    <tr>\n",
       "      <th>9634</th>\n",
       "      <td>Foot Locker</td>\n",
       "      <td>2021-12-31</td>\n",
       "      <td>Northeast</td>\n",
       "      <td>Pennsylvania</td>\n",
       "      <td>Philadelphia</td>\n",
       "      <td>Men's Apparel</td>\n",
       "      <td>46.0</td>\n",
       "      <td>56</td>\n",
       "      <td>2576.0</td>\n",
       "    </tr>\n",
       "    <tr>\n",
       "      <th>9635</th>\n",
       "      <td>Amazon</td>\n",
       "      <td>2021-12-31</td>\n",
       "      <td>Northeast</td>\n",
       "      <td>Maine</td>\n",
       "      <td>Portland</td>\n",
       "      <td>Men's Apparel</td>\n",
       "      <td>52.0</td>\n",
       "      <td>36</td>\n",
       "      <td>1872.0</td>\n",
       "    </tr>\n",
       "    <tr>\n",
       "      <th>9636</th>\n",
       "      <td>Foot Locker</td>\n",
       "      <td>2021-12-31</td>\n",
       "      <td>Northeast</td>\n",
       "      <td>Pennsylvania</td>\n",
       "      <td>Philadelphia</td>\n",
       "      <td>Men's Apparel</td>\n",
       "      <td>70.0</td>\n",
       "      <td>175</td>\n",
       "      <td>12250.0</td>\n",
       "    </tr>\n",
       "  </tbody>\n",
       "</table>\n",
       "<p>9637 rows × 9 columns</p>\n",
       "</div>"
      ],
      "text/plain": [
       "         retailer invoice_date     region         state          city  \\\n",
       "0     Foot Locker   2020-01-01  Northeast  Pennsylvania  Philadelphia   \n",
       "1     Foot Locker   2020-01-01  Northeast  Pennsylvania  Philadelphia   \n",
       "2     Foot Locker   2020-01-01  Northeast      New York      New York   \n",
       "3     Foot Locker   2020-01-01  Northeast  Pennsylvania  Philadelphia   \n",
       "4     Foot Locker   2020-01-01  Northeast      New York      New York   \n",
       "...           ...          ...        ...           ...           ...   \n",
       "9632  Foot Locker   2021-12-31  Northeast  Pennsylvania  Philadelphia   \n",
       "9633       Amazon   2021-12-31  Northeast         Maine      Portland   \n",
       "9634  Foot Locker   2021-12-31  Northeast  Pennsylvania  Philadelphia   \n",
       "9635       Amazon   2021-12-31  Northeast         Maine      Portland   \n",
       "9636  Foot Locker   2021-12-31  Northeast  Pennsylvania  Philadelphia   \n",
       "\n",
       "                    product  price_per_unit  units_sold  total_sales  \n",
       "0           Women's Apparel            75.0         275      20625.0  \n",
       "1           Women's Apparel            53.0          83       4399.0  \n",
       "2     Men's Street Footwear            34.0         384      13056.0  \n",
       "3           Women's Apparel            68.0          83       5644.0  \n",
       "4     Men's Street Footwear            47.0         336      15792.0  \n",
       "...                     ...             ...         ...          ...  \n",
       "9632          Men's Apparel            63.0          47       2961.0  \n",
       "9633          Men's Apparel            55.0         125       6875.0  \n",
       "9634          Men's Apparel            46.0          56       2576.0  \n",
       "9635          Men's Apparel            52.0          36       1872.0  \n",
       "9636          Men's Apparel            70.0         175      12250.0  \n",
       "\n",
       "[9637 rows x 9 columns]"
      ]
     },
     "execution_count": 5,
     "metadata": {},
     "output_type": "execute_result"
    }
   ],
   "source": [
    "df_cleaned"
   ]
  },
  {
   "cell_type": "code",
   "execution_count": 6,
   "metadata": {},
   "outputs": [
    {
     "name": "stdout",
     "output_type": "stream",
     "text": [
      "<class 'pandas.core.frame.DataFrame'>\n",
      "RangeIndex: 9637 entries, 0 to 9636\n",
      "Data columns (total 9 columns):\n",
      " #   Column          Non-Null Count  Dtype         \n",
      "---  ------          --------------  -----         \n",
      " 0   retailer        9637 non-null   object        \n",
      " 1   invoice_date    9637 non-null   datetime64[ns]\n",
      " 2   region          9637 non-null   object        \n",
      " 3   state           9637 non-null   object        \n",
      " 4   city            9637 non-null   object        \n",
      " 5   product         9637 non-null   object        \n",
      " 6   price_per_unit  9637 non-null   float64       \n",
      " 7   units_sold      9637 non-null   int64         \n",
      " 8   total_sales     9637 non-null   float64       \n",
      "dtypes: datetime64[ns](1), float64(2), int64(1), object(5)\n",
      "memory usage: 677.7+ KB\n"
     ]
    }
   ],
   "source": [
    "df_cleaned.info()"
   ]
  },
  {
   "cell_type": "markdown",
   "metadata": {},
   "source": [
    "A. PREDECIR LA FACTURACIÓN DE LAS TIENDAS DISTRIBUIDORAS"
   ]
  },
  {
   "cell_type": "code",
   "execution_count": 8,
   "metadata": {},
   "outputs": [],
   "source": [
    "from sklearn.model_selection import train_test_split\n",
    "\n",
    "# Dividir el dataset en train y test\n",
    "X = df_cleaned.drop(columns=['total_sales', \"units_sold\"])\n",
    "y = df_cleaned['total_sales']\n",
    "\n",
    "X_train, X_test, y_train, y_test = train_test_split(X, y, test_size=0.2, random_state=42)"
   ]
  },
  {
   "cell_type": "markdown",
   "metadata": {},
   "source": [
    "----------------"
   ]
  },
  {
   "cell_type": "markdown",
   "metadata": {},
   "source": [
    "B. PREVENCIÓN A LA ROTURA DE STOCK Y MEJORA EN COSTES"
   ]
  },
  {
   "cell_type": "code",
   "execution_count": null,
   "metadata": {},
   "outputs": [],
   "source": []
  },
  {
   "cell_type": "code",
   "execution_count": null,
   "metadata": {},
   "outputs": [],
   "source": []
  },
  {
   "cell_type": "code",
   "execution_count": null,
   "metadata": {},
   "outputs": [],
   "source": []
  },
  {
   "cell_type": "markdown",
   "metadata": {},
   "source": [
    "# ✅ Step 5: Mini Eda + Preparación del dataset\n"
   ]
  },
  {
   "cell_type": "markdown",
   "metadata": {},
   "source": [
    "A. PREDECIR LA FACTURACIÓN DE LAS TIENDAS DISTRIBUIDORAS"
   ]
  },
  {
   "cell_type": "code",
   "execution_count": 9,
   "metadata": {},
   "outputs": [
    {
     "data": {
      "text/plain": [
       "Index(['retailer', 'invoice_date', 'region', 'state', 'city', 'product',\n",
       "       'price_per_unit'],\n",
       "      dtype='object')"
      ]
     },
     "execution_count": 9,
     "metadata": {},
     "output_type": "execute_result"
    }
   ],
   "source": [
    "X_train.columns"
   ]
  },
  {
   "cell_type": "code",
   "execution_count": 10,
   "metadata": {},
   "outputs": [],
   "source": [
    "X_train['month'] = X_train['invoice_date'].dt.month\n",
    "X_train['day_of_week'] = X_train['invoice_date'].dt.dayofweek  # Lunes=0, Domingo=6\n",
    "#X_train[\"quarter\"] = X_train[\"invoice_date\"].dt.quarter\n",
    "\n",
    "\n",
    "X_test['month'] = X_test['invoice_date'].dt.month\n",
    "X_test['day_of_week'] = X_test['invoice_date'].dt.dayofweek  # Lunes=0, Domingo=6\n",
    "#X_test[\"quarter\"] = X_test[\"invoice_date\"].dt.quarter"
   ]
  },
  {
   "cell_type": "code",
   "execution_count": 11,
   "metadata": {},
   "outputs": [],
   "source": [
    "X_train = X_train.drop(columns=['invoice_date', 'city', \"units_sold\"], errors=\"ignore\")\n",
    "X_test = X_test.drop(columns=['invoice_date', 'city', \"units_sold\"], errors=\"ignore\")"
   ]
  },
  {
   "cell_type": "code",
   "execution_count": 12,
   "metadata": {},
   "outputs": [
    {
     "data": {
      "text/html": [
       "<div>\n",
       "<style scoped>\n",
       "    .dataframe tbody tr th:only-of-type {\n",
       "        vertical-align: middle;\n",
       "    }\n",
       "\n",
       "    .dataframe tbody tr th {\n",
       "        vertical-align: top;\n",
       "    }\n",
       "\n",
       "    .dataframe thead th {\n",
       "        text-align: right;\n",
       "    }\n",
       "</style>\n",
       "<table border=\"1\" class=\"dataframe\">\n",
       "  <thead>\n",
       "    <tr style=\"text-align: right;\">\n",
       "      <th></th>\n",
       "      <th>retailer</th>\n",
       "      <th>region</th>\n",
       "      <th>state</th>\n",
       "      <th>product</th>\n",
       "      <th>price_per_unit</th>\n",
       "      <th>month</th>\n",
       "      <th>day_of_week</th>\n",
       "    </tr>\n",
       "  </thead>\n",
       "  <tbody>\n",
       "    <tr>\n",
       "      <th>485</th>\n",
       "      <td>West Gear</td>\n",
       "      <td>Southeast</td>\n",
       "      <td>Florida</td>\n",
       "      <td>Men's Apparel</td>\n",
       "      <td>60.0</td>\n",
       "      <td>4</td>\n",
       "      <td>4</td>\n",
       "    </tr>\n",
       "    <tr>\n",
       "      <th>6472</th>\n",
       "      <td>Sports Direct</td>\n",
       "      <td>South</td>\n",
       "      <td>Texas</td>\n",
       "      <td>Men's Apparel</td>\n",
       "      <td>26.0</td>\n",
       "      <td>8</td>\n",
       "      <td>6</td>\n",
       "    </tr>\n",
       "    <tr>\n",
       "      <th>1222</th>\n",
       "      <td>Foot Locker</td>\n",
       "      <td>Midwest</td>\n",
       "      <td>Minnesota</td>\n",
       "      <td>Men's Apparel</td>\n",
       "      <td>35.0</td>\n",
       "      <td>12</td>\n",
       "      <td>1</td>\n",
       "    </tr>\n",
       "    <tr>\n",
       "      <th>5608</th>\n",
       "      <td>West Gear</td>\n",
       "      <td>Northeast</td>\n",
       "      <td>New York</td>\n",
       "      <td>Women's Apparel</td>\n",
       "      <td>66.0</td>\n",
       "      <td>7</td>\n",
       "      <td>3</td>\n",
       "    </tr>\n",
       "    <tr>\n",
       "      <th>2855</th>\n",
       "      <td>Kohl's</td>\n",
       "      <td>Midwest</td>\n",
       "      <td>Montana</td>\n",
       "      <td>Women's Apparel</td>\n",
       "      <td>55.0</td>\n",
       "      <td>3</td>\n",
       "      <td>1</td>\n",
       "    </tr>\n",
       "    <tr>\n",
       "      <th>...</th>\n",
       "      <td>...</td>\n",
       "      <td>...</td>\n",
       "      <td>...</td>\n",
       "      <td>...</td>\n",
       "      <td>...</td>\n",
       "      <td>...</td>\n",
       "      <td>...</td>\n",
       "    </tr>\n",
       "    <tr>\n",
       "      <th>5734</th>\n",
       "      <td>Kohl's</td>\n",
       "      <td>Midwest</td>\n",
       "      <td>Kansas</td>\n",
       "      <td>Men's Athletic Footwear</td>\n",
       "      <td>49.0</td>\n",
       "      <td>7</td>\n",
       "      <td>0</td>\n",
       "    </tr>\n",
       "    <tr>\n",
       "      <th>5191</th>\n",
       "      <td>Sports Direct</td>\n",
       "      <td>Midwest</td>\n",
       "      <td>Michigan</td>\n",
       "      <td>Women's Street Footwear</td>\n",
       "      <td>41.0</td>\n",
       "      <td>6</td>\n",
       "      <td>3</td>\n",
       "    </tr>\n",
       "    <tr>\n",
       "      <th>5390</th>\n",
       "      <td>West Gear</td>\n",
       "      <td>West</td>\n",
       "      <td>Oregon</td>\n",
       "      <td>Men's Apparel</td>\n",
       "      <td>86.0</td>\n",
       "      <td>6</td>\n",
       "      <td>3</td>\n",
       "    </tr>\n",
       "    <tr>\n",
       "      <th>860</th>\n",
       "      <td>Walmart</td>\n",
       "      <td>South</td>\n",
       "      <td>Texas</td>\n",
       "      <td>Men's Apparel</td>\n",
       "      <td>45.0</td>\n",
       "      <td>8</td>\n",
       "      <td>6</td>\n",
       "    </tr>\n",
       "    <tr>\n",
       "      <th>7270</th>\n",
       "      <td>Walmart</td>\n",
       "      <td>Southeast</td>\n",
       "      <td>Florida</td>\n",
       "      <td>Women's Street Footwear</td>\n",
       "      <td>39.0</td>\n",
       "      <td>9</td>\n",
       "      <td>5</td>\n",
       "    </tr>\n",
       "  </tbody>\n",
       "</table>\n",
       "<p>7709 rows × 7 columns</p>\n",
       "</div>"
      ],
      "text/plain": [
       "           retailer     region      state                  product  \\\n",
       "485       West Gear  Southeast    Florida            Men's Apparel   \n",
       "6472  Sports Direct      South      Texas            Men's Apparel   \n",
       "1222    Foot Locker    Midwest  Minnesota            Men's Apparel   \n",
       "5608      West Gear  Northeast   New York          Women's Apparel   \n",
       "2855         Kohl's    Midwest    Montana          Women's Apparel   \n",
       "...             ...        ...        ...                      ...   \n",
       "5734         Kohl's    Midwest     Kansas  Men's Athletic Footwear   \n",
       "5191  Sports Direct    Midwest   Michigan  Women's Street Footwear   \n",
       "5390      West Gear       West     Oregon            Men's Apparel   \n",
       "860         Walmart      South      Texas            Men's Apparel   \n",
       "7270        Walmart  Southeast    Florida  Women's Street Footwear   \n",
       "\n",
       "      price_per_unit  month  day_of_week  \n",
       "485             60.0      4            4  \n",
       "6472            26.0      8            6  \n",
       "1222            35.0     12            1  \n",
       "5608            66.0      7            3  \n",
       "2855            55.0      3            1  \n",
       "...              ...    ...          ...  \n",
       "5734            49.0      7            0  \n",
       "5191            41.0      6            3  \n",
       "5390            86.0      6            3  \n",
       "860             45.0      8            6  \n",
       "7270            39.0      9            5  \n",
       "\n",
       "[7709 rows x 7 columns]"
      ]
     },
     "execution_count": 12,
     "metadata": {},
     "output_type": "execute_result"
    }
   ],
   "source": [
    "X_train"
   ]
  },
  {
   "cell_type": "code",
   "execution_count": 13,
   "metadata": {},
   "outputs": [],
   "source": [
    "categorical_features = ['retailer', 'region', 'state', 'product', 'day_of_week', \"month\"]\n",
    "numeric_features = ['price_per_unit']"
   ]
  },
  {
   "cell_type": "code",
   "execution_count": 14,
   "metadata": {},
   "outputs": [],
   "source": [
    "import pandas as pd\n",
    "from sklearn.model_selection import train_test_split\n",
    "from sklearn.preprocessing import OneHotEncoder, StandardScaler\n",
    "from sklearn.compose import ColumnTransformer\n",
    "from sklearn.pipeline import Pipeline\n",
    "from sklearn.metrics import mean_squared_error, r2_score\n",
    "preprocessor = ColumnTransformer(\n",
    "     transformers=[\n",
    "      (\"num\", \"passthrough\", numeric_features),\n",
    "      ('cat', OneHotEncoder(handle_unknown='ignore', sparse_output=False), categorical_features)])\n",
    "\n"
   ]
  },
  {
   "cell_type": "code",
   "execution_count": 15,
   "metadata": {},
   "outputs": [],
   "source": [
    "X_train_preprocessed = preprocessor.fit_transform(X_train)\n",
    "X_test_preprocessed = preprocessor.transform(X_test)"
   ]
  },
  {
   "cell_type": "code",
   "execution_count": 16,
   "metadata": {},
   "outputs": [],
   "source": [
    "ohe_columns = preprocessor.named_transformers_['cat'].get_feature_names_out(input_features=categorical_features)\n",
    "ohe_columns_clean = np.char.replace(ohe_columns.astype(str), ' ', '_')\n",
    "all_columns_clean = np.concatenate([numeric_features, ohe_columns_clean])"
   ]
  },
  {
   "cell_type": "code",
   "execution_count": 17,
   "metadata": {},
   "outputs": [],
   "source": [
    "X_train_df = pd.DataFrame(X_train_preprocessed, columns=all_columns_clean, index=X_train.index)\n",
    "X_test_df = pd.DataFrame(X_test_preprocessed, columns=all_columns_clean, index=X_test.index)"
   ]
  },
  {
   "cell_type": "code",
   "execution_count": 18,
   "metadata": {},
   "outputs": [
    {
     "data": {
      "text/html": [
       "<div>\n",
       "<style scoped>\n",
       "    .dataframe tbody tr th:only-of-type {\n",
       "        vertical-align: middle;\n",
       "    }\n",
       "\n",
       "    .dataframe tbody tr th {\n",
       "        vertical-align: top;\n",
       "    }\n",
       "\n",
       "    .dataframe thead th {\n",
       "        text-align: right;\n",
       "    }\n",
       "</style>\n",
       "<table border=\"1\" class=\"dataframe\">\n",
       "  <thead>\n",
       "    <tr style=\"text-align: right;\">\n",
       "      <th></th>\n",
       "      <th>price_per_unit</th>\n",
       "      <th>retailer_Amazon</th>\n",
       "      <th>retailer_Foot_Locker</th>\n",
       "      <th>retailer_Kohl's</th>\n",
       "      <th>retailer_Sports_Direct</th>\n",
       "      <th>retailer_Walmart</th>\n",
       "      <th>retailer_West_Gear</th>\n",
       "      <th>region_Midwest</th>\n",
       "      <th>region_Northeast</th>\n",
       "      <th>region_South</th>\n",
       "      <th>...</th>\n",
       "      <th>month_3</th>\n",
       "      <th>month_4</th>\n",
       "      <th>month_5</th>\n",
       "      <th>month_6</th>\n",
       "      <th>month_7</th>\n",
       "      <th>month_8</th>\n",
       "      <th>month_9</th>\n",
       "      <th>month_10</th>\n",
       "      <th>month_11</th>\n",
       "      <th>month_12</th>\n",
       "    </tr>\n",
       "  </thead>\n",
       "  <tbody>\n",
       "    <tr>\n",
       "      <th>485</th>\n",
       "      <td>60.0</td>\n",
       "      <td>0.0</td>\n",
       "      <td>0.0</td>\n",
       "      <td>0.0</td>\n",
       "      <td>0.0</td>\n",
       "      <td>0.0</td>\n",
       "      <td>1.0</td>\n",
       "      <td>0.0</td>\n",
       "      <td>0.0</td>\n",
       "      <td>0.0</td>\n",
       "      <td>...</td>\n",
       "      <td>0.0</td>\n",
       "      <td>1.0</td>\n",
       "      <td>0.0</td>\n",
       "      <td>0.0</td>\n",
       "      <td>0.0</td>\n",
       "      <td>0.0</td>\n",
       "      <td>0.0</td>\n",
       "      <td>0.0</td>\n",
       "      <td>0.0</td>\n",
       "      <td>0.0</td>\n",
       "    </tr>\n",
       "    <tr>\n",
       "      <th>6472</th>\n",
       "      <td>26.0</td>\n",
       "      <td>0.0</td>\n",
       "      <td>0.0</td>\n",
       "      <td>0.0</td>\n",
       "      <td>1.0</td>\n",
       "      <td>0.0</td>\n",
       "      <td>0.0</td>\n",
       "      <td>0.0</td>\n",
       "      <td>0.0</td>\n",
       "      <td>1.0</td>\n",
       "      <td>...</td>\n",
       "      <td>0.0</td>\n",
       "      <td>0.0</td>\n",
       "      <td>0.0</td>\n",
       "      <td>0.0</td>\n",
       "      <td>0.0</td>\n",
       "      <td>1.0</td>\n",
       "      <td>0.0</td>\n",
       "      <td>0.0</td>\n",
       "      <td>0.0</td>\n",
       "      <td>0.0</td>\n",
       "    </tr>\n",
       "    <tr>\n",
       "      <th>1222</th>\n",
       "      <td>35.0</td>\n",
       "      <td>0.0</td>\n",
       "      <td>1.0</td>\n",
       "      <td>0.0</td>\n",
       "      <td>0.0</td>\n",
       "      <td>0.0</td>\n",
       "      <td>0.0</td>\n",
       "      <td>1.0</td>\n",
       "      <td>0.0</td>\n",
       "      <td>0.0</td>\n",
       "      <td>...</td>\n",
       "      <td>0.0</td>\n",
       "      <td>0.0</td>\n",
       "      <td>0.0</td>\n",
       "      <td>0.0</td>\n",
       "      <td>0.0</td>\n",
       "      <td>0.0</td>\n",
       "      <td>0.0</td>\n",
       "      <td>0.0</td>\n",
       "      <td>0.0</td>\n",
       "      <td>1.0</td>\n",
       "    </tr>\n",
       "    <tr>\n",
       "      <th>5608</th>\n",
       "      <td>66.0</td>\n",
       "      <td>0.0</td>\n",
       "      <td>0.0</td>\n",
       "      <td>0.0</td>\n",
       "      <td>0.0</td>\n",
       "      <td>0.0</td>\n",
       "      <td>1.0</td>\n",
       "      <td>0.0</td>\n",
       "      <td>1.0</td>\n",
       "      <td>0.0</td>\n",
       "      <td>...</td>\n",
       "      <td>0.0</td>\n",
       "      <td>0.0</td>\n",
       "      <td>0.0</td>\n",
       "      <td>0.0</td>\n",
       "      <td>1.0</td>\n",
       "      <td>0.0</td>\n",
       "      <td>0.0</td>\n",
       "      <td>0.0</td>\n",
       "      <td>0.0</td>\n",
       "      <td>0.0</td>\n",
       "    </tr>\n",
       "    <tr>\n",
       "      <th>2855</th>\n",
       "      <td>55.0</td>\n",
       "      <td>0.0</td>\n",
       "      <td>0.0</td>\n",
       "      <td>1.0</td>\n",
       "      <td>0.0</td>\n",
       "      <td>0.0</td>\n",
       "      <td>0.0</td>\n",
       "      <td>1.0</td>\n",
       "      <td>0.0</td>\n",
       "      <td>0.0</td>\n",
       "      <td>...</td>\n",
       "      <td>1.0</td>\n",
       "      <td>0.0</td>\n",
       "      <td>0.0</td>\n",
       "      <td>0.0</td>\n",
       "      <td>0.0</td>\n",
       "      <td>0.0</td>\n",
       "      <td>0.0</td>\n",
       "      <td>0.0</td>\n",
       "      <td>0.0</td>\n",
       "      <td>0.0</td>\n",
       "    </tr>\n",
       "    <tr>\n",
       "      <th>...</th>\n",
       "      <td>...</td>\n",
       "      <td>...</td>\n",
       "      <td>...</td>\n",
       "      <td>...</td>\n",
       "      <td>...</td>\n",
       "      <td>...</td>\n",
       "      <td>...</td>\n",
       "      <td>...</td>\n",
       "      <td>...</td>\n",
       "      <td>...</td>\n",
       "      <td>...</td>\n",
       "      <td>...</td>\n",
       "      <td>...</td>\n",
       "      <td>...</td>\n",
       "      <td>...</td>\n",
       "      <td>...</td>\n",
       "      <td>...</td>\n",
       "      <td>...</td>\n",
       "      <td>...</td>\n",
       "      <td>...</td>\n",
       "      <td>...</td>\n",
       "    </tr>\n",
       "    <tr>\n",
       "      <th>5734</th>\n",
       "      <td>49.0</td>\n",
       "      <td>0.0</td>\n",
       "      <td>0.0</td>\n",
       "      <td>1.0</td>\n",
       "      <td>0.0</td>\n",
       "      <td>0.0</td>\n",
       "      <td>0.0</td>\n",
       "      <td>1.0</td>\n",
       "      <td>0.0</td>\n",
       "      <td>0.0</td>\n",
       "      <td>...</td>\n",
       "      <td>0.0</td>\n",
       "      <td>0.0</td>\n",
       "      <td>0.0</td>\n",
       "      <td>0.0</td>\n",
       "      <td>1.0</td>\n",
       "      <td>0.0</td>\n",
       "      <td>0.0</td>\n",
       "      <td>0.0</td>\n",
       "      <td>0.0</td>\n",
       "      <td>0.0</td>\n",
       "    </tr>\n",
       "    <tr>\n",
       "      <th>5191</th>\n",
       "      <td>41.0</td>\n",
       "      <td>0.0</td>\n",
       "      <td>0.0</td>\n",
       "      <td>0.0</td>\n",
       "      <td>1.0</td>\n",
       "      <td>0.0</td>\n",
       "      <td>0.0</td>\n",
       "      <td>1.0</td>\n",
       "      <td>0.0</td>\n",
       "      <td>0.0</td>\n",
       "      <td>...</td>\n",
       "      <td>0.0</td>\n",
       "      <td>0.0</td>\n",
       "      <td>0.0</td>\n",
       "      <td>1.0</td>\n",
       "      <td>0.0</td>\n",
       "      <td>0.0</td>\n",
       "      <td>0.0</td>\n",
       "      <td>0.0</td>\n",
       "      <td>0.0</td>\n",
       "      <td>0.0</td>\n",
       "    </tr>\n",
       "    <tr>\n",
       "      <th>5390</th>\n",
       "      <td>86.0</td>\n",
       "      <td>0.0</td>\n",
       "      <td>0.0</td>\n",
       "      <td>0.0</td>\n",
       "      <td>0.0</td>\n",
       "      <td>0.0</td>\n",
       "      <td>1.0</td>\n",
       "      <td>0.0</td>\n",
       "      <td>0.0</td>\n",
       "      <td>0.0</td>\n",
       "      <td>...</td>\n",
       "      <td>0.0</td>\n",
       "      <td>0.0</td>\n",
       "      <td>0.0</td>\n",
       "      <td>1.0</td>\n",
       "      <td>0.0</td>\n",
       "      <td>0.0</td>\n",
       "      <td>0.0</td>\n",
       "      <td>0.0</td>\n",
       "      <td>0.0</td>\n",
       "      <td>0.0</td>\n",
       "    </tr>\n",
       "    <tr>\n",
       "      <th>860</th>\n",
       "      <td>45.0</td>\n",
       "      <td>0.0</td>\n",
       "      <td>0.0</td>\n",
       "      <td>0.0</td>\n",
       "      <td>0.0</td>\n",
       "      <td>1.0</td>\n",
       "      <td>0.0</td>\n",
       "      <td>0.0</td>\n",
       "      <td>0.0</td>\n",
       "      <td>1.0</td>\n",
       "      <td>...</td>\n",
       "      <td>0.0</td>\n",
       "      <td>0.0</td>\n",
       "      <td>0.0</td>\n",
       "      <td>0.0</td>\n",
       "      <td>0.0</td>\n",
       "      <td>1.0</td>\n",
       "      <td>0.0</td>\n",
       "      <td>0.0</td>\n",
       "      <td>0.0</td>\n",
       "      <td>0.0</td>\n",
       "    </tr>\n",
       "    <tr>\n",
       "      <th>7270</th>\n",
       "      <td>39.0</td>\n",
       "      <td>0.0</td>\n",
       "      <td>0.0</td>\n",
       "      <td>0.0</td>\n",
       "      <td>0.0</td>\n",
       "      <td>1.0</td>\n",
       "      <td>0.0</td>\n",
       "      <td>0.0</td>\n",
       "      <td>0.0</td>\n",
       "      <td>0.0</td>\n",
       "      <td>...</td>\n",
       "      <td>0.0</td>\n",
       "      <td>0.0</td>\n",
       "      <td>0.0</td>\n",
       "      <td>0.0</td>\n",
       "      <td>0.0</td>\n",
       "      <td>0.0</td>\n",
       "      <td>1.0</td>\n",
       "      <td>0.0</td>\n",
       "      <td>0.0</td>\n",
       "      <td>0.0</td>\n",
       "    </tr>\n",
       "  </tbody>\n",
       "</table>\n",
       "<p>7709 rows × 87 columns</p>\n",
       "</div>"
      ],
      "text/plain": [
       "      price_per_unit  retailer_Amazon  retailer_Foot_Locker  retailer_Kohl's  \\\n",
       "485             60.0              0.0                   0.0              0.0   \n",
       "6472            26.0              0.0                   0.0              0.0   \n",
       "1222            35.0              0.0                   1.0              0.0   \n",
       "5608            66.0              0.0                   0.0              0.0   \n",
       "2855            55.0              0.0                   0.0              1.0   \n",
       "...              ...              ...                   ...              ...   \n",
       "5734            49.0              0.0                   0.0              1.0   \n",
       "5191            41.0              0.0                   0.0              0.0   \n",
       "5390            86.0              0.0                   0.0              0.0   \n",
       "860             45.0              0.0                   0.0              0.0   \n",
       "7270            39.0              0.0                   0.0              0.0   \n",
       "\n",
       "      retailer_Sports_Direct  retailer_Walmart  retailer_West_Gear  \\\n",
       "485                      0.0               0.0                 1.0   \n",
       "6472                     1.0               0.0                 0.0   \n",
       "1222                     0.0               0.0                 0.0   \n",
       "5608                     0.0               0.0                 1.0   \n",
       "2855                     0.0               0.0                 0.0   \n",
       "...                      ...               ...                 ...   \n",
       "5734                     0.0               0.0                 0.0   \n",
       "5191                     1.0               0.0                 0.0   \n",
       "5390                     0.0               0.0                 1.0   \n",
       "860                      0.0               1.0                 0.0   \n",
       "7270                     0.0               1.0                 0.0   \n",
       "\n",
       "      region_Midwest  region_Northeast  region_South  ...  month_3  month_4  \\\n",
       "485              0.0               0.0           0.0  ...      0.0      1.0   \n",
       "6472             0.0               0.0           1.0  ...      0.0      0.0   \n",
       "1222             1.0               0.0           0.0  ...      0.0      0.0   \n",
       "5608             0.0               1.0           0.0  ...      0.0      0.0   \n",
       "2855             1.0               0.0           0.0  ...      1.0      0.0   \n",
       "...              ...               ...           ...  ...      ...      ...   \n",
       "5734             1.0               0.0           0.0  ...      0.0      0.0   \n",
       "5191             1.0               0.0           0.0  ...      0.0      0.0   \n",
       "5390             0.0               0.0           0.0  ...      0.0      0.0   \n",
       "860              0.0               0.0           1.0  ...      0.0      0.0   \n",
       "7270             0.0               0.0           0.0  ...      0.0      0.0   \n",
       "\n",
       "      month_5  month_6  month_7  month_8  month_9  month_10  month_11  \\\n",
       "485       0.0      0.0      0.0      0.0      0.0       0.0       0.0   \n",
       "6472      0.0      0.0      0.0      1.0      0.0       0.0       0.0   \n",
       "1222      0.0      0.0      0.0      0.0      0.0       0.0       0.0   \n",
       "5608      0.0      0.0      1.0      0.0      0.0       0.0       0.0   \n",
       "2855      0.0      0.0      0.0      0.0      0.0       0.0       0.0   \n",
       "...       ...      ...      ...      ...      ...       ...       ...   \n",
       "5734      0.0      0.0      1.0      0.0      0.0       0.0       0.0   \n",
       "5191      0.0      1.0      0.0      0.0      0.0       0.0       0.0   \n",
       "5390      0.0      1.0      0.0      0.0      0.0       0.0       0.0   \n",
       "860       0.0      0.0      0.0      1.0      0.0       0.0       0.0   \n",
       "7270      0.0      0.0      0.0      0.0      1.0       0.0       0.0   \n",
       "\n",
       "      month_12  \n",
       "485        0.0  \n",
       "6472       0.0  \n",
       "1222       1.0  \n",
       "5608       0.0  \n",
       "2855       0.0  \n",
       "...        ...  \n",
       "5734       0.0  \n",
       "5191       0.0  \n",
       "5390       0.0  \n",
       "860        0.0  \n",
       "7270       0.0  \n",
       "\n",
       "[7709 rows x 87 columns]"
      ]
     },
     "execution_count": 18,
     "metadata": {},
     "output_type": "execute_result"
    }
   ],
   "source": [
    "X_train_df"
   ]
  },
  {
   "cell_type": "markdown",
   "metadata": {},
   "source": [
    "Visualizamos nuestro target - y_train"
   ]
  },
  {
   "cell_type": "code",
   "execution_count": 19,
   "metadata": {},
   "outputs": [
    {
     "data": {
      "text/plain": [
       "count     7709.000000\n",
       "mean     12378.403035\n",
       "std      12626.345755\n",
       "min        160.000000\n",
       "25%       4080.000000\n",
       "50%       7791.000000\n",
       "75%      15750.000000\n",
       "max      82500.000000\n",
       "Name: total_sales, dtype: float64"
      ]
     },
     "execution_count": 19,
     "metadata": {},
     "output_type": "execute_result"
    }
   ],
   "source": [
    "y_train.describe()"
   ]
  },
  {
   "cell_type": "code",
   "execution_count": 20,
   "metadata": {},
   "outputs": [
    {
     "data": {
      "text/plain": [
       "<Axes: xlabel='total_sales'>"
      ]
     },
     "execution_count": 20,
     "metadata": {},
     "output_type": "execute_result"
    },
    {
     "data": {
      "image/png": "[encoded data removed]",
      "text/plain": [
       "<Figure size 640x480 with 1 Axes>"
      ]
     },
     "metadata": {},
     "output_type": "display_data"
    }
   ],
   "source": [
    "sns.boxplot(x=y_train)"
   ]
  },
  {
   "cell_type": "code",
   "execution_count": 21,
   "metadata": {},
   "outputs": [
    {
     "data": {
      "text/plain": [
       "<Axes: xlabel='total_sales', ylabel='Count'>"
      ]
     },
     "execution_count": 21,
     "metadata": {},
     "output_type": "execute_result"
    },
    {
     "data": {
      "image/png": "[encoded data removed]",
      "text/plain": [
       "<Figure size 640x480 with 1 Axes>"
      ]
     },
     "metadata": {},
     "output_type": "display_data"
    }
   ],
   "source": [
    "# quiero ver el grafico hist desde los 0 a 1200\n",
    "sns.histplot(y_train[y_train < 1500], bins=50, kde=True)"
   ]
  },
  {
   "cell_type": "code",
   "execution_count": 22,
   "metadata": {},
   "outputs": [
    {
     "data": {
      "text/plain": [
       "7709"
      ]
     },
     "execution_count": 22,
     "metadata": {},
     "output_type": "execute_result"
    }
   ],
   "source": [
    "len(y_train)"
   ]
  },
  {
   "cell_type": "code",
   "execution_count": 23,
   "metadata": {},
   "outputs": [
    {
     "data": {
      "text/plain": [
       "260"
      ]
     },
     "execution_count": 23,
     "metadata": {},
     "output_type": "execute_result"
    }
   ],
   "source": [
    "len(y_train[y_train > 45000])"
   ]
  },
  {
   "cell_type": "code",
   "execution_count": 24,
   "metadata": {},
   "outputs": [
    {
     "data": {
      "text/plain": [
       "27"
      ]
     },
     "execution_count": 24,
     "metadata": {},
     "output_type": "execute_result"
    }
   ],
   "source": [
    "len(y_train[y_train < 500])"
   ]
  },
  {
   "cell_type": "markdown",
   "metadata": {},
   "source": [
    "-------------------"
   ]
  },
  {
   "cell_type": "code",
   "execution_count": 25,
   "metadata": {},
   "outputs": [],
   "source": [
    "# crea muchos valores en la mediana y puede confundir"
   ]
  },
  {
   "cell_type": "code",
   "execution_count": 26,
   "metadata": {},
   "outputs": [
    {
     "name": "stdout",
     "output_type": "stream",
     "text": [
      "La mediana es de 7000.0\n"
     ]
    }
   ],
   "source": [
    "Q1 = y_train.quantile(0.25)\n",
    "Q3 = y_train.quantile(0.75)\n",
    "IQR = Q3 - Q1\n",
    "\n",
    "lower_bound = Q1 - 1.5 * IQR\n",
    "upper_bound = Q3 + 1.5 * IQR\n",
    "\n",
    "median_no_outliers = y_train[(y_train >= lower_bound) & (y_train <= upper_bound)].median()\n",
    "print(f\"La mediana es de {median_no_outliers}\")\n",
    "\n",
    "y_train_imputed = y_train.copy()\n",
    "y_train_imputed[(y_train < lower_bound) | (y_train > upper_bound)] = median_no_outliers\n",
    "\n",
    "# 4. Aplica los mismos límites y mediana en y_test\n",
    "y_test_imputed = y_test.copy()\n",
    "y_test_imputed[(y_test < lower_bound) | (y_test > upper_bound)] = median_no_outliers"
   ]
  },
  {
   "cell_type": "code",
   "execution_count": 27,
   "metadata": {},
   "outputs": [
    {
     "data": {
      "text/plain": [
       "count     7709.000000\n",
       "mean      9265.476586\n",
       "std       7304.726214\n",
       "min        160.000000\n",
       "25%       4080.000000\n",
       "50%       7000.000000\n",
       "75%      12000.000000\n",
       "max      33250.000000\n",
       "Name: total_sales, dtype: float64"
      ]
     },
     "execution_count": 27,
     "metadata": {},
     "output_type": "execute_result"
    }
   ],
   "source": [
    "y_train_imputed.describe()\n"
   ]
  },
  {
   "cell_type": "code",
   "execution_count": 28,
   "metadata": {},
   "outputs": [
    {
     "data": {
      "text/plain": [
       "<Axes: xlabel='total_sales', ylabel='Count'>"
      ]
     },
     "execution_count": 28,
     "metadata": {},
     "output_type": "execute_result"
    },
    {
     "data": {
      "image/png": "[encoded data removed]",
      "text/plain": [
       "<Figure size 640x480 with 1 Axes>"
      ]
     },
     "metadata": {},
     "output_type": "display_data"
    }
   ],
   "source": [
    "sns.histplot(y_train_imputed, kde = True)"
   ]
  },
  {
   "cell_type": "markdown",
   "metadata": {},
   "source": [
    "----------"
   ]
  },
  {
   "cell_type": "code",
   "execution_count": 29,
   "metadata": {},
   "outputs": [],
   "source": [
    "# capping / windsorizing\n",
    "\n",
    "upper_cap = y_train.quantile(0.95)\n",
    "y_train_capped = y_train.copy()\n",
    "y_train_capped[y_train_capped > upper_cap] = upper_cap\n",
    "\n",
    "y_test_capped = y_test.copy()\n",
    "y_test_capped[y_test_capped > upper_cap] = upper_cap"
   ]
  },
  {
   "cell_type": "code",
   "execution_count": 30,
   "metadata": {},
   "outputs": [
    {
     "data": {
      "text/plain": [
       "count     7709.000000\n",
       "mean     11829.161889\n",
       "std      10853.102480\n",
       "min        160.000000\n",
       "25%       4080.000000\n",
       "50%       7791.000000\n",
       "75%      15750.000000\n",
       "max      40450.000000\n",
       "Name: total_sales, dtype: float64"
      ]
     },
     "execution_count": 30,
     "metadata": {},
     "output_type": "execute_result"
    }
   ],
   "source": [
    "y_train_capped.describe()"
   ]
  },
  {
   "cell_type": "code",
   "execution_count": 31,
   "metadata": {},
   "outputs": [
    {
     "data": {
      "text/plain": [
       "<Axes: xlabel='total_sales', ylabel='Count'>"
      ]
     },
     "execution_count": 31,
     "metadata": {},
     "output_type": "execute_result"
    },
    {
     "data": {
      "image/png": "[encoded data removed]",
      "text/plain": [
       "<Figure size 640x480 with 1 Axes>"
      ]
     },
     "metadata": {},
     "output_type": "display_data"
    }
   ],
   "source": [
    "sns.histplot(y_train_capped, kde = True)"
   ]
  },
  {
   "cell_type": "markdown",
   "metadata": {},
   "source": [
    "---------\n"
   ]
  },
  {
   "cell_type": "code",
   "execution_count": 32,
   "metadata": {},
   "outputs": [],
   "source": [
    "# quiero ver cuantos outliers tengo en y_train segun el boxplot\n",
    "\n"
   ]
  },
  {
   "cell_type": "markdown",
   "metadata": {},
   "source": [
    "---------------\n",
    "MOMENTO NEGOCIO\n",
    "\n",
    "- Considero que los valores que tenemos por encima de 45000 euros que son 260 filas y que representan el 3% del dataset vamos a eliminarlos porque generan ruido y son ventas poco frencuentes. No serian relevantes para una predicción habitual del comercio. Aun asi, esto seria algo para comentar con los jefes de equipo."
   ]
  },
  {
   "cell_type": "code",
   "execution_count": 33,
   "metadata": {},
   "outputs": [],
   "source": [
    "# eliminamos los outliers\n",
    "mask_train = y_train <= 80000\n",
    "X_train_filtered = X_train[mask_train]\n",
    "y_train_filtered = y_train[mask_train]"
   ]
  },
  {
   "cell_type": "code",
   "execution_count": 34,
   "metadata": {},
   "outputs": [
    {
     "name": "stderr",
     "output_type": "stream",
     "text": [
      "C:\\Users\\Usuario\\AppData\\Local\\Temp\\ipykernel_16028\\3718196299.py:2: UserWarning: Boolean Series key will be reindexed to match DataFrame index.\n",
      "  X_train_filtered = X_train_filtered[mask_train_2]\n"
     ]
    }
   ],
   "source": [
    "mask_train_2 = y_train >= 300\n",
    "X_train_filtered = X_train_filtered[mask_train_2]\n",
    "y_train_filtered = y_train_filtered[mask_train_2]"
   ]
  },
  {
   "cell_type": "code",
   "execution_count": 35,
   "metadata": {},
   "outputs": [
    {
     "data": {
      "text/plain": [
       "count     7697.000000\n",
       "mean     12344.566065\n",
       "std      12507.313632\n",
       "min        320.000000\n",
       "25%       4092.000000\n",
       "50%       7791.000000\n",
       "75%      15750.000000\n",
       "max      78000.000000\n",
       "Name: total_sales, dtype: float64"
      ]
     },
     "execution_count": 35,
     "metadata": {},
     "output_type": "execute_result"
    }
   ],
   "source": [
    "y_train_filtered.describe()"
   ]
  },
  {
   "cell_type": "code",
   "execution_count": 36,
   "metadata": {},
   "outputs": [],
   "source": [
    "# eliminamos los outliers de otros df\n",
    "X_train_df_mask = X_train_df[mask_train]\n"
   ]
  },
  {
   "cell_type": "code",
   "execution_count": 37,
   "metadata": {},
   "outputs": [
    {
     "name": "stderr",
     "output_type": "stream",
     "text": [
      "C:\\Users\\Usuario\\AppData\\Local\\Temp\\ipykernel_16028\\2466491731.py:1: UserWarning: Boolean Series key will be reindexed to match DataFrame index.\n",
      "  X_train_df_mask = X_train_df_mask[mask_train_2]\n"
     ]
    }
   ],
   "source": [
    "X_train_df_mask = X_train_df_mask[mask_train_2]"
   ]
  },
  {
   "cell_type": "code",
   "execution_count": 38,
   "metadata": {},
   "outputs": [
    {
     "data": {
      "text/html": [
       "<div>\n",
       "<style scoped>\n",
       "    .dataframe tbody tr th:only-of-type {\n",
       "        vertical-align: middle;\n",
       "    }\n",
       "\n",
       "    .dataframe tbody tr th {\n",
       "        vertical-align: top;\n",
       "    }\n",
       "\n",
       "    .dataframe thead th {\n",
       "        text-align: right;\n",
       "    }\n",
       "</style>\n",
       "<table border=\"1\" class=\"dataframe\">\n",
       "  <thead>\n",
       "    <tr style=\"text-align: right;\">\n",
       "      <th></th>\n",
       "      <th>retailer</th>\n",
       "      <th>region</th>\n",
       "      <th>state</th>\n",
       "      <th>product</th>\n",
       "      <th>price_per_unit</th>\n",
       "      <th>month</th>\n",
       "      <th>day_of_week</th>\n",
       "    </tr>\n",
       "  </thead>\n",
       "  <tbody>\n",
       "    <tr>\n",
       "      <th>485</th>\n",
       "      <td>West Gear</td>\n",
       "      <td>Southeast</td>\n",
       "      <td>Florida</td>\n",
       "      <td>Men's Apparel</td>\n",
       "      <td>60.0</td>\n",
       "      <td>4</td>\n",
       "      <td>4</td>\n",
       "    </tr>\n",
       "    <tr>\n",
       "      <th>6472</th>\n",
       "      <td>Sports Direct</td>\n",
       "      <td>South</td>\n",
       "      <td>Texas</td>\n",
       "      <td>Men's Apparel</td>\n",
       "      <td>26.0</td>\n",
       "      <td>8</td>\n",
       "      <td>6</td>\n",
       "    </tr>\n",
       "    <tr>\n",
       "      <th>1222</th>\n",
       "      <td>Foot Locker</td>\n",
       "      <td>Midwest</td>\n",
       "      <td>Minnesota</td>\n",
       "      <td>Men's Apparel</td>\n",
       "      <td>35.0</td>\n",
       "      <td>12</td>\n",
       "      <td>1</td>\n",
       "    </tr>\n",
       "    <tr>\n",
       "      <th>5608</th>\n",
       "      <td>West Gear</td>\n",
       "      <td>Northeast</td>\n",
       "      <td>New York</td>\n",
       "      <td>Women's Apparel</td>\n",
       "      <td>66.0</td>\n",
       "      <td>7</td>\n",
       "      <td>3</td>\n",
       "    </tr>\n",
       "    <tr>\n",
       "      <th>2855</th>\n",
       "      <td>Kohl's</td>\n",
       "      <td>Midwest</td>\n",
       "      <td>Montana</td>\n",
       "      <td>Women's Apparel</td>\n",
       "      <td>55.0</td>\n",
       "      <td>3</td>\n",
       "      <td>1</td>\n",
       "    </tr>\n",
       "    <tr>\n",
       "      <th>...</th>\n",
       "      <td>...</td>\n",
       "      <td>...</td>\n",
       "      <td>...</td>\n",
       "      <td>...</td>\n",
       "      <td>...</td>\n",
       "      <td>...</td>\n",
       "      <td>...</td>\n",
       "    </tr>\n",
       "    <tr>\n",
       "      <th>5734</th>\n",
       "      <td>Kohl's</td>\n",
       "      <td>Midwest</td>\n",
       "      <td>Kansas</td>\n",
       "      <td>Men's Athletic Footwear</td>\n",
       "      <td>49.0</td>\n",
       "      <td>7</td>\n",
       "      <td>0</td>\n",
       "    </tr>\n",
       "    <tr>\n",
       "      <th>5191</th>\n",
       "      <td>Sports Direct</td>\n",
       "      <td>Midwest</td>\n",
       "      <td>Michigan</td>\n",
       "      <td>Women's Street Footwear</td>\n",
       "      <td>41.0</td>\n",
       "      <td>6</td>\n",
       "      <td>3</td>\n",
       "    </tr>\n",
       "    <tr>\n",
       "      <th>5390</th>\n",
       "      <td>West Gear</td>\n",
       "      <td>West</td>\n",
       "      <td>Oregon</td>\n",
       "      <td>Men's Apparel</td>\n",
       "      <td>86.0</td>\n",
       "      <td>6</td>\n",
       "      <td>3</td>\n",
       "    </tr>\n",
       "    <tr>\n",
       "      <th>860</th>\n",
       "      <td>Walmart</td>\n",
       "      <td>South</td>\n",
       "      <td>Texas</td>\n",
       "      <td>Men's Apparel</td>\n",
       "      <td>45.0</td>\n",
       "      <td>8</td>\n",
       "      <td>6</td>\n",
       "    </tr>\n",
       "    <tr>\n",
       "      <th>7270</th>\n",
       "      <td>Walmart</td>\n",
       "      <td>Southeast</td>\n",
       "      <td>Florida</td>\n",
       "      <td>Women's Street Footwear</td>\n",
       "      <td>39.0</td>\n",
       "      <td>9</td>\n",
       "      <td>5</td>\n",
       "    </tr>\n",
       "  </tbody>\n",
       "</table>\n",
       "<p>7697 rows × 7 columns</p>\n",
       "</div>"
      ],
      "text/plain": [
       "           retailer     region      state                  product  \\\n",
       "485       West Gear  Southeast    Florida            Men's Apparel   \n",
       "6472  Sports Direct      South      Texas            Men's Apparel   \n",
       "1222    Foot Locker    Midwest  Minnesota            Men's Apparel   \n",
       "5608      West Gear  Northeast   New York          Women's Apparel   \n",
       "2855         Kohl's    Midwest    Montana          Women's Apparel   \n",
       "...             ...        ...        ...                      ...   \n",
       "5734         Kohl's    Midwest     Kansas  Men's Athletic Footwear   \n",
       "5191  Sports Direct    Midwest   Michigan  Women's Street Footwear   \n",
       "5390      West Gear       West     Oregon            Men's Apparel   \n",
       "860         Walmart      South      Texas            Men's Apparel   \n",
       "7270        Walmart  Southeast    Florida  Women's Street Footwear   \n",
       "\n",
       "      price_per_unit  month  day_of_week  \n",
       "485             60.0      4            4  \n",
       "6472            26.0      8            6  \n",
       "1222            35.0     12            1  \n",
       "5608            66.0      7            3  \n",
       "2855            55.0      3            1  \n",
       "...              ...    ...          ...  \n",
       "5734            49.0      7            0  \n",
       "5191            41.0      6            3  \n",
       "5390            86.0      6            3  \n",
       "860             45.0      8            6  \n",
       "7270            39.0      9            5  \n",
       "\n",
       "[7697 rows x 7 columns]"
      ]
     },
     "execution_count": 38,
     "metadata": {},
     "output_type": "execute_result"
    }
   ],
   "source": [
    "X_train_filtered"
   ]
  },
  {
   "cell_type": "code",
   "execution_count": 39,
   "metadata": {},
   "outputs": [
    {
     "data": {
      "text/html": [
       "<div>\n",
       "<style scoped>\n",
       "    .dataframe tbody tr th:only-of-type {\n",
       "        vertical-align: middle;\n",
       "    }\n",
       "\n",
       "    .dataframe tbody tr th {\n",
       "        vertical-align: top;\n",
       "    }\n",
       "\n",
       "    .dataframe thead th {\n",
       "        text-align: right;\n",
       "    }\n",
       "</style>\n",
       "<table border=\"1\" class=\"dataframe\">\n",
       "  <thead>\n",
       "    <tr style=\"text-align: right;\">\n",
       "      <th></th>\n",
       "      <th>retailer</th>\n",
       "      <th>region</th>\n",
       "      <th>state</th>\n",
       "      <th>product</th>\n",
       "      <th>price_per_unit</th>\n",
       "      <th>month</th>\n",
       "      <th>day_of_week</th>\n",
       "    </tr>\n",
       "  </thead>\n",
       "  <tbody>\n",
       "    <tr>\n",
       "      <th>485</th>\n",
       "      <td>West Gear</td>\n",
       "      <td>Southeast</td>\n",
       "      <td>Florida</td>\n",
       "      <td>Men's Apparel</td>\n",
       "      <td>60.0</td>\n",
       "      <td>4</td>\n",
       "      <td>4</td>\n",
       "    </tr>\n",
       "    <tr>\n",
       "      <th>6472</th>\n",
       "      <td>Sports Direct</td>\n",
       "      <td>South</td>\n",
       "      <td>Texas</td>\n",
       "      <td>Men's Apparel</td>\n",
       "      <td>26.0</td>\n",
       "      <td>8</td>\n",
       "      <td>6</td>\n",
       "    </tr>\n",
       "    <tr>\n",
       "      <th>1222</th>\n",
       "      <td>Foot Locker</td>\n",
       "      <td>Midwest</td>\n",
       "      <td>Minnesota</td>\n",
       "      <td>Men's Apparel</td>\n",
       "      <td>35.0</td>\n",
       "      <td>12</td>\n",
       "      <td>1</td>\n",
       "    </tr>\n",
       "    <tr>\n",
       "      <th>5608</th>\n",
       "      <td>West Gear</td>\n",
       "      <td>Northeast</td>\n",
       "      <td>New York</td>\n",
       "      <td>Women's Apparel</td>\n",
       "      <td>66.0</td>\n",
       "      <td>7</td>\n",
       "      <td>3</td>\n",
       "    </tr>\n",
       "    <tr>\n",
       "      <th>2855</th>\n",
       "      <td>Kohl's</td>\n",
       "      <td>Midwest</td>\n",
       "      <td>Montana</td>\n",
       "      <td>Women's Apparel</td>\n",
       "      <td>55.0</td>\n",
       "      <td>3</td>\n",
       "      <td>1</td>\n",
       "    </tr>\n",
       "    <tr>\n",
       "      <th>...</th>\n",
       "      <td>...</td>\n",
       "      <td>...</td>\n",
       "      <td>...</td>\n",
       "      <td>...</td>\n",
       "      <td>...</td>\n",
       "      <td>...</td>\n",
       "      <td>...</td>\n",
       "    </tr>\n",
       "    <tr>\n",
       "      <th>5734</th>\n",
       "      <td>Kohl's</td>\n",
       "      <td>Midwest</td>\n",
       "      <td>Kansas</td>\n",
       "      <td>Men's Athletic Footwear</td>\n",
       "      <td>49.0</td>\n",
       "      <td>7</td>\n",
       "      <td>0</td>\n",
       "    </tr>\n",
       "    <tr>\n",
       "      <th>5191</th>\n",
       "      <td>Sports Direct</td>\n",
       "      <td>Midwest</td>\n",
       "      <td>Michigan</td>\n",
       "      <td>Women's Street Footwear</td>\n",
       "      <td>41.0</td>\n",
       "      <td>6</td>\n",
       "      <td>3</td>\n",
       "    </tr>\n",
       "    <tr>\n",
       "      <th>5390</th>\n",
       "      <td>West Gear</td>\n",
       "      <td>West</td>\n",
       "      <td>Oregon</td>\n",
       "      <td>Men's Apparel</td>\n",
       "      <td>86.0</td>\n",
       "      <td>6</td>\n",
       "      <td>3</td>\n",
       "    </tr>\n",
       "    <tr>\n",
       "      <th>860</th>\n",
       "      <td>Walmart</td>\n",
       "      <td>South</td>\n",
       "      <td>Texas</td>\n",
       "      <td>Men's Apparel</td>\n",
       "      <td>45.0</td>\n",
       "      <td>8</td>\n",
       "      <td>6</td>\n",
       "    </tr>\n",
       "    <tr>\n",
       "      <th>7270</th>\n",
       "      <td>Walmart</td>\n",
       "      <td>Southeast</td>\n",
       "      <td>Florida</td>\n",
       "      <td>Women's Street Footwear</td>\n",
       "      <td>39.0</td>\n",
       "      <td>9</td>\n",
       "      <td>5</td>\n",
       "    </tr>\n",
       "  </tbody>\n",
       "</table>\n",
       "<p>7697 rows × 7 columns</p>\n",
       "</div>"
      ],
      "text/plain": [
       "           retailer     region      state                  product  \\\n",
       "485       West Gear  Southeast    Florida            Men's Apparel   \n",
       "6472  Sports Direct      South      Texas            Men's Apparel   \n",
       "1222    Foot Locker    Midwest  Minnesota            Men's Apparel   \n",
       "5608      West Gear  Northeast   New York          Women's Apparel   \n",
       "2855         Kohl's    Midwest    Montana          Women's Apparel   \n",
       "...             ...        ...        ...                      ...   \n",
       "5734         Kohl's    Midwest     Kansas  Men's Athletic Footwear   \n",
       "5191  Sports Direct    Midwest   Michigan  Women's Street Footwear   \n",
       "5390      West Gear       West     Oregon            Men's Apparel   \n",
       "860         Walmart      South      Texas            Men's Apparel   \n",
       "7270        Walmart  Southeast    Florida  Women's Street Footwear   \n",
       "\n",
       "      price_per_unit  month  day_of_week  \n",
       "485             60.0      4            4  \n",
       "6472            26.0      8            6  \n",
       "1222            35.0     12            1  \n",
       "5608            66.0      7            3  \n",
       "2855            55.0      3            1  \n",
       "...              ...    ...          ...  \n",
       "5734            49.0      7            0  \n",
       "5191            41.0      6            3  \n",
       "5390            86.0      6            3  \n",
       "860             45.0      8            6  \n",
       "7270            39.0      9            5  \n",
       "\n",
       "[7697 rows x 7 columns]"
      ]
     },
     "execution_count": 39,
     "metadata": {},
     "output_type": "execute_result"
    }
   ],
   "source": [
    "X_train_filtered"
   ]
  },
  {
   "cell_type": "code",
   "execution_count": 40,
   "metadata": {},
   "outputs": [],
   "source": [
    "from scipy.stats import boxcox"
   ]
  },
  {
   "cell_type": "code",
   "execution_count": 41,
   "metadata": {},
   "outputs": [
    {
     "name": "stdout",
     "output_type": "stream",
     "text": [
      "Lambda óptima: 0.028619666115049194\n"
     ]
    }
   ],
   "source": [
    "# box-cox transformation\n",
    "from scipy.stats import boxcox\n",
    "y_train_boxcox, lambda_val = boxcox(y_train_filtered)\n",
    "\n",
    "# lambda_val es el parámetro óptimo calculado para la transformación.\n",
    "print(f\"Lambda óptima: {lambda_val}\")"
   ]
  },
  {
   "cell_type": "code",
   "execution_count": 42,
   "metadata": {},
   "outputs": [],
   "source": [
    "# test aplicamos el mismo boxcox que en train\n",
    "y_test_boxcox = boxcox(y_test, lmbda=lambda_val)\n"
   ]
  },
  {
   "cell_type": "code",
   "execution_count": 43,
   "metadata": {},
   "outputs": [
    {
     "data": {
      "text/plain": [
       "<Axes: ylabel='Count'>"
      ]
     },
     "execution_count": 43,
     "metadata": {},
     "output_type": "execute_result"
    },
    {
     "data": {
      "image/png": "[encoded data removed]",
      "text/plain": [
       "<Figure size 640x480 with 1 Axes>"
      ]
     },
     "metadata": {},
     "output_type": "display_data"
    }
   ],
   "source": [
    "sns.histplot(y_train_boxcox)"
   ]
  },
  {
   "cell_type": "code",
   "execution_count": null,
   "metadata": {},
   "outputs": [],
   "source": []
  },
  {
   "cell_type": "code",
   "execution_count": null,
   "metadata": {},
   "outputs": [],
   "source": []
  },
  {
   "cell_type": "markdown",
   "metadata": {},
   "source": [
    "Nuestro modelo puede verse afectado por esta distribución asimetrica, debemos hacer una transformación logaritmica."
   ]
  },
  {
   "cell_type": "code",
   "execution_count": 44,
   "metadata": {},
   "outputs": [],
   "source": [
    "# y_train_log = np.log1p(y_train_capped)\n",
    "# y_test_log = np.log1p(y_test_capped)"
   ]
  },
  {
   "cell_type": "code",
   "execution_count": 45,
   "metadata": {},
   "outputs": [],
   "source": [
    "# sns.histplot(y_train_log, kde = True)"
   ]
  },
  {
   "cell_type": "markdown",
   "metadata": {},
   "source": []
  },
  {
   "cell_type": "code",
   "execution_count": 46,
   "metadata": {},
   "outputs": [
    {
     "name": "stdout",
     "output_type": "stream",
     "text": [
      "<class 'pandas.core.frame.DataFrame'>\n",
      "Index: 7709 entries, 485 to 7270\n",
      "Data columns (total 7 columns):\n",
      " #   Column          Non-Null Count  Dtype  \n",
      "---  ------          --------------  -----  \n",
      " 0   retailer        7709 non-null   object \n",
      " 1   region          7709 non-null   object \n",
      " 2   state           7709 non-null   object \n",
      " 3   product         7709 non-null   object \n",
      " 4   price_per_unit  7709 non-null   float64\n",
      " 5   month           7709 non-null   int32  \n",
      " 6   day_of_week     7709 non-null   int32  \n",
      "dtypes: float64(1), int32(2), object(4)\n",
      "memory usage: 421.6+ KB\n"
     ]
    }
   ],
   "source": [
    "X_train.info()"
   ]
  },
  {
   "cell_type": "code",
   "execution_count": 47,
   "metadata": {},
   "outputs": [
    {
     "name": "stdout",
     "output_type": "stream",
     "text": [
      "<class 'pandas.core.frame.DataFrame'>\n",
      "Index: 7697 entries, 485 to 7270\n",
      "Data columns (total 7 columns):\n",
      " #   Column          Non-Null Count  Dtype  \n",
      "---  ------          --------------  -----  \n",
      " 0   retailer        7697 non-null   object \n",
      " 1   region          7697 non-null   object \n",
      " 2   state           7697 non-null   object \n",
      " 3   product         7697 non-null   object \n",
      " 4   price_per_unit  7697 non-null   float64\n",
      " 5   month           7697 non-null   int32  \n",
      " 6   day_of_week     7697 non-null   int32  \n",
      "dtypes: float64(1), int32(2), object(4)\n",
      "memory usage: 420.9+ KB\n"
     ]
    }
   ],
   "source": [
    "X_train_filtered.info()"
   ]
  },
  {
   "cell_type": "code",
   "execution_count": 48,
   "metadata": {},
   "outputs": [
    {
     "data": {
      "text/plain": [
       "count     7697.000000\n",
       "mean     12344.566065\n",
       "std      12507.313632\n",
       "min        320.000000\n",
       "25%       4092.000000\n",
       "50%       7791.000000\n",
       "75%      15750.000000\n",
       "max      78000.000000\n",
       "Name: total_sales, dtype: float64"
      ]
     },
     "execution_count": 48,
     "metadata": {},
     "output_type": "execute_result"
    }
   ],
   "source": [
    "y_train_filtered.describe()"
   ]
  },
  {
   "cell_type": "code",
   "execution_count": 58,
   "metadata": {},
   "outputs": [],
   "source": [
    "# def rmse_in_original(y_true_log, y_pred_log):\n",
    "#     y_true = np.expm1(y_true_log)\n",
    "#     y_pred = np.expm1(y_pred_log)\n",
    "#     return np.sqrt(mean_squared_error(y_true, y_pred))\n",
    "\n",
    "# rmse_scorer = make_scorer(rmse_in_original, greater_is_better=False)"
   ]
  },
  {
   "cell_type": "code",
   "execution_count": 49,
   "metadata": {},
   "outputs": [],
   "source": [
    "def rmse_boxcox_inverse(y_true_boxcox, y_pred_boxcox):\n",
    "    y_true_original = inv_boxcox(y_true_boxcox, lambda_val)\n",
    "    y_pred_original = inv_boxcox(y_pred_boxcox, lambda_val)\n",
    "    \n",
    "    return np.sqrt(mean_squared_error(y_true_original, y_pred_original))\n",
    "\n",
    "scorer = make_scorer(rmse_boxcox_inverse, greater_is_better=False)"
   ]
  },
  {
   "cell_type": "code",
   "execution_count": 52,
   "metadata": {},
   "outputs": [],
   "source": [
    "def rmse(y_true, y_pred):\n",
    "    return np.sqrt(mean_squared_error(y_true, y_pred))\n",
    "\n",
    "rmse_scorer_tradi = make_scorer(rmse, greater_is_better=False)"
   ]
  },
  {
   "cell_type": "markdown",
   "metadata": {},
   "source": [
    "CATBOOST"
   ]
  },
  {
   "cell_type": "code",
   "execution_count": 59,
   "metadata": {},
   "outputs": [
    {
     "name": "stdout",
     "output_type": "stream",
     "text": [
      "RMSE: 5356.212559461436\n",
      "MAE: 3168.8242185526656\n",
      "R2: 0.8309113060985089\n"
     ]
    }
   ],
   "source": [
    "# Probamos CATBOOST\n",
    "from scipy.special import inv_boxcox\n",
    "from catboost import CatBoostRegressor\n",
    "\n",
    "# Entrenamos el modelo con los datos transformados\n",
    "cat_model = CatBoostRegressor(verbose=0, random_state=42)\n",
    "cat_model.fit(X_train_filtered, y_train_boxcox, cat_features=categorical_features)\n",
    "\n",
    "# Realizamos predicciones en el conjunto de prueba\n",
    "y_pred_boxcox_cat = cat_model.predict(X_test)\n",
    "y_pred = inv_boxcox(y_pred_boxcox_cat, lambda_val)\n",
    "\n",
    "mse = mean_squared_error(y_test, y_pred)\n",
    "rmse = np.sqrt(mse)\n",
    "mae = mean_absolute_error(y_test, y_pred)\n",
    "r2 = r2_score(y_test, y_pred)\n",
    "\n",
    "print(f\"RMSE: {rmse}\")\n",
    "print(f\"MAE: {mae}\")\n",
    "print(f\"R2: {r2}\")"
   ]
  },
  {
   "cell_type": "code",
   "execution_count": 60,
   "metadata": {},
   "outputs": [
    {
     "data": {
      "text/html": [
       "<div>\n",
       "<style scoped>\n",
       "    .dataframe tbody tr th:only-of-type {\n",
       "        vertical-align: middle;\n",
       "    }\n",
       "\n",
       "    .dataframe tbody tr th {\n",
       "        vertical-align: top;\n",
       "    }\n",
       "\n",
       "    .dataframe thead th {\n",
       "        text-align: right;\n",
       "    }\n",
       "</style>\n",
       "<table border=\"1\" class=\"dataframe\">\n",
       "  <thead>\n",
       "    <tr style=\"text-align: right;\">\n",
       "      <th></th>\n",
       "      <th>Feature Id</th>\n",
       "      <th>Importances</th>\n",
       "    </tr>\n",
       "  </thead>\n",
       "  <tbody>\n",
       "    <tr>\n",
       "      <th>0</th>\n",
       "      <td>price_per_unit</td>\n",
       "      <td>61.943746</td>\n",
       "    </tr>\n",
       "    <tr>\n",
       "      <th>1</th>\n",
       "      <td>state</td>\n",
       "      <td>14.193008</td>\n",
       "    </tr>\n",
       "    <tr>\n",
       "      <th>2</th>\n",
       "      <td>product</td>\n",
       "      <td>8.696301</td>\n",
       "    </tr>\n",
       "    <tr>\n",
       "      <th>3</th>\n",
       "      <td>region</td>\n",
       "      <td>6.592199</td>\n",
       "    </tr>\n",
       "    <tr>\n",
       "      <th>4</th>\n",
       "      <td>retailer</td>\n",
       "      <td>3.733769</td>\n",
       "    </tr>\n",
       "    <tr>\n",
       "      <th>5</th>\n",
       "      <td>month</td>\n",
       "      <td>3.375056</td>\n",
       "    </tr>\n",
       "    <tr>\n",
       "      <th>6</th>\n",
       "      <td>day_of_week</td>\n",
       "      <td>1.465922</td>\n",
       "    </tr>\n",
       "  </tbody>\n",
       "</table>\n",
       "</div>"
      ],
      "text/plain": [
       "       Feature Id  Importances\n",
       "0  price_per_unit    61.943746\n",
       "1           state    14.193008\n",
       "2         product     8.696301\n",
       "3          region     6.592199\n",
       "4        retailer     3.733769\n",
       "5           month     3.375056\n",
       "6     day_of_week     1.465922"
      ]
     },
     "execution_count": 60,
     "metadata": {},
     "output_type": "execute_result"
    }
   ],
   "source": [
    "cat_model.get_feature_importance(prettified=True)"
   ]
  },
  {
   "cell_type": "code",
   "execution_count": 76,
   "metadata": {},
   "outputs": [
    {
     "name": "stdout",
     "output_type": "stream",
     "text": [
      "Mejores hiperparametros: {'depth': 3, 'iterations': 500, 'l2_leaf_reg': 5, 'learning_rate': 0.5}\n",
      "Mejor score RMSE: 5472.713596670264\n",
      "RMSE GridSearch CatBoost: 5260.050513\n",
      "MAE GridSearch CatBoost: 3136.05\n",
      "R2 GridSearch CatBoost: 0.836928\n"
     ]
    }
   ],
   "source": [
    "# CATBOOST GRIDSEARCH\n",
    "\n",
    "param_grid = {\n",
    "    \"depth\": [3, 5, 7],\n",
    "    \"learning_rate\": [0.01, 0.1, 0.5],\n",
    "    \"iterations\": [300, 500, 700],\n",
    "    \"l2_leaf_reg\": [1, 3, 5]\n",
    "}\n",
    "\n",
    "grid_cat = GridSearchCV(\n",
    "    estimator=CatBoostRegressor(verbose=0, random_state=42),\n",
    "    param_grid=param_grid,\n",
    "    cv=5,\n",
    "    scoring=scorer,\n",
    "    n_jobs=-1\n",
    ")\n",
    "\n",
    "grid_cat.fit(X_train_filtered, y_train_boxcox, cat_features=categorical_features)\n",
    "\n",
    "best_model_cat = grid_cat.best_estimator_\n",
    "\n",
    "print(f\"Mejores hiperparametros: {grid_cat.best_params_}\")\n",
    "print(f\"Mejor score RMSE: {-grid_cat.best_score_}\")\n",
    "\n",
    "#Predecimos con el mejor modelo\n",
    "y_pred_boxcox_gridcat = best_model_cat.predict(X_test)\n",
    "y_pred_grid_cat = inv_boxcox(y_pred_boxcox_gridcat, lambda_val)\n",
    "\n",
    "mse_grid_cat = mean_squared_error(y_test, y_pred_grid_cat)\n",
    "rmse_grid_cat = np.sqrt(mse_grid_cat)\n",
    "mae_grid_cat = mean_absolute_error(y_test, y_pred_grid_cat)\n",
    "r2_grid_cat = r2_score(y_test, y_pred_grid_cat)\n",
    "\n",
    "print(f\"RMSE GridSearch CatBoost: {rmse_grid_cat:2f}\")\n",
    "print(f\"MAE GridSearch CatBoost: {mae_grid_cat:.2f}\")\n",
    "print(f\"R2 GridSearch CatBoost: {r2_grid_cat:4f}\")"
   ]
  },
  {
   "cell_type": "code",
   "execution_count": null,
   "metadata": {},
   "outputs": [
    {
     "name": "stdout",
     "output_type": "stream",
     "text": [
      "Mejores hiperparametros: {'learning_rate': 0.3, 'l2_leaf_reg': 7, 'iterations': 500, 'depth': 6}\n",
      "Mejor score RMSE: 5512.113412613679\n",
      "RMSE RandomSearch CatBoost: 5290.786938\n",
      "MAE RandomSearch CatBoost: 3058.74\n",
      "R2 RandomSearch CatBoost: 0.835017\n"
     ]
    }
   ],
   "source": [
    "# CATBOOST RANDOMIZEDSEARCH\n",
    "\n",
    "from sklearn.model_selection import RandomizedSearchCV\n",
    "\n",
    "param_dist_cat = {\n",
    "    \"depth\": [3,4,5,6,7],\n",
    "    \"learning_rate\": [0.01, 0.05, 0.1, 0.3, 0.5],\n",
    "    \"iterations\": [300, 500,700, 1000],\n",
    "    \"l2_leaf_reg\": [1, 3, 5, 7]\n",
    "}\n",
    "\n",
    "random_search = RandomizedSearchCV(\n",
    "    estimator=CatBoostRegressor(verbose=0, random_state=42),\n",
    "    param_distributions=param_dist_cat,\n",
    "    n_iter=30,\n",
    "    cv=5,\n",
    "    scoring=scorer,\n",
    "    n_jobs=-1,\n",
    "    random_state=42\n",
    ")\n",
    "\n",
    "random_search.fit(X_train_filtered, y_train_boxcox, cat_features=categorical_features)\n",
    "\n",
    "best_model_random = random_search.best_estimator_\n",
    "\n",
    "print(f\"Mejores hiperparametros: {random_search.best_params_}\")\n",
    "print(f\"Mejor score RMSE: {-random_search.best_score_}\")\n",
    "\n",
    "# predecimos\n",
    "y_pred_boxcox_random = best_model_random.predict(X_test)\n",
    "y_pred_random = inv_boxcox(y_pred_boxcox_random, lambda_val)\n",
    "\n",
    "mse_random = mean_squared_error(y_test, y_pred_random)\n",
    "rmse_random = np.sqrt(mse_random)\n",
    "mae_random = mean_absolute_error(y_test, y_pred_random)\n",
    "r2_random = r2_score(y_test, y_pred_random)\n",
    "\n",
    "print(f\"RMSE RandomSearch CatBoost: {rmse_random:2f}\")\n",
    "print(f\"MAE RandomSearch CatBoost: {mae_random:.2f}\")\n",
    "print(f\"R2 RandomSearch CatBoost: {r2_random:4f}\")\n",
    "\n"
   ]
  },
  {
   "cell_type": "markdown",
   "metadata": {},
   "source": [
    "Viendo que nuestro GridSearch obtuvo mejor resultado, vamos a implementarlo en el modelo y lo evaluamos finalmente"
   ]
  },
  {
   "cell_type": "code",
   "execution_count": 98,
   "metadata": {},
   "outputs": [
    {
     "name": "stdout",
     "output_type": "stream",
     "text": [
      "Score CatBoost Inicial R2 (BoxCox no invertido): 0.8629\n",
      "Entrenamiento (Box-Cox): RMSE = 0.46\n",
      "Entrenamiento (Original): RMSE = 5080.58, MAE = 3134.64, R2 = 0.8350\n",
      "\n",
      "Validación Cruzada (Original):\n",
      "RMSE por fold: [5788.8694795577585, 5413.8676697803, 5743.834775200887, 5449.391118928253, 5311.018815527692]\n",
      "MAE por fold: [3247.690047292906, 3080.5296506169325, 3438.981820168298, 3134.5497556187424, 3170.417505647456]\n",
      "R2 por fold: [0.7925523964389998, 0.8085998294707365, 0.7953619530273177, 0.7937128689054365, 0.825628203943759]\n",
      "RMSE Promedio: 5541.396371798978\n",
      "MAE Promedio: 3214.4337558688667\n",
      "R2 Promedio: 0.8031710503572498\n",
      "\n",
      "Test Set (Original):\n",
      "RMSE: 5260.050513\n",
      "MAE: 3136.047537\n",
      "R2: 0.8369\n"
     ]
    }
   ],
   "source": [
    "# Evaluacion final\n",
    "from scipy.special import inv_boxcox\n",
    "from catboost import CatBoostRegressor\n",
    "\n",
    "#KFold\n",
    "from sklearn.model_selection import KFold\n",
    "kf = KFold(n_splits=5, shuffle=True, random_state=42)\n",
    "\n",
    "# Entrenamos el modelo con los datos transformados\n",
    "cat_model = CatBoostRegressor(depth= 3, iterations=500, l2_leaf_reg= 5, learning_rate=0.5, verbose=0, random_state=42)\n",
    "cat_model.fit(X_train_filtered, y_train_boxcox, cat_features=categorical_features)\n",
    "\n",
    "# Realizamos score en el conjunto de entrenamiento\n",
    "score_cat_model = cat_model.score(X_train_filtered, y_train_boxcox)\n",
    "print(f\"Score CatBoost Inicial R2 (BoxCox no invertido): {score_cat_model:.4f}\")\n",
    "\n",
    "y_train_pred_boxcox_cat = cat_model.predict(X_train_filtered)\n",
    "\n",
    "# Métricas en el espacio Box-Cox\n",
    "train_rmse_boxcox = np.sqrt(mean_squared_error(y_train_boxcox, y_train_pred_boxcox_cat))\n",
    "print(f\"Entrenamiento (Box-Cox): RMSE = {train_rmse_boxcox:.2f}\")\n",
    "\n",
    "# Invertimos\n",
    "y_train_pred_original = inv_boxcox(y_train_pred_boxcox_cat, lambda_val)\n",
    "y_train_original = inv_boxcox(y_train_boxcox, lambda_val)\n",
    "\n",
    "train_rmse = np.sqrt(mean_squared_error(y_train_original, y_train_pred_original))\n",
    "train_mae = mean_absolute_error(y_train_original, y_train_pred_original)\n",
    "train_r2 = r2_score(y_train_original, y_train_pred_original)\n",
    "print(f\"Entrenamiento (Original): RMSE = {train_rmse:.2f}, MAE = {train_mae:.2f}, R2 = {train_r2:.4f}\")\n",
    "\n",
    "# Realizamos score en el conjunto de validación manualmente\n",
    "# porque kfold al hacer split, no tiene en cuenta categorical_features\n",
    "cv_rmse_scores = []\n",
    "cv_mae_scores = []\n",
    "cv_r2_scores = []\n",
    "for train_index, val_index in kf.split(X_train_filtered):\n",
    "    X_train_fold = X_train_filtered.iloc[train_index]\n",
    "    X_val_fold = X_train_filtered.iloc[val_index]\n",
    "    y_train_fold = y_train_boxcox[train_index]\n",
    "    y_val_fold = y_train_boxcox[val_index]\n",
    "\n",
    "    # Crear el modelo\n",
    "    fold_model = CatBoostRegressor(depth= 3, iterations=500, l2_leaf_reg= 5, learning_rate=0.5, verbose=0, random_state=42)\n",
    "    fold_model.fit(X_train_fold, y_train_fold, cat_features=categorical_features)\n",
    "\n",
    "    # Predit Box Cox\n",
    "    y_val_pred_boxcox_cat = fold_model.predict(X_val_fold)\n",
    "\n",
    "    # Invertir Box-Cox\n",
    "    y_val_pred_original = inv_boxcox(y_val_pred_boxcox_cat, lambda_val)\n",
    "    y_val_original = inv_boxcox(y_val_fold, lambda_val)\n",
    "\n",
    "    # Calcular métricas\n",
    "    rmse_fold = np.sqrt(mean_squared_error(y_val_original, y_val_pred_original))\n",
    "    mae_fold = mean_absolute_error(y_val_original, y_val_pred_original)\n",
    "    r2_fold = r2_score(y_val_original, y_val_pred_original)\n",
    "\n",
    "    cv_rmse_scores.append(rmse_fold)\n",
    "    cv_mae_scores.append(mae_fold)\n",
    "    cv_r2_scores.append(r2_fold)\n",
    "\n",
    "print(\"\\nValidación Cruzada (Original):\")\n",
    "print(\"RMSE por fold:\", (cv_rmse_scores))\n",
    "print(\"MAE por fold:\", (cv_mae_scores))\n",
    "print(\"R2 por fold:\", (cv_r2_scores))\n",
    "print(\"RMSE Promedio:\", np.mean(cv_rmse_scores))\n",
    "print(\"MAE Promedio:\", np.mean(cv_mae_scores))\n",
    "print(\"R2 Promedio:\", np.mean(cv_r2_scores))\n",
    "\n",
    "# Realizamos score en el conjunto de prueba\n",
    "y_pred_boxcox_cat = cat_model.predict(X_test)\n",
    "y_pred = inv_boxcox(y_pred_boxcox_cat, lambda_val)\n",
    "\n",
    "mse_cat_test = mean_squared_error(y_test, y_pred)\n",
    "rmse_cat_test = np.sqrt(mse)\n",
    "mae_cat_test = mean_absolute_error(y_test, y_pred)\n",
    "r2_cat_test = r2_score(y_test, y_pred)\n",
    "\n",
    "print(\"\\nTest Set (Original):\")\n",
    "print(f\"RMSE: {rmse_cat_test:2f}\")\n",
    "print(f\"MAE: {mae_cat_test:2f}\")\n",
    "print(f\"R2: {r2_cat_test:.4f}\")"
   ]
  },
  {
   "cell_type": "code",
   "execution_count": 72,
   "metadata": {},
   "outputs": [],
   "source": [
    "# # Obtener el mejor conjunto de hiperparámetros\n",
    "# best_params = grid_cat.best_params_\n",
    "\n",
    "# # Crear un nuevo modelo con esos hiperparámetros\n",
    "# cat_model_best = CatBoostRegressor(\n",
    "#     **best_params,\n",
    "#     random_seed=42,\n",
    "#     verbose=0\n",
    "# )\n",
    "\n",
    "# cat_model_best.fit(X_train_filtered, y_train_boxcox, cat_features=categorical_features)\n",
    "\n",
    "# # Ya puedes usarlo para predecir\n",
    "# y_pred_boxcox = cat_model_best.predict(X_test)\n",
    "# y_pred_cat_model_best = inv_boxcox(y_pred_boxcox, lambda_val)\n",
    "\n",
    "# mse_cat_model_best = mean_squared_error(y_test, y_pred_cat_model_best)\n",
    "# rmse_cat_model_best = np.sqrt(mse_cat_model_best)\n",
    "# mae_cat_model_best = mean_absolute_error(y_test, y_pred_cat_model_best)\n",
    "# r2_cat_model_best = r2_score(y_test, y_pred_cat_model_best)\n",
    "\n",
    "# print(f\"RMSE CatBoost Best: {rmse_cat_model_best:.2f}\")\n",
    "# print(f\"MAE CatBoost Best: {mae_cat_model_best:.2f}\")\n",
    "# print(f\"R2 CatBoost Best: {r2_cat_model_best:.4f}\")\n"
   ]
  },
  {
   "cell_type": "markdown",
   "metadata": {},
   "source": [
    "---------"
   ]
  },
  {
   "cell_type": "markdown",
   "metadata": {},
   "source": [
    "LINEAR REGRESSION"
   ]
  },
  {
   "cell_type": "code",
   "execution_count": 73,
   "metadata": {},
   "outputs": [
    {
     "name": "stdout",
     "output_type": "stream",
     "text": [
      "RMSE: 9567.018616260499\n",
      "MAE: 6526.151476851045\n",
      "R2: 0.4605487539505192\n"
     ]
    }
   ],
   "source": [
    "from sklearn.linear_model import LinearRegression\n",
    "\n",
    "# Entrenar el modelo de regresión lineal\n",
    "baseline_model = LinearRegression()\n",
    "baseline_model.fit(X_train_df_mask, y_train_boxcox)\n",
    "\n",
    "# Predecir en el conjunto de prueba\n",
    "y_pred_boxcox_baseline = baseline_model.predict(X_test_df)\n",
    "\n",
    "y_pred_baseline = inv_boxcox(y_pred_boxcox_baseline, lambda_val)\n",
    "\n",
    "# Evaluar el modelo\n",
    "mse_baseline = mean_squared_error(y_test, y_pred_baseline)\n",
    "rmse_baseline = np.sqrt(mse_baseline)\n",
    "mae_baseline = mean_absolute_error(y_test, y_pred_baseline)\n",
    "r2_baseline = r2_score(y_test, y_pred_baseline)\n",
    "\n",
    "print(f\"RMSE: {rmse_baseline}\")\n",
    "print(f\"MAE: {mae_baseline}\")\n",
    "print(f\"R2: {r2_baseline}\")"
   ]
  },
  {
   "cell_type": "markdown",
   "metadata": {},
   "source": [
    "MLP REGRESSOR"
   ]
  },
  {
   "cell_type": "code",
   "execution_count": 79,
   "metadata": {},
   "outputs": [
    {
     "name": "stdout",
     "output_type": "stream",
     "text": [
      "Neural Network - RMSE: 9204.82\n",
      "Neural Network - MAE: 6488.44\n",
      "Neural Network - R2: 0.5006\n"
     ]
    }
   ],
   "source": [
    "from sklearn.neural_network import MLPRegressor\n",
    "\n",
    "# Entrenar el modelo de red neuronal\n",
    "nn_model = MLPRegressor(hidden_layer_sizes=(100, 50), max_iter=500, random_state=42)\n",
    "nn_model.fit(X_train_df_mask, y_train_boxcox)\n",
    "\n",
    "# Predecir en el conjunto de prueba\n",
    "y_pred_nn = nn_model.predict(X_test_df)\n",
    "y_pred_nn = inv_boxcox(y_pred_nn, lambda_val)\n",
    "\n",
    "# Evaluar el modelo\n",
    "mse_nn = mean_squared_error(y_test, y_pred_nn)\n",
    "rmse_nn = np.sqrt(mse_nn)\n",
    "mae_nn = mean_absolute_error(y_test, y_pred_nn)\n",
    "r2_nn = r2_score(y_test, y_pred_nn)\n",
    "\n",
    "print(f\"Neural Network - RMSE: {rmse_nn:.2f}\")\n",
    "print(f\"Neural Network - MAE: {mae_nn:.2f}\")\n",
    "print(f\"Neural Network - R2: {r2_nn:.4f}\")"
   ]
  },
  {
   "cell_type": "markdown",
   "metadata": {},
   "source": [
    "-------"
   ]
  },
  {
   "cell_type": "markdown",
   "metadata": {},
   "source": [
    "RANDOM FOREST"
   ]
  },
  {
   "cell_type": "code",
   "execution_count": 74,
   "metadata": {},
   "outputs": [
    {
     "name": "stdout",
     "output_type": "stream",
     "text": [
      "Random Forest - RMSE: 5781.401138150889\n",
      "Random Forest - MAE: 3381.8152500481433\n",
      "Random Forest - R2: 0.8030004792100187\n"
     ]
    }
   ],
   "source": [
    "# rf X_train_df_mask lleva\n",
    "\n",
    "from sklearn.ensemble import RandomForestRegressor\n",
    "\n",
    "# Entrenar el modelo Random Forest\n",
    "rf_model = RandomForestRegressor(random_state=42)\n",
    "rf_model.fit(X_train_df_mask, y_train_boxcox)\n",
    "\n",
    "# Predecir en el conjunto de prueba\n",
    "y_pred_boxcox_rf = rf_model.predict(X_test_df)\n",
    "y_pred_rf = inv_boxcox(y_pred_boxcox_rf, lambda_val)\n",
    "\n",
    "# Evaluar el modelo\n",
    "mse_rf = mean_squared_error(y_test, y_pred_rf)\n",
    "rmse_rf = np.sqrt(mse_rf)\n",
    "mae_rf = mean_absolute_error(y_test, y_pred_rf)\n",
    "r2_rf = r2_score(y_test, y_pred_rf)\n",
    "\n",
    "print(f\"Random Forest - RMSE: {rmse_rf}\")\n",
    "print(f\"Random Forest - MAE: {mae_rf}\")\n",
    "print(f\"Random Forest - R2: {r2_rf}\")"
   ]
  },
  {
   "cell_type": "code",
   "execution_count": 85,
   "metadata": {},
   "outputs": [
    {
     "name": "stdout",
     "output_type": "stream",
     "text": [
      "Mejores hiperparámetros: {'max_depth': None, 'min_samples_leaf': 1, 'min_samples_split': 2, 'n_estimators': 300}\n",
      "Mejor score RMSE: 6208.17\n",
      "Random Forest (GridSearch)\n",
      "RMSE: 5786.688137892891\n",
      "MAE: 3382.628031980468\n",
      "R2: 0.8026400085818901\n"
     ]
    }
   ],
   "source": [
    "# RF GridSearch\n",
    "\n",
    "param_grid = {\n",
    "    'n_estimators': [100, 200, 300],\n",
    "    'max_depth': [None, 10, 20, 30],\n",
    "    'min_samples_split': [2, 5, 7],\n",
    "    'min_samples_leaf': [1, 2, 4]\n",
    "}\n",
    "\n",
    "model = RandomForestRegressor(random_state=42)\n",
    "\n",
    "grid_search = GridSearchCV(\n",
    "    estimator=RandomForestRegressor(random_state=42),\n",
    "    param_grid=param_grid,\n",
    "    scoring=scorer,\n",
    "    cv=5,\n",
    "    n_jobs=-1\n",
    ")\n",
    "\n",
    "grid_search.fit(X_train_df_mask, y_train_boxcox)\n",
    "best_model_rf = grid_search.best_estimator_\n",
    "\n",
    "# Mejores hiperparámetros\n",
    "best_params = grid_search.best_params_\n",
    "print(f\"Mejores hiperparámetros: {best_params}\")\n",
    "print(f\"Mejor score RMSE: {-grid_search.best_score_:.2f}\")\n",
    "\n",
    "# Predecir en el conjunto de prueba (en escala logarítmica)\n",
    "y_pred_boxcox_grid_rf = grid_search.predict(X_test_df)\n",
    "y_pred_grid_rf = inv_boxcox(y_pred_boxcox_grid_rf, lambda_val)\n",
    "\n",
    "# Evaluar el modelo\n",
    "mse_grid_rf = mean_squared_error(y_test, y_pred_grid_rf)\n",
    "rmse_grid_rf = np.sqrt(mse_grid_rf)\n",
    "mae_grid_rf = mean_absolute_error(y_test, y_pred_grid_rf)\n",
    "r2_grid_rf = r2_score(y_test, y_pred_grid_rf)\n",
    "\n",
    "print(f\"Random Forest (GridSearch)\")\n",
    "print(f\"RMSE: {rmse_grid_rf}\")\n",
    "print(f\"MAE: {mae_grid_rf}\")\n",
    "print(f\"R2: {r2_grid_rf}\")\n"
   ]
  },
  {
   "cell_type": "code",
   "execution_count": 86,
   "metadata": {},
   "outputs": [
    {
     "name": "stdout",
     "output_type": "stream",
     "text": [
      "Mejores hiperparámetros RF (RandomizedSearch): {'n_estimators': 300, 'min_samples_split': 2, 'min_samples_leaf': 1, 'max_depth': 30}\n",
      "Mejor score RMSE RF (RandomizedSearch): 6210.70\n",
      "Random Forest (RandomizedSearch)\n",
      "RMSE: 5800.95\n",
      "MAE: 3390.54\n",
      "R2: 0.8017\n"
     ]
    }
   ],
   "source": [
    "# RF RandomizedSearch\n",
    "\n",
    "param_dist_rf = {\n",
    "    'n_estimators': [100, 200, 300, 400],\n",
    "    'max_depth': [None, 10, 20, 30],\n",
    "    'min_samples_split': [2, 5, 7],\n",
    "    'min_samples_leaf': [1, 2, 4]\n",
    "}\n",
    "\n",
    "random_search_rf = RandomizedSearchCV(\n",
    "    estimator=RandomForestRegressor(random_state=42),\n",
    "    param_distributions=param_dist_rf,\n",
    "    n_iter=30,\n",
    "    scoring=scorer,\n",
    "    cv=5,\n",
    "    n_jobs=-1,\n",
    "    random_state=42\n",
    ")\n",
    "random_search_rf.fit(X_train_df_mask, y_train_boxcox)\n",
    "best_model_rf_random = random_search_rf.best_estimator_\n",
    "best_params_rf_random = random_search_rf.best_params_\n",
    "print(f\"Mejores hiperparámetros RF (RandomizedSearch): {best_params_rf_random}\")\n",
    "print(f\"Mejor score RMSE RF (RandomizedSearch): {-random_search_rf.best_score_:.2f}\")\n",
    "\n",
    "# Predecir en el conjunto de prueba\n",
    "y_pred_boxcox_rf_random = random_search_rf.predict(X_test_df)\n",
    "y_pred_rf_random = inv_boxcox(y_pred_boxcox_rf_random, lambda_val)\n",
    "\n",
    "# Evaluar el modelo\n",
    "mse_rf_random = mean_squared_error(y_test, y_pred_rf_random)\n",
    "rmse_rf_random = np.sqrt(mse_rf_random)\n",
    "mae_rf_random = mean_absolute_error(y_test, y_pred_rf_random)\n",
    "r2_rf_random = r2_score(y_test, y_pred_rf_random)\n",
    "\n",
    "print(f\"Random Forest (RandomizedSearch)\")\n",
    "print(f\"RMSE: {rmse_rf_random:.2f}\")\n",
    "print(f\"MAE: {mae_rf_random:.2f}\")\n",
    "print(f\"R2: {r2_rf_random:.4f}\")"
   ]
  },
  {
   "cell_type": "code",
   "execution_count": null,
   "metadata": {},
   "outputs": [],
   "source": [
    "# Evaluacion final"
   ]
  },
  {
   "cell_type": "markdown",
   "metadata": {},
   "source": [
    "----------"
   ]
  },
  {
   "cell_type": "markdown",
   "metadata": {},
   "source": [
    "XGBOOST"
   ]
  },
  {
   "cell_type": "code",
   "execution_count": 87,
   "metadata": {},
   "outputs": [
    {
     "name": "stdout",
     "output_type": "stream",
     "text": [
      "XGBoost - RMSE: 5581.70\n",
      "XGBoost - MAE: 3226.56\n",
      "XGBoost - R2: 0.8164\n"
     ]
    }
   ],
   "source": [
    "# Probamos XGBOOST\n",
    "\n",
    "xgb_model = XGBRegressor(random_state=42)\n",
    "xgb_model.fit(X_train_df_mask, y_train_boxcox)\n",
    "\n",
    "y_pred_boxcox_xgb = xgb_model.predict(X_test_df)\n",
    "y_pred_xgb = inv_boxcox(y_pred_boxcox_xgb, lambda_val)\n",
    "\n",
    "mse_xgb = mean_squared_error(y_test, y_pred_xgb)\n",
    "rmse_xgb = np.sqrt(mse_xgb)\n",
    "mae_xgb = mean_absolute_error(y_test, y_pred_xgb)\n",
    "r2_xgb = r2_score(y_test, y_pred_xgb)\n",
    "\n",
    "print(f\"XGBoost - RMSE: {rmse_xgb:.2f}\")\n",
    "print(f\"XGBoost - MAE: {mae_xgb:.2f}\")\n",
    "print(f\"XGBoost - R2: {r2_xgb:.4f}\")"
   ]
  },
  {
   "cell_type": "code",
   "execution_count": 89,
   "metadata": {},
   "outputs": [
    {
     "name": "stdout",
     "output_type": "stream",
     "text": [
      "Mejores hiperparámetros: {'learning_rate': 0.2, 'max_depth': 4, 'n_estimators': 300}\n",
      "Mejor score RMSE: 5422.98\n",
      "XGBoost (GridSearch)\n",
      "RMSE: 5230.24\n",
      "MAE: 3103.95\n",
      "R2: 0.8388\n"
     ]
    }
   ],
   "source": [
    "# XGBOOST GRIDSEARCH\n",
    "\n",
    "param_grid = {\n",
    "    'n_estimators': [100, 200, 300],\n",
    "    'learning_rate': [0.01, 0.2, 0.3],\n",
    "    'max_depth': [4, 5, 6]\n",
    "}\n",
    "\n",
    "# Búsqueda de hiperparámetros\n",
    "grid_search = GridSearchCV(\n",
    "    estimator= XGBRegressor(random_state=42),\n",
    "    param_grid=param_grid,\n",
    "    cv=5,\n",
    "    scoring=scorer,\n",
    "    n_jobs=-1\n",
    ")\n",
    "grid_search.fit(X_train_df_mask, y_train_boxcox)\n",
    "\n",
    "best_model_xgb = grid_search.best_estimator_\n",
    "\n",
    "# Mejores hiperparámetros\n",
    "print(f\"Mejores hiperparámetros: {grid_search.best_params_}\")\n",
    "print(f\"Mejor score RMSE: {-grid_search.best_score_:.2f}\")\n",
    "\n",
    "# Predecir con el mejor modelo\n",
    "y_pred_boxcox_grid_xgb = grid_search.predict(X_test_df)\n",
    "y_pred_grid_xgb = inv_boxcox(y_pred_boxcox_grid_xgb, lambda_val)\n",
    "\n",
    "# Evaluar el modelo\n",
    "mse_grid_xgb = mean_squared_error(y_test, y_pred_grid_xgb)\n",
    "rmse_grid_xgb = np.sqrt(mse_grid_xgb)\n",
    "mae_grid_xgb = mean_absolute_error(y_test, y_pred_grid_xgb)\n",
    "r2_grid_xgb = r2_score(y_test, y_pred_grid_xgb)\n",
    "\n",
    "print(f\"XGBoost (GridSearch)\")\n",
    "print(f\"RMSE: {rmse_grid_xgb:.2f}\")\n",
    "print(f\"MAE: {mae_grid_xgb:.2f}\")\n",
    "print(f\"R2: {r2_grid_xgb:.4f}\")"
   ]
  },
  {
   "cell_type": "code",
   "execution_count": 90,
   "metadata": {},
   "outputs": [
    {
     "name": "stdout",
     "output_type": "stream",
     "text": [
      "Mejores hiperparámetros XGBoost (RandomizedSearch): {'n_estimators': 300, 'max_depth': 4, 'learning_rate': 0.3}\n",
      "Mejor score RMSE XGBoost (RandomizedSearch): 5446.50\n",
      "XGBoost (RandomizedSearch)\n",
      "RMSE: 5242.99\n",
      "MAE: 3054.34\n",
      "R2: 0.8380\n"
     ]
    }
   ],
   "source": [
    "# XGBOOST RANDOMIZEDSEARCH\n",
    "\n",
    "param_dist_xgb = {\n",
    "    'n_estimators': [100, 200, 300, 400],\n",
    "    'learning_rate': [0.01, 0.05, 0.1, 0.3],\n",
    "    'max_depth': [4, 5, 6, 7]\n",
    "}\n",
    "\n",
    "random_search_xgb = RandomizedSearchCV(\n",
    "    estimator=XGBRegressor(random_state=42),\n",
    "    param_distributions=param_dist_xgb,\n",
    "    n_iter=30,\n",
    "    scoring=scorer,\n",
    "    cv=5,\n",
    "    n_jobs=-1,\n",
    "    random_state=42\n",
    ")\n",
    "\n",
    "random_search_xgb.fit(X_train_df_mask, y_train_boxcox)\n",
    "\n",
    "best_model_xgb_random = random_search_xgb.best_estimator_\n",
    "best_params_xgb_random = random_search_xgb.best_params_\n",
    "\n",
    "print(f\"Mejores hiperparámetros XGBoost (RandomizedSearch): {best_params_xgb_random}\")\n",
    "print(f\"Mejor score RMSE XGBoost (RandomizedSearch): {-random_search_xgb.best_score_:.2f}\")\n",
    "\n",
    "# Predecir en el conjunto de prueba\n",
    "y_pred_boxcox_xgb_random = random_search_xgb.predict(X_test_df)\n",
    "y_pred_xgb_random = inv_boxcox(y_pred_boxcox_xgb_random, lambda_val)\n",
    "\n",
    "# Evaluar el modelo\n",
    "mse_xgb_random = mean_squared_error(y_test, y_pred_xgb_random)\n",
    "rmse_xgb_random = np.sqrt(mse_xgb_random)\n",
    "mae_xgb_random = mean_absolute_error(y_test, y_pred_xgb_random)\n",
    "r2_xgb_random = r2_score(y_test, y_pred_xgb_random)\n",
    "\n",
    "print(f\"XGBoost (RandomizedSearch)\")\n",
    "print(f\"RMSE: {rmse_xgb_random:.2f}\")\n",
    "print(f\"MAE: {mae_xgb_random:.2f}\")\n",
    "print(f\"R2: {r2_xgb_random:.4f}\")"
   ]
  },
  {
   "cell_type": "code",
   "execution_count": 104,
   "metadata": {},
   "outputs": [
    {
     "name": "stderr",
     "output_type": "stream",
     "text": [
      "c:\\Users\\Usuario\\AppData\\Local\\Programs\\Python\\Python312\\Lib\\site-packages\\xgboost\\training.py:183: UserWarning: [15:07:42] WARNING: C:\\actions-runner\\_work\\xgboost\\xgboost\\src\\learner.cc:738: \n",
      "Parameters: { \"verbose\" } are not used.\n",
      "\n",
      "  bst.update(dtrain, iteration=i, fobj=obj)\n"
     ]
    },
    {
     "name": "stdout",
     "output_type": "stream",
     "text": [
      "Score XGBoost Inicial R2 (BoxCox no invertido): 0.9055\n",
      "Entrenamiento (Box-Cox): RMSE = 0.39\n",
      "Entrenamiento (Original): RMSE = 4124.31, MAE = 2430.59, R2 = 0.8912\n"
     ]
    },
    {
     "name": "stderr",
     "output_type": "stream",
     "text": [
      "c:\\Users\\Usuario\\AppData\\Local\\Programs\\Python\\Python312\\Lib\\site-packages\\xgboost\\training.py:183: UserWarning: [15:07:42] WARNING: C:\\actions-runner\\_work\\xgboost\\xgboost\\src\\learner.cc:738: \n",
      "Parameters: { \"verbose\" } are not used.\n",
      "\n",
      "  bst.update(dtrain, iteration=i, fobj=obj)\n",
      "c:\\Users\\Usuario\\AppData\\Local\\Programs\\Python\\Python312\\Lib\\site-packages\\xgboost\\training.py:183: UserWarning: [15:07:42] WARNING: C:\\actions-runner\\_work\\xgboost\\xgboost\\src\\learner.cc:738: \n",
      "Parameters: { \"verbose\" } are not used.\n",
      "\n",
      "  bst.update(dtrain, iteration=i, fobj=obj)\n",
      "c:\\Users\\Usuario\\AppData\\Local\\Programs\\Python\\Python312\\Lib\\site-packages\\xgboost\\training.py:183: UserWarning: [15:07:42] WARNING: C:\\actions-runner\\_work\\xgboost\\xgboost\\src\\learner.cc:738: \n",
      "Parameters: { \"verbose\" } are not used.\n",
      "\n",
      "  bst.update(dtrain, iteration=i, fobj=obj)\n",
      "c:\\Users\\Usuario\\AppData\\Local\\Programs\\Python\\Python312\\Lib\\site-packages\\xgboost\\training.py:183: UserWarning: [15:07:43] WARNING: C:\\actions-runner\\_work\\xgboost\\xgboost\\src\\learner.cc:738: \n",
      "Parameters: { \"verbose\" } are not used.\n",
      "\n",
      "  bst.update(dtrain, iteration=i, fobj=obj)\n",
      "c:\\Users\\Usuario\\AppData\\Local\\Programs\\Python\\Python312\\Lib\\site-packages\\xgboost\\training.py:183: UserWarning: [15:07:43] WARNING: C:\\actions-runner\\_work\\xgboost\\xgboost\\src\\learner.cc:738: \n",
      "Parameters: { \"verbose\" } are not used.\n",
      "\n",
      "  bst.update(dtrain, iteration=i, fobj=obj)\n"
     ]
    },
    {
     "name": "stdout",
     "output_type": "stream",
     "text": [
      "\n",
      "Validación Cruzada (Original):\n",
      "RMSE por fold: [5791.127090719666, 5333.752988790327, 5875.888852827113, 5592.111836491229, 5302.723453065917]\n",
      "MAE por fold: [3216.550428157659, 3087.5354583740236, 3386.413328928016, 3148.351726569164, 3084.0157704294465]\n",
      "R2 por fold: [0.792390559192349, 0.8142226145687974, 0.7858442944899224, 0.7827659628672986, 0.8261724865622171]\n",
      "RMSE Promedio: 5579.120844378851\n",
      "MAE Promedio: 3184.573342491662\n",
      "R2 Promedio: 0.8002791835361169\n",
      "\n",
      "Test Set (Original):\n",
      "RMSE: 5230.24\n",
      "MAE: 3103.95\n",
      "R2: 0.8388\n"
     ]
    }
   ],
   "source": [
    "# Evaluacion final\n",
    "\n",
    "# Kfold\n",
    "kf_xgb = KFold(n_splits=5, shuffle=True, random_state=42)\n",
    "\n",
    "# Entrenamos el modelo con los datos transformados\n",
    "xgb_model = XGBRegressor(learning_rate = 0.2, max_depth = 4, n_estimators = 300, verbose=0, random_state=42)\n",
    "xgb_model.fit(X_train_df_mask, y_train_boxcox)\n",
    "\n",
    "# Realizamos score en el conjunto de entrenamiento\n",
    "score_xgb_model = xgb_model.score(X_train_df_mask, y_train_boxcox)\n",
    "print(f\"Score XGBoost Inicial R2 (BoxCox no invertido): {score_xgb_model:.4f}\")\n",
    "\n",
    "y_train_pred_boxcox_xgb = xgb_model.predict(X_train_df_mask)\n",
    "\n",
    "# Métricas en el espacio Box-Cox\n",
    "train_rmse_boxcox_xgb = np.sqrt(mean_squared_error(y_train_boxcox, y_train_pred_boxcox_xgb))\n",
    "print(f\"Entrenamiento (Box-Cox): RMSE = {train_rmse_boxcox_xgb:.2f}\")\n",
    "\n",
    "# Invertimos\n",
    "y_train_pred_original_xgb = inv_boxcox(y_train_pred_boxcox_xgb, lambda_val)\n",
    "y_train_original_xgb = inv_boxcox(y_train_boxcox, lambda_val)\n",
    "\n",
    "train_rmse_xgb = np.sqrt(mean_squared_error(y_train_original_xgb, y_train_pred_original_xgb))\n",
    "train_mae_xgb = mean_absolute_error(y_train_original_xgb, y_train_pred_original_xgb)\n",
    "train_r2_xgb = r2_score(y_train_original_xgb, y_train_pred_original_xgb)\n",
    "print(f\"Entrenamiento (Original): RMSE = {train_rmse_xgb:.2f}, MAE = {train_mae_xgb:.2f}, R2 = {train_r2_xgb:.4f}\")\n",
    "\n",
    "# Realizamos score en el conjunto de validación manualmente\n",
    "# simplemente por seguir la misma guia que en CATBOOST\n",
    "\n",
    "cv_rmse_scores_xgb = []\n",
    "cv_mae_scores_xgb = []\n",
    "cv_r2_scores_xgb = []\n",
    "\n",
    "for train_index, val_index in kf_xgb.split(X_train_df_mask):\n",
    "    X_train_fold = X_train_df_mask.iloc[train_index]\n",
    "    X_val_fold = X_train_df_mask.iloc[val_index]\n",
    "    y_train_fold = y_train_boxcox[train_index]\n",
    "    y_val_fold = y_train_boxcox[val_index]\n",
    "\n",
    "    # Crear el modelo\n",
    "    fold_model_xgb = XGBRegressor(learning_rate = 0.2, max_depth = 4, n_estimators = 300, verbose=0, random_state=42)\n",
    "    fold_model_xgb.fit(X_train_fold, y_train_fold)\n",
    "\n",
    "    # Predit Box Cox\n",
    "    y_val_pred_boxcox_xgb = fold_model_xgb.predict(X_val_fold)\n",
    "\n",
    "    # Invertir Box-Cox\n",
    "    y_val_pred_original_xgb = inv_boxcox(y_val_pred_boxcox_xgb, lambda_val)\n",
    "    y_val_original_xgb = inv_boxcox(y_val_fold, lambda_val)\n",
    "\n",
    "    # Calcular métricas\n",
    "    rmse_fold_xgb = np.sqrt(mean_squared_error(y_val_original_xgb, y_val_pred_original_xgb))\n",
    "    mae_fold_xgb = mean_absolute_error(y_val_original_xgb, y_val_pred_original_xgb)\n",
    "    r2_fold_xgb = r2_score(y_val_original_xgb, y_val_pred_original_xgb)\n",
    "\n",
    "    cv_rmse_scores_xgb.append(rmse_fold_xgb)\n",
    "    cv_mae_scores_xgb.append(mae_fold_xgb)\n",
    "    cv_r2_scores_xgb.append(r2_fold_xgb)\n",
    "\n",
    "print(\"\\nValidación Cruzada (Original):\")\n",
    "print(\"RMSE por fold:\", (cv_rmse_scores_xgb))\n",
    "print(\"MAE por fold:\", (cv_mae_scores_xgb))\n",
    "print(\"R2 por fold:\", (cv_r2_scores_xgb))\n",
    "print(\"RMSE Promedio:\", np.mean(cv_rmse_scores_xgb))\n",
    "print(\"MAE Promedio:\", np.mean(cv_mae_scores_xgb))\n",
    "print(\"R2 Promedio:\", np.mean(cv_r2_scores_xgb))\n",
    "\n",
    "# Realizamos score en el conjunto de prueba\n",
    "y_pred_boxcox_xgb = xgb_model.predict(X_test_df)\n",
    "y_pred_xgb = inv_boxcox(y_pred_boxcox_xgb, lambda_val)\n",
    "\n",
    "mse_xgb_test = mean_squared_error(y_test, y_pred_xgb)\n",
    "rmse_xgb_test = np.sqrt(mse_xgb)\n",
    "mae_xgb_test = mean_absolute_error(y_test, y_pred_xgb)\n",
    "r2_xgb_test = r2_score(y_test, y_pred_xgb)\n",
    "\n",
    "print(\"\\nTest Set (Original):\")\n",
    "print(f\"RMSE: {rmse_xgb_test:.2f}\")\n",
    "print(f\"MAE: {mae_xgb_test:.2f}\")\n",
    "print(f\"R2: {r2_xgb_test:.4f}\")\n"
   ]
  },
  {
   "cell_type": "markdown",
   "metadata": {},
   "source": [
    "---------"
   ]
  },
  {
   "cell_type": "code",
   "execution_count": 91,
   "metadata": {},
   "outputs": [
    {
     "name": "stdout",
     "output_type": "stream",
     "text": [
      "--- Baseline LR ---\n",
      "RMSE: 9567.02, MAE: 6526.15, R²: 0.4605\n",
      "--- XGBoost ---\n",
      "RMSE: 5581.70, MAE: 3226.56, R²: 0.8164\n",
      "--- XGBoost GridSearch ---\n",
      "RMSE: 5230.24, MAE: 3103.95, R²: 0.8388\n",
      "--- XGBoost RandomizedSearch ---\n",
      "RMSE: 5242.99, MAE: 3054.34, R²: 0.8380\n",
      "--- Random Forest ---\n",
      "RMSE: 5781.40, MAE: 3381.82, R²: 0.8030\n",
      "--- Random Forest GridSearch ---\n",
      "RMSE: 5230.24, MAE: 3103.95, R²: 0.8388\n",
      "--- CatBoost ---\n",
      "RMSE: 5260.05, MAE: 3136.05, R²: 0.8369\n",
      "--- CatBoost GridSearch ---\n",
      "RMSE: 5260.05, MAE: 3136.05, R²: 0.8369\n",
      "--- CatBoost RandomizedSearch ---\n",
      "RMSE: 5290.79, MAE: 3058.74, R²: 0.8350\n"
     ]
    }
   ],
   "source": [
    "print(f\"--- Baseline LR ---\")\n",
    "print(f\"RMSE: {rmse_baseline:.2f}, MAE: {mae_baseline:.2f}, R²: {r2_baseline:.4f}\")\n",
    "\n",
    "print(f\"--- XGBoost ---\")\n",
    "print(f\"RMSE: {rmse_xgb:.2f}, MAE: {mae_xgb:.2f}, R²: {r2_xgb:.4f}\")\n",
    "\n",
    "print(f\"--- XGBoost GridSearch ---\")\n",
    "print(f\"RMSE: {rmse_grid_xgb:.2f}, MAE: {mae_grid_xgb:.2f}, R²: {r2_grid:.4f}\")\n",
    "\n",
    "print(f\"--- XGBoost RandomizedSearch ---\")\n",
    "print(f\"RMSE: {rmse_xgb_random:.2f}, MAE: {mae_xgb_random:.2f}, R²: {r2_xgb_random:.4f}\")\n",
    "\n",
    "print(f\"--- Random Forest ---\")\n",
    "print(f\"RMSE: {rmse_rf:.2f}, MAE: {mae_rf:.2f}, R²: {r2_rf:.4f}\")\n",
    "\n",
    "print(f\"--- Random Forest GridSearch ---\")\n",
    "print(f\"RMSE: {rmse_grid_xgb:.2f}, MAE: {mae_grid_xgb:.2f}, R²: {r2_grid:.4f}\")\n",
    "\n",
    "print(f\"--- CatBoost ---\")\n",
    "print(f\"RMSE: {rmse:.2f}, MAE: {mae:.2f}, R²: {r2:.4f}\")\n",
    "\n",
    "print(f\"--- CatBoost GridSearch ---\")\n",
    "print(f\"RMSE: {rmse_grid_cat:.2f}, MAE: {mae_grid_cat:.2f}, R²: {r2_grid_cat:.4f}\")\n",
    "\n",
    "print(f\"--- CatBoost RandomizedSearch ---\")\n",
    "print(f\"RMSE: {rmse_random:.2f}, MAE: {mae_random:.2f}, R²: {r2_random:.4f}\")"
   ]
  },
  {
   "cell_type": "code",
   "execution_count": 92,
   "metadata": {},
   "outputs": [
    {
     "name": "stdout",
     "output_type": "stream",
     "text": [
      "              Modelo     RMSE      MAE      R2\n",
      "0  Linear Regression  9567.02  6526.15  0.4605\n",
      "1     MLP Regression  9204.82  6488.44  0.5006\n",
      "2            XGBoost  5581.70  3226.56  0.8164\n",
      "3      Random Forest  5781.40  3381.82  0.8030\n",
      "4           CatBoost  5260.05  3136.05  0.8369\n"
     ]
    }
   ],
   "source": [
    "resultados_basics = pd.DataFrame({\n",
    "    \"Modelo\": [\n",
    "        \"Linear Regression\",\n",
    "        \"MLP Regression\",\n",
    "        \"XGBoost\",\n",
    "        \"Random Forest\",\n",
    "        \"CatBoost\",\n",
    "    ],\n",
    "    \"RMSE\": [\n",
    "        rmse_baseline,\n",
    "        rmse_nn,\n",
    "        rmse_xgb,\n",
    "        rmse_rf,\n",
    "        rmse,\n",
    "    ],\n",
    "    \"MAE\": [\n",
    "        mae_baseline,\n",
    "        mae_nn,\n",
    "        mae_xgb,\n",
    "        mae_rf,\n",
    "        mae,\n",
    "    ],\n",
    "    \"R2\": [\n",
    "        r2_baseline,\n",
    "        r2_nn,\n",
    "        r2_xgb,\n",
    "        r2_rf,\n",
    "        r2,\n",
    "    ]\n",
    "})\n",
    "\n",
    "# Redondeamos\n",
    "resultados_basics = resultados_basics.round({\"RMSE\": 2, \"MAE\": 2, \"R2\": 4})\n",
    "\n",
    "# Vista rápida de la tabla\n",
    "print(resultados_basics)\n"
   ]
  },
  {
   "cell_type": "code",
   "execution_count": 84,
   "metadata": {},
   "outputs": [
    {
     "data": {
      "image/png": "[encoded data removed]",
      "text/plain": [
       "<Figure size 1200x600 with 1 Axes>"
      ]
     },
     "metadata": {},
     "output_type": "display_data"
    },
    {
     "data": {
      "image/png": "[encoded data removed]",
      "text/plain": [
       "<Figure size 1200x600 with 1 Axes>"
      ]
     },
     "metadata": {},
     "output_type": "display_data"
    },
    {
     "data": {
      "image/png": "[encoded data removed]",
      "text/plain": [
       "<Figure size 1200x600 with 1 Axes>"
      ]
     },
     "metadata": {},
     "output_type": "display_data"
    }
   ],
   "source": [
    "# Pintamos para ver los resultados\n",
    "best_rmse_idx = resultados_basics[\"RMSE\"].idxmin()\n",
    "best_mae_idx = resultados_basics[\"MAE\"].idxmin()\n",
    "best_r2_idx = resultados_basics[\"R2\"].idxmax()\n",
    "\n",
    "plt.figure(figsize=(12, 6))\n",
    "colors = ['#FF9999' if i == best_rmse_idx else '#66B3FF' for i in range(len(resultados_basics))]\n",
    "plt.barh(resultados_basics[\"Modelo\"], resultados_basics[\"RMSE\"], color=colors)\n",
    "plt.xlabel(\"RMSE\")\n",
    "plt.title(\"Comparación de modelos básicos - RMSE\")\n",
    "plt.grid(axis='x')\n",
    "plt.tight_layout()\n",
    "plt.show()\n",
    "\n",
    "plt.figure(figsize=(12, 6))\n",
    "colors = ['#FF9999' if i == best_mae_idx else '#66B3FF' for i in range(len(resultados_basics))]\n",
    "plt.barh(resultados_basics[\"Modelo\"], resultados_basics[\"MAE\"], color=colors)\n",
    "plt.xlabel(\"MAE\")\n",
    "plt.title(\"Comparación de modelos básicos - MAE\")\n",
    "plt.grid(axis='x')\n",
    "plt.tight_layout()\n",
    "plt.show()\n",
    "\n",
    "plt.figure(figsize=(12, 6))\n",
    "colors = ['#FF9999' if i == best_r2_idx else '#66B3FF' for i in range(len(resultados_basics))]\n",
    "plt.barh(resultados_basics[\"Modelo\"], resultados_basics[\"R2\"], color=colors)\n",
    "plt.xlabel(\"R²\")\n",
    "plt.title(\"Comparación de modelos básicos - R²\")\n",
    "plt.grid(axis='x')\n",
    "plt.tight_layout()\n",
    "plt.show()"
   ]
  },
  {
   "cell_type": "markdown",
   "metadata": {},
   "source": [
    "Viendo el potencial, nos quedamos con CATBOOST - RANDOM FOREST - XGBOOST "
   ]
  },
  {
   "cell_type": "code",
   "execution_count": 94,
   "metadata": {},
   "outputs": [
    {
     "name": "stdout",
     "output_type": "stream",
     "text": [
      "                           Modelo     RMSE      MAE      R2\n",
      "0             CatBoost GridSearch  5260.05  3136.05  0.8369\n",
      "1       CatBoost RandomizedSearch  5290.79  3058.74  0.8350\n",
      "2        Random Forest GridSearch  5786.69  3382.63  0.8026\n",
      "3  Random Forest RandomizedSearch  5800.95  3390.54  0.8017\n",
      "4               Xboost GridSearch  5230.24  3103.95  0.8388\n",
      "5         Xboost RandomizedSearch  5242.99  3054.34  0.8380\n"
     ]
    }
   ],
   "source": [
    "resultados_hiperparametros = pd.DataFrame({\n",
    "    \"Modelo\": [\n",
    "        \"CatBoost GridSearch\",\n",
    "        \"CatBoost RandomizedSearch\",\n",
    "        \"Random Forest GridSearch\",\n",
    "        \"Random Forest RandomizedSearch\",\n",
    "        \"Xboost GridSearch\",\n",
    "        \"Xboost RandomizedSearch\",\n",
    "    ],\n",
    "    \"RMSE\": [\n",
    "        rmse_grid_cat,\n",
    "        rmse_random,\n",
    "        rmse_grid_rf,\n",
    "        rmse_rf_random,\n",
    "        rmse_grid_xgb,\n",
    "        rmse_xgb_random\n",
    "    ],\n",
    "    \"MAE\": [\n",
    "        mae_grid_cat,\n",
    "        mae_random,\n",
    "        mae_grid_rf,\n",
    "        mae_rf_random,\n",
    "        mae_grid_xgb,\n",
    "        mae_xgb_random\n",
    "    ],\n",
    "    \"R2\": [\n",
    "        r2_grid_cat,\n",
    "        r2_random,\n",
    "        r2_grid_rf,\n",
    "        r2_rf_random,\n",
    "        r2_grid_xgb,\n",
    "        r2_xgb_random\n",
    "    ]\n",
    "})\n",
    "# Redondeamos\n",
    "resultados_hiperparametros = resultados_hiperparametros.round({\"RMSE\": 2, \"MAE\": 2, \"R2\": 4})\n",
    "# Vista rápida de la tabla\n",
    "print(resultados_hiperparametros)"
   ]
  },
  {
   "cell_type": "code",
   "execution_count": 95,
   "metadata": {},
   "outputs": [
    {
     "data": {
      "image/png": "[encoded data removed]",
      "text/plain": [
       "<Figure size 1200x600 with 1 Axes>"
      ]
     },
     "metadata": {},
     "output_type": "display_data"
    },
    {
     "data": {
      "image/png": "[encoded data removed]",
      "text/plain": [
       "<Figure size 1200x600 with 1 Axes>"
      ]
     },
     "metadata": {},
     "output_type": "display_data"
    },
    {
     "data": {
      "image/png": "[encoded data removed]",
      "text/plain": [
       "<Figure size 1200x600 with 1 Axes>"
      ]
     },
     "metadata": {},
     "output_type": "display_data"
    }
   ],
   "source": [
    "# Pintamos para ver los resultados\n",
    "\n",
    "best_rmse_idx_hiper = resultados_hiperparametros[\"RMSE\"].idxmin()\n",
    "best_mae_idx_hiper = resultados_hiperparametros[\"MAE\"].idxmin()\n",
    "best_r2_idx_hiper = resultados_hiperparametros[\"R2\"].idxmax()\n",
    "\n",
    "plt.figure(figsize=(12, 6))\n",
    "colors = ['#FF9999' if i == best_rmse_idx_hiper else '#66B3FF' for i in range(len(resultados_hiperparametros))]\n",
    "plt.barh(resultados_hiperparametros[\"Modelo\"], resultados_hiperparametros[\"RMSE\"], color=colors)\n",
    "plt.xlabel(\"RMSE\")\n",
    "plt.title(\"Comparación de modelos hiperparámetros - RMSE\")\n",
    "plt.grid(axis='x')\n",
    "plt.tight_layout()\n",
    "plt.show()\n",
    "\n",
    "plt.figure(figsize=(12, 6))\n",
    "colors = ['#FF9999' if i == best_mae_idx_hiper else '#66B3FF' for i in range(len(resultados_hiperparametros))]\n",
    "plt.barh(resultados_hiperparametros[\"Modelo\"], resultados_hiperparametros[\"MAE\"], color=colors)\n",
    "plt.xlabel(\"MAE\")\n",
    "plt.title(\"Comparación de modelos hiperparámetros - MAE\")\n",
    "plt.grid(axis='x')\n",
    "plt.tight_layout()\n",
    "plt.show()\n",
    "\n",
    "plt.figure(figsize=(12, 6))\n",
    "colors = ['#FF9999' if i == best_r2_idx_hiper else '#66B3FF' for i in range(len(resultados_hiperparametros))]\n",
    "plt.barh(resultados_hiperparametros[\"Modelo\"], resultados_hiperparametros[\"R2\"], color=colors)\n",
    "plt.xlabel(\"R²\")\n",
    "plt.title(\"Comparación de modelos hiperparámetros - R²\")\n",
    "plt.grid(axis='x')\n",
    "plt.tight_layout()\n",
    "plt.show()\n"
   ]
  },
  {
   "cell_type": "markdown",
   "metadata": {},
   "source": [
    "Vimos que nuestro RANDOM FOREST se queda muy atrás... asi que evaluamos finalmente con CATBOOST y XGBOOST"
   ]
  },
  {
   "cell_type": "code",
   "execution_count": 107,
   "metadata": {},
   "outputs": [
    {
     "name": "stdout",
     "output_type": "stream",
     "text": [
      "---CATBOOST---\n",
      "  Métrica  Entrenamiento   Validación         Test\n",
      "0    RMSE    5080.578684  5541.396372  5260.050513\n",
      "1     MAE    3134.637553  3214.433756  3136.047537\n",
      "2       R       0.834973     0.803171     0.836928\n",
      "---XGBOOST---\n",
      "  Métrica  Entrenamiento   Validación         Test\n",
      "0    RMSE    4124.307983  5579.120844  5230.237633\n",
      "1     MAE    2430.585045  3184.573342  3103.950577\n",
      "2       R       0.891250     0.800279     0.838772\n"
     ]
    }
   ],
   "source": [
    "resultados_finales_cat = pd.DataFrame({\n",
    "    \"Entrenamiento\": [train_rmse, train_mae, train_r2],\n",
    "    \"Validación\": [np.mean(cv_rmse_scores), np.mean(cv_mae_scores), np.mean(cv_r2_scores)],\n",
    "    \"Test\": [rmse_cat_test, mae_cat_test, r2_cat_test]\n",
    "}, index=[\"RMSE\", \"MAE\", \"R\"]).reset_index().rename(columns={\"index\": \"Métrica\"})\n",
    "\n",
    "resultados_finales_xgb = pd.DataFrame({\n",
    "    \"Entrenamiento\": [train_rmse_xgb, train_mae_xgb, train_r2_xgb],\n",
    "    \"Validación\": [np.mean(cv_rmse_scores_xgb),np.mean(cv_mae_scores_xgb),np.mean(cv_r2_scores_xgb)],\n",
    "    \"Test\": [rmse_xgb_test, mae_xgb_test, r2_xgb_test]\n",
    "}, index=[\"RMSE\", \"MAE\", \"R\"]).reset_index().rename(columns={\"index\": \"Métrica\"})\n",
    "\n",
    "print(f\"---CATBOOST---\")\n",
    "print(resultados_finales_cat)\n",
    "print(f\"---XGBOOST---\")\n",
    "print(resultados_finales_xgb)"
   ]
  },
  {
   "cell_type": "markdown",
   "metadata": {},
   "source": [
    "Vemos que es super similar los resultados en VALIDACIÓN y TEST, aunque el entrenamiento de XGBOOST resulta muy superior"
   ]
  },
  {
   "cell_type": "markdown",
   "metadata": {},
   "source": [
    "Prefiero el modelo XGBOOST ya que resulta más rápido"
   ]
  },
  {
   "cell_type": "markdown",
   "metadata": {},
   "source": [
    "------------"
   ]
  },
  {
   "cell_type": "code",
   "execution_count": 105,
   "metadata": {},
   "outputs": [],
   "source": [
    "# # Cross Validation para RF\n",
    "\n",
    "# from sklearn.model_selection import cross_val_score, KFold\n",
    "# from sklearn.metrics import mean_squared_error, make_scorer\n",
    "# import numpy as np\n",
    "\n",
    "# rmse_scorer = make_scorer(rmse_in_original, greater_is_better=False)\n",
    "\n",
    "# kf = KFold(n_splits=5, shuffle=True, random_state=42)\n",
    "\n",
    "# scores = cross_val_score(\n",
    "#     best_model_rf,\n",
    "#     X_train_preprocessed,\n",
    "#     y_train_log,\n",
    "#     scoring=rmse_scorer,\n",
    "#     cv=kf,\n",
    "#     n_jobs=-1\n",
    "# )\n",
    "\n",
    "# cv_rmse_list_rf = -scores\n",
    "# cv_rmse_mean_rf = cv_rmse_list_rf.mean()\n",
    "# cv_rmse_std_rf = cv_rmse_list_rf.std()\n",
    "\n",
    "# print(\"CV RMSE (5-fold):\", cv_rmse_list_rf)\n",
    "# print(\"Mean CV RMSE:\", cv_rmse_mean_rf, \"Std:\", cv_rmse_std_rf)\n",
    "\n"
   ]
  },
  {
   "cell_type": "code",
   "execution_count": 104,
   "metadata": {},
   "outputs": [],
   "source": [
    "# # Cross Validation para XGB\n",
    "\n",
    "# rmse_scorer = make_scorer(rmse_in_original, greater_is_better=False)\n",
    "\n",
    "# kf = KFold(n_splits=5, shuffle=True, random_state=42)\n",
    "\n",
    "# scores = cross_val_score(\n",
    "#     best_model_xgb,\n",
    "#     X_train_preprocessed,\n",
    "#     y_train_log,\n",
    "#     scoring=rmse_scorer,\n",
    "#     cv=kf,\n",
    "#     n_jobs=-1\n",
    "# )\n",
    "\n",
    "# cv_rmse_list_xgb = -scores\n",
    "# cv_rmse_mean_xgb = cv_rmse_list_xgb.mean()\n",
    "# cv_rmse_std_xgb = cv_rmse_list_xgb.std()\n",
    "\n",
    "# print(\"CV RMSE (5-fold):\", cv_rmse_list_xgb)\n",
    "# print(\"Mean CV RMSE:\", cv_rmse_mean_xgb, \"Std:\", cv_rmse_std_xgb)\n",
    "\n"
   ]
  },
  {
   "cell_type": "code",
   "execution_count": 106,
   "metadata": {},
   "outputs": [],
   "source": [
    "# Comparamos lo obtenido en Grid vs CV de ambos modelos\n",
    "\n",
    "# print(f\"--- Random Forest ---\")\n",
    "# print(f\"GridSearch RMSE: {rmse_grid_rf:.2f}\")\n",
    "# print(f\"CV RMSE: {cv_rmse_mean_rf:.2f}\")\n",
    "\n",
    "# print(f\"--- XGBoost ---\")\n",
    "# print(f\"GridSearch RMSE: {rmse_grid_xgb:.2f}\")\n",
    "# print(f\"CV RMSE: {cv_rmse_mean_xgb:.2f}\")"
   ]
  },
  {
   "cell_type": "code",
   "execution_count": null,
   "metadata": {},
   "outputs": [],
   "source": [
    "import joblib\n",
    "\n",
    "# joblib.dump(best_model_xgb, \"../models/xgb_model.pkl\")"
   ]
  },
  {
   "cell_type": "code",
   "execution_count": null,
   "metadata": {},
   "outputs": [],
   "source": [
    "## de aqui para arriba"
   ]
  },
  {
   "cell_type": "markdown",
   "metadata": {},
   "source": [
    "# ✅ Step 6: Selección e instanciación de modelos. Baseline.\n"
   ]
  },
  {
   "cell_type": "markdown",
   "metadata": {},
   "source": [
    "Baseline:"
   ]
  },
  {
   "cell_type": "code",
   "execution_count": null,
   "metadata": {},
   "outputs": [],
   "source": [
    "y_pred_log_xgb = xgb_model.predict(X_test)\n",
    "y_pred_xgb = np.expm1(y_pred_log_xgb)"
   ]
  },
  {
   "cell_type": "code",
   "execution_count": null,
   "metadata": {},
   "outputs": [
    {
     "name": "stdout",
     "output_type": "stream",
     "text": [
      "XGBoost - RMSE: 5298.727224094555\n",
      "XGBoost - MAE: 3050.661547870447\n",
      "XGBoost - R2: 0.8304386438778383\n"
     ]
    }
   ],
   "source": [
    "mse_xgb = mean_squared_error(y_test, y_pred_xgb)\n",
    "rmse_xgb = np.sqrt(mse_xgb)\n",
    "mae_xgb = mean_absolute_error(y_test, y_pred_xgb)\n",
    "r2_xgb = r2_score(y_test, y_pred_xgb)\n",
    "\n",
    "print(f\"XGBoost - RMSE: {rmse_xgb}\")\n",
    "print(f\"XGBoost - MAE: {mae_xgb}\")\n",
    "print(f\"XGBoost - R2: {r2_xgb}\")"
   ]
  },
  {
   "cell_type": "code",
   "execution_count": null,
   "metadata": {},
   "outputs": [
    {
     "data": {
      "text/html": [
       "<style>#sk-container-id-3 {\n",
       "  /* Definition of color scheme common for light and dark mode */\n",
       "  --sklearn-color-text: black;\n",
       "  --sklearn-color-line: gray;\n",
       "  /* Definition of color scheme for unfitted estimators */\n",
       "  --sklearn-color-unfitted-level-0: #fff5e6;\n",
       "  --sklearn-color-unfitted-level-1: #f6e4d2;\n",
       "  --sklearn-color-unfitted-level-2: #ffe0b3;\n",
       "  --sklearn-color-unfitted-level-3: chocolate;\n",
       "  /* Definition of color scheme for fitted estimators */\n",
       "  --sklearn-color-fitted-level-0: #f0f8ff;\n",
       "  --sklearn-color-fitted-level-1: #d4ebff;\n",
       "  --sklearn-color-fitted-level-2: #b3dbfd;\n",
       "  --sklearn-color-fitted-level-3: cornflowerblue;\n",
       "\n",
       "  /* Specific color for light theme */\n",
       "  --sklearn-color-text-on-default-background: var(--sg-text-color, var(--theme-code-foreground, var(--jp-content-font-color1, black)));\n",
       "  --sklearn-color-background: var(--sg-background-color, var(--theme-background, var(--jp-layout-color0, white)));\n",
       "  --sklearn-color-border-box: var(--sg-text-color, var(--theme-code-foreground, var(--jp-content-font-color1, black)));\n",
       "  --sklearn-color-icon: #696969;\n",
       "\n",
       "  @media (prefers-color-scheme: dark) {\n",
       "    /* Redefinition of color scheme for dark theme */\n",
       "    --sklearn-color-text-on-default-background: var(--sg-text-color, var(--theme-code-foreground, var(--jp-content-font-color1, white)));\n",
       "    --sklearn-color-background: var(--sg-background-color, var(--theme-background, var(--jp-layout-color0, #111)));\n",
       "    --sklearn-color-border-box: var(--sg-text-color, var(--theme-code-foreground, var(--jp-content-font-color1, white)));\n",
       "    --sklearn-color-icon: #878787;\n",
       "  }\n",
       "}\n",
       "\n",
       "#sk-container-id-3 {\n",
       "  color: var(--sklearn-color-text);\n",
       "}\n",
       "\n",
       "#sk-container-id-3 pre {\n",
       "  padding: 0;\n",
       "}\n",
       "\n",
       "#sk-container-id-3 input.sk-hidden--visually {\n",
       "  border: 0;\n",
       "  clip: rect(1px 1px 1px 1px);\n",
       "  clip: rect(1px, 1px, 1px, 1px);\n",
       "  height: 1px;\n",
       "  margin: -1px;\n",
       "  overflow: hidden;\n",
       "  padding: 0;\n",
       "  position: absolute;\n",
       "  width: 1px;\n",
       "}\n",
       "\n",
       "#sk-container-id-3 div.sk-dashed-wrapped {\n",
       "  border: 1px dashed var(--sklearn-color-line);\n",
       "  margin: 0 0.4em 0.5em 0.4em;\n",
       "  box-sizing: border-box;\n",
       "  padding-bottom: 0.4em;\n",
       "  background-color: var(--sklearn-color-background);\n",
       "}\n",
       "\n",
       "#sk-container-id-3 div.sk-container {\n",
       "  /* jupyter's `normalize.less` sets `[hidden] { display: none; }`\n",
       "     but bootstrap.min.css set `[hidden] { display: none !important; }`\n",
       "     so we also need the `!important` here to be able to override the\n",
       "     default hidden behavior on the sphinx rendered scikit-learn.org.\n",
       "     See: https://github.com/scikit-learn/scikit-learn/issues/21755 */\n",
       "  display: inline-block !important;\n",
       "  position: relative;\n",
       "}\n",
       "\n",
       "#sk-container-id-3 div.sk-text-repr-fallback {\n",
       "  display: none;\n",
       "}\n",
       "\n",
       "div.sk-parallel-item,\n",
       "div.sk-serial,\n",
       "div.sk-item {\n",
       "  /* draw centered vertical line to link estimators */\n",
       "  background-image: linear-gradient(var(--sklearn-color-text-on-default-background), var(--sklearn-color-text-on-default-background));\n",
       "  background-size: 2px 100%;\n",
       "  background-repeat: no-repeat;\n",
       "  background-position: center center;\n",
       "}\n",
       "\n",
       "/* Parallel-specific style estimator block */\n",
       "\n",
       "#sk-container-id-3 div.sk-parallel-item::after {\n",
       "  content: \"\";\n",
       "  width: 100%;\n",
       "  border-bottom: 2px solid var(--sklearn-color-text-on-default-background);\n",
       "  flex-grow: 1;\n",
       "}\n",
       "\n",
       "#sk-container-id-3 div.sk-parallel {\n",
       "  display: flex;\n",
       "  align-items: stretch;\n",
       "  justify-content: center;\n",
       "  background-color: var(--sklearn-color-background);\n",
       "  position: relative;\n",
       "}\n",
       "\n",
       "#sk-container-id-3 div.sk-parallel-item {\n",
       "  display: flex;\n",
       "  flex-direction: column;\n",
       "}\n",
       "\n",
       "#sk-container-id-3 div.sk-parallel-item:first-child::after {\n",
       "  align-self: flex-end;\n",
       "  width: 50%;\n",
       "}\n",
       "\n",
       "#sk-container-id-3 div.sk-parallel-item:last-child::after {\n",
       "  align-self: flex-start;\n",
       "  width: 50%;\n",
       "}\n",
       "\n",
       "#sk-container-id-3 div.sk-parallel-item:only-child::after {\n",
       "  width: 0;\n",
       "}\n",
       "\n",
       "/* Serial-specific style estimator block */\n",
       "\n",
       "#sk-container-id-3 div.sk-serial {\n",
       "  display: flex;\n",
       "  flex-direction: column;\n",
       "  align-items: center;\n",
       "  background-color: var(--sklearn-color-background);\n",
       "  padding-right: 1em;\n",
       "  padding-left: 1em;\n",
       "}\n",
       "\n",
       "\n",
       "/* Toggleable style: style used for estimator/Pipeline/ColumnTransformer box that is\n",
       "clickable and can be expanded/collapsed.\n",
       "- Pipeline and ColumnTransformer use this feature and define the default style\n",
       "- Estimators will overwrite some part of the style using the `sk-estimator` class\n",
       "*/\n",
       "\n",
       "/* Pipeline and ColumnTransformer style (default) */\n",
       "\n",
       "#sk-container-id-3 div.sk-toggleable {\n",
       "  /* Default theme specific background. It is overwritten whether we have a\n",
       "  specific estimator or a Pipeline/ColumnTransformer */\n",
       "  background-color: var(--sklearn-color-background);\n",
       "}\n",
       "\n",
       "/* Toggleable label */\n",
       "#sk-container-id-3 label.sk-toggleable__label {\n",
       "  cursor: pointer;\n",
       "  display: block;\n",
       "  width: 100%;\n",
       "  margin-bottom: 0;\n",
       "  padding: 0.5em;\n",
       "  box-sizing: border-box;\n",
       "  text-align: center;\n",
       "}\n",
       "\n",
       "#sk-container-id-3 label.sk-toggleable__label-arrow:before {\n",
       "  /* Arrow on the left of the label */\n",
       "  content: \"▸\";\n",
       "  float: left;\n",
       "  margin-right: 0.25em;\n",
       "  color: var(--sklearn-color-icon);\n",
       "}\n",
       "\n",
       "#sk-container-id-3 label.sk-toggleable__label-arrow:hover:before {\n",
       "  color: var(--sklearn-color-text);\n",
       "}\n",
       "\n",
       "/* Toggleable content - dropdown */\n",
       "\n",
       "#sk-container-id-3 div.sk-toggleable__content {\n",
       "  max-height: 0;\n",
       "  max-width: 0;\n",
       "  overflow: hidden;\n",
       "  text-align: left;\n",
       "  /* unfitted */\n",
       "  background-color: var(--sklearn-color-unfitted-level-0);\n",
       "}\n",
       "\n",
       "#sk-container-id-3 div.sk-toggleable__content.fitted {\n",
       "  /* fitted */\n",
       "  background-color: var(--sklearn-color-fitted-level-0);\n",
       "}\n",
       "\n",
       "#sk-container-id-3 div.sk-toggleable__content pre {\n",
       "  margin: 0.2em;\n",
       "  border-radius: 0.25em;\n",
       "  color: var(--sklearn-color-text);\n",
       "  /* unfitted */\n",
       "  background-color: var(--sklearn-color-unfitted-level-0);\n",
       "}\n",
       "\n",
       "#sk-container-id-3 div.sk-toggleable__content.fitted pre {\n",
       "  /* unfitted */\n",
       "  background-color: var(--sklearn-color-fitted-level-0);\n",
       "}\n",
       "\n",
       "#sk-container-id-3 input.sk-toggleable__control:checked~div.sk-toggleable__content {\n",
       "  /* Expand drop-down */\n",
       "  max-height: 200px;\n",
       "  max-width: 100%;\n",
       "  overflow: auto;\n",
       "}\n",
       "\n",
       "#sk-container-id-3 input.sk-toggleable__control:checked~label.sk-toggleable__label-arrow:before {\n",
       "  content: \"▾\";\n",
       "}\n",
       "\n",
       "/* Pipeline/ColumnTransformer-specific style */\n",
       "\n",
       "#sk-container-id-3 div.sk-label input.sk-toggleable__control:checked~label.sk-toggleable__label {\n",
       "  color: var(--sklearn-color-text);\n",
       "  background-color: var(--sklearn-color-unfitted-level-2);\n",
       "}\n",
       "\n",
       "#sk-container-id-3 div.sk-label.fitted input.sk-toggleable__control:checked~label.sk-toggleable__label {\n",
       "  background-color: var(--sklearn-color-fitted-level-2);\n",
       "}\n",
       "\n",
       "/* Estimator-specific style */\n",
       "\n",
       "/* Colorize estimator box */\n",
       "#sk-container-id-3 div.sk-estimator input.sk-toggleable__control:checked~label.sk-toggleable__label {\n",
       "  /* unfitted */\n",
       "  background-color: var(--sklearn-color-unfitted-level-2);\n",
       "}\n",
       "\n",
       "#sk-container-id-3 div.sk-estimator.fitted input.sk-toggleable__control:checked~label.sk-toggleable__label {\n",
       "  /* fitted */\n",
       "  background-color: var(--sklearn-color-fitted-level-2);\n",
       "}\n",
       "\n",
       "#sk-container-id-3 div.sk-label label.sk-toggleable__label,\n",
       "#sk-container-id-3 div.sk-label label {\n",
       "  /* The background is the default theme color */\n",
       "  color: var(--sklearn-color-text-on-default-background);\n",
       "}\n",
       "\n",
       "/* On hover, darken the color of the background */\n",
       "#sk-container-id-3 div.sk-label:hover label.sk-toggleable__label {\n",
       "  color: var(--sklearn-color-text);\n",
       "  background-color: var(--sklearn-color-unfitted-level-2);\n",
       "}\n",
       "\n",
       "/* Label box, darken color on hover, fitted */\n",
       "#sk-container-id-3 div.sk-label.fitted:hover label.sk-toggleable__label.fitted {\n",
       "  color: var(--sklearn-color-text);\n",
       "  background-color: var(--sklearn-color-fitted-level-2);\n",
       "}\n",
       "\n",
       "/* Estimator label */\n",
       "\n",
       "#sk-container-id-3 div.sk-label label {\n",
       "  font-family: monospace;\n",
       "  font-weight: bold;\n",
       "  display: inline-block;\n",
       "  line-height: 1.2em;\n",
       "}\n",
       "\n",
       "#sk-container-id-3 div.sk-label-container {\n",
       "  text-align: center;\n",
       "}\n",
       "\n",
       "/* Estimator-specific */\n",
       "#sk-container-id-3 div.sk-estimator {\n",
       "  font-family: monospace;\n",
       "  border: 1px dotted var(--sklearn-color-border-box);\n",
       "  border-radius: 0.25em;\n",
       "  box-sizing: border-box;\n",
       "  margin-bottom: 0.5em;\n",
       "  /* unfitted */\n",
       "  background-color: var(--sklearn-color-unfitted-level-0);\n",
       "}\n",
       "\n",
       "#sk-container-id-3 div.sk-estimator.fitted {\n",
       "  /* fitted */\n",
       "  background-color: var(--sklearn-color-fitted-level-0);\n",
       "}\n",
       "\n",
       "/* on hover */\n",
       "#sk-container-id-3 div.sk-estimator:hover {\n",
       "  /* unfitted */\n",
       "  background-color: var(--sklearn-color-unfitted-level-2);\n",
       "}\n",
       "\n",
       "#sk-container-id-3 div.sk-estimator.fitted:hover {\n",
       "  /* fitted */\n",
       "  background-color: var(--sklearn-color-fitted-level-2);\n",
       "}\n",
       "\n",
       "/* Specification for estimator info (e.g. \"i\" and \"?\") */\n",
       "\n",
       "/* Common style for \"i\" and \"?\" */\n",
       "\n",
       ".sk-estimator-doc-link,\n",
       "a:link.sk-estimator-doc-link,\n",
       "a:visited.sk-estimator-doc-link {\n",
       "  float: right;\n",
       "  font-size: smaller;\n",
       "  line-height: 1em;\n",
       "  font-family: monospace;\n",
       "  background-color: var(--sklearn-color-background);\n",
       "  border-radius: 1em;\n",
       "  height: 1em;\n",
       "  width: 1em;\n",
       "  text-decoration: none !important;\n",
       "  margin-left: 1ex;\n",
       "  /* unfitted */\n",
       "  border: var(--sklearn-color-unfitted-level-1) 1pt solid;\n",
       "  color: var(--sklearn-color-unfitted-level-1);\n",
       "}\n",
       "\n",
       ".sk-estimator-doc-link.fitted,\n",
       "a:link.sk-estimator-doc-link.fitted,\n",
       "a:visited.sk-estimator-doc-link.fitted {\n",
       "  /* fitted */\n",
       "  border: var(--sklearn-color-fitted-level-1) 1pt solid;\n",
       "  color: var(--sklearn-color-fitted-level-1);\n",
       "}\n",
       "\n",
       "/* On hover */\n",
       "div.sk-estimator:hover .sk-estimator-doc-link:hover,\n",
       ".sk-estimator-doc-link:hover,\n",
       "div.sk-label-container:hover .sk-estimator-doc-link:hover,\n",
       ".sk-estimator-doc-link:hover {\n",
       "  /* unfitted */\n",
       "  background-color: var(--sklearn-color-unfitted-level-3);\n",
       "  color: var(--sklearn-color-background);\n",
       "  text-decoration: none;\n",
       "}\n",
       "\n",
       "div.sk-estimator.fitted:hover .sk-estimator-doc-link.fitted:hover,\n",
       ".sk-estimator-doc-link.fitted:hover,\n",
       "div.sk-label-container:hover .sk-estimator-doc-link.fitted:hover,\n",
       ".sk-estimator-doc-link.fitted:hover {\n",
       "  /* fitted */\n",
       "  background-color: var(--sklearn-color-fitted-level-3);\n",
       "  color: var(--sklearn-color-background);\n",
       "  text-decoration: none;\n",
       "}\n",
       "\n",
       "/* Span, style for the box shown on hovering the info icon */\n",
       ".sk-estimator-doc-link span {\n",
       "  display: none;\n",
       "  z-index: 9999;\n",
       "  position: relative;\n",
       "  font-weight: normal;\n",
       "  right: .2ex;\n",
       "  padding: .5ex;\n",
       "  margin: .5ex;\n",
       "  width: min-content;\n",
       "  min-width: 20ex;\n",
       "  max-width: 50ex;\n",
       "  color: var(--sklearn-color-text);\n",
       "  box-shadow: 2pt 2pt 4pt #999;\n",
       "  /* unfitted */\n",
       "  background: var(--sklearn-color-unfitted-level-0);\n",
       "  border: .5pt solid var(--sklearn-color-unfitted-level-3);\n",
       "}\n",
       "\n",
       ".sk-estimator-doc-link.fitted span {\n",
       "  /* fitted */\n",
       "  background: var(--sklearn-color-fitted-level-0);\n",
       "  border: var(--sklearn-color-fitted-level-3);\n",
       "}\n",
       "\n",
       ".sk-estimator-doc-link:hover span {\n",
       "  display: block;\n",
       "}\n",
       "\n",
       "/* \"?\"-specific style due to the `<a>` HTML tag */\n",
       "\n",
       "#sk-container-id-3 a.estimator_doc_link {\n",
       "  float: right;\n",
       "  font-size: 1rem;\n",
       "  line-height: 1em;\n",
       "  font-family: monospace;\n",
       "  background-color: var(--sklearn-color-background);\n",
       "  border-radius: 1rem;\n",
       "  height: 1rem;\n",
       "  width: 1rem;\n",
       "  text-decoration: none;\n",
       "  /* unfitted */\n",
       "  color: var(--sklearn-color-unfitted-level-1);\n",
       "  border: var(--sklearn-color-unfitted-level-1) 1pt solid;\n",
       "}\n",
       "\n",
       "#sk-container-id-3 a.estimator_doc_link.fitted {\n",
       "  /* fitted */\n",
       "  border: var(--sklearn-color-fitted-level-1) 1pt solid;\n",
       "  color: var(--sklearn-color-fitted-level-1);\n",
       "}\n",
       "\n",
       "/* On hover */\n",
       "#sk-container-id-3 a.estimator_doc_link:hover {\n",
       "  /* unfitted */\n",
       "  background-color: var(--sklearn-color-unfitted-level-3);\n",
       "  color: var(--sklearn-color-background);\n",
       "  text-decoration: none;\n",
       "}\n",
       "\n",
       "#sk-container-id-3 a.estimator_doc_link.fitted:hover {\n",
       "  /* fitted */\n",
       "  background-color: var(--sklearn-color-fitted-level-3);\n",
       "}\n",
       "</style><div id=\"sk-container-id-3\" class=\"sk-top-container\"><div class=\"sk-text-repr-fallback\"><pre>RandomForestRegressor(random_state=42)</pre><b>In a Jupyter environment, please rerun this cell to show the HTML representation or trust the notebook. <br />On GitHub, the HTML representation is unable to render, please try loading this page with nbviewer.org.</b></div><div class=\"sk-container\" hidden><div class=\"sk-item\"><div class=\"sk-estimator fitted sk-toggleable\"><input class=\"sk-toggleable__control sk-hidden--visually\" id=\"sk-estimator-id-3\" type=\"checkbox\" checked><label for=\"sk-estimator-id-3\" class=\"sk-toggleable__label fitted sk-toggleable__label-arrow fitted\">&nbsp;&nbsp;RandomForestRegressor<a class=\"sk-estimator-doc-link fitted\" rel=\"noreferrer\" target=\"_blank\" href=\"https://scikit-learn.org/1.5/modules/generated/sklearn.ensemble.RandomForestRegressor.html\">?<span>Documentation for RandomForestRegressor</span></a><span class=\"sk-estimator-doc-link fitted\">i<span>Fitted</span></span></label><div class=\"sk-toggleable__content fitted\"><pre>RandomForestRegressor(random_state=42)</pre></div> </div></div></div></div>"
      ],
      "text/plain": [
       "RandomForestRegressor(random_state=42)"
      ]
     },
     "execution_count": 64,
     "metadata": {},
     "output_type": "execute_result"
    }
   ],
   "source": [
    "rf = RandomForestRegressor(random_state=42)\n",
    "rf.fit(X_train, y_train_log)"
   ]
  },
  {
   "cell_type": "code",
   "execution_count": null,
   "metadata": {},
   "outputs": [],
   "source": [
    "y_pred_log = rf.predict(X_test)\n",
    "y_pred_rf = np.expm1(y_pred_log)"
   ]
  },
  {
   "cell_type": "code",
   "execution_count": null,
   "metadata": {},
   "outputs": [
    {
     "name": "stdout",
     "output_type": "stream",
     "text": [
      "Random Forest - RMSE: 5781.170190134396\n",
      "Random Forest - MAE: 3134.29563672731\n",
      "Random Forest - R2: 0.7981562691884041\n"
     ]
    }
   ],
   "source": [
    "mse_rf = mean_squared_error(y_test, y_pred_rf)\n",
    "rmse_rf = np.sqrt(mse_rf)\n",
    "mae_rf = mean_absolute_error(y_test, y_pred_rf)\n",
    "r2_rf = r2_score(y_test, y_pred_rf)\n",
    "\n",
    "print(f\"Random Forest - RMSE: {rmse_rf}\")\n",
    "print(f\"Random Forest - MAE: {mae_rf}\")\n",
    "print(f\"Random Forest - R2: {r2_rf}\")"
   ]
  },
  {
   "cell_type": "code",
   "execution_count": null,
   "metadata": {},
   "outputs": [
    {
     "name": "stdout",
     "output_type": "stream",
     "text": [
      "--- Baseline LR ---\n",
      "RMSE: 9460.38, MAE: 6450.23, R²: 0.4595\n",
      "--- XGBoost ---\n",
      "RMSE: 5298.73, MAE: 3050.66, R²: 0.8304\n",
      "--- Random Forest ---\n",
      "RMSE: 5781.17, MAE: 3134.30, R²: 0.7982\n"
     ]
    }
   ],
   "source": [
    "print(f\"--- Baseline LR ---\")\n",
    "print(f\"RMSE: {rmse_lr:.2f}, MAE: {mae_lr:.2f}, R²: {r2_lr:.4f}\")\n",
    "\n",
    "print(f\"--- XGBoost ---\")\n",
    "print(f\"RMSE: {rmse_xgb:.2f}, MAE: {mae_xgb:.2f}, R²: {r2_xgb:.4f}\")\n",
    "\n",
    "print(f\"--- Random Forest ---\")\n",
    "print(f\"RMSE: {rmse_rf:.2f}, MAE: {mae_rf:.2f}, R²: {r2_rf:.4f}\")"
   ]
  },
  {
   "cell_type": "markdown",
   "metadata": {},
   "source": [
    "- Vamos a comprobar si hay sobreajuste"
   ]
  },
  {
   "cell_type": "code",
   "execution_count": null,
   "metadata": {},
   "outputs": [
    {
     "name": "stdout",
     "output_type": "stream",
     "text": [
      "Train - RMSE: 3060.95, MAE: 1646.63\n",
      "Test  - RMSE: 5781.17, MAE: 3134.30\n"
     ]
    }
   ],
   "source": [
    "# Modelo entrenado, por ejemplo, rf_model\n",
    "# 1) Predicciones en train\n",
    "y_pred_train_log = rf.predict(X_train)\n",
    "y_pred_train = np.expm1(y_pred_train_log)  # volver a escala original\n",
    "mse_train = mean_squared_error(y_train, y_pred_train)\n",
    "rmse_train = np.sqrt(mse_train)\n",
    "mae_train = mean_absolute_error(y_train, y_pred_train)\n",
    "\n",
    "print(f\"Train - RMSE: {rmse_train:.2f}, MAE: {mae_train:.2f}\")\n",
    "\n",
    "# 2) Predicciones en test\n",
    "y_pred_test_log = rf.predict(X_test)\n",
    "y_pred_test = np.expm1(y_pred_test_log)\n",
    "mse_test = mean_squared_error(y_test, y_pred_test)\n",
    "rmse_test = np.sqrt(mse_test)\n",
    "mae_test = mean_absolute_error(y_test, y_pred_test)\n",
    "\n",
    "print(f\"Test  - RMSE: {rmse_test:.2f}, MAE: {mae_test:.2f}\")\n"
   ]
  },
  {
   "cell_type": "code",
   "execution_count": null,
   "metadata": {},
   "outputs": [],
   "source": [
    "def rmse_in_original(y_true_log, y_pred_log):\n",
    "    y_true = np.expm1(y_true_log)\n",
    "    y_pred = np.expm1(y_pred_log)\n",
    "    return np.sqrt(mean_squared_error(y_true, y_pred))\n",
    "\n",
    "rmse_scorer = make_scorer(rmse_in_original, greater_is_better=False)"
   ]
  },
  {
   "cell_type": "code",
   "execution_count": null,
   "metadata": {},
   "outputs": [
    {
     "name": "stdout",
     "output_type": "stream",
     "text": [
      "Fitting 5 folds for each of 324 candidates, totalling 1620 fits\n"
     ]
    },
    {
     "name": "stderr",
     "output_type": "stream",
     "text": [
      "c:\\Users\\Usuario\\AppData\\Local\\Programs\\Python\\Python312\\Lib\\site-packages\\sklearn\\model_selection\\_validation.py:540: FitFailedWarning: \n",
      "540 fits failed out of a total of 1620.\n",
      "The score on these train-test partitions for these parameters will be set to nan.\n",
      "If these failures are not expected, you can try to debug them by setting error_score='raise'.\n",
      "\n",
      "Below are more details about the failures:\n",
      "--------------------------------------------------------------------------------\n",
      "276 fits failed with the following error:\n",
      "Traceback (most recent call last):\n",
      "  File \"c:\\Users\\Usuario\\AppData\\Local\\Programs\\Python\\Python312\\Lib\\site-packages\\sklearn\\model_selection\\_validation.py\", line 888, in _fit_and_score\n",
      "    estimator.fit(X_train, y_train, **fit_params)\n",
      "  File \"c:\\Users\\Usuario\\AppData\\Local\\Programs\\Python\\Python312\\Lib\\site-packages\\sklearn\\base.py\", line 1466, in wrapper\n",
      "    estimator._validate_params()\n",
      "  File \"c:\\Users\\Usuario\\AppData\\Local\\Programs\\Python\\Python312\\Lib\\site-packages\\sklearn\\base.py\", line 666, in _validate_params\n",
      "    validate_parameter_constraints(\n",
      "  File \"c:\\Users\\Usuario\\AppData\\Local\\Programs\\Python\\Python312\\Lib\\site-packages\\sklearn\\utils\\_param_validation.py\", line 95, in validate_parameter_constraints\n",
      "    raise InvalidParameterError(\n",
      "sklearn.utils._param_validation.InvalidParameterError: The 'max_features' parameter of RandomForestRegressor must be an int in the range [1, inf), a float in the range (0.0, 1.0], a str among {'sqrt', 'log2'} or None. Got 'auto' instead.\n",
      "\n",
      "--------------------------------------------------------------------------------\n",
      "264 fits failed with the following error:\n",
      "Traceback (most recent call last):\n",
      "  File \"c:\\Users\\Usuario\\AppData\\Local\\Programs\\Python\\Python312\\Lib\\site-packages\\sklearn\\model_selection\\_validation.py\", line 888, in _fit_and_score\n",
      "    estimator.fit(X_train, y_train, **fit_params)\n",
      "  File \"c:\\Users\\Usuario\\AppData\\Local\\Programs\\Python\\Python312\\Lib\\site-packages\\sklearn\\base.py\", line 1466, in wrapper\n",
      "    estimator._validate_params()\n",
      "  File \"c:\\Users\\Usuario\\AppData\\Local\\Programs\\Python\\Python312\\Lib\\site-packages\\sklearn\\base.py\", line 666, in _validate_params\n",
      "    validate_parameter_constraints(\n",
      "  File \"c:\\Users\\Usuario\\AppData\\Local\\Programs\\Python\\Python312\\Lib\\site-packages\\sklearn\\utils\\_param_validation.py\", line 95, in validate_parameter_constraints\n",
      "    raise InvalidParameterError(\n",
      "sklearn.utils._param_validation.InvalidParameterError: The 'max_features' parameter of RandomForestRegressor must be an int in the range [1, inf), a float in the range (0.0, 1.0], a str among {'log2', 'sqrt'} or None. Got 'auto' instead.\n",
      "\n",
      "  warnings.warn(some_fits_failed_message, FitFailedWarning)\n",
      "c:\\Users\\Usuario\\AppData\\Local\\Programs\\Python\\Python312\\Lib\\site-packages\\sklearn\\model_selection\\_search.py:1103: UserWarning: One or more of the test scores are non-finite: [            nan             nan             nan             nan\n",
      "             nan             nan             nan             nan\n",
      "             nan             nan             nan             nan\n",
      "             nan             nan             nan             nan\n",
      "             nan             nan             nan             nan\n",
      "             nan             nan             nan             nan\n",
      "             nan             nan             nan  -8976.53021253\n",
      "  -8926.4238454   -8909.36349474  -9015.55542603  -8990.18522949\n",
      "  -8976.79501007  -9483.95452637  -9440.11886686  -9435.13206345\n",
      "  -9234.05910474  -9198.47654194  -9194.96769739  -9237.50826166\n",
      "  -9225.24674105  -9222.83981631  -9602.52590289  -9573.45392444\n",
      "  -9564.11112456  -9820.92195157  -9796.77704262  -9781.58169723\n",
      "  -9820.92195157  -9796.77704262  -9781.58169723  -9891.69364088\n",
      "  -9855.846286    -9854.85065554  -9201.1241614   -9157.18646583\n",
      "  -9128.36146     -9213.59742337  -9190.66244565  -9177.08551241\n",
      "  -9687.32963433  -9668.84940306  -9658.48126307  -9461.52988292\n",
      "  -9443.47323071  -9441.17914881  -9480.77679895  -9473.54391759\n",
      "  -9473.86266176  -9873.07231489  -9849.11898584  -9850.07683332\n",
      " -10145.99254121 -10118.25658856 -10109.26534121 -10145.99254121\n",
      " -10118.25658856 -10109.26534121 -10212.67215988 -10201.97215208\n",
      " -10187.22400841             nan             nan             nan\n",
      "             nan             nan             nan             nan\n",
      "             nan             nan             nan             nan\n",
      "             nan             nan             nan             nan\n",
      "             nan             nan             nan             nan\n",
      "             nan             nan             nan             nan\n",
      "             nan             nan             nan             nan\n",
      " -12761.9255715  -12732.2093974  -12724.58548152 -12761.93964375\n",
      " -12732.19880997 -12724.5609616  -12762.22751757 -12732.47582953\n",
      " -12724.80785748 -12762.05555869 -12732.28108797 -12724.60597748\n",
      " -12762.06135846 -12732.27806262 -12724.60403019 -12762.38271494\n",
      " -12732.5643945  -12724.83856515 -12762.74362434 -12732.8360361\n",
      " -12725.0868119  -12762.74362434 -12732.8360361  -12725.0868119\n",
      " -12762.99607538 -12732.99397192 -12725.2287142  -13031.44648868\n",
      " -12963.61856918 -12939.21613643 -13031.37777746 -12963.62439206\n",
      " -12939.21484865 -13031.43785608 -12963.80990231 -12939.41122088\n",
      " -13031.14814526 -12963.54647106 -12939.16617834 -13031.14347158\n",
      " -12963.53913497 -12939.16275174 -13031.29567468 -12963.72409122\n",
      " -12939.33662655 -13031.86705058 -12964.07363372 -12939.61894292\n",
      " -13031.86705058 -12964.07363372 -12939.61894292 -13031.98495667\n",
      " -12964.17262183 -12939.71441803             nan             nan\n",
      "             nan             nan             nan             nan\n",
      "             nan             nan             nan             nan\n",
      "             nan             nan             nan             nan\n",
      "             nan             nan             nan             nan\n",
      "             nan             nan             nan             nan\n",
      "             nan             nan             nan             nan\n",
      "             nan -12310.60340678 -12249.11405291 -12269.70306644\n",
      " -12311.54862233 -12248.17992822 -12270.09553184 -12314.01244964\n",
      " -12257.56180067 -12278.43726291 -12318.16283566 -12252.87134544\n",
      " -12275.39053244 -12316.98058764 -12252.17110477 -12273.99897405\n",
      " -12313.71419953 -12257.79733821 -12279.46589001 -12313.48780413\n",
      " -12250.90817498 -12276.96577924 -12313.48780413 -12250.90817498\n",
      " -12276.96577924 -12309.87124238 -12258.3485111  -12281.81017007\n",
      " -12700.08002719 -12614.40340188 -12599.22073486 -12690.7826033\n",
      " -12610.16080904 -12594.30063381 -12693.29380718 -12621.33811019\n",
      " -12602.94877168 -12698.15640589 -12614.43333564 -12597.35768758\n",
      " -12693.00298012 -12614.09565029 -12596.63496823 -12694.89131383\n",
      " -12621.54189836 -12603.13009495 -12700.52375067 -12627.03621128\n",
      " -12607.61883293 -12700.52375067 -12627.03621128 -12607.61883293\n",
      " -12701.96035761 -12626.6102186  -12607.64276476             nan\n",
      "             nan             nan             nan             nan\n",
      "             nan             nan             nan             nan\n",
      "             nan             nan             nan             nan\n",
      "             nan             nan             nan             nan\n",
      "             nan             nan             nan             nan\n",
      "             nan             nan             nan             nan\n",
      "             nan             nan -11588.82871007 -11503.60216212\n",
      " -11512.10621028 -11583.27243656 -11508.73082063 -11513.536312\n",
      " -11636.64917491 -11552.73405351 -11564.17972116 -11623.47424637\n",
      " -11525.43427823 -11534.99508138 -11606.74104827 -11529.33169112\n",
      " -11534.53306552 -11653.55628116 -11565.18677038 -11579.36896251\n",
      " -11680.08587828 -11593.40662041 -11605.9932298  -11680.08587828\n",
      " -11593.40662041 -11605.9932298  -11669.94540906 -11595.28516463\n",
      " -11608.67418386 -12062.20575001 -12000.74760136 -11961.89479202\n",
      " -12086.38234941 -12018.28887995 -11982.3751746  -12130.92077738\n",
      " -12065.08560596 -12025.8117786  -12090.70786055 -12033.67689616\n",
      " -11995.63504935 -12101.73673302 -12033.3365551  -11998.37212733\n",
      " -12122.57662788 -12062.82002688 -12028.82014708 -12151.65743652\n",
      " -12085.13636556 -12046.60108145 -12151.65743652 -12085.13636556\n",
      " -12046.60108145 -12156.40204725 -12091.71707507 -12052.01959705]\n",
      "  warnings.warn(\n"
     ]
    },
    {
     "name": "stdout",
     "output_type": "stream",
     "text": [
      "Mejores parámetros: {'max_depth': None, 'max_features': 'sqrt', 'min_samples_leaf': 1, 'min_samples_split': 2, 'n_estimators': 300}\n",
      "Mejor score: -8909.363494742267\n",
      "Mejor RMSE en CV escala original: 8909.36\n"
     ]
    }
   ],
   "source": [
    "param_grid = {\n",
    "    \"n_estimators\": [100, 200, 300],\n",
    "    \"max_depth\": [None, 3 ,5, 8],\n",
    "    \"min_samples_split\": [2, 5, 10],\n",
    "    \"min_samples_leaf\": [1, 2, 4],\n",
    "    \"max_features\": [\"auto\", \"sqrt\", \"log2\"],\n",
    "}\n",
    "\n",
    "kf = KFold(n_splits=5, shuffle=True, random_state=42)\n",
    "\n",
    "grid_rf = GridSearchCV(\n",
    "    estimator=rf,\n",
    "    param_grid=param_grid,\n",
    "    scoring=rmse_scorer,\n",
    "    cv=kf,\n",
    "    n_jobs=-1,\n",
    "    verbose=2,\n",
    ")\n",
    "\n",
    "grid_rf.fit(X_train, y_train_log)\n",
    "print(\"Mejores parámetros:\", grid_rf.best_params_)\n",
    "print(\"Mejor score:\", grid_rf.best_score_)\n",
    "rmse_cv_best_rf = -grid_rf.best_score_\n",
    "print(f\"Mejor RMSE en CV escala original: {rmse_cv_best_rf:.2f}\")"
   ]
  },
  {
   "cell_type": "code",
   "execution_count": null,
   "metadata": {},
   "outputs": [
    {
     "name": "stdout",
     "output_type": "stream",
     "text": [
      "RF en test con CV - RMSE: 8812.65, MAE: 5318.45, R²: 0.531\n"
     ]
    }
   ],
   "source": [
    "best_rf = grid_rf.best_estimator_\n",
    "\n",
    "# Predecir en escala log\n",
    "y_pred_log = best_rf.predict(X_test)\n",
    "\n",
    "# Convertir a original\n",
    "y_pred = np.expm1(y_pred_log)\n",
    "\n",
    "# Mides el error en la escala original\n",
    "\n",
    "rmse_test = np.sqrt(mean_squared_error(y_test, y_pred))\n",
    "mae_test  = mean_absolute_error(y_test, y_pred)\n",
    "r2_test   = r2_score(y_test, y_pred)\n",
    "\n",
    "print(f\"RF en test con CV - RMSE: {rmse_test:.2f}, MAE: {mae_test:.2f}, R²: {r2_test:.3f}\")\n"
   ]
  },
  {
   "cell_type": "code",
   "execution_count": null,
   "metadata": {},
   "outputs": [
    {
     "name": "stdout",
     "output_type": "stream",
     "text": [
      "RMSE en CV: [5799.72498295 6187.24183298 5885.48897122]\n",
      "Media RMSE: 5957.485262383864\n"
     ]
    }
   ],
   "source": [
    "scores = cross_val_score(\n",
    "    rf, \n",
    "    X_train, \n",
    "    y_train_log, \n",
    "    scoring=rmse_scorer,\n",
    "    cv=3\n",
    ")\n",
    "\n",
    "# Se obtiene un array de valores negativos\n",
    "scores_rmse = -scores  \n",
    "print(\"RMSE en CV:\", scores_rmse)\n",
    "print(\"Media RMSE:\", scores_rmse.mean())"
   ]
  },
  {
   "cell_type": "code",
   "execution_count": null,
   "metadata": {},
   "outputs": [],
   "source": [
    "param_grid = {\n",
    "    'max_depth': [3, 5],\n",
    "    'learning_rate': [0.01, 0.1],\n",
    "    'subsample': [1.0, 0.8],\n",
    "    'colsample_bytree': [1.0, 0.8]\n",
    "}\n",
    "\n",
    "kf = KFold(n_splits=3, shuffle=True, random_state=42)\n",
    "\n",
    "grid_xgb = GridSearchCV(\n",
    "    estimator=xgb_model,\n",
    "    param_grid=param_grid,\n",
    "    scoring=rmse_scorer,\n",
    "    cv=kf,\n",
    "    n_jobs=-1,\n",
    "    verbose=2\n",
    ")"
   ]
  },
  {
   "cell_type": "code",
   "execution_count": null,
   "metadata": {},
   "outputs": [
    {
     "name": "stdout",
     "output_type": "stream",
     "text": [
      "Fitting 3 folds for each of 16 candidates, totalling 48 fits\n",
      "Mejores parámetros: {'colsample_bytree': 1.0, 'learning_rate': 0.01, 'max_depth': 3, 'subsample': 1.0}\n",
      "Mejor score (neg RMSE): nan\n",
      "Mejor RMSE (positivo) en CV: nan\n"
     ]
    },
    {
     "name": "stderr",
     "output_type": "stream",
     "text": [
      "c:\\Users\\Usuario\\AppData\\Local\\Programs\\Python\\Python312\\Lib\\site-packages\\sklearn\\model_selection\\_search.py:1103: UserWarning: One or more of the test scores are non-finite: [nan nan nan nan nan nan nan nan nan nan nan nan nan nan nan nan]\n",
      "  warnings.warn(\n"
     ]
    }
   ],
   "source": [
    "grid_xgb.fit(X_train, y_train)\n",
    "print(\"Mejores parámetros:\", grid_xgb.best_params_)\n",
    "print(\"Mejor score (neg RMSE):\", grid_xgb.best_score_)\n",
    "best_rmse = -grid_xgb.best_score_\n",
    "print(f\"Mejor RMSE (positivo) en CV: {best_rmse:.2f}\")\n"
   ]
  },
  {
   "cell_type": "code",
   "execution_count": null,
   "metadata": {},
   "outputs": [
    {
     "data": {
      "text/plain": [
       "<function list.index(value, start=0, stop=9223372036854775807, /)>"
      ]
     },
     "execution_count": 90,
     "metadata": {},
     "output_type": "execute_result"
    }
   ],
   "source": []
  },
  {
   "cell_type": "code",
   "execution_count": null,
   "metadata": {},
   "outputs": [],
   "source": []
  },
  {
   "cell_type": "code",
   "execution_count": null,
   "metadata": {},
   "outputs": [],
   "source": []
  },
  {
   "cell_type": "code",
   "execution_count": null,
   "metadata": {},
   "outputs": [
    {
     "name": "stderr",
     "output_type": "stream",
     "text": [
      "C:\\Users\\Usuario\\AppData\\Local\\Temp\\ipykernel_3056\\3207993305.py:5: FutureWarning: \n",
      "\n",
      "Passing `palette` without assigning `hue` is deprecated and will be removed in v0.14.0. Assign the `y` variable to `hue` and set `legend=False` for the same effect.\n",
      "\n",
      "  sns.barplot(x=feature_importances.importance[:20], y=feature_importances.feature[:20], palette=\"viridis\")\n"
     ]
    },
    {
     "data": {
      "image/png": "[encoded data removed]",
      "text/plain": [
       "<Figure size 1000x600 with 1 Axes>"
      ]
     },
     "metadata": {},
     "output_type": "display_data"
    }
   ],
   "source": [
    "feature_importances = pd.DataFrame({\"feature\": X_train.columns, \"importance\": rf.feature_importances_})\n",
    "feature_importances = feature_importances.sort_values(by=\"importance\", ascending=False)\n",
    "\n",
    "plt.figure(figsize=(10, 6))\n",
    "sns.barplot(x=feature_importances.importance[:20], y=feature_importances.feature[:20], palette=\"viridis\")\n",
    "plt.xlabel(\"Importancia\")\n",
    "plt.title(\"Feature Importance - Random Forest\")\n",
    "plt.show()"
   ]
  },
  {
   "cell_type": "code",
   "execution_count": null,
   "metadata": {},
   "outputs": [
    {
     "name": "stderr",
     "output_type": "stream",
     "text": [
      "C:\\Users\\Usuario\\AppData\\Local\\Temp\\ipykernel_3056\\1807826985.py:11: FutureWarning: \n",
      "\n",
      "Passing `palette` without assigning `hue` is deprecated and will be removed in v0.14.0. Assign the `y` variable to `hue` and set `legend=False` for the same effect.\n",
      "\n",
      "  sns.barplot(x=feature_importances_xgb.importance[:20], y=feature_importances_xgb.feature[:20], palette=\"coolwarm\")\n"
     ]
    },
    {
     "data": {
      "image/png": "[encoded data removed]",
      "text/plain": [
       "<Figure size 1000x600 with 1 Axes>"
      ]
     },
     "metadata": {},
     "output_type": "display_data"
    }
   ],
   "source": [
    "# Entrenar un modelo XGBoost\n",
    "xgb = XGBRegressor(n_estimators=100, random_state=42)\n",
    "xgb.fit(X_train, y_train)\n",
    "\n",
    "# Importancia de features\n",
    "feature_importances_xgb = pd.DataFrame({'feature': X_train.columns, 'importance': xgb.feature_importances_})\n",
    "feature_importances_xgb = feature_importances_xgb.sort_values(by='importance', ascending=False)\n",
    "\n",
    "# Graficar\n",
    "plt.figure(figsize=(10, 6))\n",
    "sns.barplot(x=feature_importances_xgb.importance[:20], y=feature_importances_xgb.feature[:20], palette=\"coolwarm\")\n",
    "plt.xlabel(\"Importancia\")\n",
    "plt.title(\"Feature Importance - XGBoost\")\n",
    "plt.show()\n"
   ]
  },
  {
   "cell_type": "markdown",
   "metadata": {},
   "source": [
    "# ✅ Step 6: Selección e instanciación de modelos. Baseline.\n"
   ]
  },
  {
   "cell_type": "code",
   "execution_count": null,
   "metadata": {},
   "outputs": [],
   "source": []
  },
  {
   "cell_type": "code",
   "execution_count": null,
   "metadata": {},
   "outputs": [],
   "source": []
  },
  {
   "cell_type": "code",
   "execution_count": null,
   "metadata": {},
   "outputs": [],
   "source": []
  },
  {
   "cell_type": "code",
   "execution_count": null,
   "metadata": {},
   "outputs": [],
   "source": []
  },
  {
   "cell_type": "markdown",
   "metadata": {},
   "source": [
    "# ✅ Step 8: Comparación de modelos.\n"
   ]
  },
  {
   "cell_type": "code",
   "execution_count": null,
   "metadata": {},
   "outputs": [],
   "source": []
  },
  {
   "cell_type": "code",
   "execution_count": null,
   "metadata": {},
   "outputs": [],
   "source": []
  },
  {
   "cell_type": "markdown",
   "metadata": {},
   "source": [
    "# ✅ Step 9: Selección del modelo - Optimización de hiperparámetros.\n"
   ]
  },
  {
   "cell_type": "code",
   "execution_count": null,
   "metadata": {},
   "outputs": [],
   "source": []
  },
  {
   "cell_type": "code",
   "execution_count": null,
   "metadata": {},
   "outputs": [],
   "source": []
  },
  {
   "cell_type": "markdown",
   "metadata": {},
   "source": [
    "# ✅ Step 10: Evaluación contra test.\n"
   ]
  },
  {
   "cell_type": "code",
   "execution_count": null,
   "metadata": {},
   "outputs": [],
   "source": []
  },
  {
   "cell_type": "code",
   "execution_count": null,
   "metadata": {},
   "outputs": [],
   "source": []
  },
  {
   "cell_type": "markdown",
   "metadata": {},
   "source": [
    "# ✅ Step 11: Análisis de errores.\n"
   ]
  },
  {
   "cell_type": "code",
   "execution_count": null,
   "metadata": {},
   "outputs": [],
   "source": []
  },
  {
   "cell_type": "markdown",
   "metadata": {},
   "source": [
    "# ✅ Step 12: Persistencia del modelo en disco."
   ]
  },
  {
   "cell_type": "code",
   "execution_count": null,
   "metadata": {},
   "outputs": [],
   "source": []
  }
 ],
 "metadata": {
  "kernelspec": {
   "display_name": "Python 3",
   "language": "python",
   "name": "python3"
  },
  "language_info": {
   "codemirror_mode": {
    "name": "ipython",
    "version": 3
   },
   "file_extension": ".py",
   "mimetype": "text/x-python",
   "name": "python",
   "nbconvert_exporter": "python",
   "pygments_lexer": "ipython3",
   "version": "3.12.7"
  }
 },
 "nbformat": 4,
 "nbformat_minor": 2
}
